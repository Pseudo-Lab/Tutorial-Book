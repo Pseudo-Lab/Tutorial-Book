{
  "nbformat": 4,
  "nbformat_minor": 0,
  "metadata": {
    "colab": {
      "name": "Ch2-EDA.ipynb",
      "provenance": [],
      "collapsed_sections": [],
      "authorship_tag": "ABX9TyP1O8n/RVcmCoDCL5r9VbDa"
    },
    "kernelspec": {
      "name": "python3",
      "display_name": "Python 3"
    },
    "widgets": {
      "application/vnd.jupyter.widget-state+json": {
        "55876bba14a74ed08ab3cca918d0d3e2": {
          "model_module": "@jupyter-widgets/controls",
          "model_name": "HBoxModel",
          "state": {
            "_view_name": "HBoxView",
            "_dom_classes": [],
            "_model_name": "HBoxModel",
            "_view_module": "@jupyter-widgets/controls",
            "_model_module_version": "1.5.0",
            "_view_count": null,
            "_view_module_version": "1.5.0",
            "box_style": "",
            "layout": "IPY_MODEL_4ad8bfb8e86d48dfb3a6ba6eedbe87a9",
            "_model_module": "@jupyter-widgets/controls",
            "children": [
              "IPY_MODEL_b25aa26f95d548a9a0170856ad310ca5",
              "IPY_MODEL_1fb68017fd424709a3a6bb18743c2f45"
            ]
          }
        },
        "4ad8bfb8e86d48dfb3a6ba6eedbe87a9": {
          "model_module": "@jupyter-widgets/base",
          "model_name": "LayoutModel",
          "state": {
            "_view_name": "LayoutView",
            "grid_template_rows": null,
            "right": null,
            "justify_content": null,
            "_view_module": "@jupyter-widgets/base",
            "overflow": null,
            "_model_module_version": "1.2.0",
            "_view_count": null,
            "flex_flow": null,
            "width": null,
            "min_width": null,
            "border": null,
            "align_items": null,
            "bottom": null,
            "_model_module": "@jupyter-widgets/base",
            "top": null,
            "grid_column": null,
            "overflow_y": null,
            "overflow_x": null,
            "grid_auto_flow": null,
            "grid_area": null,
            "grid_template_columns": null,
            "flex": null,
            "_model_name": "LayoutModel",
            "justify_items": null,
            "grid_row": null,
            "max_height": null,
            "align_content": null,
            "visibility": null,
            "align_self": null,
            "height": null,
            "min_height": null,
            "padding": null,
            "grid_auto_rows": null,
            "grid_gap": null,
            "max_width": null,
            "order": null,
            "_view_module_version": "1.2.0",
            "grid_template_areas": null,
            "object_position": null,
            "object_fit": null,
            "grid_auto_columns": null,
            "margin": null,
            "display": null,
            "left": null
          }
        },
        "b25aa26f95d548a9a0170856ad310ca5": {
          "model_module": "@jupyter-widgets/controls",
          "model_name": "FloatProgressModel",
          "state": {
            "_view_name": "ProgressView",
            "style": "IPY_MODEL_38528bb95ef84777b65c3a8155e4f486",
            "_dom_classes": [],
            "description": "Downloading: 100%",
            "_model_name": "FloatProgressModel",
            "bar_style": "success",
            "max": 1042301,
            "_view_module": "@jupyter-widgets/controls",
            "_model_module_version": "1.5.0",
            "value": 1042301,
            "_view_count": null,
            "_view_module_version": "1.5.0",
            "orientation": "horizontal",
            "min": 0,
            "description_tooltip": null,
            "_model_module": "@jupyter-widgets/controls",
            "layout": "IPY_MODEL_2a9fa1bf24fe4948aafa169ae9085a21"
          }
        },
        "1fb68017fd424709a3a6bb18743c2f45": {
          "model_module": "@jupyter-widgets/controls",
          "model_name": "HTMLModel",
          "state": {
            "_view_name": "HTMLView",
            "style": "IPY_MODEL_c02d231a0bbe42438b930a4b85c6a5e1",
            "_dom_classes": [],
            "description": "",
            "_model_name": "HTMLModel",
            "placeholder": "​",
            "_view_module": "@jupyter-widgets/controls",
            "_model_module_version": "1.5.0",
            "value": " 1.04M/1.04M [00:00&lt;00:00, 2.84MB/s]",
            "_view_count": null,
            "_view_module_version": "1.5.0",
            "description_tooltip": null,
            "_model_module": "@jupyter-widgets/controls",
            "layout": "IPY_MODEL_0356e679e3b24a0daea1403a4db94b72"
          }
        },
        "38528bb95ef84777b65c3a8155e4f486": {
          "model_module": "@jupyter-widgets/controls",
          "model_name": "ProgressStyleModel",
          "state": {
            "_view_name": "StyleView",
            "_model_name": "ProgressStyleModel",
            "description_width": "initial",
            "_view_module": "@jupyter-widgets/base",
            "_model_module_version": "1.5.0",
            "_view_count": null,
            "_view_module_version": "1.2.0",
            "bar_color": null,
            "_model_module": "@jupyter-widgets/controls"
          }
        },
        "2a9fa1bf24fe4948aafa169ae9085a21": {
          "model_module": "@jupyter-widgets/base",
          "model_name": "LayoutModel",
          "state": {
            "_view_name": "LayoutView",
            "grid_template_rows": null,
            "right": null,
            "justify_content": null,
            "_view_module": "@jupyter-widgets/base",
            "overflow": null,
            "_model_module_version": "1.2.0",
            "_view_count": null,
            "flex_flow": null,
            "width": null,
            "min_width": null,
            "border": null,
            "align_items": null,
            "bottom": null,
            "_model_module": "@jupyter-widgets/base",
            "top": null,
            "grid_column": null,
            "overflow_y": null,
            "overflow_x": null,
            "grid_auto_flow": null,
            "grid_area": null,
            "grid_template_columns": null,
            "flex": null,
            "_model_name": "LayoutModel",
            "justify_items": null,
            "grid_row": null,
            "max_height": null,
            "align_content": null,
            "visibility": null,
            "align_self": null,
            "height": null,
            "min_height": null,
            "padding": null,
            "grid_auto_rows": null,
            "grid_gap": null,
            "max_width": null,
            "order": null,
            "_view_module_version": "1.2.0",
            "grid_template_areas": null,
            "object_position": null,
            "object_fit": null,
            "grid_auto_columns": null,
            "margin": null,
            "display": null,
            "left": null
          }
        },
        "c02d231a0bbe42438b930a4b85c6a5e1": {
          "model_module": "@jupyter-widgets/controls",
          "model_name": "DescriptionStyleModel",
          "state": {
            "_view_name": "StyleView",
            "_model_name": "DescriptionStyleModel",
            "description_width": "",
            "_view_module": "@jupyter-widgets/base",
            "_model_module_version": "1.5.0",
            "_view_count": null,
            "_view_module_version": "1.2.0",
            "_model_module": "@jupyter-widgets/controls"
          }
        },
        "0356e679e3b24a0daea1403a4db94b72": {
          "model_module": "@jupyter-widgets/base",
          "model_name": "LayoutModel",
          "state": {
            "_view_name": "LayoutView",
            "grid_template_rows": null,
            "right": null,
            "justify_content": null,
            "_view_module": "@jupyter-widgets/base",
            "overflow": null,
            "_model_module_version": "1.2.0",
            "_view_count": null,
            "flex_flow": null,
            "width": null,
            "min_width": null,
            "border": null,
            "align_items": null,
            "bottom": null,
            "_model_module": "@jupyter-widgets/base",
            "top": null,
            "grid_column": null,
            "overflow_y": null,
            "overflow_x": null,
            "grid_auto_flow": null,
            "grid_area": null,
            "grid_template_columns": null,
            "flex": null,
            "_model_name": "LayoutModel",
            "justify_items": null,
            "grid_row": null,
            "max_height": null,
            "align_content": null,
            "visibility": null,
            "align_self": null,
            "height": null,
            "min_height": null,
            "padding": null,
            "grid_auto_rows": null,
            "grid_gap": null,
            "max_width": null,
            "order": null,
            "_view_module_version": "1.2.0",
            "grid_template_areas": null,
            "object_position": null,
            "object_fit": null,
            "grid_auto_columns": null,
            "margin": null,
            "display": null,
            "left": null
          }
        },
        "ce3e610f340e4126bd536414d52a9430": {
          "model_module": "@jupyter-widgets/controls",
          "model_name": "HBoxModel",
          "state": {
            "_view_name": "HBoxView",
            "_dom_classes": [],
            "_model_name": "HBoxModel",
            "_view_module": "@jupyter-widgets/controls",
            "_model_module_version": "1.5.0",
            "_view_count": null,
            "_view_module_version": "1.5.0",
            "box_style": "",
            "layout": "IPY_MODEL_6eba1f126b2448c49481db35492f0056",
            "_model_module": "@jupyter-widgets/controls",
            "children": [
              "IPY_MODEL_a1132e8a445d4b9aac1f1d51e4ef27dd",
              "IPY_MODEL_5798cf012644463c9055713b24332543"
            ]
          }
        },
        "6eba1f126b2448c49481db35492f0056": {
          "model_module": "@jupyter-widgets/base",
          "model_name": "LayoutModel",
          "state": {
            "_view_name": "LayoutView",
            "grid_template_rows": null,
            "right": null,
            "justify_content": null,
            "_view_module": "@jupyter-widgets/base",
            "overflow": null,
            "_model_module_version": "1.2.0",
            "_view_count": null,
            "flex_flow": null,
            "width": null,
            "min_width": null,
            "border": null,
            "align_items": null,
            "bottom": null,
            "_model_module": "@jupyter-widgets/base",
            "top": null,
            "grid_column": null,
            "overflow_y": null,
            "overflow_x": null,
            "grid_auto_flow": null,
            "grid_area": null,
            "grid_template_columns": null,
            "flex": null,
            "_model_name": "LayoutModel",
            "justify_items": null,
            "grid_row": null,
            "max_height": null,
            "align_content": null,
            "visibility": null,
            "align_self": null,
            "height": null,
            "min_height": null,
            "padding": null,
            "grid_auto_rows": null,
            "grid_gap": null,
            "max_width": null,
            "order": null,
            "_view_module_version": "1.2.0",
            "grid_template_areas": null,
            "object_position": null,
            "object_fit": null,
            "grid_auto_columns": null,
            "margin": null,
            "display": null,
            "left": null
          }
        },
        "a1132e8a445d4b9aac1f1d51e4ef27dd": {
          "model_module": "@jupyter-widgets/controls",
          "model_name": "FloatProgressModel",
          "state": {
            "_view_name": "ProgressView",
            "style": "IPY_MODEL_8ba165b274fe4640a567b112366afe04",
            "_dom_classes": [],
            "description": "Downloading: 100%",
            "_model_name": "FloatProgressModel",
            "bar_style": "success",
            "max": 456318,
            "_view_module": "@jupyter-widgets/controls",
            "_model_module_version": "1.5.0",
            "value": 456318,
            "_view_count": null,
            "_view_module_version": "1.5.0",
            "orientation": "horizontal",
            "min": 0,
            "description_tooltip": null,
            "_model_module": "@jupyter-widgets/controls",
            "layout": "IPY_MODEL_efe0525b071d4ab3a4fe5d51492e75df"
          }
        },
        "5798cf012644463c9055713b24332543": {
          "model_module": "@jupyter-widgets/controls",
          "model_name": "HTMLModel",
          "state": {
            "_view_name": "HTMLView",
            "style": "IPY_MODEL_1a28b24a6f754881b7aa66c24c047ac9",
            "_dom_classes": [],
            "description": "",
            "_model_name": "HTMLModel",
            "placeholder": "​",
            "_view_module": "@jupyter-widgets/controls",
            "_model_module_version": "1.5.0",
            "value": " 456k/456k [00:00&lt;00:00, 2.00MB/s]",
            "_view_count": null,
            "_view_module_version": "1.5.0",
            "description_tooltip": null,
            "_model_module": "@jupyter-widgets/controls",
            "layout": "IPY_MODEL_027532b86b9948cb8472270372957e8d"
          }
        },
        "8ba165b274fe4640a567b112366afe04": {
          "model_module": "@jupyter-widgets/controls",
          "model_name": "ProgressStyleModel",
          "state": {
            "_view_name": "StyleView",
            "_model_name": "ProgressStyleModel",
            "description_width": "initial",
            "_view_module": "@jupyter-widgets/base",
            "_model_module_version": "1.5.0",
            "_view_count": null,
            "_view_module_version": "1.2.0",
            "bar_color": null,
            "_model_module": "@jupyter-widgets/controls"
          }
        },
        "efe0525b071d4ab3a4fe5d51492e75df": {
          "model_module": "@jupyter-widgets/base",
          "model_name": "LayoutModel",
          "state": {
            "_view_name": "LayoutView",
            "grid_template_rows": null,
            "right": null,
            "justify_content": null,
            "_view_module": "@jupyter-widgets/base",
            "overflow": null,
            "_model_module_version": "1.2.0",
            "_view_count": null,
            "flex_flow": null,
            "width": null,
            "min_width": null,
            "border": null,
            "align_items": null,
            "bottom": null,
            "_model_module": "@jupyter-widgets/base",
            "top": null,
            "grid_column": null,
            "overflow_y": null,
            "overflow_x": null,
            "grid_auto_flow": null,
            "grid_area": null,
            "grid_template_columns": null,
            "flex": null,
            "_model_name": "LayoutModel",
            "justify_items": null,
            "grid_row": null,
            "max_height": null,
            "align_content": null,
            "visibility": null,
            "align_self": null,
            "height": null,
            "min_height": null,
            "padding": null,
            "grid_auto_rows": null,
            "grid_gap": null,
            "max_width": null,
            "order": null,
            "_view_module_version": "1.2.0",
            "grid_template_areas": null,
            "object_position": null,
            "object_fit": null,
            "grid_auto_columns": null,
            "margin": null,
            "display": null,
            "left": null
          }
        },
        "1a28b24a6f754881b7aa66c24c047ac9": {
          "model_module": "@jupyter-widgets/controls",
          "model_name": "DescriptionStyleModel",
          "state": {
            "_view_name": "StyleView",
            "_model_name": "DescriptionStyleModel",
            "description_width": "",
            "_view_module": "@jupyter-widgets/base",
            "_model_module_version": "1.5.0",
            "_view_count": null,
            "_view_module_version": "1.2.0",
            "_model_module": "@jupyter-widgets/controls"
          }
        },
        "027532b86b9948cb8472270372957e8d": {
          "model_module": "@jupyter-widgets/base",
          "model_name": "LayoutModel",
          "state": {
            "_view_name": "LayoutView",
            "grid_template_rows": null,
            "right": null,
            "justify_content": null,
            "_view_module": "@jupyter-widgets/base",
            "overflow": null,
            "_model_module_version": "1.2.0",
            "_view_count": null,
            "flex_flow": null,
            "width": null,
            "min_width": null,
            "border": null,
            "align_items": null,
            "bottom": null,
            "_model_module": "@jupyter-widgets/base",
            "top": null,
            "grid_column": null,
            "overflow_y": null,
            "overflow_x": null,
            "grid_auto_flow": null,
            "grid_area": null,
            "grid_template_columns": null,
            "flex": null,
            "_model_name": "LayoutModel",
            "justify_items": null,
            "grid_row": null,
            "max_height": null,
            "align_content": null,
            "visibility": null,
            "align_self": null,
            "height": null,
            "min_height": null,
            "padding": null,
            "grid_auto_rows": null,
            "grid_gap": null,
            "max_width": null,
            "order": null,
            "_view_module_version": "1.2.0",
            "grid_template_areas": null,
            "object_position": null,
            "object_fit": null,
            "grid_auto_columns": null,
            "margin": null,
            "display": null,
            "left": null
          }
        },
        "a9f194240d28445b919af67f69b9239f": {
          "model_module": "@jupyter-widgets/controls",
          "model_name": "HBoxModel",
          "state": {
            "_view_name": "HBoxView",
            "_dom_classes": [],
            "_model_name": "HBoxModel",
            "_view_module": "@jupyter-widgets/controls",
            "_model_module_version": "1.5.0",
            "_view_count": null,
            "_view_module_version": "1.5.0",
            "box_style": "",
            "layout": "IPY_MODEL_aa65f12233ba40578367b5c416a98b65",
            "_model_module": "@jupyter-widgets/controls",
            "children": [
              "IPY_MODEL_7b54e149c6154531b4a030a64b4fc3a8",
              "IPY_MODEL_35845085ce11409fb05b80666798a13d"
            ]
          }
        },
        "aa65f12233ba40578367b5c416a98b65": {
          "model_module": "@jupyter-widgets/base",
          "model_name": "LayoutModel",
          "state": {
            "_view_name": "LayoutView",
            "grid_template_rows": null,
            "right": null,
            "justify_content": null,
            "_view_module": "@jupyter-widgets/base",
            "overflow": null,
            "_model_module_version": "1.2.0",
            "_view_count": null,
            "flex_flow": null,
            "width": null,
            "min_width": null,
            "border": null,
            "align_items": null,
            "bottom": null,
            "_model_module": "@jupyter-widgets/base",
            "top": null,
            "grid_column": null,
            "overflow_y": null,
            "overflow_x": null,
            "grid_auto_flow": null,
            "grid_area": null,
            "grid_template_columns": null,
            "flex": null,
            "_model_name": "LayoutModel",
            "justify_items": null,
            "grid_row": null,
            "max_height": null,
            "align_content": null,
            "visibility": null,
            "align_self": null,
            "height": null,
            "min_height": null,
            "padding": null,
            "grid_auto_rows": null,
            "grid_gap": null,
            "max_width": null,
            "order": null,
            "_view_module_version": "1.2.0",
            "grid_template_areas": null,
            "object_position": null,
            "object_fit": null,
            "grid_auto_columns": null,
            "margin": null,
            "display": null,
            "left": null
          }
        },
        "7b54e149c6154531b4a030a64b4fc3a8": {
          "model_module": "@jupyter-widgets/controls",
          "model_name": "FloatProgressModel",
          "state": {
            "_view_name": "ProgressView",
            "style": "IPY_MODEL_4a62d98359554d24b7615d9c3622a9ab",
            "_dom_classes": [],
            "description": "Downloading: 100%",
            "_model_name": "FloatProgressModel",
            "bar_style": "success",
            "max": 665,
            "_view_module": "@jupyter-widgets/controls",
            "_model_module_version": "1.5.0",
            "value": 665,
            "_view_count": null,
            "_view_module_version": "1.5.0",
            "orientation": "horizontal",
            "min": 0,
            "description_tooltip": null,
            "_model_module": "@jupyter-widgets/controls",
            "layout": "IPY_MODEL_03e28307af124cfda60f94fea6f61f88"
          }
        },
        "35845085ce11409fb05b80666798a13d": {
          "model_module": "@jupyter-widgets/controls",
          "model_name": "HTMLModel",
          "state": {
            "_view_name": "HTMLView",
            "style": "IPY_MODEL_471877dd6db14d5da9b304b757f7bf2a",
            "_dom_classes": [],
            "description": "",
            "_model_name": "HTMLModel",
            "placeholder": "​",
            "_view_module": "@jupyter-widgets/controls",
            "_model_module_version": "1.5.0",
            "value": " 665/665 [01:10&lt;00:00, 9.41B/s]",
            "_view_count": null,
            "_view_module_version": "1.5.0",
            "description_tooltip": null,
            "_model_module": "@jupyter-widgets/controls",
            "layout": "IPY_MODEL_99b84a050a9b4ffdb822c16fecadc1dd"
          }
        },
        "4a62d98359554d24b7615d9c3622a9ab": {
          "model_module": "@jupyter-widgets/controls",
          "model_name": "ProgressStyleModel",
          "state": {
            "_view_name": "StyleView",
            "_model_name": "ProgressStyleModel",
            "description_width": "initial",
            "_view_module": "@jupyter-widgets/base",
            "_model_module_version": "1.5.0",
            "_view_count": null,
            "_view_module_version": "1.2.0",
            "bar_color": null,
            "_model_module": "@jupyter-widgets/controls"
          }
        },
        "03e28307af124cfda60f94fea6f61f88": {
          "model_module": "@jupyter-widgets/base",
          "model_name": "LayoutModel",
          "state": {
            "_view_name": "LayoutView",
            "grid_template_rows": null,
            "right": null,
            "justify_content": null,
            "_view_module": "@jupyter-widgets/base",
            "overflow": null,
            "_model_module_version": "1.2.0",
            "_view_count": null,
            "flex_flow": null,
            "width": null,
            "min_width": null,
            "border": null,
            "align_items": null,
            "bottom": null,
            "_model_module": "@jupyter-widgets/base",
            "top": null,
            "grid_column": null,
            "overflow_y": null,
            "overflow_x": null,
            "grid_auto_flow": null,
            "grid_area": null,
            "grid_template_columns": null,
            "flex": null,
            "_model_name": "LayoutModel",
            "justify_items": null,
            "grid_row": null,
            "max_height": null,
            "align_content": null,
            "visibility": null,
            "align_self": null,
            "height": null,
            "min_height": null,
            "padding": null,
            "grid_auto_rows": null,
            "grid_gap": null,
            "max_width": null,
            "order": null,
            "_view_module_version": "1.2.0",
            "grid_template_areas": null,
            "object_position": null,
            "object_fit": null,
            "grid_auto_columns": null,
            "margin": null,
            "display": null,
            "left": null
          }
        },
        "471877dd6db14d5da9b304b757f7bf2a": {
          "model_module": "@jupyter-widgets/controls",
          "model_name": "DescriptionStyleModel",
          "state": {
            "_view_name": "StyleView",
            "_model_name": "DescriptionStyleModel",
            "description_width": "",
            "_view_module": "@jupyter-widgets/base",
            "_model_module_version": "1.5.0",
            "_view_count": null,
            "_view_module_version": "1.2.0",
            "_model_module": "@jupyter-widgets/controls"
          }
        },
        "99b84a050a9b4ffdb822c16fecadc1dd": {
          "model_module": "@jupyter-widgets/base",
          "model_name": "LayoutModel",
          "state": {
            "_view_name": "LayoutView",
            "grid_template_rows": null,
            "right": null,
            "justify_content": null,
            "_view_module": "@jupyter-widgets/base",
            "overflow": null,
            "_model_module_version": "1.2.0",
            "_view_count": null,
            "flex_flow": null,
            "width": null,
            "min_width": null,
            "border": null,
            "align_items": null,
            "bottom": null,
            "_model_module": "@jupyter-widgets/base",
            "top": null,
            "grid_column": null,
            "overflow_y": null,
            "overflow_x": null,
            "grid_auto_flow": null,
            "grid_area": null,
            "grid_template_columns": null,
            "flex": null,
            "_model_name": "LayoutModel",
            "justify_items": null,
            "grid_row": null,
            "max_height": null,
            "align_content": null,
            "visibility": null,
            "align_self": null,
            "height": null,
            "min_height": null,
            "padding": null,
            "grid_auto_rows": null,
            "grid_gap": null,
            "max_width": null,
            "order": null,
            "_view_module_version": "1.2.0",
            "grid_template_areas": null,
            "object_position": null,
            "object_fit": null,
            "grid_auto_columns": null,
            "margin": null,
            "display": null,
            "left": null
          }
        },
        "08d79dc449154f6189ca8f48296221e8": {
          "model_module": "@jupyter-widgets/controls",
          "model_name": "HBoxModel",
          "state": {
            "_view_name": "HBoxView",
            "_dom_classes": [],
            "_model_name": "HBoxModel",
            "_view_module": "@jupyter-widgets/controls",
            "_model_module_version": "1.5.0",
            "_view_count": null,
            "_view_module_version": "1.5.0",
            "box_style": "",
            "layout": "IPY_MODEL_aec04ba2a9ac48d4a3d8b2a3514c79f4",
            "_model_module": "@jupyter-widgets/controls",
            "children": [
              "IPY_MODEL_e9fe5dd092b64274985f5e6f23fbf05f",
              "IPY_MODEL_9a36e27a9e3d4693a0e503d24eb349e1"
            ]
          }
        },
        "aec04ba2a9ac48d4a3d8b2a3514c79f4": {
          "model_module": "@jupyter-widgets/base",
          "model_name": "LayoutModel",
          "state": {
            "_view_name": "LayoutView",
            "grid_template_rows": null,
            "right": null,
            "justify_content": null,
            "_view_module": "@jupyter-widgets/base",
            "overflow": null,
            "_model_module_version": "1.2.0",
            "_view_count": null,
            "flex_flow": null,
            "width": null,
            "min_width": null,
            "border": null,
            "align_items": null,
            "bottom": null,
            "_model_module": "@jupyter-widgets/base",
            "top": null,
            "grid_column": null,
            "overflow_y": null,
            "overflow_x": null,
            "grid_auto_flow": null,
            "grid_area": null,
            "grid_template_columns": null,
            "flex": null,
            "_model_name": "LayoutModel",
            "justify_items": null,
            "grid_row": null,
            "max_height": null,
            "align_content": null,
            "visibility": null,
            "align_self": null,
            "height": null,
            "min_height": null,
            "padding": null,
            "grid_auto_rows": null,
            "grid_gap": null,
            "max_width": null,
            "order": null,
            "_view_module_version": "1.2.0",
            "grid_template_areas": null,
            "object_position": null,
            "object_fit": null,
            "grid_auto_columns": null,
            "margin": null,
            "display": null,
            "left": null
          }
        },
        "e9fe5dd092b64274985f5e6f23fbf05f": {
          "model_module": "@jupyter-widgets/controls",
          "model_name": "FloatProgressModel",
          "state": {
            "_view_name": "ProgressView",
            "style": "IPY_MODEL_169a2b164d89432197cd4374c87dda27",
            "_dom_classes": [],
            "description": "Downloading: 100%",
            "_model_name": "FloatProgressModel",
            "bar_style": "success",
            "max": 548118077,
            "_view_module": "@jupyter-widgets/controls",
            "_model_module_version": "1.5.0",
            "value": 548118077,
            "_view_count": null,
            "_view_module_version": "1.5.0",
            "orientation": "horizontal",
            "min": 0,
            "description_tooltip": null,
            "_model_module": "@jupyter-widgets/controls",
            "layout": "IPY_MODEL_1a4cbd4c9b844ddda63239731b260384"
          }
        },
        "9a36e27a9e3d4693a0e503d24eb349e1": {
          "model_module": "@jupyter-widgets/controls",
          "model_name": "HTMLModel",
          "state": {
            "_view_name": "HTMLView",
            "style": "IPY_MODEL_161df82401824cf497fa30bc1c8f96e9",
            "_dom_classes": [],
            "description": "",
            "_model_name": "HTMLModel",
            "placeholder": "​",
            "_view_module": "@jupyter-widgets/controls",
            "_model_module_version": "1.5.0",
            "value": " 548M/548M [00:13&lt;00:00, 41.4MB/s]",
            "_view_count": null,
            "_view_module_version": "1.5.0",
            "description_tooltip": null,
            "_model_module": "@jupyter-widgets/controls",
            "layout": "IPY_MODEL_1dd5715c429f43ebb2e1056df0449498"
          }
        },
        "169a2b164d89432197cd4374c87dda27": {
          "model_module": "@jupyter-widgets/controls",
          "model_name": "ProgressStyleModel",
          "state": {
            "_view_name": "StyleView",
            "_model_name": "ProgressStyleModel",
            "description_width": "initial",
            "_view_module": "@jupyter-widgets/base",
            "_model_module_version": "1.5.0",
            "_view_count": null,
            "_view_module_version": "1.2.0",
            "bar_color": null,
            "_model_module": "@jupyter-widgets/controls"
          }
        },
        "1a4cbd4c9b844ddda63239731b260384": {
          "model_module": "@jupyter-widgets/base",
          "model_name": "LayoutModel",
          "state": {
            "_view_name": "LayoutView",
            "grid_template_rows": null,
            "right": null,
            "justify_content": null,
            "_view_module": "@jupyter-widgets/base",
            "overflow": null,
            "_model_module_version": "1.2.0",
            "_view_count": null,
            "flex_flow": null,
            "width": null,
            "min_width": null,
            "border": null,
            "align_items": null,
            "bottom": null,
            "_model_module": "@jupyter-widgets/base",
            "top": null,
            "grid_column": null,
            "overflow_y": null,
            "overflow_x": null,
            "grid_auto_flow": null,
            "grid_area": null,
            "grid_template_columns": null,
            "flex": null,
            "_model_name": "LayoutModel",
            "justify_items": null,
            "grid_row": null,
            "max_height": null,
            "align_content": null,
            "visibility": null,
            "align_self": null,
            "height": null,
            "min_height": null,
            "padding": null,
            "grid_auto_rows": null,
            "grid_gap": null,
            "max_width": null,
            "order": null,
            "_view_module_version": "1.2.0",
            "grid_template_areas": null,
            "object_position": null,
            "object_fit": null,
            "grid_auto_columns": null,
            "margin": null,
            "display": null,
            "left": null
          }
        },
        "161df82401824cf497fa30bc1c8f96e9": {
          "model_module": "@jupyter-widgets/controls",
          "model_name": "DescriptionStyleModel",
          "state": {
            "_view_name": "StyleView",
            "_model_name": "DescriptionStyleModel",
            "description_width": "",
            "_view_module": "@jupyter-widgets/base",
            "_model_module_version": "1.5.0",
            "_view_count": null,
            "_view_module_version": "1.2.0",
            "_model_module": "@jupyter-widgets/controls"
          }
        },
        "1dd5715c429f43ebb2e1056df0449498": {
          "model_module": "@jupyter-widgets/base",
          "model_name": "LayoutModel",
          "state": {
            "_view_name": "LayoutView",
            "grid_template_rows": null,
            "right": null,
            "justify_content": null,
            "_view_module": "@jupyter-widgets/base",
            "overflow": null,
            "_model_module_version": "1.2.0",
            "_view_count": null,
            "flex_flow": null,
            "width": null,
            "min_width": null,
            "border": null,
            "align_items": null,
            "bottom": null,
            "_model_module": "@jupyter-widgets/base",
            "top": null,
            "grid_column": null,
            "overflow_y": null,
            "overflow_x": null,
            "grid_auto_flow": null,
            "grid_area": null,
            "grid_template_columns": null,
            "flex": null,
            "_model_name": "LayoutModel",
            "justify_items": null,
            "grid_row": null,
            "max_height": null,
            "align_content": null,
            "visibility": null,
            "align_self": null,
            "height": null,
            "min_height": null,
            "padding": null,
            "grid_auto_rows": null,
            "grid_gap": null,
            "max_width": null,
            "order": null,
            "_view_module_version": "1.2.0",
            "grid_template_areas": null,
            "object_position": null,
            "object_fit": null,
            "grid_auto_columns": null,
            "margin": null,
            "display": null,
            "left": null
          }
        }
      }
    }
  },
  "cells": [
    {
      "cell_type": "markdown",
      "metadata": {
        "id": "4Ohw7wEzRr_z"
      },
      "source": [
        "# 2. 데이터 탐색과 전처리"
      ]
    },
    {
      "cell_type": "markdown",
      "metadata": {
        "id": "QjLqioWfUWPU"
      },
      "source": [
        "이전 장에서는 Question Generation Task의 개념과 모델, 평가지표 등에 대해 알아보았습니다. 이번 장에서는 실습에 사용할 데이터셋을 확인해보도록 하겠습니다. \n",
        "\n",
        "NLP 튜토리얼에서는 에세이 데이터를 활용해 학습자들을 위한 영어 문제를 생성하는 모델을 만들어 볼 것입니다. 구체적으로 3개의 문제를 만들어 볼 것입니다. 왜 에세이냐? -> 개인의 생각이 들어간 수필인데 이것을 쓰면 이러이러한 이유에서 좋다  NUS는 세계 몇 위 대학이고, 학생들 수준이 상당히 높아 에세이 수준도 높다. RC로 적합하다 또 WI Locness는 상위 수준의 학생들의 에세이만 고를 꺼기 때문에, 괜찮다. \n",
        "\n",
        "문제를 모두 4지선다 문제다. \n",
        "왜 4지선다 문제냐? 평가 쉽고, blah blah blah\n",
        "\n",
        "지문 내용 기반 참 거짓 문제, WH-5 문제 생성할거다. \n",
        "\n",
        "참 거짓 문제란 ~~\n",
        "\n",
        "WH-5 문제란 ~~ \n",
        "\n",
        "grammar 문제는 실제 GEC task에 사용되는 데이터셋에서 틀린 grammar들 위주로 구성했으므로, 실제 ESL 학생드리 헷갈려하는 문제 위주로 grammar 문제를 구성해서 유효성을 확보함. \n",
        "\n",
        "2.1절에서는 데이터를 다운로드 받는 방법을 살펴보겠습니다. 2.2절에서는 데이터를 시각화 해볼 것이며, 2.3절에서는 matplotlib.pyplot 에서 제공하는 subplots 함수를 활용해 여러 이미지를 하나의 출력 창에 시각화 하는 방법을 알아보겠습니다. 마지막으로 2.4절에서는 이미지 전처리를 통해 픽셀값에 정규화(normalization)을 진행해보겠습니다.\n",
        "\n"
      ]
    },
    {
      "cell_type": "markdown",
      "metadata": {
        "id": "nL-OzDV-wb8o"
      },
      "source": [
        "## 2.1 2014 CoNLL Shared Task Dataset"
      ]
    },
    {
      "cell_type": "markdown",
      "metadata": {
        "id": "uWqElsQsXRC7"
      },
      "source": [
        "Conference on Computational Natural Language Learning (CoNLL)은 매년 자연어처리 관련 기술에 대해 논하는 학회입니다. 논문 발표와 더불어 매년 Shared Task를 운영하고 있습니다. Shared Task는 CoNLL에서 운영하는 자연어 처리 경진대회입니다. CoNLL에서 운영한 모든 Shared Task는 [https://conll.org/previous-tasks](https://conll.org/previous-tasks)에서 확인 가능합니다. \n",
        "\n",
        "2013년, 2014년에는 Grammer Error Correction(GEC) 과제를 Shared Task로 운영했습니다. GEC는 에세이내의 문법 오류 위치를 탐지한 후 올바른 단어로 수정하는 알고리즘을 구축하는 과제였습니다.\n",
        "\n",
        "이번 튜토리얼에서 사용할 데이터는 CoNLL Shared Task가 종료된 후 주최측에서 공개한 라벨링된 시험 데이터셋 입니다. Shared Task에서 공식적으로 사용된 훈련 데이터인 NUCLE corpus 같은 경우 [NUS Natural Language Processing Group](https://www.comp.nus.edu.sg/~nlp/corpora.html)에 신청서를 보내야 얻을 수 있지만, 시험 데이터셋은 누구나 열람할 수 있게 공개가 되어 있기 때문입니다. \n",
        "\n",
        "2014년도 GEC의 시험 데이터셋은 총 50개의 에세이로 이뤄져 있습니다. 25명의 비영어권 NUS 학생 (Non-native speaker of English) 이 그림 XX에 있는 2개의 주제에 대해 각각 하나의 에세이를 제출해서 총 50개 입니다. 해당 에세이에 대해 2명의 영어 원어민이 문법 교정을 실시했습니다. \n",
        "\n"
      ]
    },
    {
      "cell_type": "markdown",
      "metadata": {
        "id": "kvuPBlB2XUZB"
      },
      "source": [
        "- Creator: National University of Singapore\n",
        "- Year: 2013, 2014\n",
        "- Purpose: \n",
        "    - shared task of the Seventeenth Conference on Computational Natural Language Learning\n",
        "    - the\n",
        "goal is to detect and correct the grammatical errors\n",
        "present in the essay, and return the corrected essay (grammatical error correction)\n",
        "- Data:\n",
        "    - Written by ESL students, corrected by Error annotation on the test essays was carried\n",
        "out by a native speaker of English who is a lecturer\n",
        "at the NUS Centre for English Language Communication\n",
        "\n",
        "    - 50 essays (1,312 sentences) on 2 different topics written by 25 South-East Asian undergraduates [Ref. BEA-2019 paper]\n",
        "\n",
        "- Papers: https://www.aclweb.org/anthology/W13-3601.pdf"
      ]
    },
    {
      "cell_type": "markdown",
      "metadata": {
        "id": "JX75CpsCjPFV"
      },
      "source": [
        "### 2.1.1 CoNLL 데이터 탐색"
      ]
    },
    {
      "cell_type": "markdown",
      "metadata": {
        "id": "20LMGkryXatI"
      },
      "source": [
        "먼저 아래 코드를 활용해 https://www.comp.nus.edu.sg/~nlp/conll14st.html 에 공개된 시험 데이터셋을 Colab환경에 다운로드 받습니다. 리눅스의 `wget`명령어를 활용해 제공된 다운로드 링크로 부터 `tar.gz`파일을 받을 수 있습니다. 이때 `-O` 옵션을 주어 파일명을 `conll2014.tar.gz`로 변경해서 다운로드 받아보도록 하겠습니다. "
      ]
    },
    {
      "cell_type": "code",
      "metadata": {
        "colab": {
          "base_uri": "https://localhost:8080/"
        },
        "id": "rxkaQ3YIblgH",
        "outputId": "31630e64-ba39-4b1f-8df3-0b99a67d9eac"
      },
      "source": [
        "!wget -O 'conll2014.tar.gz' https://www.comp.nus.edu.sg/~nlp/conll14st/conll14st-test-data.tar.gz"
      ],
      "execution_count": null,
      "outputs": [
        {
          "output_type": "stream",
          "text": [
            "--2021-04-04 04:49:52--  https://www.comp.nus.edu.sg/~nlp/conll14st/conll14st-test-data.tar.gz\n",
            "Resolving www.comp.nus.edu.sg (www.comp.nus.edu.sg)... 45.60.31.225\n",
            "Connecting to www.comp.nus.edu.sg (www.comp.nus.edu.sg)|45.60.31.225|:443... connected.\n",
            "HTTP request sent, awaiting response... 200 OK\n",
            "Length: 643482 (628K) [application/x-gzip]\n",
            "Saving to: ‘conll2014.tar.gz’\n",
            "\n",
            "conll2014.tar.gz    100%[===================>] 628.40K   448KB/s    in 1.4s    \n",
            "\n",
            "2021-04-04 04:49:55 (448 KB/s) - ‘conll2014.tar.gz’ saved [643482/643482]\n",
            "\n"
          ],
          "name": "stdout"
        }
      ]
    },
    {
      "cell_type": "markdown",
      "metadata": {
        "id": "14PbgErScAjw"
      },
      "source": [
        "Colab 파일 경로에 그림 XX와 같이 `conll2014.tar.gz`파일이 다운로드 된것을 확인할 수 있습니다. 다음으로는 해당 파일을 리눅스의 `tar`명령어를 활용해 압축 해제 하겠습니다. "
      ]
    },
    {
      "cell_type": "code",
      "metadata": {
        "id": "aFbPfFoMe145"
      },
      "source": [
        "# 압축 풀고\n",
        "!tar -xf conll2014.tar.gz"
      ],
      "execution_count": null,
      "outputs": []
    },
    {
      "cell_type": "markdown",
      "metadata": {
        "id": "4KTvXe1QYV8b"
      },
      "source": [
        "압축이 해제되면 `conll14st-test-data`폴더가 생성된 것을 확인할 수 있습니다. 해당 폴더는 그림 XX와 같이 구성돼 있습니다. \n",
        "\n",
        "그림 XX\n",
        "\n",
        "각 폴더가 의미하는 내용은 다음과 같습니다. \n",
        "\n",
        "- `alt`: 참가팀에서 제출한 대체 답안\n",
        "- `noalt`: 대체 답안 없이 주최측의 답안으로만 구성된 문서\n",
        "- `scripts`: 주최측에서 제공한\n",
        "\n",
        "scripts는 파이썬 2.6.4에서 원할히 작동합니다. 하지만 최근에는 대부분 파이썬 3으로 교육을 하기 때문에 튜토리얼에 scripts파일로 튜토리얼을 구성하기 적합하지 않습니다. 또한, scripts에 있는 코드를 배워 CoNLL Shared Task에 한정된 코드를 배워보는 것 보다는, 일반적으로 사용되는 BeautifulSoup, Numpy 등의 패키지로 직접 전처리 하는 과정을 연습해보면 좋을 것 같다는 판단이 들어, 본 튜토리얼에서는 scripts에서 제공한 파일을 쓰지 않고, 자체적으로 전처리 과정을 구성해보겠습니다. 전처리 하는 과정을 직접 익혀봄으로써 다른 데이터셋이 주어졌을 때 유동적으로 대처하는 능력이 배양되길 바랍니다. "
      ]
    },
    {
      "cell_type": "markdown",
      "metadata": {
        "id": "c2WGGnsweiCl"
      },
      "source": [
        "먼저 `BeautifulSoup` 라이브러리를 불러옵니다. "
      ]
    },
    {
      "cell_type": "code",
      "metadata": {
        "id": "UYv6DLh3wlyD"
      },
      "source": [
        "from bs4 import BeautifulSoup"
      ],
      "execution_count": null,
      "outputs": []
    },
    {
      "cell_type": "markdown",
      "metadata": {
        "id": "QDd5CF_xen1T"
      },
      "source": [
        "`noalt`폴더 내에 있는 `official-2014.0.sgml`파일을 `open()` 함수를 활용해 엽니다."
      ]
    },
    {
      "cell_type": "code",
      "metadata": {
        "id": "fP1UolDQbKwt"
      },
      "source": [
        "# 파일 열고 annotator 1에 의해 라벨링 된 파일\n",
        "sgml_file = open('conll14st-test-data/noalt/official-2014.0.sgml')"
      ],
      "execution_count": null,
      "outputs": []
    },
    {
      "cell_type": "markdown",
      "metadata": {
        "id": "OlIiYZ_dkwt5"
      },
      "source": [
        "그 후 `read()` 함수를 활용해 `official-2014.0.sgml` 파일의 내용물을 읽어서 `conll` 변수에 저장합니다. "
      ]
    },
    {
      "cell_type": "code",
      "metadata": {
        "id": "9ftd0YJzbN-L",
        "colab": {
          "base_uri": "https://localhost:8080/"
        },
        "outputId": "61cc3565-d426-43ff-8800-1148ac949c8a"
      },
      "source": [
        "# 파일 읽고\n",
        "conll = sgml_file.read()\n",
        "sgml_file.close()\n",
        "type(conll)"
      ],
      "execution_count": null,
      "outputs": [
        {
          "output_type": "execute_result",
          "data": {
            "text/plain": [
              "str"
            ]
          },
          "metadata": {
            "tags": []
          },
          "execution_count": 5
        }
      ]
    },
    {
      "cell_type": "markdown",
      "metadata": {
        "id": "29MbW4-hlo1_"
      },
      "source": [
        "`conll` 변수 타입을 확인해보니 문자열로 저장된 것을 확인할 수 있습니다. `conll` 변수에 어떤 문자열이 저장됐는지 확인해보겠습니다. "
      ]
    },
    {
      "cell_type": "code",
      "metadata": {
        "id": "O7NZwU2XlI72",
        "colab": {
          "base_uri": "https://localhost:8080/",
          "height": 158
        },
        "outputId": "53ff447b-4c58-4d73-9aaa-c83bfde04d67"
      },
      "source": [
        "conll[:2500]"
      ],
      "execution_count": null,
      "outputs": [
        {
          "output_type": "execute_result",
          "data": {
            "application/vnd.google.colaboratory.intrinsic+json": {
              "type": "string"
            },
            "text/plain": [
              "'<DOC nid=\"1\">\\n<TEXT>\\n<TITLE>\\nKeeping the Secret of Genetic Testing\\n</TITLE>\\n<P>\\nWhat is genetic risk? Genetic risk refers more to your chance of inheriting a disorder or disease. People get certain disease because of genetic changes. How much a genetic change tells us about your chance of developing a disorder is not always clear. If your genetic results indicate that you have gene changes associated with an increased risk of heart disease, it does not mean that you definitely will develop heart disease. The opposite is also true. If your genetic results show that you do not have changes associated with an increased risk of heart disease, it is still possible that you develop heart disease. However for some rare diseases, people who have certain gene changes are guaranteed to develop the disease. When we are diagonosed out with certain genetic disease, are we suppose to disclose this result to our relatives? My answer is no.\\n</P>\\n<P>\\nOn one hand, we do not want this potential danger causing firghtenning affects in our families\\' later lives. When people around us know that we got certain disease, their altitudes will be easily changed, whether caring us too much or keeping away from us. And both are not what we want since most of us just want to live as normal people. Surrounded by such concerns, it is very likely that we are distracted to worry about these problems. It is a concern that will be with us during our whole life, because we will never know when the \\'\\'potential bomb\\'\\' will explode.\\n</P>\\n<P>\\nOn the other hand, if there are ways can help us to control or cure the disease, we can going through thses process from the scope of the whole family. For an example, if exercising is helpful for family potential disease, we can always look for more chances for the family to go exercise. And we keep track of all family members health conditions. At the same time, we are prepared to know when there are other members got this disease.\\n</P>\\n<P>\\nHere I want to share Forest\\'view on this issue. Although some people feel that an individual who is found to carry a dominant gene for Huntington\\'s disease has an ethical obligation to disclose that fact to his or her siblings, there currently is no legal requirement to do so. In fact, requiring someone to communicate his or her own genetic risk to family members who are therefore also at risk is considered by many to be ethically dubious.\"\\n</P>\\n<P>\\nNothing is absolute right or wrong. If certain disease genetic test is v'"
            ]
          },
          "metadata": {
            "tags": []
          },
          "execution_count": 6
        }
      ]
    },
    {
      "cell_type": "markdown",
      "metadata": {
        "id": "9grNs-8t16eN"
      },
      "source": [
        "보시다 시피 `conll`변수 내에 저장된 문자열에 다양한 태그(tag)들이 존재하는 것을 확인할 수 있습니다. `<DOC>`, `<TEXT>`, `<TITLE>` 등 의 태그들이 존재합니다. 이것은 Markup Language를 표현하는 방식과 같습니다. 사실 파일 확장자 명에 있는 `sgml`가 Standard Generalized Markup Language (SGML)의 약자입니다. SGML은 HTML등의 Markup Language가 따라야 하는 기준을 제시하는 메타 언어입니다. \n",
        "\n",
        "그러므로 해당 `conll`변수는 파이썬에서 HTML내의 데이터를 추출할 때 사용하는 `BeautifulSoup` 라이브러리를 활용해 처리해보겠습니다. 아래 코드처럼 Markup Language 형태의 정보가 저장된 `conll`변수를 첫번째 파라미터로 넘기고, 두번째 파라미터에는 데이터 처리시 사용할 `parser`를 명시합니다. 일반적으로 `BeautifulSoup`에서 제공하는 `html.parser`를 사용하기도 하지만, [공식 문서](https://www.crummy.com/software/BeautifulSoup/bs4/doc/#installing-a-parser)에서는 속도를위해 `lxml`사용하는 것을 추천하므로, 본 튜토리얼에서도 `lxml`을 활용해보겠습니다. "
      ]
    },
    {
      "cell_type": "code",
      "metadata": {
        "id": "Hti6nGpcbRFt"
      },
      "source": [
        "# 파싱하고\n",
        "conllsoup = BeautifulSoup(conll, 'lxml')"
      ],
      "execution_count": null,
      "outputs": []
    },
    {
      "cell_type": "code",
      "metadata": {
        "colab": {
          "base_uri": "https://localhost:8080/"
        },
        "id": "SxvPlF9Abhsk",
        "outputId": "79df218c-ac98-47fb-8b34-29eb3e5d8b46"
      },
      "source": [
        "type(conllsoup)"
      ],
      "execution_count": null,
      "outputs": [
        {
          "output_type": "execute_result",
          "data": {
            "text/plain": [
              "bs4.BeautifulSoup"
            ]
          },
          "metadata": {
            "tags": []
          },
          "execution_count": 8
        }
      ]
    },
    {
      "cell_type": "markdown",
      "metadata": {
        "id": "4gkEk1FFOkKa"
      },
      "source": [
        "`BeautifulSoup`객체로 변환된것을 확인할 수 있습니다. 가장 먼저 CoNLL 데이터셋 내에 어떤 태그들이 존재하는지 확인해보겠습니다. "
      ]
    },
    {
      "cell_type": "code",
      "metadata": {
        "id": "eSB9KA6pbXbg"
      },
      "source": [
        "tag_names = set([tag.name for tag in conllsoup.find_all()])"
      ],
      "execution_count": null,
      "outputs": []
    },
    {
      "cell_type": "markdown",
      "metadata": {
        "id": "xh3X7uCuPAbJ"
      },
      "source": [
        "List Comprehension을 활용해 `conllsoup`내에 있는 모든 태그들을 `list` 내부에 저장합니다. 그 중에는 중복되는 태그명들도 있을 수 있으므로, 고유의 태그명만 확인하기 위해 `set()`함수를 사용해 `list`를 `set` 형태로 변환시켜 줍니다. 파이썬에서 `set`은 중복되는 원소를 가질 수 없기 때문에, 중복 원소가 있는 경우 하나의 원소만 남겨두고 나머지는 제거하게 됩니다. \n",
        "\n",
        "`tag_names`의 있는 고유 태그들을 확인해보면 아래와 같습니다."
      ]
    },
    {
      "cell_type": "code",
      "metadata": {
        "id": "oJNi0WBVba0J",
        "colab": {
          "base_uri": "https://localhost:8080/"
        },
        "outputId": "76731dd2-4c4f-44c0-f7de-925afa1792ed"
      },
      "source": [
        "tag_names"
      ],
      "execution_count": null,
      "outputs": [
        {
          "output_type": "execute_result",
          "data": {
            "text/plain": [
              "{'annotation',\n",
              " 'body',\n",
              " 'comment',\n",
              " 'correction',\n",
              " 'doc',\n",
              " 'html',\n",
              " 'mistake',\n",
              " 'p',\n",
              " 'text',\n",
              " 'title',\n",
              " 'type'}"
            ]
          },
          "metadata": {
            "tags": []
          },
          "execution_count": 37
        }
      ]
    },
    {
      "cell_type": "code",
      "metadata": {
        "colab": {
          "base_uri": "https://localhost:8080/"
        },
        "id": "HWj3rPNkiNfw",
        "outputId": "99f6b40f-de8b-4716-b1c6-d1c96d6f2e44"
      },
      "source": [
        "conllsoup.find('doc')"
      ],
      "execution_count": null,
      "outputs": [
        {
          "output_type": "execute_result",
          "data": {
            "text/plain": [
              "<doc nid=\"1\">\n",
              "<text>\n",
              "<title>\n",
              "Keeping the Secret of Genetic Testing\n",
              "</title>\n",
              "<p>\n",
              "What is genetic risk? Genetic risk refers more to your chance of inheriting a disorder or disease. People get certain disease because of genetic changes. How much a genetic change tells us about your chance of developing a disorder is not always clear. If your genetic results indicate that you have gene changes associated with an increased risk of heart disease, it does not mean that you definitely will develop heart disease. The opposite is also true. If your genetic results show that you do not have changes associated with an increased risk of heart disease, it is still possible that you develop heart disease. However for some rare diseases, people who have certain gene changes are guaranteed to develop the disease. When we are diagonosed out with certain genetic disease, are we suppose to disclose this result to our relatives? My answer is no.\n",
              "</p>\n",
              "<p>\n",
              "On one hand, we do not want this potential danger causing firghtenning affects in our families' later lives. When people around us know that we got certain disease, their altitudes will be easily changed, whether caring us too much or keeping away from us. And both are not what we want since most of us just want to live as normal people. Surrounded by such concerns, it is very likely that we are distracted to worry about these problems. It is a concern that will be with us during our whole life, because we will never know when the ''potential bomb'' will explode.\n",
              "</p>\n",
              "<p>\n",
              "On the other hand, if there are ways can help us to control or cure the disease, we can going through thses process from the scope of the whole family. For an example, if exercising is helpful for family potential disease, we can always look for more chances for the family to go exercise. And we keep track of all family members health conditions. At the same time, we are prepared to know when there are other members got this disease.\n",
              "</p>\n",
              "<p>\n",
              "Here I want to share Forest'view on this issue. Although some people feel that an individual who is found to carry a dominant gene for Huntington's disease has an ethical obligation to disclose that fact to his or her siblings, there currently is no legal requirement to do so. In fact, requiring someone to communicate his or her own genetic risk to family members who are therefore also at risk is considered by many to be ethically dubious.\"\n",
              "</p>\n",
              "<p>\n",
              "Nothing is absolute right or wrong. If certain disease genetic test is very accurate and it is unavoidable and necessary to get treatment and known by others, it is OK to disclose the result. Above all, life is more important than secret.\n",
              "</p>\n",
              "</text>\n",
              "<annotation teacher_id=\"8\">\n",
              "<mistake end_off=\"46\" end_par=\"1\" start_off=\"42\" start_par=\"1\">\n",
              "<type>ArtOrDet</type>\n",
              "<correction></correction>\n",
              "</mistake>\n",
              "<mistake end_off=\"125\" end_par=\"1\" start_off=\"118\" start_par=\"1\">\n",
              "<type>Nn</type>\n",
              "<correction>diseases</correction>\n",
              "</mistake>\n",
              "<mistake end_off=\"627\" end_par=\"1\" start_off=\"620\" start_par=\"1\">\n",
              "<type>Trans</type>\n",
              "<correction>However,</correction>\n",
              "</mistake>\n",
              "<mistake end_off=\"751\" end_par=\"1\" start_off=\"740\" start_par=\"1\">\n",
              "<type>Mec</type>\n",
              "<correction>diagnosed</correction>\n",
              "</mistake>\n",
              "<mistake end_off=\"754\" end_par=\"1\" start_off=\"751\" start_par=\"1\">\n",
              "<type>Prep</type>\n",
              "<correction></correction>\n",
              "</mistake>\n",
              "<mistake end_off=\"783\" end_par=\"1\" start_off=\"776\" start_par=\"1\">\n",
              "<type>Nn</type>\n",
              "<correction>diseases</correction>\n",
              "</mistake>\n",
              "<mistake end_off=\"58\" end_par=\"2\" start_off=\"50\" start_par=\"2\">\n",
              "<type>Wci</type>\n",
              "<correction>having</correction>\n",
              "</mistake>\n",
              "<mistake end_off=\"70\" end_par=\"2\" start_off=\"58\" start_par=\"2\">\n",
              "<type>Mec</type>\n",
              "<correction>frightening</correction>\n",
              "</mistake>\n",
              "<mistake end_off=\"78\" end_par=\"2\" start_off=\"71\" start_par=\"2\">\n",
              "<type>Wform</type>\n",
              "<correction>effects</correction>\n",
              "</mistake>\n",
              "<mistake end_off=\"147\" end_par=\"2\" start_off=\"144\" start_par=\"2\">\n",
              "<type>Wci</type>\n",
              "<correction>have</correction>\n",
              "</mistake>\n",
              "<mistake end_off=\"163\" end_par=\"2\" start_off=\"156\" start_par=\"2\">\n",
              "<type>Nn</type>\n",
              "<correction>diseases</correction>\n",
              "</mistake>\n",
              "<mistake end_off=\"180\" end_par=\"2\" start_off=\"171\" start_par=\"2\">\n",
              "<type>Mec</type>\n",
              "<correction>attitude</correction>\n",
              "</mistake>\n",
              "<mistake end_off=\"203\" end_par=\"2\" start_off=\"186\" start_par=\"2\">\n",
              "<type>Vform</type>\n",
              "<correction>easily change</correction>\n",
              "</mistake>\n",
              "<mistake end_off=\"219\" end_par=\"2\" start_off=\"213\" start_par=\"2\">\n",
              "<type>Prep</type>\n",
              "<correction>caring for</correction>\n",
              "</mistake>\n",
              "<mistake end_off=\"412\" end_par=\"2\" start_off=\"410\" start_par=\"2\">\n",
              "<type>Trans</type>\n",
              "<correction>and</correction>\n",
              "</mistake>\n",
              "<mistake end_off=\"516\" end_par=\"2\" start_off=\"512\" start_par=\"2\">\n",
              "<type>Vt</type>\n",
              "<correction></correction>\n",
              "</mistake>\n",
              "<mistake end_off=\"36\" end_par=\"3\" start_off=\"32\" start_par=\"3\">\n",
              "<type>Ssub</type>\n",
              "<correction>ways that</correction>\n",
              "</mistake>\n",
              "<mistake end_off=\"93\" end_par=\"3\" start_off=\"88\" start_par=\"3\">\n",
              "<type>Vform</type>\n",
              "<correction>go</correction>\n",
              "</mistake>\n",
              "<mistake end_off=\"107\" end_par=\"3\" start_off=\"102\" start_par=\"3\">\n",
              "<type>Mec</type>\n",
              "<correction>these</correction>\n",
              "</mistake>\n",
              "<mistake end_off=\"115\" end_par=\"3\" start_off=\"108\" start_par=\"3\">\n",
              "<type>Nn</type>\n",
              "<correction>processes</correction>\n",
              "</mistake>\n",
              "<mistake end_off=\"158\" end_par=\"3\" start_off=\"156\" start_par=\"3\">\n",
              "<type>Rloc-</type>\n",
              "<correction></correction>\n",
              "</mistake>\n",
              "<mistake end_off=\"196\" end_par=\"3\" start_off=\"193\" start_par=\"3\">\n",
              "<type>V0</type>\n",
              "<correction>reducing</correction>\n",
              "</mistake>\n",
              "<mistake end_off=\"279\" end_par=\"3\" start_off=\"277\" start_par=\"3\">\n",
              "<type>Wci</type>\n",
              "<correction>do</correction>\n",
              "</mistake>\n",
              "<mistake end_off=\"290\" end_par=\"3\" start_off=\"288\" start_par=\"3\">\n",
              "<type>Rloc-</type>\n",
              "<correction></correction>\n",
              "</mistake>\n",
              "<mistake end_off=\"293\" end_par=\"3\" start_off=\"290\" start_par=\"3\">\n",
              "<type>Trans</type>\n",
              "<correction>so</correction>\n",
              "</mistake>\n",
              "<mistake end_off=\"423\" end_par=\"3\" start_off=\"420\" start_par=\"3\">\n",
              "<type>Ssub</type>\n",
              "<correction>who have got</correction>\n",
              "</mistake>\n",
              "<mistake end_off=\"28\" end_par=\"4\" start_off=\"21\" start_par=\"4\">\n",
              "<type>Npos</type>\n",
              "<correction>Forests's</correction>\n",
              "</mistake>\n",
              "<mistake end_off=\"19\" end_par=\"5\" start_off=\"11\" start_par=\"5\">\n",
              "<type>Wform</type>\n",
              "<correction>absolutely</correction>\n",
              "</mistake>\n",
              "<mistake end_off=\"46\" end_par=\"5\" start_off=\"39\" start_par=\"5\">\n",
              "<type>ArtOrDet</type>\n",
              "<correction>a certain</correction>\n",
              "</mistake>\n",
              "<mistake end_off=\"54\" end_par=\"5\" start_off=\"47\" start_par=\"5\">\n",
              "<type>Rloc-</type>\n",
              "<correction></correction>\n",
              "</mistake>\n",
              "<mistake end_off=\"147\" end_par=\"5\" start_off=\"142\" start_par=\"5\">\n",
              "<type>Wci</type>\n",
              "<correction>tell</correction>\n",
              "</mistake>\n",
              "<mistake end_off=\"150\" end_par=\"5\" start_off=\"148\" start_par=\"5\">\n",
              "<type>Prep</type>\n",
              "<correction></correction>\n",
              "</mistake>\n",
              "<mistake end_off=\"237\" end_par=\"5\" start_off=\"231\" start_par=\"5\">\n",
              "<type>Nn</type>\n",
              "<correction>secrets</correction>\n",
              "</mistake>\n",
              "</annotation>\n",
              "</doc>"
            ]
          },
          "metadata": {
            "tags": []
          },
          "execution_count": 18
        }
      ]
    },
    {
      "cell_type": "markdown",
      "metadata": {
        "id": "ZkiCMTIiP_LM"
      },
      "source": [
        "각각의 태그와 태그 내의 속성이 의미하는 바는 다음과 같습니다. \n",
        "\n",
        "- `annotation`: `text`의 모든 문법 오류를 저장한 태그, `mistake`의 부모 태그\n",
        "    - `teacher_id`: 문법 교정한 선생님 고유 번호\n",
        "- `body`: 모든 태그 정보가 저장된 부모 태그\n",
        "- `comment`: \n",
        "- `correction`: \n",
        "- `doc`: `text`, `title`, `annotation`정보가 저장된 부모 태그\n",
        "    - `nid`: 문서 고유 번호\n",
        "- `html`: `body`의 부모 태그\n",
        "- `mistake`: `type`, `comment`, `correction` 정보가 저장된 부모 태그\n",
        "    - `end_off`: 오류가 끝나는 문자열 위치\n",
        "    - `end_par`: 오류가 끝나는 문단 위치\n",
        "    - `start_off`: 오류가 시작하는 문자열 위치\n",
        "    - `start_par`: 오류가 끝나는 문단 위치\n",
        "- `p`: 에세이의 각 문단이 저장된 태그\n",
        "- `text`: 학생이 쓴 에세이가 저장된 태그, `title`과 `p`의 부모 태그\n",
        "- `title`: 에세이의 제목이 저장된 태그\n",
        "- `type`: 문법 오류 유형이 저장된 태그\n"
      ]
    },
    {
      "cell_type": "markdown",
      "metadata": {
        "id": "I9r83Yt9idb1"
      },
      "source": [
        "해당 에세이를 독해 문제 지문으로 활용하기 위해선 탐지된 문법 오류를 모두 교정할 필요가 있습니다. 문법 오류가 발생한 위치 정보와 해당 단어를 대체하기 위한 올바른 문법 단어 정보를 알고 있으므로, 적절한 알고리즘을 활용해 에세이내의 모든 문법 오류를 대체할 수 있습니다. 해당 과정을 2.1.2절에서 확인해보겠습니다. "
      ]
    },
    {
      "cell_type": "markdown",
      "metadata": {
        "id": "Pdgg8rRMjXgs"
      },
      "source": [
        "### 2.1.2 CoNLL 데이터 전처리"
      ]
    },
    {
      "cell_type": "markdown",
      "metadata": {
        "id": "ATGCmF8mjcik"
      },
      "source": [
        ""
      ]
    },
    {
      "cell_type": "code",
      "metadata": {
        "id": "hlhBOKuKnC5K"
      },
      "source": [
        "sample = 'i can do this all day'"
      ],
      "execution_count": null,
      "outputs": []
    },
    {
      "cell_type": "code",
      "metadata": {
        "colab": {
          "base_uri": "https://localhost:8080/",
          "height": 168
        },
        "id": "kxzeNzw9nFed",
        "outputId": "f042031e-7af8-4843-c272-aba6a5640ad1"
      },
      "source": [
        "sample[2:5] = 'will'"
      ],
      "execution_count": null,
      "outputs": [
        {
          "output_type": "error",
          "ename": "TypeError",
          "evalue": "ignored",
          "traceback": [
            "\u001b[0;31m---------------------------------------------------------------------------\u001b[0m",
            "\u001b[0;31mTypeError\u001b[0m                                 Traceback (most recent call last)",
            "\u001b[0;32m<ipython-input-76-10f486599e14>\u001b[0m in \u001b[0;36m<module>\u001b[0;34m()\u001b[0m\n\u001b[0;32m----> 1\u001b[0;31m \u001b[0msample\u001b[0m\u001b[0;34m[\u001b[0m\u001b[0;36m2\u001b[0m\u001b[0;34m:\u001b[0m\u001b[0;36m5\u001b[0m\u001b[0;34m]\u001b[0m \u001b[0;34m=\u001b[0m \u001b[0;34m'will'\u001b[0m\u001b[0;34m\u001b[0m\u001b[0;34m\u001b[0m\u001b[0m\n\u001b[0m",
            "\u001b[0;31mTypeError\u001b[0m: 'str' object does not support item assignment"
          ]
        }
      ]
    },
    {
      "cell_type": "code",
      "metadata": {
        "colab": {
          "base_uri": "https://localhost:8080/",
          "height": 35
        },
        "id": "MjKuS2Ftnhkg",
        "outputId": "de489fc7-0192-498f-8d5e-59d0a696a323"
      },
      "source": [
        "sample[:2] + 'will' + sample[5:]"
      ],
      "execution_count": null,
      "outputs": [
        {
          "output_type": "execute_result",
          "data": {
            "application/vnd.google.colaboratory.intrinsic+json": {
              "type": "string"
            },
            "text/plain": [
              "'i will do this all day'"
            ]
          },
          "metadata": {
            "tags": []
          },
          "execution_count": 77
        }
      ]
    },
    {
      "cell_type": "code",
      "metadata": {
        "id": "ovEmUbYClnZH"
      },
      "source": [
        "import numpy as np\n",
        "\n",
        "def edit_paragraph(paragraph, start, end, correction):\n",
        "    return paragraph[:start] + correction + paragraph[end:]\n",
        "\n",
        "def update_index(paragraph, offset, corrections):\n",
        "    '''\n",
        "    paragraph: 원문\n",
        "    offset: 원본 위치정보\n",
        "    corrections: 수정해야 하는 단어\n",
        "    '''\n",
        "    raw_words = []\n",
        "    # 1. detect all the words at offset values in the paragraph / O(offset)\n",
        "    for of in offset:\n",
        "        raw_words.append(paragraph[of['start_off']:of['end_off']])\n",
        "\n",
        "    # 2. compare length change between the detected words and corrections (map is faster than list comprehension when it doesn't use lambda) / O(offset)\n",
        "    adjusted = np.array(list(map(len, corrections))) - np.array(list(map(len, raw_words)))\n",
        "\n",
        "    # cumulate adjusted values / O(offset)\n",
        "    for i in range(1, len(adjusted)):\n",
        "        adjusted[i] += adjusted[i-1]\n",
        "    \n",
        "    # 3. adjust the index sequentially / O(offset)\n",
        "    for i in range(1, len(offset)):\n",
        "        offset[i]['start_off'] += adjusted[i-1]\n",
        "        offset[i]['end_off'] += adjusted[i-1]"
      ],
      "execution_count": null,
      "outputs": []
    },
    {
      "cell_type": "code",
      "metadata": {
        "id": "YfvuCQfOv5B8"
      },
      "source": [
        "all_docs = revisedsoup.find_all('doc')"
      ],
      "execution_count": null,
      "outputs": []
    },
    {
      "cell_type": "code",
      "metadata": {
        "id": "FhVgdKWzv8E-"
      },
      "source": [
        "# strip은 앞뒤 공란 제거\n",
        "_t = all_docs[0].find('text').text.strip().split('\\n\\n\\n')"
      ],
      "execution_count": null,
      "outputs": []
    },
    {
      "cell_type": "code",
      "metadata": {
        "colab": {
          "base_uri": "https://localhost:8080/"
        },
        "id": "3WuhXpGbz5-J",
        "outputId": "5b47c35a-e845-467f-ecb8-947e14070972"
      },
      "source": [
        "_t"
      ],
      "execution_count": null,
      "outputs": [
        {
          "output_type": "execute_result",
          "data": {
            "text/plain": [
              "['Keeping the Secret of Genetic Testing',\n",
              " 'What is genetic risk? Genetic risk refers more to your chance of inheriting a disorder or disease. People get certain disease because of genetic changes. How much a genetic change tells us about your chance of developing a disorder is not always clear. If your genetic results indicate that you have gene changes associated with an increased risk of heart disease, it does not mean that you definitely will develop heart disease. The opposite is also true. If your genetic results show that you do not have changes associated with an increased risk of heart disease, it is still possible that you develop heart disease. However for some rare diseases, people who have certain gene changes are guaranteed to develop the disease. When we are diagonosed out with certain genetic disease, are we suppose to disclose this result to our relatives? My answer is no.',\n",
              " \"On one hand, we do not want this potential danger causing firghtenning affects in our families' later lives. When people around us know that we got certain disease, their altitudes will be easily changed, whether caring us too much or keeping away from us. And both are not what we want since most of us just want to live as normal people. Surrounded by such concerns, it is very likely that we are distracted to worry about these problems. It is a concern that will be with us during our whole life, because we will never know when the ''potential bomb'' will explode.\",\n",
              " 'On the other hand, if there are ways can help us to control or cure the disease, we can going through thses process from the scope of the whole family. For an example, if exercising is helpful for family potential disease, we can always look for more chances for the family to go exercise. And we keep track of all family members health conditions. At the same time, we are prepared to know when there are other members got this disease.',\n",
              " 'Here I want to share Forest\\'view on this issue. Although some people feel that an individual who is found to carry a dominant gene for Huntington\\'s disease has an ethical obligation to disclose that fact to his or her siblings, there currently is no legal requirement to do so. In fact, requiring someone to communicate his or her own genetic risk to family members who are therefore also at risk is considered by many to be ethically dubious.\"',\n",
              " 'Nothing is absolute right or wrong. If certain disease genetic test is very accurate and it is unavoidable and necessary to get treatment and known by others, it is OK to disclose the result. Above all, life is more important than secret.']"
            ]
          },
          "metadata": {
            "tags": []
          },
          "execution_count": 175
        }
      ]
    },
    {
      "cell_type": "code",
      "metadata": {
        "id": "S4iwJd45kN5V"
      },
      "source": [
        "all_docs = conllsoup.find_all('doc')\n",
        "corrected_essays = []\n",
        "\n",
        "for doc in all_docs:\n",
        "    \n",
        "    # extract paragraphs\n",
        "    paragraph_lists = doc.find('text').text.strip().split('\\n\\n\\n')\n",
        "\n",
        "    # paragraph 별로 수정 진행\n",
        "    # make list that contains offset values\n",
        "\n",
        "    all_mistakes = doc.find_all('mistake')\n",
        "\n",
        "    for para_idx, para in enumerate(paragraph_lists):\n",
        "        edits = [mistake.attrs for mistake in all_mistakes if mistake.attrs['start_par'] == f'{para_idx}']\n",
        "\n",
        "        if len(edits) == 0:\n",
        "            continue\n",
        "        \n",
        "        edits = [{key: int(value) for key, value in edit.items()} for edit in edits]\n",
        "\n",
        "        # make list that contains correction information \n",
        "        corrections = [mistake.find('correction').text for mistake in all_mistakes if mistake.attrs['start_par'] == f'{para_idx}'] #start par과 end par은 항상 같은가?\n",
        "        \n",
        "        # reindexing\n",
        "        update_index(para, edits, corrections)\n",
        "\n",
        "        for edit_idx, edit in enumerate(edits):\n",
        "            para = edit_paragraph(para, int(edit['start_off']), int(edit['end_off']), corrections[edit_idx])\n",
        "\n",
        "        paragraph_lists[para_idx] = para\n",
        "\n",
        "    corrected_essays.append(' '.join(paragraph_lists))"
      ],
      "execution_count": null,
      "outputs": []
    },
    {
      "cell_type": "code",
      "metadata": {
        "colab": {
          "base_uri": "https://localhost:8080/"
        },
        "id": "nHavPIrF0-ZQ",
        "outputId": "2eb1b999-c9ff-4d0c-aa0c-6aa68bef3524"
      },
      "source": [
        "len(corrected_essays)"
      ],
      "execution_count": null,
      "outputs": [
        {
          "output_type": "execute_result",
          "data": {
            "text/plain": [
              "50"
            ]
          },
          "metadata": {
            "tags": []
          },
          "execution_count": 52
        }
      ]
    },
    {
      "cell_type": "code",
      "metadata": {
        "id": "fjV5HpiILkEW"
      },
      "source": [
        "import pickle"
      ],
      "execution_count": null,
      "outputs": []
    },
    {
      "cell_type": "code",
      "metadata": {
        "id": "8CwslqgvLfM2"
      },
      "source": [
        "sample_list = [1, 2, 3]\n",
        "file_name = \"corrected_essays.pkl\"\n",
        "\n",
        "open_file = open(file_name, \"wb\")\n",
        "pickle.dump(corrected_essays, open_file)\n",
        "open_file.close()\n",
        "\n"
      ],
      "execution_count": null,
      "outputs": []
    },
    {
      "cell_type": "code",
      "metadata": {
        "id": "8RXQm2w-MCFq"
      },
      "source": [
        "import pickle\n",
        "file_name = \"corrected_essays.pkl\"\n",
        "open_file = open(file_name, \"rb\")\n",
        "loaded_list = pickle.load(open_file)\n",
        "open_file.close()"
      ],
      "execution_count": null,
      "outputs": []
    },
    {
      "cell_type": "code",
      "metadata": {
        "colab": {
          "base_uri": "https://localhost:8080/",
          "height": 367
        },
        "id": "cNW5DYFKMIBQ",
        "outputId": "8e04e8dd-8204-4f41-fb24-cddd1369a13a"
      },
      "source": [
        "loaded_list[0]"
      ],
      "execution_count": null,
      "outputs": [
        {
          "output_type": "execute_result",
          "data": {
            "application/vnd.google.colaboratory.intrinsic+json": {
              "type": "string"
            },
            "text/plain": [
              "\"Keeping the Secret of Genetic Testing What is genetic risk? Genetic risk refers  to your chance of inheriting a disorder or disease. People get certain diseases because of genetic changes. How much a genetic change tells us about your chance of developing a disorder is not always clear. If your genetic results indicate that you have gene changes associated with an increased risk of heart disease, it does not mean that you definitely will develop heart disease. The opposite is also true. If your genetic results show that you do not have changes associated with an increased risk of heart disease, it is still possible that you will develop heart disease. However, for some rare diseases, people who have certain gene changes are guaranteed to develop the disease. When we are diagnosed with a certain genetic disease, are we supposed to disclose this result to our relatives? My answer is no. On the one hand, we do not want this potential danger to have frightening effects on our families' later lives. When people around us know that we have got a certain disease, their attitudes will easily be changed, whether it becaring about us too much or keeping away from us. And both are not what we want , since most of us just want to live as normal people. Surrounded by such concerns, it is very likely that we will be too distracted to worry about these problems. It is a concern that will be with us during our whole life, because we will never know when the ''potential bomb'' will explode. On the other hand, if there are things that can help us to control or cure the disease, we can go through this process with the whole family. For example, if exercising is helpful for apotential family disease, we can always look for more chances for the family to do exercise. And we can keep track of all family members' health. At the same time, we are prepared to know when there are other members who have got this disease. Here I want to share Forest's view on this issue. Although some people feel that an individual who is found to carry a dominant gene for Huntington's disease has a moral obligation to disclose that fact to his or her siblings, there is currently no legal requirement to do so. In fact, requiring someone to communicate his or her own genetic risk to family members who are therefore also at risk is considered by many to be ethically dubious. Nothing is absolutely right or wrong. If a certain genetic test for a disease is very accurate and it is unavoidable and necessary to get treatment and to make it known to others, it is OK to disclose the result. Above all, life is more important than secrecy.\""
            ]
          },
          "metadata": {
            "tags": []
          },
          "execution_count": 3
        }
      ]
    },
    {
      "cell_type": "code",
      "metadata": {
        "id": "r-QtnkQlfW2Y",
        "colab": {
          "base_uri": "https://localhost:8080/",
          "height": 158
        },
        "outputId": "1de510e5-0e09-4f80-eaf7-4e204f672142"
      },
      "source": [
        "corrected_essays[0]"
      ],
      "execution_count": null,
      "outputs": [
        {
          "output_type": "execute_result",
          "data": {
            "application/vnd.google.colaboratory.intrinsic+json": {
              "type": "string"
            },
            "text/plain": [
              "'Keeping the Secret of Genetic Testing What is genetic risk? Genetic risk refers  to your chance of inheriting a disorder or disease. People get certain diseases because of genetic changes. How much a genetic change tells us about your chance of developing a disorder is not always clear. If your genetic results indicate that you have gene changes associated with an increased risk of heart disease, it does not mean that you definitely will develop heart disease. The opposite is also true. If your genetic results show that you do not have changes associated with an increased risk of heart disease, it is still possible that you develop heart disease. However, for some rare diseases, people who have certain gene changes are guaranteed to develop the disease. When we are diagnosed with certain genetic diseases, are we suppose to disclose this result to our relatives? My answer is no. On one hand, we do not want this potential danger havingfrightening effects in our families\\' later lives. When people around us know that we have certain diseases, their attitude will easily change, whether caring for us too much or keeping away from us. And both are not what we want since most of us just want to live as normal people. Surrounded by such concerns, it is very likely that we are distracted and worry about these problems. It is a concern that will be with us during our whole life, because we  never know when the \\'\\'potential bomb\\'\\' will explode. On the other hand, if there are ways that can help us to control or cure the disease, we can go through these processes from the scope of the whole family. For  example, if exercising is helpful reducing family potential disease, we can always look for more chances for the family to do exerciseso we keep track of all family members health conditions. At the same time, we are prepared to know when there are other members who have got this disease. Here I want to share Forests\\'sview on this issue. Although some people feel that an individual who is found to carry a dominant gene for Huntington\\'s disease has an ethical obligation to disclose that fact to his or her siblings, there currently is no legal requirement to do so. In fact, requiring someone to communicate his or her own genetic risk to family members who are therefore also at risk is considered by many to be ethically dubious.\" Nothing is absolutely right or wrong. If a certain  genetic test is very accurate and it is unavoidable and necessary to get treatment and tell  others, it is OK to disclose the result. Above all, life is more important than secrets.'"
            ]
          },
          "metadata": {
            "tags": []
          },
          "execution_count": 53
        }
      ]
    },
    {
      "cell_type": "markdown",
      "metadata": {
        "id": "unja3yXDwvSm"
      },
      "source": [
        "## 2.2 2019 BEA-2019 Shared Task Dataset"
      ]
    },
    {
      "cell_type": "markdown",
      "metadata": {
        "id": "Vkxi2Knx1lT6"
      },
      "source": [
        "BEA Workshop은 Association for Computational Linguistics special interest group for building educational applications (SIGEDU)에서 매년 운영하는 워크숍입니다. BEA Workshop은 Workshop on Innovative Use of NLP for Building Educational Applications의 약자이며, NLP를 교육 도메인에 적용하는 활용 사례들을 다루는 워크숍입니다. \n",
        "\n",
        "2019년에 개최된 BEA-2019 워크숍에서 Shared Task로 GEC 문제를 다뤘습니다. 해당 대회에서 새롭게 제공한 데이터셋은 Cambridge English Write & Improve (W&I) 데이터와 LOCNESS corpus 입니다.\n",
        "\n",
        "Write & Improve는 비영어권 학생들이 글쓰기 자료를 올려서 향상할 수 있는 방법을 피드백 받는 온라인 플랫폼입니다. 2014년도 부터 W&I 데이터 어노테이터 (Annotator)들이 제출물들의 문법 오류를 수기로 기록을 해왔기 때문에, 본 대회에서는 해당 데이터를 훈련용, 검증용, 시험용 데이터로 공개했습니다. \n",
        "\n",
        "그 외에도 LOCNESS corpus를 공개했습니다. LOCNESS는 영국과 미국의 원어민 학부생들이 작성한 약 400개의 에세이가 담긴 말뭉치입니다. 필터링 과정을 거친 총 100개의 에세이를 W&I 데이터 어노테이터들이 라벨링 해서 검증용, 시험용 데이터로 공개했습니다. 샘플 개수가 100개 밖에 되지 않아 별도로 훈련용 데이터로는 제공하지 않았습니다. \n",
        "\n",
        "\n",
        "\n"
      ]
    },
    {
      "cell_type": "markdown",
      "metadata": {
        "id": "BGVOWMuDbIUz"
      },
      "source": [
        "- Creator: University of Cambridge\n",
        "- Year: 2019\n",
        "- Purpose: \n",
        "    - \n",
        "- Data:\n",
        "    - represents a wider range of native and learner\n",
        "English levels and abilities compared to CoNLL\n",
        "    -  350 essays (4,477 sentences) on approximately 50 topics written by 334 authors from around the world (including native English speakers)\n",
        "\n",
        "- Papers: https://www.aclweb.org/anthology/W19-4406.pdf"
      ]
    },
    {
      "cell_type": "markdown",
      "metadata": {
        "id": "UiOfE4G3Kl0y"
      },
      "source": [
        "### 2.2.1 W&I + LOCNESS 데이터 탐색"
      ]
    },
    {
      "cell_type": "code",
      "metadata": {
        "id": "mr_eJ6vTDrNr",
        "colab": {
          "base_uri": "https://localhost:8080/"
        },
        "outputId": "0af80612-7101-4ab7-e1a2-833df0632b72"
      },
      "source": [
        "!wget -O 'bea19.tar.gz' https://www.cl.cam.ac.uk/research/nl/bea2019st/data/wi+locness_v2.1.bea19.tar.gz"
      ],
      "execution_count": null,
      "outputs": [
        {
          "output_type": "stream",
          "text": [
            "--2021-04-04 18:45:41--  https://www.cl.cam.ac.uk/research/nl/bea2019st/data/wi+locness_v2.1.bea19.tar.gz\n",
            "Resolving www.cl.cam.ac.uk (www.cl.cam.ac.uk)... 128.232.0.20, 2a05:b400:110::80:14\n",
            "Connecting to www.cl.cam.ac.uk (www.cl.cam.ac.uk)|128.232.0.20|:443... connected.\n",
            "HTTP request sent, awaiting response... 200 OK\n",
            "Length: 6120469 (5.8M) [application/x-gzip]\n",
            "Saving to: ‘bea19.tar.gz’\n",
            "\n",
            "bea19.tar.gz        100%[===================>]   5.84M  5.09MB/s    in 1.1s    \n",
            "\n",
            "2021-04-04 18:45:43 (5.09 MB/s) - ‘bea19.tar.gz’ saved [6120469/6120469]\n",
            "\n"
          ],
          "name": "stdout"
        }
      ]
    },
    {
      "cell_type": "code",
      "metadata": {
        "id": "-LUgvxrIKCBh"
      },
      "source": [
        "!tar -xf bea19.tar.gz"
      ],
      "execution_count": null,
      "outputs": []
    },
    {
      "cell_type": "code",
      "metadata": {
        "id": "XQrQFraf2RtV"
      },
      "source": [
        "path = 'wi+locness/json/C.dev.json'"
      ],
      "execution_count": null,
      "outputs": []
    },
    {
      "cell_type": "code",
      "metadata": {
        "id": "zhtK8Vl8avGS"
      },
      "source": [
        "with open(path) as f:\n",
        "  data = f.readlines()"
      ],
      "execution_count": null,
      "outputs": []
    },
    {
      "cell_type": "code",
      "metadata": {
        "colab": {
          "base_uri": "https://localhost:8080/",
          "height": 158
        },
        "id": "R3nYYGNR2uPf",
        "outputId": "8f514840-acdd-4a72-9b75-acd89eeaa08d"
      },
      "source": [
        "data[0]"
      ],
      "execution_count": null,
      "outputs": [
        {
          "output_type": "execute_result",
          "data": {
            "application/vnd.google.colaboratory.intrinsic+json": {
              "type": "string"
            },
            "text/plain": [
              "'{\"edits\": [[0, [[89, 98, \"saw\"], [316, 316, \" for\"], [343, 343, \" for\"], [365, 365, \" a\"], [375, 375, \" the\"], [406, 406, \" a\"], [469, 471, \"of\"], [523, 527, \"know\"], [589, 594, \"chips\"]]]], \"userid\": \"24796\", \"text\": \"Dear Mrs. Ashby, \\\\n\\\\nYesterday I was in Green Pepper Cafe for a meal with colleagues and I have seen the advertisement for a job at weekends in your cafe. \\\\n\\\\nI am very interested in this work and believe that my employment background is appropriate for it. \\\\n\\\\nI am a Tourism student and I need to work at weekends to pay my studies. \\\\nI have worked one year in London as waiter in Hard Rock Cafe and 6 months as waiter also in Barcomi\\\\u2019s Cafe in Berlin. So I have experience in service, costumer care and working long hours. \\\\n\\\\nI Know how to prepare different kinds of food: sandwiches, fish and fries, hamburgers, Italian pasta, etc \\\\n\\\\nI am also very good at dealing with people, I have never had a complaint sheet!\\\\n\\\\nI have total availability at weekends and also in summer. \\\\n\\\\nI speak Spanish, English and German. \\\\n\\\\nPlease, find attached a copy of my CV, which expands on my experience and achievements. \\\\n\\\\nI am looking forward to talking with you about the possibility of working in this position. I am available to do an interview when it is convenient for you.\\\\n\\\\nThank you for your time and consideration. \\\\n\\\\n\\\\n\\\\nYours Sincerely, \\\\n\\\\n\\\\n\\\\nMar\\\\u00eda Luisa Castaneda del Acuna\\\\n\", \"cefr\": \"C2.ii\", \"id\": \"1-169309\"}\\n'"
            ]
          },
          "metadata": {
            "tags": []
          },
          "execution_count": 19
        }
      ]
    },
    {
      "cell_type": "code",
      "metadata": {
        "id": "1M5G849Nl_Us"
      },
      "source": [
        "import json\n",
        "\n",
        "data = list(map(json.loads, data))"
      ],
      "execution_count": null,
      "outputs": []
    },
    {
      "cell_type": "code",
      "metadata": {
        "colab": {
          "base_uri": "https://localhost:8080/"
        },
        "id": "t-7VB6VgmFiB",
        "outputId": "398f3ae6-2385-4e8a-f6f4-efcabd00f89a"
      },
      "source": [
        "len(data)"
      ],
      "execution_count": null,
      "outputs": [
        {
          "output_type": "execute_result",
          "data": {
            "text/plain": [
              "70"
            ]
          },
          "metadata": {
            "tags": []
          },
          "execution_count": 21
        }
      ]
    },
    {
      "cell_type": "code",
      "metadata": {
        "colab": {
          "base_uri": "https://localhost:8080/",
          "height": 35
        },
        "id": "rkXTiWi2fLuS",
        "outputId": "9cd3b654-57b0-47ea-ff95-ac1e434374d5"
      },
      "source": [
        "data[2]['text'][2766:2777]"
      ],
      "execution_count": null,
      "outputs": [
        {
          "output_type": "execute_result",
          "data": {
            "application/vnd.google.colaboratory.intrinsic+json": {
              "type": "string"
            },
            "text/plain": [
              "'her despite'"
            ]
          },
          "metadata": {
            "tags": []
          },
          "execution_count": 40
        }
      ]
    },
    {
      "cell_type": "code",
      "metadata": {
        "colab": {
          "base_uri": "https://localhost:8080/"
        },
        "id": "VNZ-DQa7gahe",
        "outputId": "71bd0863-6b31-4f4e-bbc8-c4f8d2fa4f86"
      },
      "source": [
        "# [0][1] used to parse the location of edits and corrections\n",
        "data[2]['edits'][0][1]"
      ],
      "execution_count": null,
      "outputs": [
        {
          "output_type": "execute_result",
          "data": {
            "text/plain": [
              "[[154, 154, ' any'],\n",
              " [155, 164, 'occurrence'],\n",
              " [254, 254, ','],\n",
              " [414, 414, ','],\n",
              " [490, 490, ','],\n",
              " [576, 576, ','],\n",
              " [672, 672, ','],\n",
              " [682, 690, '. Because'],\n",
              " [706, 706, ','],\n",
              " [798, 809, \"sweetheart's\"],\n",
              " [830, 834, 'shows'],\n",
              " [988, 989, ';'],\n",
              " [1112, 1115, ''],\n",
              " [1284, 1284, ','],\n",
              " [1655, 1655, ','],\n",
              " [1807, 1807, ','],\n",
              " [1849, 1853, 'led'],\n",
              " [1859, 1862, 'from'],\n",
              " [1877, 1877, ','],\n",
              " [1902, 1902, ','],\n",
              " [2373, 2380, 'leaves -'],\n",
              " [2442, 2445, 'that'],\n",
              " [2511, 2511, ','],\n",
              " [2598, 2602, 'grows'],\n",
              " [2766, 2777, 'he. Despite'],\n",
              " [2830, 2830, ','],\n",
              " [2989, 2989, ',']]"
            ]
          },
          "metadata": {
            "tags": []
          },
          "execution_count": 41
        }
      ]
    },
    {
      "cell_type": "markdown",
      "metadata": {
        "id": "0ry6xU1pQ5we"
      },
      "source": [
        "### 2.2.2 W&I + LOCNESS 데이터 전처리"
      ]
    },
    {
      "cell_type": "code",
      "metadata": {
        "id": "K0nRiVgpmbCx"
      },
      "source": [
        "import numpy as np\n",
        "\n",
        "def edit_paragraph(paragraph, start, end, correction):\n",
        "    return paragraph[:start] + correction + paragraph[end:]\n",
        "\n",
        "def update_index_BEA(paragraph, edits):\n",
        "    '''\n",
        "    paragraph: 원문\n",
        "    edits: edits from BEA_2019\n",
        "    '''\n",
        "    raw_words = []\n",
        "    corrections = []\n",
        "\n",
        "    # 1. detect all the words at offset values in the paragraph / O(offset)\n",
        "    for edit in edits:\n",
        "        raw_words.append(paragraph[edit[0]:edit[1]])\n",
        "        # make corrections\n",
        "        corrections.append(edit[2])\n",
        "\n",
        "    # 2. compare length change between the detected words and corrections (map is faster than list comprehension when it doesn't use lambda) / O(offset)\n",
        "    adjusted = np.array(list(map(len, corrections))) - np.array(list(map(len, raw_words)))\n",
        "\n",
        "    # cumulate adjusted values / O(offset)\n",
        "    for i in range(1, len(adjusted)):\n",
        "        adjusted[i] += adjusted[i-1]\n",
        "    \n",
        "    # 3. adjust the index sequentially / O(offset)\n",
        "    for i in range(1, len(edits)):\n",
        "        edits[i][0] += adjusted[i-1]\n",
        "        edits[i][1] += adjusted[i-1]\n",
        "\n",
        "    return corrections"
      ],
      "execution_count": null,
      "outputs": []
    },
    {
      "cell_type": "code",
      "metadata": {
        "id": "Cpqd2W7NZzhX"
      },
      "source": [
        "raw_words = []\n",
        "corrections = []\n",
        "for edit in edits:\n",
        "    raw_words.append(data[9]['text'][edit[0]:edit[1]])\n",
        "    corrections.append(edit[2])"
      ],
      "execution_count": null,
      "outputs": []
    },
    {
      "cell_type": "code",
      "metadata": {
        "id": "bNyIp83IjgFX",
        "colab": {
          "base_uri": "https://localhost:8080/",
          "height": 280
        },
        "outputId": "f39057d7-2af0-4520-e13a-0939546b8105"
      },
      "source": [
        "data[9]['text']"
      ],
      "execution_count": null,
      "outputs": [
        {
          "output_type": "execute_result",
          "data": {
            "application/vnd.google.colaboratory.intrinsic+json": {
              "type": "string"
            },
            "text/plain": [
              "\"On Britains roads there is an ever increasing volume of traffic. The road network is no longer able to carry this traffic without hold-ups and traffic jams.. To remedy this the government has started adding a fourth lane on some streches of our motorways and constructing ring roads and bypasses, with mixed reception. While the road system is being improoved there seems to be an endless series of roadworks which restrict the highways and cause further delay while the roadworks are in place. The inability to cope with the ammount of traffic by the road system obviously increases the risk of drives having an accident and the drivers have to be constantly alert as they are nearly always in capacity traffic. It might seem an easy soloution to this  mayhem would be to use public transport; i.e. the Railways. People are not taking to the Rail system because of its lack of integration due to the recent privitisation of different areas. It has been shown that different companies charge different fares for exactly the same route! The main disadvantage with the railways is as the rail service and the bus service are normally owned by different companies it is probable that it is not possible to walk onto a bus off the train. If the services were integrated there would be a bus time table which coincided with the train arrival times. Then people would be more likely to catch the train as they would not have to look forwards to a long walk, wait for a bos or an expensive taxi ride.\\nMy soloution to the problem would be to improve the rail system and its related bus services, this would get people of the roads and onto the trains. To improove the rail service trains have got to be timed to arrive and depart at key times i.e. arrive at eight o'clock and leave at half past six. The train and bus companies have to liase with each other and the train fares have to remain relatively cheap i.e. the same price or less as it would cost to go by car.\""
            ]
          },
          "metadata": {
            "tags": []
          },
          "execution_count": 81
        }
      ]
    },
    {
      "cell_type": "code",
      "metadata": {
        "id": "oC9bwmCOjamz",
        "colab": {
          "base_uri": "https://localhost:8080/",
          "height": 35
        },
        "outputId": "0c9ee3dc-01ca-4c72-a57a-38eb2f05d130"
      },
      "source": [
        "data[9]['text'][1422:1438]"
      ],
      "execution_count": null,
      "outputs": [
        {
          "output_type": "execute_result",
          "data": {
            "application/vnd.google.colaboratory.intrinsic+json": {
              "type": "string"
            },
            "text/plain": [
              "'look forwards to'"
            ]
          },
          "metadata": {
            "tags": []
          },
          "execution_count": 83
        }
      ]
    },
    {
      "cell_type": "code",
      "metadata": {
        "id": "V1ornAopi2oF",
        "colab": {
          "base_uri": "https://localhost:8080/"
        },
        "outputId": "656eaa5b-080d-4f2c-d038-1ac6aec8751f"
      },
      "source": [
        "corrections"
      ],
      "execution_count": null,
      "outputs": [
        {
          "output_type": "execute_result",
          "data": {
            "text/plain": [
              "[\"Britain's\",\n",
              " '-',\n",
              " '',\n",
              " ',',\n",
              " 'stretches',\n",
              " 'improved,',\n",
              " 'delays',\n",
              " 'amount',\n",
              " 'on the part of',\n",
              " 'drivers',\n",
              " None,\n",
              " 'solution',\n",
              " 'railways',\n",
              " 'rail',\n",
              " 'privatisation',\n",
              " ',',\n",
              " ',',\n",
              " ',',\n",
              " 'timetable',\n",
              " ',',\n",
              " None,\n",
              " 'bus',\n",
              " ' pay for',\n",
              " 'solution',\n",
              " '. This',\n",
              " 'off',\n",
              " 'improve',\n",
              " ',',\n",
              " ',',\n",
              " 'liaise',\n",
              " ',',\n",
              " ' as',\n",
              " 'than']"
            ]
          },
          "metadata": {
            "tags": []
          },
          "execution_count": 78
        }
      ]
    },
    {
      "cell_type": "code",
      "metadata": {
        "id": "tI1xI5ThnESe",
        "colab": {
          "base_uri": "https://localhost:8080/"
        },
        "outputId": "cb8ed78d-5257-44bf-de00-54df902f622d"
      },
      "source": [
        "[edit for edit in edits if edit[2] != None]"
      ],
      "execution_count": null,
      "outputs": [
        {
          "output_type": "execute_result",
          "data": {
            "text/plain": [
              "[[3, 11, \"Britain's\"],\n",
              " [34, 35, '-'],\n",
              " [156, 157, ''],\n",
              " [172, 172, ','],\n",
              " [229, 237, 'stretches'],\n",
              " [350, 359, 'improved,'],\n",
              " [455, 460, 'delays'],\n",
              " [526, 533, 'amount'],\n",
              " [545, 547, 'on the part of'],\n",
              " [596, 602, 'drivers'],\n",
              " [735, 744, 'solution'],\n",
              " [804, 812, 'railways'],\n",
              " [843, 847, 'rail'],\n",
              " [908, 921, 'privatisation'],\n",
              " [1078, 1078, ','],\n",
              " [1160, 1160, ','],\n",
              " [1265, 1265, ','],\n",
              " [1287, 1297, 'timetable'],\n",
              " [1395, 1395, ','],\n",
              " [1463, 1466, 'bus'],\n",
              " [1469, 1469, ' pay for'],\n",
              " [1497, 1506, 'solution'],\n",
              " [1586, 1592, '. This'],\n",
              " [1610, 1612, 'off'],\n",
              " [1647, 1655, 'improve'],\n",
              " [1672, 1672, ','],\n",
              " [1734, 1734, ','],\n",
              " [1828, 1833, 'liaise'],\n",
              " [1901, 1901, ','],\n",
              " [1921, 1921, ' as'],\n",
              " [1930, 1932, 'than']]"
            ]
          },
          "metadata": {
            "tags": []
          },
          "execution_count": 90
        }
      ]
    },
    {
      "cell_type": "code",
      "metadata": {
        "colab": {
          "base_uri": "https://localhost:8080/",
          "height": 360
        },
        "id": "3uB1NK1Pax-l",
        "outputId": "b7ff3dcf-3bd9-4b91-b302-27600ca49892"
      },
      "source": [
        "edits = data[9]['edits'][0][1]\n",
        "\n",
        "corrections = update_index_BEA(data[9]['text'], edits)\n",
        "\n",
        "edits"
      ],
      "execution_count": null,
      "outputs": [
        {
          "output_type": "error",
          "ename": "TypeError",
          "evalue": "ignored",
          "traceback": [
            "\u001b[0;31m---------------------------------------------------------------------------\u001b[0m",
            "\u001b[0;31mTypeError\u001b[0m                                 Traceback (most recent call last)",
            "\u001b[0;32m<ipython-input-88-5d126dfc201c>\u001b[0m in \u001b[0;36m<module>\u001b[0;34m()\u001b[0m\n\u001b[1;32m      1\u001b[0m \u001b[0medits\u001b[0m \u001b[0;34m=\u001b[0m \u001b[0mdata\u001b[0m\u001b[0;34m[\u001b[0m\u001b[0;36m9\u001b[0m\u001b[0;34m]\u001b[0m\u001b[0;34m[\u001b[0m\u001b[0;34m'edits'\u001b[0m\u001b[0;34m]\u001b[0m\u001b[0;34m[\u001b[0m\u001b[0;36m0\u001b[0m\u001b[0;34m]\u001b[0m\u001b[0;34m[\u001b[0m\u001b[0;36m1\u001b[0m\u001b[0;34m]\u001b[0m\u001b[0;34m\u001b[0m\u001b[0;34m\u001b[0m\u001b[0m\n\u001b[1;32m      2\u001b[0m \u001b[0;34m\u001b[0m\u001b[0m\n\u001b[0;32m----> 3\u001b[0;31m \u001b[0mcorrections\u001b[0m \u001b[0;34m=\u001b[0m \u001b[0mupdate_index_BEA\u001b[0m\u001b[0;34m(\u001b[0m\u001b[0mdata\u001b[0m\u001b[0;34m[\u001b[0m\u001b[0;36m9\u001b[0m\u001b[0;34m]\u001b[0m\u001b[0;34m[\u001b[0m\u001b[0;34m'text'\u001b[0m\u001b[0;34m]\u001b[0m\u001b[0;34m,\u001b[0m \u001b[0medits\u001b[0m\u001b[0;34m)\u001b[0m\u001b[0;34m\u001b[0m\u001b[0;34m\u001b[0m\u001b[0m\n\u001b[0m\u001b[1;32m      4\u001b[0m \u001b[0;34m\u001b[0m\u001b[0m\n\u001b[1;32m      5\u001b[0m \u001b[0medits\u001b[0m\u001b[0;34m\u001b[0m\u001b[0;34m\u001b[0m\u001b[0m\n",
            "\u001b[0;32m<ipython-input-69-2240cc096780>\u001b[0m in \u001b[0;36mupdate_index_BEA\u001b[0;34m(paragraph, edits)\u001b[0m\n\u001b[1;32m     19\u001b[0m \u001b[0;34m\u001b[0m\u001b[0m\n\u001b[1;32m     20\u001b[0m     \u001b[0;31m# 2. compare length change between the detected words and corrections (map is faster than list comprehension when it doesn't use lambda) / O(offset)\u001b[0m\u001b[0;34m\u001b[0m\u001b[0;34m\u001b[0m\u001b[0;34m\u001b[0m\u001b[0m\n\u001b[0;32m---> 21\u001b[0;31m     \u001b[0madjusted\u001b[0m \u001b[0;34m=\u001b[0m \u001b[0mnp\u001b[0m\u001b[0;34m.\u001b[0m\u001b[0marray\u001b[0m\u001b[0;34m(\u001b[0m\u001b[0mlist\u001b[0m\u001b[0;34m(\u001b[0m\u001b[0mmap\u001b[0m\u001b[0;34m(\u001b[0m\u001b[0mlen\u001b[0m\u001b[0;34m,\u001b[0m \u001b[0mcorrections\u001b[0m\u001b[0;34m)\u001b[0m\u001b[0;34m)\u001b[0m\u001b[0;34m)\u001b[0m \u001b[0;34m-\u001b[0m \u001b[0mnp\u001b[0m\u001b[0;34m.\u001b[0m\u001b[0marray\u001b[0m\u001b[0;34m(\u001b[0m\u001b[0mlist\u001b[0m\u001b[0;34m(\u001b[0m\u001b[0mmap\u001b[0m\u001b[0;34m(\u001b[0m\u001b[0mlen\u001b[0m\u001b[0;34m,\u001b[0m \u001b[0mraw_words\u001b[0m\u001b[0;34m)\u001b[0m\u001b[0;34m)\u001b[0m\u001b[0;34m)\u001b[0m\u001b[0;34m\u001b[0m\u001b[0;34m\u001b[0m\u001b[0m\n\u001b[0m\u001b[1;32m     22\u001b[0m \u001b[0;34m\u001b[0m\u001b[0m\n\u001b[1;32m     23\u001b[0m     \u001b[0;31m# cumulate adjusted values / O(offset)\u001b[0m\u001b[0;34m\u001b[0m\u001b[0;34m\u001b[0m\u001b[0;34m\u001b[0m\u001b[0m\n",
            "\u001b[0;31mTypeError\u001b[0m: object of type 'NoneType' has no len()"
          ]
        }
      ]
    },
    {
      "cell_type": "code",
      "metadata": {
        "id": "oHuMLnPHifYC",
        "colab": {
          "base_uri": "https://localhost:8080/"
        },
        "outputId": "797bd97b-4ceb-4f9f-ca49-2b7c161fba74"
      },
      "source": [
        "edits"
      ],
      "execution_count": null,
      "outputs": [
        {
          "output_type": "execute_result",
          "data": {
            "text/plain": [
              "[[3, 11, \"Britain's\"],\n",
              " [34, 35, '-'],\n",
              " [156, 157, ''],\n",
              " [172, 172, ','],\n",
              " [229, 237, 'stretches'],\n",
              " [350, 359, 'improved,'],\n",
              " [455, 460, 'delays'],\n",
              " [526, 533, 'amount'],\n",
              " [545, 547, 'on the part of'],\n",
              " [596, 602, 'drivers'],\n",
              " [695, 703, None],\n",
              " [735, 744, 'solution'],\n",
              " [804, 812, 'railways'],\n",
              " [843, 847, 'rail'],\n",
              " [908, 921, 'privatisation'],\n",
              " [1078, 1078, ','],\n",
              " [1160, 1160, ','],\n",
              " [1265, 1265, ','],\n",
              " [1287, 1297, 'timetable'],\n",
              " [1395, 1395, ','],\n",
              " [1422, 1438, None],\n",
              " [1463, 1466, 'bus'],\n",
              " [1469, 1469, ' pay for'],\n",
              " [1497, 1506, 'solution'],\n",
              " [1586, 1592, '. This'],\n",
              " [1610, 1612, 'off'],\n",
              " [1647, 1655, 'improve'],\n",
              " [1672, 1672, ','],\n",
              " [1734, 1734, ','],\n",
              " [1828, 1833, 'liaise'],\n",
              " [1901, 1901, ','],\n",
              " [1921, 1921, ' as'],\n",
              " [1930, 1932, 'than']]"
            ]
          },
          "metadata": {
            "tags": []
          },
          "execution_count": 68
        }
      ]
    },
    {
      "cell_type": "code",
      "metadata": {
        "id": "Ss8zpkmbaGyf"
      },
      "source": [
        ""
      ],
      "execution_count": null,
      "outputs": []
    },
    {
      "cell_type": "code",
      "metadata": {
        "id": "8-yFhL84Y4Qw"
      },
      "source": [
        "para = data[2]['text']\n",
        "\n",
        "for edit_idx, edit in enumerate(edits):\n",
        "    para = edit_paragraph(para, edit[0], edit[1], corrections[edit_idx])\n"
      ],
      "execution_count": null,
      "outputs": []
    },
    {
      "cell_type": "code",
      "metadata": {
        "colab": {
          "base_uri": "https://localhost:8080/",
          "height": 332
        },
        "id": "XfvmUagMZcFE",
        "outputId": "868b57bd-3096-4169-bc98-285ca28e8ad3"
      },
      "source": [
        "data[2]['text']"
      ],
      "execution_count": null,
      "outputs": [
        {
          "output_type": "execute_result",
          "data": {
            "application/vnd.google.colaboratory.intrinsic+json": {
              "type": "string"
            },
            "text/plain": [
              "\"How does Voltaire tackle the question of philosophical optimism in 'Candide'?\\n\\n\\tPhilosophical optimism -l'optimisme- is the philosophy that everything and occurence is for some good. Voltaire sets out in Candide to criticise this philosophy.\\n\\n\\tIn Candide the representative of this philosophy is Pangloss, the philosopher employed at Thunder-der-Troncks.\\n\\n\\tThe whole book is a criticism of l'optimisme. For example when Candide is forced to join the Bulgar army he is beaten almost to death but Candide does not concern himself because he know it is for his own good - in fact later in the book he uses his training to become a soldier. Although this would seem to be good it is not because of his training he kills two men, a Jew and an Archbishop with no hesitation and then proceeds to kill his sweethearts brother.\\n\\n\\tVoltaire show his dislike of l'optimisme when Pangloss, Candide and James are caught in a bad storm at sea in which James is drowned and there are only three survivors, Candide, Pangloss and a sailor. The storm was caused by an earthquake which destroys the city to which Candide was sailing to. On arrival they see starvation and death. Candide is obviously horrified, especially when the sailor begins pillaging the city. Candide looks to Pangloss for an answer but Pangloss can only tell him that some good will come of it.\\n\\n\\tCandide, although remaining true to the ideals of optimism, always appears to be sceptical of it. This is no more true than when he arrives in the new world, South America, and has to leave his darling Cunégonde with the Commissioner of the province. Candide cannot see what possible good can come of this especially as the reason that he was in America was due to him killing the Jew and Archbishop because they were Cunégonde's lovers. Throughout the book we begin to see how Candide is gradually lead away for l'optimisme or perhaps more importantly how l'optimisme is shown to be the philosophy of despair. The constant belief that good can come from bad is not actually inspiring but leads to a constant flow of disasters.\\n\\n\\tCandide's life, in the book, appears to show this. He is thrown out of Thunder-den-Tronck because he embraces Cunégonde, he is duped into the army, he is caught in an earthquake, he is almost killed as part of an auto-da-fé, he kills three churchmen, he is almost eaten, he finds Eldorado but leaves- the list continues. Candide's life is governed by his belief the good will prevail. Eventually, of course, he does marry Cunégonde but she is not the beautiful young flower that he once loved. She has become ugly and grew worse by the day. This illustrates emphatically the folly of l'optimisme. Candide has travelled the world in search of Cunégonde, with the hope that he will marry her despite all the trouble which he has gone through, of course in the end he does get Cunégonde but at the price of her looks and personality.\\n\\n\\tVoltaire, in Candide, shows how the philosophy of Optimism is one of despair not hope.\""
            ]
          },
          "metadata": {
            "tags": []
          },
          "execution_count": 47
        }
      ]
    },
    {
      "cell_type": "code",
      "metadata": {
        "colab": {
          "base_uri": "https://localhost:8080/",
          "height": 332
        },
        "id": "Lcn23S-2YscR",
        "outputId": "765cf6db-7bd2-40ae-da63-45284bb43deb"
      },
      "source": [
        "' '.join(para.split('\\n\\n\\t'))"
      ],
      "execution_count": null,
      "outputs": [
        {
          "output_type": "execute_result",
          "data": {
            "application/vnd.google.colaboratory.intrinsic+json": {
              "type": "string"
            },
            "text/plain": [
              "\"How does Voltaire tackle the question of philosophical optimism in 'Candide'? Philosophical optimism -l'optimisme- is the philosophy that everything and any occurrence is for some good. Voltaire sets out in Candide to criticise this philosophy. In Candide, the representative of this philosophy is Pangloss, the philosopher employed at Thunder-der-Troncks. The whole book is a criticism of l'optimisme. For example, when Candide is forced to join the Bulgar army he is beaten almost to death, but Candide does not concern himself because he know it is for his own good - in fact, later in the book he uses his training to become a soldier. Although this would seem to be good, it is not. Because of his training, he kills two men, a Jew and an Archbishop with no hesitation and then proceeds to kill his sweetheart's brother. Voltaire shows his dislike of l'optimisme when Pangloss, Candide and James are caught in a bad storm at sea in which James is drowned and there are only three survivors; Candide, Pangloss and a sailor. The storm was caused by an earthquake which destroys the city to which Candide was sailing. On arrival they see starvation and death. Candide is obviously horrified, especially when the sailor begins pillaging the city. Candide looks to Pangloss for an answer, but Pangloss can only tell him that some good will come of it. Candide, although remaining true to the ideals of optimism, always appears to be sceptical of it. This is no more true than when he arrives in the new world, South America, and has to leave his darling Cunégonde with the Commissioner of the province. Candide cannot see what possible good can come of this, especially as the reason that he was in America was due to him killing the Jew and Archbishop because they were Cunégonde's lovers. Throughout the book, we begin to see how Candide is gradually led away from l'optimisme or, perhaps more importantly, how l'optimisme is shown to be the philosophy of despair. The constant belief that good can come from bad is not actually inspiring but leads to a constant flow of disasters. Candide's life, in the book, appears to show this. He is thrown out of Thunder-den-Tronck because he embraces Cunégonde, he is duped into the army, he is caught in an earthquake, he is almost killed as part of an auto-da-fé, he kills three churchmen, he is almost eaten, he finds Eldorado but leaves - the list continues. Candide's life is governed by his belief that good will prevail. Eventually, of course, he does marry Cunégonde, but she is not the beautiful young flower that he once loved. She has become ugly and grows worse by the day. This illustrates emphatically the folly of l'optimisme. Candide has travelled the world in search of Cunégonde, with the hope that he will marry he. Despite all the trouble which he has gone through, of course, in the end he does get Cunégonde but at the price of her looks and personality. Voltaire, in Candide, shows how the philosophy of Optimism is one of despair, not hope.\""
            ]
          },
          "metadata": {
            "tags": []
          },
          "execution_count": 50
        }
      ]
    },
    {
      "cell_type": "code",
      "metadata": {
        "colab": {
          "base_uri": "https://localhost:8080/"
        },
        "id": "M6VO_xw3fJKH",
        "outputId": "5333b40d-61cb-4735-fd1d-f8ea9e3deeed"
      },
      "source": [
        "len(data)"
      ],
      "execution_count": null,
      "outputs": [
        {
          "output_type": "execute_result",
          "data": {
            "text/plain": [
              "50"
            ]
          },
          "metadata": {
            "tags": []
          },
          "execution_count": 51
        }
      ]
    },
    {
      "cell_type": "code",
      "metadata": {
        "colab": {
          "base_uri": "https://localhost:8080/",
          "height": 123
        },
        "id": "iCi6qjZGflsV",
        "outputId": "4106b0fa-8f6d-457c-c568-80f5b1ef8aef"
      },
      "source": [
        "data[0]['text']"
      ],
      "execution_count": null,
      "outputs": [
        {
          "output_type": "execute_result",
          "data": {
            "application/vnd.google.colaboratory.intrinsic+json": {
              "type": "string"
            },
            "text/plain": [
              "'Boxing is a common, well known and well loved sport amongst most countries in the world however it is also punishing, dangerous and disliked to the extent that many people want it banned, possibly with good reason.\\nBoxing is a dangerous sport, there are relatively common deaths, tragic injuries and even disease. All professional boxers are at risk from being killed in his next fight. If not killed then more likely paralysed. There have been a number of cases in the last ten years of the top few boxers having tragic losses throughout their ranks. This is just from the elite few, and theres more from those below them.\\nMore deaths would occur through boxing if it were banned. The sport would go underground, there would be no safety measures like gloves, a doctor, paramedics or early stopping of the fight if someone looked unable to continue. With this going on the people taking part will be dangerous, and on the streets. Dangerous dogs who were trained to kill and maim in similar underound dog fights have already proved deadly to innocent people, the new boxers could be even more at risk.\\nOnce boxing is banned and no-one grows up knowing it as acceptable there will be no interest in boxing and hopefully less all round interest in violence making towns and cities much safer places to live in, there will be less fighting outside pubs and clubs and less violent attacks with little or no reason.\\nchange the rules of boxing slightly would much improve the safety risks of the sport and not detract form the entertainment. There are all sorts of proposals, lighter and more cushioning gloves could be worn, ban punches to the head, headguards worn or make fights shorter, as most of the serious injuries occur in the latter rounds, these would all show off the boxers skill and tallent and still be entertaining to watch.\\nEven if a boxer is a success and manages not to be seriously hurt he still faces serious consequences in later life diseases that attack the brains have been known to set in as a direct result of boxing, even Muhamed Ali, who was infamous(?) both for his boxing and his quick-witted intelligence now has Alzheimer disease and can no longer do many everyday acts.\\nMany other sports are more dangerous than boxing, motor sports and even mountaineering has risks that are real. Boxers chose to box, just as racing drivers drive.'"
            ]
          },
          "metadata": {
            "tags": []
          },
          "execution_count": 53
        }
      ]
    },
    {
      "cell_type": "code",
      "metadata": {
        "id": "DGgnO7kvh_LT"
      },
      "source": [
        "from tqdm import tqdm"
      ],
      "execution_count": null,
      "outputs": []
    },
    {
      "cell_type": "code",
      "metadata": {
        "id": "TBvg38QqfFsl"
      },
      "source": [
        "corrected_essays = []\n",
        "\n",
        "for doc in tqdm(data):\n",
        "    \n",
        "    # extract paragraphs\n",
        "    essay = doc['text']\n",
        "\n",
        "    # paragraph 별로 수정 진행\n",
        "    # make list that contains offset values\n",
        "\n",
        "    edits = doc['edits'][0][1]\n",
        "    edits = [edit for edit in edits if edit[2] != None]\n",
        "    corrections = update_index_BEA(essay, edits)    \n",
        "\n",
        "    for edit_idx, edit in enumerate(edits):\n",
        "        essay = edit_paragraph(essay, edit[0], edit[1], corrections[edit_idx])\n",
        "\n",
        "    corrected_essays.append(' '.join(essay.split('\\n\\n\\t')))"
      ],
      "execution_count": null,
      "outputs": []
    },
    {
      "cell_type": "code",
      "metadata": {
        "id": "i8kcW7znoDD0",
        "colab": {
          "base_uri": "https://localhost:8080/",
          "height": 315
        },
        "outputId": "efe6086b-86f9-4d4b-cf19-b3c16ea69dc9"
      },
      "source": [
        "data[49]['text']"
      ],
      "execution_count": null,
      "outputs": [
        {
          "output_type": "execute_result",
          "data": {
            "application/vnd.google.colaboratory.intrinsic+json": {
              "type": "string"
            },
            "text/plain": [
              "'Violence on television can be seen throughout the many channels that cable has to offer.  With an average national TV viewing time of 7 1/4 hours daily, the prevalence of violence in broadcasts is a serious concern.  Television programming in the United States is considered the most violent in advanced industrialized nations (Hepburn 1).  Many children watch violent tv shows because the action thrills them and can sometimes cause the child to become violent.  Violence is common in TV entertainment-- the dramas that portray stories about crime, psychotic murderers, police cases, emergency services, international terrorism, and war (Hepburn 1).  Television violence is prevalent in the United States and some people disagree with its effects on children.\\nThe V-chip is an electrical device that blocks out violent television shows.  Some people, such as the Senate Commerce Committee, are not satisfied with it.  The Senate Commerce Committee approved bills creating a partial ban on TV violence and a so-called report card that would identify stations carrying violent programming and the advertisers sponsoring it.  The bills would apply to broadcasting and cable (Stern 1).\\nSome of the proposals to antiviolence are as follows: the Senate V-chip, the House V-chip, a Technology Fund, a Violence Safe Harbor, and a Violence Report Card.  These proposals could work if Congress had some support.  The National Association of Broadcasters accused the Senate of \"piling on a stream of proposals to build up an unprecedented federal censorship bureaucracy\".  The NAB also insisted that broadcasters already have responded to concerns over violence on television (Stern 1).\\nSome television shows show violence because it appeals to adult viewers.  If a certain plot involves a murder, then the murder must happen.  Some people may not want the actual murder to be shown, but that is up to whomever is writing the television show.  Many made for television movies say that it may contain violent scenes and that viewer discretion is advised, but how many parents actually watch television with their teenager?\\nAn exhaustive examination of the broadcast networks\\' programming during the 1995-1995 season has concluded that sinister combat violence\\' pervades a significant number of Saturday-morning cartoons (Jensen 1).  How much violence is there? The most violent cartoons are \\'Teenage Mutant Ninja Turtles\\', \\'Spider Man\\', and some \\'Bugs Bunny\\' episodes with Elmer Fudd.  As for the shows containing sinister combat violence, well that is strictly up to the viewer to decide.\\nThe cause for television violence is to add texture to the show and not to poison children\\'s minds.  The infamous V-chip may stop some shows from being shown to children, but one day that child will see violence and they will have to deal with it, rationally or not.'"
            ]
          },
          "metadata": {
            "tags": []
          },
          "execution_count": 110
        }
      ]
    },
    {
      "cell_type": "code",
      "metadata": {
        "id": "6zmMnuXHnmKB",
        "colab": {
          "base_uri": "https://localhost:8080/",
          "height": 315
        },
        "outputId": "0442434d-3935-4fe8-a17a-367369b2150f"
      },
      "source": [
        "corrected_essays[49]"
      ],
      "execution_count": null,
      "outputs": [
        {
          "output_type": "execute_result",
          "data": {
            "application/vnd.google.colaboratory.intrinsic+json": {
              "type": "string"
            },
            "text/plain": [
              "'Violence on television can be seen throughout the many channels that cable has to offer.  With an average national TV viewing time of 7 1/4 hours daily, the prevalence of violence in broadcasts is a serious concern.  Television programming in the United States is considered the most violent in advanced industrialized nations (Hepburn 1).  Many children watch violent TV shows because the action thrills them and can sometimes cause the child to become violent.  Violence is common in TV entertainment-- the dramas that portray stories about crime, psychotic murderers, police cases, emergency services, international terrorism, and war (Hepburn 1).  Television violence is prevalent in the United States and some people disagree about its effects on children.\\nThe V-chip is an electrical device that blocks out violent television shows.  Some people, such as the Senate Commerce Committee, are not satisfied with it.  The Senate Commerce Committee approved bills creating a partial ban on TV violence and a so-called report card that would identify stations carrying violent programming and the advertisers sponsoring it.  The bills would apply to broadcasting and cable (Stern 1).\\nSome of the anti-violence proposals are as follows: the Senate V-chip, the House V-chip, a Technology Fund, a Violence Safe Harbor, and a Violence Report Card.  These proposals could work if Congress had some support.  The National Association of Broadcasters accused the Senate of \"piling on a stream of proposals to build up an unprecedented federal censorship bureaucracy\".  The NAB also insisted that broadcasters already have responded to concerns over violence on television (Stern 1).\\nSome television shows show violence because it appeals to adult viewers.  If a certain plot involves a murder, then the murder must happen.  Some people may not want the actual murder to be shown, but that is up to whomever is writing the television show.  Many made-fortelevision movies say that they may contain violent scenes and that viewer discretion is advised, but how many parents actually watch television with their teenager?\\nAn exhaustive examination of the broadcast networks\\' programming during the 1995-1995 season has concluded that sinister combat violence pervades a significant number of Saturday-morning cartoons (Jensen 1).  How much violence is there? The most violent cartoons are \\'Teenage Mutant Ninja Turtles\\', \\'Spider Man\\', and some \\'Bugs Bunny\\' episodes with Elmer Fudd.  As for the shows containing sinister combat violence, well that is strictly up to the viewer to decide.\\nThe reason for television violence is to add texture to the show and not to poison children\\'s minds.  The infamous V-chip may stop some shows from being shown to children, but one day that child will see violence and they will have to deal with it, rationally or not.'"
            ]
          },
          "metadata": {
            "tags": []
          },
          "execution_count": 109
        }
      ]
    },
    {
      "cell_type": "code",
      "metadata": {
        "id": "VPEbsOHjm3Wp",
        "colab": {
          "base_uri": "https://localhost:8080/"
        },
        "outputId": "30f97603-aa08-439a-f922-57b7fc7c2b85"
      },
      "source": [
        "corrected_essays"
      ],
      "execution_count": null,
      "outputs": [
        {
          "output_type": "execute_result",
          "data": {
            "text/plain": [
              "[]"
            ]
          },
          "metadata": {
            "tags": []
          },
          "execution_count": 87
        }
      ]
    },
    {
      "cell_type": "code",
      "metadata": {
        "id": "G1ExgvhYiYuU",
        "colab": {
          "base_uri": "https://localhost:8080/"
        },
        "outputId": "fe16fd0e-da49-45dd-ddaa-7712cc1b328b"
      },
      "source": [
        "corrected_essays"
      ],
      "execution_count": null,
      "outputs": [
        {
          "output_type": "execute_result",
          "data": {
            "text/plain": [
              "[\"Boxing is a common, well-known and well-loved sport in most co. However,in the world however it is also punishing, dangerous and disliked to the extent that many people want it banned, possibly with good reason.\\nBoxing is a dan. Theresport, there are relatively common deaths, tragic injuries and even disease. All professional boxers are at risk from beintheirilled in his next fight. If not ki,lled then more likely paralysed. There have been a number of cases in the last ten years of the top few boxers having tragic losses among their ranks. This is just fromthere'slite few, and theres more from those below them.\\nMore deaths would occur through boxing if it were banned. The sport would and go underground, there would be no safety measures like gloves, a doctor, paramedics or early stopping of the fight if someone looked unable to continue. With this going on, the people taking part will be dangerous, and on the streets. Dangerous dogs who were trained to kill and maim in similar undeunderground fights have already proved deadly to innocent people, the new bo. Thecould be even more at risk.\\nOnce boxing is banned and no-one grows up knowing it as acceptable there will ,be no interest in boxing and hopefully less ,all round inte,rest in violence making towns and cities, much safer places to live in, there will be less fightin. Therede pubs and clubs and less violent attacks with little or no reason.\\nchfor the rules of boxiChangingghtly would much improve the safety risks of the sport and not detract form the entertainment. There arfroml sorts of proposals, lighter and more cushioning gl;ves could be worn, ban punches to the head, headguards worn or make fights shorter, as most, of the serious injuries occur in the latter rounds, these would all show latere b. Thesekill and tallent and still be 'entertaining totalent\\nEven if a boxer is a success and manages not to be seriously hurt he still faces serious conseque,nces in later life diseases that attack the brains hav. Diseasesown to set in as a direct result of boxing, even Muhamed Ali, who was infamous(?) . Evenor his boxing and his quick-witted intelligence now has Alzheimer disease and can no lo,nger do many everyday 'sacts.\\nMany other sports are more dangerous than boxing, motor sports and even mountaineering has risks tha; are real. Boxers chose to box, just ahaveacing drivers drive.\",\n",
              " \"In many of the minority works of modern literature, there can be some emphasis on rebellion against oppressive forces. Although such a show of strength by these works' characters is sometimes viewed as a violent and therefore negative contribution to the otherwise insightful thought of the author, it is this conflict upon which many stories of ethnic American literature are based. However, such a rebellion cannot be seen clearly in each minority work, and, therefore, the products of ethnic American literature cannot be categorized as merely the result of years of oppression. Rather, this ever-changing and ever-challenging aspect of minority literature creates an especially important necessity that each work be considered individually as both a product of years of struggle and a work inherently distinct from any other.\\n\\nIn the minority works, the conflict and rebellion presented accurately reflects society as a whole, and although the mothers in The Joy Luck Club rebel against such forces as arranged marriages, Tita in Like Water for Chocolate fights to overcome old family traditions, and the Indian tribes in Love Medicine struggle to secure their inherent rights from the US government, the characters' conflicts reflect similar conflicts of other cultures. Rebellion is seen not as a distinct force in minority cultures, but rather as a binding force between all cultures, for Celie, too, resists her arranged marriage in The Color Purple, and the murderous loves in Jazz reflect Tita and Pedro's destructive passion in Like Water for Chocolate. Rebellion and conflict are emphasized in ethnic American literature, but they are portrayed no more strongly in minority works than they are portrayed in other pieces of literature. Emphasis changes with each work, and although figures of authority aparticularlyary oppressive in works such as Like Water for Chocolate and The Color Purple, other minority works including Love Medicine and Jazz do not reflect the clearly defined authoritarian figures nor the obvious rebellion of the characters' responsive action which the previously mentioned works show. This again implies that theethnicnic American pieces of literature cannot be categorized as merely rebellious responses to oppression, but as individual reflections of personal and cultural experiences.\",\n",
              " \"How does Voltaire tackle the question of philosophical optimism in 'Candide'? Philosophical optimism -l'optimisme- is the philosophy that everything and any occurence isoccurrence good. Voltaire sets out in Candide to criticise this philosophy. In Candide the representa,tive of this philosophy is Pangloss, the philosopher employed at Thunder-der-Troncks. The whole book is a criticism of l'optimisme. For example when Candide is f,orced to join the Bulgar army he is beaten almost to death but Candide does not, concern himself because he know it is for his own good - in fact later in the book he us,es his training to become a soldier. Although this would seem to be good it is not because of his t,raining he ki. Becausemen, a Jew and an A,rchbishop with no hesitation and then proceeds to kill his sweethearts brother. Voltaire showsweetheart'se of l'optimisme when Pashowsss, Candide and James are caught in a bad storm at sea in which James is drowned and there are only three survivors, Candide, Pangloss and a sailor. The stor; was caused by an earthquake which destroys the city to which Candide was sailing to. On arrival they see starvation and de. Candide is obviously horrified, especially when the sailor begins pillaging the city. Candide looks to Pangloss for an answer but Pangloss can only tell him t,hat some good will come of it. Candide, although remaining true to the ideals of optimism, always appears to be sceptical of it. This is no more true than when he arrives in the new world, South America, and has to leave his darling Cunégonde with the Commissioner of the province. Candide cannot see what possible good can come of this especially as the reason that he wa,s in America was due to him killing the Jew and Archbishop because they were Cunégonde's lovers. Throughout the book we begin to see how Candide is gradual,ly lead away for l'optimisme or perhaps more ledrtafromy how l'optimisme ,is shown to be the philosoph,y of despair. The constant belief that good can come from bad is not actually inspiring but leads to a constant flow of disasters. Candide's life, in the book, appears to show this. He is thrown out of Thunder-den-Tronck because he embraces Cunégonde, he is duped into the army, he is caught in an earthquake, he is almost killed as part of an auto-da-fé, he kills three churchmen, he is almost eaten, he finds Eldorado but leaves- the list continues. Candide's life is goleaves -by his belief the good will prevail. Eventually, of course, he dothatmarry Cunégonde but she is not the beautiful young flower that he onc,e loved. She has become ugly and grew worse by the day. This illustrates emphatically the growsy of l'optimisme. Candide has travelled the world in search of Cunégonde, with the hope that he will marry her despite all the trouble which he has gone through, of cohe. Despite end he does get Cunégonde but at the price of her lo,oks and personality. Voltaire, in Candide, shows how the philosophy of Optimism is one of despair not hope.,\",\n",
              " \"It would be tempting to think of the various European Communities as an embryonic United States of Europe; especially when we hear politicians talk of the importance of European Unity. Howe,ver it is important to realise that Europe is a very long way from becoming anything like the United States. When the original 13 American states resolved to form what is now the United States of America, they were intent on forming a political as well as economic entity. They were prepared to yield as much of their own sovereignty as would be essential to allow the newly-formed national government to operate as a single international political force. A balance was therefore struck in the constitution to allow the individual states as much self-government as possible while ensuring that, for example in military matters, the central government spoke for all. It is true that today one still hears the old dispute over state sovereignty and attempts to return some power to the individual states, but no-one would challenge the fact that, on matters external to the United States, the government in Washington represents the sole policy-making body.\\n\\t\\tIn Europe it is quite clear that many people would like to see a political union of the countries, since this would produce a formidable international military force. However it, is equally clear that while there might be some unified political action flowing from the European Communities (such as was seen over Europe's response to the British involvement in the Falkland Islands dispute), the Communities were intended as purely economic entities in the first place. Membership almost certainly involves some loss of national sovereignty, but the United Kingdom could probably leave the community by a simple majority vote in the Westminster Parliament, something which no state in the United States could lawfully do. We are still a very long way from a Single Parliament for Western Europe with power to make political decisions for all ; and,ven with 1992 approaching and a single market th,e gulf between the UK and Europe is very wide.\\n\\t\\tThe supremacy of Parliament will never be challachallengedability to make and break any law - made by it or Europe - means that it retains full sovereignty. Even if today it made laws to thwould unite it fully with Europe and relinquish its sovereignty for ever, it could tomorrow repeal all those laws. The fact that Parliament does not bind itself or cannot be bound by any political body means that it can never lose its sovereignty unless a majority of the population wished it and Parliament consented.\\n\\t\\tBut with the average jingoistic Briton there is no chance of us curing ourselves of our xenophobia and ever wishing to be fulintegratedted with Europe. Even now the channel tunnel has joined us to the continent we still consider ourselves to be separated from the, world standing alone against a hostile world.\",\n",
              " 'Naturally, the problems of a single Europe would run as deeply as the benefits that we would presumably ultimately receive.\\n\\t\\tIt seems to me that, for the past few centuries, Britain has always considered itself to be detached from the rest of Europe. Whenever necessary, she has allied herself to European powers, such as in times of war of ortreme distrust.\\n\\t\\tBritain has been eager to maintain a secure balance of power on the continent, but throughout history, she has been more concerned with her oversees empires than with anywhere else.\\n\\t\\tIn the latlas-lf cent,ury though, her empire has diminished and she has had to face mounting responsibility in Europe.\\n\\t\\tBecause of her history of isolated sovereignty, it is difficult to accept being a part of a single Europe.\\n\\t\\tFor instance, British law is based largely upon precedent, that is ju,dge judgementlaw. We have established a system of law which dates back many centuries, and which is widely known and respected. There is very little European influence on our law, of course in many respects . Inwill be the same, but the lack of influence will display many differences.\\n\\t\\tWith the creation of a single Europe, new law will have to be accepted throughout the continent, and it will cause both confusion and conflict.\\n\\t\\tThe British tend to be very proud and possessive of the law, and changes may well cause illfeeling and disconill-feelingourse, the same points will apply to the monetary system in Europe. Will there just be one system ?\\n\\t\\tThe country typically is against major change and something as fundamental as money would cause problems if it was to be altered.\\n\\t\\tOur individual monetary system I suppose, could be see,n as a symbol of sovereignty.\\n\\t\\tIt can be said that if a single Europe was created, problems may arise over its fundamental political concepts. Of course Britain would lose her sovereignty, as would the other nations of the union.\\n\\t\\tIt has been suggested that the Single Union could be based on a basic federal structure, whereby local autonomy could be saved, but the union as a whole could work together in a democratic manner.\\n\\t\\tTo a certain extent, even if sovereignty was lost, some national personality would be preserved. The fact is that, when united, European unity would still in essence be divided. The,re will always, be aspects of one society that the others will never accept.\\n\\t\\tEurope as a whole faces the same problems, and therefore, if a single Europe was created, uniting Britain, the problems could be dealt with quickly and efficiently.\\n\\t\\tIf the Federalists achieved their aims in a European unity, they would do their best to achieve democracy and promote it nationally, so that individuality is preserved, and that all of their positive features will be known.\\n\\t\\tThe problem facing the British, really results from their isolated past. The sovereignty of the nation has deep roots, and the fears of losing it are very great.\\n\\t\\tWhether this would reallyen awaits to be seen, and would depend completely on the terms of the union, and the negotiations and feelings of the general public and the politicians leading the countries.',\n",
              " \"With 1992 now only a year away, the question of what a Single Europe will mean for Britain becomes increasingly relevant.\\n\\tI firmly believe that the advent of 1992 will result in a loss of sovereignty for Britain. This loss need not however be negative. In fact, in political, economic and defence terms, I feel this  reareallocation resources can and will be very positive. Whilst to a ,certain extent I may be, guilty of having an island mentality, I wouldn't go as far as to say Britain is in danger of handing all control over to faceless beaurocrats bureaucrats or Strasbourg.\\n\\tThroughout the world a wind of c,hange is apparent, but especially so in Europe. This process will continue and Europe the rest of th ande world will evolue with or without the evolveipation of Britain in this process.\\n\\tIt is my belief that Britain must be involved in the decision making which will decision-makingde the new world order. However to be fully involved, sacr,ifices have to be made. Such sacrifices will involve certain aspects of our sovereignty. In relenquishing and thus centralrelinquishing powers, the aim is not to diminish the strength of individual nations but to increase the overall impact of Europe on the world stage.\\n\\tAs amply demonstrated by recent events in the Gulf, European cooperation in the field of defence can  be both impressive and effective. Whilst I would be reluctant to hand over all control to defence to any central bodyofI can see a future for some ,orm of European rapid reaction force. Whilst to an extent crippling defenc,e costs could be, cut this would not necessarily lead to ,a reduction in the size of defence available.\\n\\tIn political terms, regardless of legislation, Britain like the rest of Europe is becoming in,creasingly cosmopolitan in ,terms of the population composition. The North Sea will increasingly's come to represent a mere puddle as people move between countries. I feel it is important for Britain to join fully with its European partners to adapt to these changes in demography. Politically we are moving closer together. Possible problems s,hould be studied and solved if possible before they happen.\\n\\tE.R.M. is already upon us but in this area I feel Britain should be especially ,careful. Whilst not pretending to fully understand this system I do know that no system can lower interest rates, and i,nflation while raising growth, with the possible exception of the Magic Circle. In the area of the single currency, again I feel this is inevitable. What is important is to base this currency on the strong currencies within the EEC as opposed to an average based system.\\n\\tTo conclude I would say a single Europe is a-ready happening and that i,t will continue to do so is guaranteed. Britain must not concern itself with loss of sovereignty but gain of the European equivalent. If we miss the boat I think we will drawn before the next boat comes.drown\",\n",
              " 'When the treaty of Rome was signed in 1957, the foundation was laid for a new \"continent\" - a united Europe. It was said that Europe would not be created quickly, but over several years. When Britain entered the European Community in 1973, after a national referendum, the debate began concerning BriBritain\\'slationship with Europe. When 1992 was set as the date for the singleSingleean Market, the debate flared up again, but over how far Britain should be integrated. The rest of Europe seems prepared for 1992 but B,ritain seems to be decidedly hesitant. The former Prime Minister, Margaret Thatcher was not been to lead  Britain into a United Europe because she felt it would lead to a loss of our sovereignty.\\n\\t\\tThere is no doubt an integrated market would have multiple benefits for the countries involved. Businesses and other trading organizations are preparing themselves for 1992, and the single market. Trade will be easier, with no frontier controls allowing fr,ee flowing transportation of merchandise. There will be business booms and free competition with the removal of protective practices, along with greater freedom to travel.\\n\\t\\tMany Britons would consider Europe has affected Britain too much already, with decimalization, the new Euro-passports and now the pound sterling being tied to the ECU. They may feel Britain is being pulled into Europe. Further changes are forecast for Britain, effecting day taffectingters, to create a \"European Standard\". This may make Britons resentful of Europe and tired of \"1992 and all that\". A single market requires one central institution to co-ordinate all movements of goods and policies. Will the people of Britain be prepared to give up their government and be directed from Strasbourg or Brussels?. Many people wuld not. Will the day come when the pound sterling is taken over by the ECU ? It may well - but will the Britonse a chance to voice their opinions and views ?\\n\\t\\tEurope may argue that the benefits from a single integrated market would far outweigh any national drawbacks. As the date draws nearer, the awareness of Britons about Europe must increase. They must look into the future and consider possible effects. Will Britain be drawn into Europe against its will ? Pewill?as more of Britain becomes \"Eurofied\", Britons will wake up and see their sovereignty is being taken away. Britain has never geographically been a part of Europe. We are in the EEC and we should be able to benefit from free trade. We have been an island for too long - being independent and able to stand alone. We have a sound democratic process, which many people would not want to give this up . A fully integrated market with Britain as a full member would be to the detriment of our political system and consequently leadinleadloss of sovereignty.',\n",
              " 'There has been such a lot of talk about a Single Europe in recent years that it is hard to believe that it will be upon us very soon.  Now that it is a reality, and not just a probability, the question in the minds of many Britons is, indindeed:ll this mean a loss of sovereignty for Britain or the birth of a nation? Firstly, a positive approach.  Looking at things from an economic perspective, this is not a problem.  The benefits in terms of cost-cutting owing to doing things once, instead of twelve times, will be enormous.  Firms, because of being able to pool their resources, will be able to devote more time to research and development, and thus products will improve.  Europe will therefore be a nation to be reckoned with as regards competition. To look at things on a more individual level, every member of the new Single Europe\\'s standard of living should increase.  A greater potential of ideas from a greater number of experts will, in theory, result in more knowledgeable and better-informed individuals.  Simplicity is one of the Commission\\'s key aims, with the idea that if things are simpler and more easy for everyone to understand, people will be happier, get on better.  If this is so, they should also work better.  Ideally then, there should be more equality, less crime, greater productivity and greater economic growth. On the other hand, will this Single Europe mean a loss of sovereignty for Britain?  It must be remembered that not only does Britain have a small population compared to the majority of the other member states, but it is an island - which none of the others are.  Why should this matter?  Well, Britain has quite a history and therefore a fair number of traditions.  It is possible that it could become engulfed in the new Single Europe and lose its identity.  Britons (especially those from older generations) may then feel \"lost\" and that they do not really \"belong\" any more.  The new Single Europe may be too new and unknown for them to make their allegiance to it.  Then there is the question as to whether all this idealism really will work.  Will there be greater prosperity, better-informed, happier citizens, or will this never come off because of politicians being unable to agree on policies?  Britain, although small, is more often than not in ate fore of international matters, taking a definite stance on what it considers to be right.  Has it then not got quite a lot at stake, its character at least, in integrating itself into this Single Europe? No one would dispute that this is a difficult question.  The fact remains however that next year (in 1992) there is going to be a Single Europe.  This, as everyone is well aware, is not going to be achieved with ease, but the more tolerant every member state is of each other, the more successful the Single Europe will be.  It is up to Britain therefore to accept this fact and to show an example by leading the way as regards toltoleranceThen we will all be able to look at the future in a more positive way.',\n",
              " 'The European Community is a unique grouping of twelve sovereign European Member States who are committed to the development of closer economic and political co-operation. The community has an aim to break down the economic and political barriers that have traditionally divided Europe. In particular, the community seeks to facilitate greater movement within its frontiers; movement not only of goods but of services, capital and people. However, the issue of sovereignty is certainly a much debated one: to what extent should a member hand over its sovereignty to the Community, if at all? Let us look at the founding of the European Community, before we discuss the issue of sovereignty in more detail.\\n\\t\\tThere were several attempts at peaceful unification after the First World War, but only after Europe had again been devastated by war was the futility of national rivalry truly apparent. The political and economic exhaustion of the European states called for a fresh start and a far more radical approach to the re-ordering of Europe. This fresh start came about because of three main factorFirstly, was Europe\\'s realization of her own weakness, after having lost her age-old position at the centre of the world stage to the United States of America and to the Soviet Union. These superpowers were ecmilitarily militarally and politically stronger than the divided individual EuSecondtates. Secondly was the conviction that militaonflict should in the future be avoided; after all, the two great wars had bothThirdas European \"civil wars\". Thirdly was the common desire for a better, freer world in which international relations would be conducted in a more orderly way. One of the first major moves towards European integration was the creation of the European Economic Community, in 1958. Its membership has grown from the ten original founder countries to twenty-three. One of the most innovative features of the European Community compared with other international bodies is that the member states have ceded to it a part of their national sovereignty and endowed it with its own sovereign powers, which it can use to adopt acts, having the force of national law. This novel approach to pooling national so1970snty is called \"integration\". The 1970\\'s saw progress in integration, with the introduction of community policy instruments, which enabled greater scope for national policies. \\n\\t\\tAll of the member states agree in principle to the idea of a single market by 1992, however each wish their own interests to be safeguarded. This is to say that none want to sacrifice their national sovereignty, many want unanimous voting, not majority voting. Many see this issue as a threat to lead town regulations and laws, and could foresee a drop in standards if they do not stand firm.\\n\\t\\tThe situation is see,n as a threat to the countries in question who do not wish to boldly give up their sovereignty for the sake of European unity. Whether or not the continuation of the progsuccessfulhe field of European unity is sucessful depends very much on the people of Europe. If a feeling of European unity develops and can be sustained, the threat will subside as a feeling of identity takes over.']"
            ]
          },
          "metadata": {
            "tags": []
          },
          "execution_count": 66
        }
      ]
    },
    {
      "cell_type": "code",
      "metadata": {
        "colab": {
          "base_uri": "https://localhost:8080/"
        },
        "id": "L59UC8LEd_q2",
        "outputId": "143b3d35-9351-4a1b-a7c6-eed0282aa472"
      },
      "source": [
        "type(t)"
      ],
      "execution_count": null,
      "outputs": [
        {
          "output_type": "execute_result",
          "data": {
            "text/plain": [
              "_io.TextIOWrapper"
            ]
          },
          "metadata": {
            "tags": []
          },
          "execution_count": 9
        }
      ]
    },
    {
      "cell_type": "code",
      "metadata": {
        "id": "H4ynd_FqjV4O"
      },
      "source": [
        "def squad_json_to_dataframe_train(input_file_path, record_path = ['data','paragraphs','qas','answers'],\n",
        "                           verbose = 1):\n",
        "    \"\"\"\n",
        "    input_file_path: path to the squad json file.\n",
        "    record_path: path to deepest level in json file default value is\n",
        "    ['data','paragraphs','qas','answers']\n",
        "    verbose: 0 to suppress it default is 1\n",
        "    \"\"\"\n",
        "    if verbose:\n",
        "        print(\"Reading the json file\")    \n",
        "    file = json.loads(open(input_file_path).read())\n",
        "    if verbose:\n",
        "        print(\"processing...\")\n",
        "    # parsing different level's in the json file\n",
        "    js = pd.io.json.json_normalize(file , record_path )\n",
        "    m = pd.io.json.json_normalize(file, record_path[:-1] )\n",
        "    r = pd.io.json.json_normalize(file,record_path[:-2])\n",
        "    \n",
        "    #combining it into single dataframe\n",
        "    idx = np.repeat(r['context'].values, r.qas.str.len())\n",
        "    ndx  = np.repeat(m['id'].values,m['answers'].str.len())\n",
        "    m['context'] = idx\n",
        "    js['q_idx'] = ndx\n",
        "    main = pd.concat([ m[['id','question','context']].set_index('id'),js.set_index('q_idx')],1,sort=False).reset_index()\n",
        "    main['c_id'] = main['context'].factorize()[0]\n",
        "    if verbose:\n",
        "        print(\"shape of the dataframe is {}\".format(main.shape))\n",
        "        print(\"Done\")\n",
        "    return main"
      ],
      "execution_count": null,
      "outputs": []
    },
    {
      "cell_type": "markdown",
      "metadata": {
        "id": "VRpbVPuJX40s"
      },
      "source": [
        "## 참고문헌"
      ]
    },
    {
      "cell_type": "markdown",
      "metadata": {
        "id": "cmQiQ7lyX2Ul"
      },
      "source": [
        "[1] Ng, H. T., Wu, S. M., Briscoe, T., Hadiwinoto, C., Susanto, R. H., & Bryant, C. (2014). The CoNLL-2014 Shared Task on Grammatical Error Correction. Proceedings of the Eighteenth Conference on Computational Natural Language Learning: Shared Task, 1–14. https://doi.org/10.3115/v1/W14-1701\n",
        "\n",
        "[2] Bryant, C., Felice, M., Andersen, I. E., & Briscoe, T. (2019). The BEA-2019 Shared Task on Grammatical Error Correction. Proceedings of the Fourteenth Workshop on Innovative Use of NLP for Building Educational Applications, 52–75. https://doi.org/10.18653/v1/w19-4406\n",
        "\n",
        "[3] https://www.differencebetween.com/difference-between-html-and-vs-sgml/\n",
        "\n",
        "\n"
      ]
    },
    {
      "cell_type": "code",
      "metadata": {
        "id": "g3Zxd0gcX4Da"
      },
      "source": [
        "[\"essay1\", \"essay2\", \"essay3\"]"
      ],
      "execution_count": null,
      "outputs": []
    },
    {
      "cell_type": "code",
      "metadata": {
        "id": "pm5KeukgoDPD"
      },
      "source": [
        "ch6. reference "
      ],
      "execution_count": null,
      "outputs": []
    },
    {
      "cell_type": "code",
      "metadata": {
        "id": "4vqOcBhSaWXE"
      },
      "source": [
        "!pip install benepar==0.1.2\n",
        "!pip install summa\n",
        "!pip install nltk==3.4.5\n",
        "!pip install spacy==2.1.0\n",
        "!python3 -m spacy download en\n",
        "!pip install scipy"
      ],
      "execution_count": null,
      "outputs": []
    },
    {
      "cell_type": "code",
      "metadata": {
        "id": "jlupgRFFbvF2",
        "colab": {
          "base_uri": "https://localhost:8080/",
          "height": 859
        },
        "outputId": "5ebead3e-5c3c-4d1b-830b-1d04fa09972a"
      },
      "source": [
        "!pip install tensorflow==1.14.0 \n"
      ],
      "execution_count": null,
      "outputs": [
        {
          "output_type": "stream",
          "text": [
            "Collecting tensorflow==1.14.0\n",
            "\u001b[?25l  Downloading https://files.pythonhosted.org/packages/f4/28/96efba1a516cdacc2e2d6d081f699c001d414cc8ca3250e6d59ae657eb2b/tensorflow-1.14.0-cp37-cp37m-manylinux1_x86_64.whl (109.3MB)\n",
            "\u001b[K     |████████████████████████████████| 109.3MB 94kB/s \n",
            "\u001b[?25hRequirement already satisfied: numpy<2.0,>=1.14.5 in /usr/local/lib/python3.7/dist-packages (from tensorflow==1.14.0) (1.19.5)\n",
            "Requirement already satisfied: six>=1.10.0 in /usr/local/lib/python3.7/dist-packages (from tensorflow==1.14.0) (1.15.0)\n",
            "Requirement already satisfied: google-pasta>=0.1.6 in /usr/local/lib/python3.7/dist-packages (from tensorflow==1.14.0) (0.2.0)\n",
            "Requirement already satisfied: termcolor>=1.1.0 in /usr/local/lib/python3.7/dist-packages (from tensorflow==1.14.0) (1.1.0)\n",
            "Requirement already satisfied: gast>=0.2.0 in /usr/local/lib/python3.7/dist-packages (from tensorflow==1.14.0) (0.3.3)\n",
            "Requirement already satisfied: wrapt>=1.11.1 in /usr/local/lib/python3.7/dist-packages (from tensorflow==1.14.0) (1.12.1)\n",
            "Requirement already satisfied: grpcio>=1.8.6 in /usr/local/lib/python3.7/dist-packages (from tensorflow==1.14.0) (1.32.0)\n",
            "Requirement already satisfied: wheel>=0.26 in /usr/local/lib/python3.7/dist-packages (from tensorflow==1.14.0) (0.36.2)\n",
            "Requirement already satisfied: keras-preprocessing>=1.0.5 in /usr/local/lib/python3.7/dist-packages (from tensorflow==1.14.0) (1.1.2)\n",
            "Requirement already satisfied: protobuf>=3.6.1 in /usr/local/lib/python3.7/dist-packages (from tensorflow==1.14.0) (3.12.4)\n",
            "Requirement already satisfied: astor>=0.6.0 in /usr/local/lib/python3.7/dist-packages (from tensorflow==1.14.0) (0.8.1)\n",
            "Collecting tensorboard<1.15.0,>=1.14.0\n",
            "\u001b[?25l  Downloading https://files.pythonhosted.org/packages/91/2d/2ed263449a078cd9c8a9ba50ebd50123adf1f8cfbea1492f9084169b89d9/tensorboard-1.14.0-py3-none-any.whl (3.1MB)\n",
            "\u001b[K     |████████████████████████████████| 3.2MB 44.1MB/s \n",
            "\u001b[?25hCollecting tensorflow-estimator<1.15.0rc0,>=1.14.0rc0\n",
            "\u001b[?25l  Downloading https://files.pythonhosted.org/packages/3c/d5/21860a5b11caf0678fbc8319341b0ae21a07156911132e0e71bffed0510d/tensorflow_estimator-1.14.0-py2.py3-none-any.whl (488kB)\n",
            "\u001b[K     |████████████████████████████████| 491kB 48.4MB/s \n",
            "\u001b[?25hCollecting keras-applications>=1.0.6\n",
            "\u001b[?25l  Downloading https://files.pythonhosted.org/packages/71/e3/19762fdfc62877ae9102edf6342d71b28fbfd9dea3d2f96a882ce099b03f/Keras_Applications-1.0.8-py3-none-any.whl (50kB)\n",
            "\u001b[K     |████████████████████████████████| 51kB 4.6MB/s \n",
            "\u001b[?25hRequirement already satisfied: absl-py>=0.7.0 in /usr/local/lib/python3.7/dist-packages (from tensorflow==1.14.0) (0.10.0)\n",
            "Requirement already satisfied: setuptools in /usr/local/lib/python3.7/dist-packages (from protobuf>=3.6.1->tensorflow==1.14.0) (54.0.0)\n",
            "Requirement already satisfied: markdown>=2.6.8 in /usr/local/lib/python3.7/dist-packages (from tensorboard<1.15.0,>=1.14.0->tensorflow==1.14.0) (3.3.4)\n",
            "Requirement already satisfied: werkzeug>=0.11.15 in /usr/local/lib/python3.7/dist-packages (from tensorboard<1.15.0,>=1.14.0->tensorflow==1.14.0) (1.0.1)\n",
            "Requirement already satisfied: h5py in /usr/local/lib/python3.7/dist-packages (from keras-applications>=1.0.6->tensorflow==1.14.0) (2.10.0)\n",
            "Requirement already satisfied: importlib-metadata; python_version < \"3.8\" in /usr/local/lib/python3.7/dist-packages (from markdown>=2.6.8->tensorboard<1.15.0,>=1.14.0->tensorflow==1.14.0) (3.7.2)\n",
            "Requirement already satisfied: typing-extensions>=3.6.4; python_version < \"3.8\" in /usr/local/lib/python3.7/dist-packages (from importlib-metadata; python_version < \"3.8\"->markdown>=2.6.8->tensorboard<1.15.0,>=1.14.0->tensorflow==1.14.0) (3.7.4.3)\n",
            "Requirement already satisfied: zipp>=0.5 in /usr/local/lib/python3.7/dist-packages (from importlib-metadata; python_version < \"3.8\"->markdown>=2.6.8->tensorboard<1.15.0,>=1.14.0->tensorflow==1.14.0) (3.4.1)\n",
            "Installing collected packages: tensorboard, tensorflow-estimator, keras-applications, tensorflow\n",
            "  Found existing installation: tensorboard 2.4.1\n",
            "    Uninstalling tensorboard-2.4.1:\n",
            "      Successfully uninstalled tensorboard-2.4.1\n",
            "  Found existing installation: tensorflow-estimator 2.4.0\n",
            "    Uninstalling tensorflow-estimator-2.4.0:\n",
            "      Successfully uninstalled tensorflow-estimator-2.4.0\n",
            "  Found existing installation: tensorflow 2.4.1\n",
            "    Uninstalling tensorflow-2.4.1:\n",
            "      Successfully uninstalled tensorflow-2.4.1\n",
            "Successfully installed keras-applications-1.0.8 tensorboard-1.14.0 tensorflow-1.14.0 tensorflow-estimator-1.14.0\n"
          ],
          "name": "stdout"
        },
        {
          "output_type": "display_data",
          "data": {
            "application/vnd.colab-display-data+json": {
              "pip_warning": {
                "packages": [
                  "tensorboard",
                  "tensorflow"
                ]
              }
            }
          },
          "metadata": {
            "tags": []
          }
        }
      ]
    },
    {
      "cell_type": "code",
      "metadata": {
        "id": "7trEMGTNa2dz",
        "colab": {
          "base_uri": "https://localhost:8080/"
        },
        "outputId": "5857b113-7908-450c-86c4-8b51627e3875"
      },
      "source": [
        "import requests\n",
        "import json\n",
        "from summa.summarizer import summarize\n",
        "import benepar\n",
        "import string\n",
        "import nltk\n",
        "from nltk import tokenize\n",
        "from nltk.tokenize import sent_tokenize\n",
        "import re\n",
        "from random import shuffle\n",
        "import spacy\n",
        "nlp = spacy.load('en')\n",
        "#this package is required for the summa summarizer\n",
        "nltk.download('punkt')\n",
        "benepar.download('benepar_en2')\n",
        "benepar_parser = benepar.Parser(\"benepar_en2\")"
      ],
      "execution_count": null,
      "outputs": [
        {
          "output_type": "stream",
          "text": [
            "/usr/local/lib/python3.7/dist-packages/tensorflow/python/framework/dtypes.py:516: FutureWarning: Passing (type, 1) or '1type' as a synonym of type is deprecated; in a future version of numpy, it will be understood as (type, (1,)) / '(1,)type'.\n",
            "  _np_qint8 = np.dtype([(\"qint8\", np.int8, 1)])\n",
            "/usr/local/lib/python3.7/dist-packages/tensorflow/python/framework/dtypes.py:517: FutureWarning: Passing (type, 1) or '1type' as a synonym of type is deprecated; in a future version of numpy, it will be understood as (type, (1,)) / '(1,)type'.\n",
            "  _np_quint8 = np.dtype([(\"quint8\", np.uint8, 1)])\n",
            "/usr/local/lib/python3.7/dist-packages/tensorflow/python/framework/dtypes.py:518: FutureWarning: Passing (type, 1) or '1type' as a synonym of type is deprecated; in a future version of numpy, it will be understood as (type, (1,)) / '(1,)type'.\n",
            "  _np_qint16 = np.dtype([(\"qint16\", np.int16, 1)])\n",
            "/usr/local/lib/python3.7/dist-packages/tensorflow/python/framework/dtypes.py:519: FutureWarning: Passing (type, 1) or '1type' as a synonym of type is deprecated; in a future version of numpy, it will be understood as (type, (1,)) / '(1,)type'.\n",
            "  _np_quint16 = np.dtype([(\"quint16\", np.uint16, 1)])\n",
            "/usr/local/lib/python3.7/dist-packages/tensorflow/python/framework/dtypes.py:520: FutureWarning: Passing (type, 1) or '1type' as a synonym of type is deprecated; in a future version of numpy, it will be understood as (type, (1,)) / '(1,)type'.\n",
            "  _np_qint32 = np.dtype([(\"qint32\", np.int32, 1)])\n",
            "/usr/local/lib/python3.7/dist-packages/tensorflow/python/framework/dtypes.py:525: FutureWarning: Passing (type, 1) or '1type' as a synonym of type is deprecated; in a future version of numpy, it will be understood as (type, (1,)) / '(1,)type'.\n",
            "  np_resource = np.dtype([(\"resource\", np.ubyte, 1)])\n",
            "/usr/local/lib/python3.7/dist-packages/tensorboard/compat/tensorflow_stub/dtypes.py:541: FutureWarning: Passing (type, 1) or '1type' as a synonym of type is deprecated; in a future version of numpy, it will be understood as (type, (1,)) / '(1,)type'.\n",
            "  _np_qint8 = np.dtype([(\"qint8\", np.int8, 1)])\n",
            "/usr/local/lib/python3.7/dist-packages/tensorboard/compat/tensorflow_stub/dtypes.py:542: FutureWarning: Passing (type, 1) or '1type' as a synonym of type is deprecated; in a future version of numpy, it will be understood as (type, (1,)) / '(1,)type'.\n",
            "  _np_quint8 = np.dtype([(\"quint8\", np.uint8, 1)])\n",
            "/usr/local/lib/python3.7/dist-packages/tensorboard/compat/tensorflow_stub/dtypes.py:543: FutureWarning: Passing (type, 1) or '1type' as a synonym of type is deprecated; in a future version of numpy, it will be understood as (type, (1,)) / '(1,)type'.\n",
            "  _np_qint16 = np.dtype([(\"qint16\", np.int16, 1)])\n",
            "/usr/local/lib/python3.7/dist-packages/tensorboard/compat/tensorflow_stub/dtypes.py:544: FutureWarning: Passing (type, 1) or '1type' as a synonym of type is deprecated; in a future version of numpy, it will be understood as (type, (1,)) / '(1,)type'.\n",
            "  _np_quint16 = np.dtype([(\"quint16\", np.uint16, 1)])\n",
            "/usr/local/lib/python3.7/dist-packages/tensorboard/compat/tensorflow_stub/dtypes.py:545: FutureWarning: Passing (type, 1) or '1type' as a synonym of type is deprecated; in a future version of numpy, it will be understood as (type, (1,)) / '(1,)type'.\n",
            "  _np_qint32 = np.dtype([(\"qint32\", np.int32, 1)])\n",
            "/usr/local/lib/python3.7/dist-packages/tensorboard/compat/tensorflow_stub/dtypes.py:550: FutureWarning: Passing (type, 1) or '1type' as a synonym of type is deprecated; in a future version of numpy, it will be understood as (type, (1,)) / '(1,)type'.\n",
            "  np_resource = np.dtype([(\"resource\", np.ubyte, 1)])\n",
            "[nltk_data] Downloading package punkt to /root/nltk_data...\n",
            "[nltk_data]   Package punkt is already up-to-date!\n",
            "[nltk_data] Downloading package benepar_en2 to /root/nltk_data...\n",
            "[nltk_data]   Package benepar_en2 is already up-to-date!\n"
          ],
          "name": "stderr"
        },
        {
          "output_type": "stream",
          "text": [
            "WARNING:tensorflow:From /usr/local/lib/python3.7/dist-packages/benepar/base_parser.py:197: The name tf.GraphDef is deprecated. Please use tf.compat.v1.GraphDef instead.\n",
            "\n",
            "WARNING:tensorflow:From /usr/local/lib/python3.7/dist-packages/benepar/base_parser.py:202: The name tf.Session is deprecated. Please use tf.compat.v1.Session instead.\n",
            "\n"
          ],
          "name": "stdout"
        }
      ]
    },
    {
      "cell_type": "code",
      "metadata": {
        "id": "8Kr-GAfqbjLN"
      },
      "source": [
        "sentences[0]"
      ],
      "execution_count": null,
      "outputs": []
    },
    {
      "cell_type": "code",
      "metadata": {
        "id": "adLwq3EkbIVO",
        "colab": {
          "base_uri": "https://localhost:8080/"
        },
        "outputId": "c0f9a158-3c9c-4f55-ec27-0195354a7a00"
      },
      "source": [
        "from string import punctuation\n",
        "\n",
        "def preprocess(sentences):\n",
        "    output = []\n",
        "    for sent in sentences:\n",
        "        single_quotes_present = len(re.findall(r\"['][\\w\\s.:;,!?\\\\-]+[']\",sent))>0\n",
        "        double_quotes_present = len(re.findall(r'[\"][\\w\\s.:;,!?\\\\-]+[\"]',sent))>0\n",
        "        question_present = \"?\" in sent\n",
        "        if single_quotes_present or double_quotes_present or question_present :\n",
        "            continue\n",
        "        else:\n",
        "            output.append(sent.strip(punctuation))\n",
        "    return output\n",
        "        \n",
        "        \n",
        "def get_candidate_sents(resolved_text, ratio=0.3):\n",
        "    candidate_sents = summarize(resolved_text, ratio=ratio)\n",
        "    candidate_sents_list = tokenize.sent_tokenize(candidate_sents)\n",
        "    candidate_sents_list = [re.split(r'[:;]+',x)[0] for x in candidate_sents_list ]\n",
        "    # Remove very short sentences less than 30 characters and long sentences greater than 150 characters\n",
        "    filtered_list_short_sentences = [sent for sent in candidate_sents_list if len(sent)>30 and len(sent)<150]\n",
        "    return filtered_list_short_sentences\n",
        "\n",
        "cand_sents = get_candidate_sents(sentences[0])\n",
        "filter_quotes_and_questions = preprocess(cand_sents)\n",
        "for each_sentence in filter_quotes_and_questions:\n",
        "    print (each_sentence)\n",
        "    print (\"\\n\")"
      ],
      "execution_count": null,
      "outputs": [
        {
          "output_type": "stream",
          "text": [
            "The convenience and high efficiency of using electronic products is being noticed by people worldwide\n",
            "\n",
            "\n",
            "In this essay, I will discuss that if surveillance technology such as RFID (radio-frequency identification) should be used or not to track people\n",
            "\n",
            "\n"
          ],
          "name": "stdout"
        }
      ]
    },
    {
      "cell_type": "code",
      "metadata": {
        "colab": {
          "base_uri": "https://localhost:8080/"
        },
        "id": "vWTCNsEbMGog",
        "outputId": "8bd4a0e7-085d-436b-94ce-45b5cef778da"
      },
      "source": [
        "\n",
        "from IPython.display import Markdown, display\n",
        "def printmd(string):\n",
        "    display(Markdown(string))\n",
        "    \n",
        "def get_flattened(t):\n",
        "    sent_str_final = None\n",
        "    if t is not None:\n",
        "        sent_str = [\" \".join(x.leaves()) for x in list(t)]\n",
        "        sent_str_final = [\" \".join(sent_str)]\n",
        "        sent_str_final = sent_str_final[0]\n",
        "    return sent_str_final\n",
        "    \n",
        "\n",
        "def get_termination_portion(main_string,sub_string):\n",
        "    combined_sub_string = sub_string.replace(\" \",\"\")\n",
        "    main_string_list = main_string.split()\n",
        "    last_index = len(main_string_list)\n",
        "    for i in range(last_index):\n",
        "        check_string_list = main_string_list[i:]\n",
        "        check_string = \"\".join(check_string_list)\n",
        "        check_string = check_string.replace(\" \",\"\")\n",
        "        if check_string == combined_sub_string:\n",
        "            return \" \".join(main_string_list[:i])\n",
        "                     \n",
        "    return None\n",
        "    \n",
        "def get_right_most_VP_or_NP(parse_tree,last_NP = None,last_VP = None):\n",
        "    if len(parse_tree.leaves()) == 1:\n",
        "        return get_flattened(last_NP),get_flattened(last_VP)\n",
        "    last_subtree = parse_tree[-1]\n",
        "    if last_subtree.label() == \"NP\":\n",
        "        last_NP = last_subtree\n",
        "    elif last_subtree.label() == \"VP\":\n",
        "        last_VP = last_subtree\n",
        "    \n",
        "    return get_right_most_VP_or_NP(last_subtree,last_NP,last_VP)\n",
        "\n",
        "\n",
        "def get_sentence_completions(key_sentences):\n",
        "    sentence_completion_dict = {}\n",
        "    for individual_sentence in filter_quotes_and_questions:\n",
        "        sentence = individual_sentence.rstrip('?:!.,;')\n",
        "        tree = benepar_parser.parse(sentence)\n",
        "        last_nounphrase, last_verbphrase =  get_right_most_VP_or_NP(tree)\n",
        "        phrases= []\n",
        "        if last_verbphrase is not None:\n",
        "            verbphrase_string = get_termination_portion(sentence,last_verbphrase)\n",
        "            phrases.append(verbphrase_string)\n",
        "        if last_nounphrase is not None:\n",
        "            nounphrase_string = get_termination_portion(sentence,last_nounphrase)\n",
        "            phrases.append(nounphrase_string)\n",
        "\n",
        "        longest_phrase =  sorted(phrases, key=len,reverse= True)\n",
        "        if len(longest_phrase) == 2:\n",
        "            first_sent_len = len(longest_phrase[0].split())\n",
        "            second_sentence_len = len(longest_phrase[1].split())\n",
        "            if (first_sent_len - second_sentence_len) > 4:\n",
        "                del longest_phrase[1]\n",
        "                \n",
        "        if len(longest_phrase)>0:\n",
        "            sentence_completion_dict[sentence]=longest_phrase\n",
        "    return sentence_completion_dict\n",
        "\n",
        "\n",
        "\n",
        "sent_completion_dict = get_sentence_completions(filter_quotes_and_questions)\n",
        "\n",
        "print (sent_completion_dict)\n",
        "\n",
        "\n",
        "    "
      ],
      "execution_count": null,
      "outputs": [
        {
          "output_type": "stream",
          "text": [
            "{'The convenience and high efficiency of using electronic products is being noticed by people worldwide': ['The convenience and high efficiency of using electronic products is being noticed by', 'The convenience and high efficiency of using electronic products is being'], 'In this essay, I will discuss that if surveillance technology such as RFID (radio-frequency identification) should be used or not to track people': ['In this essay, I will discuss that if surveillance technology such as RFID (radio-frequency identification) should be used or not to track', 'In this essay, I will discuss that if surveillance technology such as RFID (radio-frequency identification) should be used or not to']}\n"
          ],
          "name": "stdout"
        }
      ]
    },
    {
      "cell_type": "code",
      "metadata": {
        "id": "6JZsvzhbcYoS",
        "colab": {
          "base_uri": "https://localhost:8080/"
        },
        "outputId": "653cc08a-a12c-4104-a2e3-5c9ea56fdc0f"
      },
      "source": [
        "sent_completion_dict['The convenience and high efficiency of using electronic products is being noticed by people worldwide']"
      ],
      "execution_count": null,
      "outputs": [
        {
          "output_type": "execute_result",
          "data": {
            "text/plain": [
              "['The convenience and high efficiency of using electronic products is being noticed by',\n",
              " 'The convenience and high efficiency of using electronic products is being']"
            ]
          },
          "metadata": {
            "tags": []
          },
          "execution_count": 19
        }
      ]
    },
    {
      "cell_type": "code",
      "metadata": {
        "id": "OfhP8w-SclKH",
        "colab": {
          "base_uri": "https://localhost:8080/"
        },
        "outputId": "59a5abb5-e96b-4f70-b839-de0c5fabdd61"
      },
      "source": [
        "sent_completion_dict['In this essay, I will discuss that if surveillance technology such as RFID (radio-frequency identification) should be used or not to track people']"
      ],
      "execution_count": null,
      "outputs": [
        {
          "output_type": "execute_result",
          "data": {
            "text/plain": [
              "['In this essay, I will discuss that if surveillance technology such as RFID (radio-frequency identification) should be used or not to track',\n",
              " 'In this essay, I will discuss that if surveillance technology such as RFID (radio-frequency identification) should be used or not to']"
            ]
          },
          "metadata": {
            "tags": []
          },
          "execution_count": 20
        }
      ]
    },
    {
      "cell_type": "code",
      "metadata": {
        "id": "QJdj2MFlczpP"
      },
      "source": [
        "\n",
        "!pip install sentence-transformers==0.2.5.1\n",
        "!pip install transformers==2.6.0"
      ],
      "execution_count": null,
      "outputs": []
    },
    {
      "cell_type": "code",
      "metadata": {
        "id": "fqtrQrCtcrpU",
        "colab": {
          "base_uri": "https://localhost:8080/",
          "height": 214,
          "referenced_widgets": [
            "55876bba14a74ed08ab3cca918d0d3e2",
            "4ad8bfb8e86d48dfb3a6ba6eedbe87a9",
            "b25aa26f95d548a9a0170856ad310ca5",
            "1fb68017fd424709a3a6bb18743c2f45",
            "38528bb95ef84777b65c3a8155e4f486",
            "2a9fa1bf24fe4948aafa169ae9085a21",
            "c02d231a0bbe42438b930a4b85c6a5e1",
            "0356e679e3b24a0daea1403a4db94b72",
            "ce3e610f340e4126bd536414d52a9430",
            "6eba1f126b2448c49481db35492f0056",
            "a1132e8a445d4b9aac1f1d51e4ef27dd",
            "5798cf012644463c9055713b24332543",
            "8ba165b274fe4640a567b112366afe04",
            "efe0525b071d4ab3a4fe5d51492e75df",
            "1a28b24a6f754881b7aa66c24c047ac9",
            "027532b86b9948cb8472270372957e8d",
            "a9f194240d28445b919af67f69b9239f",
            "aa65f12233ba40578367b5c416a98b65",
            "7b54e149c6154531b4a030a64b4fc3a8",
            "35845085ce11409fb05b80666798a13d",
            "4a62d98359554d24b7615d9c3622a9ab",
            "03e28307af124cfda60f94fea6f61f88",
            "471877dd6db14d5da9b304b757f7bf2a",
            "99b84a050a9b4ffdb822c16fecadc1dd",
            "08d79dc449154f6189ca8f48296221e8",
            "aec04ba2a9ac48d4a3d8b2a3514c79f4",
            "e9fe5dd092b64274985f5e6f23fbf05f",
            "9a36e27a9e3d4693a0e503d24eb349e1",
            "169a2b164d89432197cd4374c87dda27",
            "1a4cbd4c9b844ddda63239731b260384",
            "161df82401824cf497fa30bc1c8f96e9",
            "1dd5715c429f43ebb2e1056df0449498"
          ]
        },
        "outputId": "74a23b66-3178-4422-fc73-34e7169ab7c1"
      },
      "source": [
        "\n",
        "from transformers import GPT2LMHeadModel, GPT2Tokenizer\n",
        "tokenizer = GPT2Tokenizer.from_pretrained(\"gpt2\")\n",
        "\n",
        "# add the EOS token as PAD token to avoid warnings\n",
        "model = GPT2LMHeadModel.from_pretrained(\"gpt2\",pad_token_id=tokenizer.eos_token_id)"
      ],
      "execution_count": null,
      "outputs": [
        {
          "output_type": "display_data",
          "data": {
            "application/vnd.jupyter.widget-view+json": {
              "model_id": "55876bba14a74ed08ab3cca918d0d3e2",
              "version_minor": 0,
              "version_major": 2
            },
            "text/plain": [
              "HBox(children=(FloatProgress(value=0.0, description='Downloading', max=1042301.0, style=ProgressStyle(descript…"
            ]
          },
          "metadata": {
            "tags": []
          }
        },
        {
          "output_type": "stream",
          "text": [
            "\n"
          ],
          "name": "stdout"
        },
        {
          "output_type": "display_data",
          "data": {
            "application/vnd.jupyter.widget-view+json": {
              "model_id": "ce3e610f340e4126bd536414d52a9430",
              "version_minor": 0,
              "version_major": 2
            },
            "text/plain": [
              "HBox(children=(FloatProgress(value=0.0, description='Downloading', max=456318.0, style=ProgressStyle(descripti…"
            ]
          },
          "metadata": {
            "tags": []
          }
        },
        {
          "output_type": "stream",
          "text": [
            "\n"
          ],
          "name": "stdout"
        },
        {
          "output_type": "display_data",
          "data": {
            "application/vnd.jupyter.widget-view+json": {
              "model_id": "a9f194240d28445b919af67f69b9239f",
              "version_minor": 0,
              "version_major": 2
            },
            "text/plain": [
              "HBox(children=(FloatProgress(value=0.0, description='Downloading', max=665.0, style=ProgressStyle(description_…"
            ]
          },
          "metadata": {
            "tags": []
          }
        },
        {
          "output_type": "stream",
          "text": [
            "\n"
          ],
          "name": "stdout"
        },
        {
          "output_type": "display_data",
          "data": {
            "application/vnd.jupyter.widget-view+json": {
              "model_id": "08d79dc449154f6189ca8f48296221e8",
              "version_minor": 0,
              "version_major": 2
            },
            "text/plain": [
              "HBox(children=(FloatProgress(value=0.0, description='Downloading', max=548118077.0, style=ProgressStyle(descri…"
            ]
          },
          "metadata": {
            "tags": []
          }
        },
        {
          "output_type": "stream",
          "text": [
            "\n"
          ],
          "name": "stdout"
        }
      ]
    },
    {
      "cell_type": "code",
      "metadata": {
        "id": "_DrM_1Mtcvwr",
        "colab": {
          "base_uri": "https://localhost:8080/"
        },
        "outputId": "653cc04c-da39-46f9-8a1b-af6bb0d789d6"
      },
      "source": [
        "from sentence_transformers import SentenceTransformer\n",
        "# Load the BERT model. Various models trained on Natural Language Inference (NLI) https://github.com/UKPLab/sentence-transformers/blob/master/docs/pretrained-models/nli-models.md and \n",
        "# Semantic Textual Similarity are available https://github.com/UKPLab/sentence-transformers/blob/master/docs/pretrained-models/sts-models.md\n",
        "model_BERT = SentenceTransformer('bert-base-nli-mean-tokens')"
      ],
      "execution_count": null,
      "outputs": [
        {
          "output_type": "stream",
          "text": [
            "100%|██████████| 405M/405M [00:32<00:00, 12.5MB/s]\n"
          ],
          "name": "stderr"
        }
      ]
    },
    {
      "cell_type": "code",
      "metadata": {
        "id": "QwXJ1l1DdTzu"
      },
      "source": [
        "import torch"
      ],
      "execution_count": null,
      "outputs": []
    },
    {
      "cell_type": "code",
      "metadata": {
        "id": "SFkO3wx2cvZk",
        "colab": {
          "base_uri": "https://localhost:8080/",
          "height": 661
        },
        "outputId": "30cfb7f4-00ac-4d76-9c50-41ec02787d66"
      },
      "source": [
        "from nltk import tokenize\n",
        "import scipy\n",
        "torch.manual_seed(2020)\n",
        "\n",
        "\n",
        "def sort_by_similarity(original_sentence,generated_sentences_list):\n",
        "    # Each sentence is encoded as a 1-D vector with 768 columns\n",
        "    sentence_embeddings = model_BERT.encode(generated_sentences_list)\n",
        "\n",
        "    queries = [original_sentence]\n",
        "    query_embeddings = model_BERT.encode(queries)\n",
        "    # Find the top sentences of the corpus for each query sentence based on cosine similarity\n",
        "    number_top_matches = len(generated_sentences_list)\n",
        "\n",
        "    dissimilar_sentences = []\n",
        "\n",
        "    for query, query_embedding in zip(queries, query_embeddings):\n",
        "        distances = scipy.spatial.distance.cdist([query_embedding], sentence_embeddings, \"cosine\")[0]\n",
        "\n",
        "        results = zip(range(len(distances)), distances)\n",
        "        results = sorted(results, key=lambda x: x[1])\n",
        "\n",
        "\n",
        "        for idx, distance in reversed(results[0:number_top_matches]):\n",
        "            score = 1-distance\n",
        "            if score < 0.9:\n",
        "                dissimilar_sentences.append(generated_sentences_list[idx].strip())\n",
        "           \n",
        "    sorted_dissimilar_sentences = sorted(dissimilar_sentences, key=len)\n",
        "    \n",
        "    return sorted_dissimilar_sentences[:3]\n",
        "    \n",
        "\n",
        "def generate_sentences(partial_sentence,full_sentence):\n",
        "    input_ids = torch.tensor([tokenizer.encode(partial_sentence)])\n",
        "    maximum_length = len(partial_sentence.split())+80\n",
        "\n",
        "    # Actiavte top_k sampling and top_p sampling with only from 90% most likely words\n",
        "    sample_outputs = model.generate(\n",
        "        input_ids, \n",
        "        do_sample=True, \n",
        "        max_length=maximum_length, \n",
        "        top_p=0.90, # 0.85 \n",
        "        top_k=50,   #0.30\n",
        "        repetition_penalty  = 10.0,\n",
        "        num_return_sequences=10\n",
        "    )\n",
        "    generated_sentences=[]\n",
        "    for i, sample_output in enumerate(sample_outputs):\n",
        "        decoded_sentences = tokenizer.decode(sample_output, skip_special_tokens=True)\n",
        "        decoded_sentences_list = tokenize.sent_tokenize(decoded_sentences)\n",
        "        generated_sentences.append(decoded_sentences_list[0])\n",
        "        \n",
        "    top_3_sentences = sort_by_similarity(full_sentence,generated_sentences)\n",
        "    \n",
        "    return top_3_sentences\n",
        "\n",
        "index = 1\n",
        "choice_list = [\"a)\",\"b)\",\"c)\",\"d)\",\"e)\",\"f)\"]\n",
        "for key_sentence in sent_completion_dict:\n",
        "    partial_sentences = sent_completion_dict[key_sentence]\n",
        "    false_sentences =[]\n",
        "    print_string = \"**%s) True Sentence (from the story) :**\"%(str(index))\n",
        "    printmd(print_string)\n",
        "    print (\"  \",key_sentence)\n",
        "    for partial_sent in partial_sentences:\n",
        "        false_sents = generate_sentences(partial_sent,key_sentence)\n",
        "        false_sentences.extend(false_sents)\n",
        "    printmd(\"  **False Sentences (GPT-2 Generated)**\")\n",
        "    for ind,false_sent in enumerate(false_sentences):\n",
        "        print_string_choices = \"**%s** %s\"%(choice_list[ind],false_sent)\n",
        "        printmd(print_string_choices)\n",
        "    index = index+1\n",
        "    \n",
        "    print (\"\\n\\n\")\n",
        "        \n",
        "\n"
      ],
      "execution_count": null,
      "outputs": [
        {
          "output_type": "display_data",
          "data": {
            "text/markdown": "**1) True Sentence (from the story) :**",
            "text/plain": [
              "<IPython.core.display.Markdown object>"
            ]
          },
          "metadata": {
            "tags": []
          }
        },
        {
          "output_type": "stream",
          "text": [
            "   The convenience and high efficiency of using electronic products is being noticed by people worldwide\n"
          ],
          "name": "stdout"
        },
        {
          "output_type": "display_data",
          "data": {
            "text/markdown": "  **False Sentences (GPT-2 Generated)**",
            "text/plain": [
              "<IPython.core.display.Markdown object>"
            ]
          },
          "metadata": {
            "tags": []
          }
        },
        {
          "output_type": "display_data",
          "data": {
            "text/markdown": "**a)** The convenience and high efficiency of using electronic products is being noticed by more than 20 million consumers.",
            "text/plain": [
              "<IPython.core.display.Markdown object>"
            ]
          },
          "metadata": {
            "tags": []
          }
        },
        {
          "output_type": "display_data",
          "data": {
            "text/markdown": "**b)** The convenience and high efficiency of using electronic products is being noticed by the general public, but this has not been recognized at a rapid pace.",
            "text/plain": [
              "<IPython.core.display.Markdown object>"
            ]
          },
          "metadata": {
            "tags": []
          }
        },
        {
          "output_type": "display_data",
          "data": {
            "text/markdown": "**c)** The convenience and high efficiency of using electronic products is being noticed by many companies, for example from the consumer electronics retailer Samsung.",
            "text/plain": [
              "<IPython.core.display.Markdown object>"
            ]
          },
          "metadata": {
            "tags": []
          }
        },
        {
          "output_type": "display_data",
          "data": {
            "text/markdown": "**d)** The convenience and high efficiency of using electronic products is being promoted by new devices.",
            "text/plain": [
              "<IPython.core.display.Markdown object>"
            ]
          },
          "metadata": {
            "tags": []
          }
        },
        {
          "output_type": "display_data",
          "data": {
            "text/markdown": "**e)** The convenience and high efficiency of using electronic products is being taken to great effect,\" he added.",
            "text/plain": [
              "<IPython.core.display.Markdown object>"
            ]
          },
          "metadata": {
            "tags": []
          }
        },
        {
          "output_type": "display_data",
          "data": {
            "text/markdown": "**f)** The convenience and high efficiency of using electronic products is being tested in laboratories across the world, including North America.",
            "text/plain": [
              "<IPython.core.display.Markdown object>"
            ]
          },
          "metadata": {
            "tags": []
          }
        },
        {
          "output_type": "stream",
          "text": [
            "\n",
            "\n",
            "\n"
          ],
          "name": "stdout"
        },
        {
          "output_type": "display_data",
          "data": {
            "text/markdown": "**2) True Sentence (from the story) :**",
            "text/plain": [
              "<IPython.core.display.Markdown object>"
            ]
          },
          "metadata": {
            "tags": []
          }
        },
        {
          "output_type": "stream",
          "text": [
            "   In this essay, I will discuss that if surveillance technology such as RFID (radio-frequency identification) should be used or not to track people\n"
          ],
          "name": "stdout"
        },
        {
          "output_type": "display_data",
          "data": {
            "text/markdown": "  **False Sentences (GPT-2 Generated)**",
            "text/plain": [
              "<IPython.core.display.Markdown object>"
            ]
          },
          "metadata": {
            "tags": []
          }
        },
        {
          "output_type": "display_data",
          "data": {
            "text/markdown": "**a)** In this essay, I will discuss that if surveillance technology such as RFID (radio-frequency identification) should be used or not to track people and companies from day one in your society by the government.",
            "text/plain": [
              "<IPython.core.display.Markdown object>"
            ]
          },
          "metadata": {
            "tags": []
          }
        },
        {
          "output_type": "display_data",
          "data": {
            "text/markdown": "**b)** In this essay, I will discuss that if surveillance technology such as RFID (radio-frequency identification) should be used or not to track individuals who do something in the privacy of their own homes instead rather than at work.",
            "text/plain": [
              "<IPython.core.display.Markdown object>"
            ]
          },
          "metadata": {
            "tags": []
          }
        },
        {
          "output_type": "display_data",
          "data": {
            "text/markdown": "**c)** In this essay, I will discuss that if surveillance technology such as RFID (radio-frequency identification) should be used or not to track every location of someone who has paid the bill and is suspected by law enforcement agencies.",
            "text/plain": [
              "<IPython.core.display.Markdown object>"
            ]
          },
          "metadata": {
            "tags": []
          }
        },
        {
          "output_type": "display_data",
          "data": {
            "text/markdown": "**d)** In this essay, I will discuss that if surveillance technology such as RFID (radio-frequency identification) should be used or not to keep track of what is going on inside our homes and businesses.",
            "text/plain": [
              "<IPython.core.display.Markdown object>"
            ]
          },
          "metadata": {
            "tags": []
          }
        },
        {
          "output_type": "display_data",
          "data": {
            "text/markdown": "**e)** In this essay, I will discuss that if surveillance technology such as RFID (radio-frequency identification) should be used or not to identify individuals from the United States and other places then there are good reasons for using it.",
            "text/plain": [
              "<IPython.core.display.Markdown object>"
            ]
          },
          "metadata": {
            "tags": []
          }
        },
        {
          "output_type": "display_data",
          "data": {
            "text/markdown": "**f)** In this essay, I will discuss that if surveillance technology such as RFID (radio-frequency identification) should be used or not to locate terrorist suspects using search warrants and/or law enforcement agencies it is only because of a need for effective monitoring.",
            "text/plain": [
              "<IPython.core.display.Markdown object>"
            ]
          },
          "metadata": {
            "tags": []
          }
        },
        {
          "output_type": "stream",
          "text": [
            "\n",
            "\n",
            "\n"
          ],
          "name": "stdout"
        }
      ]
    },
    {
      "cell_type": "code",
      "metadata": {
        "id": "qf6cY7Wdcru-"
      },
      "source": [
        ""
      ],
      "execution_count": null,
      "outputs": []
    },
    {
      "cell_type": "code",
      "metadata": {
        "colab": {
          "base_uri": "https://localhost:8080/",
          "height": 181
        },
        "id": "IR1SG59VMNb7",
        "outputId": "ddd33e09-5fa8-4aae-bbc3-bbe5bddd8ba8"
      },
      "source": [
        "sentences[2]"
      ],
      "execution_count": null,
      "outputs": [
        {
          "output_type": "execute_result",
          "data": {
            "application/vnd.google.colaboratory.intrinsic+json": {
              "type": "string"
            },
            "text/plain": [
              "'\\nRisks can be analyzed if there is a record of what was happened in the past. In late nineteenth century, there was a severe air crash happening at Miami international airport. The air cargo of the Valujet plane was on fire after the plane had taken off. Sooner or later, the electric systems were short circuited as a result that the airplane was out of control and nose diving to the ground with extremely high speed. All passengers and pilots were died. After finding and analyzing the black box of the Valujet after the incidence, police investigators found out reasons for causing this severe incidence. Surveillance technology can be used to detect very risky events and prevent its happening in the future, hence to save more lives. In addition, if surveillance technology is even better developed, it can be used to detect the problem before the real accidence has happened.\\n'"
            ]
          },
          "metadata": {
            "tags": []
          },
          "execution_count": 30
        }
      ]
    }
  ]
}