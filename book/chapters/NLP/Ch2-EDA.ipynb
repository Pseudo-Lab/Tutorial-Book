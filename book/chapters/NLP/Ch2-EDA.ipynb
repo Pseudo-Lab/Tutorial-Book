{
  "nbformat": 4,
  "nbformat_minor": 0,
  "metadata": {
    "colab": {
      "name": "Ch2-EDA.ipynb",
      "provenance": [],
      "collapsed_sections": [],
      "authorship_tag": "ABX9TyMlXoVphm7PjII+s02EEXEY"
    },
    "kernelspec": {
      "name": "python3",
      "display_name": "Python 3"
    },
    "widgets": {
      "application/vnd.jupyter.widget-state+json": {
        "55876bba14a74ed08ab3cca918d0d3e2": {
          "model_module": "@jupyter-widgets/controls",
          "model_name": "HBoxModel",
          "state": {
            "_view_name": "HBoxView",
            "_dom_classes": [],
            "_model_name": "HBoxModel",
            "_view_module": "@jupyter-widgets/controls",
            "_model_module_version": "1.5.0",
            "_view_count": null,
            "_view_module_version": "1.5.0",
            "box_style": "",
            "layout": "IPY_MODEL_4ad8bfb8e86d48dfb3a6ba6eedbe87a9",
            "_model_module": "@jupyter-widgets/controls",
            "children": [
              "IPY_MODEL_b25aa26f95d548a9a0170856ad310ca5",
              "IPY_MODEL_1fb68017fd424709a3a6bb18743c2f45"
            ]
          }
        },
        "4ad8bfb8e86d48dfb3a6ba6eedbe87a9": {
          "model_module": "@jupyter-widgets/base",
          "model_name": "LayoutModel",
          "state": {
            "_view_name": "LayoutView",
            "grid_template_rows": null,
            "right": null,
            "justify_content": null,
            "_view_module": "@jupyter-widgets/base",
            "overflow": null,
            "_model_module_version": "1.2.0",
            "_view_count": null,
            "flex_flow": null,
            "width": null,
            "min_width": null,
            "border": null,
            "align_items": null,
            "bottom": null,
            "_model_module": "@jupyter-widgets/base",
            "top": null,
            "grid_column": null,
            "overflow_y": null,
            "overflow_x": null,
            "grid_auto_flow": null,
            "grid_area": null,
            "grid_template_columns": null,
            "flex": null,
            "_model_name": "LayoutModel",
            "justify_items": null,
            "grid_row": null,
            "max_height": null,
            "align_content": null,
            "visibility": null,
            "align_self": null,
            "height": null,
            "min_height": null,
            "padding": null,
            "grid_auto_rows": null,
            "grid_gap": null,
            "max_width": null,
            "order": null,
            "_view_module_version": "1.2.0",
            "grid_template_areas": null,
            "object_position": null,
            "object_fit": null,
            "grid_auto_columns": null,
            "margin": null,
            "display": null,
            "left": null
          }
        },
        "b25aa26f95d548a9a0170856ad310ca5": {
          "model_module": "@jupyter-widgets/controls",
          "model_name": "FloatProgressModel",
          "state": {
            "_view_name": "ProgressView",
            "style": "IPY_MODEL_38528bb95ef84777b65c3a8155e4f486",
            "_dom_classes": [],
            "description": "Downloading: 100%",
            "_model_name": "FloatProgressModel",
            "bar_style": "success",
            "max": 1042301,
            "_view_module": "@jupyter-widgets/controls",
            "_model_module_version": "1.5.0",
            "value": 1042301,
            "_view_count": null,
            "_view_module_version": "1.5.0",
            "orientation": "horizontal",
            "min": 0,
            "description_tooltip": null,
            "_model_module": "@jupyter-widgets/controls",
            "layout": "IPY_MODEL_2a9fa1bf24fe4948aafa169ae9085a21"
          }
        },
        "1fb68017fd424709a3a6bb18743c2f45": {
          "model_module": "@jupyter-widgets/controls",
          "model_name": "HTMLModel",
          "state": {
            "_view_name": "HTMLView",
            "style": "IPY_MODEL_c02d231a0bbe42438b930a4b85c6a5e1",
            "_dom_classes": [],
            "description": "",
            "_model_name": "HTMLModel",
            "placeholder": "​",
            "_view_module": "@jupyter-widgets/controls",
            "_model_module_version": "1.5.0",
            "value": " 1.04M/1.04M [00:00&lt;00:00, 2.84MB/s]",
            "_view_count": null,
            "_view_module_version": "1.5.0",
            "description_tooltip": null,
            "_model_module": "@jupyter-widgets/controls",
            "layout": "IPY_MODEL_0356e679e3b24a0daea1403a4db94b72"
          }
        },
        "38528bb95ef84777b65c3a8155e4f486": {
          "model_module": "@jupyter-widgets/controls",
          "model_name": "ProgressStyleModel",
          "state": {
            "_view_name": "StyleView",
            "_model_name": "ProgressStyleModel",
            "description_width": "initial",
            "_view_module": "@jupyter-widgets/base",
            "_model_module_version": "1.5.0",
            "_view_count": null,
            "_view_module_version": "1.2.0",
            "bar_color": null,
            "_model_module": "@jupyter-widgets/controls"
          }
        },
        "2a9fa1bf24fe4948aafa169ae9085a21": {
          "model_module": "@jupyter-widgets/base",
          "model_name": "LayoutModel",
          "state": {
            "_view_name": "LayoutView",
            "grid_template_rows": null,
            "right": null,
            "justify_content": null,
            "_view_module": "@jupyter-widgets/base",
            "overflow": null,
            "_model_module_version": "1.2.0",
            "_view_count": null,
            "flex_flow": null,
            "width": null,
            "min_width": null,
            "border": null,
            "align_items": null,
            "bottom": null,
            "_model_module": "@jupyter-widgets/base",
            "top": null,
            "grid_column": null,
            "overflow_y": null,
            "overflow_x": null,
            "grid_auto_flow": null,
            "grid_area": null,
            "grid_template_columns": null,
            "flex": null,
            "_model_name": "LayoutModel",
            "justify_items": null,
            "grid_row": null,
            "max_height": null,
            "align_content": null,
            "visibility": null,
            "align_self": null,
            "height": null,
            "min_height": null,
            "padding": null,
            "grid_auto_rows": null,
            "grid_gap": null,
            "max_width": null,
            "order": null,
            "_view_module_version": "1.2.0",
            "grid_template_areas": null,
            "object_position": null,
            "object_fit": null,
            "grid_auto_columns": null,
            "margin": null,
            "display": null,
            "left": null
          }
        },
        "c02d231a0bbe42438b930a4b85c6a5e1": {
          "model_module": "@jupyter-widgets/controls",
          "model_name": "DescriptionStyleModel",
          "state": {
            "_view_name": "StyleView",
            "_model_name": "DescriptionStyleModel",
            "description_width": "",
            "_view_module": "@jupyter-widgets/base",
            "_model_module_version": "1.5.0",
            "_view_count": null,
            "_view_module_version": "1.2.0",
            "_model_module": "@jupyter-widgets/controls"
          }
        },
        "0356e679e3b24a0daea1403a4db94b72": {
          "model_module": "@jupyter-widgets/base",
          "model_name": "LayoutModel",
          "state": {
            "_view_name": "LayoutView",
            "grid_template_rows": null,
            "right": null,
            "justify_content": null,
            "_view_module": "@jupyter-widgets/base",
            "overflow": null,
            "_model_module_version": "1.2.0",
            "_view_count": null,
            "flex_flow": null,
            "width": null,
            "min_width": null,
            "border": null,
            "align_items": null,
            "bottom": null,
            "_model_module": "@jupyter-widgets/base",
            "top": null,
            "grid_column": null,
            "overflow_y": null,
            "overflow_x": null,
            "grid_auto_flow": null,
            "grid_area": null,
            "grid_template_columns": null,
            "flex": null,
            "_model_name": "LayoutModel",
            "justify_items": null,
            "grid_row": null,
            "max_height": null,
            "align_content": null,
            "visibility": null,
            "align_self": null,
            "height": null,
            "min_height": null,
            "padding": null,
            "grid_auto_rows": null,
            "grid_gap": null,
            "max_width": null,
            "order": null,
            "_view_module_version": "1.2.0",
            "grid_template_areas": null,
            "object_position": null,
            "object_fit": null,
            "grid_auto_columns": null,
            "margin": null,
            "display": null,
            "left": null
          }
        },
        "ce3e610f340e4126bd536414d52a9430": {
          "model_module": "@jupyter-widgets/controls",
          "model_name": "HBoxModel",
          "state": {
            "_view_name": "HBoxView",
            "_dom_classes": [],
            "_model_name": "HBoxModel",
            "_view_module": "@jupyter-widgets/controls",
            "_model_module_version": "1.5.0",
            "_view_count": null,
            "_view_module_version": "1.5.0",
            "box_style": "",
            "layout": "IPY_MODEL_6eba1f126b2448c49481db35492f0056",
            "_model_module": "@jupyter-widgets/controls",
            "children": [
              "IPY_MODEL_a1132e8a445d4b9aac1f1d51e4ef27dd",
              "IPY_MODEL_5798cf012644463c9055713b24332543"
            ]
          }
        },
        "6eba1f126b2448c49481db35492f0056": {
          "model_module": "@jupyter-widgets/base",
          "model_name": "LayoutModel",
          "state": {
            "_view_name": "LayoutView",
            "grid_template_rows": null,
            "right": null,
            "justify_content": null,
            "_view_module": "@jupyter-widgets/base",
            "overflow": null,
            "_model_module_version": "1.2.0",
            "_view_count": null,
            "flex_flow": null,
            "width": null,
            "min_width": null,
            "border": null,
            "align_items": null,
            "bottom": null,
            "_model_module": "@jupyter-widgets/base",
            "top": null,
            "grid_column": null,
            "overflow_y": null,
            "overflow_x": null,
            "grid_auto_flow": null,
            "grid_area": null,
            "grid_template_columns": null,
            "flex": null,
            "_model_name": "LayoutModel",
            "justify_items": null,
            "grid_row": null,
            "max_height": null,
            "align_content": null,
            "visibility": null,
            "align_self": null,
            "height": null,
            "min_height": null,
            "padding": null,
            "grid_auto_rows": null,
            "grid_gap": null,
            "max_width": null,
            "order": null,
            "_view_module_version": "1.2.0",
            "grid_template_areas": null,
            "object_position": null,
            "object_fit": null,
            "grid_auto_columns": null,
            "margin": null,
            "display": null,
            "left": null
          }
        },
        "a1132e8a445d4b9aac1f1d51e4ef27dd": {
          "model_module": "@jupyter-widgets/controls",
          "model_name": "FloatProgressModel",
          "state": {
            "_view_name": "ProgressView",
            "style": "IPY_MODEL_8ba165b274fe4640a567b112366afe04",
            "_dom_classes": [],
            "description": "Downloading: 100%",
            "_model_name": "FloatProgressModel",
            "bar_style": "success",
            "max": 456318,
            "_view_module": "@jupyter-widgets/controls",
            "_model_module_version": "1.5.0",
            "value": 456318,
            "_view_count": null,
            "_view_module_version": "1.5.0",
            "orientation": "horizontal",
            "min": 0,
            "description_tooltip": null,
            "_model_module": "@jupyter-widgets/controls",
            "layout": "IPY_MODEL_efe0525b071d4ab3a4fe5d51492e75df"
          }
        },
        "5798cf012644463c9055713b24332543": {
          "model_module": "@jupyter-widgets/controls",
          "model_name": "HTMLModel",
          "state": {
            "_view_name": "HTMLView",
            "style": "IPY_MODEL_1a28b24a6f754881b7aa66c24c047ac9",
            "_dom_classes": [],
            "description": "",
            "_model_name": "HTMLModel",
            "placeholder": "​",
            "_view_module": "@jupyter-widgets/controls",
            "_model_module_version": "1.5.0",
            "value": " 456k/456k [00:00&lt;00:00, 2.00MB/s]",
            "_view_count": null,
            "_view_module_version": "1.5.0",
            "description_tooltip": null,
            "_model_module": "@jupyter-widgets/controls",
            "layout": "IPY_MODEL_027532b86b9948cb8472270372957e8d"
          }
        },
        "8ba165b274fe4640a567b112366afe04": {
          "model_module": "@jupyter-widgets/controls",
          "model_name": "ProgressStyleModel",
          "state": {
            "_view_name": "StyleView",
            "_model_name": "ProgressStyleModel",
            "description_width": "initial",
            "_view_module": "@jupyter-widgets/base",
            "_model_module_version": "1.5.0",
            "_view_count": null,
            "_view_module_version": "1.2.0",
            "bar_color": null,
            "_model_module": "@jupyter-widgets/controls"
          }
        },
        "efe0525b071d4ab3a4fe5d51492e75df": {
          "model_module": "@jupyter-widgets/base",
          "model_name": "LayoutModel",
          "state": {
            "_view_name": "LayoutView",
            "grid_template_rows": null,
            "right": null,
            "justify_content": null,
            "_view_module": "@jupyter-widgets/base",
            "overflow": null,
            "_model_module_version": "1.2.0",
            "_view_count": null,
            "flex_flow": null,
            "width": null,
            "min_width": null,
            "border": null,
            "align_items": null,
            "bottom": null,
            "_model_module": "@jupyter-widgets/base",
            "top": null,
            "grid_column": null,
            "overflow_y": null,
            "overflow_x": null,
            "grid_auto_flow": null,
            "grid_area": null,
            "grid_template_columns": null,
            "flex": null,
            "_model_name": "LayoutModel",
            "justify_items": null,
            "grid_row": null,
            "max_height": null,
            "align_content": null,
            "visibility": null,
            "align_self": null,
            "height": null,
            "min_height": null,
            "padding": null,
            "grid_auto_rows": null,
            "grid_gap": null,
            "max_width": null,
            "order": null,
            "_view_module_version": "1.2.0",
            "grid_template_areas": null,
            "object_position": null,
            "object_fit": null,
            "grid_auto_columns": null,
            "margin": null,
            "display": null,
            "left": null
          }
        },
        "1a28b24a6f754881b7aa66c24c047ac9": {
          "model_module": "@jupyter-widgets/controls",
          "model_name": "DescriptionStyleModel",
          "state": {
            "_view_name": "StyleView",
            "_model_name": "DescriptionStyleModel",
            "description_width": "",
            "_view_module": "@jupyter-widgets/base",
            "_model_module_version": "1.5.0",
            "_view_count": null,
            "_view_module_version": "1.2.0",
            "_model_module": "@jupyter-widgets/controls"
          }
        },
        "027532b86b9948cb8472270372957e8d": {
          "model_module": "@jupyter-widgets/base",
          "model_name": "LayoutModel",
          "state": {
            "_view_name": "LayoutView",
            "grid_template_rows": null,
            "right": null,
            "justify_content": null,
            "_view_module": "@jupyter-widgets/base",
            "overflow": null,
            "_model_module_version": "1.2.0",
            "_view_count": null,
            "flex_flow": null,
            "width": null,
            "min_width": null,
            "border": null,
            "align_items": null,
            "bottom": null,
            "_model_module": "@jupyter-widgets/base",
            "top": null,
            "grid_column": null,
            "overflow_y": null,
            "overflow_x": null,
            "grid_auto_flow": null,
            "grid_area": null,
            "grid_template_columns": null,
            "flex": null,
            "_model_name": "LayoutModel",
            "justify_items": null,
            "grid_row": null,
            "max_height": null,
            "align_content": null,
            "visibility": null,
            "align_self": null,
            "height": null,
            "min_height": null,
            "padding": null,
            "grid_auto_rows": null,
            "grid_gap": null,
            "max_width": null,
            "order": null,
            "_view_module_version": "1.2.0",
            "grid_template_areas": null,
            "object_position": null,
            "object_fit": null,
            "grid_auto_columns": null,
            "margin": null,
            "display": null,
            "left": null
          }
        },
        "a9f194240d28445b919af67f69b9239f": {
          "model_module": "@jupyter-widgets/controls",
          "model_name": "HBoxModel",
          "state": {
            "_view_name": "HBoxView",
            "_dom_classes": [],
            "_model_name": "HBoxModel",
            "_view_module": "@jupyter-widgets/controls",
            "_model_module_version": "1.5.0",
            "_view_count": null,
            "_view_module_version": "1.5.0",
            "box_style": "",
            "layout": "IPY_MODEL_aa65f12233ba40578367b5c416a98b65",
            "_model_module": "@jupyter-widgets/controls",
            "children": [
              "IPY_MODEL_7b54e149c6154531b4a030a64b4fc3a8",
              "IPY_MODEL_35845085ce11409fb05b80666798a13d"
            ]
          }
        },
        "aa65f12233ba40578367b5c416a98b65": {
          "model_module": "@jupyter-widgets/base",
          "model_name": "LayoutModel",
          "state": {
            "_view_name": "LayoutView",
            "grid_template_rows": null,
            "right": null,
            "justify_content": null,
            "_view_module": "@jupyter-widgets/base",
            "overflow": null,
            "_model_module_version": "1.2.0",
            "_view_count": null,
            "flex_flow": null,
            "width": null,
            "min_width": null,
            "border": null,
            "align_items": null,
            "bottom": null,
            "_model_module": "@jupyter-widgets/base",
            "top": null,
            "grid_column": null,
            "overflow_y": null,
            "overflow_x": null,
            "grid_auto_flow": null,
            "grid_area": null,
            "grid_template_columns": null,
            "flex": null,
            "_model_name": "LayoutModel",
            "justify_items": null,
            "grid_row": null,
            "max_height": null,
            "align_content": null,
            "visibility": null,
            "align_self": null,
            "height": null,
            "min_height": null,
            "padding": null,
            "grid_auto_rows": null,
            "grid_gap": null,
            "max_width": null,
            "order": null,
            "_view_module_version": "1.2.0",
            "grid_template_areas": null,
            "object_position": null,
            "object_fit": null,
            "grid_auto_columns": null,
            "margin": null,
            "display": null,
            "left": null
          }
        },
        "7b54e149c6154531b4a030a64b4fc3a8": {
          "model_module": "@jupyter-widgets/controls",
          "model_name": "FloatProgressModel",
          "state": {
            "_view_name": "ProgressView",
            "style": "IPY_MODEL_4a62d98359554d24b7615d9c3622a9ab",
            "_dom_classes": [],
            "description": "Downloading: 100%",
            "_model_name": "FloatProgressModel",
            "bar_style": "success",
            "max": 665,
            "_view_module": "@jupyter-widgets/controls",
            "_model_module_version": "1.5.0",
            "value": 665,
            "_view_count": null,
            "_view_module_version": "1.5.0",
            "orientation": "horizontal",
            "min": 0,
            "description_tooltip": null,
            "_model_module": "@jupyter-widgets/controls",
            "layout": "IPY_MODEL_03e28307af124cfda60f94fea6f61f88"
          }
        },
        "35845085ce11409fb05b80666798a13d": {
          "model_module": "@jupyter-widgets/controls",
          "model_name": "HTMLModel",
          "state": {
            "_view_name": "HTMLView",
            "style": "IPY_MODEL_471877dd6db14d5da9b304b757f7bf2a",
            "_dom_classes": [],
            "description": "",
            "_model_name": "HTMLModel",
            "placeholder": "​",
            "_view_module": "@jupyter-widgets/controls",
            "_model_module_version": "1.5.0",
            "value": " 665/665 [01:10&lt;00:00, 9.41B/s]",
            "_view_count": null,
            "_view_module_version": "1.5.0",
            "description_tooltip": null,
            "_model_module": "@jupyter-widgets/controls",
            "layout": "IPY_MODEL_99b84a050a9b4ffdb822c16fecadc1dd"
          }
        },
        "4a62d98359554d24b7615d9c3622a9ab": {
          "model_module": "@jupyter-widgets/controls",
          "model_name": "ProgressStyleModel",
          "state": {
            "_view_name": "StyleView",
            "_model_name": "ProgressStyleModel",
            "description_width": "initial",
            "_view_module": "@jupyter-widgets/base",
            "_model_module_version": "1.5.0",
            "_view_count": null,
            "_view_module_version": "1.2.0",
            "bar_color": null,
            "_model_module": "@jupyter-widgets/controls"
          }
        },
        "03e28307af124cfda60f94fea6f61f88": {
          "model_module": "@jupyter-widgets/base",
          "model_name": "LayoutModel",
          "state": {
            "_view_name": "LayoutView",
            "grid_template_rows": null,
            "right": null,
            "justify_content": null,
            "_view_module": "@jupyter-widgets/base",
            "overflow": null,
            "_model_module_version": "1.2.0",
            "_view_count": null,
            "flex_flow": null,
            "width": null,
            "min_width": null,
            "border": null,
            "align_items": null,
            "bottom": null,
            "_model_module": "@jupyter-widgets/base",
            "top": null,
            "grid_column": null,
            "overflow_y": null,
            "overflow_x": null,
            "grid_auto_flow": null,
            "grid_area": null,
            "grid_template_columns": null,
            "flex": null,
            "_model_name": "LayoutModel",
            "justify_items": null,
            "grid_row": null,
            "max_height": null,
            "align_content": null,
            "visibility": null,
            "align_self": null,
            "height": null,
            "min_height": null,
            "padding": null,
            "grid_auto_rows": null,
            "grid_gap": null,
            "max_width": null,
            "order": null,
            "_view_module_version": "1.2.0",
            "grid_template_areas": null,
            "object_position": null,
            "object_fit": null,
            "grid_auto_columns": null,
            "margin": null,
            "display": null,
            "left": null
          }
        },
        "471877dd6db14d5da9b304b757f7bf2a": {
          "model_module": "@jupyter-widgets/controls",
          "model_name": "DescriptionStyleModel",
          "state": {
            "_view_name": "StyleView",
            "_model_name": "DescriptionStyleModel",
            "description_width": "",
            "_view_module": "@jupyter-widgets/base",
            "_model_module_version": "1.5.0",
            "_view_count": null,
            "_view_module_version": "1.2.0",
            "_model_module": "@jupyter-widgets/controls"
          }
        },
        "99b84a050a9b4ffdb822c16fecadc1dd": {
          "model_module": "@jupyter-widgets/base",
          "model_name": "LayoutModel",
          "state": {
            "_view_name": "LayoutView",
            "grid_template_rows": null,
            "right": null,
            "justify_content": null,
            "_view_module": "@jupyter-widgets/base",
            "overflow": null,
            "_model_module_version": "1.2.0",
            "_view_count": null,
            "flex_flow": null,
            "width": null,
            "min_width": null,
            "border": null,
            "align_items": null,
            "bottom": null,
            "_model_module": "@jupyter-widgets/base",
            "top": null,
            "grid_column": null,
            "overflow_y": null,
            "overflow_x": null,
            "grid_auto_flow": null,
            "grid_area": null,
            "grid_template_columns": null,
            "flex": null,
            "_model_name": "LayoutModel",
            "justify_items": null,
            "grid_row": null,
            "max_height": null,
            "align_content": null,
            "visibility": null,
            "align_self": null,
            "height": null,
            "min_height": null,
            "padding": null,
            "grid_auto_rows": null,
            "grid_gap": null,
            "max_width": null,
            "order": null,
            "_view_module_version": "1.2.0",
            "grid_template_areas": null,
            "object_position": null,
            "object_fit": null,
            "grid_auto_columns": null,
            "margin": null,
            "display": null,
            "left": null
          }
        },
        "08d79dc449154f6189ca8f48296221e8": {
          "model_module": "@jupyter-widgets/controls",
          "model_name": "HBoxModel",
          "state": {
            "_view_name": "HBoxView",
            "_dom_classes": [],
            "_model_name": "HBoxModel",
            "_view_module": "@jupyter-widgets/controls",
            "_model_module_version": "1.5.0",
            "_view_count": null,
            "_view_module_version": "1.5.0",
            "box_style": "",
            "layout": "IPY_MODEL_aec04ba2a9ac48d4a3d8b2a3514c79f4",
            "_model_module": "@jupyter-widgets/controls",
            "children": [
              "IPY_MODEL_e9fe5dd092b64274985f5e6f23fbf05f",
              "IPY_MODEL_9a36e27a9e3d4693a0e503d24eb349e1"
            ]
          }
        },
        "aec04ba2a9ac48d4a3d8b2a3514c79f4": {
          "model_module": "@jupyter-widgets/base",
          "model_name": "LayoutModel",
          "state": {
            "_view_name": "LayoutView",
            "grid_template_rows": null,
            "right": null,
            "justify_content": null,
            "_view_module": "@jupyter-widgets/base",
            "overflow": null,
            "_model_module_version": "1.2.0",
            "_view_count": null,
            "flex_flow": null,
            "width": null,
            "min_width": null,
            "border": null,
            "align_items": null,
            "bottom": null,
            "_model_module": "@jupyter-widgets/base",
            "top": null,
            "grid_column": null,
            "overflow_y": null,
            "overflow_x": null,
            "grid_auto_flow": null,
            "grid_area": null,
            "grid_template_columns": null,
            "flex": null,
            "_model_name": "LayoutModel",
            "justify_items": null,
            "grid_row": null,
            "max_height": null,
            "align_content": null,
            "visibility": null,
            "align_self": null,
            "height": null,
            "min_height": null,
            "padding": null,
            "grid_auto_rows": null,
            "grid_gap": null,
            "max_width": null,
            "order": null,
            "_view_module_version": "1.2.0",
            "grid_template_areas": null,
            "object_position": null,
            "object_fit": null,
            "grid_auto_columns": null,
            "margin": null,
            "display": null,
            "left": null
          }
        },
        "e9fe5dd092b64274985f5e6f23fbf05f": {
          "model_module": "@jupyter-widgets/controls",
          "model_name": "FloatProgressModel",
          "state": {
            "_view_name": "ProgressView",
            "style": "IPY_MODEL_169a2b164d89432197cd4374c87dda27",
            "_dom_classes": [],
            "description": "Downloading: 100%",
            "_model_name": "FloatProgressModel",
            "bar_style": "success",
            "max": 548118077,
            "_view_module": "@jupyter-widgets/controls",
            "_model_module_version": "1.5.0",
            "value": 548118077,
            "_view_count": null,
            "_view_module_version": "1.5.0",
            "orientation": "horizontal",
            "min": 0,
            "description_tooltip": null,
            "_model_module": "@jupyter-widgets/controls",
            "layout": "IPY_MODEL_1a4cbd4c9b844ddda63239731b260384"
          }
        },
        "9a36e27a9e3d4693a0e503d24eb349e1": {
          "model_module": "@jupyter-widgets/controls",
          "model_name": "HTMLModel",
          "state": {
            "_view_name": "HTMLView",
            "style": "IPY_MODEL_161df82401824cf497fa30bc1c8f96e9",
            "_dom_classes": [],
            "description": "",
            "_model_name": "HTMLModel",
            "placeholder": "​",
            "_view_module": "@jupyter-widgets/controls",
            "_model_module_version": "1.5.0",
            "value": " 548M/548M [00:13&lt;00:00, 41.4MB/s]",
            "_view_count": null,
            "_view_module_version": "1.5.0",
            "description_tooltip": null,
            "_model_module": "@jupyter-widgets/controls",
            "layout": "IPY_MODEL_1dd5715c429f43ebb2e1056df0449498"
          }
        },
        "169a2b164d89432197cd4374c87dda27": {
          "model_module": "@jupyter-widgets/controls",
          "model_name": "ProgressStyleModel",
          "state": {
            "_view_name": "StyleView",
            "_model_name": "ProgressStyleModel",
            "description_width": "initial",
            "_view_module": "@jupyter-widgets/base",
            "_model_module_version": "1.5.0",
            "_view_count": null,
            "_view_module_version": "1.2.0",
            "bar_color": null,
            "_model_module": "@jupyter-widgets/controls"
          }
        },
        "1a4cbd4c9b844ddda63239731b260384": {
          "model_module": "@jupyter-widgets/base",
          "model_name": "LayoutModel",
          "state": {
            "_view_name": "LayoutView",
            "grid_template_rows": null,
            "right": null,
            "justify_content": null,
            "_view_module": "@jupyter-widgets/base",
            "overflow": null,
            "_model_module_version": "1.2.0",
            "_view_count": null,
            "flex_flow": null,
            "width": null,
            "min_width": null,
            "border": null,
            "align_items": null,
            "bottom": null,
            "_model_module": "@jupyter-widgets/base",
            "top": null,
            "grid_column": null,
            "overflow_y": null,
            "overflow_x": null,
            "grid_auto_flow": null,
            "grid_area": null,
            "grid_template_columns": null,
            "flex": null,
            "_model_name": "LayoutModel",
            "justify_items": null,
            "grid_row": null,
            "max_height": null,
            "align_content": null,
            "visibility": null,
            "align_self": null,
            "height": null,
            "min_height": null,
            "padding": null,
            "grid_auto_rows": null,
            "grid_gap": null,
            "max_width": null,
            "order": null,
            "_view_module_version": "1.2.0",
            "grid_template_areas": null,
            "object_position": null,
            "object_fit": null,
            "grid_auto_columns": null,
            "margin": null,
            "display": null,
            "left": null
          }
        },
        "161df82401824cf497fa30bc1c8f96e9": {
          "model_module": "@jupyter-widgets/controls",
          "model_name": "DescriptionStyleModel",
          "state": {
            "_view_name": "StyleView",
            "_model_name": "DescriptionStyleModel",
            "description_width": "",
            "_view_module": "@jupyter-widgets/base",
            "_model_module_version": "1.5.0",
            "_view_count": null,
            "_view_module_version": "1.2.0",
            "_model_module": "@jupyter-widgets/controls"
          }
        },
        "1dd5715c429f43ebb2e1056df0449498": {
          "model_module": "@jupyter-widgets/base",
          "model_name": "LayoutModel",
          "state": {
            "_view_name": "LayoutView",
            "grid_template_rows": null,
            "right": null,
            "justify_content": null,
            "_view_module": "@jupyter-widgets/base",
            "overflow": null,
            "_model_module_version": "1.2.0",
            "_view_count": null,
            "flex_flow": null,
            "width": null,
            "min_width": null,
            "border": null,
            "align_items": null,
            "bottom": null,
            "_model_module": "@jupyter-widgets/base",
            "top": null,
            "grid_column": null,
            "overflow_y": null,
            "overflow_x": null,
            "grid_auto_flow": null,
            "grid_area": null,
            "grid_template_columns": null,
            "flex": null,
            "_model_name": "LayoutModel",
            "justify_items": null,
            "grid_row": null,
            "max_height": null,
            "align_content": null,
            "visibility": null,
            "align_self": null,
            "height": null,
            "min_height": null,
            "padding": null,
            "grid_auto_rows": null,
            "grid_gap": null,
            "max_width": null,
            "order": null,
            "_view_module_version": "1.2.0",
            "grid_template_areas": null,
            "object_position": null,
            "object_fit": null,
            "grid_auto_columns": null,
            "margin": null,
            "display": null,
            "left": null
          }
        }
      }
    }
  },
  "cells": [
    {
      "cell_type": "markdown",
      "metadata": {
        "id": "4Ohw7wEzRr_z"
      },
      "source": [
        "# 2. 데이터 탐색과 전처리"
      ]
    },
    {
      "cell_type": "markdown",
      "metadata": {
        "id": "QjLqioWfUWPU"
      },
      "source": [
        "이전 장에서는 Question Generation Task의 개념과 모델, 평가지표 등에 대해 알아보았습니다. 이번 장에서는 실습에 사용할 데이터셋을 확인해보도록 하겠습니다. \n",
        "\n",
        "NLP 튜토리얼에서는 에세이 데이터를 활용해 학습자들을 위한 영어 문제를 생성하는 모델을 만들어 볼 것입니다. 구체적으로 3개의 문제를 만들어 볼 것입니다. 왜 에세이냐? -> 개인의 생각이 들어간 수필인데 이것을 쓰면 이러이러한 이유에서 좋다  \n",
        "\n",
        "문제를 모두 4지선다 문제다. \n",
        "왜 4지선다 문제냐? 평가 쉽고, blah blah blah\n",
        "\n",
        "지문 내용 기반 참 거짓 문제, WH-5 문제 생성할거다. \n",
        "\n",
        "참 거짓 문제란 ~~\n",
        "\n",
        "WH-5 문제란 ~~ \n",
        "\n",
        "grammar 문제는 실제 GEC task에 사용되는 데이터셋에서 틀린 grammar들 위주로 구성했으므로, 실제 ESL 학생드리 헷갈려하는 문제 위주로 grammar 문제를 구성해서 유효성을 확보함. \n",
        "\n",
        "2.1절에서는 데이터를 다운로드 받는 방법을 살펴보겠습니다. 2.2절에서는 데이터를 시각화 해볼 것이며, 2.3절에서는 matplotlib.pyplot 에서 제공하는 subplots 함수를 활용해 여러 이미지를 하나의 출력 창에 시각화 하는 방법을 알아보겠습니다. 마지막으로 2.4절에서는 이미지 전처리를 통해 픽셀값에 정규화(normalization)을 진행해보겠습니다.\n",
        "\n"
      ]
    },
    {
      "cell_type": "code",
      "metadata": {
        "id": "fmaZbgpduC2y"
      },
      "source": [
        "# 데이터 다운로드\n",
        "!wget -O 'wi+Blocness_v2.1.bea19.tar.gz'  https://github.com/SDSTony/Tutorial-Book/blob/master/book/chapters/NLP/data/wi%2Blocness_v2.1.bea19.tar.gz?raw=true\n",
        "!wget -O 'release2.3.1.tar.gz' https://github.com/SDSTony/Tutorial-Book/blob/master/book/chapters/NLP/data/release2.3.1.tar.gz?raw=true"
      ],
      "execution_count": null,
      "outputs": []
    },
    {
      "cell_type": "code",
      "metadata": {
        "colab": {
          "base_uri": "https://localhost:8080/"
        },
        "id": "rxkaQ3YIblgH",
        "outputId": "93bd5394-4c0a-41b8-8f39-3a351eaaf7f4"
      },
      "source": [
        "!wget -O 'conll2014.tar.gz' https://www.comp.nus.edu.sg/~nlp/conll14st/conll14st-test-data.tar.gz"
      ],
      "execution_count": 2,
      "outputs": [
        {
          "output_type": "stream",
          "text": [
            "--2021-04-01 03:13:26--  https://www.comp.nus.edu.sg/~nlp/conll14st/conll14st-test-data.tar.gz\n",
            "Resolving www.comp.nus.edu.sg (www.comp.nus.edu.sg)... 45.60.31.225\n",
            "Connecting to www.comp.nus.edu.sg (www.comp.nus.edu.sg)|45.60.31.225|:443... connected.\n",
            "HTTP request sent, awaiting response... 200 OK\n",
            "Length: 643482 (628K) [application/x-gzip]\n",
            "Saving to: ‘conll2014.tar.gz’\n",
            "\n",
            "conll2014.tar.gz    100%[===================>] 628.40K   337KB/s    in 1.9s    \n",
            "\n",
            "2021-04-01 03:13:29 (337 KB/s) - ‘conll2014.tar.gz’ saved [643482/643482]\n",
            "\n"
          ],
          "name": "stdout"
        }
      ]
    },
    {
      "cell_type": "markdown",
      "metadata": {
        "id": "14PbgErScAjw"
      },
      "source": [
        "- output file 이름 정의할 때: `-O`"
      ]
    },
    {
      "cell_type": "code",
      "metadata": {
        "id": "vcDHLcWbuO1l"
      },
      "source": [
        "!tar -xf release2.3.1.tar.gz    \n",
        "!tar -xf wi+Blocness_v2.1.bea19.tar.gz"
      ],
      "execution_count": null,
      "outputs": []
    },
    {
      "cell_type": "code",
      "metadata": {
        "id": "aFbPfFoMe145"
      },
      "source": [
        "# 압축 풀고\n",
        "!tar -xf conll2014.tar.gz"
      ],
      "execution_count": 3,
      "outputs": []
    },
    {
      "cell_type": "markdown",
      "metadata": {
        "id": "nL-OzDV-wb8o"
      },
      "source": [
        "## 2.1 CoNLL"
      ]
    },
    {
      "cell_type": "markdown",
      "metadata": {
        "id": "uWqElsQsXRC7"
      },
      "source": [
        "Conference on Computational Natural Language Learning (CoNLL)은 매년 자연어처리 관련 기술에 대해 논하는 학회입니다. (학회 설명 보완) \n",
        "\n",
        "2013년, 2014년에 더불어 공동 과제 (shared task)를 운영했는데, 에세이내의 문법 오류를 탐지해서 자동으로 고치는 알고리즘을 찾는 과제였습니다. \n",
        "\n",
        "해당 데이터는 영어가 두번째 언어인 English as Second Language (ESL) 학생들에 의해 작성된 에세이를 활용했습니다. 50개의 에세이가 존재하며, 2개의 다른 주제에 대한 학생들의 생각을 서술한 글이다. "
      ]
    },
    {
      "cell_type": "markdown",
      "metadata": {
        "id": "kvuPBlB2XUZB"
      },
      "source": [
        "- Creator: National University of Singapore\n",
        "- Year: 2013, 2014\n",
        "- Purpose: \n",
        "    - shared task of the Seventeenth Conference on Computational Natural Language Learning\n",
        "    - the\n",
        "goal is to detect and correct the grammatical errors\n",
        "present in the essay, and return the corrected essay (grammatical error correction)\n",
        "- Data:\n",
        "    - Written by ESL students, corrected by Error annotation on the test essays was carried\n",
        "out by a native speaker of English who is a lecturer\n",
        "at the NUS Centre for English Language Communication\n",
        "\n",
        "    - 50 essays (1,312 sentences) on 2 different topics written by 25 South-East Asian undergraduates [Ref. BEA-2019 paper]\n",
        "\n",
        "- Papers: https://www.aclweb.org/anthology/W13-3601.pdf"
      ]
    },
    {
      "cell_type": "code",
      "metadata": {
        "id": "UYv6DLh3wlyD"
      },
      "source": [
        "from bs4 import BeautifulSoup"
      ],
      "execution_count": 4,
      "outputs": []
    },
    {
      "cell_type": "code",
      "metadata": {
        "id": "fP1UolDQbKwt"
      },
      "source": [
        "# 파일 열고 annotator 1에 의해 라벨링 된 파일\n",
        "cor = open('conll14st-test-data/noalt/official-2014.1.sgml')"
      ],
      "execution_count": 6,
      "outputs": []
    },
    {
      "cell_type": "code",
      "metadata": {
        "id": "9ftd0YJzbN-L"
      },
      "source": [
        "# 파일 읽고\n",
        "revised = cor.read()"
      ],
      "execution_count": 7,
      "outputs": []
    },
    {
      "cell_type": "code",
      "metadata": {
        "colab": {
          "base_uri": "https://localhost:8080/"
        },
        "id": "IEtrnuYjbi8k",
        "outputId": "ef01f708-6194-4459-d160-b39dc261a69f"
      },
      "source": [
        "type(revised)"
      ],
      "execution_count": 12,
      "outputs": [
        {
          "output_type": "execute_result",
          "data": {
            "text/plain": [
              "str"
            ]
          },
          "metadata": {
            "tags": []
          },
          "execution_count": 12
        }
      ]
    },
    {
      "cell_type": "code",
      "metadata": {
        "id": "Hti6nGpcbRFt"
      },
      "source": [
        "# 파싱하고\n",
        "revisedsoup = BeautifulSoup(revised, 'html.parser')"
      ],
      "execution_count": 8,
      "outputs": []
    },
    {
      "cell_type": "code",
      "metadata": {
        "colab": {
          "base_uri": "https://localhost:8080/"
        },
        "id": "SxvPlF9Abhsk",
        "outputId": "931c8fbf-d9f2-4e2e-e364-feb1dd38be91"
      },
      "source": [
        "type(revisedsoup)"
      ],
      "execution_count": 11,
      "outputs": [
        {
          "output_type": "execute_result",
          "data": {
            "text/plain": [
              "bs4.BeautifulSoup"
            ]
          },
          "metadata": {
            "tags": []
          },
          "execution_count": 11
        }
      ]
    },
    {
      "cell_type": "code",
      "metadata": {
        "id": "eSB9KA6pbXbg"
      },
      "source": [
        "# html tag names\n",
        "rev_tag_names = set([tag.name for tag in revisedsoup.find_all()])"
      ],
      "execution_count": 7,
      "outputs": []
    },
    {
      "cell_type": "markdown",
      "metadata": {
        "id": "0wPZvEcb9Dqt"
      },
      "source": [
        "html tag 별 설명 추가 "
      ]
    },
    {
      "cell_type": "code",
      "metadata": {
        "id": "oJNi0WBVba0J",
        "colab": {
          "base_uri": "https://localhost:8080/"
        },
        "outputId": "1ca293e4-846b-44d0-c71d-0e19e05cbdc9"
      },
      "source": [
        "rev_tag_names"
      ],
      "execution_count": 8,
      "outputs": [
        {
          "output_type": "execute_result",
          "data": {
            "text/plain": [
              "{'annotation',\n",
              " 'comment',\n",
              " 'correction',\n",
              " 'doc',\n",
              " 'mistake',\n",
              " 'p',\n",
              " 'text',\n",
              " 'title',\n",
              " 'type'}"
            ]
          },
          "metadata": {
            "tags": []
          },
          "execution_count": 8
        }
      ]
    },
    {
      "cell_type": "code",
      "metadata": {
        "id": "ovEmUbYClnZH"
      },
      "source": [
        "def edit_paragraph(paragraph, start, end, correction):\n",
        "    return paragraph[:start] + correction + paragraph[end:]\n",
        "\n",
        "def update_index(paragraph, offset, corrections):\n",
        "    '''\n",
        "    paragraph: 원문\n",
        "    offset: 원본 위치정보\n",
        "    corrections: 수정해야 하는 단어\n",
        "    '''\n",
        "    raw_words = []\n",
        "    # 1. detect all the words at offset values in the paragraph / O(offset)\n",
        "    for of in offset:\n",
        "        raw_words.append(paragraph[of['start_off']:of['end_off']])\n",
        "\n",
        "    # 2. compare length change between the detected words and corrections (map is faster than list comprehension when it doesn't use lambda) / O(offset)\n",
        "    adjusted = np.array(list(map(len, corrections))) - np.array(list(map(len, raw_words)))\n",
        "\n",
        "    # cumulate adjusted values / O(offset)\n",
        "    for i in range(1, len(adjusted)):\n",
        "        adjusted[i] += adjusted[i-1]\n",
        "    \n",
        "    # 3. adjust the index sequentially / O(offset)\n",
        "    for i in range(1, len(offset)):\n",
        "        offset[i]['start_off'] += adjusted[i-1]\n",
        "        offset[i]['end_off'] += adjusted[i-1]"
      ],
      "execution_count": 22,
      "outputs": []
    },
    {
      "cell_type": "code",
      "metadata": {
        "id": "9ow6bIfAfIDB"
      },
      "source": [
        "import numpy as np"
      ],
      "execution_count": 27,
      "outputs": []
    },
    {
      "cell_type": "code",
      "metadata": {
        "id": "YfvuCQfOv5B8"
      },
      "source": [
        "all_docs = revisedsoup.find_all('doc')"
      ],
      "execution_count": 83,
      "outputs": []
    },
    {
      "cell_type": "code",
      "metadata": {
        "id": "FhVgdKWzv8E-"
      },
      "source": [
        "# strip은 앞뒤 공란 제거\n",
        "_t = all_docs[0].find('text').text.strip().split('\\n\\n\\n')"
      ],
      "execution_count": 115,
      "outputs": []
    },
    {
      "cell_type": "code",
      "metadata": {
        "colab": {
          "base_uri": "https://localhost:8080/"
        },
        "id": "3WuhXpGbz5-J",
        "outputId": "c2fdd74a-d28e-480d-e3d2-fbb0664a6e5a"
      },
      "source": [
        "_t"
      ],
      "execution_count": 117,
      "outputs": [
        {
          "output_type": "execute_result",
          "data": {
            "text/plain": [
              "['Keeping the Secret of Genetic Testing',\n",
              " 'What is genetic risk? Genetic risk refers more to your chance of inheriting a disorder or disease. People get certain disease because of genetic changes. How much a genetic change tells us about your chance of developing a disorder is not always clear. If your genetic results indicate that you have gene changes associated with an increased risk of heart disease, it does not mean that you definitely will develop heart disease. The opposite is also true. If your genetic results show that you do not have changes associated with an increased risk of heart disease, it is still possible that you develop heart disease. However for some rare diseases, people who have certain gene changes are guaranteed to develop the disease. When we are diagonosed out with certain genetic disease, are we suppose to disclose this result to our relatives? My answer is no.',\n",
              " \"On one hand, we do not want this potential danger causing firghtenning affects in our families' later lives. When people around us know that we got certain disease, their altitudes will be easily changed, whether caring us too much or keeping away from us. And both are not what we want since most of us just want to live as normal people. Surrounded by such concerns, it is very likely that we are distracted to worry about these problems. It is a concern that will be with us during our whole life, because we will never know when the ''potential bomb'' will explode.\",\n",
              " 'On the other hand, if there are ways can help us to control or cure the disease, we can going through thses process from the scope of the whole family. For an example, if exercising is helpful for family potential disease, we can always look for more chances for the family to go exercise. And we keep track of all family members health conditions. At the same time, we are prepared to know when there are other members got this disease.',\n",
              " 'Here I want to share Forest\\'view on this issue. Although some people feel that an individual who is found to carry a dominant gene for Huntington\\'s disease has an ethical obligation to disclose that fact to his or her siblings, there currently is no legal requirement to do so. In fact, requiring someone to communicate his or her own genetic risk to family members who are therefore also at risk is considered by many to be ethically dubious.\"',\n",
              " 'Nothing is absolute right or wrong. If certain disease genetic test is very accurate and it is unavoidable and necessary to get treatment and known by others, it is OK to disclose the result. Above all, life is more important than secret.']"
            ]
          },
          "metadata": {
            "tags": []
          },
          "execution_count": 117
        }
      ]
    },
    {
      "cell_type": "code",
      "metadata": {
        "colab": {
          "base_uri": "https://localhost:8080/"
        },
        "id": "S4iwJd45kN5V",
        "outputId": "c505d25b-b619-4b18-88bd-4d26106df983"
      },
      "source": [
        "all_docs = revisedsoup.find_all('doc')\n",
        "corrected_essays = []\n",
        "\n",
        "for doc in all_docs:\n",
        "    \n",
        "    # extract paragraphs\n",
        "    paragraph_lists = doc.find('text').text.strip().split('\\n\\n\\n')\n",
        "\n",
        "    # paragraph 별로 수정 진행\n",
        "    # make list that contains offset values\n",
        "\n",
        "    all_mistakes = doc.find_all('mistake')\n",
        "\n",
        "    for para_idx, para in enumerate(paragraph_lists):\n",
        "        edits = [mistake.attrs for mistake in all_mistakes if mistake.attrs['start_par'] == f'{para_idx}']\n",
        "\n",
        "        if len(edits) == 0:\n",
        "            continue\n",
        "        \n",
        "        edits = [{key: int(value) for key, value in edit.items()} for edit in edits]\n",
        "\n",
        "        # make list that contains correction information \n",
        "        corrections = [mistake.find('correction').text for mistake in all_mistakes if mistake.attrs['start_par'] == f'{para_idx}'] #start par과 end par은 항상 같은가?\n",
        "        \n",
        "        update_index(para, edits, corrections)\n",
        "\n",
        "        for edit_idx, edit in enumerate(edits):\n",
        "            para = edit_paragraph(para, int(edit['start_off']), int(edit['end_off']), corrections[edit_idx])\n",
        "\n",
        "        paragraph_lists[para_idx] = para\n",
        "\n",
        "    corrected_essays.append(' '.join(paragraph_lists))"
      ],
      "execution_count": 154,
      "outputs": [
        {
          "output_type": "stream",
          "text": [
            "100%|██████████| 50/50 [00:00<00:00, 406.61it/s]\n"
          ],
          "name": "stderr"
        }
      ]
    },
    {
      "cell_type": "code",
      "metadata": {
        "colab": {
          "base_uri": "https://localhost:8080/"
        },
        "id": "nHavPIrF0-ZQ",
        "outputId": "8f20b36a-0c5b-4e62-e36d-975e57824624"
      },
      "source": [
        "len(corrected_essays)"
      ],
      "execution_count": 155,
      "outputs": [
        {
          "output_type": "execute_result",
          "data": {
            "text/plain": [
              "50"
            ]
          },
          "metadata": {
            "tags": []
          },
          "execution_count": 155
        }
      ]
    },
    {
      "cell_type": "code",
      "metadata": {
        "colab": {
          "base_uri": "https://localhost:8080/"
        },
        "id": "l_EC-bBC3kpY",
        "outputId": "7ec62596-5a1d-4a6b-efde-44d4c747320c"
      },
      "source": [
        "corrected_essays"
      ],
      "execution_count": 157,
      "outputs": [
        {
          "output_type": "execute_result",
          "data": {
            "text/plain": [
              "[\"Keeping the Secret of Genetic Testing What is genetic risk? Genetic risk refers  to your chance of inheriting a disorder or disease. People get certain diseases because of genetic changes. How much a genetic change tells us about your chance of developing a disorder is not always clear. If your genetic results indicate that you have gene changes associated with an increased risk of heart disease, it does not mean that you definitely will develop heart disease. The opposite is also true. If your genetic results show that you do not have changes associated with an increased risk of heart disease, it is still possible that you will develop heart disease. However, for some rare diseases, people who have certain gene changes are guaranteed to develop the disease. When we are diagnosed with a certain genetic disease, are we supposed to disclose this result to our relatives? My answer is no. On the one hand, we do not want this potential danger to have frightening effects on our families' later lives. When people around us know that we have got a certain disease, their attitudes will easily be changed, whether it becaring about us too much or keeping away from us. And both are not what we want , since most of us just want to live as normal people. Surrounded by such concerns, it is very likely that we will be too distracted to worry about these problems. It is a concern that will be with us during our whole life, because we will never know when the ''potential bomb'' will explode. On the other hand, if there are things that can help us to control or cure the disease, we can go through this process with the whole family. For example, if exercising is helpful for apotential family disease, we can always look for more chances for the family to do exercise. And we can keep track of all family members' health. At the same time, we are prepared to know when there are other members who have got this disease. Here I want to share Forest's view on this issue. Although some people feel that an individual who is found to carry a dominant gene for Huntington's disease has a moral obligation to disclose that fact to his or her siblings, there is currently no legal requirement to do so. In fact, requiring someone to communicate his or her own genetic risk to family members who are therefore also at risk is considered by many to be ethically dubious. Nothing is absolutely right or wrong. If a certain genetic test for a disease is very accurate and it is unavoidable and necessary to get treatment and to make it known to others, it is OK to disclose the result. Above all, life is more important than secrecy.\",\n",
              " \"Genetic risk does carry its consequences and should not be taken lightly within the family circle. After all, what affects one family may or may not affect another , although families have a common genetic make-up, shared by either of the parents. In cases where an individual has gotten to know of a genetic disorder, disclosing it or otherwise to his or her relatives is solely a matter of preference within the individual moral code. The issue of the right to know or not to know is highly debatable. Although there is a genetic risk, one cannot be entirely sure because the genetic information could possibly come from the family of either parent - their maternal and paternal uncles, aunts or cousins. This also means that as soon as a person is made aware of his or her genetic profile, he or she concurrently has  knowledge about others. This knowledge may be relevant to them, and vice versa. An example that may serve as an illustration is breast cancer. It is hereditary. Does someone who suffers from this disease keep it a secret or inform their relatives? In retrospect, it is also one's duty to ensure that they undergo periodic health checksof their own. Sometimes some family structures and cultural beliefs can influence the pattern of communication. Depending on who the genetic risk was discovered in: the son or daughter, for example, the parents who know about this would decide who gets told and who takes  precedence in being 'allowed' to tell. For example, within a family, regardless of who had first received the information, parents were seen as having the primary responsibility for passing on information to any offspring, or adult, at risk. In addition, a woman testing positive for BRCA1 would be expected to allow her brother or sister to disclose such information to a niece or nephew rather than do it herself, although this may be further complicated by an individual's response to risk information as they may not want to know. Hence, there were also tensions if participants felt that they could neither pass on information to relatives who needed to know (such as nieces and nephews) nor persuade those with authority (the parents) to do so. The notion of authority also extended 'vertically'. For example, a grandmother may have more authority to pass on information than an aunt, even when she is not at genetic risk herself while the aunt is. From a practitioner's perspective these findings are important because, if lay constructs of the family and kinship are a social construct, they may not be in line with geneticists' views of family relationships, or about which blood (or non-blood) relatives should be informed and by whom; this is also likely to be dependent on the cultural and ethnic context. Ultimately, one must draw attention to who may benefit from such information and assist those at risk to make considered decisions about disclosure. Whose duty it is to inform at-risk relatives or not greatly depends on the personal moral code and the nature of how 'directive' the risk is to them.\",\n",
              " \"People with a close blood relationship generally carry some similar genes. In this case, if one of the family members or close relatives is found to carry a genetic risk, it is better for the patient to tell his/her close relatives about the issue and let others know about the risk so that his/her family members are able to do some daily exercises to prevent the potential disease or they may go to hospital and check for the corresponding . In my opinion, although the disclosure of carrying a genetic risk involves the issue of personal privacy, it is necessary for the carrier to be obligated to tell  his or her relatives in order for them to prevent the potential disease. I agree with this statement to a large extent. I will focus on the negative side of the disclosure of genetic risk first. Large numbers of patients with  genetic risk would want to keep it  a secret as the genetic risk may indicate their high chance of carryinga certain disease. This is especially the case for young people who are unmarried. If he/she is known to have some genetic risk, there may be a chance that his/her child will carry the same disease, but not for certain. Therefore, to keep the information  secret from his/her future spouse would help the relationship. Secondly, disclosing the potential risk would cause the family member to be scared of this  issue. Although the  might not be that serious, people would still fear that they will have some potential disease in the future , and so, go to hospital and do additional checks or take more medicine in order to prevent the disease, and this creates unnecessary costs for the family. Furthermore, the disclosure of genetic risk would affect the relationship with the relatives as, sometimes, others may not want to stay too close to the carrier, so that they have less chance of getting the potential disease. On the other hand, if the genetic risk is kept  a secret, although it may benefit the carrier to a certain extent and help to protect privacy,  it has much greater negative impacts on the family members and relatives. First, in the case of marriage, people should be honest and tell their spouse they may carry a certain genetic risk that might affect their offspring. It is better to let the other party know the facts , rather than wait until after the baby is born and a certain type of genetic disease is found. It is better for both parties to be honest. Secondly, genetic disease has a close relationship with the  together with their daily habits. For example, if a carrier is told that he/she has the risk ofhaving diabetes. In this case, the carrier could eat fewer candies and chocolates to prevent taking in too much sugar, and at the same time, if the carrier tells this information to the relatives, it will be useful for them to know that they may have diabetes in the future because of related genes, and they can do the same exercise to take in less sugar to prevent the disease. Otherwise, if the other parties do not know, they may end up with  diabetes in the future without any prevention. In conclusion, we can see that the benefits of disclosing genetic risk to the carriers' relatives outweigh the costs. Therefore, it would be better for the carrier to be obligated to give the information to the relatives, in order to let them know and prevent the potential disease through daily exercise.\",\n",
              " \"A large number of different kinds of disorders are caused by genetic factors. Genetic disorders may or may not be  hereditary diseases and it is sometimes hard to find out whether one has these kinds of diseases. There is a long-standing debate about whether a carrier of a known genetic risk should be obligated to tell his or her relatives that his or her disease is caused by a gene. Legally, the answer is no but,ethically, the answer should be yes. We can't pass a law to compel a carrier of a known genetic risk to tell his or her relatives about his or her genetic problem. It is immoral and impractical. Firstly, what kinds of diseases someone has is a matter or personal privacy. Privacy  belongs to one's human rights. If a law requires someone to tell others their private details , especially when they are not willing to do so, it is againt their human rights and it is against the spirit of the law. The spirit of the law also includes  fairness. What is the basic difference between genetic disorders and other disorders? It is unfair to pass a law only pertaining to  genetic disorders. In addition, it is impractical to pass such a law. A good law should be clear and easy to enforce. However, there are many problems with  asking a carrier to tell his or her relatives the cause of his or her disease. Firstly, what is the range of  relatives? For example, does the carrier only need to tell their direct relatives, like parents and brothers and sisters, or do they also need to tell relatives like their grandmother's sister's son's daughter's nephew? If you say they\\n need to tell direct relatives, it will be against the  law. Other relatives may have the same possibilities of havingthis kind of disease. How can a law passed by the government exclude such a group of people from preparing to face their potential disease? However, from the ethical point of view,  the carrier  should have a feeling of responsibility to tell their relatives about their genetic disorder. By doing this ,they may be able to save the lives of their relatives. This is because a carrier with a bad gene may not necessarily develop the genetic disease if they can have a healthy lifestyle before the age that the gene's function becomes stronger. A typical example is genetically caused hypertension. Hypertension can be caused by genetic problems which make it harder for the carrier to digest the fat and salt in blood which can cause hypertension. People usually get this kind of hypertension after they become adults. However, if they already know they have a gene that may make them have agreater possibility of getting hypertension, they can adopt a daily habit of eating less salt and fat and thus  avoid hypertension. , our society can't compel genetic problem carriers to tell their relatives about their disease but they should be willing to tell their relatives about their genetic problem. If they do so, fewer of their loved ones will suffer from the genetic problem.\",\n",
              " \"In an age of rapid technological advancement, a lot of medical breakthroughs are made possible. Genetic testing is made possible and available for . It is able to detect  illnesses or diseases and even a child's parentage. However, it will become a controversial issue as it becomes a dilemma for a carrier of a known genetic risk whether to inform his or her relatives. If the knowledge of the genetic risk was to be shared with the family or relatives, there might be chances for them to have it in their blood which they may take the necessary precautions to prevent. But, if the genetic disease is a terminal disease, most  relatives will be disheartened upon learning about it. Therefore, some carriers will want to keep it  a secret. This essay will discuss  whether a carrier of a known genetic risk should tell his or her relatives or not. Some say that the genetic risk that is found in a person should be kept secret because it is considered as  personal information which should be kept confidential. Most patients will be depressed after finding out abouttheircondition. If someone has a genetic disease, after the test, they might not wish to inform their relatives as they might end up disheartening their extended family. Some will wish to keep it to themselves and hope to ensure that they will not bring  any pessimism into their family. Furthermore, some will wish not to become a burden to anyone, as seeking medical attention is relatively costly. Hence, some see it as being considerate by keeping the genetic risk of getting the disease  confidential. On the other hand, others may think that it would be considerate to tell the relatives, because the latter will have a higher chance of having the same genetic risk. Hence, they will be able to seek help from medical specialists to find a cure or to take some measures to prevent the risk of getting the disease. Nevertheless, it will depend on what kind of genetic disease,  in the context of current medical technology. For example, breast cancer is a genetic disease and it can be cured if it is detected in the early stage. Hence, with the knowledge of having a genetic risk, the relatives of someone with this genetic disease will have a medical check-up, which might save them by detecting it at  earlier stage. In conclusion, it would be considerate to inform relatives of the risk of getting the same genetic disease. Although there might be a lot of challenges along the way when seeking medical attention, such as financial issues, everyone should be given the right  to know their family's inherited medical conditions. However, some think that it might be better for those who are ignorant of it because they will continue leading a happy life. In addition, some may think that even knowing about having a risk of a disease will just add to their misery as there is nothing that they can do about it. All-in-all, it depends on the individual and also the nature of the disease, but people should be obligated to inform their relatives if there are possibilities of curing or preventing the condition.\",\n",
              " \"Genectic testing is a personal decision, made with the knowledge that there is a possiblity that one could be a carrier or not. Those who are born into a family with a history of genetic disease should be allowed to undergo genetic testing, even  if there is no risk at all. Early pre-examination is healthy as it will remove unwanted doubts and affect the thinking of those who are affected. For a genetic risk carrier, there should be a choice given with regards to informing his/her relatives. They should not be forced or obliged to do so, as it may negatively and drastically affect the emotions of the genetic risk carrier. With regard to this choice , there must be some rules to regulate and exercise personal freedom of choice\\n. If the genetic risk carrier is a minor, then most likely the decision about informing the relatives should be made by the patient's parents or legal guardian. Such patients are still emotionally volatile or they may be unaware of the consequences of the genetic disorder due to their young age. Furthermore, the act of informing others without the consent of their parents or the patients themselves could harm the psychological state of the affected family. Thus, much thought needs to be put into the immediate family, as it could cause a chaos of unwanted events for the patient or the family members themselves. Some family members may feel hurt  with regards to their family pride or reputation on having the knowledge of a genetic disorder running in their family. However, there is a  and a sense of responsibility to inform their relatives since it is a genetic disorder. There might be a possibility that the genetic disorder could also affect their relatives and any other families within the same family tree. The importance of informing relatives of a genetic disease is vital as it may help to raise awareness and prevention of the genetic disorder. Also, this  information will help their relatives to make informed decisions and to similarly undergo genetic testing to find out about the outcome. Thus, having the knowledge that the genetic disorder is benign would be beneficial to their emotional well-being. And if the results turn out to be otherwise, then the family can be prepared emotionally and psychologically for the future outcome and this will aid them in making upcoming decisions. In addition, the genetic risk carrier would be showered with moral and emotional support from their relatives if it has been made known to them. Having support from relatives is vital as they assure the genetic risk carrier that he/she is not alone in facing this illness, and it will certainly provide a morale boost, as the whole family will share a common feeling with regards to the future prospect of the genetic disorder, which could be inherited by anyone in the family. Therefore, the decision to inform relatives of a genetic disorder will be dependent on the situation and background of the affected family, with the freedom of choice given to them in making the decision about informing others.\",\n",
              " \"A person with a disorder, whether it be a mental or physical disorder, is always  by his or her family. When it comes to genetic issues, it is not that simple anymore. Genetic disorder , but not all of the offspring show the relevant symptoms. Sometimes a family with a risk of potential genetic disorder may not be able to detect the potential harm inside their bodies as none of their members display any observable  symptoms. As a result,  when one of the members happens to feel uncomfortable or unwell, he or she should be aware of whether the disorder in his or her body is a genetic risk or not. Afterwards, the carrier will face a serious ethical issue, which is whether to reveal the problem to his or her relatives or not. If the disorder symptoms are displayed by a child, the parent will be informed by the medics , then the whole family will be alert to their bodies' condition. In contrast, if the carrier is an adult who has their own choice to choose whether to inform their relatives about the risk, that will be more complex. One might think that if the carrier is a caring person who loves their family more than themself, there is no doubt that they will tell their family about the issue. That is true and, of course, it is the obligation of a family member to protect and take care of the family. Conversely, if a child in the family knows that he has the risk of becoming a genetic risk carrier, and the risk might also be inherited by his child in the future, he will be in a dilemma his whole life. And of course, he or she will think of not having any children after getting married, and the same thought occurs to the cousins as well. As a result, the family line stops  the moment the adult carrier announces his problem. In China, the older generation with a traditional cultural background will always think of having more children as well as grandchildren, to make the family more lively and stronger. The reason behind this is that after WWII the population of China decreased dramatically and so the government encouraged the people to have more children. During that period, if one of the family members displayed genetic disorder symptoms, he would be in an ethical dilemma for sure. The medical  technology during that time was not advanced enough to completely cure him. He had to choose whether to protect his family or make his family more prosperous with a potential genetic risk. And so, he would have chosen not to undergo genetic disorder testing and to let the truth be buried forever. This kind of ethical issue cannot be judged by  others because they will not understand the position and duty of the carrier in the family. In conclusion, people should think carefully about what the consequences are of telling the relatives about their genetic disorder . It is an obligation for a carrier to inform his relatives, but also an obligation for a family member to add to the family. Even if the disorder is rarely  fatal or it does not cause any inconvenience to the carrier, revealing the truth is always the right thing to do.\",\n",
              " \"In my opinion, the carrier should tell his or her relatives about it. One of the reasons  is that , as a carrier, she or he needs  moral support to go through  this situation. It will be hard for an individual to deal with the issue on their own. If they tell theirfamily, other than being a support, they could possibly help them to find alternative solutions to the problem that they are facing right now. Other than that, I believe that the strong bond we have with our family is the biggest pillar of support to the carrier. Furthermore, as it is a genetic problem, it would be better for the carrier to inform his or her family, as other family members might experience the same thing. If they are made aware of this genetic problem, they could have a full check-up  and it would be better if they could even prevent it from happening to them. I think that it is important to family members , especially if it is contagious. The carrier could prevent the disease from spreading  to  society. For every action there are always pros and cons. I believe that some  carriers will choose not to reveal their disease to  family members, as they do not want to make their family members worry and feel uncomfortable or even to feel ostracized by them. Furthermore, as it could involve spending  lots of money on the treatment, the carrier might not want to be a burden to their family. I can understand the feelings of the carrier. She or he does not want to be the source of unhappiness in the family. However, we will never know whether these negative effects will arise when the carrier decides to tell his or her family about his or her condition. In conclusion, personally, I feel that it is better for the carrier to inform their family members about the issue. The carrier should be honest about his or her feelings , and I think that it is the right of the family members to know what is going on in his or her life. If anything bad happens in the carrier's lifewithout their having informed the family members, it could lead to a huge regret in their life if they leave without them knowing about it. On top of that, it is better to think about solutions to their problem with the family members,  as there are more heads to think about it rather than thinking about it alone and struggling on their own. Finally, I believe that  support,whether mental or even financial , from their family could help the carrier to fight against the genetic disease. There are lots of cancer patients who were given a second chance to live as  normal people because they had  strong moral support from their loved ones. In my opinion, as long as we keep our mind healthy and strong, we can fight any disease, because they come to us when we are fragile and weak.\",\n",
              " \"As  technology has advanced, it has reached a stage whereby the advancement triggers some ethical dilemmas in relation to the actual use of  technology. Genetic testing has been made possible; it has become easy to tell if one is a carrier of a known genetic risk through genetic testing. If used for a good purpose, it can prevent unnecessary unhappiness. However, it could also make a situation worse by revealing who the carrier is, in the family. The question  is whether a carrier of a known genetic risk should be obligated to tell his or her relatives, and I think that the carrier should not be obligated to do so, because I believe that he or she has the right not to know. Firstly, genetic testing is not something that is compulsory. Of course, some people may do it to make their futures slightly happier. However, the carrier, before the testing, can choose not to go for the test and simply live with unknowns and accept the facts. If he chooses to live with the uncertainty that the gene holds and is willing to accept it, he can do that, and it was something that was 'normal' for everyone in the past, as genetic testing was not possible. It could even be better for him or her that way. Some people might say that it is a form of prevention against giving birth to disabled offspring and making them suffer in real life. I personally think this is the right purpose of going through  genetic testing, so that a family who cannot afford to have a disabled child do not have to give birth to their child and make the entire family suffer. However, I believe that the carrier has the right not to be obligated to tell anyone, but has a responsibility to take  action to prevent any ethical dilemma. If the result turns out to be something that the carrier cannot accept, then it would have been better not to know the truth. I believe that even the carrier has the right not to know the  facts. After he or she realizesthat he or she is the carrier, the emotional damage would be hard to bear. It could possibly cause a problem in a family  and cause more unhappiness in the family. Overall, I believe that it entirely depends on the carrier whether to share the hard facts and face it with relatives, but he has no obligation to tell . In fact, I strongly believe that the carrier should weigh both the positive and negative consequences of undergoing genetic testing and take the appropriate action based on the results. The depression that the carrier might suffer and the sense of guiltcould be more than expected and could be a burden  for the rest of their life. On the other hand, without knowing about any genetic disorder and accepting the fact, the family will stay positive and work together to overcome the disability. I think the family will stay mentally healthy as it is, without having emotional stress.\",\n",
              " 'Debates have been around for years, as to whether a carrier of a known genetic risk should be obligated to inform his or her relatives. Any individual at risk of a disorder has the right to undergo genetic testing, but whether the results should be disclosed to others, especially close family or distant relatives, is a topic  worth discussing. This is an issue that needs to be addressed as a family-related ethical dilemma is involved. In this essay, a few arguments will be put forward in  support of  any carrier of a known genetic risk telling his or her relatives. When we were born, we were surrounded by our relatives, with them welcoming us to this new world. We were crying hard but we were not alone. It\\'s our family that bring us up. Hence, they are people we should be grateful for and the people we would like to share  joy with. However, in the case of any health issue or to the extent of a serious disorder, there may seem to be no point in sharing, but this involves more than just sharing of bad news. One definitely has the right not to disclose one\\'s health issues to anyone, but it\\'s also one\\'s responsibility to inform the family. If a health issue is related to genetic risk, with theemphasis on \"genetic\" , this highlights the risk of passing on the disorder to the next generation. Therefore, I would agree  that it\\'s obligatory for a carrier of a known genetic risk to tell his or her relatives, to avoid any family-related ethical dilemma that could arise in the future. Although one may argue that it\\'s still up to the individual whether to disclose such a health issue or to keep it to him/herself, it\\'s certainly helpful to share with close relatives, for a proper discussion about solutions. By doing so, one will feel less stressed in facing such a health risk. Relatives will certainly be supportive and show more care towards the carrier of a known genetic risk. As a result of informing them, the carrier is never alone in fighting the battle with such a health risk. On top of that, as the genetic risk may pass down to the next generation,  it will involve more than just one family. It is for this reason I would agree with the obligation to tell the relatives of both parties when one is about to get married and has a plan for raising a family. This would avoid the incidence of more family-related ethical dilemmas. There are more intangible advantages that could support  informing the relatives once the results are known after the test has been conducted. In conclusion, in order to avoid  family-related ethical dilemmas, it is best for any carrier of a known genetic risk to inform his/her relatives. The benefits of doing so  outweigh its disadvantages. More support must be provided through different means to give better guidance when someone is deliberating whether they should   inform their relatives.',\n",
              " 'The decision to undergo genetic testing can only be made by the individual at risk of a disorder. This is the common law in  society. However, it leads to a new problem that can be summarised as \"should a carrier of a known genetic risk be obligated to tell his or her relatives?\" This issue has been discussed for a long time. However, there is still a diversity of points of view among  people. Thus, we are going to identify the advantages and disadvantages of the issue . Firstly, I believe most of us will agree with the sentences below: \"I would be anxious about my family member if he or she told me that he or she was a carrier of a known genetic risk\". Frequently, the reason for the carriers not wanting to tell their families is to continue their own life without the anxiety of their families. It is obvious that it will be better for one person to be worried than many. However, many of the carriers are not strong enough to overcome the challenges on their own. With the families\\' support, there must be more energy to fight against  the demon. The demon is not easily  defeated and it requires much  energy and psychological support. Families give you the courage and support which you cannot find by yourself. That is the most essential element to overcome the challenges. Besides that, the risk of the known disorder is so serious that it cannot be described. The seriousness can be bigger than our imagination. Lying on a bed for the rest of your life, and even dying immediately, these are  consequences which we cannot imagine. Families are thedearest people in our life. Without their concern and support, . They play an important role in our life which cannot be substituted. A known genetic risk can also critically affect the next generation. Therefore, it is our responsibility to tell our relatives, to prevent the occurrence of undesired consequences. Generally, the clinic or hospital will not tell the carrier\\'s family without the agreement of the carrier. It is the ethic of staff in a hospital to keep the secret of any patients. . However, the hospital can provide a counsellor to advise the carrier about the action that can be taken. Therefore, this kind of circumstance will not happen again and again. It is a method that benefits the twoparties, which is a win-win situation. In conclusion, a carrier of a known genetic risk is encouraged to tell his or her relatives about the known genetic risk. However, there may be some special case that is hard to define. Thus, advice from the hospital plays an important role in this. The carrier is responsible for balancing his or her own interests and the benefits tothe family and even society. It is a hard decision to make but by choosing the most appropriate way, it will create great circumstances for the carrier and their family in the future.',\n",
              " \"With the risk of having a genetic disorder, many individuals have made the decision to undergo genetic testing. With the knowledge that the results will be known once the tests are done, each individual that is diagnosed as being a genetic risk carrier faces an ethical dilemma: should they warn their relatives about the risk of being a carrier of the same genetic risk? Or they can choose to keep silent until the next carrier is diagnosed. In my view, a carrier of a known genetic risk should not be obligated to tell his or her relatives,  for the following reasons. First of all, from the point of view of human rights, a genetic risk carrier should not be obligated to tell the truth to others. This diagnosis can be regarded as a private matter to carriers. They may  not want this truth to influence their life or may want to keep it as a secret and  not let others know about it. This is reasonable since  exposure of the truth of being a carrier may make them be discriminated against or  by others, which are not positive factors brought to their life. Secondly, the relatives of the carrier can also choose to undergo genetic testing, regardless of the diagnosis of the carrier. When people want to check whether they are genetic risk carriers, they can go and approach a doctor to consult about it. If they do not want to think too much about it and view it as a problem, they may just ignore the possibility. However, if a diagnosed carrier is obligated to tell his or her relatives, the relatives will be forced to know their higher chance of being genetic risk carriers. This  their own wishes as  they have to accept the truth, which may make their subsequent life miserable. Many people may argue that establishing an obligation may help more people who are the relatives of  carriers save their lives  because of  early diagnosis. However, this is not exactly true when other factors, including psychological influence, social influence, are taken into consideration. If one such relative is told that he or she may have a higher risk of getting sick, he or she may  be scared about the future, partners, spouse and colleagues may choose to leave, and many other situations may arise, which means the relative's life may be ruined. On the other hand, as stated above, a person who wants to confirm and has been prepared to face the result can choose to do the genetic testing individually. In summary, a carrier of a known genetic risk should have the  right to decide whether to tell their relatives or not. This should be accepted from the point of view of human rights, freedom of acceptance of relatives and for many other social reasons. Otherwise, making it an obligation will restrict the choice of carriers and bring a lot of confusion to their relatives.\",\n",
              " \"For a carrier of a genetic disorder,  knowing the fact that he or she is a carrier causes more dilemma  than getting the disorder. I agree that a carrier of a known genetic risk is obligated to tell his or her relatives. There are four reasons why people shouldn't be shy and should share their problems regarding a genetic disorder. Firstly, the carrier and his or her family can take precautions, physically, through actions to reduce the chance of it being inherited by offspring and, mentally, if the action fails to prevent it being inherited. Many syndromes, such as Down Syndrome and Taylor Syndrome, can be prevented from occurring if the mother undergoes proper medication and doesn't consume harmful foods during the pregnancy period. This information may not be known by the mother if she doesn't tell her relatives about her condition. The more people (relatives) know about her problem, the more information channels are provided. If all efforts have been made but the children still suffer from the syndrome, then the family have to accept this fact and do whatever they can to provide a good environment for their children's growth. This is not the parent's fault because there are still chances of the gene being inherited. So, they also have to prepare mentally. Secondly, genetic diseases cost a great deal for the treatment and medication. Albinism is one of the examples. People with albinism have sensitive skin and it needs regular treatment. Unlike people with a high proportion of skin pigment, people with albinism are prone to sunburn and other skin diseases. If they don't treat their body well, for example, by using sunglasses or wearing sunscreen  outdoors, there is a good chance that they will get skin problems that may also lead to cancer. Once you suffer from cancer, the medication costs are very expensive. To prevent the bigger problem from happening, it takes a lot of effort to take care of your body. If the carrier doesn't tell his or her relatives, it may be too late to get their support and prepare financially. Thirdly, some diseases are not noticeable and may lead to serious health problems. One of the diseases is sickle cell anaemia. Usually, people are not aware if they carry the sickle cell gene and this may lead to circulatory problems such as blood clots. If the parents know that one of them is a carrier and disclose the information to their relatives, then they can take their children to undergo genetic testing and don't need to be shy about it because it is for the sake of their children's health. Fourthly, it is important for the parents to give mental encouragement to their children with a genetic disorder. When their children become teenagers, a lot of social problems may arise. Strangers and friends often mock  your condition. A strong mental condition and conviction must be built from within and by the closest people. If not their family, then who else  will be willing to do that? It is not a difficult job for the family if they have prepared their minds first by disclosing the information about the probability that their children may suffer from the genetic disorder.\",\n",
              " 'In this modern world,  technology has improved a lot compared with the last century. Particularly in the medical field, there is  great improvement in many treatments for many formerly incurable diseases, and genetic testing is one of the methods which are used to diagnose whether an individual is at risk of a genetic disorder. The medical authorities claim that only the individual who is at risk of a genetic disorder can make the decision to undergo genetic testing. However, once a test has been conducted and the results are known, a family-related ethical dilemma is born. The question is whether a carrier of a known genetic risk should tell his or her relatives. In my opinion, the carrier of a known genetic risk has to tell his or her relatives about this. This is because his or her relatives have the right to know about this. As many people realize, a genetic disorder can be passed on to the carrier\\'s relatives, that is, one of the family members being at risk of a genetic disorder means that other family members also have almost the same risk of having it, so this problem should be treated seriously by the family. Every family member has the  right to know what is going on with them. If they do not even know that they are at risk of a genetic disorder, ? For instance, John is informed by his doctor that he is at risk of a genetic disorder but he does not tell his sibling, James, about this. Although telling James about this is horrible to some extent, he should know what is likely to be going on with him. It might be beneficial for his future if he is aware of the risk of having this disorder. The next point is that telling relatives can raise their awareness of having the same genetic disorder, preventing certain genetic disorders from affecting them. Genetic disorders are innate, but the great improvement of medical treatment makes it possible for humans to prevent the disorder or to reduce the negative effects of the disorder on them. In addition, doctors usually quote a statement, \"Prevention is better than cure\"; this gives us an idea that preventing a disorder from happening has far more advantages than curing it. Awareness of having a genetic disorder may help in diagnosing a genetic disorder in a person, and therefore, this may make the prevention of a certain disorder possible. For example, hypertension is partially due to genetic factors, but environmental factors also play an important role. People who are aware of having a disorder can prevent the disorder from developing by adopting a healthy lifestyle, including having a balanced diet and having at least 30 minutes of exercise every day. To sum up, a carrier of a known genetic risk should be obligated to tell his or her relatives. It is their human right to know about that, and this may also save their lives by preventing the disorder from developing.',\n",
              " \"Together with the advancement of technology over recent decades,medical progress has increased exponentially and further enhancements are still constantly being added. Empowered with advanced medical knowledge,doctors are able to diagnose and carry out genetic testing for patients to help them prevent illness and take the necessary steps to protect their life.However, once a test has been conducted and the results are known,the question of disclosing the results to  relatives becomes a challenging issue for both patient and doctor.I feel a strong urge to support the obligation to inform patients' relatives. As it is a genetic risk,the patient's next-of-kin might have a high chance of carrying the risk. Hence, the need to inform their relatives is important so that necessary preventative measures can be taken before unforeseen circumstances arise.For example,if you are the only child in a family and, unfortunately,you are suffering from a genetic disease, the genetic trait might be passed on to the next generation if you have a child. Hence, by making your family members aware of the situation,you would lessen family stresses and suffering owing to their forcing you to settle down and have children.However, social ethical issues like discrimination and privacy are the biggest concerns and potential barriers to forcing patients or doctors to disclose information to patients' relatives.It challenges  confidentiality and privacy principles.Currently, under the Health Insurance Portability and Accountability Act of 1996(HIPAA) in the United States,there is no legal obligation  to disclose information to relatives. It is up to the patient what they wish to disclose to their family members.Early disclosure to family members brings  a positive reaction and prevention,as in the case of Angelina Jolie. She chose to disclose information and underwent treatment to reduce the risk of breast cancer significantly to under five percent.I still can recall her reason for disclosing her own story was that she does not want to live in the shadow of cancer. However,there are still people who are against the decision to reveal private information.As in the case of Alzheimer's patients,it is  the patient's own choice to disclose information.However,research has shown that doctors have tried to interpret how and to whom Alzheimer's disease will be disclosed to minimise potential negative impact on family members (DementiaToday,2012).There are associations who provide help to Alzheimer's patients,like the Alzheimer's Association (Alzheimer's Association,1980).Although there are still thousands of people with genetic  diseases out there that might not be receiving help and support from everyone,the need to receive immediate understanding and support from family members is the utmost help that patients need in their difficult time. In conclusion,the state should pass a legal bill to measure and provide information to doctors a doctor should opt to inform relatives  about the genetic disease and in which situations it should be left to the patient's decision.In addition,the state could also encourage the creation of assistance schemes to offer the necessary help to  patients to encourage them to open up for their own benefit and for that of family members.Although it may face challenges from social ethical issues,in the long term,with appropriate encouragement and aid from the government,more individuals would have a different view of acceptance and take appropriate measures to protect their own health and that of their loved ones.\",\n",
              " \"Nowadays,  studies in the genetic field are going further and further due to  high-velocity technological advancement. Not long ago, the human genome project, sponsored by several large multinational corporations (MNCs), was started. , in the field of genetic testing, which enables people to be aware of the risk of a possible genetic disorder, as the technology is very mature already, an even more popular topic arises. While most people agree that each individual has his own right to decide whether to undergo a genetic test or not, they have different stands regarding whether it is the patient's responsibility  to share the result with his or her relatives. In my opinion, the patients who are carriers of some known genetic risk should share the truth with their family members. Admittedly, it is a social obligation to be responsible for the life of other people. For the whole society, it is a duty. Take H1N1 as an example. All the people in Singapore,  including students at school, travelers at the Changi Airport, workers in the offices as well as pedestrians on the street, are forced by law to take their temperature and report the result to the relevant government authority in charge. For those family members who care about them, it is also a moral obligation. How can they not tell their loved ones who they really are and put their loved ones in danger? The basis of a family is that everyone trusts and loves each other with no doubts. Without trust and love, there is no difference between a family and a bunch of strangers living together. Hence, it is essential to tell  family members about the risk of a genetic disorder, both as a social responsibility and as a favor to conserve the family . Moreover, telling  family members the truth is the fastest and easiest way to get their support. Without the support of loved ones, patients' lives are no better than death. Family members, as one of the closest groups of people from whom patients can get comfort, are a crucial factor for them to successfully get over any possible problems as a result of genetic disorder. A study by New York University in 2010 showed that patients with family members around generally recover 2-4 days faster than those taken care of by professional nurses. Even for those patients with terminal diseases, the duration of their survival is 30% longer due to  family support. Some people may say that telling the truth may give rise to some unnecessary doubts and panics which will endanger  family harmony. While every family needs to go through this or that kind of troublesome situation, the more problems  a family has gone through together, the greater the bond will be  between the family members as well as the greater amount of trust, love and understanding. Hence, for a family in which every member truly believes in each other and loves each other ,all these problems are just tests to make them stronger. Just like in the lyrics of Kelly Clarkson, what doesn't kill you makes you stronger.\",\n",
              " \"Being in Asian society, where genetic testing is not a common practice, I do think that it is the choice of the patient whether he or she wants to tell his or her relatives about his or her disease. The courage to take the genetic testing and  to inform their relatives about the risk that they may have may result in people being judgmental while, actually, it is just a risk and not a confirmed case. Furthermore, since it is the person's gene that is affected, he has the right to determine with whom he wants to share the information . Nevertheless, while I feel that a carrier should not be obligated to tell his or her relatives about the genetic risk. I would like to suggest the person  at least shares the information with her or his potential partner (husband or wife), since the individual's genetic risk may affect their future children. Many people in our society are not well informed about many genetic diseases and many of them will be most likely to judge or at least discriminate against those who have genetic diseases, since they feel that the patients are abnormal or 'weird'. This is because many relate genetic diseases to others such as Bubble-Boy disease, autism or Down's syndrome. In those diseases, many who are affected do actually have different physical characteristics compared to those without the genetic diseases. While we do know that we should not discriminate against them based on their limitations, many people still do it with or without them realizing it. In this particular case, we are discussing  whether a person should tell his relatives about their having a RISK of a particular genetic disease. It is normal for people to demand   fair and similar treatment to  others and, therefore, it is normal for people to try to keep some of their secrets or personal issues to themselves in case some people judge them or treat them differently. Many people really love to hear what they want to hear and, therefore, they may just ignore the word 'risk' and assume that the person has suffered from the disease. To prevent that from happening, I do feel that it is up to the person whether he wants to share the information with his family,  since his family may either be paranoid or judge him and act differently. Especially when it is just a risk, the option is really his, since he is not an actual sufferer. There may be some people who say that it is necessary to tell the family members about the risk, since some of them may be affected. While I do think that this view has some validity, how much you can trust your family regarding this issue may also be a case. Maybe we can trust our immediate family members, but can we really trust all the other relatives? Furthermore, since the genetic risk or genetic disease is a very personal case, it is up to the person whether to tell the relatives about it. However, as I said earlier, it is better for the person to at least tell his or her future partner about the potential risk, since his genetic risk may affect his children later. This information needs to be at least acknowledged by the other party before they make the decision to get married and have children. There may be apossibility that both the husband and wife are carriers, and, therefore, they should not have any children since their children may not be able to survive even after they are born. Or in a less extreme case, the child may be disabled. This piece of information does play a role in family planning matters. Therefore, although no one is obliged to tell anyone about their genetic risk, they should be encouraged to tell   their future partner. In conclusion, whether or not the carrier wants to tell his relatives about his genetic risk, the choice is his because it is his own gene and he has the full ownership of it. He may have different considerations  or it may result in making his family worry for nothing when thinking of whether he should tell   his relatives, but no matter what choice he makes, we need to respect it and we have no right to say that he must tell his relatives about it.\",\n",
              " \"We all know that life is priceless and we have no right to judge a person's death. With the improvements in technology, a new life with a genetic risk can be detected. Genetic risk refers to the chance of inheriting a disorder or disease. Therefore, an entirely new dilemma is born: should a carrier of a known genetic risk be obligated to tell his or her relatives? This essay will discuss the reasons why the relatives are obligated to be informed that their children have a genetic risk. One of the reasons that the parents should be informed is that they have to decide whether they are capable of raising a child with a genetic risk. The child with a genetic risk may not have the ability to work, or to build up the family with the others, and most of the time they are not acceptable to the majority. They may not be able to enjoy a life normal people can enjoy. This competitive world is cruel to those who are not able to survive. Parents and relatives have to work longer than expected and endlessly to care for their child if he/she is not able to look after himself/herself. The situation may become worse if the child has diseases like cancer or heart disease, which means that parents have another heavy burden called medication fees. Not only the child but also the entire family will suffer. It is still early for parents to decide whether they can take care of a new life that is not able to work and may suffer  pain for their entire life. The other reason that parents should know the baby they have is a carrier of genetic risk is for a nation's good. There are always newspaper reports that a new born baby has been abandoned at hospital after parents realized the baby had diseases that need a huge amount of money to treat. For  countries like Singapore, they are short of manpower to contribute to the nation. However, every year the government has to spend a lot to help the disabled such as through medical subsidies and building  special schools to educate them. Without an increasing number of disabled people in a nation, the government is able to concentrate on developing in other directions like the military and education. As citizens of a nation, they have a responsibility to support their country in many ways. Moreover, in the world we are living in today, many abortions are conducted in hospital every day. It is easier for people to accept it morally. Therefore, I believe the parents have the right to know about the healthiness of their child. Many people may support  the theory that all people have the right to enjoy the world, especially people with religions. However, the problem is, will the people really enjoy their life if they have to stay in hospital every day and with all the needles and endless pain? Parents know what  is best for their children, so they will make the right decision after they have been informed. Also, human beings should improve the medical field in order to prevent this tragedy happening.\",\n",
              " \"I think a carrier of a known genetic risk should not be obligated to tell his or her relatives. Genetic testing is a personal choice. A person should have the full control of his/her information and it is his/her right to decide whether or not to disclose it to someone else. When a couple are going to have babies, they  run a few tests and see whether they could have some genetic diseases. The results are disclosed to the husbands and wives. This is not the case I am talking about here. The most obvious reason of those who argue for this opinion is that the relatives of the carrier are at high risk of carrying these diseases. They have the right to know whether they are at risk. Also, telling them the result can allow them togreatly reduce the cost of multiple testing . They can also take immediate measures to reduce the possibility of having this disease. If a person has a disease C that might be a result of gene A, he can run a test and find out that he has the gene AA. This means both of his parents have gene A and they are both at high risk of having disease C. They could save the cost of running two separate tests to see whether they are at high risk of having disease C. If he runs a test and finds out that he has the gene Aa, this means one of his parents has gene A and one cost of testing could be saved. His relatives can then take measures, if this disease can somehow be prevented, to stop this disease from taking their lives. However, this can also be achieved . A person can choose to tell their relatives if they are at risk. Most people care about their relatives, so, if there is no serious consequence of telling them , I assume most of them will tell their relatives to be careful. They might also choose to hint to or encourage their  relatives to run a gene test if they are concerned about negative consequences that come about when they disclose their genetic results. There are possible negative consequences that people might face if they disclose their genetic results to their relatives. If a person is obliged to tell his/her relatives, he or she might be discriminated against by those who do not carry this gene. He or she might even be advised not to get married or have children. For example, if an unmarried person has gene Aa and gene aa is sufficient for a very serious disease, after he takes the test and is obliged to tell his relatives, everyone will know that he is a carrier. So, if all the married couples  run a test and find out they are not carriers, they might subconsciously see him as different and worry that he will find a wife who will carry this gene as well. Third, it is hard to define relatives. If a gene runs in the family, and one of the family members tests positive, whom does he need to tell. If it is a big family, is he obliged to tell everyone? Spouses usually have very close relationships. If person A tells his family that he has this gene, his uncle C knows and tells his wife D that he needs to run a test because his nephew has this disease. However, wife D is not even at  risk of having this disease. Then wife D might tell her mother, who likes to gossip on her way to the theatre. In less than a week, half of the town knows person A has a risked gene, and his family might be a genetically at risk family. Then nobody wants to marry A, or his relatives. This is the potential consequence if one does not have full control of one's information, especially when the party that one is obliged to disclose one's information to is a potentially large group (relatives). In conclusion, a carrier of a known genetic risk should not be obligated to tell his or her relatives.\",\n",
              " \"A carrier of a known genetic risk should be obligated to tell his or her relatives Nowadays, people not only pursue the comfort of their own lives but also the better development of  future generations. Since the technology of modern society is so advanced, it has become possible for people to make a decision to take genetic tests so as to be clear whether or not they carry a genetic risk which could affect the next generation. The debatable question, an ethical dilemma, is whether people are responsible for telling their relatives that they carry a known genetic risk. In my opinion, the responsibility to tell family and relatives is quite obvious. And there are two basic reasons. The first one is the importance of being responsible for your own health and the health of your relatives, and the second one is being responsible for the next generations. Your relatives' awareness of your genetic risk is good for your own health and the health of your relatives, because if you are carrying that genetic risk, then there is a great possibility that your relatives, like parents or siblings, are carrying the same genetic risk as well. The genetic risk that you carry may or may not affect your health and put you in danger. If you haven't undergone  genetic testing, it's just  what will happen to both  you and your relatives. However, if you have undergone tests and found out that you are a carrier, you are responsible for your whole family. Even though you cannot eliminate the risk completely, you can at least try to be alert to avoid getting the disease. As for those in your family who are more likely to be affected, they can go to the hospital to have  checks regularly. Therefore, telling the families and the relatives to get prepared for fighting the disease and even preventing getting the disease is your responsibility. Furthermore, you are also being responsible towards your future generations by telling the truth that you are a carrier of a genetic risk. If your wife is not aware of the truth and gives birth to a baby, it will be possible for your child to carry the same genetic risk as well. Being the parent, you are not being responsible towards your next generations, since you allow the genetic risk to be passed on from generation to generation and are aware of it. However, if you tell the truth to your wife and relatives, you offer a choice about whether to have a child or not. And if you still decide to have the baby, since the technology has been developed to such an advanced level, it might be possible in the future that the possibility of altering genes is perfected and widely used, and you can then choose to give birth to babies by giving them a brighter future. This is the responsibility of being a parent. And in my opinion, this seems to be the main purpose of undergoing  genetic testing in the first place. As a conclusion, once you have undergone the genetic testing and are aware of carrying some specific genetic risk, there are responsibilities to your relatives, yourself, and your future generations to tell your relatives and family the truth.\",\n",
              " \"To tell or not to tell? Consider a case. We decide to undergo genetic testing and have found out the result of it. We found out that we actually are a genetic risk carrier. Then it becomes a dilemma  whether we need to tell our relatives, who may carry this genetic risk as well. There are really a lot of things we need to consider. Every choice we make may have a huge impact on their whole life. As a result, what should we do? Tell them or keep this secret until we die? Many people feel that we should tell our relatives if we really care about their health status. For example, diabetes is a kind of genetic disease. Once we find out we are carrying this genetic risk, it is better for us to tell our family members, because they may carry it as well. If we tell them, they may start paying more attention to their daily habits like eating less food containing sugar and . And it is important for  young people. The earlier we tell them,  and it will be for the rest of their lives. What's more, they may undergo genetic testing as well to see whether they are carrying it or not, which is also better for them. However, some people may ask  why we want to interfere with their lives? Sometimes it becomes extremely hard for them to accept this news, especially if they are going to find out that they or their descendants may have a severe disease like a blood disease which is untreatable. Imagine you are living like a normal person but suddenly one day your relative comes and tells you that actually there are some possibilities that you may contract some disease in the future. What kind of feeling would you have? It may affect our daily lives and we will think about it every day. We become so anxious that we cannot focus on anything. At the same time, there will also be chances that the genetic test result is not correct, which means they are actually wasting their lives worrying about this thing. So, actually, we are bringing them trouble. Personally, I feel that we should still accept our responsibility to tell them the situation. Since this will really affect their lives, what we should do is to try to do it in a positive way. We cannot let it go. We should know that although we may affect their lives, we can still let them make correct choices in the future. Only after we tell them will they start paying attention to their health. They will consider whether to give  birth to a new baby because of this genetic problem and they will start finding ways to try to prevent their baby  carrying this genetic risk as well. They always have a choice about whether to undergo the genetic test or not. Maybe after we tell them, they will go for it and know more about themselves. I know it will have a huge impact on them, but we should know that they are our loved ones. We need to tell them and help them.\",\n",
              " \"A genetic risk carrier should be obliged to their relatives. Genetic testing will be conducted when the individual is at risk of some possible disease. Once the test is done, whether the results should be open to the patient's relatives has caused  extensive controversy. Some say it is a kind of invasion of privacy for the carrier and that privacy should be protected. He or she has the right not to tell anyone. However, in my opinion, it is the obligation of a carrier of a known genetic risk to tell his or her relatives about his or her actual situation. This essay will illustrate  two aspects. First of all, it can be a warningto the family members of the patient and let them be aware of the possible disease that they may also have. As we all know, genetic risk carriers are likely to pass on the genes to their family members. Once one person in the family is found to be carrying a faultygene, other members in his or her family may also have a risk of disease. Some of the diseases may not show symptoms until the carrier is old enough. Therefore, telling the relatives about the situation may avoid a lot of trouble  and save a lot of time for proper treatment. Sometimes,lives may even be saved if they are told early and undergo timely treatment. So, for the sake of the other family members, the relatives should be informed. Secondly, it can avoid genetic diseasesbeing passed to the next generation if they intend to have babies. They should let their spouse know about their situation before marriage. They need to ask for a doctor's advice before they plan to have a baby. Some  genes will pass only to boys rather than girls; some vice versa. If the carrier refuses to tell the truth to his or her spouse, another life may be at risk of inheriting the genetic disease. I noticed a real story in a newspaper years ago. A couple in China had a son of 5 years old. Their son unfortunately fell ill and he was diagnosed with a kind of genetic disease which is very serious. They were told that the wife's family was carrying the polygenetic disorder and could pass it only to boys rather than girls. Therefore, their son had inherited the genetic disease. However, the wife actually had already known about the polygenetic disorder before the marriage and she did not tell her husband. The son  died after one year's treatment and the couple got divorced  after that. If the wife had not hidden the truth and had asked for a doctor's advice before they had a baby, the tragedy would not have happened. In summary, a carrier of a known genetic risk has the responsibility to tell his or her relatives. On the one hand, it can tell members of the carrier's family about the possible disease they may have and they can undergo treatment in time, if possible. On the other hand, if the carrier hides the truth, they may pass the disease on to the next generation.\",\n",
              " \"Nowadays, with the advancement of technology, it is easy to do  genetic testing. We cannot deny that  genetic testing really helps people a lot when they face . However, I think that  genetic information is a person's personal private information which should be protected by the law. Therefore, I think a person with a known genetic risk should not be obligated to tell his or her family or relatives. There are three reasons . Firstly, the information concerning   genes is something personal which is also a private matter like people's PINs. Other people should not be told without the person's permission, even if they are his or her family or relatives. The government should establish a law to protect this kind of privacy. Once people's genetic information is told to other people, they may know the person's potential disability , disease or other bad things . They may discriminate against this person or even abandon him or her. People do not have the ability to choose their genes, they should not be thought badly of because of a bad gene. So I think whatever the genetic risk is or whether the gene  matches with their parents, it should not be told to anyone,  even his or her family or relatives. Secondly, the carrier of a known genetic risk may destroy the peace of a family or even break the relationship between children and the adults.  However happy they were before, there would be some barriers  which will truly gradually destroy the family. The relationship between the parents and their children should not be tested only in terms of genetics; it is something much deeper and tighter. The parents give knowledge and love to the children. Meanwhile, they feel happy in the company of the children. The children rely on the parent to live. When they grow up, they take care of the old parents and thank them for their dedication. The relationship between parents and children is  about love and dedication. No one wants to see the scene of a broken family due to the carrier of a known genetic risk. Therefore, I think a carrier of a known genetic risk should not be obligated to tell his or her family or relatives . Finally, the technology of testing the genes is not very mature now. There also exists some probability of wrong testing. If the wrong testing was not found by the doctor, the parents and the children may be sad and have a struggle for their whole lives. Therefore, I think a carrier of aknown genetic risk should not be obligated to tell his or her family or relatives. Therefore, considering  people's privacy and the existence of wrong testing, for the peace of the family, I agree that a carrier of aknown genetic risk should not be obligated to tell his or her family or relatives .\",\n",
              " 'A Carrier of a Known Genetic Risk Should be Obligated to Tell His or Her Relatives More and more illnesses have been discovered to be related to  genes through the development of  medical technology. People will know about whether they carry a disease in their genes after they have undergone the genetic test. If there is no problem, that will be wonderful. However, not everybody is so lucky that they can make sure they do not carry any disease genes. Therefore, once people find out they are carrying the disease genes, it is their responsibility to tell their relatives, or at least their close family members. It may be awkward and embarrassing for a person to tell relatives that he or she is a carrier of a known genetic risk, but they are all from one family and have the same forefathers, so of course they have the same genes to some extent. Therefore, there is nothing to be shy about or  afraid of. If the person tells their relatives that they are carrying a disease gene, their relatives can go to hospital to check whether they have also got a disease gene. Then the relatives can prepare themselves to prevent the disease from occurring. They can also prevent the disease being passed on to their offspring. If the relatives are carrying that disease gene, they can share the experience with him or her and give some help. They will also teach him or her how to communicate with others about this issue. If he or she is married, he or she must tell his or her partner that he is carryinga disease gene. Then they can have a healthy baby with the help of the doctors. Or else, if he hides the genetic risk, they may have an unhealthy baby and that may cause the death of the baby or the end of their marriage. There is a story I watched on TV. A couple did not have a child after being married for a long time, so their parents were anxious about that and asked them to go to the hospital to check what the problem was. After he came back from the hospital, the man told his parents that the problem was that he was carrying a disease gene, so  they could not have a baby . The woman did not know the test result, but she overheard the conversation and decided to divorce  her husband. After he got the divorce certificate, the man showed her the test report; it said that the woman carried the disease gene instead of the man. At that time, the woman realised how much her husband loved her, but she had ruined her happiness.  People cannot avoid carrying  disease genes, which they are born with. However, they can avoid the disease genes being inherited by their children. By telling their relatives that they may have a risk of carrying the disease gene, they can make their family members bond more closely, and many risks and conflicts can be avoided.',\n",
              " \"Genetic testing has become a beneficial way to identify and protect each individual at risk of a disorder. However, this gives rise to a family-related ethical dilemma regarding whether it is right to tell a carrier's family once the test has been conducted and the results are known. I am most inclined to believe that his or her relatives have the right to know the result. The answer is simply that everyone, especially our family, has the right to know the truth. Though it is said that genetic testing involves emotional and social risks due to the test results, while the potential negative impacts of the risk still exist, the consequences will be significant if other members of his or her family do not know. Then they are unable to have a suitable method to protect themselves and make emotional preparations. Take Angeline Jolie, for example. She is famous but she still revealed the truth about her genetic testing and her breast cancer risk. Everything is not that bad if you know how to look on the bright side, with hope. People may feel angry, depressed, or even guilty about their results. In some cases, a carrier can suffer tension within a family because the result is also related to the others' risk somehow. However, I believe it is just a normal reaction to this situation. In addition, though it can be possible in some cases that he or she and the family can suffer specific discrimination in employment and their social life, how can people face more dramatic tragedies such as sickness or death if they cannot even overcome this harsh situation? Life is hard but people cannot blame it on it being unfair. It is just because  you do not become strong enough to overcome the hard times. Furthermore, living with a secret is not a good feeling, especially if the situations of other relatives become worse. You could feel guilty and depressed. Moreover, the truth cannot be hidden forever but when it is revealed, it will be more shocking and upsetting. As a result, it is in the interests of the carriers and their relatives, so telling the genetic testing result is necessary. Last but not least, though genetic testing is a personal matter, telling the result to your family can improve and develop understanding and sympathy for each other, as well as promoting awareness of taking care of everyone's health. That plays an important role in the possibility that relatives can overcome the discrimination of  society and their anxiety about the risks. In summary, I believe that people should have the obligation to tell their relatives about the genetic testing result for the good of their health. It could be very difficult for them, but necessary for the carriers and their family. In addition, emotional preparations and the ways you explain your genetic condition are also important so that you can convey the correct information to your family and relatives and, if necessary,  guide them if they wish to conduct  similar genetic testing.\",\n",
              " \"The Impact Of Social Media Social media play a vitally important role in our lives today. It is almost impossible for us to keep away from it. I started using  Facebook one year ago,when I had just arrived in Singapore. And now I have over 500 friends on Facebook . We know each others' status, changes and so on through  social media. For  example, if we change our contact numbers, we will not send an SMS to each otherindividually any more. Instead, we will post a  and tag our friends to inform them of this kind of change. And if you are not on it, you will just get lost. In certain respects, social media have brought us quite a lot of convenience. It is becoming even more convenient than talking on the phone, since it is free. We discuss everything we like and we have more personal space.Our friends also get more access to  what we are doing and what we like. And also, we get a chance to talk to public figures like celebrities and know their life better. In China, a lot of government organizations have open blogs to communicate with people, like firefighters, police stations and so on. Social media allow them to explain to or inform people about what is going on. And, actually, lots of rescue jobs are done with the help of social media, like looking for people whoare lost and so on. With more convenient and  communications, the relationship between government and people is largely improved. What's more, various  cultures can be shown to us through social media. We can know more news and cultures through socialmedia. , social media have shortened the distance between us. However, we get less chance and give less importance to talking face to face because social media are so convenient, advanced and interesting. And even when we gather together, most people find they have fewer topics to talk about than before and choose to . When we are far away, social media make it as though we are in front of each other; sometimes, when we are by each others' side, we  seem to be further than far away. This kind of feeling makes people's relationships not as stable, secure and reliable as before. Besides, there are more people showing their pictures of yummy food or travelling experiences. To some extent, this makes our life more luxurious and . Personally, I long to visit some places after I see those beautiful pictures taken by my friends. Sometimes I even cannot sleep well because of excitement. Social media make our pace of life so fast and leave us less time to think about our life. Social media are becoming more important and we need to think more to make them serve us better and better.\",\n",
              " \"Interpersonal skills, like any other skills,require practice. Besides that, these skills require time to develop and adapt. The burgeoning  social media definitely has its , but,like all good things, it is better to have it in moderation. Convenience and efficiency are two very important aspects of social media. While millions of users are connected at any one time, any information can be readily available for their perusal. This improves the connectivity between the users. For  example, one is able to send notifications and other information we used to have  in hardcopy  over the web, and the process takes seconds. The recipient will then receive the information almost immediately, depending on the quality of the network. This convenience can be perceived almost in real time. Next, communication is also greatly improved. In the past,  communication was done by one of  many means, such as telegram, snail mail and poor-quality voice calls. With the advent of applications such as Skype and Facetime, any individual can phase out most of the old communication methods. Aside from hearing the voice, a webcamcan also be affixed to emulate  'real' interaction with expressions and gestures. Communication would have taken a different turn without the readily available social media. However, it is  good practice not to intensively use social media all the time. Intimate interaction is greatly lacking in social media interactions, particularly  touch. Having to meet and interact for talks allows one to be closer to the recipient. It involves a level of dynamic interaction which utilises the motor, thinking and verbal cortex of the mind to . Unlike  social media, where most of the interaction is done by thinking and typing. As a result, one does not practise the necessary  skills required for  proper interpersonal relations. It is also entirely wrong to blame social media alone for the lack of interpersonal skills. Howard Garner studied the effect of multiple intelligences in people and stated that interpersonal intelligence is a type of skill on its own - some have it, some do not. Howard Garner mentioned that the different intelligences can be charted,  utilising tests, and ranked. Fundamentally, those who scored lower  for interpersonal skills are more likely to stumble when this skill is needed. Though social media need not be necessarily bad, it must be used appropriately - for work, family, friends. The types of use must also be taken note of - informing, interacting, discussion and others. The distance between the parties must also be looked at. For people who are living very far from one another, the intensive use of social media is justified. Those who live within the community should at least meet up, and not use social media as the primary means of communication with each other. And at the same time, this improves  interpersonal skills, through dynamic practices between individuals and realtime presence. The inclusion of close proximity and  touch could also lead to a better rapport between those interacting.\",\n",
              " \"Recently, the rise of social media has helped people to have a closer connection with each other. It is a more convenient and cheaper way to have online contact compared with face-to-face meetings. In my opinion, social media websites such as Twitter and Facebook will not affect the chance for people to have face-to-face contact and thus negatively affect interpersonal skills. It may even increase the chance of having face-to-face contact between people. First, social media networks have a large user base, andthey help to link people from different parts of the world. In the days before  social networks, people did not have the chance to know others from different countries or people they had never met before. The number of people that they knewwas only limited to the people they met in daily life, like classmates and colleagues. Therefore, social networks bring more and more connections between people and they may have a chance to chat with people they never knew before, and this helps to develop  interpersonal skills as well. Secondly, although social networks take time for people to chat online but not face to face, they may still decide a time online to meet others face to face in  daily life. In this case, the social network helps people to increase the frequency of talk. For example, if a social network does not exist,  business people need to meet each other face to face and it is  time consuming. Even sometimes with business that is not so important, it still requires a lot of time for travel, which is a waste. However, social networks help people to meet and chat much more easily. They can even use video chat and create a group chat to chat with multiple parties at the same time. Nowadays, some companies even conduct online video interviews with their applicants, as it saves time and money. The social network may also have some negative impacts for  people. The biggest negative impact is that, due to the online network, some people start to use and rely on the internet all the time. They spend too much time on using online social networks and thus do not have time to have their daily meeting with people in their real life. It not only affects  interpersonal skills but also is bad for people's health if they spend too much time on  social media. Secondly, social networks may leak certain personal information to the public. As the cyber environment is not perfect and not safe, people may not protect their privacy online effectively and, sometimes, some people may use others' personal information to deceive. In conclusion, although the unsafe online environment and spending too much time on the internet may be  potential negative aspects of using online social networks, it provides people with more convenient contact  and improves the frequency of meeting with  others. It also helps people to develop their interpersonal skills through online chatting. Overall, there are more benefits than  disadvantages.\",\n",
              " 'The world is increasingly becoming flat as a result of all kinds of social network websites such as Facebook and Twitter. We can even know what a friend who lives thousands of miles away ate for lunch through these kinds of social media. From some points of view, social media really have a lot of advantages by letting us communicate with friends more cheaply and more conveniently. However, their disadvantages also cannot be ignored when you consider them as a platform to show off and a stage for cyber crime. Social network sites provide us with a great deal of convenience. Without hanging out with friends or talking with friends on the phone, we can know their latest news by scanning the webpage. They can help us know more about each other. They can make people become closer as well. For example, if you find out one of your friend\\'s favourite singers is Justin Biber through Facebook, you can give him or her Justin Biber\\'s new album or a concert ticket as a birthday gift. It will be really  and you two will surely become closer. In addition, social network sites can help you keep in touch with friends living very far away. I met some Canadian friends in Egypt. Without Facebook, we might have lost contact. However, thanks to Facebook, I can still keep in touch with them and I know what they have been doing recently, as we live close to each other. The disadvantages of social  media are quite undeniable. Research shows that people will unconsciously hide their real thoughts when they say or post something that will be exposed to the public. It means that one cannot know another\\'s real thoughts and personality by reading things that they put on social  media. It will make them quite upset when they communicate in real life. In addition, with all those \"nice\" guys around on the social network , one may neglect people surrounding one and just communicate with friends on Facebook. It is a common scene that two people sitting next to each other seldom talk with each other but just look at their cellphones. This kind of behaviour is not good for people\\'s psychological health, according to  research. Cyber communication is quite different to face-to-face communication, and people who depend on cyber communication too much will not get used to  real-life communication. In addition, cyber relationships cannot always work in real life. With no close relationships in real life but only close cyber friends, one is more likely to feel lonely because a physiological need of human beings is to feel the bond with others through our five senses. With the desire of people to become the best among others, social network sites have now become a place to show off. Some people will  post their expensive thing or the overseas places of interest they have been to on the social network and get a feeling of satisfaction by doing so. It is a mental illness and it may cause people, especially teenagers, to become materialistic. Last but not least, with all kinds of personal information on one\\'s social network page, it is convenient for criminals to make use of this information to commit a crime. Above all, a social network site is like a double-edged sword and people can only take good advantage of it by avoiding the possible disadvantages of it by putting less personal information on their Facebook page.',\n",
              " \"The modes of communication have been changing over the years, from letter writing to social networking. This phenomenon is caused by rapidly changing technology, which has made communication  faster than ever before. Today, social media sites, such as Facebook and Twitter, are relatively common within  contemporary society, and, people can communicate with each other, online or offline, on these social networking platforms. They can even make new friends with similar interests on these platforms, which will be able to connect almost everyone closely in many parts of the world. However, critics may argue that  the existence of social media sites has reduced physical human interactions between people as they prefer sitting in front of a computer to going out and meeting new friends. This essay will discuss  both the benefits and downsides of using social media in  contemporary society. Nowadays, social media are able to disseminate information faster than any other media. About 50% of  people  learn about breaking news from social media. This is due to people spending comparatively more time on social networking than  on reading newspapers. Furthermore, with the current technology, smartphones are able to get access to social media sites which have been made easier for consumers to use. Hence, social media have benefited the masses by equipping them with a powerful tool to disseminate information almost immediately to the people around them. However, critics may argue that not all information or news disseminated is reliable. There might be false information or hoaxes spreading around on social media. For example, in 2012, there were false rumors of fires, shootouts, and caravans of gunmen in a Mexico City suburb which had spread through Twitter and Facebook. This caused panic among the people, who flooded the local police department with  phone calls, and this resulted in temporarily closed  schools. The spreading of false information can be a potential psychological threat to everyone, given that social media can disseminate information at a relatively fast speed. Nevertheless, there are cyber police who roam around these social networking platforms to prevent these hoaxes spreading . But, there will still be unreliable sources spreading false information on social media sites, despite high security to control almost every social networking movement. Social media are able to improve relationships and help us to make new friends, provided that there is mutual trust and mutual understanding between both parties. Many of the teenagers today claim that they are able to keep in touch with their friends through social media, regardless of their location. In the past, people used to write letters to their friends and it would take a relatively long time for the letter to arrive. Therefore, with the help of technology, people are able to catch up with each other conveniently. Furthermore, it will be easier to make new friends  who have similar interests or hobbies. However, in order for people to maintain their relationships as well as make new friends, it requires mutual trust and understanding between both parties. It might not be accurate to judge the other party's feelings over social media as they may cover up their emotions while on social media. In addition, there are also chances for people to miscommunicate with each other as they cannot sense the tone of the other party on social media platforms. This will result in unnecessary conflicts between two parties over miscommunication. But, if there is trust and mutual understanding on social media, it will be ideal for people to improve relationships and make new friends. In conclusion, social media in  contemporary society are able to help one improve relationships and make new friends, as well as disseminate information efficiently to the masses. However, there are risks of false information and chances of miscommunication. Nevertheless, the advantages of social media will benefit the masses if the negative aspects  can be carefully taken care of. All-in-all, social media are the product of rapid technological advancement and there are more to come in the future.\",\n",
              " \"Advantages: Social media sites have greatly facilitated long distance communication and interaction due to their accessibility and convenience. With a globalised and interconnected world today, Twitter and Facebook are now the main platforms for social interaction. With  any media/electronic devices, one can easily interact and communicate with one's friends without much hassle. Thus, long distance relationships or friendships can be maintained and keeping in touch with your circle of friends has been made much easier. The sharing of personal photos, posting of status or one's personal feelings or experience and the ability to reply to these posts have allowed human interaction to  and expand with ease. Introverts, or those who are shy about communicating with their friends, are now able to do so in the form of words via social media platforms. Thus, socialising can occur seamlessly and effectively with the use of such social media platforms.Meet-ups and appointments are no longer a barrier for humans to contact and communicate with one another, making human interaction possible at one's own convenience. Society will adapt to such phenomena as physical interaction is transformed into cyber interaction. With the frequent use and reliance on  social media and the Internet, a society that socialises through the Internet will be more advanced and adapted to the highly connected world. This will greatly help a society to progress rapidly. Disadvantages: One of the main concerns of using social media  to communicate is trust. The certainty of what is being shared or expressed cannot be proven physically as media limit this physical interaction, except when using a webcam to chat. We cannot be certain of the reliabilty or truth of some posts or information we receive through the Internet. We may in actual fact be communicating with a fake Facebook account of an online friend, which we assume to be real but, in reality, it is a fake account. Photos and information retrieved from their profile page may be fabricated to suit a personal agenda. Thus, the lack of face-to-face human contact through social media restricts actual interaction which can be stimulated through the media. Although emoticons can be used to show certain emotions, this differs from the real emotion of your friends when you observe them through their body language and their facial expression. The danger of such onlinesocialising is the uncertainty of such communication due to the lack of physical interaction. Furthermore, this lack of physical interaction has affected human interpersonal behaviour,  since communication is conducted through social media instead of meetings. This lowers the  human ability to interact with one another, which can adversely shape one's behaviour. The lack of exposure to real life interaction with humans  will not create the confidence and skills needed for one to interact seamlessly and effectively with others. Therefore, for an effective and efficient society, there is a need to have a balance of both social media interaction and face-to-face human interaction .\",\n",
              " \"Nowadays, people can even use their phone to read the news and everyone can be the first witnesses of what is happening in the world. People use Twitter to follow the artiste or celebrity they love and Facebook to see what their friends' recent activity is. Nevertheless, they can still use a phone to make normal calls and send messages to contact people. It is not only the phone that does  jobs for them, but also devices like personal computers, laptops, tablets, and many other devices which are able to connect to the Internet. It is obvious  that the Internet saves people's time and also connects people globally. Several arguments have been made regarding whether  social media actually have some inevitable disadvantages for people. People can only use electrical devices to access the Internet. Whenever they need to use social media, they have to use a phone or other device. Generally, people need their eyes to look at the screen of their phone or computer and fingers to manipulate the relevant device. As a result, they will not have eyes to make contact with and hands to express their feelings to people nearby , which means they have lost the tools they need for face-to-face  communication. This can be easily seen in restaurants or cafes nowadays. A family of four having dinner in a restaurant without any chatting, because they're holding and looking at their screen with one hand when the other hand is holding a fork. A group of friends having high tea in a café without chatting as well, because they do not know what to talk about without clicking on their screen. Children nowadays do not know what neighbourhood games are and who is  beside them; all they know is clicking on icons on  screens. These are some concrete examples of how  social media reduce face-to-face human contact. When people get used to using social media to contact other people, what will happen is that their interpersonal communication skills will be degraded and lost eventually. Firstly, they have lost the courage to meet strangers, let alone the courage to talk. Also, they will not have enough experience to communicate with people face to face and will not be trained in  conversation skills. As a result, social media help them do their jobs but indirectly affect their interpersonal skills. Social media do have some other advantages besides their general benefits to human beings. First of all, people save money by using the Internet to contact other people and read the news. A father may be able to make a call to his daughter who is in another country via social media software instead of making an international call which costs a lot for a family on a normal salary. He can even talk to his daughter face-to-face using video calls via the Internet. Secondly, people make friends all over the world and are able to update their friends on their recent activity easily. A man who is going travelling for months can easily tell all of his friends about his activities. When one of his friends who is not aware of this has failed to contact him via telephone calls, he might be able to get his whereabouts using social media. These are the advantages that save work most of the time. In conclusion, social media benefit people in several ways, but at the same time harm people. People should avoid the misuse of social media and use it in the proper way. With the aid of social media, people bond globally, information flows rapidly, and human lives proceed happily.\",\n",
              " \"All of us are living in . Have you ever wondered why we use these tools to connect  with other people? It started with the invention of technology, which has evolved tremendously over the past few decades. In the past, we travelled by ship, and now, we can use an airplane to do so. In the past, it took a few days to receive a message as we needed to post our letter, and now, we can use e-mail, which stands for electronic message, to send messages to our friends or even use our mobile phone to send our messages. From the example that I have mentioned earlier, we can see that distances between us and our loved ones are getting further apart. This is because with the ease of technology such as the airplane, some of our friends might be going overseas to continue their studies, or maybe you are away from your family pursuing your studies or even careers . Thus, this makes Twitter and Facebook  one of the media that we need. Nevertheless,everything in life has positive and negative effects. This is applicable to these social media sites. The next two paragraphs will discuss  the advantages and disadvantages of using social media in our society. With the help of social media tools , we can stay in contact and keep ourselves up to date with our family and friends even though we are away from them. Social media sites such as Facebook have allowed us to share our pictures or even chat online with our parents while we are overseas. This approach helps parents to communicate with their children and know what kind of activities  their children do when they are overseas. The social media are beneficial as they connect you and your loved one even though you are separated by  distance. It might not be able to replace the joy that you have when you are with your family, but it could help to reduce the sadness of being away from your family. As I mentioned at the beginning, there are also disadvantages to social media tools. One of them is that they reduce the level of concentration, especially among the young people. This is because it is part of everyone's habit to check their Facebook page, as their friends will post something new every second. Thus, you can see that some students will browse Facebook while attending lectures. This means that the students are not concentrating when they are supposed to do so. As a result, it could affect their lives and studies. This  then could lead to stress, as these students are not able to cope with their studies because they were distracted. In my opinion, every individual has to take responsibility for their own lives by making the right decision. There are advantages and disadvantages to using social media sites , but in this case, striking a balance between social media and life is the most important thing to do.\",\n",
              " \"Nowadays, the use of social media platforms is  commonplace in our lives. In an increasingly globalised world, such platforms even enhance and complicate the links between individuals in the world. Thanks to them, people can get to know one another online, without having to travel to meet up for business purposes  or personal reasons. However, it is also bringing about some social changes whereby such virtual worlds are overtaking the real-life world, resulting in some negative impacts on individuals' daily lives and, therefore, becoming a big problem in society as a whole. As people spend more and more time on such social media sites, the importance of  face-to-face human contact has decreased. As people feel more confident online, where they do not have to face  real life on the spot, they feel more comfortable and, thus, prefer communicating online. This results in a lack of interpersonal skills in individuals, especially young students, as they always have the option to turn their back on  real life and go online. This becomes a huge problem when they have no choice but  to face things in real life. As they are so used to having an online avatar, they may lose their sense of self in real life and may not know how to interact with people in real life. Another problem with social media is that the benefits of investing such enormous amounts of time and energy is not reflected as something positive to the users. The reason why it is so addictive is, that the more people get into  social media, the more they seek attention from their friends. However, such sparks of sudden attention are extremely short-term  , so theydo not add any value or meaning to the user's life. Also, according to  research, it has been proven that  users feel sadder after using  Facebook, and this is because users unknowingly compare their lives with other people's lives. But seriously, most people only post the happiest moments in their lives. Social media definitely have some other strong benefits that make the users stay , and one of them is the links between  people. Indeed, I myself use Facebook just because of the contact with friends that I want to keep. However,  friendship in such a virtual world is so superficial and is not so relevant to  real life. Also, as numerous profit-driven companies recognise the huge human traffic on such social media sites, they make it  a pond to fish for  customers by uploading many advertisements. Furthermore, this also possibly triggers the privacy issues as  Facebook allows some other profit-driven companies to have access to the information on the users. As this happens, users are more and more vulnerable to any possible frauds. Social media sites are at their peak at the moment. However, I believe that when people realize that such sites are not making them better people in real life, they will not indulge in it as much as they do now. The users, soon, will realise that they do not need such social media sites to keep in contact with  their friends because, if they really need somebody, they will get in contact with  friends, no matter what.\",\n",
              " 'We think we are all connected through all sorts of social media, but do we really get connected or fall apart? Social media sites like Facebook and Twitter are created with the intention of connecting people from around the world. The idea seems great, and nowadays most people, even the older generation, will have at least one social media platform, like Facebook. Parents are now the \"friends\" of their kids, and they can now \"follow\" their kids more closely and in real time. People post about their random thoughts or daily activities via Twitter and post different kinds of photos on Facebook frequently to be connected with their so-called friends. However, as we then tend to spend too much time on this and have significantly reduced  face-to-face human contact, that eventually affects our interpersonal skills. First and foremost, I would like to share  the advantages of using such social media in my daily life. As a student, I tend to meet lots of people from different backgrounds and in different settings. We may meet only once but we exchange  contact numbers as well as facebook accounts in order to keep in touch. Unlike just keeping contact numbers that we may not even call, social media like facebook are a great way for friends from different fields or even from different parts of the world to be connected. Within clicks, we can check on a friend\\'s profile and read on for his/her updates. On the other hand, we can update our profile by posting on the wall and our friends can read up on the newsfeed. This allows friends that may not have the time to meet up to still be connected in a way. Not only that, but new friends can easily be met through such online platforms. Hence, our social circle is indeed expanding. Nonetheless, what seems to make us connected can be the cause that makes us fall apart. The obvious disadvantage of using social media is  the time reduction on face-to-face contact. This subsequently leads to  poor interpersonal skills that inhibit the growth of our real social circle. For example, we tend to send  birthday wishes when Facebook prompts us \"Today is someone\\'s birthday\". In fact, we may have just forgotten our friend\\'s birthday. We used to send greetings cards during festive seasons like Chinese New Year, and we felt so good to write one and of course to receive one with stamps on it. Gone are the times, and now we do mass sending and the receiver may feel less meaning in such online wishes. As time passes, we may have more \"friends\" on the list, but the meaning of friends needs to be redefined. In summary, there are two sides to every coin. The users of all social media sites need to strike a balance between the real world versus the virtual one. We should maximize the benefits of such platforms but be careful of their impacts on the actual life that we have. Ultimately, the best way to enhance interpersonal skills is still through face-to-face meetings,and social media sites are only  tools to enhance it.',\n",
              " 'Nowadays, social media sites are commonly used in  society. I believe 80 per cent of people use social media sites. These sites play the role of connecting people around the world. It consists of  connecting, sharing, interacting and advertising. However, there are also some disadvantages  due to the social media which are a cause for concern in  society. Therefore, this article is written to explain the pros and cons of using social media in our daily life. First, with the function of social media sites that connects  people, everyone is able to interact and communicate with friends and family, or even strangers, without any time and place constraints. Through the social media sites, we can chat with our friends who are in Europe and New Zealand. There are over a thousand miles between Singapore and these two countries. However, we are able to chat with our friends without travelling to the countries. It saves a lot of money and time as well as strengthening our relationships although we are in different places around the world. Besides that, companies can also use the convenience of social media sites such as Facebook chat or Skype to facilitate  meeting with project partners from around the world. Substantial costs are saved without the tiring travel from one point to another point. With the huge amount of cost savings, this capital can be utilized in  other sectors, which benefits companies more and boosts  the company\\'s profit. However, there are two sides to every coin. Some scholars argue that the usage of social media reduces the face-to-face connection between humans. Since ancient times, humans have been interacting with others face to face. Without the facial expression, it is easier to misunderstand the intention of speakers. That is why facial expression is one of the most important elements in social learning. In addition, \"social media sites will affect writing skills\". That is the point of view in society. According tostatistical reports, the more time is spent on social media sites, the more writing skills will be reduced. I believe most of us have the experience of suddenly forgetting how to write a word that we should know. The autocorrection software is so effective when using electronic devices that we do not realize the importance of writing. Writing is an essential skill for a person  to express their own feelings and opinions. \\'Privacy\\' is a word that is popular in recent decades. Humans have their own rights and privacy. I believe that most of us agree with these terms. However, there is news about the social media sites leaking users\\' information to companies for cash reimbursement. Everything we type in the social media sites is recorded in the server and then transferred to the companies for spying and advertising. Although it looks like  and it is your own space to speak and do anything you want, you are actually wrong. You are not only controlled by  government laws, but also spied on by the government. In conclusion, there are two sides to every story. It is our responsibility to identify the advantages and disadvantages of social media sites. To utilize the technology well, we should make an effort to not only balance the pros and cons, but also to lengthen the pros and shorten the cons. Thus, the new technology will be able to bring a prosperous future for our and the next generation.',\n",
              " \"With the widespread  advanced technology, social media sites are becoming more and more popular. Getting connected on social media such as Facebook and Twitteris a main trend as well as a daily activity nowadays. With this situation, both advantages and disadvantages of using social media apply to our daily life. On the one hand, it is obvious that many advantages have been brought to our lives. Social media provide people with the opportunity to get in contact with each other anytime and anywhere. Whether we are at home or at school, at work or on  holiday, we are able to communicate and interact with our friends. Even when people are thousands of miles apart, social media make it possible to have interaction by  writing comments. When our phones are accidentally , we can also use the social media to get in contact with our friends. Some people who are trying to talk in  public can also actively take part in  group chatting via social media. Besides, we can make more friends through such interactions when our friends also bring their friends in. Therefore, the popularity of social media sites has made it more convenient for people to keep up to date with friends' status and contact  friends more frequently. On the other hand, we need to think about the influences exerted by  social media. There are still many disadvantages to using social media. Firstly, interpersonal skills may be affacted by the reduction in face-to-face human contact. While social media bring convenience to people's lives, people are more and more willing to use social media for chatting instead of face-to-face chatting, which has a time and place requirement. People who are not good at face-to-face chatting may be more reluctant to talk to people, and their interpersonal skills can never be improved in this situation. Secondly, people's addiction may avoidably, to some degree, exacerbate social alienation, and this kind of alienation causes some social media users to suffer from  over-dependence on virtual social networking. More and more networking has been transferred to the internet from real life. This is a potential danger for teenagers, who are growing up with . Thirdly, a lot of updating of luxury living standards as well as other showing off may make people's daily life more and more extravagant, which is not an . Lastly, it is easy for people to waste a lot of time using social media. Again, there is a trend for them to suffer from social media addiction and their studies and work may be greatly influenced. Since we can see both advantages and disadvantages of using social media, and we cannot deny the huge benefits that have been brought to us, this main trend of using social media may still last for a long time. Therefore, whenever we use social media, we should take both sides into consideration and try to avoid being affected by the disadvantages. Only by absorbing the essence and discarding the dregs can we make better use of  social media.\",\n",
              " 'In a sophisticated era like these days, experts keep producing inventions that are meant to make life easier. Geographical and transportation borders are not a problem anymore because communication and information technologies have been continuously enhanced. The telephone may have been perceived as the biggest innovation created ever  the first time Graham Bell introduced it. However, as soon asthe internet was introduced, the telephone started to give way to social media sites. Many advantages are given to the users. Let us take the example of Facebook and Twitter, two of the most famous social media sites. Through Facebook, people are able to maintain relationships with their old acquaintances. This benefit cannot be obtained by telephone or mail because people\\'s details and address may change from time to time, while on Facebook, people can keep in contact with old friends just by using name and photo, for example, as the identifier. Facebook is like a combination of message and chatting service, personal profile, way of sharing, and other entertainment add-ons (i.e. social games) which allow users to communicate with people who are far away, and also to keep up to date and express themselves at the same time. Twitter, which has a more simplified function compared to Facebook, gives more benefit if used as an information sharing medium. Twitter only allows users to give an update that is limited to short sentences in order to spread the words fast,  messages are delivered. With Facebook, a comprehensive way of sharing is offered, since multiple photos and videos can be uploaded, long notes can be published, and even documents and data can be shared through Facebook nowadays. These advantages also come in handy as most of these social media sites are accessible through mobile applications on our smartphones. Despite the luxury that is offered by social media, there are also harmful side effects which people may not recognise beforehand. Research shows that face-to-face meeting frequency among people that are addicted to social media sites has been decreasing. As a consequence, this affects their interpersonal skills. People can think while typing and prepare what they want to say, but in face-to-face communication, every word that comes out of your mouth and may not be well arranged is a picture of your personality. This skill requires practice and cannot be done completely through social media. There is a situation where a family is having  dinner together in a restaurant but everybody is busy with their own gadget, posting pictures on Facebook, updating their status on Twitter, or even chatting with friends. These social media serve the purpose of connecting people in spite of their geographical boundaries, but that shouldn\\'t mean that people around us are neglected as a payoff. This is related to the interpersonal skill that is mentioned before, that can decrease qualitatively if we are used to facing a gadget, rather than facing a human being. Another disadvantage that affects other people is that by only showing selected parts of our lives, we build a \"false image\" in public. We tend to only share our happy moments on social media. Because of this, other people start to think that our lives are full of happiness with no problems at all. Other people then are influenced by us and tend to do the same. As a result, people have a low opinion of themselves and this may lead to depression and mental disorder. It also reduces our sympathy. This is a serious social problem and affects a lot of people. As explained above, modern and sophisticated technology doesn\\'t always bring advantages. There are a lot of disadvantages that people may not be aware of. It is up to people\\'s discretion and understanding to decide which side they want to take. So, we should never forget to think about and calculate the benefit and cost of every decision that we make.',\n",
              " 'Nowadays, the advancement of technologies greatly improves the lives of many people. In most  countries, there is an emergence of social media sites such as Facebook and Twitter. Many people think that the social media sites have benefits for the communication between people, while some others argue that there are several negative impacts for  society. One of the advantages which are offered by those social media sites is that they can connect us more closely than before. In the past , when the social media sites were not yet fully developed, people connected with others who lived far away by using a phone, or even a letter. However, calling a person by using a phone and writing a person a letter involve some cost, and sending a letter to a person who lives far away, especially in villages, takes a lot of time. The appearance of those social media sites has caused those problems to be solved. People connecting through the social media sites  spend no money on  communication, and it also takes only one or a few seconds for the message to arrive. Therefore, this advantage of social media sites saves money and time, and also provides convenience for many people. Moreover, this also provides an alternative way for people to contact a person whom they have not seen for a very long time, such as their friends from primary school and secondary school. As we graduate from a school, we will probably lose contact with some of our friends. Some of them may have changed their phone numbers and addresses, and we are not able to find them through a phone call or a letter. If phone and letter were the only way to contact them, we would probably not be able to find them. Facebook and Twitter can serve as an alternative route to making a connection between us and our old friends. Hence, the social media sites serve as a platform for  connection. Everything that comes with benefits will also have its disadvantages. On the other hand, social media sites also bring some negative impacts for  individuals and  society. The advancement of those social media sites makes people rely on them so much that some of them  prefer using those sites to contact each other to talking to each other face to face. Many people argue that this is the most serious problem brought by social media sites. The usage of social media sites indirectly causes a reduction in face-to-face human communication in real life, which will, in turn, cause the loss of interpersonal skills for many people. As we all know,  interpersonal skills are essential for us to communicate with each other and to present our views and ideas. The loss of interpersonal skills results in the inability of people to present their ideas well. As a result, they will gradually decrease in their ability to compete with each other in  society. In conclusion, social media sites cause both positive and negative consequences for people and society. As a part of this modern society, we should learn to distinguish between good and bad impacts brought by the advancement of technologies, and also learn to avoid the disadvantages and maximize the benefits of those sites.',\n",
              " \"With the advancement of technology in recent years, the need to keep in touch with people and the latest news has become a tremendous demand. Some of the famous examples would be social media sites like Twitter and Facebook. With  more than a billion users from all over the world, social media sites have clearly demonstratedtheir success at playing an important part in our lives. However, there are arguments that social media  lead to a reduction in face-to-face human contact, which, in turn, affects interpersonal skills. Let's examine the advantages and disadvantages of using social media in our daily life and society. First and foremost, all social media sites are free. All users need are an internet connection and an email account so that everyone can have a Facebook or Twitter ID to start their journey in social media . Secondly, it helps people to keep in touch with one another. Finding old friends through Facebook, for example, is easier than asking people  in real life. Social media helps to lessen the hassle of geographical distance and brings people closer. Thirdly, social media sites keep us up-to-date on the latest news and updates from almost everywhere in the world, all with a click  on the refresh button. Last but not least, social media sites also link people together by allowing us to create our own groups, pages or sites to share our hobbies, interests and studies in particular subjects. Hence, it is undeniable that these sites play an important role in our global interconnected world. However, social media sites also have their  negative impact on humans. Undeniably, it becomes more addicting when we spend more time busy socialising and interacting virtually. We spend the majority of our time on sites like Facebook, Twitter and it affects our daily work productivity and performance. In the corporate world, employers often block social media networks to prevent employees  spending their office time on their personal leisure rather than concentrating on their work. Using text-messaging language as an informal way of communicating on social media networks also has a bad impact on us in the long term. The more time we spend on these sites, the less time we spend on face-to-face interaction with one another. Hence it lessens valuable interaction between humans and the time we spend away from the computer screen or mobile phone. In addition, there are also some false reports and fake IDs  on both social media sites where people use fake IDs to insult or harass someone, like the case of Heather Chua which occurred recently on Facebook. These malicious comments often go viral and it has a strong negative effect on the real user in real life, which might lead to unwillingness to interact with others in real life on the part of the victim. In conclusion, there are two sides to everything and it depends on how we exploit it. With the current booming technology, it is good that people are becoming more tech savvy and they want to spend more time interacting with each other through social media sites. However, it does not mean that we should neglect face-to-face human interaction as it plays an even more important role in our lives.\",\n",
              " \"As more and more social networks such as Twitter, Facebook and Weibo  have become ubiquitous, seamless and imperative in our life, people may worry about the younger generation having problems with face-to-face communication skills. However, I believe that the benefits brought by these online chat rooms tremendously outweigh their disadvantages. Social media enable us to explore the world far far away without paying for expensive airplane tickets and sacrificing a one-week holiday. The convenience is beyond description. With a small smartphone or a computer at school, at work or at home, we can easily make friends worldwide with a 'click' and get to know about their life through having conversations with them, reading their blogs, photos and status. Compared to face-to-face interaction, online conversation makes it easier for strangers to talk to each other. Since some of the information has already been revealed on the home page, it is also easier to find some common topics to talk about. Moreover, people usually like to share boldly about their real feelings online with their masks in reality being taken off. It has been indicated in a report done by Boston University in 2012, that 80% of information posted online is true, while a person may lie 3 out of 10 times in real life. This shows that a Facebook friend may know more about you than your close friend who does not have a Facebook account. That is because we are acting who we are in reality while we have no reason to do that in the online virtual world. Although sometimes this genuine sharing of information may be inappropriate or even harmful, such as prevalent use of vulgarity and harsh comments, we can minimize those disadvantages through strict regulation of content online. Another advantage of social media is in aiding the spread of democracy. People around the world can easily share their thoughts about their governments. That eliminates the incomplete information disadvantage for some remote rural regions where people are less aware of what is actually happening around them. One of the examples is the 2012 riots which happened in Egypt and Zambia. The idea of searching for democracy was passed from Egyptians to people in Zambia quickly through the use of social media. However, as the government controls most of the media, these social media may be tools of their campaign and manipulating the thoughts of the public. For example, in the 2012 general election in Singapore, Dr Tan Chee Keong made use of Facebook to spread his campaign videos to the public. Despite this, social media is still a much fairer and more transparent online platform for the public to share ideas compared to other traditional media. Intensive use of social media does reduce the time people spend on face-to-face communication. It is commonly seen in a food court or restaurant that a group of people are sitting together around a table with each of them having a cell phone in their hands. They are too busy with their way too many virtual friends and some of them neglect the feelings of their real-life friends. In this case, I have to say that to err is human. What we can do is to educate the public about the importance of their friends right by their side and teach them to manage their time well. In conclusion, the use of social media has more advantages than disadvantages in our daily lifes. What we can do is to cautiously manage our time spent online and manage our words used online. With the regulation of government and relevant authorities, the virtual world would be a better world.\",\n",
              " \"Social media sites' role in connecting people around the world is undeniable. Thanks to those social media,  communication between people all over the world is possible and can be conducted with ease. Apart from the ease of communication despite  the distance, many other activities such as knowledge sharing and business can be done through social media as well. Nevertheless, with those advantages, some disadvantages may appear, such as reduction in face-to-face human contact, which affects interpersonal skills, privacy issues, as well as some fraudulent activities that can be committed through social media. Twitter, Facebook and Skype are some social media sites which enable us to keep in touch with our friends or family who are in other cities or countries. Through those sites, we are able to talk to them, to know what their activities are and who their friends are, etc. On the face of it, there is no doubt that these sites help us to have a better relationship with our relatives despite  the distance. The sharing of information can be done faster through social media as well. That is why, nowadays, many news publishers set up their own social media account. For example, Channel News Asia has a Twitter account and will update its followers with headline news. That shows how,these days, news and information can be shared easily through social media. Furthermore, since many teenagers and young adults are fans of social media, this information can reach them easily without them needing to watch or listen to the news reports. Due to the popularity of social media, many people have started to conduct their business via these sites. More and more advertisements can be found on Facebook. Whether it is our friends who are selling their products or professional brands selling their products online, we can get to buy things and contact the sellers through those sites, which can be considered as an advantage for us, the buyers. However, is it the same when we keep in touch with someone virtually compared to when we meet them face to face? I do think there is a difference  and I believe many of us will agree. When we write or communicate virtually, we can hide our true feelings and may not be ourselves since we do not want the other party to judge us. Other than that, sometimes the message of one party cannot be delivered properly to the other one since the communication is done through written language, and thus the 'tone' of the message sent and when it is received may be different. Many people are very brave about telling people about their opinions online, but in real life, some of them can be very shy and not outspoken at all. This will lead to  bad interpersonal skills as well as  problems of trust. Nowadays, we cannot really trust new people whom we know from social media, since we will never know whether they are even 'real'. Some people fake their identities on social media sites so that they can know more people or some may even deceive others. In addition, the issue of privacy has become more relevant nowadays, since some people do not realize that they may actually share some information that they were not willing to share in the first place. Therefore, while social media sites  undoubtedly have benefits in our life, we should consider their drawbacks and , thus, use them wisely so that we can gain more of their benefits and they inconvenience us in the smallest possible way.\",\n",
              " \"It is a common scene that almost everyone on  public transport is looking at a phone or wearing earphones in this modern society . Not only one but many developed and developing countries have the same scene. Some say that it is a necessary step in human evolution. Social media sites like Twitter and Facebook are popular among people for connecting to others even from different countries. It also brings many negative effects such as loss of face-to-face communication skills, which are important in their workplace. This essay will discuss  the advantages and disadvantages of using social media in our daily life. One of the significant advantages of using a popular social media site is that people can reach other easily, even without having had contact for a long time. In this fast paced and competitive world, people may not be able to keep in touch with others. With the help of social media sites, people are able to upload their new discoveries and funny scenes to them and they can be updated on the new information of their friends. Personally, I  study  overseas, and my busy study life keeps me  from contacting my old friends. Using a common social media site with my friends  helps me know what their statuses are nowadays. And I am able to easily find a common topic when I contact them. In Singapore, many Malaysians cross the sea to work here. Many of them are busy in work and separated from their children. One of the managers in my workplace has the same situation. After my manager taught her mother how to use Facebook, she was able to upload video clips of her grandchild. Therefore, my manager would not miss  moments of her daughter's development. Social media sites are also a very useful tool for people to start a new friendship or relationship. People with the same preferences get connected or closer. It is easier for people to approach the other person after finding out the information. Students can exchange  experiences in their studies even if they are in different countries. People are able to share  culture or pretty photos online, and others can spread the joy with them. Thus, I believe that social media sites are a useful tool to help people get to know each other better. However, a social media site is a double-edged sword. It also has  some negative effects on our daily life. One of the disadvantages that many people are concerned about is that people lose  interest in face-to-face communication. Many people like to use language to pretend , and lose confidence when they talk to each other. Although not everyone is good at personal relationships , even without the existence of  social media sites, we cannot deny that they do affect some people's  interpersonal skills. In conclusion, everything has its downsides. We should take the advantages of the things we create and try to avoid the negative effects. Social media sites are supposed to be a very useful and convenient tool to  bring people  closer in this globalised world.\",\n",
              " 'The use of social media has greatly influenced our ways of communicating with one another. Online friends have become real life friends and real life friends communicate with one another online. Social media have changed our ways of exchanging information and conducting interpersonal relationships profoundly. There are advantages and disadvantages to this change. Social media have reshaped the way  we communicate. In real life, we communicate with one another as equal participants. We share ideas and stories and forge friendships based on mutual respect. However, communication on social media is largely based on \"broadcasting and listening\". When we use Facebook and post pictures and statuses, we are actively \"presenting\" façades of our lives to others. We tend to post pictures with the best looks, statuses that are funny. We broadcast these facades of ourselves to others. The images we choose to present are carefully considered. The audience is not some specific person, but everyone we might know, or even the entire world. There is an element of seeking   attention rather than expressing one\\'s true opinion on social networks. On the other hand, the viewers are not the listeners. They are just scrolling down  pages of pictures and statuses and seeing one of them which they might think  funny. It is not the broadcasters themselves they care about, but the content. This type of communication does not help with forging interpersonal relationships. In real life, establishing a friendship requires the all-round understanding of one another and  caring for one another. The latter requires face-to-face interaction, where we can show our emotions to the other. One cannot truly understand a person  only stalking his/her Facebook page where he/she carefully chooses what to present. One cannot truly show one\\'s emotions to another by texting some =) signs. The broadcasting and viewing model is not good for forging relationships. However, it is good for sharing information. On social media, everyone is a broadcaster and a viewer. With my social network account, I seldom read newspapers or go to news websites anymore, because I can easily read them from the status of my friends. If I am interested in politics, I can just follow some politics newspapers or public figures. I get news about sales, clothes and cosmetics from my friends. If one of my friends has horrible taste in clothes and he/she posts them often, I can simply block him/her . Information gets circulated. The most popular information gets circulated the most, so I  seldom miss it. Social networks play a role in providing and also filtering information. This saves a lot of time for me  reading newspapers and watching TV. Personally, I feel more at ease on social media. From the above two points of view, I think social media could forge more interest-based friendships. With the help of social media, I become real life friends with those from online forums whom I share the same interest with. I also discover some of my friends\\' interests which I find in common with myself, so that talking to one another is much more about life, study, friends, etc. The communication does not focus on how we feel,  but on whatever is interesting, or the content. In this case, interpersonal skills are not as important because our goal is not to impress somebody, but to get the information that we are both interested in. In conclusion, I think social media have reshaped interpersonal relationships from a more human-based friendship that requires sharing and caring between friends, to a more information-based friendship that requires a mutual interest. There are advantages and disadvantages in this. However, we are still not sure whether it is good or bad. It is just different.',\n",
              " 'Advantages and disadvantages of using social media in daily life People that live in the modern world really cannot live without  social media sites like Twitter and Facebook. Almost all students and young adults possess a Facebook or Twitter account. It is true that social media make people  able to connect with one another more conveniently. However, it seems that, especially for some , sharing some parts of their lives such as videos and photos on the social media sites has become really necessary. An extremely interesting and ironic phenomenon was discovered that a group of friends met and sat around one table, but none of them were really chatting with one another. Instead, all of them were more interested in posting pictures of this \"cheerful\" meeting on their social media sites. Therefore, there is a need to discuss the advantages and disadvantages of social media. Social media enable people from different parts of the world to communicate with one another. People used to write letters and send postcards to keep in touch with people living far away from them in the past. It could take a few days or weeks for them to receive the messages. Nowadays, what people need to do is just type in front of the computer in their own rooms. And people on the other side will only need a second to receive the message. Distance and time are no longer  problems, which is convenient, especially when instant chat is needed. However, when people become more and more addicted to this convenience and fail to communicate with people who are close to them, their face-to-face interpersonal skills are lost. Social media provide people with a way of talking and chatting which can never be considered as a way of communicating. When one chats on those media sites, there is no eye contact, no emotion delivery and even the expressions are typed in by using some combinations of punctuation marks. For more convenience, sentences are shortened to simply three or four words such as lol (which means laugh intensively) and \"asap\" (which means as soon as possible). Indeed, people go to great lengths to make their words as short as they can. Therefore, when they are communicating with people face to face, expressing themselves appropriately becomes a really big problem. Social media also provide people with huge  information about people and things that interest them. For example, on Twitter, it is exciting to follow people that you adore, like famous movie and TV stars, businessmen and entrepreneurs. It makes people feel extremely close to their idols\\' lives and works. Up-to-date news people care about can be easily obtained when you refresh your social media sites on your smartphones and laptops, almost every time at any time. However, after one has registered on those social media sites which are not reliable, all the information you have filled in will be a weapon against you in the future. Furthermore, not everyone on the social media sites is honest. The profile picture may not be of the person  that user says he or she really is. The reason might just be that he or she just wants to \"decorate\" his or her face. But there is a possibility that the person on the other side is deceiving you in order to use your information against you. The fact that there is no guarantee of authenticity risks people\\'s information  that is shared on social media sites. To sum up, social media have advantages and disadvantages in people\\'s daily life. They shorten the distance between people from all over the world and make instant communication possible. And it becomes more convenient to obtain and update information by using social media. In contrast, social media make people lose their ability to communicate effectively in their real lives and make people risk exposing their private details to those whose identity cannot be verified on the social media sites.',\n",
              " \"How do social media help change our lives? With the development of  technology, social media play a more and more significant role in the whole world. Everyone in the world cannot stop using it every day to express their feelings or ideas and a lot of other things which helps their friends know their lives better. However, this also raises  concerns about whether they bring us more benefits or a human disaster. Although using social media helps to connect us with our friends wherever we are, at the same time, it reduces the chance for us to talk to our friends face to face, which may affect our interpersonal skills. Thus, whether there are more advantages or disadvantages becomes a tough question for every human being. Many people say they will support  social media since it really helps them to have a closer view of how their friends are doing in other parts of the world. This is especially relevant to people who are overseas. To them, social media is the only resource they can use to know everything happening in their home country and a platform they can use to show their lives to their loved ones as well. What's more, these days, social media play an important role in spreading  information. Nowadays, people can just easily put their  on their Facebook account and wait for the response from others who are from different parts of the world, which brings us a huge amount of convenience. It is quite significant especially for  young teenagers, since they would rather go to these sites to see the news and know what is happening in this world than read the newspaper every day. However, there are also a great number of people who are against this technology. They worry a lot about the bad effect on  teenagers, who are still developing . They point out that, actually, social media reduce the chance for us to talk to people around us face to face. The more we care about Facebook, the less time we will have to spend with our friends. Nowadays, it is quite common to see at some party, people  prefer looking at their phones and reading all the posts on Facebook if they feel bored. It makes people worry because if all the teenagers continue using social media frequently, they will decrease their ability to talk to people. They will feel it becomes difficult for them to find any topics to communicate with other people about. Personally, I strongly agree that social media bring more disadvantages compared to the advantages they give us. Although it is really useful when we need to use it to let other people know we really live a good life, it wastes  a lot of time as well. Put it another way, if we saved the time we spend on browsing on those sites, we might already finish a book or do other more meaningful things. We should keep in mind that there are still ways for us to contact  our family or friends. Everything is bad if we don't know how to use it wisely, no matter whether it is really good or not. As a result, it is important for people to know that we need to be cautious about the time we spend on these social media. As stated above, I strongly believe that if we can use social media wisely rather than abusing them, we will all live a better life.\",\n",
              " \"The advantages and disadvantages of social media Nowadays, as  technology is becoming increasingly advanced, more and more social media sites are appearing in our daily life. You can see people using Facebook and Twitter through their smartphones or iPads on buses or on trains. Some may say that the appearance of these modern media will reduce the chances for people to communicate face to face. This essay will illustrate the pros and cons of using social media in modern society. First of all, social media can make it more convenient for people to make friends and contact each other. Years ago when these modern products weren't popular, the way for people to communicate or contact people far way were still restricted to making phone calls, sending emails or writing letters. Some  take a long time and some are not efficient enough for people to get their response. However, social media solve these problems well. People can contact their friends on the internet and get their reply very quickly. The communication is also not limited to words. People can express themselves through pictures or emoticons. People can also get to know their friends' status and mood by looking at their posts online. Moreover, people can be aware of what is going on in social situations and see the comments online and share their opinions on these websites. These social media make people's lives much more colorful and provide a lot of fun. However, social media may do some harm to people's lives. They will make people spend more time on chatting on the internet rather than communicating face to face, such that  interpersonal skills will be badly affected. Some people spend a lot of time on them and forget their real life. Actually, I have seen that some people are very funny and interesting when I am chatting with them online. However, they are quite boring when I talk to them in real life. Teenagers are developing their interpersonal skills and social skills when they are growing up. If they spend too much time on these social media, it may cause some problems with their mental development. They may feel uncomfortable when they communicate with people face to face. Some may spendless and less time with their family and not know how to express themselves. Moreover, some wrong values on the websites will affect teenagers and confuse them. Some may even do something wrong. In conclusion, the appearance of social media sites is a double-edged sword. It can make our life simpler. People can develop their friendships and relationships through these social media. However, it can also make people forget to communicate with their family and friends in  real life and negatively affect  their interpersonal skills. But overall, the advantages far outweigh the disadvantages. So we need to make the best use of these social media and make them a fun way of adding some excitement when life is boring. And try to bypass the shortcomings. And remember to send greetings to our friends and family frequently.\",\n",
              " 'Nowadays, with the advancement of technology, it is easy to communicate wherever you are. The appearance of social media sites truly connects people closely. People can know their friends\\' recent looks and interesting things happening to those people just by checking their Facebook or other social media sites. We cannot deny that the social media sites truly make  old friends  not miss  information and  chances to communicate with you even if you are in a different country. However, the social media sites truly reduce  face-to-face communication , which truly affects interpersonal skills. There are two advantages and two disadvantages of using  social media in  daily life. Firstly, the social media sites can closely connect people with their friends and parents. By typing  words and showing  pictures, people can express  emotions that they are too shy to express face-to-face. For example, on Mother\\'s Day, people are too shy to say \"I love you\" to their mothers, but they can type it on their mother\\'s Facebook page. Then their mother will also know the emotion and feel warm. On the other hand, when a teenager is studying in a foreign country, the internet is the only way that he can communicate with his parents and friends. Therefore,  social media are truly good for people. Secondly, the social media sites do not only closely connect people with their friends. People can also find out a lot of information about  celebrities on Twitter and Facebook  and get the  on them. They can find out how these people succeed and they can also have the chance to talk with them and know these famous people\\'s thoughts by using  social media. In addition, with the help of social media, some homeless people or someone who needs  money to cure a disease can get  help from the world quickly, because once one person knows the information, he or she will share it with their \"friends area\", then many people will know  and spread the information to  people who can give help. On the other hand, there are also problems with the population of the social media. Firstly, when people rely on  social media to communicate with their friends and parents, they will become accustomed to communicating by typing and not talking. People even prefer talking to their friends and meeting their friends online and gradually reject face-to-face communication. Therefore,  social media truly limit  interpersonal skills such that people lose the chance and the ability to practice talking and  between them and their friends. Secondly, without  true communication in  real life, people lose the ability to see the truth and lies. There are many people on  social media with beautiful images and good content on their pages, but in real life, he or she may  not have a job or may live poorly. Teenagers may believe these people and easily be cheated and lose money, or even their safety. Therefore,  social media are not safe, which is bad for teenagers\\' future development. All in all, the existence of social media truly helps people a lot in many areas. However, there exist some disadvantages which will affect people to some degree.',\n",
              " 'Advantages and Disadvantages of Using Social Media in Our Daily life and Society. Nowadays, with the development of technology and society, social media have become more popular and even important in our daily life. We communicate with others using social media, such as Twitter, Facebook and microblog more and more frequently. There is no need  for people to go out of their home to interact with others. They chat online, share pictures, tell others what they have done or funny stories. It seems that people build a good relationship with others through  social media, but  problems arise. People do not know how to talk with others face to face, especially  strangers. Therefore, we need to talk about the advantages and disadvantages of using social media in our daily life and society. As for the advantages, there are two aspects: more convenient to contact others, easier to know about others. One advantage is that it is more convenient to contact others by social media. In the old days, if one wanted to tell some important news to someone who lives far away, one needed to write letters and that wastes time. The long distance and delay made sending messages very difficult at that time. Therefore, people did not contact   faraway friends and relatives unless there was something important. However, people can now contact  anyone all over the world who can use a computer at any time, and there is no time delay to messages. The other advantage is that it is easier to find out about others through social media. If there were no social media, it would be difficult for people to find out about a stranger. They could collect information about that person by asking their friends, colleagues or family members. And the information collected might not be complete and true. Unlike today, with the help of social media, people can easily get the information they want just by searching online, and know about what that person does every day and at what time. As for the disadvantages of social media in our daily life, these include wasting time, causing illness related to sitting a long time in front of the computer, the rapid spreading of rumor and fake news, and most importantly, making people lose the ability to talk to others confidently face to face. It is weird that people sit around a table but all look at their phones and do not talk with each other. If there is a joke on their Facebook page, they may talk to others in this way: \"hi, look, how ridiculous this is\". Then they laugh together. No matter whether it is a party, dinner or just a simple get-together, there are always some people bowing their head and playing with their phones, even if their family and friends are in front of them. In  conclusion, there are both advantages and disadvantages of using social media in daily life. People should enjoy the advantages of social media while being aware of the disadvantages  and try their best to avoid the disadvantages happening to them and their friends and family.',\n",
              " \"Today  is considered to be the era of social media sites like Facebook and Twitter, which are attractively connecting people around the world. However, some people worry that social networking can affect interpersonal skills as it reduces face-to-face human contact. The advantages and disadvantages of using such social media in  society are elaborated on below. Nobody can deny social media's advantages in view of the benefit they provide in connecting people regardless of nationalities, races, cultures and languages. Social media are a trending channel and a suitable means of communication. Firstly, social media bring convenience to the world. They have erased the boundaries of distance and time. No more worries about the time it takes to deliver letters and packages. Nowadays, thanks to  social media, with just one click, you can contact your family and friends whenever you want. You can share photos, videos and every meaningful experience of your life. More importantly, it is cheap and easy to use social media. Secondly, a social media network opens the door of opportunities for people due to its great benefit ofconnecting people. A lot of fresh graduates can find jobs thanks to Facebook and Twitter. Young people can widen their relationships, meet new friends and learn wonderful things in many parts of the world. In business , social media are a good tool to develop and advertise products and services. On the other hand, social media also have disadvantages which have created worries for  society recently and made it a controversial phenomenon. More and more young people tend to live in the social media world most of the time and reduce face-to-face human contact, which can affect interpersonal skills and relationships in social life. First and foremost, we should realize that the social media world is not trustworthy and real. Everyone can easily make up the personality and characteristics they want. They can become anyone. Though social media do create relationships, relationships and friendships are only firm and real if people have gone through experiences and communication through face-to-face interaction. There is a story of a girl who lived in the social media world every night for eight years. In the chat room, she created a close relationship with eight people. She talked with them every night, trusted them and shared her life with them. Then eventually, she discovered that those eight people became one as he was using eight different identities to chat with her all the time. Furthermore, the convenience of social media is also its weakness. A lot of people use their true information on social media sites, which can lead to crimes and deception. People can use the information to deceive family and friends and banks to do bad things such as blackmail, ATM theft and so on. Last but not least, social media do affect human interpersonal skills when people increase the time on social sites and reject chances to expose themselves to social daily life activities as well as interacting with people. Recent research has shown that the more people spend time on social media sites, the less they become ambitious. As a result, if the situation keeps following  this unexpected trend, it will have a bad effect on the younger generation. In summary, everything has its own pros and cons, and sodo social media networks. It is not only convenient and beneficial for connecting people and developing  business, but it also can damage people's relationships and interpersonal skills. Social media are only beneficial as long as we know how to use them in a correct and suitable way with a combination of both social media sites and daily life interaction to develop people's potentials to the fullest.\"]"
            ]
          },
          "metadata": {
            "tags": []
          },
          "execution_count": 157
        }
      ]
    },
    {
      "cell_type": "markdown",
      "metadata": {
        "id": "unja3yXDwvSm"
      },
      "source": [
        "## 2.2 Locness"
      ]
    },
    {
      "cell_type": "markdown",
      "metadata": {
        "id": "BGVOWMuDbIUz"
      },
      "source": [
        "- Creator: University of Cambridge\n",
        "- Year: 2019\n",
        "- Purpose: \n",
        "    - \n",
        "- Data:\n",
        "    - represents a wider range of native and learner\n",
        "English levels and abilities compared to CoNLL\n",
        "    -  350 essays (4,477 sentences) on approximately 50 topics written by 334 authors from around the world (including native English speakers)\n",
        "\n",
        "- Papers: https://www.aclweb.org/anthology/W19-4406.pdf"
      ]
    },
    {
      "cell_type": "code",
      "metadata": {
        "id": "mr_eJ6vTDrNr"
      },
      "source": [
        "!wget -O 'conll2014.tar.gz' https://www.comp.nus.edu.sg/~nlp/conll14st/conll14st-test-data.tar.gz"
      ],
      "execution_count": null,
      "outputs": []
    },
    {
      "cell_type": "code",
      "metadata": {
        "id": "DJbHbQNSal8f"
      },
      "source": [
        "path = 'wi+locness/json/A.dev.json'"
      ],
      "execution_count": null,
      "outputs": []
    },
    {
      "cell_type": "code",
      "metadata": {
        "id": "zhtK8Vl8avGS"
      },
      "source": [
        "t = open(path)"
      ],
      "execution_count": null,
      "outputs": []
    },
    {
      "cell_type": "code",
      "metadata": {
        "colab": {
          "base_uri": "https://localhost:8080/",
          "height": 199
        },
        "id": "3uB1NK1Pax-l",
        "outputId": "e1ea5227-fd39-418d-aff2-68f75437658c"
      },
      "source": [
        "t.read()"
      ],
      "execution_count": null,
      "outputs": [
        {
          "output_type": "execute_result",
          "data": {
            "application/vnd.google.colaboratory.intrinsic+json": {
              "type": "string"
            },
            "text/plain": [
              "'{\"text\": \"It\\'s difficult answer at the question \\\\\"what are you going to do in the future?\\\\\" if the only one who has to know it is in two minds. When I was younger I used to say that I wanted to be a teacher, a saleswoman and even a butcher.. I don\\'t know why. I would like to study Psychology because one day I would open my own psychology office and help people. It\\'s difficult because I\\'ll have to study hard and a lot, but I think that if you like a subject, you\\'ll study it easier. Maybe I\\'ll change my mind, maybe not.\", \"userid\": \"21658\", \"id\": \"1-352420\", \"cefr\": \"A2.ii\", \"edits\": [[0, [[14, 14, \" to\"], [21, 24, \"\"], [150, 150, \",\"], [228, 229, \"\"], [280, 280, \",\"], [304, 304, \" like to\"], [328, 334, \"clinic\"], [466, 472, \"more easily\"]]]]}\\n{\"text\": \"I think that the public transport will always be in the future. The rich people will buy a car but the poor people always need to use a bus or taxi. I consider that is more convenient to drive a car because you carry on more things in your own car than travelling by car. Also, you\\'ll meet friendly people who usually ask to you something to be friends and change your telephone number.\\\\n\\\\nIn my experience when I didn\\'t have a car I used to use the bus to go to the school and go back to my house.In my opinion, the car isn\\'t necessary when you have crashed in the street, in that moment you realized the importance of a public transport.\\\\n\", \"userid\": \"10325\", \"id\": \"1-57917\", \"cefr\": \"A2.ii\", \"edits\": [[0, [[13, 16, \"\"], [46, 48, \"exist\"], [64, 72, \"Rich\"], [94, 94, \",\"], [99, 102, \"\"], [160, 164, \"it\"], [165, 167, \"\"], [198, 198, \",\"], [217, 219, \"\"], [253, 253, \"when\"], [267, 270, null], [322, 324, \"\"], [329, 338, \"\"], [357, 363, \"exchange\"], [364, 368, \"\"], [379, 385, \"numbers\"], [404, 404, \",\"], [461, 464, \"\"], [495, 496, \". \"], [511, 514, \"a\"], [570, 574, \". At\"], [586, 586, \",\"], [591, 599, \"realize\"], [618, 619, \"\"]]]]}\\n{\"text\": \"In India we have various types of Public transport, like Cycle, Bike, Car, Train & Flight.\\\\nDepending on the distance and duration to the desired place, mode of transport is chosen accordingly.\\\\nBut Generally speaking, travelling by car is much more fun when compared with other modes of transport.\\\\nThis reminds me of a trip that I have recently been to and the place is Agra. It takes around 6 hours by National highway to go from Delhi to Agra. We have stopped at hotels for having food and just in case if any of us feels hungry, we have purchased some snacks just before the trip. Since, we have the option to wait anytime we want to when we travel by car (which is impossible when travelling by train & Flight). In addition to it, we can also take a comfortable short nap on the back seat and wake up fresh. \\\\n\\\\nDue to the above mentioned reasons, I am going to conclude that travelling by car is much more convenient. \", \"userid\": \"15185\", \"id\": \"1-91130\", \"cefr\": \"A2.i\", \"edits\": [[0, [[8, 8, \",\"], [34, 40, \"public\"], [57, 62, \"\"], [64, 68, \"bikes\"], [70, 73, \"cars\"], [75, 80, \"trains\"], [83, 89, \"planes\"], [121, 129, \"time\"], [145, 150, \"destination\"], [152, 152, \"the \"], [197, 206, \"generally\"], [349, 351, \"on\"], [365, 365, \" I visited\"], [366, 368, \"was\"], [402, 410, \"national\"], [448, 452, \"\"], [471, 474, \"to\"], [475, 481, \"have\"], [504, 506, \"\"], [517, 522, \"felt\"], [534, 538, \"\"], [583, 588, null], [612, 616, \"stop\"], [704, 705, \"or\"], [706, 712, \"plane\"], [730, 732, \"that\"], [813, 819, \"For\"], [824, 839, \"above-mentioned\"]]]]}\\n{\"text\": \"My name is Sarah. I am 17 years old. I am looking forward to join you in this year summer camps. I love children, and I enjoy looking after them. also, I organized many sports activities before in my school. In addition to that, i enjoy cooking. My family think that my cook is amazing. I hope that you give my the chance to join you . Thanks    \", \"userid\": \"17960\", \"id\": \"1-114700\", \"cefr\": \"A1.ii\", \"edits\": [[0, [[61, 65, \"joining\"], [82, 82, \"\\'s\"], [146, 150, \"Also\"], [194, 196, \"at\"], [229, 230, \"I\"], [270, 274, \"cooking\"], [330, 335, \"you.\"]]]]}\\n{\"text\": \"My favourite sport is volleyball because I love plays with my friends. Volleyball is a sport play every place, when I travel on the beach I like plays with my sister in the sand and after we are going to the sea. It is very funny.\\\\nwhen I was young I like plays with the ball in the playground and my friend and I played using the soccer goals as a network of volleyball.\", \"userid\": \"28263\", \"id\": \"1-194416\", \"cefr\": \"A1.i\", \"edits\": [[0, [[48, 53, \"playing\"], [92, 92, \" that is\"], [93, 97, \"played\"], [98, 109, \"everywhere\"], [109, 115, \". When\"], [118, 124, \"am\"], [145, 150, \"playing\"], [182, 187, \"then\"], [191, 200, \"go\"], [201, 203, \"in\"], [219, 223, \"great\"], [224, 230, \"fun.\"], [231, 235, \"When\"], [250, 254, \"liked\"], [255, 260, \"playing\"], [266, 269, \"a\"], [348, 369, \"volleyball net\"]]]]}\\n{\"text\": \"Dear Jo,\\\\n\\\\nHow are you? I\\'m writing to inform you that some advice on travelling and working in my country.\\\\n\\\\nOn the one hand, in my country there are a lot of place to travel. For example Barcelona,Madrid,Sevilla,Valencia. There are wonderful cities because there are a lot of things to visit for example in Madrid you can visit \\\\\"Puerta del Sol\\\\\", \\\\\"Las Cibeles\\\\\". I visit Madrid twice a year. All summer I visit Sevilla because I love this city and I suggest that you visit Sevilla.\\\\n\\\\nOn the other hand,in my country there are a few job because the economy is very bad. But, if you want I look for a job from you. My best friend looking for a people responsible for look after her sister. Her sister is 6 years old and you should look after every weekend. You will be interesting in this job?\\\\n\\\\nThank you for you e-mail, it was wonderful to hear from you.\\\\n\\\\nI\\'m looking forward to seeing you.\\\\n\\\\nTake care, Laura.\", \"userid\": \"30957\", \"id\": \"1-216146\", \"cefr\": \"A2.ii\", \"edits\": [[0, [[38, 44, \"give\"], [48, 53, \"\"], [158, 163, \"places\"], [167, 173, \"visit\"], [186, 186, \",\"], [187, 220, \"Barcelona, Madrid, Sevilla, Valencia\"], [291, 295, \". For\"], [303, 303, \",\"], [390, 393, \"Every\"], [494, 501, \"hand, in\"], [522, 524, \"\"], [529, 532, \"jobs\"], [582, 582, \",\"], [584, 584, \" will\"], [600, 604, \"for\"], [624, 624, \" if\"], [639, 657, \"responsible person\"], [658, 661, \"to\"], [719, 725, \"would have to\"], [736, 736, \" her\"], [752, 760, \"Would you\"], [764, 775, \"interested\"], [804, 807, \"your\"], [814, 818, \". It\"]]]]}\\n{\"text\": \"Today public transport still play an important role in transport system and it will keep on in the future. Because public transport is a cost effective and better resource allocation in mass transport system. Also people need not to suffer high operating cost running their own car. But it can use a cheaper way going to their destination especially it is far away from home. For example, I think that it is not affordable for an ordinary person to own a private airplane travelling to another country. Instead it will be common to buy an air ticket and ride on public plane.\", \"userid\": \"15505\", \"id\": \"1-92096\", \"cefr\": \"A2.ii\", \"edits\": [[0, [[5, 5, \",\"], [29, 33, \"plays\"], [55, 55, \"the \"], [92, 92, \"doing so \"], [105, 114, \", because\"], [136, 136, \" more\"], [137, 151, \"cost-effective\"], [172, 207, null], [213, 213, \",\"], [230, 232, \"\"], [240, 240, \"the \"], [260, 260, \"of \"], [281, 286, \", but\"], [287, 289, \"\"], [312, 312, \"of \"], [338, 338, \",\"], [350, 350, \"if \"], [472, 472, \"for\"], [510, 510, \",\"], [554, 558, \"travel\"], [562, 562, \"a \"]]]]}\\n{\"text\": \"In my opinion I think that public transport in future is going to continue to be used because there are a lot of people that doesn\\'t have enough money to pay for a car even if it is used,so public transport continue to have future but people are going to use more the cars then bus or underground.\\\\nIf we think about it the car is better because we don\\'t need to wait for them has we are waiting for the bus or underground but in another way car cust more money than the public transport. By car we can just stay with ourselves which can be good because we can listen to the music that we like and we don\\'t need to be around people that are unkwoned but if we chose public transport we can meet friends or family so both trasnportations are good and the cars don\\'t need necessarialy to end up with the public transport. \\\\nIf I had it to choose between both transportation I think I probably chose car because it is better for me to go by car then to go by bus.\", \"userid\": \"7234\", \"id\": \"1-41334\", \"cefr\": \"A2.ii\", \"edits\": [[0, [[13, 13, \",\"], [14, 27, \"\"], [44, 85, \"is going to continue to be used in the future\"], [125, 129, \"do\"], [167, 167, \",\"], [182, 189, \"used, so\"], [206, 206, \" will\"], [223, 223, \" a\"], [259, 272, \"cars more\"], [273, 277, \"than\"], [278, 281, \"buses\"], [284, 284, \" the\"], [318, 318, \",\"], [371, 375, \"it\"], [376, 379, \"like\"], [383, 394, \"wait\"], [421, 421, \",\"], [426, 440, \"on the other hand,\"], [441, 444, \"cars\"], [445, 449, \"cost\"], [465, 469, \"\"], [488, 490, \"In a\"], [494, 494, \",\"], [507, 511, \"be\"], [512, 516, \"by\"], [526, 526, \",\"], [640, 648, \"unknown,\"], [659, 664, \"choose\"], [681, 681, \",\"], [711, 711, \",\"], [720, 735, \"modes of transport\"], [744, 744, \",\"], [748, 752, \"\"], [769, 781, \"necessarily\"], [785, 796, \"bring an end to\"], [796, 800, \"\"], [828, 831, \"\"], [854, 854, \" forms of\"], [869, 869, \",\"], [879, 879, \" would\"], [889, 894, \"choose the\"], [940, 944, \"than\"]]]]}\\n{\"text\": \"In my community, we are very interested at environment and ecological things. We have solar panels and a place to make compost at the last garden, with worms who eat and degrade all the organic waste of the school. In some strategic points of the building we have special trashcans to separate the garbage in organic, paper and cardboard, cans and pet bottles and they also made talks and presentations about the earth problems like global warming, contamination, etc. The manager of all this project is Miss June Sid, our science teacher. All this initiatives has made us all over the years a recognised ecological community.\", \"userid\": \"16882\", \"id\": \"1-103736\", \"cefr\": \"A2.ii\", \"edits\": [[0, [[40, 42, \"in\"], [43, 43, \"the \"], [127, 129, \"in\"], [134, 138, \"\"], [158, 161, \"that\"], [215, 217, \"At\"], [240, 242, \"in\"], [255, 255, \",\"], [306, 308, \"into\"], [348, 351, \"plastic\"], [374, 378, \"give\"], [413, 418, \"earth\\'s\"], [427, 427, \",\"], [449, 462, \"pollution\"], [484, 487, \"\"], [544, 548, \"these\"], [561, 564, \"have\"], [576, 576, \",\"], [591, 591, \",\"]]]]}\\n{\"text\": \"  Good morning everyone,today I want to share about is my favorite sport.My favorite sport is football,why I choose it?Well,football is a international sport,people around the world will love it so much!Example like Barclay Premier League,Liga Premier,Fifa World Cup and so on.I believe that\\'s all will delighted us.By the way,my favorite football team is Manchester United,they are brilliant,they have an amazing football players,and they are awesome.\", \"userid\": \"6993\", \"id\": \"1-31095\", \"cefr\": \"A1.ii\", \"edits\": [[0, [[15, 29, \"everyone. Today\"], [51, 54, \"\"], [67, 75, \"sport. My\"], [94, 106, \"football. Why do\"], [116, 132, \"it? Well, football\"], [136, 137, \"an\"], [152, 164, \"sport. People\"], [181, 186, \"\"], [198, 210, \"much! \"], [210, 216, \"\"], [232, 243, \"League, Liga\"], [244, 256, \"Premier, Fifa\"], [274, 278, \"on. I\"], [291, 293, \"\"], [294, 297, \"everything\"], [303, 312, \"delight\"], [313, 318, \"us. By\"], [323, 329, \"way, my\"], [367, 378, \"United. They\"], [383, 397, \"brilliant. They\"], [402, 405, \"\"], [423, 434, \"players, and\"]]]]}\\n{\"text\": \"Michael was a little kid when he had a dream that was: Be a super hero! After many years he still dream to become a super hero. He enter  the university of medicine because he thinks that this profession was the more similar to be a super hero. Pass some years  of the university and he know a girl called Kate and he get loved on here and she get loved in him. Kate was cursing the university of fashion. Then the two started to date. Michael and Kate was so  happy, until one day that Michael said to him dream to be a super hero, Kate get so nervous saying that it was ridiculous and just a kid dream and that Michael was only dreaming but that would never happen and that super hero don\\\\u2019t exist. When she said that, Michael started to cry and get mad saying that she was lying and don\\\\u00b4t have heart. He got so mad that he asked her to  get out of his apartment. In following day, she said sorry and them was happy again. But when them get to the home of Michael they fight again and Michael get a knife and kill her. He cried with a lot  blood around. Michael get away from there. Michael closed the door and knew at that moment he had made a mistake.\", \"userid\": \"36677\", \"id\": \"1-276170\", \"cefr\": \"A2.ii\", \"edits\": [[0, [[54, 54, \" to\"], [55, 57, \"be\"], [88, 88, \",\"], [98, 103, \"dreamt\"], [104, 106, \"of\"], [107, 113, \"becoming\"], [131, 136, \"went to\"], [136, 141, \"\"], [153, 155, \"to study\"], [176, 182, \"thought\"], [188, 192, \"that\"], [212, 216, \"most\"], [228, 230, \"being\"], [245, 249, \"After\"], [262, 264, \"at\"], [264, 268, \"\"], [279, 283, \"\"], [287, 291, \"met\"], [318, 321, \"fell in\"], [322, 327, \"love\"], [328, 330, \"with\"], [331, 335, \"her\"], [344, 347, \"fell in\"], [348, 353, \"love\"], [354, 356, \"with\"], [371, 378, \"attending\"], [378, 382, \"\"], [394, 396, \"to study\"], [453, 456, \"were\"], [481, 486, \"\"], [495, 499, \"told\"], [499, 502, \"\"], [503, 506, \"her about his\"], [513, 515, \"of\"], [516, 518, \"being\"], [531, 532, \".\"], [538, 541, \"got\"], [545, 552, \"agitated,\"], [597, 597, \"\\'s\"], [639, 642, \"and\"], [682, 686, \"heroes\"], [687, 689, \"did\"], [747, 750, \"got\"], [754, 754, \",\"], [785, 790, \"didn\\\\u00b4t\"], [795, 795, \" a\"], [865, 867, \"The\"], [902, 906, \"they\"], [907, 910, \"were\"], [933, 937, \"they\"], [938, 941, \"got\"], [945, 964, \"Michael\\'s house,\"], [970, 975, \"fought\"], [994, 997, \"got\"], [1040, 1040, \"of\"], [1063, 1066, \"got\"]]]]}\\n{\"text\": \"Public transportation is an important invention in human history, it brings amount of benefits in our life. For instance, we take subway in order to avoid stocking in traffic. It is true that moving by car is more convenient than take public transportation, however, it would cause more damage to our life and harm our environment. Therefore, we need to think more about our future, our offsprings. Giving them a safe, clean and comfortable place to live. \\\\nIf there is no public transportation, traffic jam will be serious than before. In my country, taipei, we always stock in traffic for about one hour in the morning. I can not imagine if there is no bus or MRT, how long I will take for school.\\\\nCar is convenient for human, but it brings damage for human also. For example, carbon dioxide which is created by car. It cause global warming which threats our environment and harms our daily life. we can see that there are lots of serious and frequently weather disaster happened in decades, such as typhoon, hurricane, wild fire and mud slide.\", \"userid\": \"10736\", \"id\": \"1-59585\", \"cefr\": \"A2.ii\", \"edits\": [[0, [[64, 68, \". It\"], [75, 75, \" a\"], [76, 82, \"number\"], [129, 129, \" the\"], [155, 163, \"being stuck\"], [192, 198, \"travelling\"], [230, 234, \"taking\"], [256, 265, \". However\"], [270, 275, \"will\"], [387, 397, \"offspring\"], [397, 405, \", giving\"], [503, 506, \"jams\"], [514, 514, \" more\"], [542, 549, \"city\"], [551, 557, \"Taipei\"], [561, 561, \" are\"], [569, 574, \"stuck\"], [623, 630, \"cannot\"], [639, 697, \"how long I would take to get to school if there was no bus or MRT\"], [699, 702, \"The car\"], [721, 726, \"humans\"], [753, 758, \"humans\"], [759, 763, \"too\"], [792, 792, \",\"], [802, 809, \"emitted\"], [813, 816, \"cars\"], [821, 826, \"causes\"], [841, 841, \",\"], [848, 855, \"threatens\"], [898, 900, \"We\"], [944, 954, \"frequent\"], [955, 962, \"weather-related\"], [963, 971, \"disasters\"], [972, 980, \"happening\"], [983, 983, \" recent\"], [1001, 1008, \"typhoons\"], [1010, 1019, \"hurricanes\"], [1026, 1030, \"fires\"], [1039, 1044, \"slides\"]]]]}\\n{\"text\": \"What other precautions, is usually taken?\\\\nThe NG Office is notified by the photographer when the film was shipped.\\\\nIf the film doesn\\'t arrive on time, it immediately. Lost shipments have been found more easily when this process will be started right away\", \"userid\": \"18941\", \"id\": \"1-122397\", \"cefr\": \"A2.i\", \"edits\": [[0, [[22, 23, \"\"], [24, 26, \"are\"], [165, 165, null], [228, 235, \"is\"], [254, 254, \".\"]]]]}\\n{\"text\": \"The pleasure of traveling\\\\nPeople go, people come. Every day lots of people are travelling abroad but, what\\'s the best way to do an international travel?\\\\nThe most important option to travel is, by far, the plane. But, even when it\\'s true that it\\'s the faster option, you must be very carefuly at time to get off a plane.\\\\nIf you are looking for confort and relax, obviously, you have to take a boat. There are a wide variety of things to do and enjoy the trip.\\\\nAlthough, the better option, is pick out a train. There isn\\'t comparation on watching the changes in the landscape through a window, enjoying the way that you are doing and, the best part, the cheapest way to get away some days and take the routine off some days.\\\\nAnyway, no matter how you go, no matter where you go. The pleasure of travelling is travel at all.\", \"userid\": \"37133\", \"id\": \"1-268078\", \"cefr\": \"A2.ii\", \"edits\": [[0, [[145, 151, \"trip\"], [179, 181, \"for\"], [222, 226, \"if\"], [251, 257, \"fastest\"], [283, 291, \"careful\"], [292, 294, \"when it\\'s\"], [343, 350, \"comfort\"], [355, 360, \"relaxation\"], [459, 467, \"However\"], [473, 479, \"best\"], [486, 487, \"\"], [490, 490, \" to\"], [491, 499, \"choose\"], [520, 520, \" any\"], [521, 532, \"comparison\"], [533, 535, \"with\"], [605, 608, \"route\"], [622, 627, \"taking\"], [691, 711, null], [775, 780, \", the\"], [814, 820, \"itself\"]]]]}\\n{\"text\": \"Transportation one of the most important thing on life so we have many of kinds for transportation now we travel by car but in the near future it will be other comfort and easy ways to travel like fast train and plane that can transport you from north to south in less than hour this will make business men happy and comfort because of saving a lot of times and efforts so we hope that the government can achieve this way as soon as possible  \", \"userid\": \"33028\", \"id\": \"1-231693\", \"cefr\": \"A1.i\", \"edits\": [[0, [[14, 14, \" is\"], [41, 46, \"things\"], [47, 49, \"in\"], [54, 54, \",\"], [80, 83, \"of\"], [98, 102, \". Now\"], [119, 119, \",\"], [143, 145, \"there\"], [160, 167, \"comfortable\"], [191, 191, \",\"], [202, 207, \"trains\"], [212, 217, \"planes\"], [273, 273, \" an\"], [278, 283, \". This\"], [294, 306, \"businessmen\"], [317, 324, \"comfortable,\"], [352, 357, \"time\"], [362, 369, \"effort,\"], [417, 421, \"\"], [441, 441, \".\"]]]]}\\n{\"text\": \"In modern societies, there are lots of friends around our daily lives. Big project could not be finished without co-operations. Friends could be communicated and exchanged the ideas, feelings and funny things happened around ourselves. More importantly, the parents give our lives and they touch us knowledge and skills or abilities to live in this world. In this case, the families played important roles in daily lives. The reasons are as follows. First of all, we could learn lots of skills from parents according to their own experience. For example, we could learn how to communicate with others in a friendly way, and we could also learn how to make a meal from parents. Secondly, the families could give you some advice about how to deal with the things which will cause trouble. If difficulties was told to the families, the ideas would come up to your families and communicate with you about how to solve this situation. All in all, in this case, the families are the most important friends in our lives.\", \"userid\": \"37958\", \"id\": \"1-284771\", \"cefr\": \"A2.i\", \"edits\": [[0, [[47, 53, \"in\"], [75, 82, \"projects\"], [113, 126, \"cooperation\"], [136, 141, \"can\"], [142, 157, \"communicate\"], [162, 171, \"exchange\"], [171, 175, \"\"], [208, 208, \" that\"], [209, 217, \"happen\"], [225, 234, \"us\"], [253, 257, \"\"], [271, 274, \"us\"], [275, 280, \"life\"], [290, 295, \"teach\"], [369, 373, \"\"], [374, 382, \"family members\"], [383, 389, \"play\"], [408, 408, \" our\"], [467, 472, \"can\"], [507, 516, \"based\"], [517, 519, \"on\"], [558, 563, \"can\"], [627, 632, \"can\"], [686, 690, \"\"], [691, 699, \"family members\"], [700, 705, \"can\"], [766, 771, \"\"], [777, 777, \" you\"], [803, 806, \"are\"], [807, 811, \"shared\"], [812, 814, \"with\"], [814, 818, \"\"], [819, 827, \"family members\"], [828, 832, \"\"], [839, 844, \"will\"], [845, 855, null], [861, 869, \"family members\"], [873, 873, \" they will\"], [955, 959, \"\"], [960, 968, \"family members\"]]]]}\\n{\"text\": \"The Computing Technology has been advancing very much this last years, making the old computers almost useless, getting better and making the difference between old and new computers grow even more with every new discoverement.\\\\nAs we can notice, old and new computers are vastly different, starting from the size of the computers, old computers were much bigger than new computers. Old computers were used to occupy one entire room, now, they only have the size of a box, even the size of a book. You can have a portable computer now, and take it with you to every place you visit.\\\\nOld computers only let you make math tasks, or even play simple games with 2 colors (green and black), but now you can do whatever you want to do, like creating or playing videogames, writing or reading a book, connect to the internet, watch or make videos, invent new stuff to improve the Computing Technology, and not only in 2 colors, but thousand of them.\\\\nOne of the greatest achievements of new computing, is the internet, where you can connect to other computers, download stuff, etc. via Ethernet cable or Wireless Connection (Wi-Fi).\\\\n\\\\nGet rekt m8\", \"userid\": \"24812\", \"id\": \"1-168950\", \"cefr\": \"A2.ii\", \"edits\": [[0, [[0, 4, \"\"], [44, 53, \"a great deal in\"], [54, 63, \"recent\"], [126, 126, \",\"], [213, 226, \"invention\"], [238, 244, \"see\"], [329, 334, \". Old\"], [395, 400, \"\"], [443, 452, \"are only\"], [609, 613, \"do\"], [754, 764, \"video games\"], [867, 871, \"\"], [924, 932, \"thousands\"], [991, 992, \"\"], [1125, 1136, null]]]]}\\n{\"text\": \"I went to the abandon house and started to think the best way to make his life miserable i passed the next 2 weeks looking for ideas to make him sufer. As i didn\\\\u2019t found nothing, i went to the place he live at and started to look for some information about his life and found people who he care about so as i continued to go to his houes i notice he will alays go to tehe same house so i decidec to follow him to the house and i foun out he was dating a girl she might be his girlfrien so i finally gota an idea, i would drive him crazy just as he did with me, that way she will think he had problems on his mind and left him, but son i thougt about it again and realized that if i did that she will try to help him and they will be more united,  so i decided to drive them both crazy almost at the border of death,  jus as he did with me! But wait a minute am i really so angry to make this? Yes! I screamed, my anger had dominated my mind i didnt had no longer control over my actions, i was afarid of what i had become and what i could do, but i could not control my self and the only thing i could think of was him suffering with a slow death and the satisaction i would feel when i finally had my revange, the best revange. But i was so mad at him and so ansiouns to make his life imposible, and soon my fear of death and my anger for all of the sufering i had been throug became stronger and bigger, i had made a desition i was goingo to do it, if he dedicated 4 years of his life tourtoring me and not wanting me to be happy i would the time is nesesary for him to have a miserable life and i wont stop until i had acomplished my goald \", \"userid\": \"19174\", \"id\": \"1-123881\", \"cefr\": \"A2.i\", \"edits\": [[0, [[14, 21, \"abandoned\"], [48, 48, \" of\"], [88, 88, \".\"], [89, 90, \"I\"], [91, 97, \"spent\"], [145, 150, \"suffer\"], [155, 156, \"I\"], [164, 169, \"find\"], [170, 177, \"anything\"], [179, 180, \"I\"], [198, 198, \" where\"], [202, 206, \"lived\"], [207, 210, \"\"], [270, 275, \"find\"], [290, 294, \"cared\"], [300, 303, \". So\"], [307, 308, \"I\"], [332, 337, \"house,\"], [338, 339, \"I\"], [340, 346, \"noticed\"], [350, 354, \"would\"], [355, 360, \"always\"], [367, 371, \"the\"], [382, 385, \", s\"], [386, 387, \"I\"], [388, 395, \"decided\"], [427, 428, \"I\"], [429, 433, \"found\"], [458, 462, \". She\"], [476, 485, \"girlfriend,\"], [489, 490, \"I\"], [499, 503, \"got\"], [511, 512, \".\"], [513, 514, \"I\"], [552, 557, \"\"], [559, 565, \". That\"], [574, 578, \"would\"], [601, 603, \"with\"], [617, 621, \"leave\"], [625, 630, \". But\"], [631, 634, \"soon\"], [637, 643, \"thought\"], [680, 681, \"I\"], [695, 699, \"would\"], [750, 751, \"I\"], [784, 784, \",\"], [792, 794, \"to\"], [799, 805, \"brink\"], [817, 820, \"just\"], [857, 857, \",\"], [861, 862, \"I\"], [870, 872, \"sufficiently\"], [882, 886, \"do\"], [908, 912, \". My\"], [940, 940, \".\"], [941, 942, \"I\"], [943, 948, \"didn\\'t\"], [949, 952, \"have\"], [953, 955, \"any\"], [956, 963, \"\"], [986, 987, \".\"], [988, 989, \"I\"], [994, 1000, \"afraid\"], [1009, 1010, \"I\"], [1031, 1032, \"I\"], [1047, 1048, \"I\"], [1067, 1074, \"myself\"], [1094, 1095, \"I\"], [1129, 1134, \"\"], [1155, 1166, \"satisfaction\"], [1167, 1168, \"I\"], [1185, 1186, \"I\"], [1202, 1209, \"revenge\"], [1209, 1214, \". The\"], [1220, 1227, \"revenge\"], [1233, 1234, \"I\"], [1260, 1268, \"anxious\"], [1286, 1295, \"impossible\"], [1351, 1359, \"suffering\"], [1360, 1361, \"I\"], [1371, 1377, \"through\"], [1398, 1404, \"greater\"], [1404, 1405, \".\"], [1406, 1407, \"I\"], [1419, 1427, \"decision and\"], [1428, 1429, \"I\"], [1434, 1440, \"going\"], [1449, 1453, \". If\"], [1486, 1486, \" to\"], [1487, 1497, \"torturing\"], [1531, 1531, \",\"], [1532, 1540, \"\"], [1552, 1560, \"necessary\"], [1598, 1599, \"I\"], [1600, 1604, \"won\\'t\"], [1616, 1617, \"I\"], [1618, 1621, \"have\"], [1622, 1633, \"accomplished\"], [1637, 1642, \"goal.\"]]]]}\\n{\"text\": \"I\\'m not agree with this idea completely. On the one hand travel by car are really much more convenient as give the chance to you to be independent. On the other hand huge traffic jams are a big issue for travelling by car.\", \"userid\": \"5643\", \"id\": \"1-47434\", \"cefr\": \"A1.i\", \"edits\": [[0, [[0, 3, \"I do\"], [56, 56, \",\"], [71, 74, \"is\"], [102, 102, \",\"], [106, 106, \"it \"], [106, 110, \"gives\"], [111, 128, \"you the chance\"], [165, 165, \",\"], [200, 203, \"when\"]]]]}\\n{\"text\": \"My Favourite sport\\\\n\\\\nI bornt to be a football player. For me, football is everything in my life.\\\\nWhen I see football on the television I dream with play in a big team and in a big championship like Barclays Premier League, Ligue 1 or Liga BBVA. My favourite clubs are Benfica and Real Madrid, where Ronaldo plays, for me he is the Best Player in the world, that is why Ronaldo won the Gold ball of 2014.\\\\nI play football in a Portuguese club called valenciano and we won a lot of games this season.\\\\nI dream in win a lot os leagues in Football and win the best championship, the Uefa Champions League and the best scorer of all the time in Uefa Champions League is Cristiano Ronaldo, my favourite player.\\\\nI play football because I like but the only reason that I do it hardly is because of my dad.\\\\nHis dream is that I become the next captain of a big team and win a lot of money.\", \"userid\": \"27099\", \"id\": \"1-187328\", \"cefr\": \"A2.ii\", \"edits\": [[0, [[22, 27, \"was born\"], [103, 106, \"watch\"], [118, 122, \"\"], [142, 146, \"of\"], [147, 151, \"playing\"], [196, 196, \" the\"], [311, 316, \". For\"], [319, 319, \",\"], [330, 334, \"best\"], [335, 341, \"player\"], [354, 360, \". That\"], [394, 396, \"in\"], [419, 421, \"for\"], [447, 457, \"Valenciano\"], [505, 507, \"of\"], [508, 511, \"winning\"], [518, 520, \"of\"], [532, 540, \"football\"], [545, 548, \"winning\"], [597, 597, \",\"], [624, 628, \"\"], [732, 732, \" it\"], [766, 772, null]]]]}\\n{\"text\": \"  My name is Jonny. I graduated from National Taiwan Unerversity of Science and Technology. I am 25 years old. I am interested in looking after chilren and playing with chilfen. I like personality with childlike, so I like children.\\\\nI had experience of holding basketball competition when I was student.I Planned many interesting activities for views to make competition alive. They enjoyed the game. I also like to cook. If my mom cooks, I always help her. \\\\n  My personality is cheerful, energetic and hardworking. I always simle to people. I really want to get this job. I want to play with children and see their simle all day. I think that smile is the best gift in this world.  I am also a hard worker. I have passion for this job. If you think me is the right person you want, please give me a responese, Thanks.\", \"userid\": \"24605\", \"id\": \"1-166835\", \"cefr\": \"A2.ii\", \"edits\": [[0, [[53, 64, \"University\"], [144, 151, \"children\"], [169, 176, \"children\"], [185, 211, \"childlike people\"], [235, 238, \"have\"], [272, 283, \"competitions\"], [294, 294, \" a\"], [295, 304, \"student. I\"], [305, 312, \"planned\"], [345, 350, null], [359, 370, \"competitions come\"], [525, 530, \"smile\"], [531, 533, \"at\"], [616, 621, \"smiles\"], [643, 643, \" a\"], [750, 752, \"I\"], [753, 755, \"am\"], [790, 794, \"send\"], [800, 809, \"reply\"], [809, 810, \".\"], [811, 817, \"Thank you\"]]]]}\\n{\"text\": \"public transportation has been more used by people and over the years it is kind of becoming cheaper and also more safe but some  people prefer cars to extent do we agree with and what is our reasons for that that is what are we going to demonstrate in this essay \\\\n\\\\nbefore about 40 years there was nothing called public transportation and people rarely owned cars so in those years there was not even good facility to move from place to other and that is because there was no companies to build cars in about 10 years cars trading became viable and also became very supported by having her own fans at the beginning the faced a lot of problems but they were able to solve it by the end\\\\n\\\\n\\\\nnowadays all facilities of travelling are more convenient from cars to buses even trains and planes .some people prefer cars because the do like crowded places or because the find it sometimes cheaper but from another point of view public transportation is very cheap and even faster but when it comes to traveling a lot of people prefer riding their own cars to feel the real experience and to enjoy more by chilling out from crowded places \\\\n\\\\nto summaries it is different from some oneis opinion to another i predict that public transportation will be improved and people will use it more and more that by the end cars will disappear and will will no longer be used \", \"userid\": \"31580\", \"id\": \"1-231049\", \"cefr\": \"A2.ii\", \"edits\": [[0, [[0, 6, \"Public\"], [31, 50, \"used by people more\"], [73, 75, \"has been\"], [110, 119, \"safer,\"], [148, 151, \". To what\"], [175, 175, \" this\"], [185, 187, \"are\"], [208, 213, \"? That\"], [222, 228, \"we are\"], [263, 264, \".\"], [266, 287, \"About 40 years ago,\"], [363, 363, \",\"], [388, 391, \"were\"], [406, 414, \"facilities\"], [427, 427, \" one\"], [437, 442, \"another\"], [469, 472, \"were\"], [499, 502, \". After\"], [517, 517, \",\"], [518, 522, \"car\"], [561, 598, null], [598, 601, \". At\"], [615, 615, \",\"], [616, 619, \"they\"], [643, 643, \",\"], [672, 674, \"them\"], [675, 677, \"in\"], [685, 685, \".\"], [688, 696, \"Nowadays\"], [701, 725, \"modes of transport\"], [745, 745, \",\"], [764, 764, \",\"], [787, 793, \". Some\"], [821, 824, \"they\"], [827, 827, \" not\"], [859, 862, \"they\"], [871, 888, \"cheaper sometimes,\"], [919, 919, \",\"], [971, 975, \". But\"], [1002, 1002, \",\"], [1026, 1032, \"driving\"], [1088, 1088, \" themselves\"], [1097, 1114, \"avoiding\"], [1129, 1129, \".\"], [1132, 1134, \"To\"], [1135, 1144, \"summarise,\"], [1145, 1195, null], [1195, 1197, \". I\"], [1286, 1286, \", and\"], [1292, 1294, \"in\"], [1302, 1302, \",\"], [1331, 1336, \"\"], [1354, 1354, \".\"]]]]}\\n{\"text\": \"The topic itself explaining the uncertainty of public transport in our country.This conclusion become more prominent if we look into the data of the car companies and exponential growth in their sales figure and with low budget private cars in picture, scenario ddrastically changed in past 10 years\\\\n\\\\n \", \"userid\": \"33873\", \"id\": \"1-237996\", \"cefr\": \"A1.i\", \"edits\": [[0, [[17, 27, null], [71, 83, \"country. This\"], [95, 101, \"becomes\"], [166, 166, \" the\"], [201, 207, \"figures\"], [211, 211, \",\"], [243, 243, \" the\"], [252, 252, \" the\"], [261, 261, \" has\"], [262, 274, \"drastically\"], [285, 285, \" the\"], [299, 299, \".\"]]]]}\\n{\"text\": \"Development of biodiesel industry can be a contribution to productivity growth. A large scale of investment was bring for biofuel development. Meanwhile, it boost economic growth and jobs opportunity, thereby enhance Gross Domestic Product (GDP).\", \"userid\": \"33882\", \"id\": \"1-306232\", \"cefr\": \"A1.ii\", \"edits\": [[0, [[14, 14, \" the\"], [38, 40, \"make\"], [112, 117, \"brought\"], [118, 121, \"to\"], [157, 162, \"boosted\"], [183, 187, \"job\"], [188, 199, \"opportunities\"], [209, 216, \"enhancing\"]]]]}\\n{\"text\": \"If you are living in big town or small It does matter but one thing should be taking care by the people and organiser of the town, is environment.Global warming  is huge issue in today\\'s date. Government should take immense action to stop it or at least make it slow down. However we the people have really important part of making it worse.Active and a good government understand the value of taking care of trees and water and air and much more to provide a fresh, clean and safe environment to their people.Recycling item can be a good step to start with clean and safe environment which is perfectly and promptly taking care by my city.Everyone have to plant a tree in front of their home with the rule of province government.People is not realizing that cutting the tree can reduce the production of oxygen in atmosphere. Eventually human will have no more fresh air to breath.\\\\n\\\\nAdditionally, our city government has prohibited smoking in public area and under 18 year old and provides a free session of talk or presentation to increase the awareness of clean, safe, fresh environment to the city.  \\\\n\\\\nIn conclusion, I would suggest to our neighbour cities to taking part of cleaning environment so one day it can be seen in whole country. \", \"userid\": \"32480\", \"id\": \"1-309722\", \"cefr\": \"A2.ii\", \"edits\": [[0, [[7, 17, \"live\"], [20, 20, \" a\"], [32, 32, \" a\"], [38, 38, \" one,\"], [39, 41, \"it\"], [42, 46, \"doesn\\'t\"], [53, 53, \",\"], [67, 67, \" that\"], [78, 84, \"taken\"], [89, 89, \" of\"], [108, 117, \"organisers\"], [133, 133, \" the\"], [146, 146, \" \"], [164, 164, \" a\"], [176, 191, \"these days\"], [193, 203, \"Governments\"], [216, 223, null], [280, 280, \",\"], [283, 283, \",\"], [294, 294, \",\"], [295, 299, \"play a\"], [322, 324, \"in\"], [341, 341, \" \"], [347, 347, \" \"], [494, 496, \"for\"], [510, 510, \" \"], [520, 524, \"items\"], [557, 557, \" for a\"], [584, 584, \",\"], [617, 623, \"taken\"], [628, 628, \" of\"], [640, 640, \" \"], [649, 653, \"has\"], [693, 697, \"according to\"], [698, 701, \"a\"], [709, 709, \" the\"], [710, 718, \"provincial\"], [730, 730, \" \"], [737, 739, \"do\"], [744, 753, \"realize\"], [766, 766, \" down\"], [767, 770, \"a\"], [814, 814, \" the\"], [837, 837, \",\"], [838, 843, \"humans\"], [875, 881, \"breathe\"], [951, 955, \"areas\"], [969, 973, \"years\"], [1009, 1013, \"talks\"], [1017, 1029, \"presentations\"], [1058, 1058, \" the importance of a\"], [1136, 1139, \"\"], [1160, 1163, \"\"], [1164, 1170, \"take\"], [1176, 1178, \"in\"], [1187, 1187, \" the\"], [1229, 1229, \"the \"]]]]}\\n{\"text\": \"Everybody has his favourite sport. My favourite sport is football game. On our school or villiage football stadium i spend a lot of time every day. Usually i play football with my classmates. Before training i ran 1-2 kilometres and my legs get a power and my body gets an energy. Our team has a hard-working coach and he gives professional  advice to us, how to improve football skills. His main words:\\\\\"You must work and work very hard,if you want to get high results\\\\\". I can say,that coach is experienced person. Not so long ago, we are had competition. The first place was gotting by us. We have achieved this result, because we are friendly and organised.\\\\nI believe, that in the future I will be a famous football player in teams such as Skhatar or Dynamo. Football is my life. I want to give advice to someone who starts this sport:\\\\\"You must believe in yorself\\\\\".\", \"userid\": \"18312\", \"id\": \"1-117150\", \"cefr\": \"A2.ii\", \"edits\": [[0, [[65, 70, \"\"], [72, 74, \"At\"], [89, 97, \"village\"], [115, 116, \"I\"], [155, 155, \",\"], [156, 157, \"I\"], [207, 207, \",\"], [208, 209, \"I\"], [210, 213, \"run\"], [244, 246, \"\"], [269, 272, \"\"], [354, 355, \" about\"], [370, 370, \" our\"], [397, 407, \"words: \\\\\"You\"], [432, 439, \"hard if\"], [456, 460, \"good\"], [477, 485, \"say that this\"], [494, 494, \" an\"], [534, 538, \"\"], [542, 542, \" a\"], [556, 590, \"We won first place.\"], [593, 598, \"\"], [619, 620, \"\"], [669, 670, \"\"], [807, 814, \"anyone\"], [831, 841, \"sport: \\\\\"You\"], [858, 865, \"yourself\"]]]]}\\n{\"text\": \"Hallo my firend,\\\\nWhat\\'s up? How are you? How was your day today? \\\\nIt\\'s really nice for your expressly e-mail yesterday. \\\\nYou regret that you weren\\'t there with me. I\\'ll try dicribe everything precisely, becouse I know that you very \", \"userid\": \"355\", \"id\": \"1-2065\", \"cefr\": \"A2.ii\", \"edits\": [[0, [[9, 15, \"friend\"], [83, 101, null], [172, 172, \" to\"], [173, 180, \"describe\"], [203, 210, \"because\"]]]]}\\n{\"text\": \"Dear Paul, \\\\n\\\\nI have seen your notice in the academy newspaper and I\\\\u2019m quite interested. I have no plans for this summer so I think it is a good idea to spend it. I was born in the UK so I can be a very good teacher of English. Although I came to Spain ten years later so I can speak with them in Spanish if it was necessary.\\\\n\\\\nAlso, I assisted to a ballet course for 4 years when I was young. It was a lot of time ago,however, I still keep the rhthym in my body! By the way, I remember I had to create a dynamic training to do with the other ballet-course members. I had to be the teacher for one day and I didn\\\\u2019t forget it because I felt wonderful. All members congratulated me,as well. \\\\n\\\\nOn the other hand, I had taken care of my brothers and cousins for many hours when they were very young. You must know that I\\\\u2019m a very responsible, kind and funny person. That makes me a good candidate to achieve the job, or the hobby for me! \\\\n\\\\nI hope you keep in mind my candidature because I\\\\u2019m not going to disappoint you.\\\\n\\\\nBest wishes, Julia.\\\\n\", \"userid\": \"36035\", \"id\": \"1-257482\", \"cefr\": \"A2.ii\", \"edits\": [[0, [[30, 36, \"advertisement\"], [119, 119, \",\"], [160, 160, \" \"], [182, 182, \",\"], [188, 191, \"could\"], [225, 235, \", although\"], [267, 267, \",\"], [273, 276, \"could\"], [334, 342, \"attended\"], [342, 345, \"\"], [401, 407, \"long\"], [413, 424, \"ago, but\"], [443, 449, \"rhythm\"], [519, 519, \" course\"], [606, 619, \"haven\\'t forgotten\"], [675, 680, \"me, as\"], [710, 719, \"took\"], [798, 802, \"should\"], [894, 901, \"get\"], [945, 957, \"consider\"], [972, 972, \",\"], [981, 997, \"won\\'t\"]]]]}\\n{\"text\": \"In my opinion public transport won\\'t be suffered by the shortage in demand. Because not everyone afford to buy their own car.\\\\nBesides there are lots of low income people who can\\'t buy their own car. So I think public transport\\'s future is bright.\", \"userid\": \"17944\", \"id\": \"1-121726\", \"cefr\": \"A1.ii\", \"edits\": [[0, [[13, 13, \",\"], [37, 48, \"suffer\"], [49, 51, \"from\"], [52, 55, \"a\"], [65, 67, \"of\"], [74, 83, \", because\"], [96, 96, \" can\"], [133, 133, \",\"], [152, 162, \"low-income\"]]]]}\\n{\"text\": \"What is the \\\\\"Family\\\\\" meaning? In my opinion, Family is the place that had you best friend can help each other and know each.In the Taiwan,many of people have to take care of them parent when they get old,but the point is what if you can not survival,I mean you don\\'t have enough money to raise you parent.Back to the topic,I don\\'t know well any of member of in my family,I don\\'t trust them,honestly.\", \"userid\": \"27235\", \"id\": \"1-184926\", \"cefr\": \"A1.i\", \"edits\": [[0, [[5, 7, \"does\"], [7, 11, \"\"], [21, 28, \"mean\"], [45, 51, \"family\"], [55, 89, null], [119, 126, \"each other. In\"], [126, 130, \"\"], [131, 142, \"Taiwan, many\"], [142, 146, \"\"], [174, 178, \"their\"], [179, 185, \"parents\"], [200, 207, \"old, but\"], [220, 220, \",\"], [233, 240, \"cannot\"], [241, 251, \"survive? I\"], [256, 256, \",\"], [288, 293, \"look after\"], [294, 297, \"your\"], [298, 309, \"parents. Back\"], [317, 324, \"topic. I\"], [335, 340, \"\"], [347, 347, \" the\"], [348, 354, \"members\"], [357, 360, \"\"], [364, 372, \"family well. I\"], [385, 398, \"them, to be honest\"]]]]}\\n{\"text\": \"I like NewZealand because there are many islands. By the way, NewZealand have a cool weather. In Malaysia, the weather is slightly warmer than there. That\\'s why I order all of you to go there and feel the pleasure and have a try their own food. You can also bought a lot of gifts like key chains, statue, or what else memories to be made before returning to Malaysia. I did not have to go to NewZealand but believe me it is very beautiful place. If I have sustenance, I will go there and bring all of you.\", \"userid\": \"12177\", \"id\": \"1-69967\", \"cefr\": \"A1.ii\", \"edits\": [[0, [[7, 17, \"New Zealand\"], [62, 72, \"New Zealand\"], [73, 77, \"has\"], [78, 79, \"\"], [163, 168, \"recommend\"], [229, 229, \"of \"], [235, 238, \"\"], [258, 264, \"buy\"], [279, 279, \",\"], [297, 303, \"statues\"], [308, 317, \"other\"], [318, 326, \"souvenirs\"], [327, 337, null], [370, 388, \"have not been\"], [392, 402, \"New Zealand\"], [406, 406, \",\"], [417, 417, \",\"], [424, 424, \"a \"], [456, 466, \"the means\"], [488, 493, \"take\"]]]]}\\n{\"text\": \"I live in Lentini, a small city in East Sicily. The local Council hasn\\'t a project for the environment. People collect any kind of rubbish and throws all together in black sack. Although the Council began to plan something, the people aren\\'t committed with the problem. Around the city, you can find many places where the people throw frigo, kitchen, \\\\\"amianto\\\\\", old  things or furniture. What a pity! The suburbs of Lentini could be wonderful. There are orange trees, a large lake and Etna in background.\", \"userid\": \"7160\", \"id\": \"1-31815\", \"cefr\": \"A2.ii\", \"edits\": [[0, [[58, 65, \"council\"], [66, 72, \"doesn\\'t have\"], [143, 149, \"throw\"], [150, 150, \"it \"], [172, 176, \"sacks\"], [191, 198, \"council\"], [252, 256, \"to\"], [318, 321, \"\"], [335, 340, \"fridges\"], [342, 349, \"ovens\"], [493, 493, \"the \"]]]]}\\n{\"text\": \"When I was a child, I had a lot friends and they were very important for me. We ever played in the park or we talked about our tastes, music, boys, we laugh a lot of... But when I was a teenager I began to live situations that I did not like it, for instance, the girls said to me bad things or they talked bad about me. In those years I lived the worst moments in my life. I remember when I celebreted my 15th birthday, only one schoolmate wanted to come to my party; I think that this day was one of the worst day of my life. There night I cried because I felt that I have not got any friends. However, my parents tried that my party was the best and they prepared for me a special birthday and they invited all my cousins and together went to eat pizza and gave me a lot of presents.\\\\n\\\\nIn there moment, I thought that my best friends was my parents and sister. I knew that they never talk bad about me.\\\\n\\\\nNow, my husband is my best friend. He is the most important people of my life. He has ever been with me. Also, he is very funny and I laugh a lot with him. Both like to travel around the world and to practise some sports, for example, tennis, running or trekking. We like watching TV series and cooking several desserts too.\\\\n\\\\nTo sum up, my best friends are my family, especially, David, my husband.\\\\n\", \"userid\": \"26463\", \"id\": \"1-195263\", \"cefr\": \"A2.ii\", \"edits\": [[0, [[69, 72, \"to\"], [80, 84, \"always\"], [151, 156, \"laughed\"], [194, 194, \",\"], [206, 210, \"experience\"], [241, 244, \"\"], [259, 263, \"\"], [275, 291, \"bad things to me\"], [307, 310, \"unkindly\"], [335, 335, \",\"], [338, 343, \"went through\"], [362, 364, \"of\"], [384, 384, \",\"], [392, 402, \"celebrated\"], [467, 468, \".\"], [482, 486, \"that\"], [512, 515, \"days\"], [528, 533, \"That\"], [539, 539, \",\"], [570, 582, \"didn\\'t have\"], [621, 621, \" to make it so\"], [667, 692, \"a special birthday for me\"], [728, 728, \" we\"], [737, 737, \" we\"], [759, 759, \" they\"], [788, 790, \"At\"], [791, 796, \"that\"], [836, 839, \"were\"], [879, 879, \" would\"], [891, 894, \"unkindly\"], [966, 972, \"person\"], [973, 975, \"in\"], [992, 996, \"always\"], [1062, 1066, \"We both\"], [1106, 1114, \"do\"], [1209, 1216, \"different\"], [1225, 1225, \",\"]]]]}\\n{\"text\": \"Life of people around the globe is becoming busier and busier day by day. A busy life always compell to use the fastest and most convenient mode of transportation,which has made public transportation system lag behind motor cars.\", \"userid\": \"28260\", \"id\": \"1-194450\", \"cefr\": \"A1.i\", \"edits\": [[0, [[0, 4, \"The lives\"], [93, 100, \"compels us\"], [148, 168, \"transportation, which\"], [200, 206, \"systems\"]]]]}\\n{\"text\": \"Hi USA SUMMER CAMPS, \\\\n\\\\nThis advertisement for a job has been reading by suitable person.\\\\nMy name is Mar\\\\u00eda, I am from Spain.\\\\n\\\\nI am interested in this work because I enjoy travelling and I am teacher so I like working with the children. I am sure that I will look after children very well.\\\\nI would like to speak English perfectly so I think up the idea about if I work in summer camps, I will improve my level English.\\\\nFor the other hand, I could teach Spanish to the children in the summer camps.\\\\n\\\\nI am waiting yours answer.\", \"userid\": \"11523\", \"id\": \"1-74853\", \"cefr\": \"A2.ii\", \"edits\": [[0, [[0, 2, \"Dear\"], [61, 68, \"read\"], [72, 72, \"a \"], [105, 106, \".\"], [190, 190, \"a \"], [197, 197, \",\"], [221, 224, \"\"], [268, 268, \"the \"], [327, 327, \",\"], [339, 356, \"\"], [408, 408, \"of \"], [417, 420, \"On\"], [502, 509, \"looking forward to\"], [510, 515, \"your\"]]]]}\\n{\"text\": \"Hi Sam\\\\n\\\\nHow are you? are yo still living in Madrid?\\\\n\\\\nYes, I started my lessons the last month and it\\'s very interesting. I\\'m lerning a lot and the students are very friendly. But I need to study harder because I want to pass the exam, and it\\'s very dificult. However, if I carry on studying like now, i will do it.\\\\n\\\\nThe lessons are very funny\", \"id\": \"5-127330\", \"cefr\": \"A2.i\", \"edits\": [[0, [[21, 24, \"Are\"], [25, 27, \"you\"], [78, 82, \"\"], [125, 132, \"learning\"], [249, 257, \"difficult\"], [301, 302, \"I\"], [342, 342, \".\"]]]]}\\n{\"text\": \"Dear Sir or madam:\\\\n\\\\nI have seen your announcement in the newspaper and I am interested to apply for.\\\\nI can speak English and I am a lovely, energetic and hardworking person besides I have recommended paper from\\\\nmy last company.\\\\n\\\\nI have been working like a childhood teacher in a school and I am qualified.\\\\nBesides I have cooking skills and I love to cook.\\\\n\\\\nI hope you are interested in my application.\\\\n\\\\nI am looking forward to hearing from you.\\\\n\\\\nSandra Barrientos\", \"userid\": \"21046\", \"id\": \"1-189211\", \"cefr\": \"A2.i\", \"edits\": [[0, [[12, 17, \"Madam\"], [17, 18, \",\"], [37, 49, \"advertisement\"], [87, 89, \"in\"], [90, 95, \"applying\"], [99, 99, \" \"], [172, 180, \". In addition,\"], [187, 187, \" a\"], [188, 205, \"reference\"], [249, 253, \"as\"], [256, 265, \"primary\"], [306, 313, \"In addition,\"]]]]}\\n{\"text\": \"the tecnology have chanched the people\\'s life very much.in fact we can think how different is our life respect either to our parents or our grandparents life.for example my parents didn\\'t whacth on tv, because there wasn\\'t any tv on the world when they were young.but it isn\\'t the alone difference:we can think at the mobilefone,the computer ed at least the internet.our grandparents woundn\\'t imagine a strange machine like computer in their life.\", \"userid\": \"14941\", \"id\": \"1-138875\", \"cefr\": \"A1.i\", \"edits\": [[0, [[0, 13, \"Technology\"], [14, 18, \"has\"], [19, 27, \"changed\"], [27, 31, \"\"], [41, 45, \"lives\"], [46, 58, \"a lot. In\"], [63, 63, \",\"], [91, 102, \"our life is\"], [103, 110, \"compared\"], [111, 120, \"to either\"], [132, 132, \"\\'\"], [152, 152, \"\\'\"], [153, 161, \"lives. For\"], [169, 169, \",\"], [188, 194, \"watch\"], [194, 197, \"\"], [198, 200, \"TV\"], [227, 229, \"TV\"], [230, 232, \"in\"], [258, 267, \"young. But\"], [268, 270, \"that\"], [281, 286, \"only\"], [287, 300, \"difference: we\"], [311, 313, \"about\"], [318, 332, \"mobile phone, the\"], [342, 344, \"and\"], [345, 353, \"finally\"], [358, 370, \"internet. Our\"], [384, 392, \"couldn\\'t have\"], [393, 400, \"imagined\"], [423, 423, \" the\"], [442, 446, \"lives\"]]]]}\\n{\"text\": \"Although the fact that personal vehicle like car now is popular, in the future, the stance of public transport is still very crucial. \\\\n\\\\nNowaday, people use fossil fuel as the most important source of energy for travelling, manufacturing, this source of energy doesn\\'t always maintain at the constant level, but someday it will be run out. People must find ways to use other energy sources like nuclear electricity, wind power, public transportation such as electric metro use this kind of energy. As a result, governments will invest more in researching the usage of these new types of energy, travelling using public transport will become much cheaper than personal car. The range of public services will be expanded to remote areas, it become much more convenient. Commuting, travelling using public services will be the first prior choice.\\\\n\\\\nIn addition, the population is increasing rapidly, in the near future, almost cities in the world will become overcrowded, It will lead to many other problems to be solved, for example, traffic jams, air pollution. In some perespectives, these problems are led by the over-using of personal vehicle. People will realise that using their own car is just to waste their time for traffic jams or to gradually killing themselves for breathing polluted air. So the best way for them to travel is public transpotations. \\\\nEach person should practice saving when using any source of eneny to protect his own live. \\\\nIn conclusion, investments on developing public transport will be increased considerably, public services of travelling have a bright potential and it\\'s stance in the future can\\'t be replaceble\\\\n\", \"userid\": \"5290\", \"id\": \"1-25038\", \"cefr\": \"A2.ii\", \"edits\": [[0, [[0, 8, \"Despite\"], [32, 39, \"vehicles\"], [45, 45, \"the \"], [49, 55, \"are now\"], [84, 90, \"existence\"], [111, 113, \"will\"], [120, 120, \"be \"], [120, 124, \"absolutely\"], [136, 143, \"Nowadays\"], [163, 167, \"fuels\"], [221, 222, \" and\"], [236, 242, \". This\"], [275, 283, \"remain\"], [287, 290, \"a\"], [307, 310, \"and\"], [327, 329, \"\"], [402, 413, \"power\"], [413, 414, \" and\"], [425, 433, \". Public\"], [457, 457, \"the \"], [558, 563, \"use\"], [594, 594, \"and \"], [658, 658, \"a \"], [658, 658, \"using \"], [658, 666, \"private\"], [735, 735, \"and \"], [738, 738, \"will \"], [776, 777, \" and\"], [829, 841, \"priority\"], [893, 897, \". In\"], [915, 921, \"most\"], [965, 966, \".\"], [967, 969, \"This\"], [1003, 1003, \"that will need \"], [1015, 1020, \". For\"], [1042, 1043, \" and\"], [1067, 1080, \"ways\"], [1101, 1104, \"caused\"], [1112, 1122, \"overuse\"], [1135, 1142, \"vehicles\"], [1197, 1199, \"\"], [1200, 1205, \"wasting\"], [1217, 1220, \"in\"], [1237, 1239, \"\"], [1269, 1272, \"by\"], [1342, 1356, \"transport\"], [1394, 1394, \"energy \"], [1419, 1424, \"energy\"], [1444, 1448, \"life\"], [1478, 1480, \"in\"], [1539, 1547, \". Public\"], [1548, 1570, \"transport services\"], [1585, 1594, \"future\"], [1599, 1603, \"their\"], [1604, 1610, \"existence\"], [1634, 1644, \"replaced\"], [1644, 1644, \".\"]]]]}\\n{\"text\": \"Hello Alex, how are you. Are you free for weckend, have you any plans. Me and my friends go to the cinema, and I invite you to go with us. If you are interesedt, find me at 8  clock near the cinema entrance.\", \"userid\": \"581a3e0c-540f-4b8d-98dc-5726f986f984\", \"id\": \"5-150714\", \"cefr\": \"A1.i\", \"edits\": [[0, [[23, 24, \"?\"], [38, 41, \"at the\"], [42, 49, \"weekend\"], [49, 50, \"?\"], [51, 55, \"Have\"], [59, 59, \" got\"], [69, 70, \"?\"], [89, 91, \"are going\"], [112, 112, \" am\"], [113, 119, \"inviting\"], [150, 160, \"interested\"], [162, 166, \"meet\"], [175, 175, \"o\\'\"], [175, 176, \"\"]]]]}\\n{\"text\": \"Thank you Helen for those wonderful presents. I always want to read these type of book. I went to temple in the morning followed by lunch at the hotel latter in the evening went to the beach.\", \"userid\": \"5801fefc-3802-45c1-9c39-04a178c4c50e\", \"id\": \"5-53757\", \"cefr\": \"A1.ii\", \"edits\": [[0, [[68, 73, \"this\"], [150, 150, \". Then\"], [151, 157, \"later\"], [172, 172, \" I\"]]]]}\\n{\"text\": \"In conclusion it is evident that because developing countries are facing political and economic instability, migrants travel for better education prospects and stable environment for younger generation to grow up. \\\\n\\\\nThe effects of brain drain are that it creates a shortage of people qualified for professional jobs, economic stability is affected as a result of lack of people contributing to the economy. \\\\n\\\\nThe cause of Brain-drain should be tackled at international and national level on a broader dimensions and rational pattern, for it is a global issue. \\\\n\\\\nIn this situation, developing nations should take control of inflation; focus on boosting up the infrastructure and law enforcement to support public in a positive manner.\\\\n\", \"userid\": \"28764\", \"id\": \"1-198780\", \"cefr\": \"A2.ii\", \"edits\": [[0, [[13, 13, \",\"], [155, 155, \" a\"], [182, 182, \" the\"], [212, 212, \" in\"], [315, 325, \". Economic\"], [362, 362, \" a\"], [422, 433, \"brain-drain\"], [482, 487, \"levels\"], [501, 511, null], [515, 515, \" more\"], [534, 537, \"because\"], [651, 654, \"\"], [704, 704, \" the\"], [726, 732, \"way\"]]]]}\\n{\"text\": \"There isn\\\\u00b4t too feww oxygen at the top of Everest to breathe easily\\\\nJordan Romero has got 13 when he climbed Everest in May 2010.\\\\nMount Everest is so high that it is very difficult to climb.\\\\nthe top was reached for the first time by two climbers in 1953.\", \"userid\": \"10874\", \"id\": \"1-60346\", \"cefr\": \"A2.ii\", \"edits\": [[0, [[12, 20, \"enough\"], [67, 67, \".\"], [82, 89, \"was\"], [191, 194, \"The\"]]]]}\\n{\"text\": \"My friends and I, we like a programs of TV, electronic music, fashionable clothes. I prefer all. Sometimes we are going to the party\\\\u00b4s in the city, I am dancing in the party with my friends. They listen to the music and can we are singing. It\\\\u00b4s very good.\\\\nJason is my friend, he is drunk and also he dance with your girfriend. Jose is the best song. he is singing and talking in the party.  Other person is Angel, he don\\\\u00b4t dance in all place. He prefer study in your home.\", \"userid\": \"38098\", \"id\": \"1-280761\", \"cefr\": \"A1.i\", \"edits\": [[0, [[16, 20, \"\"], [25, 27, \"\"], [28, 42, \"TV programs\"], [85, 91, \"like\"], [92, 95, \"everything\"], [110, 119, \"go\"], [122, 126, \"\"], [127, 134, \"partyies\"], [146, 147, \".\"], [150, 160, \"dance\"], [161, 163, \"at\"], [168, 173, \"parties\"], [205, 209, \"\"], [219, 223, \"\"], [227, 238, \"sing\"], [292, 299, \"he also\"], [300, 305, \"dances\"], [311, 315, \"his\"], [316, 325, \"girlfriend\"], [344, 348, \"singer\"], [350, 352, \"He\"], [353, 363, \"sings\"], [368, 375, \"talks\"], [376, 378, \"at\"], [391, 396, \"Another\"], [412, 416, \". He\"], [417, 422, \"doesn\\\\u00b4t\"], [429, 441, \"anywhere\"], [446, 452, \"prefers to\"], [459, 466, \"at\"]]]]}\\n{\"text\": \"Hello Something. \\\\nMy names is Steven and I\\'m 14 years old. I\\'m living in german. In the moment I visit the Secondary modern school. I\\'m in grade 8. My life is difficult because I have to realize everything. For example there are girl she is in my class she is beautiful. I love her look. Her eyes looks as the sun. But she is ignored me. I hope I can forget her. \\\\n\\\\n\", \"userid\": \"33284\", \"id\": \"1-233389\", \"cefr\": \"A1.i\", \"edits\": [[0, [[15, 16, \",\"], [21, 26, \"name\"], [59, 69, \"I live\"], [73, 79, \"Germany\"], [81, 83, \"At\"], [97, 102, \"go to\"], [103, 106, \"a\"], [107, 116, \"secondary\"], [187, 194, null], [218, 218, \",\"], [225, 228, \"is a\"], [233, 240, \"\"], [252, 252, \" and\"], [297, 302, \"look\"], [303, 305, \"like\"], [323, 333, \"ignores\"]]]]}\\n{\"text\": \"Run for your life\\\\n\\\\nMy favourite sport is run. I like to running fast so fast in fact that it feel me as if I run on air and the feet do not hardly touch the ground between the strides. My favourite place to run is in the forest but I like to run sportive too. I am likeing to feel the ground under my feet is soft so soft not the hard concrete of the footpaths in the city of the streets.\\\\n\\\\nThe bestest advice I can giving to someone who is starting the running is to starting slowly and not to try to run too fast but then to eventually build up the running week by week so that every week you are running a little more further and a little more faster and then after 20 years you will be an Olympic champion maybe. \", \"userid\": \"8404\", \"id\": \"1-82885\", \"cefr\": \"A2.ii\", \"edits\": [[0, [[41, 44, \"running\"], [56, 63, \"run\"], [68, 68, \",\"], [93, 97, \"feels\"], [98, 100, \"\"], [109, 112, \"am running\"], [124, 127, \"my\"], [132, 139, \"\"], [171, 175, \"\"], [227, 227, \",\"], [246, 254, null], [262, 272, \"like\"], [313, 313, \",\"], [321, 321, \",\"], [368, 387, \"streets of the city\"], [394, 401, \"best\"], [415, 421, \"give\"], [448, 452, \"\"], [467, 475, \"start\"], [513, 513, \",\"], [614, 619, \"\"], [640, 645, \"\"], [661, 661, \",\"], [676, 676, \",\"]]]]}\\n{\"text\": \"In my opinion, television can be educational. Whether you are watching the news or a show about World War One. Of course, it\\'s important to choose the right television shows. If you\\'re watching Tom & Jerry, it hardly will have any educational value. Although one could argue that you can always learn something. A friend of mine recently explained that if a zombie apokalyspe should happen he would be prepared because he has been watching Walking Dead for some time now - so in his eyes, he learned how (not) to act in that case. \\\\n\", \"userid\": \"38446\", \"id\": \"1-284912\", \"cefr\": \"A2.i\", \"edits\": [[0, [[210, 221, \"will hardly\"], [365, 375, \"apocalypse\"], [389, 389, \",\"]]]]}\\n{\"text\": \"today I want to write about my job. I\\'m a forensic biologist and I deeply love my job. It is a job with a lot of interesting aspects, It is dynamic, stimulating and, even if it is not well remunerated, I feel myself satisfied. In the last few years forensic biology has developed many aspects like better sensibility, robustness of results and less time required for analyze a sample, but what struck me most is how fast this change happens.\", \"userid\": \"28023\", \"id\": \"1-192375\", \"cefr\": \"A1.ii\", \"edits\": [[0, [[0, 5, \"Today\"], [132, 133, \".\"], [208, 215, \"\"], [248, 248, \",\"], [305, 316, \"sensitivity\"], [367, 374, \"analyzing\"], [433, 440, \"has happened\"]]]]}\\n{\"text\": \"Television seems to be a controversial tool. Here there is one: do television offer highly likely opportunities for the audience in an educational way? From my experience knowledge, I believe television cover both entertaining and educational functions.\\\\nIt notes how many educational programmes broaden young children\\'s horizons in the past few years,how quickly an adult learn different basics from a great deal number of educational programmes, such as cooking, science and technology. It also notes educational programmes make a decision on what citizens should know in the future and what knowledge our next generations are required to possess.\\\\nApart from eduational contents, there are so many foul contents, business advertisements and fake information on TV that citizens won\\'t be able to tell right from wrong.\\\\nHowever, I believe the educational programmes on TV still plays a vital role in educating both adults and young children.\", \"userid\": \"32606\", \"id\": \"1-232450\", \"cefr\": \"A2.i\", \"edits\": [[0, [[39, 43, null], [64, 66, \"does\"], [67, 150, null], [170, 180, \"\"], [203, 208, \"has\"], [214, 226, \"entertainment\"], [254, 262, null], [345, 354, \"years ,how\"], [372, 377, \"learns\"], [407, 412, \"\"], [488, 501, null], [660, 670, \"educational\"], [671, 679, \"content\"], [687, 690, \"is\"], [694, 698, \"much\"], [699, 703, \"bad\"], [704, 712, \"content\"], [877, 882, \"play\"]]]]}\\n{\"text\": \"I think who the best restaurant where we can go is \\\\\"the sailor\\'s restaurant\\\\\"\\\\nHere we can eat typical Italian food. The last time who I was here I have eat the best pizza that I have ever eat in my life.\\\\n The atmosphere remind the theme of the sea in fact the walls are decorating with a lot of shell and the waiters are dressed like sailors: I think that it\\'s a great idea! \\\\nAlso, It\\'s perfect for our class because there is a lot of space so we can sit all together at the same table.\\\\nthe owner is a very kind person and I\\'m sure who he makes us a convenience price. \\\\n\", \"userid\": \"25171\", \"id\": \"1-173248\", \"cefr\": \"A2.ii\", \"edits\": [[0, [[7, 11, \"\"], [31, 37, \"\"], [47, 47, \" to\"], [52, 55, \"The\"], [56, 62, \"Sailor\"], [65, 75, \"Restaurant\"], [76, 76, \".\"], [77, 81, \"There\"], [128, 132, \"\"], [139, 143, \"there\"], [146, 154, \"ate\"], [187, 190, \"eaten\"], [219, 225, \"reminds\"], [226, 235, \"one\"], [246, 249, \". In\"], [254, 254, \",\"], [269, 279, \"decorated\"], [294, 299, \"shells\"], [381, 383, \"it\"], [439, 439, \",\"], [486, 489, \"The\"], [530, 534, \"\"], [538, 543, \"will give\"], [549, 560, \"good\"]]]]}\\n{\"text\": \"No future for public transport?\\\\n\\\\nPublic transport is the cheaper way of travel, so it has future.\\\\n\\\\n\\\\nCurrently, most people is used to use their own car to get to work or to go shopping, due to, it is more comfortable. But cars pollute the air with CO2 emissions every day and contribute to the climate change.\\\\nSo, if people were aware of this subject wouldn\\'t use so much their own car.\\\\n\\\\nIn addition, having a car is very expensive. First of all you need can afford to buy it, after that, you must pay for the asurance, council tax, and mechanic bills, and so on.\\\\n\\\\nwhereas in a public transport, you only have to pay the ticket, you don\\'t have to drive and if the bus or train or whatever vehicle you use, breacks down it isn\\'t your responsibility. \\\\nBesides, public transport  pollute less than cars. \\\\n\\\\nIn conclusion, I think public transport has future, and the more people use it, the more future will have.\", \"userid\": \"11069\", \"id\": \"1-61738\", \"cefr\": \"A2.ii\", \"edits\": [[0, [[72, 78, \"travelling\"], [90, 90, \"a \"], [123, 125, \"are\"], [134, 137, \"using\"], [192, 193, \"\"], [197, 199, \"being\"], [290, 293, \"\"], [350, 350, \",\"], [351, 351, \"they \"], [364, 385, \"their own car so much\"], [445, 445, \",\"], [455, 458, \"to be able to\"], [475, 482, \". After\"], [510, 518, \"insurance\"], [520, 527, \"road\"], [537, 545, \"mechanic\\'s\"], [565, 572, \"On the other hand\"], [572, 572, \",\"], [573, 575, \"with\"], [576, 577, \"\"], [617, 617, \"for \"], [652, 652, \",\"], [704, 705, \"\"], [706, 713, \"breaks\"], [718, 718, \",\"], [777, 784, \"pollutes\"], [847, 847, \"a \"], [899, 899, \"it \"]]]]}\\n{\"text\": \"I\\'m your employee, to serve on your company.\\\\nVery pleased to be able to receive your salary payment. But pay a little low.\\\\nI completed many tasks, including tutoring three students complete summer homework, correcting homework diligently assist the instructor, the instructor helped organize handouts, instead of the instructor to answer questions raised by the students, but also to clean the classroom hygiene, very hard, but I have nothing to complain about.\\\\nI work hard for two months, pay a lot.\\\\nJust your wage paid too much lower than I expected, I want a little higher wages, payment of 300 yuan more than the existing wage basis. I invite you to consider the proposal.\\\\n\", \"userid\": \"22284\", \"id\": \"1-317472\", \"cefr\": \"A1.ii\", \"edits\": [[0, [[18, 18, \" I\"], [19, 27, \"work\"], [28, 30, \"for\"], [104, 104, \" the\"], [108, 108, \" is\"], [180, 180, \",\"], [181, 189, \"completing\"], [226, 226, \",\"], [238, 244, \"assisting\"], [261, 282, \"helped the instructor\"], [302, 328, null], [381, 389, \"cleaning\"], [403, 411, \"\"], [422, 422, \" work\"], [489, 489, \" \"], [501, 505, \"It\\'s just that\"], [521, 524, \"is\"], [551, 552, \".\"]]]]}\\n{\"text\": \"I think about transport that the government has to help the public transport, for example bus, train, metro and more, for the only one reason: the quality of life against the pollution. \\\\nTravelling by car is more convenient in a lot of situation, but it could be annoying for search parking and for cost of fuel, and also maintenance cost.\\\\nIn big cities public transport works well because there\\'s a good feedback by people. Instead in the small cities, it can\\'t be good in the same way, because for the transport companies it\\'s not convenient invest money, because fewer people would use it.\", \"userid\": \"22038\", \"id\": \"1-148408\", \"cefr\": \"A1.ii\", \"edits\": [[0, [[8, 24, \"\"], [44, 50, \"should\"], [90, 93, \"buses\"], [95, 100, \"trains\"], [101, 101, \" the\"], [122, 125, \"a\"], [126, 134, \"single\"], [163, 184, null], [236, 245, \"situations\"], [272, 275, \"to\"], [282, 282, \" for\"], [290, 290, \" spaces\"], [295, 298, \"because of the\"], [334, 338, \"costs\"], [353, 353, \",\"], [398, 400, \"\"], [414, 416, \"from\"], [425, 432, \"Conversely,\"], [435, 439, \"\"], [446, 452, \"towns\"], [495, 495, \",\"], [523, 523, \",\"], [543, 543, \" to\"], [556, 556, \" in transport\"]]]]}\\n{\"text\": \"Tom Sawyer was a boy that lived with his aunt Polly and she had to punish Tom because sometimes Tom didn\\'t go to school. On Monday Tom went walking to school and he saw his friend Huck which they talk a lot and Tom exchanged a tick for his tooth. Then he saw a beautiful girl named Becky so Tom talk to her at school and they went into a secret garden and Tom kissed Becky. Tom say to her of another girl so she got mad and she ignored Tom. Tom was so sad because Becky didn\\'t to talk with him so Tom went on a trip with Huck and disappeared for weeks. When Tom saw his house he sneak into his house and saw he aunt Polly crying for him. So the next day the people of the town went to church to hear the funeral of Tom because many people thought that Tom was dead but suddenly Tom open the door and got in so everybody was so surprised to see Tom. The next day Huck went to Tom\\'s house to tell him that there is an abandoned house up the hill so the two boys considered like an andventure. So they went to the misterious house and when they were inside they heard voices so Tom and Huck hide and they saw that Injuin Joe was the one that was talking. the two boys heard that he was planing to steal some money and kill people so the boys start their adventure on stoping Injuin Joe...\", \"userid\": \"16044\", \"id\": \"1-108702\", \"cefr\": \"A2.ii\", \"edits\": [[0, [[77, 77, \",\"], [130, 130, \",\"], [135, 139, \"was\"], [185, 190, \"and\"], [196, 200, \"talked\"], [227, 231, null], [287, 287, \",\"], [295, 299, \"talked\"], [378, 381, \"said \"], [381, 381, null], [389, 391, \"about\"], [404, 404, \",\"], [485, 489, \"to\"], [493, 493, \",\"], [575, 575, \",\"], [579, 584, \"sneaked\"], [608, 610, \"his\"], [653, 653, \",\"], [695, 699, \"attend\"], [718, 718, \",\"], [764, 768, \". But\"], [782, 786, \"opened\"], [800, 803, \"went\"], [806, 806, \",\"], [861, 861, \",\"], [910, 912, \"was\"], [943, 943, \",\"], [960, 975, null], [979, 989, \"adventure\"], [1011, 1021, \"mysterious\"], [1071, 1071, \",\"], [1088, 1092, \"hid\"], [1152, 1155, \"The\"], [1183, 1190, \"planning\"], [1226, 1226, \",\"], [1239, 1244, \"started\"], [1261, 1263, \"with\"], [1264, 1271, \"stopping\"]]]]}\\n{\"text\": \"Hi, jo. Thank you for your message. I will do my best to answer your questions.\\\\nAs for your questions, I think that you should work in Japanese restaurant,such as Japanese  \\\\\"ryotei\\\\\" and \\\\\"izakaya\\\\\". \\\\nThat is because you will improve your Japanese skill in them. Recently, many south East Asians have studied Japanese in Japan while working in them. By improving their Japanese skills,in Japan they have the opportunity to get a job.\", \"userid\": \"30187\", \"id\": \"1-305631\", \"cefr\": \"A1.i\", \"edits\": [[0, [[4, 6, \"Jo\"], [134, 134, \" a\"], [144, 159, \"restaurant, such\"], [244, 250, \"\"], [251, 258, \"there\"], [281, 285, \"east\"], [375, 384, \"skills in\"], [390, 390, \",\"]]]]}\\n{\"text\": \"Michael closed the door and knew at that moment he had made a mistake. He was at Sarah\\\\u00b4s house when suddenly he left all the bathroom dirty and went to his house. so he went back to Sarah\\\\u00b4s house and clean all the bathroom, but Sarah already knew that he left the bathroom like this so before Michael entered to the bathroon she said: \\\\\"I know what you leave there\\\\\" and Michael went running to the bathroom. \", \"userid\": \"41501\", \"id\": \"1-309093\", \"cefr\": \"A1.ii\", \"edits\": [[0, [[116, 120, \"\"], [163, 165, \"So\"], [200, 205, \"cleaned\"], [206, 213, \"the whole\"], [254, 254, \" had\"], [278, 282, \"that,\"], [309, 311, \"\"], [316, 324, \"bathroom\"], [352, 357, \"left\"]]]]}\\n{\"text\": \"Hi Julie,\\\\n\\\\nMy school is located in the centre of the city in Bangalore, India. My school has a unique reputation for their friendliness and the quality of education.\\\\n\\\\nI like my maths teacher very much because her teaching style is very realistic and simple to understanad.\", \"userid\": \"5837bc97-0fe3-4629-a788-051cda8a1b1a\", \"id\": \"5-152185\", \"cefr\": \"A2.ii\", \"edits\": [[0, [[117, 122, \"its\"], [260, 271, \"understand\"]]]]}\\n{\"text\": \"Good Morning:\\\\n\\\\nThis is an esay about my favourite sport,it is swimming since I was a child because always enjoy a lot and what is more I can do it alone, I never refuse to go swimming pool and less in summer, of course.\\\\nI don\\\\u00b4t have friends who like swimming, almost like football or similar teams sports, and always I go alone it isn\\\\u00b4t boring for me furthermore, I prefer going alone because anybody bother me or I haven\\\\u00b4t wait anybody. I said that because when I was eleven my best friend had been operated on her back and before the operation he came with me and every day I had to wait for her because she spendt a lot of time in the shower cleaning her long hais, I hated that! Luckily the operation was fine and she left to come with me, and since that day I go for my own.\\\\nSwim is a relaxing exercise for me and normally there aren\\\\u00b4t many people in the pool, but sometimes there are children and I don\\\\u00b4t like so much because they like disturbing me but sometimes it is amusing too.\\\\nI would recommended to people who not know swim to learn,because I am pretty sure that it like it and later they can stop swim.\", \"userid\": \"9618\", \"id\": \"1-57503\", \"cefr\": \"A2.ii\", \"edits\": [[0, [[55, 58, \". It\"], [59, 61, \"has been\"], [90, 90, \",\"], [99, 99, \"I \"], [112, 112, \"it \"], [121, 121, \",\"], [134, 134, \",\"], [152, 153, \".\"], [162, 168, \"miss a chance\"], [175, 175, \"the \"], [175, 175, \"to \"], [193, 197, null], [258, 259, \".\"], [260, 266, \"Most\"], [292, 297, \"team\"], [306, 309, \"so\"], [310, 318, \"I always\"], [327, 330, \". It\"], [350, 362, \". Furthermore\"], [393, 400, \"nobody\"], [401, 407, \"bothers\"], [411, 413, \"and\"], [416, 423, \"don\\'t have to\"], [429, 429, \"for \"], [495, 499, \"\"], [500, 508, \"an operation\"], [524, 524, \",\"], [545, 545, \",\"], [565, 565, \",\"], [575, 575, \",\"], [610, 616, \"spent\"], [663, 667, \"hair\"], [667, 668, \".\"], [690, 690, \",\"], [722, 726, \"stopped\"], [727, 729, \"\"], [730, 734, \"coming\"], [762, 762, \",\"], [768, 771, \"on\"], [780, 784, \"Swimming\"], [788, 789, \"\"], [864, 869, \". But\"], [916, 916, \"that \"], [955, 959, \". But\"], [983, 983, \",\"], [1009, 1011, \"\"], [1023, 1023, \"do \"], [1032, 1032, \" to \"], [1032, 1032, \"how\"], [1045, 1046, \", \"], [1076, 1078, \"they\"], [1079, 1079, \"will \"], [1111, 1115, \"swimming\"]]]]}\\n{\"text\": \"I think that dance is a way for self-expression. It\\'s not just a hobby, it\\'s more than this. Dance is a passion, a type of life. When I\\'m dancing I forget all my problems, except my stupids companions that they don\\'t understand anything. But this is another theme for speaking. When you dance, sing, or act you are showing something to the public, something that\\'s important por you. If dance is your passion, you practise every day, and you\\'ll keep practise all the days until you can. If you are tired doesn\\'t matters, because you like that you\\'re doing. You\\'ll wake up early for going dance, or do dance classes. You don\\'t matter if you go to sleep late, or don\\'t sleep... That\\'s a joke, you must sleep. \\\\nIf you love dance, you\\'ll understand me. \", \"userid\": \"11316\", \"id\": \"1-63244\", \"cefr\": \"A2.ii\", \"edits\": [[0, [[24, 27, \"means\"], [28, 31, \"of\"], [70, 71, \";\"], [87, 91, \"that\"], [115, 119, \"way\"], [182, 189, \"stupid\"], [205, 210, \"\"], [263, 276, null], [306, 306, \",\"], [375, 378, \"to\"], [450, 458, \"practising\"], [462, 466, \"\"], [467, 471, \"day\"], [503, 503, \", it\"], [512, 519, \"matter\"], [538, 542, \"what\"], [578, 581, \"to\"], [582, 587, \"go\"], [588, 593, \"dancing\"], [598, 600, \"take\"], [626, 632, \"mind\"], [689, 694, \". You\"]]]]}\\n{\"text\": \"Members of my family. i love my family special my little sister, she has sixteen years old, i consider my best friend because i used to tell her everything of my life. \\\\ni have a dog it name\\'s chente, it is a golden retriver. It`s a lover dog, he  knows how i feel. My oldest sister her name cinthya, she is really weird with me. our relation is not good because she is so different to me.  \\\\nAlso i have a brother his name is jose luis he has twenty years old, his personality is dinamic and funny. \\\\nMy mom and my dad, they are a goog guys. Actually i prefer pass my time alone, i am working in other town so i stay away from my family. \", \"userid\": \"30520\", \"id\": \"1-212533\", \"cefr\": \"A1.i\", \"edits\": [[0, [[22, 23, \"I\"], [38, 38, \",\"], [39, 46, \"especially\"], [63, 68, \". She\"], [69, 72, \"is\"], [90, 91, \".\"], [92, 93, \"I\"], [102, 102, \" her\"], [126, 127, \"I\"], [128, 135, \"usually\"], [156, 158, \"about\"], [169, 170, \"I\"], [181, 181, \" and\"], [182, 184, \"its\"], [192, 198, \"Chente\"], [198, 202, \". It\"], [215, 223, \"retriever\"], [232, 237, \"lovely\"], [241, 245, \". He\"], [257, 258, \"I\"], [281, 281, \",\"], [282, 285, \"whose\"], [290, 290, \" is\"], [291, 298, \"Cinthya\"], [299, 303, \"\"], [320, 324, \"towards\"], [329, 332, \"Our\"], [333, 341, \"relationship\"], [395, 395, \",\"], [396, 397, \"I\"], [413, 416, \"whose\"], [425, 429, \"Jose\"], [430, 434, \"Luis\"], [434, 437, \". He\"], [438, 441, \"is\"], [479, 486, \"dynamic\"], [516, 522, \"\"], [526, 528, \"\"], [529, 533, \"good\"], [534, 538, \"people\"], [548, 548, \",\"], [549, 550, \"I\"], [558, 562, \"spending\"], [576, 577, \".\"], [578, 579, \"I\"], [594, 599, \"another\"], [604, 604, \",\"], [608, 609, \"I\"], [610, 614, \"live\"]]]]}\\n{\"text\": \"Hi mrs.Kate Ashby, \\\\nhow are you? I hope you are well. \\\\nFor work in our cafe you have to speak English of course, maybe know how to cook some type of sweet foods like cupcakes, cake,cokiees or brownies, the most popular foods of this year.\\\\nAnother thing that you must know it\\'s how to deal with people, we are searching for someone who can impress everyone, also someone who can bring the customers good atencion and service. We need someone ready for work long hours, because our cafe is going to open every day. \\\\nThat\\'s all, see you soon \\\\nkisses,\\\\nFer \\\\n\", \"userid\": \"38838\", \"id\": \"1-300742\", \"cefr\": \"A1.i\", \"edits\": [[0, [[0, 2, \"Dear\"], [3, 11, \"Mrs.\"], [20, 23, \"How\"], [55, 58, \"To\"], [101, 101, \",\"], [141, 145, \"types\"], [176, 188, \"cakes, cookies\"], [272, 276, \"is\"], [300, 304, \". We\"], [378, 383, \"give\"], [403, 411, \"attention\"], [441, 446, \"prepared\"], [447, 450, \"to\"], [540, 547, null]]]]}\\n{\"text\": \"we think that in the future the planet will be in bad conditions and the trees will be dissappearing,after that we will be having wars.\\\\n\\\\nIn 30 years  we will have changed our anatomy, also we will be eating fast food, on the other hand, the north pole will have melted totally.\\\\n\\\\nThe temperature will  have become crazy by global warming, so some people will have died because the natural disasters will be more aggressive.\\\\n\\\\nThe Technology will have advanced and maybe the cars will be flying by streets and computers will have totally changed.\\\\n\\\\nBecause of this, we have to raise awareness of what is happening and we help the planet.\", \"userid\": \"14990\", \"id\": \"1-89818\", \"cefr\": \"A2.ii\", \"edits\": [[0, [[0, 2, \"We\"], [50, 50, \"a \"], [54, 64, \"condition\"], [84, 100, \"disappear\"], [100, 106, \". After\"], [111, 111, \",\"], [120, 129, \"have\"], [148, 148, \",\"], [182, 188, \". Also\"], [188, 188, \",\"], [216, 220, \". On\"], [241, 246, \"North\"], [247, 251, \"Pole\"], [269, 276, \"completely\"], [319, 321, \"because of\"], [358, 367, \"die\"], [376, 379, \"\"], [424, 428, \"\"], [468, 471, \"\"], [482, 491, \"fly\"], [492, 494, \"above\"], [614, 616, \"\"]]]]}\\n{\"text\": \"Friendship is something very important in my life. I can\\'t imagine my lifetime without friends. How to make friends and meet new people? It is easyier than you think. Just...start talking! Communication is the most important point when you\\'re going to make friends. You have to remember, that friends are not supposed to agree on every single thing. They just have to calm talk about it. If your friendship is real, you will always find point between your opinion and your friend\\'s one. Just try, it won\\'t cost you much!\", \"userid\": \"30230\", \"id\": \"1-354400\", \"cefr\": \"A2.ii\", \"edits\": [[0, [[70, 78, \"life\"], [143, 150, \"easier\"], [368, 372, \"calmly\"], [436, 436, \" a\"]]]]}\\n{\"text\": \"Good day,\\\\nMy name is Fouad and I would like to talk about my favorite sport, Volleyball one of the most beautiful sports ever and I used to practise  this sport 3 times a week since 1980,  the reasons for my enjoyment with this sport are as follows :\\\\n\\\\n1- make me fit and healthy \\\\n2- classy game no friction between players \\\\n3- it exercise all muscles of your body\\\\n\\\\nRegarding the above I advice all rookies to start practise this sport and they will get many benefits. However, the adults they can practise it as well and they will get the same.\", \"userid\": \"27288\", \"id\": \"1-185259\", \"cefr\": \"A1.ii\", \"edits\": [[0, [[0, 8, \"Hello\"], [77, 87, \"volleyball,\"], [132, 139, \"have been\"], [140, 148, \"playing\"], [148, 149, \"\"], [186, 192, \". The\"], [218, 222, \"of\"], [255, 259, \"it makes\"], [283, 289, \"it\\'s a classy\"], [294, 294, \" with\"], [330, 338, \"exercises\"], [342, 342, \" the\"], [384, 384, \",\"], [387, 393, \"advise\"], [415, 423, \"playing\"], [468, 475, null], [476, 480, \"\"], [487, 492, \"\"]]]]}\\n{\"text\": \"As citizens of village, we totally care about environment of our village. Every sunday, we do a mutual cooporation where anyone can treat rubbish as good as they treat themselves. We clean the dirty ditch, sweep rubbish then we bury rubbish. Whilst, we  recyling inorganic rubbish too. From inorganic, we can make bag, hat and other stuffs. Then they can sell them and get income of it. \", \"userid\": \"40758\", \"id\": \"1-302957\", \"cefr\": \"A1.i\", \"edits\": [[0, [[14, 14, \" this\"], [27, 34, \"really\"], [45, 45, \" the\"], [80, 86, \"Sunday\"], [103, 114, \"cooperation\"], [149, 153, \"well\"], [199, 204, \"ditches\"], [219, 219, \" up,\"], [242, 248, \"Meanwhile\"], [254, 262, \"recycle\"], [300, 300, \" rubbish\"], [314, 317, \"a bag\"], [318, 318, \" a\"], [333, 339, \"stuff\"], [346, 350, \"we\"], [380, 382, \"from\"]]]]}\\n{\"text\": \"The creator of the haven and the earth, the creator of soles , the one who make earth rotate around it self and around the sun.What we belief as Muslims that, we have created by one who don\\'t have other with him the one who create our father (Adam ) and created from him (Eve) and they were in the Paradise and instructed to not eat from the tree but the Satan deceive them so they brought to this life and generations came from them and had sent the prophet and messengers ( Moses, Jesus, Mohamed, others.. who they worship the same one) with Miracles and evidence of the truth, to guide the people to know who who will follow the truth which will guide to the Paradise and who follow other paths which it will guide to the hell. so because of that we are here to do the test in this short life.\", \"userid\": \"7567\", \"id\": \"1-45413\", \"cefr\": \"A1.i\", \"edits\": [[0, [[14, 18, \"\"], [19, 24, \"heaven\"], [55, 60, \"souls\"], [60, 61, \"\"], [75, 79, \"makes\"], [100, 107, \"itself\"], [123, 131, \"sun. What\"], [135, 141, \"believe,\"], [152, 152, \", is\"], [157, 158, \"\"], [162, 166, \"were\"], [186, 188, \"does\"], [196, 196, \" any\"], [202, 202, \" \"], [211, 211, \";\"], [224, 230, \"created\"], [276, 276, \",\"], [293, 297, \"\"], [322, 328, \"not to\"], [346, 346, \",\"], [350, 354, \"\"], [361, 368, \"deceived\"], [373, 373, \",\"], [382, 389, \"came\"], [437, 441, \"\"], [511, 516, \"\"], [517, 524, \"worshipped\"], [611, 615, \"\"], [655, 657, \"them to\"], [657, 661, \"\"], [697, 697, \",\"], [703, 706, \"\"], [717, 717, \" them\"], [720, 724, \"\"], [731, 733, \"So,\"]]]]}\\n{\"text\": \"Transportation is the heart of any city whether it is public or private.Nowadays people prefer own vehicles rather than\\\\npublic transportation. day by day folk are more crazy about own vehicles which leads dark future of public transportation\\\\nfirstly. i agree with given statement that there would be tough time for public transportation in near future.because people wamnts privacy as well as freedom which is quite impossible in public transportation. secondly these mode of transportation covers     \\\\nas much as possible of city area or town which mismanaged routine who travelled by public transportation.as a consquence generally people avoid travelling by public transportation finally i can say that there are various mode of transporotation avaliable \\\\nto competition with public transportation. nowadays  people have numerous option fro travelling like many private company \\\\nwhich play an important role to give tough competition to government. as a result of this consumer gets more benefit like lower faire, privacy, freedom and safe travelling.in addition many automobile company launcing new car with affordable price which insiost people to use more and more private vechile.\", \"userid\": \"36512\", \"id\": \"1-309238\", \"cefr\": \"A2.ii\", \"edits\": [[0, [[39, 39, \",\"], [72, 72, \" \"], [94, 94, \" their\"], [119, 120, \" \"], [143, 146, \"Day\"], [180, 180, \"their \"], [204, 204, \" to a\"], [217, 219, \"for\"], [241, 241, \".\"], [242, 249, \"First\"], [249, 250, \",\"], [251, 252, \"I\"], [263, 263, \" the\"], [291, 296, \"will\"], [299, 299, \" a\"], [340, 340, \"the \"], [345, 359, \"future, because\"], [367, 373, \"want\"], [400, 400, \",\"], [427, 429, \"on\"], [453, 461, \"Secondly,\"], [462, 467, \"this\"], [498, 503, \"\"], [525, 525, \" the\"], [530, 535, \"\"], [550, 568, null], [568, 568, \" for people\"], [573, 582, \"travel\"], [593, 610, \"transportation. As\"], [613, 623, \"consequence,\"], [633, 633, \",\"], [682, 690, \". Finally,\"], [691, 692, \"I\"], [724, 728, \"modes\"], [732, 747, \"transportation\"], [748, 757, \"available\"], [758, 759, \"\"], [762, 773, \"compete\"], [802, 810, \"Nowadays,\"], [833, 839, \"options\"], [840, 843, \"for\"], [854, 854, \",\"], [873, 880, \"companies\"], [880, 882, \" \"], [911, 913, \"in\"], [914, 918, \"giving\"], [939, 939, \" the\"], [952, 954, \"As\"], [971, 971, \", the\"], [991, 998, \"benefits,\"], [1010, 1015, \"fairs\"], [1043, 1056, \"travelling. In\"], [1065, 1065, \",\"], [1082, 1089, \"companies\"], [1090, 1098, \"launch\"], [1103, 1106, \"cars\"], [1107, 1111, \"at\"], [1123, 1128, \"prices,\"], [1135, 1142, \"encourages\"], [1179, 1186, \"vehicles\"]]]]}\\n{\"text\": \"I go for a walk to a park every day with my lovely two Corgi dogs.\\\\n\\\\nI met many people in the park. \\\\nI never thought about, people got so many pet.\\\\nIn the peak time in the park is very busy even thought the park is huge!\\\\n\\\\nSome people are very friendly the same as their dog. \\\\nBut some people are very rude and their dogs are aggressive to other dogs .\\\\n\\\\n\\\\n\\\\n\", \"userid\": \"21923\", \"id\": \"1-144902\", \"cefr\": \"A1.ii\", \"edits\": [[0, [[44, 54, \"two lovely\"], [70, 73, \"meet\"], [121, 121, \" it before\"], [121, 129, \". People\"], [130, 133, \"have\"], [142, 145, \"pets\"], [147, 149, \"At\"], [150, 154, \"\"], [163, 163, \",\"], [163, 166, \"\"], [194, 201, \"though\"], [250, 250, \",\"], [260, 262, \"is true of\"], [269, 272, \"dogs\"], [344, 350, \"dogs.\"]]]]}\\n{\"text\": \"Family is the most important institution of social life. Every member have his own role and the boss, the father or the mother, have to guide his team to understand the right behaviour or attitude to have with life.\\\\nUsually there are generation problems, sons don\\'t understand parents and vicecersa, but dialoging and listening emotions and facts, everyone can have another point of view. Parents must give rules to sons to underline limits in social behaviour but also must listen others point of views to ri-arrange and update his knowledge. \\\\nA mother or a father can be a friend if there is communication and trust, if someone give his contribute in family duties.\", \"userid\": \"16733\", \"id\": \"1-101994\", \"cefr\": \"A2.i\", \"edits\": [[0, [[41, 43, \"in\"], [44, 55, \"society\"], [70, 74, \"has\"], [128, 132, \"has\"], [205, 209, \"in\"], [234, 244, \"generational\"], [253, 254, \";\"], [289, 298, \"vice versa\"], [303, 303, \" by\"], [304, 313, \"talking\"], [327, 327, \" to\"], [441, 443, \"to\"], [460, 460, \",\"], [481, 481, \" to\"], [482, 488, \"other\"], [489, 494, \"points\"], [498, 503, \"view\"], [507, 517, \"rearrange\"], [529, 532, \"their\"], [630, 634, \"makes\"], [639, 649, \"contribution\"], [650, 652, \"to\"]]]]}\\n{\"text\": \"Recently I saw the thriller of mokingjay part 2. If you want to see that movie, you need to watch the first 3 movies before to understand it. The first movies, were amazing!! A lot of action, drama and romance. The fans of this series, had been wanting for this movie science the the first movie appeared, that was in 2012. I don\\'t think that this movie is for all the family, because is hard for little kids to understand, in opinion I think is more a teen movie. I think people will like this movie because, its very similar to the story of the book; this one of the first movie that is really based in the book, the theme is very unique and original, also the actors in the first movies were perfect, and I think that in the last movie, they will put double effort. \\\\nHope you guys choose this movie!! It will be very cool to see the las part mokingjay!\", \"userid\": \"40766\", \"id\": \"1-305261\", \"cefr\": \"A2.ii\", \"edits\": [[0, [[31, 40, \"Mokingjay\"], [158, 159, \"\"], [234, 235, \"\"], [245, 252, \"waiting\"], [268, 275, \"since\"], [279, 283, \"\"], [304, 310, \". That\"], [384, 384, \" it\"], [422, 426, \". In my\"], [434, 442, \" it\"], [450, 450, \" of\"], [508, 509, \"\"], [510, 513, \"it\\'s\"], [551, 557, \". This is\"], [575, 580, \"movies\"], [602, 604, \"on\"], [613, 618, \". The\"], [652, 658, \". Also,\"], [750, 753, \"make\"], [760, 760, \" the\"], [836, 839, \"last\"], [844, 844, \" of\"], [845, 854, \"Mokingjay\"]]]]}\\n{\"text\": \"my favourite sport is Karate. First of all, I enjoy it because when I practise I feel I can hold on for hours. When I\\\\u00b4ve had a very bad and stressful day I can relax doing karate, because It\\\\u00b4s the kind of sport that it isn\\\\u00b4t very hard. Training Karate is a way to forget your problems, to forget your tiring routine. In my opinion, it\\\\u00b4s very difficult to fnd this advantage with others sports. Apart from that, Karate it\\\\u00b4s not just a sport, is also a discipline, it teach you respect, balance even culture. my teacher show us how we have to behave with others and he teach us a lot of things about the japanese culture.\\\\nfor someone who starts Karate is easy to follow the class, so my advice is just not to get nervous and to be concentrated on what he or she is doing.\", \"userid\": \"12986\", \"id\": \"1-82745\", \"cefr\": \"A2.ii\", \"edits\": [[0, [[0, 2, \"My\"], [153, 153, \",\"], [188, 192, \"it\\\\u00b4s\"], [215, 218, \"\"], [244, 244, \" in\"], [355, 358, \"find\"], [379, 385, \"other\"], [418, 422, \"is\"], [440, 440, \" it\"], [461, 465, \". It\"], [466, 471, \"teaches\"], [492, 492, \",\"], [507, 509, \"My\"], [518, 522, \"shows\"], [533, 540, \"should\"], [567, 572, \"teaches\"], [597, 601, \"\"], [602, 610, \"Japanese\"], [620, 623, \"For\"], [636, 642, \"is starting\"], [649, 649, \", it\"]]]]}\\n{\"text\": \"Technology,is something that is very important,something without which we cannot live. Today topic is Technology.\\\\nNowadays we use technology in every thing, from educations to making clothes, we use technology everyday and everywhere.Technology is always upgrading and it is very helpful,useful and  important for development but todays generation is influenced whit technology that they have stopped to do other activities. \", \"userid\": \"40292\", \"id\": \"1-302089\", \"cefr\": \"A1.ii\", \"edits\": [[0, [[0, 13, \"Technology is\"], [37, 56, \"important ,something\"], [92, 92, \"\\'s\"], [122, 122, \",\"], [141, 143, \"for\"], [144, 155, \"everything\"], [162, 172, \"education\"], [190, 194, \". We\"], [210, 218, \"every day\"], [234, 234, \" \"], [255, 264, \"being upgraded\"], [280, 294, \"helpful, useful\"], [325, 325, \",\"], [330, 336, \"today\\'s\"], [362, 366, \"by\"], [377, 377, \" to such an extent\"], [401, 406, \"doing\"]]]]}\\n{\"text\": \"Last year, My friend Michael was at school when he heard about a short story competition,he liked the idea so he decided to enter the competition. but there was a fees in order to join the competition , he had no money . fortunately he have a lot of friends they can lent him . he phoned me and asked me to lent him some money to register the competition . he took the money the second day , he finished the registration and started in writing the story after long time spending in writing and did good job he went to give his story to the international student magazine office ,he found out there are a notice on the door say that the competition has canceled, he came back vey sad and told me what happened .Michael closed the door and knew at that moment he had a mistake .\", \"userid\": \"7440\", \"id\": \"1-146492\", \"cefr\": \"A2.i\", \"edits\": [[0, [[11, 13, \"my\"], [77, 91, \"competition. He\"], [106, 106, \",\"], [163, 167, \"fee\"], [180, 184, \"enter\"], [200, 205, \". He\"], [213, 220, \"money.\"], [221, 232, \"Fortunately,\"], [236, 240, \"has\"], [258, 262, \"that\"], [267, 271, \"lend\"], [275, 275, \" some\"], [275, 276, \"\"], [278, 280, \"He\"], [307, 311, \"lend\"], [338, 338, \" for\"], [343, 356, \"competition.\"], [357, 359, \"He\"], [379, 385, \"next\"], [386, 391, \"day,\"], [432, 435, \"\"], [453, 459, \". After\"], [460, 478, \"spending a long time\"], [478, 481, \"\"], [494, 497, \"doing a\"], [506, 506, \",\"], [577, 581, \". He\"], [598, 601, \"was\"], [623, 626, \"saying\"], [648, 651, \"was\"], [660, 664, \". He\"], [675, 678, \"very\"], [699, 699, \" had\"], [708, 717, \". Michael\"], [764, 764, \" made\"], [767, 776, \"mistake.\"]]]]}\\n{\"text\": \"Travelling by car isn\\'t so much more convenient unless it is so much more comfortable, but actually we don\\'t think about the contamination in our planet. Travelling by bus is very stressful because the people push me or I can\\'t sit down because there aren\\'t any chair for me. \\\\nOn the other hand, in the future maybe would have a bus which having chair for everybody and I don\\'t have to stand up. Other transport public is the taxi like car, it is so more comfortable too but it is more expensive than bus or train.\\\\nThe AVE or aeroplane are a good option for long trip.\\\\nIn conclusion, in the future should have a bus so more comfortable. \", \"userid\": \"11499\", \"id\": \"1-73963\", \"cefr\": \"A2.ii\", \"edits\": [[0, [[24, 26, \"\"], [61, 63, \"\"], [125, 138, \"pollution\"], [139, 141, \"of\"], [262, 267, \"seats\"], [309, 309, \",\"], [316, 316, \"we \"], [316, 321, \"will\"], [339, 345, \"has\"], [346, 351, \"seats\"], [372, 377, \"won\\'t\"], [396, 401, \"Another\"], [401, 401, \" type of\"], [402, 418, \"public transport\"], [430, 435, \". Like\"], [436, 436, \"the \"], [447, 449, \"\"], [470, 470, \",\"], [501, 501, \"a \"], [536, 539, \"is\"], [563, 567, \"trips\"], [598, 598, \"we \"], [610, 635, \"more comfortable buses\"]]]]}\\n{\"text\": \"                                                                                                              Nikais19\\\\n                           \\\\n                                                                                                              5 May   \\\\nDear sir Dimara. \\\\n     \\\\n   I am writing about a problem at my city.I live at Patras a big city in Greece.\\\\n        in my city all schools and some walls of buildings are full of drawings and writing. The vandalisme in patras has increased a lot.\\\\n  Unfortunately when we say to somebody to do not draw the walls but they do not hear us. For our city it is very bad because when some new people visit Patras they see that thing. Patras is a very beautiful city and for her culture,and for her monuments.Why to see that abaser thing? After we have this beautiful city we have to maintain her.\\\\n   In my opinion the police should stop the Vandalisme. If it have police all around the city nobody will dare to do a graffiti or to write something or to draw.        \\\\n   I hope you will do something for that problem.\\\\n     \\\\n\\\\n\\\\n      Yours faithfully,\\\\n\\\\n         Jessyka stavros. \", \"userid\": \"9226\", \"id\": \"1-55240\", \"cefr\": \"A1.ii\", \"edits\": [[0, [[271, 274, \"Mr\"], [281, 282, \",\"], [322, 324, \"in\"], [332, 333, \". \"], [340, 342, \"in\"], [349, 349, \",\"], [380, 382, \"In\"], [390, 390, \",\"], [395, 395, \"the \"], [435, 439, \"covered\"], [440, 442, \"in\"], [469, 479, \"vandalism\"], [483, 489, \"Patras\"], [526, 526, \",\"], [535, 538, \"tell\"], [539, 541, \"\"], [551, 560, \"not to\"], [566, 566, \"on \"], [575, 575, \",\"], [576, 579, \"\"], [601, 628, \"It is very bad for our city\"], [680, 684, \"these\"], [685, 690, \"things\"], [724, 727, \"both\"], [728, 731, \"because of\"], [732, 735, \"its\"], [743, 744, \", \"], [748, 751, \"because of\"], [752, 755, \"its\"], [765, 766, \". \"], [766, 795, null], [796, 801, \"Since\"], [829, 829, \",\"], [850, 853, \"it\"], [871, 871, \",\"], [899, 909, \"vandalism\"], [914, 916, \"there\"], [917, 921, \"were\"], [948, 948, \",\"], [956, 960, \"would\"], [972, 973, \"\"], [1057, 1060, \"about\"], [1095, 1105, \"sincerely\"]]]]}\\n{\"text\": \"All around the world pupils are waiting for finishing school. They are eager to begin a new life as adults. But when they reach in-between period, confused feelings cross their minds. As a rule after last exams they don\\'t know what university to choose. What they will do in future they see, like in a fogg.\\\\nIn this way, idea of a year off between leaving school and starting next education is very reasonable. Firstly it\\'ll allow young people to have a rest after the first hard-work studying period. Ten or eleven years at school make them tired, in spite of pupils don\\'t notice it. But choosing the second education is very important step, which need serious attitude. Secondly such year off would give to future students a chance to try themselves in new professional sphears. Also they would have an opprtunity being involved in volontier activity. And thirdly they might work for earning own money or travel. This year holiday would be really helpful for relaxation and gettin new power for future education.\\\\nOne year is not long period. But benefits after year off will be obvious.\\\\n\", \"userid\": \"35741\", \"id\": \"1-321475\", \"cefr\": \"A2.ii\", \"edits\": [[0, [[40, 43, \"to\"], [44, 53, \"finish\"], [127, 127, \" the\"], [193, 193, \",\"], [199, 199, \" the\"], [200, 204, \"final\"], [210, 210, \",\"], [290, 291, \"\"], [292, 296, \"as\"], [302, 306, \"fog\"], [308, 319, \"In view of this\"], [320, 320, \" the\"], [376, 380, \"further\"], [418, 418, \",\"], [532, 536, \"makes\"], [549, 560, \"although\"], [597, 601, \"\"], [602, 608, \"further\"], [621, 621, \" a\"], [649, 653, \"needs a\"], [680, 680, \",\"], [685, 685, \" a\"], [705, 708, \"\"], [751, 751, \" out\"], [772, 779, \"spheres\"], [785, 785, \",\"], [805, 815, \"opportunity\"], [816, 821, \"to be\"], [834, 843, \"volunteer\"], [844, 852, \"work\"], [865, 865, \",\"], [882, 885, \"to\"], [886, 893, \"earn their\"], [920, 924, \"year-long\"], [976, 982, \"getting\"], [987, 992, \"energy\"], [997, 1003, \"further\"], [1030, 1030, \" a\"], [1036, 1042, \"time\"], [1047, 1047, \" the\"], [1062, 1062, \" a\"]]]]}\\n{\"text\": \"I live in San Miguel Almoloyan, this is a village in the municipality of Almoloya de Juarez in the State of Mexico, the care of the environment is very important and in my village they take different actions in the care of this. People collects trash of their house and await the trash truck that carried the trash to a landfill located outside the village. Also, people go out to collect the trash that there is on the kiosk, the church or in the principal places on the village.\", \"userid\": \"38851\", \"id\": \"1-287067\", \"cefr\": \"A1.i\", \"edits\": [[0, [[30, 36, \". This\"], [114, 124, \". Caring\"], [125, 127, \"for\"], [208, 210, \"to\"], [210, 214, \"\"], [220, 222, \"for\"], [223, 227, \"it\"], [236, 244, \"collect\"], [245, 265, \"household trash\"], [297, 304, \"carries\"], [420, 425, null], [465, 467, \"in\"]]]]}\\n{\"text\": \"Dear Sir,\\\\n\\\\nI am interested to improve my English, so I am writing to request further information about the English course. \\\\n\\\\nFirstly, I would like to know how long the course lasts, and if it is possible the date exactly, because I need to book my flights.\\\\n\\\\nSecondly, I don\\\\u00b4t live in Cork, so it would be grateful if you could send me details of accommodation that you offer in this course. And also, can you give me an idea of how much it would be cost every different options?. It would be useful if I can live with other students, because it is a good way to learning a language as well.\\\\n\\\\nLastly, Let me know if I need to pass any level test before starting.\\\\n\\\\nI look forward to hearing from you.\\\\n\\\\nYours faithfully.\\\\n\\\\nRosa.\\\\n\\\\n\", \"userid\": \"4022\", \"id\": \"1-21597\", \"cefr\": \"A2.ii\", \"edits\": [[0, [[27, 29, \"in\"], [30, 37, \"improving\"], [188, 194, \"\"], [203, 203, \",\"], [208, 220, \"exact date\"], [305, 313, \"great\"], [375, 377, \"on\"], [445, 448, \"\"], [453, 453, \" for\"], [454, 459, \"all the\"], [478, 479, \"\"], [504, 507, \"could\"], [542, 544, \"that\"], [562, 570, \"learn\"], [592, 598, \"Finally\"], [600, 603, \"let\"], [625, 629, \"take\"], [634, 639, \"placement\"]]]]}\\n{\"text\": \"Peter looked at his watch and knew that he had to do something immediately, after listening conversations of his new neighbours. They are planning to rob a very precious thing from Museum tonight. He doesn\\'t have much time to prove their plan and he could not wait to let it happen. It is his town and it is his duty too to save town\\'s history. He called the police and informed about his neighbours robbery plan. Police reached Museum and caught  robbers red handed.   \", \"userid\": \"21853\", \"id\": \"1-144625\", \"cefr\": \"A1.ii\", \"edits\": [[0, [[74, 75, \"\"], [91, 91, \" to the\"], [134, 137, \"were\"], [150, 153, \"steal\"], [180, 180, \" a\"], [181, 187, \"museum\"], [200, 204, \"did\"], [268, 271, \"make\"], [328, 328, \" the\"], [378, 378, \" them\"], [399, 399, \"\\'\"], [414, 420, \"The police\"], [428, 428, \" the\"], [429, 435, \"museum\"], [447, 447, \"the\"], [456, 466, \"red-handed\"]]]]}\\n{\"text\": \"I am beleving that there is no future for the public transpot, using trains is mor convient and low expenses also to decrease the carpon gases which affecting the ozone, people should be aware about the effect of using the public transpotation on the econmics and enviroment, goverements shall encarge the people to use the other ways for transport, this subject shall be issuesd in all media to learn and encrage the people to use he wrigth way for transpot.\", \"userid\": \"37217\", \"id\": \"1-268298\", \"cefr\": \"A1.i\", \"edits\": [[0, [[2, 13, \"believe\"], [41, 45, \"\"], [53, 61, \"transport\"], [79, 82, \"more\"], [83, 91, \"convenient\"], [96, 99, \"less\"], [100, 108, \"expensive,\"], [109, 113, \"so\"], [130, 136, \"carbon\"], [148, 148, \" are\"], [168, 168, \" layer\"], [193, 198, \"of\"], [218, 222, \"\"], [230, 243, \"transportation\"], [251, 259, \"economy\"], [264, 274, \"environment\"], [274, 275, \".\"], [276, 287, \"Governments\"], [288, 293, \"should\"], [294, 301, \"encourage\"], [301, 305, \"\"], [319, 323, \"\"], [330, 334, \"modes\"], [335, 338, \"of\"], [348, 354, \". This\"], [363, 368, \"should\"], [372, 379, null], [396, 401, \"teach\"], [406, 413, \"encourage\"], [413, 417, \"\"], [432, 434, \"the\"], [435, 441, \"right\"], [442, 445, \"mode\"], [446, 449, \"of\"], [450, 458, \"transport\"]]]]}\\n{\"text\": \"Hello Estela!\\\\nHow are you? I hope you are well. I\\\\u00b4m writing because I tell you about my last summer holiday. \\\\nI went to Las Hurdes. I stayed about one week  in the home my boyfriend. I had a wedding.\\\\nWhile I was there, I did a lot of things. One day, I visited Meandro del melero. It was beautiful. And there was a wonderful view. The other day, I walked a lot and the end the way, we found a waterfall. The name of waterfall was Chorrituelo. It was spectacular.\\\\nThe wedding day, I had a great time and I slept very late. The wedding was  in the morning,and  at the afternoon we ate in the restaurant with other people. However, in the night, we had dinner in a garaje and there was a party, all night.\\\\nYou should visit Las Hurdes, It is a beautiful site. And there are a lot of things. And the people are very nice.\", \"userid\": \"23821\", \"id\": \"1-159752\", \"cefr\": \"A2.i\", \"edits\": [[0, [[69, 69, \" want to\"], [168, 168, \" of\"], [185, 188, \"went to\"], [331, 340, \"Another\"], [364, 364, \" at\"], [372, 372, \" of\"], [377, 380, \"walk\"], [415, 415, \" the\"], [463, 498, \"I had a great time at the wedding\"], [546, 557, \"morning, and\"], [559, 561, \"in\"], [586, 589, \"a\"], [620, 627, null], [662, 668, null], [690, 691, \"\"], [750, 754, \"place\"], [785, 785, \" to see and do\"]]]]}\\n{\"text\": \"English is an international language which becomes important for the modern world.\\\\n\\\\n    In China, English is took to be a foreign language which many students choose to learn. They begin to study English at an early age. They use at least one hour to learn English knowledge a day. Even kids in kindergarten have begun learning simple words. That\\'s a good phenomenon, for English is essential nowadays.\\\\n\\\\n    In addition to, some people think English is superior than Chinese. In me opinion, though English is for great significance, but English is after all a foreign language. it is hard for people to see eye to eye. English do help us read English original works, but Chinese helps us learn a true China. Only by characters Chinese literature can send off its brilliance. Learning a country\\'s culture, especial its classic culture, the first thing is learn its language. Because of we are Chinese, why do we give up our mother tongue and learn our owne culture through a foreign language?\", \"userid\": \"33699\", \"id\": \"1-237333\", \"cefr\": \"A2.i\", \"edits\": [[0, [[43, 50, \"has become\"], [109, 119, null], [226, 229, \"spend\"], [248, 256, \"learning\"], [264, 274, \"\"], [275, 276, \"every\"], [368, 371, \"because\"], [422, 422, \" this\"], [462, 466, \"to\"], [479, 481, \"my\"], [506, 512, \"has\"], [532, 536, \"\"], [547, 547, \",\"], [557, 557, \",\"], [578, 580, \"It\"], [627, 629, \"does\"], [693, 693, \" about\"], [694, 695, \"the\"], [708, 734, null], [735, 749, \"can literature\"], [750, 758, null], [775, 783, \"To learn about\"], [805, 813, \"especially\"], [818, 825, \"classical\"], [853, 853, \" to\"], [882, 884, \"if\"], [946, 946, \" about\"], [951, 955, \"own\"]]]]}\\n{\"text\": \"I was, last month, in a fantastic restaurant, Woolypools.\\\\nIt is small but comfortable and famous for his big burguers.Woolypools is a speciallist of meal, it\\'s a meal restaurant.\\\\nIn my opinion the restaurant can be better, respect to meat, but it is perfect to have dinner with your friends.\\\\nI have expects to be more famous, better and biggest.\\\\nThe problem of the restaurant is the place, it is far from the people and cities, and the space, that is very small for lots of people.\\\\n\\\\n\", \"userid\": \"28095\", \"id\": \"1-193503\", \"cefr\": \"A1.i\", \"edits\": [[0, [[0, 17, \"Last month I was\"], [17, 18, \"\"], [19, 21, \"at\"], [101, 104, \"its\"], [109, 128, \"burgers. Woolypools\"], [134, 145, \"specialist\"], [145, 178, null], [192, 192, \",\"], [208, 211, \"could\"], [222, 222, \" with\"], [258, 260, \"for\"], [261, 265, \"having\"], [292, 306, \"I expected it\"], [337, 344, \"bigger\"], [358, 360, \"with\"], [383, 388, \"location\"], [388, 392, \". It\"], [404, 408, \"\"], [443, 447, \"which\"]]]]}\\n{\"text\": \"In this life we have many things that make us happy and make our lives go on . for example , a present or a gift especially if it from your best friend . Once , I got sick and stayed at general hospital , and my friend gave me a flower . It was my favorite flower I have it ever . \", \"userid\": \"11033\", \"id\": \"1-61534\", \"cefr\": \"A1.ii\", \"edits\": [[0, [[74, 78, \"on.\"], [79, 82, \"For\"], [83, 92, \"example,\"], [112, 112, \",\"], [129, 129, \" is\"], [145, 153, \"friend.\"], [154, 160, \"Once,\"], [183, 185, \"in a\"], [194, 204, \"hospital,\"], [229, 237, \"flower.\"], [263, 263, \".\"], [266, 278, \"still have it\"], [278, 279, \"\"]]]]}\\n{\"text\": \"In my town we create a small organization for  more healthy environment , beauty touch and to be attractive . the citizens in the town must participate in this , the citizen will take the responsibility for specific day to clean the town and put the rubbish into correct place and clean tree and plant more of it .\", \"userid\": \"24869\", \"id\": \"1-169052\", \"cefr\": \"A1.i\", \"edits\": [[0, [[14, 20, \"have created\"], [46, 46, \"a\"], [60, 73, \"environment,\"], [74, 86, null], [107, 113, \". The\"], [123, 125, \"of\"], [159, 165, \". The\"], [166, 173, \"citizens\"], [174, 179, \"\"], [183, 187, \"\"], [206, 206, \" a\"], [258, 262, \"in the\"], [287, 291, \"trees\"], [310, 312, \"them\"], [312, 313, \"\"]]]]}\\n{\"text\": \"I\\\\u00b4m agree with the opinion that the famous people, such as politicians and film stars deserve to have a private life without journalists following them all the time. is horrible have a person behind you all the time, you not have a life, not peace, not a happy.In adition all pearsons have the right to privacy and to be free.\\\\nNevertheless the journalists stay all the time having a photo,all the time,when they eaten, drinking, happy, sad,how is your love life and with whoever stay, if stay with something important our what buy.\\\\nThis is terrible, you do not have privacy authought the society have a blame, because if they do not take a photo our follows the life of the famous the people bored.\\\\nSo that, politicians and film stars will have support it, because then they will have to bear it, because they then have the reward with what they earn.\\\\nThis is all.\", \"userid\": \"172\", \"id\": \"1-1833\", \"cefr\": \"A1.ii\", \"edits\": [[0, [[0, 3, \"I\"], [31, 35, \"\"], [85, 85, \",\"], [165, 165, \" It\"], [177, 177, \" to\"], [215, 216, \";\"], [221, 224, \"cannot\"], [238, 241, \"no\"], [255, 263, \"happy \"], [263, 263, null], [263, 263, \" In\"], [264, 271, \"addition,\"], [276, 284, \"people\"], [339, 339, \",\"], [356, 360, \"are\"], [374, 380, \"taking\"], [381, 392, \"photos, all\"], [397, 406, \"time, when\"], [412, 417, \"are eating\"], [436, 443, \"sad, how\"], [447, 451, \"their\"], [466, 483, \"who they spend time with\"], [488, 492, null], [518, 521, \"or\"], [526, 526, \" they\"], [548, 553, \". You\"], [573, 573, \",\"], [574, 583, \"and\"], [584, 588, \"\"], [596, 600, \"should take some of\"], [601, 602, \"the\"], [646, 649, \"or\"], [650, 657, \"follow\"], [662, 666, \"lives\"], [680, 680, \",\"], [681, 685, \"\"], [691, 691, \" will be\"], [701, 707, \"\"], [745, 752, \"to put up with\"], [820, 823, \"a\"], [831, 835, \"in\"], [852, 856, \"That\"]]]]}\\n{\"text\": \"good morning. How are you. come here. Get down. Get in to the room. Get in to the bus. Let us walk. Let us play cards. Let us sleep. Let me in. Let me go. Let me see your photos. Let me watch your house. Let me allow to enter in to your cabin. Forgive me. :Bring that toy. bring glass of water. Drink water. Eat food. Run fast. stop shouting. don\\'t shout. Let us bath. \", \"userid\": \"16818\", \"id\": \"1-103225\", \"cefr\": \"A1.i\", \"edits\": [[0, [[0, 4, \"Good\"], [25, 26, \"?\"], [27, 31, \"Come\"], [48, 51, \"Go\"], [52, 57, \"into\"], [72, 77, \"onto\"], [186, 191, \"see\"], [211, 219, \"\"], [226, 231, \"\"], [256, 257, \"\"], [273, 278, \"Bring\"], [278, 278, \" a\"], [328, 332, \"Stop\"], [343, 348, \"Don\\'t\"], [363, 367, \"bathe\"]]]]}\\n{\"text\": \"Once upon a time was one little ant called Penny, he was really small in compared with the others. He hated to be like that because most of the ants made fun of him until one day something horrible and inevitable happen. It was a dark night it was raining until a big active volcano explosion buried them into the underground. All of them tried to find a way out!, but no one can\\'t find one... They started to get panicked! People just started to evacuated rapidly until it began a big earthquake... Penny was too sad, the only thing that he can do is to wait and keep calm. Until the dawn all of them go out, so they sacred until they find a refuge. Everyone wanted to witness the queen, but no one find something. Like they were very religious ants they prey for her sacred ancestors so they can help them in the big deal. Something that they don know was that the whole thing was a movie! So all was planned... The actors had monitors that watch the ants all the time. One day Penny discovered it and it go to tell it to his queen, the queen at knowing that she get very confused but at the same time she get mad and she wanted revenge. So they make a plan to display all... The next day when they were about to start filming they ere non ants there so they search for them, but they can\\'t find them... In that moment the ants and Penny attack them in their backs, making them to leave the place. The ants win the war and they expand their habitat to the studio. No one attack them again and they live happily  ever after!\", \"userid\": \"17755\", \"id\": \"1-112328\", \"cefr\": \"A2.ii\", \"edits\": [[0, [[16, 16, \",\"], [17, 17, \"there \"], [21, 24, \"a\"], [48, 52, \". He\"], [70, 72, \"\"], [108, 113, \"being\"], [164, 164, \",\"], [213, 219, \"happened\"], [241, 241, \"and \"], [256, 261, \"when\"], [268, 274, \"\"], [275, 282, \"volcanic\"], [283, 292, \"eruption\"], [305, 309, \"\"], [310, 313, \"\"], [362, 363, \"\"], [376, 381, \"could\"], [414, 422, \"panicky\"], [447, 456, \"evacuate\"], [474, 479, \"started\"], [510, 513, \"so\"], [517, 522, \". The\"], [542, 545, \"could\"], [549, 551, \"was\"], [575, 580, \"By\"], [581, 584, \"\"], [602, 604, \"had got\"], [618, 624, null], [636, 640, \"found\"], [670, 677, \"see\"], [700, 704, \"found\"], [705, 714, \"her\"], [716, 720, \"As\"], [750, 750, \",\"], [756, 760, \"prayed\"], [761, 764, \"to\"], [765, 768, \"their\"], [794, 797, \"could\"], [808, 810, \"with\"], [815, 823, \"problem\"], [845, 848, \"didn\\'t\"], [943, 948, \"watched\"], [979, 979, \",\"], [1004, 1006, \"\"], [1007, 1009, \"went\"], [1033, 1038, \". The\"], [1044, 1044, \",\"], [1045, 1047, \"on\"], [1048, 1055, \"hearing\"], [1060, 1060, \",\"], [1061, 1064, \"\"], [1065, 1068, \"got\"], [1108, 1111, \"got\"], [1148, 1152, \"made\"], [1163, 1170, null], [1190, 1190, \",\"], [1228, 1228, \",\"], [1229, 1233, \"there\"], [1234, 1237, \"were\"], [1238, 1241, \"no\"], [1252, 1252, \",\"], [1261, 1267, \"searched\"], [1287, 1292, \"couldn\\'t\"], [1306, 1308, \"At\"], [1320, 1320, \",\"], [1340, 1346, \"attacked\"], [1352, 1366, \"from behind\"], [1380, 1382, \"\"], [1409, 1412, \"won\"], [1430, 1436, \"expanded\"], [1473, 1479, \"attacked\"], [1500, 1504, \"lived\"]]]]}\\n{\"text\": \"I have many favorite sports. One of them I\\'m keen on playing basketball the best.I always spend more time on playing it. I usually play basketball everyday around at least thirty minutes per day. After a hard day at University I go home and then I go to the stadium to play it . One thing makes sure that I already finished all of my work before I play my favorite sport. Basketball has many benefits not to me but also everyone. It makes me feel relaxed and unwind. Besides, it also helps me keep fit and have a good body shape. I really cra\\\\nzy about playing it. When I have spare time,  I often gather my friends to watch basketball match on television.  I often play basketball at the stadium in the morning. Sometimes,  I play it near sports centre. I go back home and have a sleep deeply when I finished it. basketball is an outdoor activity. That\\'s reason why basketball is my favorite sport.\", \"userid\": \"39520\", \"id\": \"1-293130\", \"cefr\": \"A1.ii\", \"edits\": [[0, [[29, 41, \"\"], [76, 80, \"most\"], [81, 81, \" \"], [147, 155, \"every day for\"], [216, 226, \"university,\"], [279, 288, \"I\"], [289, 294, \"make\"], [306, 306, \" have\"], [400, 400, \",\"], [404, 404, \" just\"], [405, 407, \"for\"], [419, 419, \" for\"], [531, 531, \" am\"], [542, 543, \"\"], [603, 603, \" together\"], [635, 640, \"matches\"], [738, 738, \" a\"], [780, 792, \"deep sleep\"], [799, 799, \" have\"], [808, 811, \"\"], [854, 854, \" the\"]]]]}\\n{\"text\": \"   With the sweeping progress of development and the booming of population,many agricultueal land,forest and ocesn had been used to destroyed to build more constructure and transport networks.From my own perspective,I believe that it will bring many drawbacks to the environment or even human  and animals.\\\\n   To start with,there are a wide range of troublesome it maybe leadding to this phenomeon.Convincing arguments can support that the root cause is that almost all the persent day cities are already packed with places of residence,commerce and recreation and the land available for new housing developments is increasingly scarce.Additionally, people now continues destroyed more agricultures and forest in order to satisfy all their need,which will distory the ecosystem  diversity and biodiversity especially the endangered species.\\\\n   According to the problems above mentioned,various approaches that governmentshould be adopted to deal with this problem.first of all,reducing building constructure from now on,planting more trees instead.Sustainadle development should be awaness to all human and start to porteat the environment and preserve the animals.\\\\n   To sum up,this unpleasant phenmenon and problems should be worked out to resolve before thing get worse ang the governments have to take the responsibility for that.\", \"id\": \"4-54986\", \"cefr\": \"A2.ii\", \"edits\": [[0, [[64, 79, \"populations, a lot of\"], [80, 92, \"agricultural\"], [93, 104, \"land, forest\"], [109, 114, \"ocean\"], [115, 118, \"has\"], [129, 131, \"or\"], [156, 168, \"buildings\"], [192, 192, \" \"], [204, 217, \"perspective, I\"], [286, 286, \" to\"], [287, 292, \"humans\"], [319, 329, \"with, there\"], [350, 361, \"problems\"], [365, 370, \"may\"], [371, 379, \"lead\"], [382, 397, \"\"], [398, 398, \" \"], [418, 423, \"\"], [430, 430, \" the fact\"], [474, 485, \"present-day\"], [527, 545, \"residence, commercial premises\"], [560, 560, \" facilities\"], [636, 636, \" \"], [661, 670, \"continue to\"], [671, 680, \"destroy\"], [686, 698, \"agricultural land\"], [740, 750, \"needs,which\"], [756, 763, \"destroy\"], [777, 777, \",\"], [805, 805, \",\"], [844, 853, \"In light\"], [854, 856, \"of\"], [870, 893, \"mentioned above, there are various\"], [910, 926, \"governments should\"], [927, 937, \"adopt\"], [956, 969, \"problem. First\"], [973, 985, \"all, reducing\"], [995, 1007, \"construction\"], [1017, 1028, \"on, and planting\"], [1048, 1048, \" \"], [1048, 1059, \"Sustainable\"], [1082, 1089, null], [1102, 1102, \" beings\"], [1116, 1123, \"protect\"], [1176, 1183, \"up, this\"], [1195, 1204, \"phenomenon\"], [1208, 1208, \" its\"], [1235, 1238, \"on\"], [1249, 1249, \" them\"], [1257, 1262, \"things\"], [1272, 1272, \",\"], [1273, 1276, \"and\"]]]]}\\n{\"text\": \"Nowadays the languages are very important , and more English. This is not my first time that I study English. I have been studying English since I was child and I never speak and learn so well since I decided to go to London one course to learn this language.\\\\n\\\\nI have taken that decision because I was tired to try to learn English and I did not have the level that I want, so when I heard about that ooportunity I said yes.\", \"userid\": \"9744\", \"id\": \"1-52917\", \"cefr\": \"A2.ii\", \"edits\": [[0, [[8, 8, \",\"], [9, 12, \"\"], [41, 43, \",\"], [44, 47, \"\"], [48, 60, \"English in particular\"], [74, 76, \"the\"], [95, 100, \"have studied\"], [151, 151, \"a \"], [169, 174, \"spoken\"], [179, 184, \"learnt\"], [193, 193, \"as I have \"], [225, 235, null], [263, 273, \"took\"], [308, 310, \"of\"], [311, 314, \"trying\"], [368, 372, \"wanted\"], [401, 412, \"opportunity\"], [412, 412, \",\"]]]]}\\n{\"text\": \"The car isn\\'t the best way for for the transport, because it produce much pollution, however the public transport is better to do a journey.It can carry many people without problems.\\\\n\\\\nNowadays in the cities developed there are many possibilities for public transport, like bus, train, subway, tram etc.these options it\\'s more economical than the car, the problem of the car is that normally the car is occupied for a person, when the car is prepared for to carry four or five people.\\\\n\\\\nthis situation to create many pollution for environment so we have more conscience for the planet health  \", \"userid\": \"45266\", \"id\": \"1-341927\", \"cefr\": \"A1.ii\", \"edits\": [[0, [[27, 30, \"forward\"], [34, 38, \"\"], [61, 68, \"produces\"], [69, 73, \"a lot of\"], [85, 92, \"but\"], [92, 96, \"\"], [124, 126, \"for\"], [126, 129, \"\"], [140, 140, \" \"], [195, 199, \"\"], [200, 216, \"developed cities\"], [298, 307, \"etc. These\"], [316, 320, \"are\"], [349, 354, \". The\"], [363, 365, \"with\"], [381, 381, \",\"], [390, 390, \",\"], [411, 414, \"by\"], [415, 416, \"one\"], [441, 449, \"designed\"], [450, 453, \"\"], [485, 489, \"This\"], [499, 502, \"\"], [503, 509, \"creates\"], [510, 514, \"a lot of\"], [529, 529, \"the \"], [540, 540, \",\"], [551, 551, \" to be\"], [557, 567, \"concerned\"], [568, 571, \"about\"], [582, 582, \"\\'s\"], [589, 589, \".\"]]]]}\\n{\"text\": \"I want to say something about the learning of the English Languaje, is hard to get to me for the next reasons:\\\\n\\\\nFirst reason; the grammar that the learners, teachers or institutes teach, is  like the Spanish Languaje, my native Languaje. That I want to say, is very difficult to understand the conjuntion of the verb\\'s in Spanish Languaje, just Imaging you the same but not in your native lenguaje.\\\\n\\\\nSecond reason. in the English  syntaxis, the structure for construction paragraph or sentences, the verb is written before the subject, but no always, Which is the rule? Is there anyone?\\\\n\\\\nThe third reason:\", \"userid\": \"651\", \"id\": \"1-27946\", \"cefr\": \"A2.i\", \"edits\": [[0, [[30, 33, \"\"], [43, 45, \"\"], [58, 66, \"language\"], [66, 67, \". It\"], [76, 82, \"\"], [83, 85, \"for\"], [97, 101, \"following\"], [124, 125, \":\"], [143, 156, \"\"], [185, 186, \"\"], [208, 216, \"language\"], [228, 236, \"language\"], [238, 256, \"I want to say that\"], [256, 257, \"\"], [258, 258, \"it \"], [294, 304, \"conjugation\"], [312, 318, \"verbs\"], [330, 338, \"\"], [340, 340, \"so \"], [345, 352, \"imagine\"], [353, 356, \"\"], [389, 397, \"language\"], [413, 414, \":\"], [418, 421, \"\"], [431, 439, \"syntax\"], [445, 454, \"rules\"], [459, 471, \"constructing\"], [472, 481, \"paragraphs\"], [540, 542, \"not\"], [549, 550, \".\"], [551, 556, \"What\"], [579, 585, \"one\"]]]]}\\n{\"text\": \"I love to play cricket. I am enthusiastic towards this game. My favourite team is India because I belongs to this country. In India, 85 percent people follow cricket. In 1993, Indian cricket team won his first world cup and that\\'s change the direction of air in favour of cricket and everyone start to follow this game. I love this game because my favourite sport man belong to this game. His name is Mr. Sachin Ramesh Tendulakar know as little master. Whenever I play this game, I always follow this person. His stance, Style, shots,running between the wicket, everything which is most required in this game is up to the mark.Not only me but also every Indian always follow Sachin for cricket. When he was 18, he played first game for India. He is the first player who  played 200 test in cricket. He has many achievement like first 200 in one day etc. I love the way he was played. \\\\n\\\\nFor a nuance first they have to decide what they con do better, batting or bowling. If the person want to become bowler then concentrate on running,action,stance and for batsmen need concentration on lag and bat coordination,eye and bat coordination,discover some shots which became key factor in batting. Also watch videos of some best player like Sachin, Rahul, Sir Don breadman, Hayden, Wasim Akaram, Brett Lee etc. As health is important factor in every sport so also need to improve health, stamina.\", \"userid\": \"12472\", \"id\": \"1-71233\", \"cefr\": \"A2.ii\", \"edits\": [[0, [[42, 49, \"about\"], [98, 105, \"am\"], [106, 108, \"from\"], [144, 144, \"of \"], [176, 176, \"the \"], [200, 203, \"its\"], [224, 230, \"that\"], [231, 237, \"changed\"], [242, 258, null], [293, 298, \"started\"], [358, 367, \"sportsman\"], [368, 374, \"plays\"], [375, 377, \"\"], [429, 429, \",\"], [430, 430, \"also \"], [430, 434, \"known\"], [489, 495, \"copy\"], [521, 526, \"style\"], [533, 534, \", \"], [554, 560, \"wickets\"], [626, 627, \". \"], [668, 674, \"follows\"], [721, 721, \"his \"], [746, 748, \"was\"], [778, 778, \"a \"], [811, 822, \"achievements\"], [822, 822, \",\"], [828, 828, \"the \"], [848, 848, \",\"], [872, 875, \"\"], [876, 882, \"plays\"], [892, 898, \"newcomer\"], [898, 898, \",\"], [899, 899, \"the \"], [905, 905, \"thing \"], [905, 909, \"you\"], [924, 924, \",\"], [925, 925, \"is \"], [935, 938, \"can\"], [973, 983, \"you\"], [999, 999, \"a \"], [1005, 1005, \",\"], [1033, 1034, \", \"], [1040, 1041, \", \"], [1051, 1051, \",\"], [1052, 1055, \"\"], [1086, 1089, \"leg\"], [1110, 1111, \", \"], [1135, 1144, \". Discover\"], [1162, 1168, \"have become\"], [1173, 1179, \"factors\"], [1196, 1196, \",\"], [1218, 1218, \" the \"], [1218, 1218, \"of\"], [1223, 1229, \"players\"], [1229, 1229, \",\"], [1299, 1299, \",\"], [1318, 1318, \"an \"], [1349, 1349, \",\"], [1350, 1352, \"\"], [1353, 1353, \"you \"], [1374, 1374, \"your \"], [1380, 1381, \" and\"]]]]}\\n{\"text\": \"Dear Jo,\\\\n       It\\'s glad to hear you are going to visit to my country. I am looking forward for this. I can give you any advice on traveling and working in my country. l wish you will have a impressed time. \\\\n       The weather is neither hot nor cold all year, you needn\\'t bring too many clothes because you can buy in here. If you want to travel this city. I can be your guide as I have a year free before university too. This is a modern city. People usually went here for shopping or eating. There are many local foods very popular. You may like this. I also want to introduce my friends to you, we can have fun together. when you have played enough in this city, and you want to find a job here. I can recommed you to my uncle\\'s company to do a job. Because it is difficult to get a job here if you are foreign and haven\\'t finished college. It may take very long time to find a job and you have not much time here. You may consider my advice. \", \"userid\": \"17119\", \"id\": \"1-130568\", \"cefr\": \"A2.ii\", \"edits\": [[0, [[21, 25, \"great\"], [56, 59, \"\"], [93, 96, \"to\"], [171, 175, \"hope\"], [190, 191, \"an\"], [192, 201, \"impressive\"], [260, 265, \". You\"], [317, 319, \"them\"], [347, 347, \" around\"], [357, 358, \",\"], [462, 466, \"come\"], [511, 535, \"very popular local foods\"], [598, 602, \". We\"], [626, 630, \"When\"], [699, 700, \",\"], [707, 715, \"recommend\"], [745, 747, \"get\"], [844, 848, \", it\"], [857, 857, \" a\"], [924, 927, \"should\"]]]]}\\n{\"text\": \"My favorite sport is swims . It\\'s because swim is really fun. Also I think swim can keep our body fit and it can make the people who swim feel cool when it is in a hot day.\\\\n  The advice that I give to someone who want to start swimming . It is not be afraid of water , otherwise they may not learn swim and also when the age become older it will be more difficult to learn than the little . So these are the advice that I give to them.\", \"userid\": \"8260\", \"id\": \"1-89653\", \"cefr\": \"A1.ii\", \"edits\": [[0, [[21, 26, \"swimming\"], [26, 27, \"\"], [42, 46, \"swimming\"], [75, 79, \"swimming\"], [89, 92, \"your\"], [117, 121, \"\"], [158, 161, \"\"], [192, 192, \" would\"], [213, 217, \"wants\"], [227, 237, \"swimming.\"], [247, 247, \" to\"], [261, 268, \"water,\"], [284, 287, \"might\"], [297, 297, \" to\"], [302, 302, \",\"], [311, 311, \",\"], [317, 324, \"you\"], [377, 377, \" when\"], [378, 389, \"you are young\"], [394, 399, \"this\"], [400, 403, \"is\"]]]]}\\n{\"text\": \"Dear Camp director,\\\\n\\\\n My name is Eider and I am 21 years old. I had read your advertisement in the newspaper! And I am really sure that I am the person that you are finding.\\\\n\\\\nI am monitor in the free time, and I am looking for a temporal job to improve my English. Neither I have problems for working in a kitchen, will be clear if I told you that my parents have a bar. \\\\n\\\\nAccording to my age, evening activities are not a problem for me, and I played many sports during my life, such as socker, bolleyball,...\\\\n\\\\nWaiting for your answer, Eider\", \"userid\": \"8925\", \"id\": \"1-50916\", \"cefr\": \"A2.i\", \"edits\": [[0, [[5, 9, \"camp\"], [64, 67, \"\"], [108, 113, \", and\"], [165, 172, \"looking for\"], [180, 187, null], [191, 194, \"my\"], [229, 237, \"temporary\"], [265, 274, \"I don\\'t\"], [289, 292, \"with\"], [315, 315, \"which \"], [334, 338, \"tell\"], [373, 385, \"In view of\"], [445, 445, \"have \"], [488, 494, \"soccer\"], [496, 506, \"volleyball\"], [512, 523, \"I look forward to\"]]]]}\\n{\"text\": \"The city where I live is a small village. All residents take great care of the environment. Organized shares, where everyone clean up the village. All residents segregate garbage thrown into suitable containers. Thus helping to protect our environment to make it clean, safe, in order to not jeopardize our various diseases.  In my village there are trash cans, so that no one threw debris on the ground. There are spcejalne place where you can organize bonfires, but everyone has to clean up after themselves and throw out all garbage. We have the ability to use renewable energy sources, because it is close to a wind power plant. Recently, also on the roof of the primary school were set the batteries and the whole school uses solar energy instead of electricity. They organize monthly meetings on the environment, residents participate in them. Wszysycy residents of my village, they try to, so that our village was clear that pollute the environment as little as possible.\", \"userid\": \"10002\", \"id\": \"1-334479\", \"cefr\": \"A2.ii\", \"edits\": [[0, [[92, 108, null], [125, 130, \"cleans\"], [210, 216, \", thus\"], [275, 275, \" and\"], [292, 302, null], [377, 382, \"throws\"], [383, 389, \"rubbish\"], [415, 424, null], [425, 430, \"places\"], [647, 647, \",\"], [682, 704, \"solar panels were installed\"], [858, 858, \",\"], [895, 895, \" \"], [917, 920, \"is\"], [921, 926, \"clean\"], [927, 931, \"and\"], [932, 939, \"pollutes\"]]]]}\\n{\"text\": \"Travelling in their own car is way more comfortable than taking a ride in public transportation.there are several reason to consider.\\\\n\\\\nFirstly, the bus is always drop by to get a passenger that take a more time than expected to time of travel.Secondly, the public vehicle route are more far than usual route.Thirdly,it is also crowded and no privacy.Finally,there is a chance to become a victim of theft and pocket picker.\\\\n\\\\nHowever, public transportation is much cheaper than to buy a new car and for the adventurer who want to have an exciting travel for then to see more action.Like watching outside or sight seeing,to mingle and meet different people.In addition to this I also admire the bullet train in japan which u consider fast and safe public vehicle Ive\\'d known.\\\\n\\\\nTo sum it up I still consider having their own car is way more safe and convinient.Public future unless they have project to at least lessen the time of travel and prioritize the safety of their passenger.\", \"userid\": \"7646\", \"id\": \"1-35525\", \"cefr\": \"A2.ii\", \"edits\": [[0, [[14, 19, \"your\"], [71, 73, \"on\"], [95, 101, \". There\"], [162, 169, \"stopping\"], [173, 176, \"pick up\"], [188, 188, \"so\"], [188, 188, \", \"], [189, 193, \"it\"], [194, 198, \"takes\"], [199, 200, \"\"], [228, 235, \"\"], [242, 243, \". \"], [272, 277, \"routes\"], [282, 307, null], [307, 308, \". \"], [315, 316, \", \"], [339, 339, \"there is \"], [349, 350, \". \"], [357, 358, \", \"], [369, 375, \"risk\"], [376, 378, \"of\"], [379, 385, \"becoming\"], [408, 421, \"pickpocketing\"], [476, 482, \"buying\"], [496, 496, \",\"], [520, 524, \"wants\"], [545, 551, \"journey\"], [552, 579, null], [579, 584, \", like\"], [585, 593, \"looking\"], [605, 617, \"sightseeing\"], [617, 618, \", \"], [618, 627, \"mingling\"], [632, 636, \"meeting\"], [653, 654, \". \"], [673, 673, \",\"], [708, 713, \"Japan\"], [720, 721, \"I\"], [731, 731, \"the \"], [731, 735, \"fastest\"], [740, 744, \"safest\"], [760, 765, \"I\\'ve\"], [766, 771, \"experienced\"], [781, 783, \"\"], [786, 786, \",\"], [811, 816, \"your\"], [825, 827, \"\"], [846, 856, \"convenient\"], [856, 857, \". \"], [857, 870, null], [888, 895, \"plans\"], [919, 933, \"journey times\"], [969, 978, \"passengers\"]]]]}\\n{\"text\": \"As far as I\\\\u2019m concerned, I tend to disagree with the decision of mineral extraction. More details and reasons will be elaborated in the following paragraphs to support my opinion.\\\\n\\\\nTo begin with, extract the mineral will be harmful to our environment. There are breathtaking sights on the outskirts of my hometown. In my childhood, I went there to spend my summer every year. However, it will probably be disappeared if the developing equipment were being set.\\\\n\\\\nNext to go will be, the extraction of the valuable mineral will definitely leads to air pollution. There has been an example that the other town is polluted by the process of developing the mineral. No one can deny that the pollution issue is one of the utmost important thing which should be prevented.\\\\n\\\\nLast but not the least, the mineral extraction will turn out to be profound influence, especially, to our offspring. To take my friend, Taylor, as an example, her homeland were over-developed and become an arid place when she was a child. After she grows up, she decides to leave and never go back to her hometown. In addition, she has no blithe memory in her childhood.\\\\n\\\\nOne problem is that some people will consider the job opportunity that it might bring to us. Due to the mineral development, many people in our hometown can probably earn much more money than before. It seems like a sought-after chance. Nevertheless, they do not give us any promise of the vacancy. In addition, money is no more crucial when it comes to health and environmental conservation.\\\\n\\\\nIn a nutshell, Based on the reasons and instances above, the disadvantages of extract the valuable mineral are outweigh the advantage. Therefore, I do not subscribe to this decision.\\\\n\", \"userid\": \"27104\", \"id\": \"1-220707\", \"cefr\": \"A2.ii\", \"edits\": [[0, [[48, 64, \"\"], [196, 203, \"extracting\"], [402, 416, \"disappear\"], [424, 459, null], [466, 480, \"\"], [537, 542, \"lead\"], [567, 601, null], [637, 659, null], [696, 701, \"problem\"], [716, 722, \"most\"], [733, 738, \"things\"], [779, 783, \"\"], [790, 794, \"\"], [831, 833, \"have a\"], [843, 852, \"effect\"], [866, 868, \"on\"], [939, 943, \"was\"], [963, 969, \"became\"], [1016, 1021, \"grew\"], [1030, 1037, \"decided\"], [1106, 1112, \"happy\"], [1113, 1119, \"memories\"], [1120, 1122, \"of\"], [1193, 1204, \"opportunities\"], [1224, 1227, \"\"], [1238, 1242, \"\"], [1251, 1262, \"extraction\"], [1292, 1295, \"will\"], [1424, 1428, \"\"], [1429, 1436, \"vacancies\"], [1460, 1462, \"not\"], [1548, 1553, \"based\"], [1573, 1582, \"examples\"], [1611, 1618, \"extracting\"], [1618, 1622, \"\"], [1632, 1639, \"minerals\"], [1639, 1643, \"\"], [1657, 1666, \"advantages\"]]]]}\\n{\"text\": \"Limiting cars on the roads would cause the disappearing of poo.\\\\nThe fossil fuels used by vehicles cause global warming.\\\\nGlobal warming is a serious issue,higher temperatures make the ice caps melt.\\\\nThe longer we burry our heads in sand, the warmer the Earth will be.\\\\nI learn English to improve the general quality of my sentences!\", \"userid\": \"5556\", \"id\": \"1-27425\", \"cefr\": \"A2.ii\", \"edits\": [[0, [[43, 55, \"disappearance\"], [59, 62, null], [153, 154, \"; \"], [212, 217, \"bury\"], [231, 231, \"the \"], [269, 274, \"am learning\"]]]]}\\n{\"text\": \"I don\\'t believe in it, especially while cars are not flying. Even if it will have happened there are many people who can\\'t get a car, because it is too exspensive, not only for buying but for fuel, service and so forth. Buses are more simple - you just buy a ticket. And what about trains? I saw tv about train in Japan - that is the future of public transport.I want to see blue sky and not stream of cars like it was in the film \\\\\"The Fifth Element\\\\\"\", \"userid\": \"10317\", \"id\": \"1-59597\", \"cefr\": \"A1.ii\", \"edits\": [[0, [[8, 15, \"agree\"], [16, 18, \"with\"], [72, 90, \"happens,\"], [152, 162, \"expensive\"], [173, 176, \"to\"], [177, 183, \"buy,\"], [230, 241, \"simpler\"], [295, 295, \" a\"], [296, 298, \"TV programme\"], [305, 310, \"trains\"], [351, 362, \"transport. I\"], [392, 398, \"streams\"], [411, 418, \"\"], [450, 450, \".\"]]]]}\\n{\"text\": \"Brandon Mackie\\\\nParliament House\\\\nCambera ACT 25089\\\\n\\\\nThe 26th of March 2015\\\\n\\\\nChief Executive Officer\\\\nCarlos Alberto Marrero Zaragoza\\\\n\\\\nDear Carlos\\\\n\\\\n     Your order 6 air conditioning is incomplete, we apologize for the inconvenience.\\\\n\\\\nWe have conscience of this mistake, we had a confusion of the number of air conditioning before the telephone conversation with your secretary to confirm your purchase.\\\\n\\\\nBecause your order was confirmed at too late and I that the order wasn\\'t in advance we only could send 5 pieces. Since the units were sold in inventory but your purchase indicates that 6 pieces were confirmed, do not worry about it, we will send you the remaining unit as soon as possible.\\\\n\\\\nWe hope you keep preferring us.\\\\n\\\\n\\\\nYours Sincerely.\\\\n\\\\n\\\\n\\\\n\\\\n\\\\nBrandon  Mackie \\\\n\", \"userid\": \"28659\", \"id\": \"1-197330\", \"cefr\": \"A2.i\", \"edits\": [[0, [[160, 160, \" for\"], [179, 179, \" units\"], [193, 197, \". We\"], [235, 250, \"are aware\"], [266, 270, \". We\"], [271, 286, null], [320, 320, \" units\"], [434, 437, \"\"], [450, 452, \"\"], [485, 485, \",\"], [489, 499, \"could only\"], [543, 543, \" the\"], [710, 720, \"choosing\"], [733, 742, \"sincerely\"]]]]}\\n{\"text\": \"My name is Chew.I\\'m 25 years old and I\\'m come from Malaysia.I\\'m an energetic,cheerful,hardworking and a considerable person.\\\\nI have 3 siblings in my family who are taking care by me all the time when parents are busy with their works.\\\\nDuring my school,I like to play volleyball and i\\'m an excellent player.We used to organise competitions and tournaments with others school.This is my favourite sport.\\\\nDuring my leisure time,I like to help my parents in the kitchen.We cook varieties of food and dishes.I enjoy the dirty and oily hands in the kitchen.\\\\n\\\\nWith reference to the above,I will like to apply the Summer Camp job with my full commitment.\\\\n\", \"userid\": \"18641\", \"id\": \"1-249673\", \"cefr\": \"A2.i\", \"edits\": [[0, [[11, 17, \"Chew. I\"], [38, 40, \"\"], [51, 61, \"Malaysia. I\"], [67, 97, \"energetic, cheerful, hardworking\"], [101, 103, \"\"], [104, 116, \"considerate\"], [160, 170, \"take\"], [176, 178, \"of\"], [199, 199, \" my\"], [228, 233, \"jobs\"], [235, 241, \"At\"], [241, 244, \"\"], [245, 253, \"school, I\"], [282, 283, \"I\"], [299, 308, \"player. We\"], [309, 316, \"usually\"], [360, 366, \"other\"], [367, 378, \"schools. This\"], [420, 426, \"time, I\"], [458, 468, \"kitchen. We\"], [473, 473, \" different\"], [496, 504, \"dishes. I\"], [575, 582, \"above, I\"], [583, 587, \"would\"], [601, 601, \" to\"], [622, 645, null]]]]}\\n{\"text\": \"Contemporary Art is a very controversial issue nowadays. There are many sources and creators, as well as themes. It is well known that many Art curators and Artists believes that Contemporary Art is not a good source of art, since there are many artists that only create based in their easy ideas of an aesthetic image or a philosophical idea, but most of the times this is unintelligible.\\\\n\\\\nLuckily the most expensive art still being the old, like Picasso or Freud. Nowadays a lot of empty art pieces are being sold at auctions around the world, for extraordinary high prices. Experimental Art has taken the world of art by surprise.\\\\n\\\\nHumanity has reached a level of differences that it would be not possible to stop. So now we have many choices and an infinity of information available at any given time. With this stated, we now have an idea of how artists create.\", \"userid\": \"28023\", \"id\": \"1-192949\", \"cefr\": \"A2.ii\", \"edits\": [[0, [[41, 46, \"subject\"], [140, 143, \"art\"], [157, 164, \"artists\"], [165, 173, \"believe\"], [179, 191, \"contemporary\"], [192, 195, \"art\"], [277, 279, \"on\"], [360, 365, \"time\"], [398, 398, \",\"], [422, 433, \"is still\"], [441, 441, \" art\"], [474, 474, \",\"], [490, 500, \"artworks\"], [544, 545, \"\"], [550, 563, \"extraordinarily\"], [656, 678, null], [687, 692, \"will\"], [693, 699, \"not be\"], [750, 761, null], [806, 822, null]]]]}\\n{\"text\": \"The sports days were held on Kwai Chung Sports Ground in 12th and 13 th November. That weather was partly cloudy. I got there by MTR. I arrived the sports ground at 7:40 a.m. This year I\\\\u2019ve join the 100-metre race.\\\\nOn the first day before the sports day begin, we have the opening ceremony. The athletic representative pasted the torch and we sang the anthem. After that, the sports day began formally. At 10:45 a.m. , the girl\\\\u2019s grade C 100-metre race started. There was a funny thing when I went to the marshal. The teacher call my name for twice and he told me to stand different place. So I know that there was someone whose name pronounce same as me. Near the race, I was very nervous. When I was running, I heard my housemates cheering  and the wind passing my face. That feel was very comfortable and made me felt relax. At last, I got number 10 out of 27 people. Although it is not a great result, I\\\\u2019ve already try my best. At last of the day, our school announced the mark the four houses have got. My house which got number two temporarily. I felt hopeful and wanted my house will get the champion.\\\\nOn the second day, my classmates called me to take part the Inter-class relay race. I felt very afraid because I was not good at running. Finally , our class got the first runner up. We have a difference of 0.5 seconds is the first of the race . I implicated my class from winning the champion. At last , my house got the second runner up. I hope my house will get the champion in the next year.\\\\n\", \"userid\": \"18604\", \"id\": \"1-119372\", \"cefr\": \"A2.ii\", \"edits\": [[0, [[54, 56, \"on\"], [66, 71, \"13th\"], [82, 86, \"The\"], [143, 143, \" at\"], [185, 189, \"I\"], [190, 194, \"competed in\"], [254, 259, \"began\"], [264, 268, \"had\"], [319, 325, null], [393, 401, \"officially\"], [416, 418, \",\"], [526, 530, \"called\"], [539, 542, \"\"], [572, 572, \" in\"], [573, 573, \"a \"], [595, 599, \"knew\"], [634, 643, \"was pronounced\"], [643, 643, \" the\"], [652, 654, \"mine\"], [656, 660, \"Before\"], [746, 746, \" felt\"], [778, 782, \"feeling\"], [792, 803, \"pleasant\"], [816, 820, \"feel\"], [821, 826, \"relaxed\"], [839, 842, \"was\"], [843, 849, \"\"], [850, 852, \"tenth\"], [906, 910, \"I\\'d\"], [911, 918, \"\"], [919, 922, \"tried\"], [935, 939, \"the end\"], [998, 1002, \"had\"], [1017, 1022, \"\"], [1023, 1026, \"was\"], [1086, 1094, \"to be\"], [1099, 1107, \"champions\"], [1164, 1164, \" in\"], [1169, 1180, \"inter-class\"], [1200, 1204, \"really\"], [1254, 1256, \",\"], [1267, 1270, \"was\"], [1281, 1290, \"runner-up\"], [1295, 1299, \"had\"], [1328, 1330, \"between us and\"], [1335, 1340, \"winner\"], [1352, 1354, \".\"], [1357, 1367, \"prevented\"], [1394, 1402, \"championship\"], [1404, 1411, \"In the end\"], [1411, 1413, \",\"], [1423, 1426, \"was\"], [1431, 1437, \"\"], [1438, 1447, \"runner-up\"], [1470, 1473, \"win\"], [1478, 1486, \"championship\"], [1487, 1489, \"\"], [1490, 1493, \"\"]]]]}\\n{\"text\": \"\\\\\"There is no future for public transport, because travelling by car is so much more convenient\\\\\".\\\\n\\\\nIn my opinion, this affirmation is not correct. We should used of public transport because at the present there are a lot of cars in the world that pollute and unfortunately we are harming the environment and the world. It is the best that all people go to the place walking o running on the other hand it is more healthy.\\\\n\\\\nThere is nothing wrong with it go to the place in a car, obviously, it is faster than a bus and cheaper but no always.\\\\n\\\\nI think it is true that travelling by car is so much more convenient but I disagree that there is no future for public transport.\", \"userid\": \"31567\", \"id\": \"1-221511\", \"cefr\": \"A2.i\", \"edits\": [[0, [[156, 160, \"use\"], [160, 163, \"\"], [257, 257, \",\"], [271, 271, \",\"], [323, 327, \"\"], [365, 372, \"on foot\"], [373, 374, \"or by\"], [382, 382, \".\"], [383, 400, \"Also,\"], [449, 452, \"\"], [453, 455, \"going\"], [459, 462, \"a\"], [525, 525, \",\"], [530, 532, \"not\"], [610, 610, \",\"]]]]}\\n{\"text\": \"\\\\nIs is commonly-debated that tourism has greatly influenced,not only the aspects of one country,but of the whole world along. \\\\nWhethere tourism has had a positive or a negative impact over our lifes,it remains quite a dilemma for the ignorants. \\\\nFirst of all,tourism is a tool that enables people to travel all around the world.Alongside with its development,the ablity of travalling has easened to such a scale that it is now quite common to commute from one country to another.The existence of multinaionals is tightly connected to the idea of tourism,as well as with the idea of globalisation,since a traveller is not only a citizen of his own country but a global citizen.\\\\nSecondly,tourism,especially in developed countries,has played an important part in their growing from an economic point of view.There are countries,such as Greece or Bulgaria,in which the econmoy relies merely on tourism.If tourism influences the econmy,it thereby influnces the environment,and if it influences the environment it influences the transport.How?people become more careful at their historcal sites,this way preserving them;Transport is developed both at a small and a large scale:At a small scale,in cities, in a way which will allow citizens and tourists alike to reach important places more efficently.At a large scale,people can now travel in almost any possible way:on land,on sea or air.Through the development of tourism were born cruises and train vacations.\\\\n\", \"userid\": \"15455\", \"id\": \"1-99634\", \"cefr\": \"A2.ii\", \"edits\": [[0, [[1, 3, \"It\"], [7, 23, \"commonly debated\"], [59, 60, \" \"], [84, 87, \"a\"], [95, 96, \", \"], [119, 124, \"\"], [127, 135, \"Whether\"], [184, 188, \"on\"], [193, 198, \"lives\"], [198, 199, \", \"], [230, 243, null], [258, 259, \", \"], [327, 328, \". \"], [338, 342, \"\"], [358, 359, \", \"], [363, 369, \"ability\"], [370, 372, \"to\"], [373, 383, \"travel\"], [388, 395, \"become easier\"], [404, 405, \"an\"], [406, 411, \"extent\"], [496, 509, \"multinationals\"], [553, 554, \", \"], [565, 569, \"to\"], [595, 596, \", \"], [621, 625, \"just\"], [654, 654, \",\"], [685, 686, \", \"], [693, 694, \", \"], [727, 728, \", \"], [766, 773, \"growth\"], [804, 805, \". \"], [824, 825, \", \"], [851, 852, \", \"], [865, 872, \"economy\"], [880, 886, \"completely\"], [897, 898, \". \"], [924, 930, \"economy\"], [930, 931, \", \"], [942, 951, \"influences\"], [967, 968, \", \"], [1004, 1004, \",\"], [1019, 1022, \"\"], [1032, 1033, \". \"], [1036, 1037, \"? \"], [1037, 1043, \"People\"], [1073, 1082, \"historical\"], [1088, 1089, \", \"], [1089, 1097, \"thereby\"], [1113, 1114, \". \"], [1142, 1144, \"on\"], [1170, 1171, \". \"], [1171, 1173, \"On\"], [1187, 1188, \", \"], [1284, 1294, \"efficiently\"], [1294, 1295, \". \"], [1295, 1297, \"On\"], [1311, 1312, \", \"], [1360, 1361, \": \"], [1368, 1369, \", \"], [1382, 1383, \". \"], [1418, 1455, \"cruises and train vacations were born\"]]]]}\\n{\"text\": \"One upon a time there was a tiger who lives in a beautiful landscape with her boyfriend and her 3 daughters.  \\\\nThe tiger was the mom names Amanda of 25 years old, the herders kill her parents, because the herders were poor and don\\\\u2019t have enough food to survive, so they kill them.\\\\nThe tiger`s boyfriend was a lion names John of 27 years old, his dad die because in a conflict with other animals, he got an infection. Her mom die because some things or someone drag her of the leg and drop it in a cave were other animals eat her. They die when John was too little to remember and he never know what happened so he went to all the parts for saw them even he walked and walked even at reverse but he never found them.\\\\nThe 3 daughters where so different each other. The first one names Amanda junior like her mom but she is a cheetah .She have 9 years old she loves to run and she is the fastest of the family and have a lot of spots. She is of the ones that trend to make something enforcing.\\\\nThe second daughter names Elizabeth is a leopard is the intelligent of the family and the oldest of the daughters. Had 12 years old. Another animals give them rewards or bonus because she discover that water was liquid.\\\\nThe last daughter was Ana who was the youngest of the family is a jaguar. She stay sleeping in the bed and doing nothing all day. Their parents were angry because she was the only one that never work.\\\\nOne they animals went with Ana and give her an incentive for being an athlete or make something else than stay sleeping. \\\\nThe end.\\\\n\", \"userid\": \"17430\", \"id\": \"1-109583\", \"cefr\": \"A1.ii\", \"edits\": [[0, [[0, 3, \"Once\"], [15, 15, \",\"], [38, 43, \"lived\"], [125, 128, \"a\"], [129, 132, \"mother\"], [133, 138, \"named\"], [145, 145, \",\"], [146, 148, \"and she was\"], [161, 166, \". The\"], [175, 179, \"killed\"], [227, 232, \"didn\\'t\"], [270, 274, \"killed\"], [314, 319, \"named\"], [324, 324, \",\"], [325, 327, \"and he was\"], [340, 345, \". His\"], [350, 353, \"died\"], [361, 361, \",\"], [367, 375, \"fight\"], [417, 420, \"His\"], [425, 428, \"died\"], [437, 448, \"something\"], [460, 464, \"dragged\"], [469, 471, \"by\"], [484, 488, \"pulled\"], [489, 491, \"her\"], [492, 494, \"into\"], [502, 506, \"where\"], [521, 524, \"ate\"], [535, 538, \"died\"], [589, 593, \"knew\"], [607, 607, \",\"], [619, 635, \"everywhere\"], [636, 639, \"to\"], [640, 643, \"look for\"], [648, 648, \".\"], [649, 656, \"He even\"], [675, 690, null], [690, 690, \",\"], [732, 737, \"were\"], [750, 750, \" to\"], [776, 776, \" was\"], [777, 782, \"named\"], [790, 796, \"Junior\"], [796, 796, \",\"], [797, 801, \"after\"], [809, 809, \",\"], [818, 820, \"was\"], [830, 832, \". \"], [836, 840, \"was\"], [852, 852, \" and\"], [857, 862, \"loved\"], [878, 880, \"was\"], [893, 895, \"in\"], [911, 915, \"had\"], [939, 989, null], [1011, 1011, \"was \"], [1011, 1016, \"named\"], [1026, 1026, \" and\"], [1027, 1029, \"was\"], [1039, 1039, \" She\"], [1039, 1039, \".\"], [1040, 1042, \"was\"], [1058, 1058, \" one\"], [1106, 1106, \"She \"], [1106, 1109, \"was\"], [1124, 1131, \"Other\"], [1140, 1144, \"gave\"], [1161, 1166, null], [1179, 1187, \"discovered\"], [1236, 1236, \",\"], [1272, 1272, \"and \"], [1272, 1274, \"was\"], [1294, 1302, \"\"], [1306, 1309, \"\"], [1318, 1323, \"did\"], [1341, 1346, \"Her\"], [1406, 1410, \"worked\"], [1416, 1420, \"day\"], [1420, 1420, \",\"], [1421, 1421, \"the \"], [1434, 1438, \"to\"], [1447, 1451, \"gave\"], [1469, 1472, \"to\"], [1473, 1478, \"be\"], [1493, 1497, \"do\"], [1508, 1512, \"other\"], [1518, 1522, \"\"]]]]}\\n{\"text\": \"Hello friend,\\\\n\\\\nI know you are searching for a flat to live for the whole next year. Maybe I found something for you: when I were on the bus returning to home I read a journal with some advertisements. There is a nice flat near my home: it is perfect to someone who want to live there for only an year. There are a little kitchen, a great bedroom, a bathroom with shower but without bath and a cool living-room. I think that you have to bring with you winter clothes because here there is a really cold weather!\\\\n\\\\nWrite me soon\\\\n\\\\nAlessia\", \"userid\": \"583aa9d0-e8e3-4510-980c-c408791c4e0c\", \"id\": \"5-148845\", \"cefr\": \"A2.i\", \"edits\": [[0, [[58, 58, \" in\"], [72, 72, \" of\"], [124, 128, \"was\"], [149, 152, \"\"], [167, 174, \"newspaper\"], [250, 252, \"for\"], [265, 269, \"wants\"], [293, 295, \"a\"], [442, 466, \"winter \"], [466, 473, \"clothes with you because\"], [479, 484, \"it\"], [487, 489, \"\"], [501, 509, \"\"], [517, 517, \" to\"]]]]}\\n{\"text\": \"Hello Riley, about the question you made me in your letter, it has been hard to give you an answer because I know how much you love both.\\\\nLast night I made a decision. I think that you should give up from your music classes. \\\\nYou have classes since you were nine years old and you already know how to play piano, so I think that you should continue doing sports because it is important for your health and in your free times you could still play piano without going to the classes.\\\\nThis is my opinion but the decision is yours, so when you decide it please send me a letter telling me about it.\\\\nLove, Ines.\", \"userid\": \"31683\", \"id\": \"1-231300\", \"cefr\": \"A2.i\", \"edits\": [[0, [[36, 40, \"asked\"], [58, 62, \". It\"], [199, 204, \"\"], [234, 234, \" been having\"], [361, 361, \",\"], [468, 472, \"\"], [500, 500, \",\"], [546, 549, \",\"]]]]}\\n{\"text\": \"Hey my name is Joe and i\\\\u00b4m 21 years old and i\\\\u00b4l think i\\\\u00b4l would compliment the summer camp very good, because of my good manner and very open for the kids so they can open up and speak. My current job is to be a nurse at the local hospital and i\\\\u00b4l can do everything as a doctor can. So if the kids is going to hurt themselves, then i\\\\u00b4l can fix them up instead of taking them to the hospital for small things like bruises and smaller injuries.\", \"userid\": \"6877\", \"id\": \"1-150589\", \"cefr\": \"A1.ii\", \"edits\": [[0, [[3, 3, \",\"], [23, 26, \"I\\\\u00b4m\"], [44, 47, \"l\"], [54, 57, \"l\"], [64, 74, \"suit\"], [96, 100, \"well\"], [100, 101, \"\"], [121, 127, \"manners\"], [131, 131, \" I\\'m\"], [142, 145, \"with\"], [145, 149, \"\"], [154, 154, \",\"], [204, 209, \"as\"], [244, 247, \"l\"], [266, 268, \"that\"], [285, 285, \",\"], [297, 309, \"\"], [332, 335, \"l\"]]]]}\\n{\"text\": \"The most exciting day of my life was the 3rd of June, last year. I had an exam.\\\\nThat day I woke up early because I was nervous. Then I revise Maths as at home, before to go at school, as at school, before to begin the exam.\\\\nWhen I started to read the tracks I fell agitated and I thought that I wasn\\'t able to finish and pass that test. But when I finished before the time I was happy and relaxed. \\\\nI always said that I passed that test and I was sure of that. And this is true. I passed that test!\", \"userid\": \"23484\", \"id\": \"1-156838\", \"cefr\": \"A2.i\", \"edits\": [[0, [[52, 53, \"\"], [135, 141, \"revised\"], [147, 150, \"\"], [158, 159, \"\"], [167, 172, \"going\"], [173, 175, \"to\"], [196, 196, \" \"], [205, 213, \"beginning\"], [251, 257, null], [295, 301, \"wouldn\\'t be\"], [372, 372, \" was up\"], [420, 426, \"would pass\"], [465, 469, \"it\"]]]]}\\n{\"text\": \"Hello Charlie,\\\\n\\\\nI\\\\u00b4m really enjoyed hearing from you.\\\\n\\\\nCongratulations your sister for your prize.\\\\n\\\\nI would like to go to a new artist rolls competition, although in my city there aren\\\\u00b4t a lot of competitions of this kind If I\\'d have a posibility of going, I\\'d already spend the tickets. \", \"userid\": \"6228\", \"id\": \"1-28956\", \"cefr\": \"A1.ii\", \"edits\": [[0, [[16, 19, \"I\"], [70, 70, \"from \"], [82, 85, \"on\"], [127, 151, null], [179, 185, \"aren\\'t\"], [220, 220, \".\"], [224, 232, \"I had\"], [233, 234, \"the\"], [235, 245, \"possibility\"], [260, 267, null], [268, 273, \"buy\"]]]]}\\n{\"text\": \"My favourite sport \\\\nWhen I was three years old, my parents went skiing with me. At the beginn I went to the childgarden and they taught me skiing. It was a lot of fun, because I could not it. At twelve o\\'clock in the daytime my parents took me with them and we drove together. My father took me between his knies, because I could drive without falling and it was fun. \\\\nWhen I was older, I could get better my dream was:\\\\\"SNOWBOARDING\\\\\", but I should learn skiiing perfectly like my parents. \\\\nLater when I was 16 years old, my dream get true. I had my first snowboardlesson und I loved it. I took every free minute to drive snowboard.  That was the story why I go snowboarding.\\\\n\\\\nI enjoy snowoarding, because you feel free when you are driving down the piste. You are like a bird. It is the best feeling in the world. You are very happy und sometimes I sing a song and the world is perfect. That is everything I want to have and i\\'m lucky. That\\'s why I like the winter more than the summer. \\\\n\\\\nSnowboarding or skiing is the best sport for everyone who want to come to other thoughts. Although you are all the time in the nature and when you have luck you can see animals.\", \"userid\": \"14387\", \"id\": \"1-86001\", \"cefr\": \"A2.ii\", \"edits\": [[0, [[87, 93, \"beginning\"], [108, 119, \"kindergarten\"], [139, 145, \"to ski\"], [187, 187, \" do\"], [217, 224, \"afternoon,\"], [261, 266, \"skied\"], [307, 312, \"knees\"], [330, 335, \"ski\"], [351, 351, \" over\"], [389, 394, \"was able to\"], [405, 408, \". My\"], [441, 447, \"had to\"], [454, 461, \"to ski\"], [495, 495, \",\"], [530, 533, \"came\"], [555, 570, \"snowboard lesson\"], [571, 574, \"and\"], [615, 620, \"go\"], [621, 630, \"snowboarding\"], [638, 641, \"is\"], [651, 651, \" of\"], [684, 695, \"snowboarding\"], [732, 739, \"going\"], [833, 836, \"and\"], [925, 926, \"I\"], [1034, 1042, \"anyone\"], [1047, 1051, \"wants\"], [1079, 1087, \"Also,\"], [1092, 1095, \"spend\"], [1116, 1122, \"countryside\"], [1127, 1131, \"if\"], [1136, 1140, \"are\"], [1141, 1145, \"lucky,\"]]]]}\\n{\"text\": \"It had been a very long and tiring day, but Tom felt he had achieved something really good. Yesterday, he was on his way to home and it was getting dark. his parents were worried and called he a couple of times. He started walking very quickly\", \"userid\": \"33781\", \"id\": \"1-237308\", \"cefr\": \"A1.i\", \"edits\": [[0, [[120, 123, \"\"], [154, 157, \"His\"], [190, 192, \"him\"], [243, 243, \".\"]]]]}\\n{\"text\": \"Everything was dark.\\\\nShe open her eyes and the first thing that she saw was the black sky.A dark sky without stars.She got up and look around.She was in a part of the woods where she used to go to think and relax.\\\\nShe started to take consciousness although she couldn\\'t remember how she arrived there.She had to walk at least 15 minutes to go from her house to this place. The problem is the last thing she remember is that she has been sleeping and then suddenly woke up when the window opened with the wind. She fell sleep again,didn\\'t she? If she did, how she managed to walk until there in her sleep? If she wasn\\'t awake, why she couldn\\'t remember anything after that?\\\\nThis situation it was really fustrating not to mention that now she had to walk for almost 20 minutes to get home and back to sleep.She started to walk to clear her mind.She knows her way even in the dark; she had gone to this spot a lot of time,specially the last few weeks.\", \"userid\": \"22974\", \"id\": \"1-152732\", \"cefr\": \"A2.i\", \"edits\": [[0, [[25, 29, \"opened\"], [86, 91, \"sky. A\"], [109, 118, \"stars. She\"], [130, 134, \"looked\"], [135, 145, \"around. She\"], [229, 247, null], [247, 247, \",\"], [287, 294, \"got\"], [295, 304, \"there. She\"], [340, 342, \"get\"], [385, 387, \"was,\"], [407, 415, \"remembered\"], [416, 418, \"was\"], [495, 499, \"because of\"], [525, 534, \"again, did\"], [558, 558, \" did\"], [563, 570, \"manage\"], [578, 584, \"\"], [630, 642, \"couldn\\'t she\"], [687, 690, \"\"], [702, 712, \"frustrating,\"], [799, 808, \"sleep. She\"], [838, 846, \"mind. She\"], [847, 852, \"knew\"], [914, 928, \"times, especially\"]]]]}\\n{\"text\": \"The development of human kind in technology is seen everywhere. In case of transportation technology, in this twenty first century we have various option like Plan that can fly with the cloud, train that fast and big enough that carry hundreds of people and travel hundreds of mile an hour and boat that much bigger and faster than ancient time. \\\\nAlthough compared to ancient time we are lucky enough that we have all these option. However, if I have given option to choose between all of three, I will say plane. There are three reason to choose this. First reason is its speed, compare to both other means of transportation it can travel faster. It can travel thousand of miles in a couple of hours. As a result people can save their time. Second is safety, compared to other the chances of accident is less. That makes it safer to travel by plane rather than the train or boat. Third one is comfort level. Plan is much more more comfortable than both train and boat. \\\\nIn conclusion, I will say that plan will be my first choice in all of three means of transportation. The reason behind my choice is speed, safety and comfort level that make plan as my first choice.\", \"userid\": \"36512\", \"id\": \"1-305551\", \"cefr\": \"A2.i\", \"edits\": [[0, [[66, 66, \" the\"], [130, 130, \",\"], [147, 153, \"options,\"], [159, 163, \"planes\"], [177, 181, \"in\"], [186, 191, \"clouds\"], [193, 198, \"trains\"], [203, 203, \" are\"], [224, 228, \"to\"], [277, 281, \"miles\"], [294, 298, \"boats\"], [303, 303, \" are\"], [331, 331, \" in\"], [340, 344, \"times\"], [376, 380, \"times,\"], [401, 408, \"to\"], [430, 439, \"\"], [446, 450, \"am\"], [456, 456, \" the\"], [485, 488, \"\"], [498, 502, \"would\"], [530, 536, \"reasons\"], [553, 558, \"The first\"], [578, 579, \"\"], [580, 587, \"compared\"], [625, 628, \". It\"], [662, 670, \"thousands\"], [713, 713, \",\"], [729, 735, \"\"], [777, 777, \" modes of transport,\"], [793, 801, \"accidents\"], [802, 804, \"are\"], [861, 865, \"\"], [881, 886, \"The third\"], [901, 907, \"\"], [909, 913, \"The plane\"], [1001, 1001, \" the\"], [1002, 1006, \"plane\"], [1031, 1033, \"out of\"], [1037, 1040, \"\"], [1128, 1134, \",\"], [1135, 1139, \"which\"], [1145, 1149, \"the plane\"], [1149, 1152, \"\"]]]]}\\n{\"text\": \"Everyone should take a year off between leaving school and starting college or university, to earn money or travel, it would be the best award for a student who attended the high school. The young people want to discover the world and travelling to reach places which would be unreachable otherwise\", \"userid\": \"43271\", \"id\": \"1-352651\", \"cefr\": \"A1.i\", \"edits\": [[0, [[114, 118, \". It\"], [160, 160, \" has\"], [169, 173, \"\"], [187, 196, \"Young\"], [246, 254, \"reaches\"], [298, 298, \".\"]]]]}\\n{\"text\": \"I had a wonderful day yesterday because I was in the beach all the afternoon. I went with my parents and my sister. The beach is located in A Guarda and its name is O Mui\\\\u00f1o.\\\\nThere are a lot of people in the beach. The water was very cold and I couldn\\\\u00b4t swim, then I played football in the sand of the beach. I took the sun a very long time and then I go to a cafe and and I drank a refreshment.\\\\nIt was a nice day because I spent a good time with my family.\\\\n\", \"userid\": \"29858\", \"id\": \"1-206499\", \"cefr\": \"A1.ii\", \"edits\": [[0, [[46, 48, \"on\"], [62, 66, \"\"], [180, 183, \"were\"], [200, 202, \"on\"], [294, 296, \"on\"], [310, 322, \"sunbathed for\"], [351, 353, \"went\"], [382, 393, \"drink\"], [423, 428, \"had\"]]]]}\\n{\"text\": \"No future for a public transpotr? is this claim or no? will we see on our roads the public transport afer 5 or eve 10 years yet? that is really so interesting question/ i think that it all depands from the development. now we can see that more and more people prefer travelling by car. yes, i agree, if you planed the travelling for a long distation and for a long time you would prefer to do it on car, couse firstly you;ll spend less time, you travelling will be comfortable, you\\'ll have a possibility to stop every where and for a long time, as you need. but if we are talking abot travelling across you city, would you prefer public transport or car? i think that this is the guestion for every one, and the answer can\\'t be one for all, cause, someone can use public transport, and economy by this not only money, but and the environment, but some people don\\'t like to use p.t., cause they spend more time for travelling or they simple don\\'t like to travell with another people. so, on my opinion, even after 10 years the public transport will be crossing on our street with enough amount of passangers\", \"userid\": \"20180\", \"id\": \"1-131735\", \"cefr\": \"A2.ii\", \"edits\": [[0, [[23, 32, \"transport\"], [34, 36, \"Is\"], [47, 47, \" true\"], [51, 53, \"not\"], [55, 59, \"Will\"], [67, 100, \"public transport on our roads\"], [101, 105, \"in\"], [111, 114, \"even\"], [123, 127, \"\"], [129, 133, \"That\"], [144, 146, \"such an\"], [167, 168, \".\"], [169, 170, \"I\"], [189, 196, \"depends\"], [197, 201, \"on\"], [202, 218, null], [219, 222, \"Now\"], [286, 289, \"Yes\"], [291, 292, \"I\"], [307, 313, \"planned\"], [318, 328, \"journey\"], [335, 339, \"faraway\"], [340, 349, \"destination\"], [396, 398, \"by\"], [404, 409, \"because,\"], [417, 417, \",\"], [418, 424, \"you\\'ll\"], [442, 445, \"your\"], [446, 456, \"journey\"], [490, 491, \"the\"], [512, 517, \"any\"], [517, 518, \"\"], [552, 557, \"need to.\"], [558, 561, \"But\"], [580, 584, \"about\"], [603, 606, \"your\"], [655, 656, \"I\"], [680, 688, \"question\"], [693, 702, \"everyone\"], [708, 711, \"there\"], [712, 731, \"can\\'t be one answer\"], [741, 746, \"because\"], [746, 747, \"\"], [748, 755, \"one person\"], [786, 793, \"save\"], [794, 796, \"in\"], [801, 801, \" way\"], [822, 825, \"\"], [881, 882, \"\"], [883, 888, \"because\"], [909, 913, \"\"], [933, 939, \"simply\"], [954, 961, \"travel\"], [967, 974, \"other\"], [983, 985, \"So\"], [987, 989, \"in\"], [1007, 1012, \"in\"], [1021, 1021, \",\"], [1022, 1026, \"\"], [1051, 1059, \"passing\"], [1067, 1073, \"streets\"], [1079, 1085, \"a reasonable\"], [1086, 1092, \"number\"], [1096, 1106, \"passengers.\"]]]]}\\n{\"text\": \"Hello Lara, \\\\n\\\\nThank you for your email. \\\\n\\\\nMy name is Mohamed and I am 28 years old male from the kingdom of Bahrain. I go to GYM and run on a daily basis to keep in shape and good health. \\\\nLooking forward to know more about you.\", \"userid\": \"583c7587-f5c8-4fc4-ba9c-5cf1f6e01c21\", \"id\": \"5-150140\", \"cefr\": \"A1.ii\", \"edits\": [[0, [[69, 69, \" a\"], [72, 73, \"-\"], [73, 79, \"year-\"], [97, 104, \"Kingdom\"], [124, 124, \" the\"], [208, 212, \"finding out\"]]]]}\\n{\"text\": \"my village is the place where I live so I am trying to keep its environment non-polluted and valid for life. In order to attain this goal I have to take steps and actions to protect the environment as follows:\\\\nno smoking in the public places.\\\\nincreasing the number of tries and plants and punish the person who cuts them.\\\\nestablishing the factories outside of the village.\\\\nprotect the water sources and the sea.\\\\nguide the people and giving them of infomation, details and guidelines about the pollution. \\\\n\\\\n\\\\n\", \"userid\": \"7550\", \"id\": \"1-44929\", \"cefr\": \"A1.ii\", \"edits\": [[0, [[0, 2, \"My\"], [36, 36, \",\"], [93, 98, \"suitable\"], [137, 137, \",\"], [223, 227, \"\"], [243, 253, \"increase\"], [268, 273, \"trees\"], [296, 306, \"people\"], [311, 315, \"cut\"], [316, 321, \"them down.\"], [322, 334, \"establish\"], [334, 338, \"\"], [417, 421, \"\"], [433, 439, \"give\"], [444, 447, \"\"], [448, 458, \"information\"], [488, 492, \"\"]]]]}\\n{\"text\": \"I\\'d like to tell you about my favorite restaurant its name is \\\\\"Lemon\\\\\" I go there every week it has different food from any restaurants I\\'d like chicken crispy with garlic sauce It\\'s Excellent choice for me and My favorite appitizer is susage and in order that desert I\\'d rather \\\\\"Vadge\\\\\" cake with chocolate sauce I feel I;m at ease when I go there I enjoy  classical music over having a lunch about the service It\\'s very good and all staff are respectable I can\\'t imagine one week without going there that drives me nuts I advise any one to go there and enjoy  a time there , also this restaurant has a relative advantage in hygiene really It\\'s  excellent This strikingly thing for anyone  despite all of these advantages prices are not expensive .\", \"userid\": \"13020\", \"id\": \"1-85579\", \"cefr\": \"A1.ii\", \"edits\": [[0, [[49, 53, \". It\\'s\"], [69, 69, \".\"], [91, 94, \". It\"], [114, 118, \"to\"], [119, 122, \"other\"], [134, 134, \".\"], [135, 138, \"I\"], [144, 158, \"crispy chicken\"], [176, 176, \".\"], [182, 182, \"an \"], [182, 191, \"excellent\"], [205, 205, \".\"], [206, 209, \"And\"], [210, 212, \"my\"], [222, 231, \"appetizer\"], [235, 241, \"sausage\"], [246, 259, null], [260, 266, \"dessert\"], [267, 271, \"I \"], [271, 277, \"like\"], [311, 311, \".\"], [319, 322, \"\"], [346, 346, \".\"], [372, 376, \"while\"], [384, 385, \"\"], [391, 397, \". About\"], [409, 409, \":\"], [410, 414, \"it\\'s\"], [433, 433, \"the \"], [454, 454, \".\"], [499, 504, \". That\"], [505, 511, \"would drive\"], [519, 519, \".\"], [529, 536, \"everyone\"], [560, 561, \"their\"], [572, 579, \". Also\"], [579, 579, \",\"], [602, 623, null], [632, 638, null], [638, 638, \".\"], [654, 654, \".\"], [655, 659, \"The\"], [660, 670, \"striking\"], [688, 688, \",\"], [688, 688, \"is that\"], [720, 720, \",\"], [721, 721, \"the \"], [745, 747, \".\"]]]]}\\n{\"text\": \"Volleyball in one of the most difficult sports in the world, you should put your body in the correct form to throw the ball to the other side in the game. \\\\nI been twelve years practice volleyball and because of it I knew lot of people who help me to grow up in the sport and life. When I was 10 I be choose to play with a group of girls older than me, they were goods, and I can\\'t believe the experience. \\\\nVolleyball its my favorite sport because when I am with my team playing I were in another world, in which I can be free and happy, apart of this, when I am bad, this is a distration of the university.\\\\nYou should try practice its so funny, but I advertise you, is not easy at first, but you hace to intent many times like you should do in life.\\\\n\", \"userid\": \"33816\", \"id\": \"1-237683\", \"cefr\": \"A2.i\", \"edits\": [[0, [[11, 13, \"is\"], [59, 64, \". You\"], [65, 71, \"have to\"], [101, 105, null], [157, 157, \" have\"], [163, 195, \"playing volleyball for twelve years\"], [211, 213, \"that\"], [216, 220, \"have got to know a\"], [294, 294, \",\"], [297, 306, \"chose\"], [350, 356, \". They\"], [362, 367, \"good\"], [375, 377, \"could\"], [417, 420, \"is\"], [457, 477, \"playing with my team,\"], [480, 484, \"am\"], [501, 502, \"\"], [535, 542, \". Apart\"], [543, 545, \"from\"], [561, 561, \" feeling\"], [577, 587, \"distraction\"], [588, 590, \"from\"], [590, 594, \"\"], [622, 630, \"playing,\"], [631, 634, \"it\\'s\"], [635, 637, \"such\"], [638, 643, \"fun\"], [651, 660, \"warn\"], [665, 665, \" it\"], [696, 700, \"have\"], [704, 710, \"try\"]]]]}\\n{\"text\": \"In weekdays, I get off from my bed at 7 in the morning to go to my work which startst at 9 AM. I often go to sleep around 12 AM. I usually play videos games if I do not have any homework to do. I am not a big fan of sports so I do not play any. However I sometimes do a skipping to fit myself. \", \"userid\": \"582ff3c2-4b20-48a2-8c0b-095fb82b795e\", \"id\": \"5-132744\", \"cefr\": \"A1.ii\", \"edits\": [[0, [[0, 2, \"On\"], [19, 22, \"out\"], [23, 27, \"of\"], [71, 71, \",\"], [78, 85, \"starts\"], [144, 150, \"video\"], [222, 222, \",\"], [252, 252, \",\"], [267, 269, \"\"], [282, 285, \"keep\"], [292, 292, \" fit\"]]]]}\\n{\"text\": \"Michael  wake up at the morning and he read the newspaper  . He read in the newspaper an interesting noticie . The noticie was about a competition . The competition is about write stories . Michael was excited because he is great writer and he decided to compete . First , he found an idea for the story and he decided to make the story about pirates looking for treasure . He began to write . The story was very good but Michae did not know how to end the story  . Finally , Michael ended the story and he went to the post office . Michael sent the story but Michael closed the door and knew at that moment he had made a mistake , he didn\\'t put his name and address .\", \"userid\": \"8281\", \"id\": \"1-79070\", \"cefr\": \"A2.i\", \"edits\": [[0, [[9, 13, \"woke\"], [17, 19, \"in\"], [36, 38, \"\"], [57, 60, \".\"], [61, 85, \"In the newspaper, he read\"], [101, 109, \"notice\"], [115, 122, \"notice\"], [146, 148, \".\"], [165, 167, \"was\"], [174, 179, \"writing\"], [187, 189, \".\"], [221, 223, \"was\"], [224, 224, \"a \"], [255, 262, \"enter\"], [262, 264, \".\"], [270, 272, \",\"], [371, 373, \".\"], [391, 393, \".\"], [422, 428, \"Michael\"], [462, 465, \".\"], [473, 475, \",\"], [530, 532, \".\"], [560, 567, \"he\"], [629, 634, \". He\"], [642, 645, \"give\"], [666, 668, \".\"]]]]}\\n{\"text\": \"  Yes, i think TV can entertain and educate, because there are many comedy. Also there are a lots of educate channels.\\\\nI think historical channels are very interesting, because you can learn new thing about past. Comedies are so funny, so when you are sad u can watch one of them.\", \"userid\": \"31734\", \"id\": \"1-274921\", \"cefr\": \"A1.ii\", \"edits\": [[0, [[7, 8, \"I\"], [68, 74, \"comedies\"], [93, 97, \"lot\"], [101, 108, \"educational\"], [195, 200, \"things\"], [206, 206, \" the\"], [256, 257, \"you\"]]]]}\\n{\"text\": \"There are many discussions about the future of the public transport. Different experts had talked about this question and there are so several opinions. People like to have the freedom for moving comfortably and for this reason, some people usually prefer to use their cars. Public transport usually is restrected with the timetables and you only may use the transport in the moment that the timetable let you. For this way, many people don\\\\u00b4t like to use the public transport because they want to move themselves when they need. By the other hand, public transport is better for the environment, because the pollution is lesser than using your own car. Finally, in the future, the commodity of people maybe is going to determinate the most use of the cars than the public transport.\", \"userid\": \"26158\", \"id\": \"1-178486\", \"cefr\": \"A1.ii\", \"edits\": [[0, [[46, 50, \"\"], [87, 90, \"have\"], [122, 134, \"so there are\"], [185, 188, \"to\"], [189, 195, \"travel\"], [292, 302, \"is usually\"], [303, 313, \"restricted\"], [314, 318, \"because of\"], [342, 350, \"can only\"], [354, 358, \"\"], [369, 371, \"at\"], [376, 382, \"time\"], [402, 405, \"lets\"], [420, 423, \"reason\"], [454, 458, \"\"], [497, 512, \"travel\"], [527, 527, \" to\"], [529, 531, \"On\"], [621, 627, \"less\"], [681, 690, null], [701, 709, \"is maybe\"], [719, 730, \"determine\"], [731, 781, null]]]]}\\n{\"text\": \"Susan is a little dragon. Her skin is colored red and green, red dots ontop of the green to be more precise. She does that every day after school. Of course, she has also a little brother. His skin is colored red, just like the father.\", \"userid\": \"23782\", \"id\": \"1-159067\", \"cefr\": \"A1.ii\", \"edits\": [[0, [[59, 60, \";\"], [70, 75, \"on top\"], [162, 170, \"also has\"], [224, 227, \"their\"], [234, 234, \"\\'s\"]]]]}\\n'"
            ]
          },
          "metadata": {
            "tags": []
          },
          "execution_count": 33
        }
      ]
    },
    {
      "cell_type": "code",
      "metadata": {
        "id": "H4ynd_FqjV4O"
      },
      "source": [
        "def squad_json_to_dataframe_train(input_file_path, record_path = ['data','paragraphs','qas','answers'],\n",
        "                           verbose = 1):\n",
        "    \"\"\"\n",
        "    input_file_path: path to the squad json file.\n",
        "    record_path: path to deepest level in json file default value is\n",
        "    ['data','paragraphs','qas','answers']\n",
        "    verbose: 0 to suppress it default is 1\n",
        "    \"\"\"\n",
        "    if verbose:\n",
        "        print(\"Reading the json file\")    \n",
        "    file = json.loads(open(input_file_path).read())\n",
        "    if verbose:\n",
        "        print(\"processing...\")\n",
        "    # parsing different level's in the json file\n",
        "    js = pd.io.json.json_normalize(file , record_path )\n",
        "    m = pd.io.json.json_normalize(file, record_path[:-1] )\n",
        "    r = pd.io.json.json_normalize(file,record_path[:-2])\n",
        "    \n",
        "    #combining it into single dataframe\n",
        "    idx = np.repeat(r['context'].values, r.qas.str.len())\n",
        "    ndx  = np.repeat(m['id'].values,m['answers'].str.len())\n",
        "    m['context'] = idx\n",
        "    js['q_idx'] = ndx\n",
        "    main = pd.concat([ m[['id','question','context']].set_index('id'),js.set_index('q_idx')],1,sort=False).reset_index()\n",
        "    main['c_id'] = main['context'].factorize()[0]\n",
        "    if verbose:\n",
        "        print(\"shape of the dataframe is {}\".format(main.shape))\n",
        "        print(\"Done\")\n",
        "    return main"
      ],
      "execution_count": null,
      "outputs": []
    },
    {
      "cell_type": "markdown",
      "metadata": {
        "id": "VRpbVPuJX40s"
      },
      "source": [
        "## 참고문헌"
      ]
    },
    {
      "cell_type": "markdown",
      "metadata": {
        "id": "cmQiQ7lyX2Ul"
      },
      "source": [
        "[1] [The CoNLL-2013 Shared Task on Grammatical Error Correction](https://www.aclweb.org/anthology/W13-3601.pdf)\n",
        "\n",
        "[2] [The CoNLL-2014 Shared Task on Grammatical Error Correction](https://www.comp.nus.edu.sg/~nlp/conll14st/CoNLLST01.pdf)\n",
        "\n",
        "\n",
        "\n"
      ]
    },
    {
      "cell_type": "code",
      "metadata": {
        "id": "g3Zxd0gcX4Da"
      },
      "source": [
        "[\"essay1\", \"essay2\", \"essay3\"]"
      ],
      "execution_count": null,
      "outputs": []
    },
    {
      "cell_type": "code",
      "metadata": {
        "id": "pm5KeukgoDPD"
      },
      "source": [
        "ch6. reference "
      ],
      "execution_count": null,
      "outputs": []
    },
    {
      "cell_type": "code",
      "metadata": {
        "id": "4vqOcBhSaWXE"
      },
      "source": [
        "!pip install benepar==0.1.2\n",
        "!pip install summa\n",
        "!pip install nltk==3.4.5\n",
        "!pip install spacy==2.1.0\n",
        "!python3 -m spacy download en\n",
        "!pip install scipy"
      ],
      "execution_count": null,
      "outputs": []
    },
    {
      "cell_type": "code",
      "metadata": {
        "id": "jlupgRFFbvF2",
        "colab": {
          "base_uri": "https://localhost:8080/",
          "height": 859
        },
        "outputId": "5ebead3e-5c3c-4d1b-830b-1d04fa09972a"
      },
      "source": [
        "!pip install tensorflow==1.14.0 \n"
      ],
      "execution_count": null,
      "outputs": [
        {
          "output_type": "stream",
          "text": [
            "Collecting tensorflow==1.14.0\n",
            "\u001b[?25l  Downloading https://files.pythonhosted.org/packages/f4/28/96efba1a516cdacc2e2d6d081f699c001d414cc8ca3250e6d59ae657eb2b/tensorflow-1.14.0-cp37-cp37m-manylinux1_x86_64.whl (109.3MB)\n",
            "\u001b[K     |████████████████████████████████| 109.3MB 94kB/s \n",
            "\u001b[?25hRequirement already satisfied: numpy<2.0,>=1.14.5 in /usr/local/lib/python3.7/dist-packages (from tensorflow==1.14.0) (1.19.5)\n",
            "Requirement already satisfied: six>=1.10.0 in /usr/local/lib/python3.7/dist-packages (from tensorflow==1.14.0) (1.15.0)\n",
            "Requirement already satisfied: google-pasta>=0.1.6 in /usr/local/lib/python3.7/dist-packages (from tensorflow==1.14.0) (0.2.0)\n",
            "Requirement already satisfied: termcolor>=1.1.0 in /usr/local/lib/python3.7/dist-packages (from tensorflow==1.14.0) (1.1.0)\n",
            "Requirement already satisfied: gast>=0.2.0 in /usr/local/lib/python3.7/dist-packages (from tensorflow==1.14.0) (0.3.3)\n",
            "Requirement already satisfied: wrapt>=1.11.1 in /usr/local/lib/python3.7/dist-packages (from tensorflow==1.14.0) (1.12.1)\n",
            "Requirement already satisfied: grpcio>=1.8.6 in /usr/local/lib/python3.7/dist-packages (from tensorflow==1.14.0) (1.32.0)\n",
            "Requirement already satisfied: wheel>=0.26 in /usr/local/lib/python3.7/dist-packages (from tensorflow==1.14.0) (0.36.2)\n",
            "Requirement already satisfied: keras-preprocessing>=1.0.5 in /usr/local/lib/python3.7/dist-packages (from tensorflow==1.14.0) (1.1.2)\n",
            "Requirement already satisfied: protobuf>=3.6.1 in /usr/local/lib/python3.7/dist-packages (from tensorflow==1.14.0) (3.12.4)\n",
            "Requirement already satisfied: astor>=0.6.0 in /usr/local/lib/python3.7/dist-packages (from tensorflow==1.14.0) (0.8.1)\n",
            "Collecting tensorboard<1.15.0,>=1.14.0\n",
            "\u001b[?25l  Downloading https://files.pythonhosted.org/packages/91/2d/2ed263449a078cd9c8a9ba50ebd50123adf1f8cfbea1492f9084169b89d9/tensorboard-1.14.0-py3-none-any.whl (3.1MB)\n",
            "\u001b[K     |████████████████████████████████| 3.2MB 44.1MB/s \n",
            "\u001b[?25hCollecting tensorflow-estimator<1.15.0rc0,>=1.14.0rc0\n",
            "\u001b[?25l  Downloading https://files.pythonhosted.org/packages/3c/d5/21860a5b11caf0678fbc8319341b0ae21a07156911132e0e71bffed0510d/tensorflow_estimator-1.14.0-py2.py3-none-any.whl (488kB)\n",
            "\u001b[K     |████████████████████████████████| 491kB 48.4MB/s \n",
            "\u001b[?25hCollecting keras-applications>=1.0.6\n",
            "\u001b[?25l  Downloading https://files.pythonhosted.org/packages/71/e3/19762fdfc62877ae9102edf6342d71b28fbfd9dea3d2f96a882ce099b03f/Keras_Applications-1.0.8-py3-none-any.whl (50kB)\n",
            "\u001b[K     |████████████████████████████████| 51kB 4.6MB/s \n",
            "\u001b[?25hRequirement already satisfied: absl-py>=0.7.0 in /usr/local/lib/python3.7/dist-packages (from tensorflow==1.14.0) (0.10.0)\n",
            "Requirement already satisfied: setuptools in /usr/local/lib/python3.7/dist-packages (from protobuf>=3.6.1->tensorflow==1.14.0) (54.0.0)\n",
            "Requirement already satisfied: markdown>=2.6.8 in /usr/local/lib/python3.7/dist-packages (from tensorboard<1.15.0,>=1.14.0->tensorflow==1.14.0) (3.3.4)\n",
            "Requirement already satisfied: werkzeug>=0.11.15 in /usr/local/lib/python3.7/dist-packages (from tensorboard<1.15.0,>=1.14.0->tensorflow==1.14.0) (1.0.1)\n",
            "Requirement already satisfied: h5py in /usr/local/lib/python3.7/dist-packages (from keras-applications>=1.0.6->tensorflow==1.14.0) (2.10.0)\n",
            "Requirement already satisfied: importlib-metadata; python_version < \"3.8\" in /usr/local/lib/python3.7/dist-packages (from markdown>=2.6.8->tensorboard<1.15.0,>=1.14.0->tensorflow==1.14.0) (3.7.2)\n",
            "Requirement already satisfied: typing-extensions>=3.6.4; python_version < \"3.8\" in /usr/local/lib/python3.7/dist-packages (from importlib-metadata; python_version < \"3.8\"->markdown>=2.6.8->tensorboard<1.15.0,>=1.14.0->tensorflow==1.14.0) (3.7.4.3)\n",
            "Requirement already satisfied: zipp>=0.5 in /usr/local/lib/python3.7/dist-packages (from importlib-metadata; python_version < \"3.8\"->markdown>=2.6.8->tensorboard<1.15.0,>=1.14.0->tensorflow==1.14.0) (3.4.1)\n",
            "Installing collected packages: tensorboard, tensorflow-estimator, keras-applications, tensorflow\n",
            "  Found existing installation: tensorboard 2.4.1\n",
            "    Uninstalling tensorboard-2.4.1:\n",
            "      Successfully uninstalled tensorboard-2.4.1\n",
            "  Found existing installation: tensorflow-estimator 2.4.0\n",
            "    Uninstalling tensorflow-estimator-2.4.0:\n",
            "      Successfully uninstalled tensorflow-estimator-2.4.0\n",
            "  Found existing installation: tensorflow 2.4.1\n",
            "    Uninstalling tensorflow-2.4.1:\n",
            "      Successfully uninstalled tensorflow-2.4.1\n",
            "Successfully installed keras-applications-1.0.8 tensorboard-1.14.0 tensorflow-1.14.0 tensorflow-estimator-1.14.0\n"
          ],
          "name": "stdout"
        },
        {
          "output_type": "display_data",
          "data": {
            "application/vnd.colab-display-data+json": {
              "pip_warning": {
                "packages": [
                  "tensorboard",
                  "tensorflow"
                ]
              }
            }
          },
          "metadata": {
            "tags": []
          }
        }
      ]
    },
    {
      "cell_type": "code",
      "metadata": {
        "id": "7trEMGTNa2dz",
        "colab": {
          "base_uri": "https://localhost:8080/"
        },
        "outputId": "5857b113-7908-450c-86c4-8b51627e3875"
      },
      "source": [
        "import requests\n",
        "import json\n",
        "from summa.summarizer import summarize\n",
        "import benepar\n",
        "import string\n",
        "import nltk\n",
        "from nltk import tokenize\n",
        "from nltk.tokenize import sent_tokenize\n",
        "import re\n",
        "from random import shuffle\n",
        "import spacy\n",
        "nlp = spacy.load('en')\n",
        "#this package is required for the summa summarizer\n",
        "nltk.download('punkt')\n",
        "benepar.download('benepar_en2')\n",
        "benepar_parser = benepar.Parser(\"benepar_en2\")"
      ],
      "execution_count": null,
      "outputs": [
        {
          "output_type": "stream",
          "text": [
            "/usr/local/lib/python3.7/dist-packages/tensorflow/python/framework/dtypes.py:516: FutureWarning: Passing (type, 1) or '1type' as a synonym of type is deprecated; in a future version of numpy, it will be understood as (type, (1,)) / '(1,)type'.\n",
            "  _np_qint8 = np.dtype([(\"qint8\", np.int8, 1)])\n",
            "/usr/local/lib/python3.7/dist-packages/tensorflow/python/framework/dtypes.py:517: FutureWarning: Passing (type, 1) or '1type' as a synonym of type is deprecated; in a future version of numpy, it will be understood as (type, (1,)) / '(1,)type'.\n",
            "  _np_quint8 = np.dtype([(\"quint8\", np.uint8, 1)])\n",
            "/usr/local/lib/python3.7/dist-packages/tensorflow/python/framework/dtypes.py:518: FutureWarning: Passing (type, 1) or '1type' as a synonym of type is deprecated; in a future version of numpy, it will be understood as (type, (1,)) / '(1,)type'.\n",
            "  _np_qint16 = np.dtype([(\"qint16\", np.int16, 1)])\n",
            "/usr/local/lib/python3.7/dist-packages/tensorflow/python/framework/dtypes.py:519: FutureWarning: Passing (type, 1) or '1type' as a synonym of type is deprecated; in a future version of numpy, it will be understood as (type, (1,)) / '(1,)type'.\n",
            "  _np_quint16 = np.dtype([(\"quint16\", np.uint16, 1)])\n",
            "/usr/local/lib/python3.7/dist-packages/tensorflow/python/framework/dtypes.py:520: FutureWarning: Passing (type, 1) or '1type' as a synonym of type is deprecated; in a future version of numpy, it will be understood as (type, (1,)) / '(1,)type'.\n",
            "  _np_qint32 = np.dtype([(\"qint32\", np.int32, 1)])\n",
            "/usr/local/lib/python3.7/dist-packages/tensorflow/python/framework/dtypes.py:525: FutureWarning: Passing (type, 1) or '1type' as a synonym of type is deprecated; in a future version of numpy, it will be understood as (type, (1,)) / '(1,)type'.\n",
            "  np_resource = np.dtype([(\"resource\", np.ubyte, 1)])\n",
            "/usr/local/lib/python3.7/dist-packages/tensorboard/compat/tensorflow_stub/dtypes.py:541: FutureWarning: Passing (type, 1) or '1type' as a synonym of type is deprecated; in a future version of numpy, it will be understood as (type, (1,)) / '(1,)type'.\n",
            "  _np_qint8 = np.dtype([(\"qint8\", np.int8, 1)])\n",
            "/usr/local/lib/python3.7/dist-packages/tensorboard/compat/tensorflow_stub/dtypes.py:542: FutureWarning: Passing (type, 1) or '1type' as a synonym of type is deprecated; in a future version of numpy, it will be understood as (type, (1,)) / '(1,)type'.\n",
            "  _np_quint8 = np.dtype([(\"quint8\", np.uint8, 1)])\n",
            "/usr/local/lib/python3.7/dist-packages/tensorboard/compat/tensorflow_stub/dtypes.py:543: FutureWarning: Passing (type, 1) or '1type' as a synonym of type is deprecated; in a future version of numpy, it will be understood as (type, (1,)) / '(1,)type'.\n",
            "  _np_qint16 = np.dtype([(\"qint16\", np.int16, 1)])\n",
            "/usr/local/lib/python3.7/dist-packages/tensorboard/compat/tensorflow_stub/dtypes.py:544: FutureWarning: Passing (type, 1) or '1type' as a synonym of type is deprecated; in a future version of numpy, it will be understood as (type, (1,)) / '(1,)type'.\n",
            "  _np_quint16 = np.dtype([(\"quint16\", np.uint16, 1)])\n",
            "/usr/local/lib/python3.7/dist-packages/tensorboard/compat/tensorflow_stub/dtypes.py:545: FutureWarning: Passing (type, 1) or '1type' as a synonym of type is deprecated; in a future version of numpy, it will be understood as (type, (1,)) / '(1,)type'.\n",
            "  _np_qint32 = np.dtype([(\"qint32\", np.int32, 1)])\n",
            "/usr/local/lib/python3.7/dist-packages/tensorboard/compat/tensorflow_stub/dtypes.py:550: FutureWarning: Passing (type, 1) or '1type' as a synonym of type is deprecated; in a future version of numpy, it will be understood as (type, (1,)) / '(1,)type'.\n",
            "  np_resource = np.dtype([(\"resource\", np.ubyte, 1)])\n",
            "[nltk_data] Downloading package punkt to /root/nltk_data...\n",
            "[nltk_data]   Package punkt is already up-to-date!\n",
            "[nltk_data] Downloading package benepar_en2 to /root/nltk_data...\n",
            "[nltk_data]   Package benepar_en2 is already up-to-date!\n"
          ],
          "name": "stderr"
        },
        {
          "output_type": "stream",
          "text": [
            "WARNING:tensorflow:From /usr/local/lib/python3.7/dist-packages/benepar/base_parser.py:197: The name tf.GraphDef is deprecated. Please use tf.compat.v1.GraphDef instead.\n",
            "\n",
            "WARNING:tensorflow:From /usr/local/lib/python3.7/dist-packages/benepar/base_parser.py:202: The name tf.Session is deprecated. Please use tf.compat.v1.Session instead.\n",
            "\n"
          ],
          "name": "stdout"
        }
      ]
    },
    {
      "cell_type": "code",
      "metadata": {
        "id": "8Kr-GAfqbjLN"
      },
      "source": [
        "sentences[0]"
      ],
      "execution_count": null,
      "outputs": []
    },
    {
      "cell_type": "code",
      "metadata": {
        "id": "adLwq3EkbIVO",
        "colab": {
          "base_uri": "https://localhost:8080/"
        },
        "outputId": "c0f9a158-3c9c-4f55-ec27-0195354a7a00"
      },
      "source": [
        "from string import punctuation\n",
        "\n",
        "def preprocess(sentences):\n",
        "    output = []\n",
        "    for sent in sentences:\n",
        "        single_quotes_present = len(re.findall(r\"['][\\w\\s.:;,!?\\\\-]+[']\",sent))>0\n",
        "        double_quotes_present = len(re.findall(r'[\"][\\w\\s.:;,!?\\\\-]+[\"]',sent))>0\n",
        "        question_present = \"?\" in sent\n",
        "        if single_quotes_present or double_quotes_present or question_present :\n",
        "            continue\n",
        "        else:\n",
        "            output.append(sent.strip(punctuation))\n",
        "    return output\n",
        "        \n",
        "        \n",
        "def get_candidate_sents(resolved_text, ratio=0.3):\n",
        "    candidate_sents = summarize(resolved_text, ratio=ratio)\n",
        "    candidate_sents_list = tokenize.sent_tokenize(candidate_sents)\n",
        "    candidate_sents_list = [re.split(r'[:;]+',x)[0] for x in candidate_sents_list ]\n",
        "    # Remove very short sentences less than 30 characters and long sentences greater than 150 characters\n",
        "    filtered_list_short_sentences = [sent for sent in candidate_sents_list if len(sent)>30 and len(sent)<150]\n",
        "    return filtered_list_short_sentences\n",
        "\n",
        "cand_sents = get_candidate_sents(sentences[0])\n",
        "filter_quotes_and_questions = preprocess(cand_sents)\n",
        "for each_sentence in filter_quotes_and_questions:\n",
        "    print (each_sentence)\n",
        "    print (\"\\n\")"
      ],
      "execution_count": null,
      "outputs": [
        {
          "output_type": "stream",
          "text": [
            "The convenience and high efficiency of using electronic products is being noticed by people worldwide\n",
            "\n",
            "\n",
            "In this essay, I will discuss that if surveillance technology such as RFID (radio-frequency identification) should be used or not to track people\n",
            "\n",
            "\n"
          ],
          "name": "stdout"
        }
      ]
    },
    {
      "cell_type": "code",
      "metadata": {
        "colab": {
          "base_uri": "https://localhost:8080/"
        },
        "id": "vWTCNsEbMGog",
        "outputId": "8bd4a0e7-085d-436b-94ce-45b5cef778da"
      },
      "source": [
        "\n",
        "from IPython.display import Markdown, display\n",
        "def printmd(string):\n",
        "    display(Markdown(string))\n",
        "    \n",
        "def get_flattened(t):\n",
        "    sent_str_final = None\n",
        "    if t is not None:\n",
        "        sent_str = [\" \".join(x.leaves()) for x in list(t)]\n",
        "        sent_str_final = [\" \".join(sent_str)]\n",
        "        sent_str_final = sent_str_final[0]\n",
        "    return sent_str_final\n",
        "    \n",
        "\n",
        "def get_termination_portion(main_string,sub_string):\n",
        "    combined_sub_string = sub_string.replace(\" \",\"\")\n",
        "    main_string_list = main_string.split()\n",
        "    last_index = len(main_string_list)\n",
        "    for i in range(last_index):\n",
        "        check_string_list = main_string_list[i:]\n",
        "        check_string = \"\".join(check_string_list)\n",
        "        check_string = check_string.replace(\" \",\"\")\n",
        "        if check_string == combined_sub_string:\n",
        "            return \" \".join(main_string_list[:i])\n",
        "                     \n",
        "    return None\n",
        "    \n",
        "def get_right_most_VP_or_NP(parse_tree,last_NP = None,last_VP = None):\n",
        "    if len(parse_tree.leaves()) == 1:\n",
        "        return get_flattened(last_NP),get_flattened(last_VP)\n",
        "    last_subtree = parse_tree[-1]\n",
        "    if last_subtree.label() == \"NP\":\n",
        "        last_NP = last_subtree\n",
        "    elif last_subtree.label() == \"VP\":\n",
        "        last_VP = last_subtree\n",
        "    \n",
        "    return get_right_most_VP_or_NP(last_subtree,last_NP,last_VP)\n",
        "\n",
        "\n",
        "def get_sentence_completions(key_sentences):\n",
        "    sentence_completion_dict = {}\n",
        "    for individual_sentence in filter_quotes_and_questions:\n",
        "        sentence = individual_sentence.rstrip('?:!.,;')\n",
        "        tree = benepar_parser.parse(sentence)\n",
        "        last_nounphrase, last_verbphrase =  get_right_most_VP_or_NP(tree)\n",
        "        phrases= []\n",
        "        if last_verbphrase is not None:\n",
        "            verbphrase_string = get_termination_portion(sentence,last_verbphrase)\n",
        "            phrases.append(verbphrase_string)\n",
        "        if last_nounphrase is not None:\n",
        "            nounphrase_string = get_termination_portion(sentence,last_nounphrase)\n",
        "            phrases.append(nounphrase_string)\n",
        "\n",
        "        longest_phrase =  sorted(phrases, key=len,reverse= True)\n",
        "        if len(longest_phrase) == 2:\n",
        "            first_sent_len = len(longest_phrase[0].split())\n",
        "            second_sentence_len = len(longest_phrase[1].split())\n",
        "            if (first_sent_len - second_sentence_len) > 4:\n",
        "                del longest_phrase[1]\n",
        "                \n",
        "        if len(longest_phrase)>0:\n",
        "            sentence_completion_dict[sentence]=longest_phrase\n",
        "    return sentence_completion_dict\n",
        "\n",
        "\n",
        "\n",
        "sent_completion_dict = get_sentence_completions(filter_quotes_and_questions)\n",
        "\n",
        "print (sent_completion_dict)\n",
        "\n",
        "\n",
        "    "
      ],
      "execution_count": null,
      "outputs": [
        {
          "output_type": "stream",
          "text": [
            "{'The convenience and high efficiency of using electronic products is being noticed by people worldwide': ['The convenience and high efficiency of using electronic products is being noticed by', 'The convenience and high efficiency of using electronic products is being'], 'In this essay, I will discuss that if surveillance technology such as RFID (radio-frequency identification) should be used or not to track people': ['In this essay, I will discuss that if surveillance technology such as RFID (radio-frequency identification) should be used or not to track', 'In this essay, I will discuss that if surveillance technology such as RFID (radio-frequency identification) should be used or not to']}\n"
          ],
          "name": "stdout"
        }
      ]
    },
    {
      "cell_type": "code",
      "metadata": {
        "id": "6JZsvzhbcYoS",
        "colab": {
          "base_uri": "https://localhost:8080/"
        },
        "outputId": "653cc08a-a12c-4104-a2e3-5c9ea56fdc0f"
      },
      "source": [
        "sent_completion_dict['The convenience and high efficiency of using electronic products is being noticed by people worldwide']"
      ],
      "execution_count": null,
      "outputs": [
        {
          "output_type": "execute_result",
          "data": {
            "text/plain": [
              "['The convenience and high efficiency of using electronic products is being noticed by',\n",
              " 'The convenience and high efficiency of using electronic products is being']"
            ]
          },
          "metadata": {
            "tags": []
          },
          "execution_count": 19
        }
      ]
    },
    {
      "cell_type": "code",
      "metadata": {
        "id": "OfhP8w-SclKH",
        "colab": {
          "base_uri": "https://localhost:8080/"
        },
        "outputId": "59a5abb5-e96b-4f70-b839-de0c5fabdd61"
      },
      "source": [
        "sent_completion_dict['In this essay, I will discuss that if surveillance technology such as RFID (radio-frequency identification) should be used or not to track people']"
      ],
      "execution_count": null,
      "outputs": [
        {
          "output_type": "execute_result",
          "data": {
            "text/plain": [
              "['In this essay, I will discuss that if surveillance technology such as RFID (radio-frequency identification) should be used or not to track',\n",
              " 'In this essay, I will discuss that if surveillance technology such as RFID (radio-frequency identification) should be used or not to']"
            ]
          },
          "metadata": {
            "tags": []
          },
          "execution_count": 20
        }
      ]
    },
    {
      "cell_type": "code",
      "metadata": {
        "id": "QJdj2MFlczpP"
      },
      "source": [
        "\n",
        "!pip install sentence-transformers==0.2.5.1\n",
        "!pip install transformers==2.6.0"
      ],
      "execution_count": null,
      "outputs": []
    },
    {
      "cell_type": "code",
      "metadata": {
        "id": "fqtrQrCtcrpU",
        "colab": {
          "base_uri": "https://localhost:8080/",
          "height": 214,
          "referenced_widgets": [
            "55876bba14a74ed08ab3cca918d0d3e2",
            "4ad8bfb8e86d48dfb3a6ba6eedbe87a9",
            "b25aa26f95d548a9a0170856ad310ca5",
            "1fb68017fd424709a3a6bb18743c2f45",
            "38528bb95ef84777b65c3a8155e4f486",
            "2a9fa1bf24fe4948aafa169ae9085a21",
            "c02d231a0bbe42438b930a4b85c6a5e1",
            "0356e679e3b24a0daea1403a4db94b72",
            "ce3e610f340e4126bd536414d52a9430",
            "6eba1f126b2448c49481db35492f0056",
            "a1132e8a445d4b9aac1f1d51e4ef27dd",
            "5798cf012644463c9055713b24332543",
            "8ba165b274fe4640a567b112366afe04",
            "efe0525b071d4ab3a4fe5d51492e75df",
            "1a28b24a6f754881b7aa66c24c047ac9",
            "027532b86b9948cb8472270372957e8d",
            "a9f194240d28445b919af67f69b9239f",
            "aa65f12233ba40578367b5c416a98b65",
            "7b54e149c6154531b4a030a64b4fc3a8",
            "35845085ce11409fb05b80666798a13d",
            "4a62d98359554d24b7615d9c3622a9ab",
            "03e28307af124cfda60f94fea6f61f88",
            "471877dd6db14d5da9b304b757f7bf2a",
            "99b84a050a9b4ffdb822c16fecadc1dd",
            "08d79dc449154f6189ca8f48296221e8",
            "aec04ba2a9ac48d4a3d8b2a3514c79f4",
            "e9fe5dd092b64274985f5e6f23fbf05f",
            "9a36e27a9e3d4693a0e503d24eb349e1",
            "169a2b164d89432197cd4374c87dda27",
            "1a4cbd4c9b844ddda63239731b260384",
            "161df82401824cf497fa30bc1c8f96e9",
            "1dd5715c429f43ebb2e1056df0449498"
          ]
        },
        "outputId": "74a23b66-3178-4422-fc73-34e7169ab7c1"
      },
      "source": [
        "\n",
        "from transformers import GPT2LMHeadModel, GPT2Tokenizer\n",
        "tokenizer = GPT2Tokenizer.from_pretrained(\"gpt2\")\n",
        "\n",
        "# add the EOS token as PAD token to avoid warnings\n",
        "model = GPT2LMHeadModel.from_pretrained(\"gpt2\",pad_token_id=tokenizer.eos_token_id)"
      ],
      "execution_count": null,
      "outputs": [
        {
          "output_type": "display_data",
          "data": {
            "application/vnd.jupyter.widget-view+json": {
              "model_id": "55876bba14a74ed08ab3cca918d0d3e2",
              "version_minor": 0,
              "version_major": 2
            },
            "text/plain": [
              "HBox(children=(FloatProgress(value=0.0, description='Downloading', max=1042301.0, style=ProgressStyle(descript…"
            ]
          },
          "metadata": {
            "tags": []
          }
        },
        {
          "output_type": "stream",
          "text": [
            "\n"
          ],
          "name": "stdout"
        },
        {
          "output_type": "display_data",
          "data": {
            "application/vnd.jupyter.widget-view+json": {
              "model_id": "ce3e610f340e4126bd536414d52a9430",
              "version_minor": 0,
              "version_major": 2
            },
            "text/plain": [
              "HBox(children=(FloatProgress(value=0.0, description='Downloading', max=456318.0, style=ProgressStyle(descripti…"
            ]
          },
          "metadata": {
            "tags": []
          }
        },
        {
          "output_type": "stream",
          "text": [
            "\n"
          ],
          "name": "stdout"
        },
        {
          "output_type": "display_data",
          "data": {
            "application/vnd.jupyter.widget-view+json": {
              "model_id": "a9f194240d28445b919af67f69b9239f",
              "version_minor": 0,
              "version_major": 2
            },
            "text/plain": [
              "HBox(children=(FloatProgress(value=0.0, description='Downloading', max=665.0, style=ProgressStyle(description_…"
            ]
          },
          "metadata": {
            "tags": []
          }
        },
        {
          "output_type": "stream",
          "text": [
            "\n"
          ],
          "name": "stdout"
        },
        {
          "output_type": "display_data",
          "data": {
            "application/vnd.jupyter.widget-view+json": {
              "model_id": "08d79dc449154f6189ca8f48296221e8",
              "version_minor": 0,
              "version_major": 2
            },
            "text/plain": [
              "HBox(children=(FloatProgress(value=0.0, description='Downloading', max=548118077.0, style=ProgressStyle(descri…"
            ]
          },
          "metadata": {
            "tags": []
          }
        },
        {
          "output_type": "stream",
          "text": [
            "\n"
          ],
          "name": "stdout"
        }
      ]
    },
    {
      "cell_type": "code",
      "metadata": {
        "id": "_DrM_1Mtcvwr",
        "colab": {
          "base_uri": "https://localhost:8080/"
        },
        "outputId": "653cc04c-da39-46f9-8a1b-af6bb0d789d6"
      },
      "source": [
        "from sentence_transformers import SentenceTransformer\n",
        "# Load the BERT model. Various models trained on Natural Language Inference (NLI) https://github.com/UKPLab/sentence-transformers/blob/master/docs/pretrained-models/nli-models.md and \n",
        "# Semantic Textual Similarity are available https://github.com/UKPLab/sentence-transformers/blob/master/docs/pretrained-models/sts-models.md\n",
        "model_BERT = SentenceTransformer('bert-base-nli-mean-tokens')"
      ],
      "execution_count": null,
      "outputs": [
        {
          "output_type": "stream",
          "text": [
            "100%|██████████| 405M/405M [00:32<00:00, 12.5MB/s]\n"
          ],
          "name": "stderr"
        }
      ]
    },
    {
      "cell_type": "code",
      "metadata": {
        "id": "QwXJ1l1DdTzu"
      },
      "source": [
        "import torch"
      ],
      "execution_count": null,
      "outputs": []
    },
    {
      "cell_type": "code",
      "metadata": {
        "id": "SFkO3wx2cvZk",
        "colab": {
          "base_uri": "https://localhost:8080/",
          "height": 661
        },
        "outputId": "30cfb7f4-00ac-4d76-9c50-41ec02787d66"
      },
      "source": [
        "from nltk import tokenize\n",
        "import scipy\n",
        "torch.manual_seed(2020)\n",
        "\n",
        "\n",
        "def sort_by_similarity(original_sentence,generated_sentences_list):\n",
        "    # Each sentence is encoded as a 1-D vector with 768 columns\n",
        "    sentence_embeddings = model_BERT.encode(generated_sentences_list)\n",
        "\n",
        "    queries = [original_sentence]\n",
        "    query_embeddings = model_BERT.encode(queries)\n",
        "    # Find the top sentences of the corpus for each query sentence based on cosine similarity\n",
        "    number_top_matches = len(generated_sentences_list)\n",
        "\n",
        "    dissimilar_sentences = []\n",
        "\n",
        "    for query, query_embedding in zip(queries, query_embeddings):\n",
        "        distances = scipy.spatial.distance.cdist([query_embedding], sentence_embeddings, \"cosine\")[0]\n",
        "\n",
        "        results = zip(range(len(distances)), distances)\n",
        "        results = sorted(results, key=lambda x: x[1])\n",
        "\n",
        "\n",
        "        for idx, distance in reversed(results[0:number_top_matches]):\n",
        "            score = 1-distance\n",
        "            if score < 0.9:\n",
        "                dissimilar_sentences.append(generated_sentences_list[idx].strip())\n",
        "           \n",
        "    sorted_dissimilar_sentences = sorted(dissimilar_sentences, key=len)\n",
        "    \n",
        "    return sorted_dissimilar_sentences[:3]\n",
        "    \n",
        "\n",
        "def generate_sentences(partial_sentence,full_sentence):\n",
        "    input_ids = torch.tensor([tokenizer.encode(partial_sentence)])\n",
        "    maximum_length = len(partial_sentence.split())+80\n",
        "\n",
        "    # Actiavte top_k sampling and top_p sampling with only from 90% most likely words\n",
        "    sample_outputs = model.generate(\n",
        "        input_ids, \n",
        "        do_sample=True, \n",
        "        max_length=maximum_length, \n",
        "        top_p=0.90, # 0.85 \n",
        "        top_k=50,   #0.30\n",
        "        repetition_penalty  = 10.0,\n",
        "        num_return_sequences=10\n",
        "    )\n",
        "    generated_sentences=[]\n",
        "    for i, sample_output in enumerate(sample_outputs):\n",
        "        decoded_sentences = tokenizer.decode(sample_output, skip_special_tokens=True)\n",
        "        decoded_sentences_list = tokenize.sent_tokenize(decoded_sentences)\n",
        "        generated_sentences.append(decoded_sentences_list[0])\n",
        "        \n",
        "    top_3_sentences = sort_by_similarity(full_sentence,generated_sentences)\n",
        "    \n",
        "    return top_3_sentences\n",
        "\n",
        "index = 1\n",
        "choice_list = [\"a)\",\"b)\",\"c)\",\"d)\",\"e)\",\"f)\"]\n",
        "for key_sentence in sent_completion_dict:\n",
        "    partial_sentences = sent_completion_dict[key_sentence]\n",
        "    false_sentences =[]\n",
        "    print_string = \"**%s) True Sentence (from the story) :**\"%(str(index))\n",
        "    printmd(print_string)\n",
        "    print (\"  \",key_sentence)\n",
        "    for partial_sent in partial_sentences:\n",
        "        false_sents = generate_sentences(partial_sent,key_sentence)\n",
        "        false_sentences.extend(false_sents)\n",
        "    printmd(\"  **False Sentences (GPT-2 Generated)**\")\n",
        "    for ind,false_sent in enumerate(false_sentences):\n",
        "        print_string_choices = \"**%s** %s\"%(choice_list[ind],false_sent)\n",
        "        printmd(print_string_choices)\n",
        "    index = index+1\n",
        "    \n",
        "    print (\"\\n\\n\")\n",
        "        \n",
        "\n"
      ],
      "execution_count": null,
      "outputs": [
        {
          "output_type": "display_data",
          "data": {
            "text/markdown": "**1) True Sentence (from the story) :**",
            "text/plain": [
              "<IPython.core.display.Markdown object>"
            ]
          },
          "metadata": {
            "tags": []
          }
        },
        {
          "output_type": "stream",
          "text": [
            "   The convenience and high efficiency of using electronic products is being noticed by people worldwide\n"
          ],
          "name": "stdout"
        },
        {
          "output_type": "display_data",
          "data": {
            "text/markdown": "  **False Sentences (GPT-2 Generated)**",
            "text/plain": [
              "<IPython.core.display.Markdown object>"
            ]
          },
          "metadata": {
            "tags": []
          }
        },
        {
          "output_type": "display_data",
          "data": {
            "text/markdown": "**a)** The convenience and high efficiency of using electronic products is being noticed by more than 20 million consumers.",
            "text/plain": [
              "<IPython.core.display.Markdown object>"
            ]
          },
          "metadata": {
            "tags": []
          }
        },
        {
          "output_type": "display_data",
          "data": {
            "text/markdown": "**b)** The convenience and high efficiency of using electronic products is being noticed by the general public, but this has not been recognized at a rapid pace.",
            "text/plain": [
              "<IPython.core.display.Markdown object>"
            ]
          },
          "metadata": {
            "tags": []
          }
        },
        {
          "output_type": "display_data",
          "data": {
            "text/markdown": "**c)** The convenience and high efficiency of using electronic products is being noticed by many companies, for example from the consumer electronics retailer Samsung.",
            "text/plain": [
              "<IPython.core.display.Markdown object>"
            ]
          },
          "metadata": {
            "tags": []
          }
        },
        {
          "output_type": "display_data",
          "data": {
            "text/markdown": "**d)** The convenience and high efficiency of using electronic products is being promoted by new devices.",
            "text/plain": [
              "<IPython.core.display.Markdown object>"
            ]
          },
          "metadata": {
            "tags": []
          }
        },
        {
          "output_type": "display_data",
          "data": {
            "text/markdown": "**e)** The convenience and high efficiency of using electronic products is being taken to great effect,\" he added.",
            "text/plain": [
              "<IPython.core.display.Markdown object>"
            ]
          },
          "metadata": {
            "tags": []
          }
        },
        {
          "output_type": "display_data",
          "data": {
            "text/markdown": "**f)** The convenience and high efficiency of using electronic products is being tested in laboratories across the world, including North America.",
            "text/plain": [
              "<IPython.core.display.Markdown object>"
            ]
          },
          "metadata": {
            "tags": []
          }
        },
        {
          "output_type": "stream",
          "text": [
            "\n",
            "\n",
            "\n"
          ],
          "name": "stdout"
        },
        {
          "output_type": "display_data",
          "data": {
            "text/markdown": "**2) True Sentence (from the story) :**",
            "text/plain": [
              "<IPython.core.display.Markdown object>"
            ]
          },
          "metadata": {
            "tags": []
          }
        },
        {
          "output_type": "stream",
          "text": [
            "   In this essay, I will discuss that if surveillance technology such as RFID (radio-frequency identification) should be used or not to track people\n"
          ],
          "name": "stdout"
        },
        {
          "output_type": "display_data",
          "data": {
            "text/markdown": "  **False Sentences (GPT-2 Generated)**",
            "text/plain": [
              "<IPython.core.display.Markdown object>"
            ]
          },
          "metadata": {
            "tags": []
          }
        },
        {
          "output_type": "display_data",
          "data": {
            "text/markdown": "**a)** In this essay, I will discuss that if surveillance technology such as RFID (radio-frequency identification) should be used or not to track people and companies from day one in your society by the government.",
            "text/plain": [
              "<IPython.core.display.Markdown object>"
            ]
          },
          "metadata": {
            "tags": []
          }
        },
        {
          "output_type": "display_data",
          "data": {
            "text/markdown": "**b)** In this essay, I will discuss that if surveillance technology such as RFID (radio-frequency identification) should be used or not to track individuals who do something in the privacy of their own homes instead rather than at work.",
            "text/plain": [
              "<IPython.core.display.Markdown object>"
            ]
          },
          "metadata": {
            "tags": []
          }
        },
        {
          "output_type": "display_data",
          "data": {
            "text/markdown": "**c)** In this essay, I will discuss that if surveillance technology such as RFID (radio-frequency identification) should be used or not to track every location of someone who has paid the bill and is suspected by law enforcement agencies.",
            "text/plain": [
              "<IPython.core.display.Markdown object>"
            ]
          },
          "metadata": {
            "tags": []
          }
        },
        {
          "output_type": "display_data",
          "data": {
            "text/markdown": "**d)** In this essay, I will discuss that if surveillance technology such as RFID (radio-frequency identification) should be used or not to keep track of what is going on inside our homes and businesses.",
            "text/plain": [
              "<IPython.core.display.Markdown object>"
            ]
          },
          "metadata": {
            "tags": []
          }
        },
        {
          "output_type": "display_data",
          "data": {
            "text/markdown": "**e)** In this essay, I will discuss that if surveillance technology such as RFID (radio-frequency identification) should be used or not to identify individuals from the United States and other places then there are good reasons for using it.",
            "text/plain": [
              "<IPython.core.display.Markdown object>"
            ]
          },
          "metadata": {
            "tags": []
          }
        },
        {
          "output_type": "display_data",
          "data": {
            "text/markdown": "**f)** In this essay, I will discuss that if surveillance technology such as RFID (radio-frequency identification) should be used or not to locate terrorist suspects using search warrants and/or law enforcement agencies it is only because of a need for effective monitoring.",
            "text/plain": [
              "<IPython.core.display.Markdown object>"
            ]
          },
          "metadata": {
            "tags": []
          }
        },
        {
          "output_type": "stream",
          "text": [
            "\n",
            "\n",
            "\n"
          ],
          "name": "stdout"
        }
      ]
    },
    {
      "cell_type": "code",
      "metadata": {
        "id": "qf6cY7Wdcru-"
      },
      "source": [
        ""
      ],
      "execution_count": null,
      "outputs": []
    },
    {
      "cell_type": "code",
      "metadata": {
        "colab": {
          "base_uri": "https://localhost:8080/",
          "height": 181
        },
        "id": "IR1SG59VMNb7",
        "outputId": "ddd33e09-5fa8-4aae-bbc3-bbe5bddd8ba8"
      },
      "source": [
        "sentences[2]"
      ],
      "execution_count": null,
      "outputs": [
        {
          "output_type": "execute_result",
          "data": {
            "application/vnd.google.colaboratory.intrinsic+json": {
              "type": "string"
            },
            "text/plain": [
              "'\\nRisks can be analyzed if there is a record of what was happened in the past. In late nineteenth century, there was a severe air crash happening at Miami international airport. The air cargo of the Valujet plane was on fire after the plane had taken off. Sooner or later, the electric systems were short circuited as a result that the airplane was out of control and nose diving to the ground with extremely high speed. All passengers and pilots were died. After finding and analyzing the black box of the Valujet after the incidence, police investigators found out reasons for causing this severe incidence. Surveillance technology can be used to detect very risky events and prevent its happening in the future, hence to save more lives. In addition, if surveillance technology is even better developed, it can be used to detect the problem before the real accidence has happened.\\n'"
            ]
          },
          "metadata": {
            "tags": []
          },
          "execution_count": 30
        }
      ]
    }
  ]
}