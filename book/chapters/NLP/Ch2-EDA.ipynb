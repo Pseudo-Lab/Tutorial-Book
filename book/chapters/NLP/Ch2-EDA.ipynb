{
  "nbformat": 4,
  "nbformat_minor": 0,
  "metadata": {
    "colab": {
      "name": "Ch2-EDA.ipynb",
      "provenance": [],
      "collapsed_sections": [],
      "toc_visible": true,
      "authorship_tag": "ABX9TyPmOCq001z6fEFIiLUDx42S"
    },
    "kernelspec": {
      "name": "python3",
      "display_name": "Python 3"
    },
    "widgets": {
      "application/vnd.jupyter.widget-state+json": {
        "6dd0d5c4d9c94f778d4952daaee35be9": {
          "model_module": "@jupyter-widgets/controls",
          "model_name": "HBoxModel",
          "state": {
            "_view_name": "HBoxView",
            "_dom_classes": [],
            "_model_name": "HBoxModel",
            "_view_module": "@jupyter-widgets/controls",
            "_model_module_version": "1.5.0",
            "_view_count": null,
            "_view_module_version": "1.5.0",
            "box_style": "",
            "layout": "IPY_MODEL_1e54d2d6014448559b7d1538ff514490",
            "_model_module": "@jupyter-widgets/controls",
            "children": [
              "IPY_MODEL_acfabc2cf6034b77b9d2764ee66c707e",
              "IPY_MODEL_9f8560eb485f46ff89a3da799936b19f"
            ]
          }
        },
        "1e54d2d6014448559b7d1538ff514490": {
          "model_module": "@jupyter-widgets/base",
          "model_name": "LayoutModel",
          "state": {
            "_view_name": "LayoutView",
            "grid_template_rows": null,
            "right": null,
            "justify_content": null,
            "_view_module": "@jupyter-widgets/base",
            "overflow": null,
            "_model_module_version": "1.2.0",
            "_view_count": null,
            "flex_flow": null,
            "width": null,
            "min_width": null,
            "border": null,
            "align_items": null,
            "bottom": null,
            "_model_module": "@jupyter-widgets/base",
            "top": null,
            "grid_column": null,
            "overflow_y": null,
            "overflow_x": null,
            "grid_auto_flow": null,
            "grid_area": null,
            "grid_template_columns": null,
            "flex": null,
            "_model_name": "LayoutModel",
            "justify_items": null,
            "grid_row": null,
            "max_height": null,
            "align_content": null,
            "visibility": null,
            "align_self": null,
            "height": null,
            "min_height": null,
            "padding": null,
            "grid_auto_rows": null,
            "grid_gap": null,
            "max_width": null,
            "order": null,
            "_view_module_version": "1.2.0",
            "grid_template_areas": null,
            "object_position": null,
            "object_fit": null,
            "grid_auto_columns": null,
            "margin": null,
            "display": null,
            "left": null
          }
        },
        "acfabc2cf6034b77b9d2764ee66c707e": {
          "model_module": "@jupyter-widgets/controls",
          "model_name": "FloatProgressModel",
          "state": {
            "_view_name": "ProgressView",
            "style": "IPY_MODEL_9b748601775f48089cd9e81083eb0908",
            "_dom_classes": [],
            "description": "Downloading: 100%",
            "_model_name": "FloatProgressModel",
            "bar_style": "success",
            "max": 1614,
            "_view_module": "@jupyter-widgets/controls",
            "_model_module_version": "1.5.0",
            "value": 1614,
            "_view_count": null,
            "_view_module_version": "1.5.0",
            "orientation": "horizontal",
            "min": 0,
            "description_tooltip": null,
            "_model_module": "@jupyter-widgets/controls",
            "layout": "IPY_MODEL_aef4916d7d764d5d95e3a23487f24fa4"
          }
        },
        "9f8560eb485f46ff89a3da799936b19f": {
          "model_module": "@jupyter-widgets/controls",
          "model_name": "HTMLModel",
          "state": {
            "_view_name": "HTMLView",
            "style": "IPY_MODEL_4b53d7a2aacf4ca7a7f904afb9573ff0",
            "_dom_classes": [],
            "description": "",
            "_model_name": "HTMLModel",
            "placeholder": "​",
            "_view_module": "@jupyter-widgets/controls",
            "_model_module_version": "1.5.0",
            "value": " 1.61k/1.61k [00:32&lt;00:00, 50.0B/s]",
            "_view_count": null,
            "_view_module_version": "1.5.0",
            "description_tooltip": null,
            "_model_module": "@jupyter-widgets/controls",
            "layout": "IPY_MODEL_0a20937c76dc4e2abdc215e6d4fd7b68"
          }
        },
        "9b748601775f48089cd9e81083eb0908": {
          "model_module": "@jupyter-widgets/controls",
          "model_name": "ProgressStyleModel",
          "state": {
            "_view_name": "StyleView",
            "_model_name": "ProgressStyleModel",
            "description_width": "initial",
            "_view_module": "@jupyter-widgets/base",
            "_model_module_version": "1.5.0",
            "_view_count": null,
            "_view_module_version": "1.2.0",
            "bar_color": null,
            "_model_module": "@jupyter-widgets/controls"
          }
        },
        "aef4916d7d764d5d95e3a23487f24fa4": {
          "model_module": "@jupyter-widgets/base",
          "model_name": "LayoutModel",
          "state": {
            "_view_name": "LayoutView",
            "grid_template_rows": null,
            "right": null,
            "justify_content": null,
            "_view_module": "@jupyter-widgets/base",
            "overflow": null,
            "_model_module_version": "1.2.0",
            "_view_count": null,
            "flex_flow": null,
            "width": null,
            "min_width": null,
            "border": null,
            "align_items": null,
            "bottom": null,
            "_model_module": "@jupyter-widgets/base",
            "top": null,
            "grid_column": null,
            "overflow_y": null,
            "overflow_x": null,
            "grid_auto_flow": null,
            "grid_area": null,
            "grid_template_columns": null,
            "flex": null,
            "_model_name": "LayoutModel",
            "justify_items": null,
            "grid_row": null,
            "max_height": null,
            "align_content": null,
            "visibility": null,
            "align_self": null,
            "height": null,
            "min_height": null,
            "padding": null,
            "grid_auto_rows": null,
            "grid_gap": null,
            "max_width": null,
            "order": null,
            "_view_module_version": "1.2.0",
            "grid_template_areas": null,
            "object_position": null,
            "object_fit": null,
            "grid_auto_columns": null,
            "margin": null,
            "display": null,
            "left": null
          }
        },
        "4b53d7a2aacf4ca7a7f904afb9573ff0": {
          "model_module": "@jupyter-widgets/controls",
          "model_name": "DescriptionStyleModel",
          "state": {
            "_view_name": "StyleView",
            "_model_name": "DescriptionStyleModel",
            "description_width": "",
            "_view_module": "@jupyter-widgets/base",
            "_model_module_version": "1.5.0",
            "_view_count": null,
            "_view_module_version": "1.2.0",
            "_model_module": "@jupyter-widgets/controls"
          }
        },
        "0a20937c76dc4e2abdc215e6d4fd7b68": {
          "model_module": "@jupyter-widgets/base",
          "model_name": "LayoutModel",
          "state": {
            "_view_name": "LayoutView",
            "grid_template_rows": null,
            "right": null,
            "justify_content": null,
            "_view_module": "@jupyter-widgets/base",
            "overflow": null,
            "_model_module_version": "1.2.0",
            "_view_count": null,
            "flex_flow": null,
            "width": null,
            "min_width": null,
            "border": null,
            "align_items": null,
            "bottom": null,
            "_model_module": "@jupyter-widgets/base",
            "top": null,
            "grid_column": null,
            "overflow_y": null,
            "overflow_x": null,
            "grid_auto_flow": null,
            "grid_area": null,
            "grid_template_columns": null,
            "flex": null,
            "_model_name": "LayoutModel",
            "justify_items": null,
            "grid_row": null,
            "max_height": null,
            "align_content": null,
            "visibility": null,
            "align_self": null,
            "height": null,
            "min_height": null,
            "padding": null,
            "grid_auto_rows": null,
            "grid_gap": null,
            "max_width": null,
            "order": null,
            "_view_module_version": "1.2.0",
            "grid_template_areas": null,
            "object_position": null,
            "object_fit": null,
            "grid_auto_columns": null,
            "margin": null,
            "display": null,
            "left": null
          }
        },
        "e2275b356e8747e3865e430eba87b749": {
          "model_module": "@jupyter-widgets/controls",
          "model_name": "HBoxModel",
          "state": {
            "_view_name": "HBoxView",
            "_dom_classes": [],
            "_model_name": "HBoxModel",
            "_view_module": "@jupyter-widgets/controls",
            "_model_module_version": "1.5.0",
            "_view_count": null,
            "_view_module_version": "1.5.0",
            "box_style": "",
            "layout": "IPY_MODEL_fb57bbf778ec43bebcfa53b1cbb24684",
            "_model_module": "@jupyter-widgets/controls",
            "children": [
              "IPY_MODEL_d953777c7a2e484b94efb5e9499be828",
              "IPY_MODEL_71a37339836b44c5973cee75d079dd2e"
            ]
          }
        },
        "fb57bbf778ec43bebcfa53b1cbb24684": {
          "model_module": "@jupyter-widgets/base",
          "model_name": "LayoutModel",
          "state": {
            "_view_name": "LayoutView",
            "grid_template_rows": null,
            "right": null,
            "justify_content": null,
            "_view_module": "@jupyter-widgets/base",
            "overflow": null,
            "_model_module_version": "1.2.0",
            "_view_count": null,
            "flex_flow": null,
            "width": null,
            "min_width": null,
            "border": null,
            "align_items": null,
            "bottom": null,
            "_model_module": "@jupyter-widgets/base",
            "top": null,
            "grid_column": null,
            "overflow_y": null,
            "overflow_x": null,
            "grid_auto_flow": null,
            "grid_area": null,
            "grid_template_columns": null,
            "flex": null,
            "_model_name": "LayoutModel",
            "justify_items": null,
            "grid_row": null,
            "max_height": null,
            "align_content": null,
            "visibility": null,
            "align_self": null,
            "height": null,
            "min_height": null,
            "padding": null,
            "grid_auto_rows": null,
            "grid_gap": null,
            "max_width": null,
            "order": null,
            "_view_module_version": "1.2.0",
            "grid_template_areas": null,
            "object_position": null,
            "object_fit": null,
            "grid_auto_columns": null,
            "margin": null,
            "display": null,
            "left": null
          }
        },
        "d953777c7a2e484b94efb5e9499be828": {
          "model_module": "@jupyter-widgets/controls",
          "model_name": "FloatProgressModel",
          "state": {
            "_view_name": "ProgressView",
            "style": "IPY_MODEL_e873fcc27cf44ae19c8423db3d3a37d9",
            "_dom_classes": [],
            "description": "Downloading: 100%",
            "_model_name": "FloatProgressModel",
            "bar_style": "success",
            "max": 1625559151,
            "_view_module": "@jupyter-widgets/controls",
            "_model_module_version": "1.5.0",
            "value": 1625559151,
            "_view_count": null,
            "_view_module_version": "1.5.0",
            "orientation": "horizontal",
            "min": 0,
            "description_tooltip": null,
            "_model_module": "@jupyter-widgets/controls",
            "layout": "IPY_MODEL_e78b9f2c0755447f95f723a6da14b31d"
          }
        },
        "71a37339836b44c5973cee75d079dd2e": {
          "model_module": "@jupyter-widgets/controls",
          "model_name": "HTMLModel",
          "state": {
            "_view_name": "HTMLView",
            "style": "IPY_MODEL_310c4ef8798340f2b2f542976f2679c4",
            "_dom_classes": [],
            "description": "",
            "_model_name": "HTMLModel",
            "placeholder": "​",
            "_view_module": "@jupyter-widgets/controls",
            "_model_module_version": "1.5.0",
            "value": " 1.63G/1.63G [00:28&lt;00:00, 56.5MB/s]",
            "_view_count": null,
            "_view_module_version": "1.5.0",
            "description_tooltip": null,
            "_model_module": "@jupyter-widgets/controls",
            "layout": "IPY_MODEL_497910ebd2304adba156455f5ca33fbe"
          }
        },
        "e873fcc27cf44ae19c8423db3d3a37d9": {
          "model_module": "@jupyter-widgets/controls",
          "model_name": "ProgressStyleModel",
          "state": {
            "_view_name": "StyleView",
            "_model_name": "ProgressStyleModel",
            "description_width": "initial",
            "_view_module": "@jupyter-widgets/base",
            "_model_module_version": "1.5.0",
            "_view_count": null,
            "_view_module_version": "1.2.0",
            "bar_color": null,
            "_model_module": "@jupyter-widgets/controls"
          }
        },
        "e78b9f2c0755447f95f723a6da14b31d": {
          "model_module": "@jupyter-widgets/base",
          "model_name": "LayoutModel",
          "state": {
            "_view_name": "LayoutView",
            "grid_template_rows": null,
            "right": null,
            "justify_content": null,
            "_view_module": "@jupyter-widgets/base",
            "overflow": null,
            "_model_module_version": "1.2.0",
            "_view_count": null,
            "flex_flow": null,
            "width": null,
            "min_width": null,
            "border": null,
            "align_items": null,
            "bottom": null,
            "_model_module": "@jupyter-widgets/base",
            "top": null,
            "grid_column": null,
            "overflow_y": null,
            "overflow_x": null,
            "grid_auto_flow": null,
            "grid_area": null,
            "grid_template_columns": null,
            "flex": null,
            "_model_name": "LayoutModel",
            "justify_items": null,
            "grid_row": null,
            "max_height": null,
            "align_content": null,
            "visibility": null,
            "align_self": null,
            "height": null,
            "min_height": null,
            "padding": null,
            "grid_auto_rows": null,
            "grid_gap": null,
            "max_width": null,
            "order": null,
            "_view_module_version": "1.2.0",
            "grid_template_areas": null,
            "object_position": null,
            "object_fit": null,
            "grid_auto_columns": null,
            "margin": null,
            "display": null,
            "left": null
          }
        },
        "310c4ef8798340f2b2f542976f2679c4": {
          "model_module": "@jupyter-widgets/controls",
          "model_name": "DescriptionStyleModel",
          "state": {
            "_view_name": "StyleView",
            "_model_name": "DescriptionStyleModel",
            "description_width": "",
            "_view_module": "@jupyter-widgets/base",
            "_model_module_version": "1.5.0",
            "_view_count": null,
            "_view_module_version": "1.2.0",
            "_model_module": "@jupyter-widgets/controls"
          }
        },
        "497910ebd2304adba156455f5ca33fbe": {
          "model_module": "@jupyter-widgets/base",
          "model_name": "LayoutModel",
          "state": {
            "_view_name": "LayoutView",
            "grid_template_rows": null,
            "right": null,
            "justify_content": null,
            "_view_module": "@jupyter-widgets/base",
            "overflow": null,
            "_model_module_version": "1.2.0",
            "_view_count": null,
            "flex_flow": null,
            "width": null,
            "min_width": null,
            "border": null,
            "align_items": null,
            "bottom": null,
            "_model_module": "@jupyter-widgets/base",
            "top": null,
            "grid_column": null,
            "overflow_y": null,
            "overflow_x": null,
            "grid_auto_flow": null,
            "grid_area": null,
            "grid_template_columns": null,
            "flex": null,
            "_model_name": "LayoutModel",
            "justify_items": null,
            "grid_row": null,
            "max_height": null,
            "align_content": null,
            "visibility": null,
            "align_self": null,
            "height": null,
            "min_height": null,
            "padding": null,
            "grid_auto_rows": null,
            "grid_gap": null,
            "max_width": null,
            "order": null,
            "_view_module_version": "1.2.0",
            "grid_template_areas": null,
            "object_position": null,
            "object_fit": null,
            "grid_auto_columns": null,
            "margin": null,
            "display": null,
            "left": null
          }
        },
        "e7650b5f9b9c4e55af1519f851485661": {
          "model_module": "@jupyter-widgets/controls",
          "model_name": "HBoxModel",
          "state": {
            "_view_name": "HBoxView",
            "_dom_classes": [],
            "_model_name": "HBoxModel",
            "_view_module": "@jupyter-widgets/controls",
            "_model_module_version": "1.5.0",
            "_view_count": null,
            "_view_module_version": "1.5.0",
            "box_style": "",
            "layout": "IPY_MODEL_e836060da82f4de68ed755be9a71c138",
            "_model_module": "@jupyter-widgets/controls",
            "children": [
              "IPY_MODEL_b9930f5ab0234afd82a06e36e85d127e",
              "IPY_MODEL_6440116ae2514498b990b6be8d549c4c"
            ]
          }
        },
        "e836060da82f4de68ed755be9a71c138": {
          "model_module": "@jupyter-widgets/base",
          "model_name": "LayoutModel",
          "state": {
            "_view_name": "LayoutView",
            "grid_template_rows": null,
            "right": null,
            "justify_content": null,
            "_view_module": "@jupyter-widgets/base",
            "overflow": null,
            "_model_module_version": "1.2.0",
            "_view_count": null,
            "flex_flow": null,
            "width": null,
            "min_width": null,
            "border": null,
            "align_items": null,
            "bottom": null,
            "_model_module": "@jupyter-widgets/base",
            "top": null,
            "grid_column": null,
            "overflow_y": null,
            "overflow_x": null,
            "grid_auto_flow": null,
            "grid_area": null,
            "grid_template_columns": null,
            "flex": null,
            "_model_name": "LayoutModel",
            "justify_items": null,
            "grid_row": null,
            "max_height": null,
            "align_content": null,
            "visibility": null,
            "align_self": null,
            "height": null,
            "min_height": null,
            "padding": null,
            "grid_auto_rows": null,
            "grid_gap": null,
            "max_width": null,
            "order": null,
            "_view_module_version": "1.2.0",
            "grid_template_areas": null,
            "object_position": null,
            "object_fit": null,
            "grid_auto_columns": null,
            "margin": null,
            "display": null,
            "left": null
          }
        },
        "b9930f5ab0234afd82a06e36e85d127e": {
          "model_module": "@jupyter-widgets/controls",
          "model_name": "FloatProgressModel",
          "state": {
            "_view_name": "ProgressView",
            "style": "IPY_MODEL_4edfcbf5219246fc93458a7c45d1f9c7",
            "_dom_classes": [],
            "description": "Downloading: 100%",
            "_model_name": "FloatProgressModel",
            "bar_style": "success",
            "max": 2,
            "_view_module": "@jupyter-widgets/controls",
            "_model_module_version": "1.5.0",
            "value": 2,
            "_view_count": null,
            "_view_module_version": "1.5.0",
            "orientation": "horizontal",
            "min": 0,
            "description_tooltip": null,
            "_model_module": "@jupyter-widgets/controls",
            "layout": "IPY_MODEL_469316dda6e2491db3ba9239720df14b"
          }
        },
        "6440116ae2514498b990b6be8d549c4c": {
          "model_module": "@jupyter-widgets/controls",
          "model_name": "HTMLModel",
          "state": {
            "_view_name": "HTMLView",
            "style": "IPY_MODEL_7b1631c9f6d94c6d970a0a2b904800be",
            "_dom_classes": [],
            "description": "",
            "_model_name": "HTMLModel",
            "placeholder": "​",
            "_view_module": "@jupyter-widgets/controls",
            "_model_module_version": "1.5.0",
            "value": " 2.00/2.00 [00:00&lt;00:00, 4.41B/s]",
            "_view_count": null,
            "_view_module_version": "1.5.0",
            "description_tooltip": null,
            "_model_module": "@jupyter-widgets/controls",
            "layout": "IPY_MODEL_ccc505b56e924478a238bb8c52936153"
          }
        },
        "4edfcbf5219246fc93458a7c45d1f9c7": {
          "model_module": "@jupyter-widgets/controls",
          "model_name": "ProgressStyleModel",
          "state": {
            "_view_name": "StyleView",
            "_model_name": "ProgressStyleModel",
            "description_width": "initial",
            "_view_module": "@jupyter-widgets/base",
            "_model_module_version": "1.5.0",
            "_view_count": null,
            "_view_module_version": "1.2.0",
            "bar_color": null,
            "_model_module": "@jupyter-widgets/controls"
          }
        },
        "469316dda6e2491db3ba9239720df14b": {
          "model_module": "@jupyter-widgets/base",
          "model_name": "LayoutModel",
          "state": {
            "_view_name": "LayoutView",
            "grid_template_rows": null,
            "right": null,
            "justify_content": null,
            "_view_module": "@jupyter-widgets/base",
            "overflow": null,
            "_model_module_version": "1.2.0",
            "_view_count": null,
            "flex_flow": null,
            "width": null,
            "min_width": null,
            "border": null,
            "align_items": null,
            "bottom": null,
            "_model_module": "@jupyter-widgets/base",
            "top": null,
            "grid_column": null,
            "overflow_y": null,
            "overflow_x": null,
            "grid_auto_flow": null,
            "grid_area": null,
            "grid_template_columns": null,
            "flex": null,
            "_model_name": "LayoutModel",
            "justify_items": null,
            "grid_row": null,
            "max_height": null,
            "align_content": null,
            "visibility": null,
            "align_self": null,
            "height": null,
            "min_height": null,
            "padding": null,
            "grid_auto_rows": null,
            "grid_gap": null,
            "max_width": null,
            "order": null,
            "_view_module_version": "1.2.0",
            "grid_template_areas": null,
            "object_position": null,
            "object_fit": null,
            "grid_auto_columns": null,
            "margin": null,
            "display": null,
            "left": null
          }
        },
        "7b1631c9f6d94c6d970a0a2b904800be": {
          "model_module": "@jupyter-widgets/controls",
          "model_name": "DescriptionStyleModel",
          "state": {
            "_view_name": "StyleView",
            "_model_name": "DescriptionStyleModel",
            "description_width": "",
            "_view_module": "@jupyter-widgets/base",
            "_model_module_version": "1.5.0",
            "_view_count": null,
            "_view_module_version": "1.2.0",
            "_model_module": "@jupyter-widgets/controls"
          }
        },
        "ccc505b56e924478a238bb8c52936153": {
          "model_module": "@jupyter-widgets/base",
          "model_name": "LayoutModel",
          "state": {
            "_view_name": "LayoutView",
            "grid_template_rows": null,
            "right": null,
            "justify_content": null,
            "_view_module": "@jupyter-widgets/base",
            "overflow": null,
            "_model_module_version": "1.2.0",
            "_view_count": null,
            "flex_flow": null,
            "width": null,
            "min_width": null,
            "border": null,
            "align_items": null,
            "bottom": null,
            "_model_module": "@jupyter-widgets/base",
            "top": null,
            "grid_column": null,
            "overflow_y": null,
            "overflow_x": null,
            "grid_auto_flow": null,
            "grid_area": null,
            "grid_template_columns": null,
            "flex": null,
            "_model_name": "LayoutModel",
            "justify_items": null,
            "grid_row": null,
            "max_height": null,
            "align_content": null,
            "visibility": null,
            "align_self": null,
            "height": null,
            "min_height": null,
            "padding": null,
            "grid_auto_rows": null,
            "grid_gap": null,
            "max_width": null,
            "order": null,
            "_view_module_version": "1.2.0",
            "grid_template_areas": null,
            "object_position": null,
            "object_fit": null,
            "grid_auto_columns": null,
            "margin": null,
            "display": null,
            "left": null
          }
        },
        "1d6a0390061b4f39a2a2d96efbc1dc69": {
          "model_module": "@jupyter-widgets/controls",
          "model_name": "HBoxModel",
          "state": {
            "_view_name": "HBoxView",
            "_dom_classes": [],
            "_model_name": "HBoxModel",
            "_view_module": "@jupyter-widgets/controls",
            "_model_module_version": "1.5.0",
            "_view_count": null,
            "_view_module_version": "1.5.0",
            "box_style": "",
            "layout": "IPY_MODEL_03b515ff20cd46f3afa83a3f3f29f19a",
            "_model_module": "@jupyter-widgets/controls",
            "children": [
              "IPY_MODEL_0e0af5ef70a742e887992b021298673c",
              "IPY_MODEL_ebaff3e0e8d54f8ab96c3c83057381a9"
            ]
          }
        },
        "03b515ff20cd46f3afa83a3f3f29f19a": {
          "model_module": "@jupyter-widgets/base",
          "model_name": "LayoutModel",
          "state": {
            "_view_name": "LayoutView",
            "grid_template_rows": null,
            "right": null,
            "justify_content": null,
            "_view_module": "@jupyter-widgets/base",
            "overflow": null,
            "_model_module_version": "1.2.0",
            "_view_count": null,
            "flex_flow": null,
            "width": null,
            "min_width": null,
            "border": null,
            "align_items": null,
            "bottom": null,
            "_model_module": "@jupyter-widgets/base",
            "top": null,
            "grid_column": null,
            "overflow_y": null,
            "overflow_x": null,
            "grid_auto_flow": null,
            "grid_area": null,
            "grid_template_columns": null,
            "flex": null,
            "_model_name": "LayoutModel",
            "justify_items": null,
            "grid_row": null,
            "max_height": null,
            "align_content": null,
            "visibility": null,
            "align_self": null,
            "height": null,
            "min_height": null,
            "padding": null,
            "grid_auto_rows": null,
            "grid_gap": null,
            "max_width": null,
            "order": null,
            "_view_module_version": "1.2.0",
            "grid_template_areas": null,
            "object_position": null,
            "object_fit": null,
            "grid_auto_columns": null,
            "margin": null,
            "display": null,
            "left": null
          }
        },
        "0e0af5ef70a742e887992b021298673c": {
          "model_module": "@jupyter-widgets/controls",
          "model_name": "FloatProgressModel",
          "state": {
            "_view_name": "ProgressView",
            "style": "IPY_MODEL_9e2950ec21d74f7f86a2f5cc458a5665",
            "_dom_classes": [],
            "description": "Downloading: 100%",
            "_model_name": "FloatProgressModel",
            "bar_style": "success",
            "max": 85,
            "_view_module": "@jupyter-widgets/controls",
            "_model_module_version": "1.5.0",
            "value": 85,
            "_view_count": null,
            "_view_module_version": "1.5.0",
            "orientation": "horizontal",
            "min": 0,
            "description_tooltip": null,
            "_model_module": "@jupyter-widgets/controls",
            "layout": "IPY_MODEL_ae62a26a3d574140b7956655f6e3c7da"
          }
        },
        "ebaff3e0e8d54f8ab96c3c83057381a9": {
          "model_module": "@jupyter-widgets/controls",
          "model_name": "HTMLModel",
          "state": {
            "_view_name": "HTMLView",
            "style": "IPY_MODEL_98d26a99b6284869b81b75b73205692b",
            "_dom_classes": [],
            "description": "",
            "_model_name": "HTMLModel",
            "placeholder": "​",
            "_view_module": "@jupyter-widgets/controls",
            "_model_module_version": "1.5.0",
            "value": " 85.0/85.0 [00:24&lt;00:00, 3.47B/s]",
            "_view_count": null,
            "_view_module_version": "1.5.0",
            "description_tooltip": null,
            "_model_module": "@jupyter-widgets/controls",
            "layout": "IPY_MODEL_b11ba9cb3d7341babd786001d2e65306"
          }
        },
        "9e2950ec21d74f7f86a2f5cc458a5665": {
          "model_module": "@jupyter-widgets/controls",
          "model_name": "ProgressStyleModel",
          "state": {
            "_view_name": "StyleView",
            "_model_name": "ProgressStyleModel",
            "description_width": "initial",
            "_view_module": "@jupyter-widgets/base",
            "_model_module_version": "1.5.0",
            "_view_count": null,
            "_view_module_version": "1.2.0",
            "bar_color": null,
            "_model_module": "@jupyter-widgets/controls"
          }
        },
        "ae62a26a3d574140b7956655f6e3c7da": {
          "model_module": "@jupyter-widgets/base",
          "model_name": "LayoutModel",
          "state": {
            "_view_name": "LayoutView",
            "grid_template_rows": null,
            "right": null,
            "justify_content": null,
            "_view_module": "@jupyter-widgets/base",
            "overflow": null,
            "_model_module_version": "1.2.0",
            "_view_count": null,
            "flex_flow": null,
            "width": null,
            "min_width": null,
            "border": null,
            "align_items": null,
            "bottom": null,
            "_model_module": "@jupyter-widgets/base",
            "top": null,
            "grid_column": null,
            "overflow_y": null,
            "overflow_x": null,
            "grid_auto_flow": null,
            "grid_area": null,
            "grid_template_columns": null,
            "flex": null,
            "_model_name": "LayoutModel",
            "justify_items": null,
            "grid_row": null,
            "max_height": null,
            "align_content": null,
            "visibility": null,
            "align_self": null,
            "height": null,
            "min_height": null,
            "padding": null,
            "grid_auto_rows": null,
            "grid_gap": null,
            "max_width": null,
            "order": null,
            "_view_module_version": "1.2.0",
            "grid_template_areas": null,
            "object_position": null,
            "object_fit": null,
            "grid_auto_columns": null,
            "margin": null,
            "display": null,
            "left": null
          }
        },
        "98d26a99b6284869b81b75b73205692b": {
          "model_module": "@jupyter-widgets/controls",
          "model_name": "DescriptionStyleModel",
          "state": {
            "_view_name": "StyleView",
            "_model_name": "DescriptionStyleModel",
            "description_width": "",
            "_view_module": "@jupyter-widgets/base",
            "_model_module_version": "1.5.0",
            "_view_count": null,
            "_view_module_version": "1.2.0",
            "_model_module": "@jupyter-widgets/controls"
          }
        },
        "b11ba9cb3d7341babd786001d2e65306": {
          "model_module": "@jupyter-widgets/base",
          "model_name": "LayoutModel",
          "state": {
            "_view_name": "LayoutView",
            "grid_template_rows": null,
            "right": null,
            "justify_content": null,
            "_view_module": "@jupyter-widgets/base",
            "overflow": null,
            "_model_module_version": "1.2.0",
            "_view_count": null,
            "flex_flow": null,
            "width": null,
            "min_width": null,
            "border": null,
            "align_items": null,
            "bottom": null,
            "_model_module": "@jupyter-widgets/base",
            "top": null,
            "grid_column": null,
            "overflow_y": null,
            "overflow_x": null,
            "grid_auto_flow": null,
            "grid_area": null,
            "grid_template_columns": null,
            "flex": null,
            "_model_name": "LayoutModel",
            "justify_items": null,
            "grid_row": null,
            "max_height": null,
            "align_content": null,
            "visibility": null,
            "align_self": null,
            "height": null,
            "min_height": null,
            "padding": null,
            "grid_auto_rows": null,
            "grid_gap": null,
            "max_width": null,
            "order": null,
            "_view_module_version": "1.2.0",
            "grid_template_areas": null,
            "object_position": null,
            "object_fit": null,
            "grid_auto_columns": null,
            "margin": null,
            "display": null,
            "left": null
          }
        },
        "f3411540923745bf823a1d915c629c89": {
          "model_module": "@jupyter-widgets/controls",
          "model_name": "HBoxModel",
          "state": {
            "_view_name": "HBoxView",
            "_dom_classes": [],
            "_model_name": "HBoxModel",
            "_view_module": "@jupyter-widgets/controls",
            "_model_module_version": "1.5.0",
            "_view_count": null,
            "_view_module_version": "1.5.0",
            "box_style": "",
            "layout": "IPY_MODEL_d3d4232564f843c28c63ffd32e3d7ca6",
            "_model_module": "@jupyter-widgets/controls",
            "children": [
              "IPY_MODEL_06c6fc40d71d41fabf0b20f05360ecd7",
              "IPY_MODEL_35f2bd80b49846938830c8c1ae5a864e"
            ]
          }
        },
        "d3d4232564f843c28c63ffd32e3d7ca6": {
          "model_module": "@jupyter-widgets/base",
          "model_name": "LayoutModel",
          "state": {
            "_view_name": "LayoutView",
            "grid_template_rows": null,
            "right": null,
            "justify_content": null,
            "_view_module": "@jupyter-widgets/base",
            "overflow": null,
            "_model_module_version": "1.2.0",
            "_view_count": null,
            "flex_flow": null,
            "width": null,
            "min_width": null,
            "border": null,
            "align_items": null,
            "bottom": null,
            "_model_module": "@jupyter-widgets/base",
            "top": null,
            "grid_column": null,
            "overflow_y": null,
            "overflow_x": null,
            "grid_auto_flow": null,
            "grid_area": null,
            "grid_template_columns": null,
            "flex": null,
            "_model_name": "LayoutModel",
            "justify_items": null,
            "grid_row": null,
            "max_height": null,
            "align_content": null,
            "visibility": null,
            "align_self": null,
            "height": null,
            "min_height": null,
            "padding": null,
            "grid_auto_rows": null,
            "grid_gap": null,
            "max_width": null,
            "order": null,
            "_view_module_version": "1.2.0",
            "grid_template_areas": null,
            "object_position": null,
            "object_fit": null,
            "grid_auto_columns": null,
            "margin": null,
            "display": null,
            "left": null
          }
        },
        "06c6fc40d71d41fabf0b20f05360ecd7": {
          "model_module": "@jupyter-widgets/controls",
          "model_name": "FloatProgressModel",
          "state": {
            "_view_name": "ProgressView",
            "style": "IPY_MODEL_2b66f74e979e400db28a3b85ab0e6503",
            "_dom_classes": [],
            "description": "Downloading: 100%",
            "_model_name": "FloatProgressModel",
            "bar_style": "success",
            "max": 26,
            "_view_module": "@jupyter-widgets/controls",
            "_model_module_version": "1.5.0",
            "value": 26,
            "_view_count": null,
            "_view_module_version": "1.5.0",
            "orientation": "horizontal",
            "min": 0,
            "description_tooltip": null,
            "_model_module": "@jupyter-widgets/controls",
            "layout": "IPY_MODEL_89bbdd542a3e4eff9a1758f76915fada"
          }
        },
        "35f2bd80b49846938830c8c1ae5a864e": {
          "model_module": "@jupyter-widgets/controls",
          "model_name": "HTMLModel",
          "state": {
            "_view_name": "HTMLView",
            "style": "IPY_MODEL_5f8f1147b8204af0ac43ca4e2b1b5191",
            "_dom_classes": [],
            "description": "",
            "_model_name": "HTMLModel",
            "placeholder": "​",
            "_view_module": "@jupyter-widgets/controls",
            "_model_module_version": "1.5.0",
            "value": " 26.0/26.0 [00:20&lt;00:00, 1.24B/s]",
            "_view_count": null,
            "_view_module_version": "1.5.0",
            "description_tooltip": null,
            "_model_module": "@jupyter-widgets/controls",
            "layout": "IPY_MODEL_a4c4306e0b054efa9ccf1a7e1d2940d8"
          }
        },
        "2b66f74e979e400db28a3b85ab0e6503": {
          "model_module": "@jupyter-widgets/controls",
          "model_name": "ProgressStyleModel",
          "state": {
            "_view_name": "StyleView",
            "_model_name": "ProgressStyleModel",
            "description_width": "initial",
            "_view_module": "@jupyter-widgets/base",
            "_model_module_version": "1.5.0",
            "_view_count": null,
            "_view_module_version": "1.2.0",
            "bar_color": null,
            "_model_module": "@jupyter-widgets/controls"
          }
        },
        "89bbdd542a3e4eff9a1758f76915fada": {
          "model_module": "@jupyter-widgets/base",
          "model_name": "LayoutModel",
          "state": {
            "_view_name": "LayoutView",
            "grid_template_rows": null,
            "right": null,
            "justify_content": null,
            "_view_module": "@jupyter-widgets/base",
            "overflow": null,
            "_model_module_version": "1.2.0",
            "_view_count": null,
            "flex_flow": null,
            "width": null,
            "min_width": null,
            "border": null,
            "align_items": null,
            "bottom": null,
            "_model_module": "@jupyter-widgets/base",
            "top": null,
            "grid_column": null,
            "overflow_y": null,
            "overflow_x": null,
            "grid_auto_flow": null,
            "grid_area": null,
            "grid_template_columns": null,
            "flex": null,
            "_model_name": "LayoutModel",
            "justify_items": null,
            "grid_row": null,
            "max_height": null,
            "align_content": null,
            "visibility": null,
            "align_self": null,
            "height": null,
            "min_height": null,
            "padding": null,
            "grid_auto_rows": null,
            "grid_gap": null,
            "max_width": null,
            "order": null,
            "_view_module_version": "1.2.0",
            "grid_template_areas": null,
            "object_position": null,
            "object_fit": null,
            "grid_auto_columns": null,
            "margin": null,
            "display": null,
            "left": null
          }
        },
        "5f8f1147b8204af0ac43ca4e2b1b5191": {
          "model_module": "@jupyter-widgets/controls",
          "model_name": "DescriptionStyleModel",
          "state": {
            "_view_name": "StyleView",
            "_model_name": "DescriptionStyleModel",
            "description_width": "",
            "_view_module": "@jupyter-widgets/base",
            "_model_module_version": "1.5.0",
            "_view_count": null,
            "_view_module_version": "1.2.0",
            "_model_module": "@jupyter-widgets/controls"
          }
        },
        "a4c4306e0b054efa9ccf1a7e1d2940d8": {
          "model_module": "@jupyter-widgets/base",
          "model_name": "LayoutModel",
          "state": {
            "_view_name": "LayoutView",
            "grid_template_rows": null,
            "right": null,
            "justify_content": null,
            "_view_module": "@jupyter-widgets/base",
            "overflow": null,
            "_model_module_version": "1.2.0",
            "_view_count": null,
            "flex_flow": null,
            "width": null,
            "min_width": null,
            "border": null,
            "align_items": null,
            "bottom": null,
            "_model_module": "@jupyter-widgets/base",
            "top": null,
            "grid_column": null,
            "overflow_y": null,
            "overflow_x": null,
            "grid_auto_flow": null,
            "grid_area": null,
            "grid_template_columns": null,
            "flex": null,
            "_model_name": "LayoutModel",
            "justify_items": null,
            "grid_row": null,
            "max_height": null,
            "align_content": null,
            "visibility": null,
            "align_self": null,
            "height": null,
            "min_height": null,
            "padding": null,
            "grid_auto_rows": null,
            "grid_gap": null,
            "max_width": null,
            "order": null,
            "_view_module_version": "1.2.0",
            "grid_template_areas": null,
            "object_position": null,
            "object_fit": null,
            "grid_auto_columns": null,
            "margin": null,
            "display": null,
            "left": null
          }
        },
        "280d4d8a5a9a47528a6ff7cfee9e4ea0": {
          "model_module": "@jupyter-widgets/controls",
          "model_name": "HBoxModel",
          "state": {
            "_view_name": "HBoxView",
            "_dom_classes": [],
            "_model_name": "HBoxModel",
            "_view_module": "@jupyter-widgets/controls",
            "_model_module_version": "1.5.0",
            "_view_count": null,
            "_view_module_version": "1.5.0",
            "box_style": "",
            "layout": "IPY_MODEL_a61b4784d0f940d08d8bb78c81c544c0",
            "_model_module": "@jupyter-widgets/controls",
            "children": [
              "IPY_MODEL_fb2b4dfe211a4c428fc6292f34493fb5",
              "IPY_MODEL_b3f52ab2c47b447ca20aa6f6c7fb76dc"
            ]
          }
        },
        "a61b4784d0f940d08d8bb78c81c544c0": {
          "model_module": "@jupyter-widgets/base",
          "model_name": "LayoutModel",
          "state": {
            "_view_name": "LayoutView",
            "grid_template_rows": null,
            "right": null,
            "justify_content": null,
            "_view_module": "@jupyter-widgets/base",
            "overflow": null,
            "_model_module_version": "1.2.0",
            "_view_count": null,
            "flex_flow": null,
            "width": null,
            "min_width": null,
            "border": null,
            "align_items": null,
            "bottom": null,
            "_model_module": "@jupyter-widgets/base",
            "top": null,
            "grid_column": null,
            "overflow_y": null,
            "overflow_x": null,
            "grid_auto_flow": null,
            "grid_area": null,
            "grid_template_columns": null,
            "flex": null,
            "_model_name": "LayoutModel",
            "justify_items": null,
            "grid_row": null,
            "max_height": null,
            "align_content": null,
            "visibility": null,
            "align_self": null,
            "height": null,
            "min_height": null,
            "padding": null,
            "grid_auto_rows": null,
            "grid_gap": null,
            "max_width": null,
            "order": null,
            "_view_module_version": "1.2.0",
            "grid_template_areas": null,
            "object_position": null,
            "object_fit": null,
            "grid_auto_columns": null,
            "margin": null,
            "display": null,
            "left": null
          }
        },
        "fb2b4dfe211a4c428fc6292f34493fb5": {
          "model_module": "@jupyter-widgets/controls",
          "model_name": "FloatProgressModel",
          "state": {
            "_view_name": "ProgressView",
            "style": "IPY_MODEL_f5a14ee14abf465c86afb9754f3c75a1",
            "_dom_classes": [],
            "description": "Downloading: 100%",
            "_model_name": "FloatProgressModel",
            "bar_style": "success",
            "max": 1355863,
            "_view_module": "@jupyter-widgets/controls",
            "_model_module_version": "1.5.0",
            "value": 1355863,
            "_view_count": null,
            "_view_module_version": "1.5.0",
            "orientation": "horizontal",
            "min": 0,
            "description_tooltip": null,
            "_model_module": "@jupyter-widgets/controls",
            "layout": "IPY_MODEL_a8789a64e4d8488bbac46e87cb29975f"
          }
        },
        "b3f52ab2c47b447ca20aa6f6c7fb76dc": {
          "model_module": "@jupyter-widgets/controls",
          "model_name": "HTMLModel",
          "state": {
            "_view_name": "HTMLView",
            "style": "IPY_MODEL_2783adf271c24daa95d960ab48c7c7ea",
            "_dom_classes": [],
            "description": "",
            "_model_name": "HTMLModel",
            "placeholder": "​",
            "_view_module": "@jupyter-widgets/controls",
            "_model_module_version": "1.5.0",
            "value": " 1.36M/1.36M [00:20&lt;00:00, 66.4kB/s]",
            "_view_count": null,
            "_view_module_version": "1.5.0",
            "description_tooltip": null,
            "_model_module": "@jupyter-widgets/controls",
            "layout": "IPY_MODEL_b6c7e3d5eb3f45329bcd4f115dc247fa"
          }
        },
        "f5a14ee14abf465c86afb9754f3c75a1": {
          "model_module": "@jupyter-widgets/controls",
          "model_name": "ProgressStyleModel",
          "state": {
            "_view_name": "StyleView",
            "_model_name": "ProgressStyleModel",
            "description_width": "initial",
            "_view_module": "@jupyter-widgets/base",
            "_model_module_version": "1.5.0",
            "_view_count": null,
            "_view_module_version": "1.2.0",
            "bar_color": null,
            "_model_module": "@jupyter-widgets/controls"
          }
        },
        "a8789a64e4d8488bbac46e87cb29975f": {
          "model_module": "@jupyter-widgets/base",
          "model_name": "LayoutModel",
          "state": {
            "_view_name": "LayoutView",
            "grid_template_rows": null,
            "right": null,
            "justify_content": null,
            "_view_module": "@jupyter-widgets/base",
            "overflow": null,
            "_model_module_version": "1.2.0",
            "_view_count": null,
            "flex_flow": null,
            "width": null,
            "min_width": null,
            "border": null,
            "align_items": null,
            "bottom": null,
            "_model_module": "@jupyter-widgets/base",
            "top": null,
            "grid_column": null,
            "overflow_y": null,
            "overflow_x": null,
            "grid_auto_flow": null,
            "grid_area": null,
            "grid_template_columns": null,
            "flex": null,
            "_model_name": "LayoutModel",
            "justify_items": null,
            "grid_row": null,
            "max_height": null,
            "align_content": null,
            "visibility": null,
            "align_self": null,
            "height": null,
            "min_height": null,
            "padding": null,
            "grid_auto_rows": null,
            "grid_gap": null,
            "max_width": null,
            "order": null,
            "_view_module_version": "1.2.0",
            "grid_template_areas": null,
            "object_position": null,
            "object_fit": null,
            "grid_auto_columns": null,
            "margin": null,
            "display": null,
            "left": null
          }
        },
        "2783adf271c24daa95d960ab48c7c7ea": {
          "model_module": "@jupyter-widgets/controls",
          "model_name": "DescriptionStyleModel",
          "state": {
            "_view_name": "StyleView",
            "_model_name": "DescriptionStyleModel",
            "description_width": "",
            "_view_module": "@jupyter-widgets/base",
            "_model_module_version": "1.5.0",
            "_view_count": null,
            "_view_module_version": "1.2.0",
            "_model_module": "@jupyter-widgets/controls"
          }
        },
        "b6c7e3d5eb3f45329bcd4f115dc247fa": {
          "model_module": "@jupyter-widgets/base",
          "model_name": "LayoutModel",
          "state": {
            "_view_name": "LayoutView",
            "grid_template_rows": null,
            "right": null,
            "justify_content": null,
            "_view_module": "@jupyter-widgets/base",
            "overflow": null,
            "_model_module_version": "1.2.0",
            "_view_count": null,
            "flex_flow": null,
            "width": null,
            "min_width": null,
            "border": null,
            "align_items": null,
            "bottom": null,
            "_model_module": "@jupyter-widgets/base",
            "top": null,
            "grid_column": null,
            "overflow_y": null,
            "overflow_x": null,
            "grid_auto_flow": null,
            "grid_area": null,
            "grid_template_columns": null,
            "flex": null,
            "_model_name": "LayoutModel",
            "justify_items": null,
            "grid_row": null,
            "max_height": null,
            "align_content": null,
            "visibility": null,
            "align_self": null,
            "height": null,
            "min_height": null,
            "padding": null,
            "grid_auto_rows": null,
            "grid_gap": null,
            "max_width": null,
            "order": null,
            "_view_module_version": "1.2.0",
            "grid_template_areas": null,
            "object_position": null,
            "object_fit": null,
            "grid_auto_columns": null,
            "margin": null,
            "display": null,
            "left": null
          }
        },
        "55876bba14a74ed08ab3cca918d0d3e2": {
          "model_module": "@jupyter-widgets/controls",
          "model_name": "HBoxModel",
          "state": {
            "_view_name": "HBoxView",
            "_dom_classes": [],
            "_model_name": "HBoxModel",
            "_view_module": "@jupyter-widgets/controls",
            "_model_module_version": "1.5.0",
            "_view_count": null,
            "_view_module_version": "1.5.0",
            "box_style": "",
            "layout": "IPY_MODEL_4ad8bfb8e86d48dfb3a6ba6eedbe87a9",
            "_model_module": "@jupyter-widgets/controls",
            "children": [
              "IPY_MODEL_b25aa26f95d548a9a0170856ad310ca5",
              "IPY_MODEL_1fb68017fd424709a3a6bb18743c2f45"
            ]
          }
        },
        "4ad8bfb8e86d48dfb3a6ba6eedbe87a9": {
          "model_module": "@jupyter-widgets/base",
          "model_name": "LayoutModel",
          "state": {
            "_view_name": "LayoutView",
            "grid_template_rows": null,
            "right": null,
            "justify_content": null,
            "_view_module": "@jupyter-widgets/base",
            "overflow": null,
            "_model_module_version": "1.2.0",
            "_view_count": null,
            "flex_flow": null,
            "width": null,
            "min_width": null,
            "border": null,
            "align_items": null,
            "bottom": null,
            "_model_module": "@jupyter-widgets/base",
            "top": null,
            "grid_column": null,
            "overflow_y": null,
            "overflow_x": null,
            "grid_auto_flow": null,
            "grid_area": null,
            "grid_template_columns": null,
            "flex": null,
            "_model_name": "LayoutModel",
            "justify_items": null,
            "grid_row": null,
            "max_height": null,
            "align_content": null,
            "visibility": null,
            "align_self": null,
            "height": null,
            "min_height": null,
            "padding": null,
            "grid_auto_rows": null,
            "grid_gap": null,
            "max_width": null,
            "order": null,
            "_view_module_version": "1.2.0",
            "grid_template_areas": null,
            "object_position": null,
            "object_fit": null,
            "grid_auto_columns": null,
            "margin": null,
            "display": null,
            "left": null
          }
        },
        "b25aa26f95d548a9a0170856ad310ca5": {
          "model_module": "@jupyter-widgets/controls",
          "model_name": "FloatProgressModel",
          "state": {
            "_view_name": "ProgressView",
            "style": "IPY_MODEL_38528bb95ef84777b65c3a8155e4f486",
            "_dom_classes": [],
            "description": "Downloading: 100%",
            "_model_name": "FloatProgressModel",
            "bar_style": "success",
            "max": 1042301,
            "_view_module": "@jupyter-widgets/controls",
            "_model_module_version": "1.5.0",
            "value": 1042301,
            "_view_count": null,
            "_view_module_version": "1.5.0",
            "orientation": "horizontal",
            "min": 0,
            "description_tooltip": null,
            "_model_module": "@jupyter-widgets/controls",
            "layout": "IPY_MODEL_2a9fa1bf24fe4948aafa169ae9085a21"
          }
        },
        "1fb68017fd424709a3a6bb18743c2f45": {
          "model_module": "@jupyter-widgets/controls",
          "model_name": "HTMLModel",
          "state": {
            "_view_name": "HTMLView",
            "style": "IPY_MODEL_c02d231a0bbe42438b930a4b85c6a5e1",
            "_dom_classes": [],
            "description": "",
            "_model_name": "HTMLModel",
            "placeholder": "​",
            "_view_module": "@jupyter-widgets/controls",
            "_model_module_version": "1.5.0",
            "value": " 1.04M/1.04M [00:00&lt;00:00, 2.84MB/s]",
            "_view_count": null,
            "_view_module_version": "1.5.0",
            "description_tooltip": null,
            "_model_module": "@jupyter-widgets/controls",
            "layout": "IPY_MODEL_0356e679e3b24a0daea1403a4db94b72"
          }
        },
        "38528bb95ef84777b65c3a8155e4f486": {
          "model_module": "@jupyter-widgets/controls",
          "model_name": "ProgressStyleModel",
          "state": {
            "_view_name": "StyleView",
            "_model_name": "ProgressStyleModel",
            "description_width": "initial",
            "_view_module": "@jupyter-widgets/base",
            "_model_module_version": "1.5.0",
            "_view_count": null,
            "_view_module_version": "1.2.0",
            "bar_color": null,
            "_model_module": "@jupyter-widgets/controls"
          }
        },
        "2a9fa1bf24fe4948aafa169ae9085a21": {
          "model_module": "@jupyter-widgets/base",
          "model_name": "LayoutModel",
          "state": {
            "_view_name": "LayoutView",
            "grid_template_rows": null,
            "right": null,
            "justify_content": null,
            "_view_module": "@jupyter-widgets/base",
            "overflow": null,
            "_model_module_version": "1.2.0",
            "_view_count": null,
            "flex_flow": null,
            "width": null,
            "min_width": null,
            "border": null,
            "align_items": null,
            "bottom": null,
            "_model_module": "@jupyter-widgets/base",
            "top": null,
            "grid_column": null,
            "overflow_y": null,
            "overflow_x": null,
            "grid_auto_flow": null,
            "grid_area": null,
            "grid_template_columns": null,
            "flex": null,
            "_model_name": "LayoutModel",
            "justify_items": null,
            "grid_row": null,
            "max_height": null,
            "align_content": null,
            "visibility": null,
            "align_self": null,
            "height": null,
            "min_height": null,
            "padding": null,
            "grid_auto_rows": null,
            "grid_gap": null,
            "max_width": null,
            "order": null,
            "_view_module_version": "1.2.0",
            "grid_template_areas": null,
            "object_position": null,
            "object_fit": null,
            "grid_auto_columns": null,
            "margin": null,
            "display": null,
            "left": null
          }
        },
        "c02d231a0bbe42438b930a4b85c6a5e1": {
          "model_module": "@jupyter-widgets/controls",
          "model_name": "DescriptionStyleModel",
          "state": {
            "_view_name": "StyleView",
            "_model_name": "DescriptionStyleModel",
            "description_width": "",
            "_view_module": "@jupyter-widgets/base",
            "_model_module_version": "1.5.0",
            "_view_count": null,
            "_view_module_version": "1.2.0",
            "_model_module": "@jupyter-widgets/controls"
          }
        },
        "0356e679e3b24a0daea1403a4db94b72": {
          "model_module": "@jupyter-widgets/base",
          "model_name": "LayoutModel",
          "state": {
            "_view_name": "LayoutView",
            "grid_template_rows": null,
            "right": null,
            "justify_content": null,
            "_view_module": "@jupyter-widgets/base",
            "overflow": null,
            "_model_module_version": "1.2.0",
            "_view_count": null,
            "flex_flow": null,
            "width": null,
            "min_width": null,
            "border": null,
            "align_items": null,
            "bottom": null,
            "_model_module": "@jupyter-widgets/base",
            "top": null,
            "grid_column": null,
            "overflow_y": null,
            "overflow_x": null,
            "grid_auto_flow": null,
            "grid_area": null,
            "grid_template_columns": null,
            "flex": null,
            "_model_name": "LayoutModel",
            "justify_items": null,
            "grid_row": null,
            "max_height": null,
            "align_content": null,
            "visibility": null,
            "align_self": null,
            "height": null,
            "min_height": null,
            "padding": null,
            "grid_auto_rows": null,
            "grid_gap": null,
            "max_width": null,
            "order": null,
            "_view_module_version": "1.2.0",
            "grid_template_areas": null,
            "object_position": null,
            "object_fit": null,
            "grid_auto_columns": null,
            "margin": null,
            "display": null,
            "left": null
          }
        },
        "ce3e610f340e4126bd536414d52a9430": {
          "model_module": "@jupyter-widgets/controls",
          "model_name": "HBoxModel",
          "state": {
            "_view_name": "HBoxView",
            "_dom_classes": [],
            "_model_name": "HBoxModel",
            "_view_module": "@jupyter-widgets/controls",
            "_model_module_version": "1.5.0",
            "_view_count": null,
            "_view_module_version": "1.5.0",
            "box_style": "",
            "layout": "IPY_MODEL_6eba1f126b2448c49481db35492f0056",
            "_model_module": "@jupyter-widgets/controls",
            "children": [
              "IPY_MODEL_a1132e8a445d4b9aac1f1d51e4ef27dd",
              "IPY_MODEL_5798cf012644463c9055713b24332543"
            ]
          }
        },
        "6eba1f126b2448c49481db35492f0056": {
          "model_module": "@jupyter-widgets/base",
          "model_name": "LayoutModel",
          "state": {
            "_view_name": "LayoutView",
            "grid_template_rows": null,
            "right": null,
            "justify_content": null,
            "_view_module": "@jupyter-widgets/base",
            "overflow": null,
            "_model_module_version": "1.2.0",
            "_view_count": null,
            "flex_flow": null,
            "width": null,
            "min_width": null,
            "border": null,
            "align_items": null,
            "bottom": null,
            "_model_module": "@jupyter-widgets/base",
            "top": null,
            "grid_column": null,
            "overflow_y": null,
            "overflow_x": null,
            "grid_auto_flow": null,
            "grid_area": null,
            "grid_template_columns": null,
            "flex": null,
            "_model_name": "LayoutModel",
            "justify_items": null,
            "grid_row": null,
            "max_height": null,
            "align_content": null,
            "visibility": null,
            "align_self": null,
            "height": null,
            "min_height": null,
            "padding": null,
            "grid_auto_rows": null,
            "grid_gap": null,
            "max_width": null,
            "order": null,
            "_view_module_version": "1.2.0",
            "grid_template_areas": null,
            "object_position": null,
            "object_fit": null,
            "grid_auto_columns": null,
            "margin": null,
            "display": null,
            "left": null
          }
        },
        "a1132e8a445d4b9aac1f1d51e4ef27dd": {
          "model_module": "@jupyter-widgets/controls",
          "model_name": "FloatProgressModel",
          "state": {
            "_view_name": "ProgressView",
            "style": "IPY_MODEL_8ba165b274fe4640a567b112366afe04",
            "_dom_classes": [],
            "description": "Downloading: 100%",
            "_model_name": "FloatProgressModel",
            "bar_style": "success",
            "max": 456318,
            "_view_module": "@jupyter-widgets/controls",
            "_model_module_version": "1.5.0",
            "value": 456318,
            "_view_count": null,
            "_view_module_version": "1.5.0",
            "orientation": "horizontal",
            "min": 0,
            "description_tooltip": null,
            "_model_module": "@jupyter-widgets/controls",
            "layout": "IPY_MODEL_efe0525b071d4ab3a4fe5d51492e75df"
          }
        },
        "5798cf012644463c9055713b24332543": {
          "model_module": "@jupyter-widgets/controls",
          "model_name": "HTMLModel",
          "state": {
            "_view_name": "HTMLView",
            "style": "IPY_MODEL_1a28b24a6f754881b7aa66c24c047ac9",
            "_dom_classes": [],
            "description": "",
            "_model_name": "HTMLModel",
            "placeholder": "​",
            "_view_module": "@jupyter-widgets/controls",
            "_model_module_version": "1.5.0",
            "value": " 456k/456k [00:00&lt;00:00, 2.00MB/s]",
            "_view_count": null,
            "_view_module_version": "1.5.0",
            "description_tooltip": null,
            "_model_module": "@jupyter-widgets/controls",
            "layout": "IPY_MODEL_027532b86b9948cb8472270372957e8d"
          }
        },
        "8ba165b274fe4640a567b112366afe04": {
          "model_module": "@jupyter-widgets/controls",
          "model_name": "ProgressStyleModel",
          "state": {
            "_view_name": "StyleView",
            "_model_name": "ProgressStyleModel",
            "description_width": "initial",
            "_view_module": "@jupyter-widgets/base",
            "_model_module_version": "1.5.0",
            "_view_count": null,
            "_view_module_version": "1.2.0",
            "bar_color": null,
            "_model_module": "@jupyter-widgets/controls"
          }
        },
        "efe0525b071d4ab3a4fe5d51492e75df": {
          "model_module": "@jupyter-widgets/base",
          "model_name": "LayoutModel",
          "state": {
            "_view_name": "LayoutView",
            "grid_template_rows": null,
            "right": null,
            "justify_content": null,
            "_view_module": "@jupyter-widgets/base",
            "overflow": null,
            "_model_module_version": "1.2.0",
            "_view_count": null,
            "flex_flow": null,
            "width": null,
            "min_width": null,
            "border": null,
            "align_items": null,
            "bottom": null,
            "_model_module": "@jupyter-widgets/base",
            "top": null,
            "grid_column": null,
            "overflow_y": null,
            "overflow_x": null,
            "grid_auto_flow": null,
            "grid_area": null,
            "grid_template_columns": null,
            "flex": null,
            "_model_name": "LayoutModel",
            "justify_items": null,
            "grid_row": null,
            "max_height": null,
            "align_content": null,
            "visibility": null,
            "align_self": null,
            "height": null,
            "min_height": null,
            "padding": null,
            "grid_auto_rows": null,
            "grid_gap": null,
            "max_width": null,
            "order": null,
            "_view_module_version": "1.2.0",
            "grid_template_areas": null,
            "object_position": null,
            "object_fit": null,
            "grid_auto_columns": null,
            "margin": null,
            "display": null,
            "left": null
          }
        },
        "1a28b24a6f754881b7aa66c24c047ac9": {
          "model_module": "@jupyter-widgets/controls",
          "model_name": "DescriptionStyleModel",
          "state": {
            "_view_name": "StyleView",
            "_model_name": "DescriptionStyleModel",
            "description_width": "",
            "_view_module": "@jupyter-widgets/base",
            "_model_module_version": "1.5.0",
            "_view_count": null,
            "_view_module_version": "1.2.0",
            "_model_module": "@jupyter-widgets/controls"
          }
        },
        "027532b86b9948cb8472270372957e8d": {
          "model_module": "@jupyter-widgets/base",
          "model_name": "LayoutModel",
          "state": {
            "_view_name": "LayoutView",
            "grid_template_rows": null,
            "right": null,
            "justify_content": null,
            "_view_module": "@jupyter-widgets/base",
            "overflow": null,
            "_model_module_version": "1.2.0",
            "_view_count": null,
            "flex_flow": null,
            "width": null,
            "min_width": null,
            "border": null,
            "align_items": null,
            "bottom": null,
            "_model_module": "@jupyter-widgets/base",
            "top": null,
            "grid_column": null,
            "overflow_y": null,
            "overflow_x": null,
            "grid_auto_flow": null,
            "grid_area": null,
            "grid_template_columns": null,
            "flex": null,
            "_model_name": "LayoutModel",
            "justify_items": null,
            "grid_row": null,
            "max_height": null,
            "align_content": null,
            "visibility": null,
            "align_self": null,
            "height": null,
            "min_height": null,
            "padding": null,
            "grid_auto_rows": null,
            "grid_gap": null,
            "max_width": null,
            "order": null,
            "_view_module_version": "1.2.0",
            "grid_template_areas": null,
            "object_position": null,
            "object_fit": null,
            "grid_auto_columns": null,
            "margin": null,
            "display": null,
            "left": null
          }
        },
        "a9f194240d28445b919af67f69b9239f": {
          "model_module": "@jupyter-widgets/controls",
          "model_name": "HBoxModel",
          "state": {
            "_view_name": "HBoxView",
            "_dom_classes": [],
            "_model_name": "HBoxModel",
            "_view_module": "@jupyter-widgets/controls",
            "_model_module_version": "1.5.0",
            "_view_count": null,
            "_view_module_version": "1.5.0",
            "box_style": "",
            "layout": "IPY_MODEL_aa65f12233ba40578367b5c416a98b65",
            "_model_module": "@jupyter-widgets/controls",
            "children": [
              "IPY_MODEL_7b54e149c6154531b4a030a64b4fc3a8",
              "IPY_MODEL_35845085ce11409fb05b80666798a13d"
            ]
          }
        },
        "aa65f12233ba40578367b5c416a98b65": {
          "model_module": "@jupyter-widgets/base",
          "model_name": "LayoutModel",
          "state": {
            "_view_name": "LayoutView",
            "grid_template_rows": null,
            "right": null,
            "justify_content": null,
            "_view_module": "@jupyter-widgets/base",
            "overflow": null,
            "_model_module_version": "1.2.0",
            "_view_count": null,
            "flex_flow": null,
            "width": null,
            "min_width": null,
            "border": null,
            "align_items": null,
            "bottom": null,
            "_model_module": "@jupyter-widgets/base",
            "top": null,
            "grid_column": null,
            "overflow_y": null,
            "overflow_x": null,
            "grid_auto_flow": null,
            "grid_area": null,
            "grid_template_columns": null,
            "flex": null,
            "_model_name": "LayoutModel",
            "justify_items": null,
            "grid_row": null,
            "max_height": null,
            "align_content": null,
            "visibility": null,
            "align_self": null,
            "height": null,
            "min_height": null,
            "padding": null,
            "grid_auto_rows": null,
            "grid_gap": null,
            "max_width": null,
            "order": null,
            "_view_module_version": "1.2.0",
            "grid_template_areas": null,
            "object_position": null,
            "object_fit": null,
            "grid_auto_columns": null,
            "margin": null,
            "display": null,
            "left": null
          }
        },
        "7b54e149c6154531b4a030a64b4fc3a8": {
          "model_module": "@jupyter-widgets/controls",
          "model_name": "FloatProgressModel",
          "state": {
            "_view_name": "ProgressView",
            "style": "IPY_MODEL_4a62d98359554d24b7615d9c3622a9ab",
            "_dom_classes": [],
            "description": "Downloading: 100%",
            "_model_name": "FloatProgressModel",
            "bar_style": "success",
            "max": 665,
            "_view_module": "@jupyter-widgets/controls",
            "_model_module_version": "1.5.0",
            "value": 665,
            "_view_count": null,
            "_view_module_version": "1.5.0",
            "orientation": "horizontal",
            "min": 0,
            "description_tooltip": null,
            "_model_module": "@jupyter-widgets/controls",
            "layout": "IPY_MODEL_03e28307af124cfda60f94fea6f61f88"
          }
        },
        "35845085ce11409fb05b80666798a13d": {
          "model_module": "@jupyter-widgets/controls",
          "model_name": "HTMLModel",
          "state": {
            "_view_name": "HTMLView",
            "style": "IPY_MODEL_471877dd6db14d5da9b304b757f7bf2a",
            "_dom_classes": [],
            "description": "",
            "_model_name": "HTMLModel",
            "placeholder": "​",
            "_view_module": "@jupyter-widgets/controls",
            "_model_module_version": "1.5.0",
            "value": " 665/665 [01:10&lt;00:00, 9.41B/s]",
            "_view_count": null,
            "_view_module_version": "1.5.0",
            "description_tooltip": null,
            "_model_module": "@jupyter-widgets/controls",
            "layout": "IPY_MODEL_99b84a050a9b4ffdb822c16fecadc1dd"
          }
        },
        "4a62d98359554d24b7615d9c3622a9ab": {
          "model_module": "@jupyter-widgets/controls",
          "model_name": "ProgressStyleModel",
          "state": {
            "_view_name": "StyleView",
            "_model_name": "ProgressStyleModel",
            "description_width": "initial",
            "_view_module": "@jupyter-widgets/base",
            "_model_module_version": "1.5.0",
            "_view_count": null,
            "_view_module_version": "1.2.0",
            "bar_color": null,
            "_model_module": "@jupyter-widgets/controls"
          }
        },
        "03e28307af124cfda60f94fea6f61f88": {
          "model_module": "@jupyter-widgets/base",
          "model_name": "LayoutModel",
          "state": {
            "_view_name": "LayoutView",
            "grid_template_rows": null,
            "right": null,
            "justify_content": null,
            "_view_module": "@jupyter-widgets/base",
            "overflow": null,
            "_model_module_version": "1.2.0",
            "_view_count": null,
            "flex_flow": null,
            "width": null,
            "min_width": null,
            "border": null,
            "align_items": null,
            "bottom": null,
            "_model_module": "@jupyter-widgets/base",
            "top": null,
            "grid_column": null,
            "overflow_y": null,
            "overflow_x": null,
            "grid_auto_flow": null,
            "grid_area": null,
            "grid_template_columns": null,
            "flex": null,
            "_model_name": "LayoutModel",
            "justify_items": null,
            "grid_row": null,
            "max_height": null,
            "align_content": null,
            "visibility": null,
            "align_self": null,
            "height": null,
            "min_height": null,
            "padding": null,
            "grid_auto_rows": null,
            "grid_gap": null,
            "max_width": null,
            "order": null,
            "_view_module_version": "1.2.0",
            "grid_template_areas": null,
            "object_position": null,
            "object_fit": null,
            "grid_auto_columns": null,
            "margin": null,
            "display": null,
            "left": null
          }
        },
        "471877dd6db14d5da9b304b757f7bf2a": {
          "model_module": "@jupyter-widgets/controls",
          "model_name": "DescriptionStyleModel",
          "state": {
            "_view_name": "StyleView",
            "_model_name": "DescriptionStyleModel",
            "description_width": "",
            "_view_module": "@jupyter-widgets/base",
            "_model_module_version": "1.5.0",
            "_view_count": null,
            "_view_module_version": "1.2.0",
            "_model_module": "@jupyter-widgets/controls"
          }
        },
        "99b84a050a9b4ffdb822c16fecadc1dd": {
          "model_module": "@jupyter-widgets/base",
          "model_name": "LayoutModel",
          "state": {
            "_view_name": "LayoutView",
            "grid_template_rows": null,
            "right": null,
            "justify_content": null,
            "_view_module": "@jupyter-widgets/base",
            "overflow": null,
            "_model_module_version": "1.2.0",
            "_view_count": null,
            "flex_flow": null,
            "width": null,
            "min_width": null,
            "border": null,
            "align_items": null,
            "bottom": null,
            "_model_module": "@jupyter-widgets/base",
            "top": null,
            "grid_column": null,
            "overflow_y": null,
            "overflow_x": null,
            "grid_auto_flow": null,
            "grid_area": null,
            "grid_template_columns": null,
            "flex": null,
            "_model_name": "LayoutModel",
            "justify_items": null,
            "grid_row": null,
            "max_height": null,
            "align_content": null,
            "visibility": null,
            "align_self": null,
            "height": null,
            "min_height": null,
            "padding": null,
            "grid_auto_rows": null,
            "grid_gap": null,
            "max_width": null,
            "order": null,
            "_view_module_version": "1.2.0",
            "grid_template_areas": null,
            "object_position": null,
            "object_fit": null,
            "grid_auto_columns": null,
            "margin": null,
            "display": null,
            "left": null
          }
        },
        "08d79dc449154f6189ca8f48296221e8": {
          "model_module": "@jupyter-widgets/controls",
          "model_name": "HBoxModel",
          "state": {
            "_view_name": "HBoxView",
            "_dom_classes": [],
            "_model_name": "HBoxModel",
            "_view_module": "@jupyter-widgets/controls",
            "_model_module_version": "1.5.0",
            "_view_count": null,
            "_view_module_version": "1.5.0",
            "box_style": "",
            "layout": "IPY_MODEL_aec04ba2a9ac48d4a3d8b2a3514c79f4",
            "_model_module": "@jupyter-widgets/controls",
            "children": [
              "IPY_MODEL_e9fe5dd092b64274985f5e6f23fbf05f",
              "IPY_MODEL_9a36e27a9e3d4693a0e503d24eb349e1"
            ]
          }
        },
        "aec04ba2a9ac48d4a3d8b2a3514c79f4": {
          "model_module": "@jupyter-widgets/base",
          "model_name": "LayoutModel",
          "state": {
            "_view_name": "LayoutView",
            "grid_template_rows": null,
            "right": null,
            "justify_content": null,
            "_view_module": "@jupyter-widgets/base",
            "overflow": null,
            "_model_module_version": "1.2.0",
            "_view_count": null,
            "flex_flow": null,
            "width": null,
            "min_width": null,
            "border": null,
            "align_items": null,
            "bottom": null,
            "_model_module": "@jupyter-widgets/base",
            "top": null,
            "grid_column": null,
            "overflow_y": null,
            "overflow_x": null,
            "grid_auto_flow": null,
            "grid_area": null,
            "grid_template_columns": null,
            "flex": null,
            "_model_name": "LayoutModel",
            "justify_items": null,
            "grid_row": null,
            "max_height": null,
            "align_content": null,
            "visibility": null,
            "align_self": null,
            "height": null,
            "min_height": null,
            "padding": null,
            "grid_auto_rows": null,
            "grid_gap": null,
            "max_width": null,
            "order": null,
            "_view_module_version": "1.2.0",
            "grid_template_areas": null,
            "object_position": null,
            "object_fit": null,
            "grid_auto_columns": null,
            "margin": null,
            "display": null,
            "left": null
          }
        },
        "e9fe5dd092b64274985f5e6f23fbf05f": {
          "model_module": "@jupyter-widgets/controls",
          "model_name": "FloatProgressModel",
          "state": {
            "_view_name": "ProgressView",
            "style": "IPY_MODEL_169a2b164d89432197cd4374c87dda27",
            "_dom_classes": [],
            "description": "Downloading: 100%",
            "_model_name": "FloatProgressModel",
            "bar_style": "success",
            "max": 548118077,
            "_view_module": "@jupyter-widgets/controls",
            "_model_module_version": "1.5.0",
            "value": 548118077,
            "_view_count": null,
            "_view_module_version": "1.5.0",
            "orientation": "horizontal",
            "min": 0,
            "description_tooltip": null,
            "_model_module": "@jupyter-widgets/controls",
            "layout": "IPY_MODEL_1a4cbd4c9b844ddda63239731b260384"
          }
        },
        "9a36e27a9e3d4693a0e503d24eb349e1": {
          "model_module": "@jupyter-widgets/controls",
          "model_name": "HTMLModel",
          "state": {
            "_view_name": "HTMLView",
            "style": "IPY_MODEL_161df82401824cf497fa30bc1c8f96e9",
            "_dom_classes": [],
            "description": "",
            "_model_name": "HTMLModel",
            "placeholder": "​",
            "_view_module": "@jupyter-widgets/controls",
            "_model_module_version": "1.5.0",
            "value": " 548M/548M [00:13&lt;00:00, 41.4MB/s]",
            "_view_count": null,
            "_view_module_version": "1.5.0",
            "description_tooltip": null,
            "_model_module": "@jupyter-widgets/controls",
            "layout": "IPY_MODEL_1dd5715c429f43ebb2e1056df0449498"
          }
        },
        "169a2b164d89432197cd4374c87dda27": {
          "model_module": "@jupyter-widgets/controls",
          "model_name": "ProgressStyleModel",
          "state": {
            "_view_name": "StyleView",
            "_model_name": "ProgressStyleModel",
            "description_width": "initial",
            "_view_module": "@jupyter-widgets/base",
            "_model_module_version": "1.5.0",
            "_view_count": null,
            "_view_module_version": "1.2.0",
            "bar_color": null,
            "_model_module": "@jupyter-widgets/controls"
          }
        },
        "1a4cbd4c9b844ddda63239731b260384": {
          "model_module": "@jupyter-widgets/base",
          "model_name": "LayoutModel",
          "state": {
            "_view_name": "LayoutView",
            "grid_template_rows": null,
            "right": null,
            "justify_content": null,
            "_view_module": "@jupyter-widgets/base",
            "overflow": null,
            "_model_module_version": "1.2.0",
            "_view_count": null,
            "flex_flow": null,
            "width": null,
            "min_width": null,
            "border": null,
            "align_items": null,
            "bottom": null,
            "_model_module": "@jupyter-widgets/base",
            "top": null,
            "grid_column": null,
            "overflow_y": null,
            "overflow_x": null,
            "grid_auto_flow": null,
            "grid_area": null,
            "grid_template_columns": null,
            "flex": null,
            "_model_name": "LayoutModel",
            "justify_items": null,
            "grid_row": null,
            "max_height": null,
            "align_content": null,
            "visibility": null,
            "align_self": null,
            "height": null,
            "min_height": null,
            "padding": null,
            "grid_auto_rows": null,
            "grid_gap": null,
            "max_width": null,
            "order": null,
            "_view_module_version": "1.2.0",
            "grid_template_areas": null,
            "object_position": null,
            "object_fit": null,
            "grid_auto_columns": null,
            "margin": null,
            "display": null,
            "left": null
          }
        },
        "161df82401824cf497fa30bc1c8f96e9": {
          "model_module": "@jupyter-widgets/controls",
          "model_name": "DescriptionStyleModel",
          "state": {
            "_view_name": "StyleView",
            "_model_name": "DescriptionStyleModel",
            "description_width": "",
            "_view_module": "@jupyter-widgets/base",
            "_model_module_version": "1.5.0",
            "_view_count": null,
            "_view_module_version": "1.2.0",
            "_model_module": "@jupyter-widgets/controls"
          }
        },
        "1dd5715c429f43ebb2e1056df0449498": {
          "model_module": "@jupyter-widgets/base",
          "model_name": "LayoutModel",
          "state": {
            "_view_name": "LayoutView",
            "grid_template_rows": null,
            "right": null,
            "justify_content": null,
            "_view_module": "@jupyter-widgets/base",
            "overflow": null,
            "_model_module_version": "1.2.0",
            "_view_count": null,
            "flex_flow": null,
            "width": null,
            "min_width": null,
            "border": null,
            "align_items": null,
            "bottom": null,
            "_model_module": "@jupyter-widgets/base",
            "top": null,
            "grid_column": null,
            "overflow_y": null,
            "overflow_x": null,
            "grid_auto_flow": null,
            "grid_area": null,
            "grid_template_columns": null,
            "flex": null,
            "_model_name": "LayoutModel",
            "justify_items": null,
            "grid_row": null,
            "max_height": null,
            "align_content": null,
            "visibility": null,
            "align_self": null,
            "height": null,
            "min_height": null,
            "padding": null,
            "grid_auto_rows": null,
            "grid_gap": null,
            "max_width": null,
            "order": null,
            "_view_module_version": "1.2.0",
            "grid_template_areas": null,
            "object_position": null,
            "object_fit": null,
            "grid_auto_columns": null,
            "margin": null,
            "display": null,
            "left": null
          }
        }
      }
    }
  },
  "cells": [
    {
      "cell_type": "markdown",
      "metadata": {
        "id": "4Ohw7wEzRr_z"
      },
      "source": [
        "# 2. 데이터 탐색과 전처리"
      ]
    },
    {
      "cell_type": "markdown",
      "metadata": {
        "id": "QjLqioWfUWPU"
      },
      "source": [
        "이전 장에서는 Question Generation Task의 개념과 모델, 평가지표 등에 대해 알아보았습니다. 이번 장에서는 실습에 사용할 데이터셋을 확인해보도록 하겠습니다. \n",
        "\n",
        "NLP 튜토리얼에서는 에세이 데이터를 활용해 학습자들을 위한 영어 문제를 생성하는 모델을 만들어 볼 것입니다. 구체적으로 3개의 문제를 만들어 볼 것입니다. 왜 에세이냐? -> 개인의 생각이 들어간 수필인데 이것을 쓰면 이러이러한 이유에서 좋다  NUS는 세계 몇 위 대학이고, 학생들 수준이 상당히 높아 에세이 수준도 높다. RC로 적합하다 또 WI Locness는 상위 수준의 학생들의 에세이만 고를 꺼기 때문에, 괜찮다. \n",
        "\n",
        "문제를 모두 4지선다 문제다. \n",
        "왜 4지선다 문제냐? 평가 쉽고, blah blah blah\n",
        "\n",
        "지문 내용 기반 참 거짓 문제, WH-5 문제 생성할거다. \n",
        "\n",
        "참 거짓 문제란 ~~\n",
        "\n",
        "WH-5 문제란 ~~ \n",
        "\n",
        "grammar 문제는 실제 GEC task에 사용되는 데이터셋에서 틀린 grammar들 위주로 구성했으므로, 실제 ESL 학생드리 헷갈려하는 문제 위주로 grammar 문제를 구성해서 유효성을 확보함. \n",
        "\n",
        "2.1절에서는 데이터를 다운로드 받는 방법을 살펴보겠습니다. 2.2절에서는 데이터를 시각화 해볼 것이며, 2.3절에서는 matplotlib.pyplot 에서 제공하는 subplots 함수를 활용해 여러 이미지를 하나의 출력 창에 시각화 하는 방법을 알아보겠습니다. 마지막으로 2.4절에서는 이미지 전처리를 통해 픽셀값에 정규화(normalization)을 진행해보겠습니다.\n",
        "\n"
      ]
    },
    {
      "cell_type": "code",
      "metadata": {
        "colab": {
          "base_uri": "https://localhost:8080/"
        },
        "id": "rxkaQ3YIblgH",
        "outputId": "be02e243-f8f5-4664-f8e1-5a31b3d635da"
      },
      "source": [
        "!wget -O 'conll2014.tar.gz' https://www.comp.nus.edu.sg/~nlp/conll14st/conll14st-test-data.tar.gz"
      ],
      "execution_count": null,
      "outputs": [
        {
          "output_type": "stream",
          "text": [
            "--2021-04-01 13:25:58--  https://www.comp.nus.edu.sg/~nlp/conll14st/conll14st-test-data.tar.gz\n",
            "Resolving www.comp.nus.edu.sg (www.comp.nus.edu.sg)... 45.60.31.225\n",
            "Connecting to www.comp.nus.edu.sg (www.comp.nus.edu.sg)|45.60.31.225|:443... connected.\n",
            "HTTP request sent, awaiting response... 200 OK\n",
            "Length: 643482 (628K) [application/x-gzip]\n",
            "Saving to: ‘conll2014.tar.gz’\n",
            "\n",
            "conll2014.tar.gz    100%[===================>] 628.40K   462KB/s    in 1.4s    \n",
            "\n",
            "2021-04-01 13:26:01 (462 KB/s) - ‘conll2014.tar.gz’ saved [643482/643482]\n",
            "\n"
          ],
          "name": "stdout"
        }
      ]
    },
    {
      "cell_type": "markdown",
      "metadata": {
        "id": "14PbgErScAjw"
      },
      "source": [
        "- output file 이름 정의할 때: `-O`"
      ]
    },
    {
      "cell_type": "code",
      "metadata": {
        "id": "aFbPfFoMe145"
      },
      "source": [
        "# 압축 풀고\n",
        "!tar -xf conll2014.tar.gz"
      ],
      "execution_count": null,
      "outputs": []
    },
    {
      "cell_type": "markdown",
      "metadata": {
        "id": "nL-OzDV-wb8o"
      },
      "source": [
        "## 2.1 CoNLL"
      ]
    },
    {
      "cell_type": "markdown",
      "metadata": {
        "id": "uWqElsQsXRC7"
      },
      "source": [
        "Conference on Computational Natural Language Learning (CoNLL)은 매년 자연어처리 관련 기술에 대해 논하는 학회입니다. (학회 설명 보완) \n",
        "\n",
        "2013년, 2014년에 더불어 공동 과제 (shared task)를 운영했는데, 에세이내의 문법 오류를 탐지해서 자동으로 고치는 알고리즘을 찾는 과제였습니다. \n",
        "\n",
        "해당 데이터는 영어가 두번째 언어인 English as Second Language (ESL) 학생들에 의해 작성된 에세이를 활용했습니다. 50개의 에세이가 존재하며, 2개의 다른 주제에 대한 학생들의 생각을 서술한 글이다. "
      ]
    },
    {
      "cell_type": "markdown",
      "metadata": {
        "id": "kvuPBlB2XUZB"
      },
      "source": [
        "- Creator: National University of Singapore\n",
        "- Year: 2013, 2014\n",
        "- Purpose: \n",
        "    - shared task of the Seventeenth Conference on Computational Natural Language Learning\n",
        "    - the\n",
        "goal is to detect and correct the grammatical errors\n",
        "present in the essay, and return the corrected essay (grammatical error correction)\n",
        "- Data:\n",
        "    - Written by ESL students, corrected by Error annotation on the test essays was carried\n",
        "out by a native speaker of English who is a lecturer\n",
        "at the NUS Centre for English Language Communication\n",
        "\n",
        "    - 50 essays (1,312 sentences) on 2 different topics written by 25 South-East Asian undergraduates [Ref. BEA-2019 paper]\n",
        "\n",
        "- Papers: https://www.aclweb.org/anthology/W13-3601.pdf"
      ]
    },
    {
      "cell_type": "code",
      "metadata": {
        "id": "UYv6DLh3wlyD"
      },
      "source": [
        "from bs4 import BeautifulSoup"
      ],
      "execution_count": null,
      "outputs": []
    },
    {
      "cell_type": "code",
      "metadata": {
        "id": "fP1UolDQbKwt"
      },
      "source": [
        "# 파일 열고 annotator 1에 의해 라벨링 된 파일\n",
        "cor = open('conll14st-test-data/noalt/official-2014.1.sgml')"
      ],
      "execution_count": null,
      "outputs": []
    },
    {
      "cell_type": "code",
      "metadata": {
        "id": "9ftd0YJzbN-L"
      },
      "source": [
        "# 파일 읽고\n",
        "revised = cor.read()"
      ],
      "execution_count": null,
      "outputs": []
    },
    {
      "cell_type": "code",
      "metadata": {
        "colab": {
          "base_uri": "https://localhost:8080/"
        },
        "id": "IEtrnuYjbi8k",
        "outputId": "cef0ba3f-2112-4850-c377-68ed2eda30a4"
      },
      "source": [
        "type(revised)"
      ],
      "execution_count": null,
      "outputs": [
        {
          "output_type": "execute_result",
          "data": {
            "text/plain": [
              "str"
            ]
          },
          "metadata": {
            "tags": []
          },
          "execution_count": 72
        }
      ]
    },
    {
      "cell_type": "code",
      "metadata": {
        "id": "Hti6nGpcbRFt"
      },
      "source": [
        "# 파싱하고\n",
        "revisedsoup = BeautifulSoup(revised, 'html.parser')"
      ],
      "execution_count": null,
      "outputs": []
    },
    {
      "cell_type": "code",
      "metadata": {
        "colab": {
          "base_uri": "https://localhost:8080/"
        },
        "id": "SxvPlF9Abhsk",
        "outputId": "416b0325-0ade-40ae-cb77-8920223c7376"
      },
      "source": [
        "type(revisedsoup)"
      ],
      "execution_count": null,
      "outputs": [
        {
          "output_type": "execute_result",
          "data": {
            "text/plain": [
              "bs4.BeautifulSoup"
            ]
          },
          "metadata": {
            "tags": []
          },
          "execution_count": 169
        }
      ]
    },
    {
      "cell_type": "code",
      "metadata": {
        "id": "eSB9KA6pbXbg"
      },
      "source": [
        "# html tag names\n",
        "rev_tag_names = set([tag.name for tag in revisedsoup.find_all()])"
      ],
      "execution_count": null,
      "outputs": []
    },
    {
      "cell_type": "markdown",
      "metadata": {
        "id": "0wPZvEcb9Dqt"
      },
      "source": [
        "html tag 별 설명 추가 "
      ]
    },
    {
      "cell_type": "code",
      "metadata": {
        "id": "oJNi0WBVba0J",
        "colab": {
          "base_uri": "https://localhost:8080/"
        },
        "outputId": "1ca293e4-846b-44d0-c71d-0e19e05cbdc9"
      },
      "source": [
        "rev_tag_names"
      ],
      "execution_count": null,
      "outputs": [
        {
          "output_type": "execute_result",
          "data": {
            "text/plain": [
              "{'annotation',\n",
              " 'comment',\n",
              " 'correction',\n",
              " 'doc',\n",
              " 'mistake',\n",
              " 'p',\n",
              " 'text',\n",
              " 'title',\n",
              " 'type'}"
            ]
          },
          "metadata": {
            "tags": []
          },
          "execution_count": 8
        }
      ]
    },
    {
      "cell_type": "code",
      "metadata": {
        "colab": {
          "base_uri": "https://localhost:8080/"
        },
        "id": "vUjXmB8bnQXg",
        "outputId": "3d465970-5ab8-401c-bca2-1b80ef123753"
      },
      "source": [
        "revisedsoup.find('doc')"
      ],
      "execution_count": null,
      "outputs": [
        {
          "output_type": "execute_result",
          "data": {
            "text/plain": [
              "<doc nid=\"1\">\n",
              "<text>\n",
              "<title>\n",
              "Keeping the Secret of Genetic Testing\n",
              "</title>\n",
              "<p>\n",
              "What is genetic risk? Genetic risk refers more to your chance of inheriting a disorder or disease. People get certain disease because of genetic changes. How much a genetic change tells us about your chance of developing a disorder is not always clear. If your genetic results indicate that you have gene changes associated with an increased risk of heart disease, it does not mean that you definitely will develop heart disease. The opposite is also true. If your genetic results show that you do not have changes associated with an increased risk of heart disease, it is still possible that you develop heart disease. However for some rare diseases, people who have certain gene changes are guaranteed to develop the disease. When we are diagonosed out with certain genetic disease, are we suppose to disclose this result to our relatives? My answer is no.\n",
              "</p>\n",
              "<p>\n",
              "On one hand, we do not want this potential danger causing firghtenning affects in our families' later lives. When people around us know that we got certain disease, their altitudes will be easily changed, whether caring us too much or keeping away from us. And both are not what we want since most of us just want to live as normal people. Surrounded by such concerns, it is very likely that we are distracted to worry about these problems. It is a concern that will be with us during our whole life, because we will never know when the ''potential bomb'' will explode.\n",
              "</p>\n",
              "<p>\n",
              "On the other hand, if there are ways can help us to control or cure the disease, we can going through thses process from the scope of the whole family. For an example, if exercising is helpful for family potential disease, we can always look for more chances for the family to go exercise. And we keep track of all family members health conditions. At the same time, we are prepared to know when there are other members got this disease.\n",
              "</p>\n",
              "<p>\n",
              "Here I want to share Forest'view on this issue. Although some people feel that an individual who is found to carry a dominant gene for Huntington's disease has an ethical obligation to disclose that fact to his or her siblings, there currently is no legal requirement to do so. In fact, requiring someone to communicate his or her own genetic risk to family members who are therefore also at risk is considered by many to be ethically dubious.\"\n",
              "</p>\n",
              "<p>\n",
              "Nothing is absolute right or wrong. If certain disease genetic test is very accurate and it is unavoidable and necessary to get treatment and known by others, it is OK to disclose the result. Above all, life is more important than secret.\n",
              "</p>\n",
              "</text>\n",
              "<annotation teacher_id=\"9\">\n",
              "<mistake end_off=\"46\" end_par=\"1\" start_off=\"42\" start_par=\"1\">\n",
              "<type>Rloc-</type>\n",
              "<correction></correction>\n",
              "</mistake>\n",
              "<mistake end_off=\"125\" end_par=\"1\" start_off=\"118\" start_par=\"1\">\n",
              "<type>Nn</type>\n",
              "<correction>diseases</correction>\n",
              "</mistake>\n",
              "<mistake end_off=\"604\" end_par=\"1\" start_off=\"597\" start_par=\"1\">\n",
              "<type>Vt</type>\n",
              "<correction>will develop</correction>\n",
              "</mistake>\n",
              "<mistake end_off=\"627\" end_par=\"1\" start_off=\"620\" start_par=\"1\">\n",
              "<type>Mec</type>\n",
              "<correction>However,</correction>\n",
              "</mistake>\n",
              "<mistake end_off=\"754\" end_par=\"1\" start_off=\"740\" start_par=\"1\">\n",
              "<type>Rloc-</type>\n",
              "<correction>diagnosed</correction>\n",
              "</mistake>\n",
              "<mistake end_off=\"767\" end_par=\"1\" start_off=\"760\" start_par=\"1\">\n",
              "<type>ArtOrDet</type>\n",
              "<correction>a certain</correction>\n",
              "</mistake>\n",
              "<mistake end_off=\"799\" end_par=\"1\" start_off=\"792\" start_par=\"1\">\n",
              "<type>Vt</type>\n",
              "<correction>supposed</correction>\n",
              "</mistake>\n",
              "<mistake end_off=\"6\" end_par=\"2\" start_off=\"3\" start_par=\"2\">\n",
              "<type>ArtOrDet</type>\n",
              "<correction>the one</correction>\n",
              "</mistake>\n",
              "<mistake end_off=\"57\" end_par=\"2\" start_off=\"50\" start_par=\"2\">\n",
              "<type>Wci</type>\n",
              "<correction>to have</correction>\n",
              "<comment>also wrong verb form</comment>\n",
              "</mistake>\n",
              "<mistake end_off=\"70\" end_par=\"2\" start_off=\"58\" start_par=\"2\">\n",
              "<type>Mec</type>\n",
              "<correction>frightening</correction>\n",
              "</mistake>\n",
              "<mistake end_off=\"78\" end_par=\"2\" start_off=\"71\" start_par=\"2\">\n",
              "<type>Mec</type>\n",
              "<correction>effects</correction>\n",
              "</mistake>\n",
              "<mistake end_off=\"81\" end_par=\"2\" start_off=\"79\" start_par=\"2\">\n",
              "<type>Prep</type>\n",
              "<correction>on</correction>\n",
              "</mistake>\n",
              "<mistake end_off=\"147\" end_par=\"2\" start_off=\"144\" start_par=\"2\">\n",
              "<type>Vm</type>\n",
              "<correction>have got</correction>\n",
              "</mistake>\n",
              "<mistake end_off=\"155\" end_par=\"2\" start_off=\"148\" start_par=\"2\">\n",
              "<type>ArtOrDet</type>\n",
              "<correction>a certain</correction>\n",
              "</mistake>\n",
              "<mistake end_off=\"180\" end_par=\"2\" start_off=\"171\" start_par=\"2\">\n",
              "<type>Mec</type>\n",
              "<correction>attitudes</correction>\n",
              "</mistake>\n",
              "<mistake end_off=\"195\" end_par=\"2\" start_off=\"186\" start_par=\"2\">\n",
              "<type>WOadv</type>\n",
              "<correction>easily be</correction>\n",
              "</mistake>\n",
              "<mistake end_off=\"213\" end_par=\"2\" start_off=\"205\" start_par=\"2\">\n",
              "<type>Others</type>\n",
              "<correction>whether it be</correction>\n",
              "<comment>or could replace 'whether' with 'either' plus prep 'to'</comment>\n",
              "</mistake>\n",
              "<mistake end_off=\"219\" end_par=\"2\" start_off=\"213\" start_par=\"2\">\n",
              "<type>Prep</type>\n",
              "<correction>caring about</correction>\n",
              "</mistake>\n",
              "<mistake end_off=\"292\" end_par=\"2\" start_off=\"287\" start_par=\"2\">\n",
              "<type>Mec</type>\n",
              "<correction>, since</correction>\n",
              "</mistake>\n",
              "<mistake end_off=\"398\" end_par=\"2\" start_off=\"395\" start_par=\"2\">\n",
              "<type>Vt</type>\n",
              "<correction>will be</correction>\n",
              "</mistake>\n",
              "<mistake end_off=\"409\" end_par=\"2\" start_off=\"399\" start_par=\"2\">\n",
              "<type>Wform</type>\n",
              "<correction>too distracted</correction>\n",
              "</mistake>\n",
              "<mistake end_off=\"36\" end_par=\"3\" start_off=\"32\" start_par=\"3\">\n",
              "<type>Wci</type>\n",
              "<correction>things</correction>\n",
              "</mistake>\n",
              "<mistake end_off=\"40\" end_par=\"3\" start_off=\"37\" start_par=\"3\">\n",
              "<type>Ssub</type>\n",
              "<correction>that can</correction>\n",
              "</mistake>\n",
              "<mistake end_off=\"93\" end_par=\"3\" start_off=\"88\" start_par=\"3\">\n",
              "<type>Vform</type>\n",
              "<correction>go</correction>\n",
              "</mistake>\n",
              "<mistake end_off=\"107\" end_par=\"3\" start_off=\"102\" start_par=\"3\">\n",
              "<type>Mec</type>\n",
              "<correction>this</correction>\n",
              "</mistake>\n",
              "<mistake end_off=\"133\" end_par=\"3\" start_off=\"116\" start_par=\"3\">\n",
              "<type>Prep</type>\n",
              "<correction>with</correction>\n",
              "</mistake>\n",
              "<mistake end_off=\"166\" end_par=\"3\" start_off=\"152\" start_par=\"3\">\n",
              "<type>ArtOrDet</type>\n",
              "<correction>For example</correction>\n",
              "</mistake>\n",
              "<mistake end_off=\"197\" end_par=\"3\" start_off=\"193\" start_par=\"3\">\n",
              "<type>ArtOrDet</type>\n",
              "<correction>for a</correction>\n",
              "</mistake>\n",
              "<mistake end_off=\"213\" end_par=\"3\" start_off=\"197\" start_par=\"3\">\n",
              "<type>WOinc</type>\n",
              "<correction>potential family</correction>\n",
              "</mistake>\n",
              "<mistake end_off=\"279\" end_par=\"3\" start_off=\"277\" start_par=\"3\">\n",
              "<type>Wci</type>\n",
              "<correction>do</correction>\n",
              "</mistake>\n",
              "<mistake end_off=\"301\" end_par=\"3\" start_off=\"297\" start_par=\"3\">\n",
              "<type>Vm</type>\n",
              "<correction>can keep</correction>\n",
              "</mistake>\n",
              "<mistake end_off=\"329\" end_par=\"3\" start_off=\"322\" start_par=\"3\">\n",
              "<type>Mec</type>\n",
              "<correction>members'</correction>\n",
              "</mistake>\n",
              "<mistake end_off=\"347\" end_par=\"3\" start_off=\"330\" start_par=\"3\">\n",
              "<type>Rloc-</type>\n",
              "<correction>health</correction>\n",
              "</mistake>\n",
              "<mistake end_off=\"419\" end_par=\"3\" start_off=\"412\" start_par=\"3\">\n",
              "<type>Ssub</type>\n",
              "<correction>members who</correction>\n",
              "</mistake>\n",
              "<mistake end_off=\"423\" end_par=\"3\" start_off=\"420\" start_par=\"3\">\n",
              "<type>Vt</type>\n",
              "<correction>have got</correction>\n",
              "</mistake>\n",
              "<mistake end_off=\"32\" end_par=\"4\" start_off=\"21\" start_par=\"4\">\n",
              "<type>Mec</type>\n",
              "<correction>Forest's view</correction>\n",
              "</mistake>\n",
              "<mistake end_off=\"170\" end_par=\"4\" start_off=\"160\" start_par=\"4\">\n",
              "<type>Wci</type>\n",
              "<correction>a moral</correction>\n",
              "</mistake>\n",
              "<mistake end_off=\"246\" end_par=\"4\" start_off=\"234\" start_par=\"4\">\n",
              "<type>WOadv</type>\n",
              "<correction>is currently</correction>\n",
              "</mistake>\n",
              "<mistake end_off=\"444\" end_par=\"4\" start_off=\"443\" start_par=\"4\">\n",
              "<type>Mec</type>\n",
              "<correction></correction>\n",
              "</mistake>\n",
              "<mistake end_off=\"19\" end_par=\"5\" start_off=\"11\" start_par=\"5\">\n",
              "<type>Wform</type>\n",
              "<correction>absolutely</correction>\n",
              "</mistake>\n",
              "<mistake end_off=\"46\" end_par=\"5\" start_off=\"39\" start_par=\"5\">\n",
              "<type>ArtOrDet</type>\n",
              "<correction>a certain</correction>\n",
              "</mistake>\n",
              "<mistake end_off=\"67\" end_par=\"5\" start_off=\"47\" start_par=\"5\">\n",
              "<type>WOinc</type>\n",
              "<correction>genetic test for a disease</correction>\n",
              "</mistake>\n",
              "<mistake end_off=\"147\" end_par=\"5\" start_off=\"142\" start_par=\"5\">\n",
              "<type>Spar</type>\n",
              "<correction>to make it known</correction>\n",
              "</mistake>\n",
              "<mistake end_off=\"150\" end_par=\"5\" start_off=\"148\" start_par=\"5\">\n",
              "<type>Prep</type>\n",
              "<correction>to</correction>\n",
              "</mistake>\n",
              "<mistake end_off=\"237\" end_par=\"5\" start_off=\"231\" start_par=\"5\">\n",
              "<type>Wform</type>\n",
              "<correction>secrecy</correction>\n",
              "<comment>'privacy' would be better, but secrecy is closer to the original</comment>\n",
              "</mistake>\n",
              "</annotation>\n",
              "</doc>"
            ]
          },
          "metadata": {
            "tags": []
          },
          "execution_count": 74
        }
      ]
    },
    {
      "cell_type": "code",
      "metadata": {
        "id": "hlhBOKuKnC5K"
      },
      "source": [
        "sample = 'i can do this all day'"
      ],
      "execution_count": null,
      "outputs": []
    },
    {
      "cell_type": "code",
      "metadata": {
        "colab": {
          "base_uri": "https://localhost:8080/",
          "height": 168
        },
        "id": "kxzeNzw9nFed",
        "outputId": "f042031e-7af8-4843-c272-aba6a5640ad1"
      },
      "source": [
        "sample[2:5] = 'will'"
      ],
      "execution_count": null,
      "outputs": [
        {
          "output_type": "error",
          "ename": "TypeError",
          "evalue": "ignored",
          "traceback": [
            "\u001b[0;31m---------------------------------------------------------------------------\u001b[0m",
            "\u001b[0;31mTypeError\u001b[0m                                 Traceback (most recent call last)",
            "\u001b[0;32m<ipython-input-76-10f486599e14>\u001b[0m in \u001b[0;36m<module>\u001b[0;34m()\u001b[0m\n\u001b[0;32m----> 1\u001b[0;31m \u001b[0msample\u001b[0m\u001b[0;34m[\u001b[0m\u001b[0;36m2\u001b[0m\u001b[0;34m:\u001b[0m\u001b[0;36m5\u001b[0m\u001b[0;34m]\u001b[0m \u001b[0;34m=\u001b[0m \u001b[0;34m'will'\u001b[0m\u001b[0;34m\u001b[0m\u001b[0;34m\u001b[0m\u001b[0m\n\u001b[0m",
            "\u001b[0;31mTypeError\u001b[0m: 'str' object does not support item assignment"
          ]
        }
      ]
    },
    {
      "cell_type": "code",
      "metadata": {
        "colab": {
          "base_uri": "https://localhost:8080/",
          "height": 35
        },
        "id": "MjKuS2Ftnhkg",
        "outputId": "de489fc7-0192-498f-8d5e-59d0a696a323"
      },
      "source": [
        "sample[:2] + 'will' + sample[5:]"
      ],
      "execution_count": null,
      "outputs": [
        {
          "output_type": "execute_result",
          "data": {
            "application/vnd.google.colaboratory.intrinsic+json": {
              "type": "string"
            },
            "text/plain": [
              "'i will do this all day'"
            ]
          },
          "metadata": {
            "tags": []
          },
          "execution_count": 77
        }
      ]
    },
    {
      "cell_type": "code",
      "metadata": {
        "id": "ovEmUbYClnZH"
      },
      "source": [
        "def edit_paragraph(paragraph, start, end, correction):\n",
        "    return paragraph[:start] + correction + paragraph[end:]\n",
        "\n",
        "def update_index(paragraph, offset, corrections):\n",
        "    '''\n",
        "    paragraph: 원문\n",
        "    offset: 원본 위치정보\n",
        "    corrections: 수정해야 하는 단어\n",
        "    '''\n",
        "    raw_words = []\n",
        "    # 1. detect all the words at offset values in the paragraph / O(offset)\n",
        "    for of in offset:\n",
        "        raw_words.append(paragraph[of['start_off']:of['end_off']])\n",
        "\n",
        "    # 2. compare length change between the detected words and corrections (map is faster than list comprehension when it doesn't use lambda) / O(offset)\n",
        "    adjusted = np.array(list(map(len, corrections))) - np.array(list(map(len, raw_words)))\n",
        "\n",
        "    # cumulate adjusted values / O(offset)\n",
        "    for i in range(1, len(adjusted)):\n",
        "        adjusted[i] += adjusted[i-1]\n",
        "    \n",
        "    # 3. adjust the index sequentially / O(offset)\n",
        "    for i in range(1, len(offset)):\n",
        "        offset[i]['start_off'] += adjusted[i-1]\n",
        "        offset[i]['end_off'] += adjusted[i-1]"
      ],
      "execution_count": null,
      "outputs": []
    },
    {
      "cell_type": "code",
      "metadata": {
        "id": "9ow6bIfAfIDB"
      },
      "source": [
        "import numpy as np"
      ],
      "execution_count": null,
      "outputs": []
    },
    {
      "cell_type": "code",
      "metadata": {
        "id": "YfvuCQfOv5B8"
      },
      "source": [
        "all_docs = revisedsoup.find_all('doc')"
      ],
      "execution_count": null,
      "outputs": []
    },
    {
      "cell_type": "code",
      "metadata": {
        "id": "FhVgdKWzv8E-"
      },
      "source": [
        "# strip은 앞뒤 공란 제거\n",
        "_t = all_docs[0].find('text').text.strip().split('\\n\\n\\n')"
      ],
      "execution_count": null,
      "outputs": []
    },
    {
      "cell_type": "code",
      "metadata": {
        "colab": {
          "base_uri": "https://localhost:8080/"
        },
        "id": "3WuhXpGbz5-J",
        "outputId": "5b47c35a-e845-467f-ecb8-947e14070972"
      },
      "source": [
        "_t"
      ],
      "execution_count": null,
      "outputs": [
        {
          "output_type": "execute_result",
          "data": {
            "text/plain": [
              "['Keeping the Secret of Genetic Testing',\n",
              " 'What is genetic risk? Genetic risk refers more to your chance of inheriting a disorder or disease. People get certain disease because of genetic changes. How much a genetic change tells us about your chance of developing a disorder is not always clear. If your genetic results indicate that you have gene changes associated with an increased risk of heart disease, it does not mean that you definitely will develop heart disease. The opposite is also true. If your genetic results show that you do not have changes associated with an increased risk of heart disease, it is still possible that you develop heart disease. However for some rare diseases, people who have certain gene changes are guaranteed to develop the disease. When we are diagonosed out with certain genetic disease, are we suppose to disclose this result to our relatives? My answer is no.',\n",
              " \"On one hand, we do not want this potential danger causing firghtenning affects in our families' later lives. When people around us know that we got certain disease, their altitudes will be easily changed, whether caring us too much or keeping away from us. And both are not what we want since most of us just want to live as normal people. Surrounded by such concerns, it is very likely that we are distracted to worry about these problems. It is a concern that will be with us during our whole life, because we will never know when the ''potential bomb'' will explode.\",\n",
              " 'On the other hand, if there are ways can help us to control or cure the disease, we can going through thses process from the scope of the whole family. For an example, if exercising is helpful for family potential disease, we can always look for more chances for the family to go exercise. And we keep track of all family members health conditions. At the same time, we are prepared to know when there are other members got this disease.',\n",
              " 'Here I want to share Forest\\'view on this issue. Although some people feel that an individual who is found to carry a dominant gene for Huntington\\'s disease has an ethical obligation to disclose that fact to his or her siblings, there currently is no legal requirement to do so. In fact, requiring someone to communicate his or her own genetic risk to family members who are therefore also at risk is considered by many to be ethically dubious.\"',\n",
              " 'Nothing is absolute right or wrong. If certain disease genetic test is very accurate and it is unavoidable and necessary to get treatment and known by others, it is OK to disclose the result. Above all, life is more important than secret.']"
            ]
          },
          "metadata": {
            "tags": []
          },
          "execution_count": 175
        }
      ]
    },
    {
      "cell_type": "code",
      "metadata": {
        "id": "S4iwJd45kN5V"
      },
      "source": [
        "all_docs = revisedsoup.find_all('doc')\n",
        "corrected_essays = []\n",
        "\n",
        "for doc in all_docs:\n",
        "    \n",
        "    # extract paragraphs\n",
        "    paragraph_lists = doc.find('text').text.strip().split('\\n\\n\\n')\n",
        "\n",
        "    # paragraph 별로 수정 진행\n",
        "    # make list that contains offset values\n",
        "\n",
        "    all_mistakes = doc.find_all('mistake')\n",
        "\n",
        "    for para_idx, para in enumerate(paragraph_lists):\n",
        "        edits = [mistake.attrs for mistake in all_mistakes if mistake.attrs['start_par'] == f'{para_idx}']\n",
        "\n",
        "        if len(edits) == 0:\n",
        "            continue\n",
        "        \n",
        "        edits = [{key: int(value) for key, value in edit.items()} for edit in edits]\n",
        "\n",
        "        # make list that contains correction information \n",
        "        corrections = [mistake.find('correction').text for mistake in all_mistakes if mistake.attrs['start_par'] == f'{para_idx}'] #start par과 end par은 항상 같은가?\n",
        "        \n",
        "        # reindexing\n",
        "        update_index(para, edits, corrections)\n",
        "\n",
        "        for edit_idx, edit in enumerate(edits):\n",
        "            para = edit_paragraph(para, int(edit['start_off']), int(edit['end_off']), corrections[edit_idx])\n",
        "\n",
        "        paragraph_lists[para_idx] = para\n",
        "\n",
        "    corrected_essays.append(' '.join(paragraph_lists))"
      ],
      "execution_count": null,
      "outputs": []
    },
    {
      "cell_type": "code",
      "metadata": {
        "colab": {
          "base_uri": "https://localhost:8080/"
        },
        "id": "nHavPIrF0-ZQ",
        "outputId": "98f46d40-2d2b-4061-dcd1-1e0e1d4910b5"
      },
      "source": [
        "len(corrected_essays)"
      ],
      "execution_count": null,
      "outputs": [
        {
          "output_type": "execute_result",
          "data": {
            "text/plain": [
              "50"
            ]
          },
          "metadata": {
            "tags": []
          },
          "execution_count": 177
        }
      ]
    },
    {
      "cell_type": "code",
      "metadata": {
        "id": "fjV5HpiILkEW"
      },
      "source": [
        "import pickle"
      ],
      "execution_count": null,
      "outputs": []
    },
    {
      "cell_type": "code",
      "metadata": {
        "id": "8CwslqgvLfM2"
      },
      "source": [
        "sample_list = [1, 2, 3]\n",
        "file_name = \"corrected_essays.pkl\"\n",
        "\n",
        "open_file = open(file_name, \"wb\")\n",
        "pickle.dump(corrected_essays, open_file)\n",
        "open_file.close()\n",
        "\n"
      ],
      "execution_count": null,
      "outputs": []
    },
    {
      "cell_type": "code",
      "metadata": {
        "id": "8RXQm2w-MCFq"
      },
      "source": [
        "import pickle\n",
        "file_name = \"corrected_essays.pkl\"\n",
        "open_file = open(file_name, \"rb\")\n",
        "loaded_list = pickle.load(open_file)\n",
        "open_file.close()"
      ],
      "execution_count": null,
      "outputs": []
    },
    {
      "cell_type": "code",
      "metadata": {
        "colab": {
          "base_uri": "https://localhost:8080/",
          "height": 367
        },
        "id": "cNW5DYFKMIBQ",
        "outputId": "8e04e8dd-8204-4f41-fb24-cddd1369a13a"
      },
      "source": [
        "loaded_list[0]"
      ],
      "execution_count": null,
      "outputs": [
        {
          "output_type": "execute_result",
          "data": {
            "application/vnd.google.colaboratory.intrinsic+json": {
              "type": "string"
            },
            "text/plain": [
              "\"Keeping the Secret of Genetic Testing What is genetic risk? Genetic risk refers  to your chance of inheriting a disorder or disease. People get certain diseases because of genetic changes. How much a genetic change tells us about your chance of developing a disorder is not always clear. If your genetic results indicate that you have gene changes associated with an increased risk of heart disease, it does not mean that you definitely will develop heart disease. The opposite is also true. If your genetic results show that you do not have changes associated with an increased risk of heart disease, it is still possible that you will develop heart disease. However, for some rare diseases, people who have certain gene changes are guaranteed to develop the disease. When we are diagnosed with a certain genetic disease, are we supposed to disclose this result to our relatives? My answer is no. On the one hand, we do not want this potential danger to have frightening effects on our families' later lives. When people around us know that we have got a certain disease, their attitudes will easily be changed, whether it becaring about us too much or keeping away from us. And both are not what we want , since most of us just want to live as normal people. Surrounded by such concerns, it is very likely that we will be too distracted to worry about these problems. It is a concern that will be with us during our whole life, because we will never know when the ''potential bomb'' will explode. On the other hand, if there are things that can help us to control or cure the disease, we can go through this process with the whole family. For example, if exercising is helpful for apotential family disease, we can always look for more chances for the family to do exercise. And we can keep track of all family members' health. At the same time, we are prepared to know when there are other members who have got this disease. Here I want to share Forest's view on this issue. Although some people feel that an individual who is found to carry a dominant gene for Huntington's disease has a moral obligation to disclose that fact to his or her siblings, there is currently no legal requirement to do so. In fact, requiring someone to communicate his or her own genetic risk to family members who are therefore also at risk is considered by many to be ethically dubious. Nothing is absolutely right or wrong. If a certain genetic test for a disease is very accurate and it is unavoidable and necessary to get treatment and to make it known to others, it is OK to disclose the result. Above all, life is more important than secrecy.\""
            ]
          },
          "metadata": {
            "tags": []
          },
          "execution_count": 3
        }
      ]
    },
    {
      "cell_type": "code",
      "metadata": {
        "id": "o_Nxszif3jkT"
      },
      "source": [
        "content = \"Keeping the Secret of Genetic Testing What is genetic risk? Genetic risk refers  to your chance of inheriting a disorder or disease. People get certain diseases because of genetic changes. How much a genetic change tells us about your chance of developing a disorder is not always clear. If your genetic results indicate that you have gene changes associated with an increased risk of heart disease, it does not mean that you definitely will develop heart disease. The opposite is also true. If your genetic results show that you do not have changes associated with an increased risk of heart disease, it is still possible that you will develop heart disease. However, for some rare diseases, people who have certain gene changes are guaranteed to develop the disease. When we are diagnosed with a certain genetic disease, are we supposed to disclose this result to our relatives? My answer is no. On the one hand, we do not want this potential danger to have frightening effects on our families' later lives. When people around us know that we have got a certain disease, their attitudes will easily be changed, whether it becaring about us too much or keeping away from us. And both are not what we want , since most of us just want to live as normal people. Surrounded by such concerns, it is very likely that we will be too distracted to worry about these problems. It is a concern that will be with us during our whole life, because we will never know when the ''potential bomb'' will explode. On the other hand, if there are things that can help us to control or cure the disease, we can go through this process with the whole family. For example, if exercising is helpful for apotential family disease, we can always look for more chances for the family to do exercise. And we can keep track of all family members' health. At the same time, we are prepared to know when there are other members who have got this disease. Here I want to share Forest's view on this issue. Although some people feel that an individual who is found to carry a dominant gene for Huntington's disease has a moral obligation to disclose that fact to his or her siblings, there is currently no legal requirement to do so. In fact, requiring someone to communicate his or her own genetic risk to family members who are therefore also at risk is considered by many to be ethically dubious. Nothing is absolutely right or wrong. If a certain genetic test for a disease is very accurate and it is unavoidable and necessary to get treatment and to make it known to others, it is OK to disclose the result. Above all, life is more important than secrecy.\""
      ],
      "execution_count": null,
      "outputs": []
    },
    {
      "cell_type": "code",
      "metadata": {
        "id": "3Bxn4a7C3I9d"
      },
      "source": [
        "!pip install summarizers"
      ],
      "execution_count": null,
      "outputs": []
    },
    {
      "cell_type": "code",
      "metadata": {
        "id": "lK4fKxo93RSg",
        "colab": {
          "base_uri": "https://localhost:8080/",
          "height": 313,
          "referenced_widgets": [
            "6dd0d5c4d9c94f778d4952daaee35be9",
            "1e54d2d6014448559b7d1538ff514490",
            "acfabc2cf6034b77b9d2764ee66c707e",
            "9f8560eb485f46ff89a3da799936b19f",
            "9b748601775f48089cd9e81083eb0908",
            "aef4916d7d764d5d95e3a23487f24fa4",
            "4b53d7a2aacf4ca7a7f904afb9573ff0",
            "0a20937c76dc4e2abdc215e6d4fd7b68",
            "e2275b356e8747e3865e430eba87b749",
            "fb57bbf778ec43bebcfa53b1cbb24684",
            "d953777c7a2e484b94efb5e9499be828",
            "71a37339836b44c5973cee75d079dd2e",
            "e873fcc27cf44ae19c8423db3d3a37d9",
            "e78b9f2c0755447f95f723a6da14b31d",
            "310c4ef8798340f2b2f542976f2679c4",
            "497910ebd2304adba156455f5ca33fbe",
            "e7650b5f9b9c4e55af1519f851485661",
            "e836060da82f4de68ed755be9a71c138",
            "b9930f5ab0234afd82a06e36e85d127e",
            "6440116ae2514498b990b6be8d549c4c",
            "4edfcbf5219246fc93458a7c45d1f9c7",
            "469316dda6e2491db3ba9239720df14b",
            "7b1631c9f6d94c6d970a0a2b904800be",
            "ccc505b56e924478a238bb8c52936153",
            "1d6a0390061b4f39a2a2d96efbc1dc69",
            "03b515ff20cd46f3afa83a3f3f29f19a",
            "0e0af5ef70a742e887992b021298673c",
            "ebaff3e0e8d54f8ab96c3c83057381a9",
            "9e2950ec21d74f7f86a2f5cc458a5665",
            "ae62a26a3d574140b7956655f6e3c7da",
            "98d26a99b6284869b81b75b73205692b",
            "b11ba9cb3d7341babd786001d2e65306",
            "f3411540923745bf823a1d915c629c89",
            "d3d4232564f843c28c63ffd32e3d7ca6",
            "06c6fc40d71d41fabf0b20f05360ecd7",
            "35f2bd80b49846938830c8c1ae5a864e",
            "2b66f74e979e400db28a3b85ab0e6503",
            "89bbdd542a3e4eff9a1758f76915fada",
            "5f8f1147b8204af0ac43ca4e2b1b5191",
            "a4c4306e0b054efa9ccf1a7e1d2940d8",
            "280d4d8a5a9a47528a6ff7cfee9e4ea0",
            "a61b4784d0f940d08d8bb78c81c544c0",
            "fb2b4dfe211a4c428fc6292f34493fb5",
            "b3f52ab2c47b447ca20aa6f6c7fb76dc",
            "f5a14ee14abf465c86afb9754f3c75a1",
            "a8789a64e4d8488bbac46e87cb29975f",
            "2783adf271c24daa95d960ab48c7c7ea",
            "b6c7e3d5eb3f45329bcd4f115dc247fa"
          ]
        },
        "outputId": "05c166fb-8045-4b74-fb40-bbccad613c95"
      },
      "source": [
        "from summarizers import Summarizers\n",
        "summ = Summarizers(device='cuda')"
      ],
      "execution_count": null,
      "outputs": [
        {
          "output_type": "display_data",
          "data": {
            "application/vnd.jupyter.widget-view+json": {
              "model_id": "6dd0d5c4d9c94f778d4952daaee35be9",
              "version_minor": 0,
              "version_major": 2
            },
            "text/plain": [
              "HBox(children=(FloatProgress(value=0.0, description='Downloading', max=1614.0, style=ProgressStyle(description…"
            ]
          },
          "metadata": {
            "tags": []
          }
        },
        {
          "output_type": "stream",
          "text": [
            "\n"
          ],
          "name": "stdout"
        },
        {
          "output_type": "display_data",
          "data": {
            "application/vnd.jupyter.widget-view+json": {
              "model_id": "e2275b356e8747e3865e430eba87b749",
              "version_minor": 0,
              "version_major": 2
            },
            "text/plain": [
              "HBox(children=(FloatProgress(value=0.0, description='Downloading', max=1625559151.0, style=ProgressStyle(descr…"
            ]
          },
          "metadata": {
            "tags": []
          }
        },
        {
          "output_type": "stream",
          "text": [
            "\n"
          ],
          "name": "stdout"
        },
        {
          "output_type": "display_data",
          "data": {
            "application/vnd.jupyter.widget-view+json": {
              "model_id": "e7650b5f9b9c4e55af1519f851485661",
              "version_minor": 0,
              "version_major": 2
            },
            "text/plain": [
              "HBox(children=(FloatProgress(value=0.0, description='Downloading', max=2.0, style=ProgressStyle(description_wi…"
            ]
          },
          "metadata": {
            "tags": []
          }
        },
        {
          "output_type": "stream",
          "text": [
            "\n"
          ],
          "name": "stdout"
        },
        {
          "output_type": "display_data",
          "data": {
            "application/vnd.jupyter.widget-view+json": {
              "model_id": "1d6a0390061b4f39a2a2d96efbc1dc69",
              "version_minor": 0,
              "version_major": 2
            },
            "text/plain": [
              "HBox(children=(FloatProgress(value=0.0, description='Downloading', max=85.0, style=ProgressStyle(description_w…"
            ]
          },
          "metadata": {
            "tags": []
          }
        },
        {
          "output_type": "stream",
          "text": [
            "\n"
          ],
          "name": "stdout"
        },
        {
          "output_type": "display_data",
          "data": {
            "application/vnd.jupyter.widget-view+json": {
              "model_id": "f3411540923745bf823a1d915c629c89",
              "version_minor": 0,
              "version_major": 2
            },
            "text/plain": [
              "HBox(children=(FloatProgress(value=0.0, description='Downloading', max=26.0, style=ProgressStyle(description_w…"
            ]
          },
          "metadata": {
            "tags": []
          }
        },
        {
          "output_type": "stream",
          "text": [
            "\n"
          ],
          "name": "stdout"
        },
        {
          "output_type": "display_data",
          "data": {
            "application/vnd.jupyter.widget-view+json": {
              "model_id": "280d4d8a5a9a47528a6ff7cfee9e4ea0",
              "version_minor": 0,
              "version_major": 2
            },
            "text/plain": [
              "HBox(children=(FloatProgress(value=0.0, description='Downloading', max=1355863.0, style=ProgressStyle(descript…"
            ]
          },
          "metadata": {
            "tags": []
          }
        },
        {
          "output_type": "stream",
          "text": [
            "\n"
          ],
          "name": "stdout"
        }
      ]
    },
    {
      "cell_type": "code",
      "metadata": {
        "id": "WPYVXYmf3SWc",
        "colab": {
          "base_uri": "https://localhost:8080/",
          "height": 35
        },
        "outputId": "df4989c1-f159-499c-9aef-0109948901d6"
      },
      "source": [
        "summ(loaded_list[29], query='SOME_QUERY', question_detection=False, no_repeat_ngram_size=10)"
      ],
      "execution_count": null,
      "outputs": [
        {
          "output_type": "execute_result",
          "data": {
            "application/vnd.google.colaboratory.intrinsic+json": {
              "type": "string"
            },
            "text/plain": [
              "'Social media sites, such as Facebook and Twitter, are relatively common within  contemporary society.'"
            ]
          },
          "metadata": {
            "tags": []
          },
          "execution_count": 36
        }
      ]
    },
    {
      "cell_type": "code",
      "metadata": {
        "id": "6Mo6eLAu4rzp",
        "colab": {
          "base_uri": "https://localhost:8080/",
          "height": 577
        },
        "outputId": "4a093f30-8ede-4cf0-9a35-2d75c261a8c6"
      },
      "source": [
        "loaded_list[29]"
      ],
      "execution_count": null,
      "outputs": [
        {
          "output_type": "execute_result",
          "data": {
            "application/vnd.google.colaboratory.intrinsic+json": {
              "type": "string"
            },
            "text/plain": [
              "\"The modes of communication have been changing over the years, from letter writing to social networking. This phenomenon is caused by rapidly changing technology, which has made communication  faster than ever before. Today, social media sites, such as Facebook and Twitter, are relatively common within  contemporary society, and, people can communicate with each other, online or offline, on these social networking platforms. They can even make new friends with similar interests on these platforms, which will be able to connect almost everyone closely in many parts of the world. However, critics may argue that  the existence of social media sites has reduced physical human interactions between people as they prefer sitting in front of a computer to going out and meeting new friends. This essay will discuss  both the benefits and downsides of using social media in  contemporary society. Nowadays, social media are able to disseminate information faster than any other media. About 50% of  people  learn about breaking news from social media. This is due to people spending comparatively more time on social networking than  on reading newspapers. Furthermore, with the current technology, smartphones are able to get access to social media sites which have been made easier for consumers to use. Hence, social media have benefited the masses by equipping them with a powerful tool to disseminate information almost immediately to the people around them. However, critics may argue that not all information or news disseminated is reliable. There might be false information or hoaxes spreading around on social media. For example, in 2012, there were false rumors of fires, shootouts, and caravans of gunmen in a Mexico City suburb which had spread through Twitter and Facebook. This caused panic among the people, who flooded the local police department with  phone calls, and this resulted in temporarily closed  schools. The spreading of false information can be a potential psychological threat to everyone, given that social media can disseminate information at a relatively fast speed. Nevertheless, there are cyber police who roam around these social networking platforms to prevent these hoaxes spreading . But, there will still be unreliable sources spreading false information on social media sites, despite high security to control almost every social networking movement. Social media are able to improve relationships and help us to make new friends, provided that there is mutual trust and mutual understanding between both parties. Many of the teenagers today claim that they are able to keep in touch with their friends through social media, regardless of their location. In the past, people used to write letters to their friends and it would take a relatively long time for the letter to arrive. Therefore, with the help of technology, people are able to catch up with each other conveniently. Furthermore, it will be easier to make new friends  who have similar interests or hobbies. However, in order for people to maintain their relationships as well as make new friends, it requires mutual trust and understanding between both parties. It might not be accurate to judge the other party's feelings over social media as they may cover up their emotions while on social media. In addition, there are also chances for people to miscommunicate with each other as they cannot sense the tone of the other party on social media platforms. This will result in unnecessary conflicts between two parties over miscommunication. But, if there is trust and mutual understanding on social media, it will be ideal for people to improve relationships and make new friends. In conclusion, social media in  contemporary society are able to help one improve relationships and make new friends, as well as disseminate information efficiently to the masses. However, there are risks of false information and chances of miscommunication. Nevertheless, the advantages of social media will benefit the masses if the negative aspects  can be carefully taken care of. All-in-all, social media are the product of rapid technological advancement and there are more to come in the future.\""
            ]
          },
          "metadata": {
            "tags": []
          },
          "execution_count": 37
        }
      ]
    },
    {
      "cell_type": "code",
      "metadata": {
        "colab": {
          "base_uri": "https://localhost:8080/"
        },
        "id": "l_EC-bBC3kpY",
        "outputId": "7ec62596-5a1d-4a6b-efde-44d4c747320c"
      },
      "source": [
        "corrected_essays"
      ],
      "execution_count": null,
      "outputs": [
        {
          "output_type": "execute_result",
          "data": {
            "text/plain": [
              "[\"Keeping the Secret of Genetic Testing What is genetic risk? Genetic risk refers  to your chance of inheriting a disorder or disease. People get certain diseases because of genetic changes. How much a genetic change tells us about your chance of developing a disorder is not always clear. If your genetic results indicate that you have gene changes associated with an increased risk of heart disease, it does not mean that you definitely will develop heart disease. The opposite is also true. If your genetic results show that you do not have changes associated with an increased risk of heart disease, it is still possible that you will develop heart disease. However, for some rare diseases, people who have certain gene changes are guaranteed to develop the disease. When we are diagnosed with a certain genetic disease, are we supposed to disclose this result to our relatives? My answer is no. On the one hand, we do not want this potential danger to have frightening effects on our families' later lives. When people around us know that we have got a certain disease, their attitudes will easily be changed, whether it becaring about us too much or keeping away from us. And both are not what we want , since most of us just want to live as normal people. Surrounded by such concerns, it is very likely that we will be too distracted to worry about these problems. It is a concern that will be with us during our whole life, because we will never know when the ''potential bomb'' will explode. On the other hand, if there are things that can help us to control or cure the disease, we can go through this process with the whole family. For example, if exercising is helpful for apotential family disease, we can always look for more chances for the family to do exercise. And we can keep track of all family members' health. At the same time, we are prepared to know when there are other members who have got this disease. Here I want to share Forest's view on this issue. Although some people feel that an individual who is found to carry a dominant gene for Huntington's disease has a moral obligation to disclose that fact to his or her siblings, there is currently no legal requirement to do so. In fact, requiring someone to communicate his or her own genetic risk to family members who are therefore also at risk is considered by many to be ethically dubious. Nothing is absolutely right or wrong. If a certain genetic test for a disease is very accurate and it is unavoidable and necessary to get treatment and to make it known to others, it is OK to disclose the result. Above all, life is more important than secrecy.\",\n",
              " \"Genetic risk does carry its consequences and should not be taken lightly within the family circle. After all, what affects one family may or may not affect another , although families have a common genetic make-up, shared by either of the parents. In cases where an individual has gotten to know of a genetic disorder, disclosing it or otherwise to his or her relatives is solely a matter of preference within the individual moral code. The issue of the right to know or not to know is highly debatable. Although there is a genetic risk, one cannot be entirely sure because the genetic information could possibly come from the family of either parent - their maternal and paternal uncles, aunts or cousins. This also means that as soon as a person is made aware of his or her genetic profile, he or she concurrently has  knowledge about others. This knowledge may be relevant to them, and vice versa. An example that may serve as an illustration is breast cancer. It is hereditary. Does someone who suffers from this disease keep it a secret or inform their relatives? In retrospect, it is also one's duty to ensure that they undergo periodic health checksof their own. Sometimes some family structures and cultural beliefs can influence the pattern of communication. Depending on who the genetic risk was discovered in: the son or daughter, for example, the parents who know about this would decide who gets told and who takes  precedence in being 'allowed' to tell. For example, within a family, regardless of who had first received the information, parents were seen as having the primary responsibility for passing on information to any offspring, or adult, at risk. In addition, a woman testing positive for BRCA1 would be expected to allow her brother or sister to disclose such information to a niece or nephew rather than do it herself, although this may be further complicated by an individual's response to risk information as they may not want to know. Hence, there were also tensions if participants felt that they could neither pass on information to relatives who needed to know (such as nieces and nephews) nor persuade those with authority (the parents) to do so. The notion of authority also extended 'vertically'. For example, a grandmother may have more authority to pass on information than an aunt, even when she is not at genetic risk herself while the aunt is. From a practitioner's perspective these findings are important because, if lay constructs of the family and kinship are a social construct, they may not be in line with geneticists' views of family relationships, or about which blood (or non-blood) relatives should be informed and by whom; this is also likely to be dependent on the cultural and ethnic context. Ultimately, one must draw attention to who may benefit from such information and assist those at risk to make considered decisions about disclosure. Whose duty it is to inform at-risk relatives or not greatly depends on the personal moral code and the nature of how 'directive' the risk is to them.\",\n",
              " \"People with a close blood relationship generally carry some similar genes. In this case, if one of the family members or close relatives is found to carry a genetic risk, it is better for the patient to tell his/her close relatives about the issue and let others know about the risk so that his/her family members are able to do some daily exercises to prevent the potential disease or they may go to hospital and check for the corresponding . In my opinion, although the disclosure of carrying a genetic risk involves the issue of personal privacy, it is necessary for the carrier to be obligated to tell  his or her relatives in order for them to prevent the potential disease. I agree with this statement to a large extent. I will focus on the negative side of the disclosure of genetic risk first. Large numbers of patients with  genetic risk would want to keep it  a secret as the genetic risk may indicate their high chance of carryinga certain disease. This is especially the case for young people who are unmarried. If he/she is known to have some genetic risk, there may be a chance that his/her child will carry the same disease, but not for certain. Therefore, to keep the information  secret from his/her future spouse would help the relationship. Secondly, disclosing the potential risk would cause the family member to be scared of this  issue. Although the  might not be that serious, people would still fear that they will have some potential disease in the future , and so, go to hospital and do additional checks or take more medicine in order to prevent the disease, and this creates unnecessary costs for the family. Furthermore, the disclosure of genetic risk would affect the relationship with the relatives as, sometimes, others may not want to stay too close to the carrier, so that they have less chance of getting the potential disease. On the other hand, if the genetic risk is kept  a secret, although it may benefit the carrier to a certain extent and help to protect privacy,  it has much greater negative impacts on the family members and relatives. First, in the case of marriage, people should be honest and tell their spouse they may carry a certain genetic risk that might affect their offspring. It is better to let the other party know the facts , rather than wait until after the baby is born and a certain type of genetic disease is found. It is better for both parties to be honest. Secondly, genetic disease has a close relationship with the  together with their daily habits. For example, if a carrier is told that he/she has the risk ofhaving diabetes. In this case, the carrier could eat fewer candies and chocolates to prevent taking in too much sugar, and at the same time, if the carrier tells this information to the relatives, it will be useful for them to know that they may have diabetes in the future because of related genes, and they can do the same exercise to take in less sugar to prevent the disease. Otherwise, if the other parties do not know, they may end up with  diabetes in the future without any prevention. In conclusion, we can see that the benefits of disclosing genetic risk to the carriers' relatives outweigh the costs. Therefore, it would be better for the carrier to be obligated to give the information to the relatives, in order to let them know and prevent the potential disease through daily exercise.\",\n",
              " \"A large number of different kinds of disorders are caused by genetic factors. Genetic disorders may or may not be  hereditary diseases and it is sometimes hard to find out whether one has these kinds of diseases. There is a long-standing debate about whether a carrier of a known genetic risk should be obligated to tell his or her relatives that his or her disease is caused by a gene. Legally, the answer is no but,ethically, the answer should be yes. We can't pass a law to compel a carrier of a known genetic risk to tell his or her relatives about his or her genetic problem. It is immoral and impractical. Firstly, what kinds of diseases someone has is a matter or personal privacy. Privacy  belongs to one's human rights. If a law requires someone to tell others their private details , especially when they are not willing to do so, it is againt their human rights and it is against the spirit of the law. The spirit of the law also includes  fairness. What is the basic difference between genetic disorders and other disorders? It is unfair to pass a law only pertaining to  genetic disorders. In addition, it is impractical to pass such a law. A good law should be clear and easy to enforce. However, there are many problems with  asking a carrier to tell his or her relatives the cause of his or her disease. Firstly, what is the range of  relatives? For example, does the carrier only need to tell their direct relatives, like parents and brothers and sisters, or do they also need to tell relatives like their grandmother's sister's son's daughter's nephew? If you say they\\n need to tell direct relatives, it will be against the  law. Other relatives may have the same possibilities of havingthis kind of disease. How can a law passed by the government exclude such a group of people from preparing to face their potential disease? However, from the ethical point of view,  the carrier  should have a feeling of responsibility to tell their relatives about their genetic disorder. By doing this ,they may be able to save the lives of their relatives. This is because a carrier with a bad gene may not necessarily develop the genetic disease if they can have a healthy lifestyle before the age that the gene's function becomes stronger. A typical example is genetically caused hypertension. Hypertension can be caused by genetic problems which make it harder for the carrier to digest the fat and salt in blood which can cause hypertension. People usually get this kind of hypertension after they become adults. However, if they already know they have a gene that may make them have agreater possibility of getting hypertension, they can adopt a daily habit of eating less salt and fat and thus  avoid hypertension. , our society can't compel genetic problem carriers to tell their relatives about their disease but they should be willing to tell their relatives about their genetic problem. If they do so, fewer of their loved ones will suffer from the genetic problem.\",\n",
              " \"In an age of rapid technological advancement, a lot of medical breakthroughs are made possible. Genetic testing is made possible and available for . It is able to detect  illnesses or diseases and even a child's parentage. However, it will become a controversial issue as it becomes a dilemma for a carrier of a known genetic risk whether to inform his or her relatives. If the knowledge of the genetic risk was to be shared with the family or relatives, there might be chances for them to have it in their blood which they may take the necessary precautions to prevent. But, if the genetic disease is a terminal disease, most  relatives will be disheartened upon learning about it. Therefore, some carriers will want to keep it  a secret. This essay will discuss  whether a carrier of a known genetic risk should tell his or her relatives or not. Some say that the genetic risk that is found in a person should be kept secret because it is considered as  personal information which should be kept confidential. Most patients will be depressed after finding out abouttheircondition. If someone has a genetic disease, after the test, they might not wish to inform their relatives as they might end up disheartening their extended family. Some will wish to keep it to themselves and hope to ensure that they will not bring  any pessimism into their family. Furthermore, some will wish not to become a burden to anyone, as seeking medical attention is relatively costly. Hence, some see it as being considerate by keeping the genetic risk of getting the disease  confidential. On the other hand, others may think that it would be considerate to tell the relatives, because the latter will have a higher chance of having the same genetic risk. Hence, they will be able to seek help from medical specialists to find a cure or to take some measures to prevent the risk of getting the disease. Nevertheless, it will depend on what kind of genetic disease,  in the context of current medical technology. For example, breast cancer is a genetic disease and it can be cured if it is detected in the early stage. Hence, with the knowledge of having a genetic risk, the relatives of someone with this genetic disease will have a medical check-up, which might save them by detecting it at  earlier stage. In conclusion, it would be considerate to inform relatives of the risk of getting the same genetic disease. Although there might be a lot of challenges along the way when seeking medical attention, such as financial issues, everyone should be given the right  to know their family's inherited medical conditions. However, some think that it might be better for those who are ignorant of it because they will continue leading a happy life. In addition, some may think that even knowing about having a risk of a disease will just add to their misery as there is nothing that they can do about it. All-in-all, it depends on the individual and also the nature of the disease, but people should be obligated to inform their relatives if there are possibilities of curing or preventing the condition.\",\n",
              " \"Genectic testing is a personal decision, made with the knowledge that there is a possiblity that one could be a carrier or not. Those who are born into a family with a history of genetic disease should be allowed to undergo genetic testing, even  if there is no risk at all. Early pre-examination is healthy as it will remove unwanted doubts and affect the thinking of those who are affected. For a genetic risk carrier, there should be a choice given with regards to informing his/her relatives. They should not be forced or obliged to do so, as it may negatively and drastically affect the emotions of the genetic risk carrier. With regard to this choice , there must be some rules to regulate and exercise personal freedom of choice\\n. If the genetic risk carrier is a minor, then most likely the decision about informing the relatives should be made by the patient's parents or legal guardian. Such patients are still emotionally volatile or they may be unaware of the consequences of the genetic disorder due to their young age. Furthermore, the act of informing others without the consent of their parents or the patients themselves could harm the psychological state of the affected family. Thus, much thought needs to be put into the immediate family, as it could cause a chaos of unwanted events for the patient or the family members themselves. Some family members may feel hurt  with regards to their family pride or reputation on having the knowledge of a genetic disorder running in their family. However, there is a  and a sense of responsibility to inform their relatives since it is a genetic disorder. There might be a possibility that the genetic disorder could also affect their relatives and any other families within the same family tree. The importance of informing relatives of a genetic disease is vital as it may help to raise awareness and prevention of the genetic disorder. Also, this  information will help their relatives to make informed decisions and to similarly undergo genetic testing to find out about the outcome. Thus, having the knowledge that the genetic disorder is benign would be beneficial to their emotional well-being. And if the results turn out to be otherwise, then the family can be prepared emotionally and psychologically for the future outcome and this will aid them in making upcoming decisions. In addition, the genetic risk carrier would be showered with moral and emotional support from their relatives if it has been made known to them. Having support from relatives is vital as they assure the genetic risk carrier that he/she is not alone in facing this illness, and it will certainly provide a morale boost, as the whole family will share a common feeling with regards to the future prospect of the genetic disorder, which could be inherited by anyone in the family. Therefore, the decision to inform relatives of a genetic disorder will be dependent on the situation and background of the affected family, with the freedom of choice given to them in making the decision about informing others.\",\n",
              " \"A person with a disorder, whether it be a mental or physical disorder, is always  by his or her family. When it comes to genetic issues, it is not that simple anymore. Genetic disorder , but not all of the offspring show the relevant symptoms. Sometimes a family with a risk of potential genetic disorder may not be able to detect the potential harm inside their bodies as none of their members display any observable  symptoms. As a result,  when one of the members happens to feel uncomfortable or unwell, he or she should be aware of whether the disorder in his or her body is a genetic risk or not. Afterwards, the carrier will face a serious ethical issue, which is whether to reveal the problem to his or her relatives or not. If the disorder symptoms are displayed by a child, the parent will be informed by the medics , then the whole family will be alert to their bodies' condition. In contrast, if the carrier is an adult who has their own choice to choose whether to inform their relatives about the risk, that will be more complex. One might think that if the carrier is a caring person who loves their family more than themself, there is no doubt that they will tell their family about the issue. That is true and, of course, it is the obligation of a family member to protect and take care of the family. Conversely, if a child in the family knows that he has the risk of becoming a genetic risk carrier, and the risk might also be inherited by his child in the future, he will be in a dilemma his whole life. And of course, he or she will think of not having any children after getting married, and the same thought occurs to the cousins as well. As a result, the family line stops  the moment the adult carrier announces his problem. In China, the older generation with a traditional cultural background will always think of having more children as well as grandchildren, to make the family more lively and stronger. The reason behind this is that after WWII the population of China decreased dramatically and so the government encouraged the people to have more children. During that period, if one of the family members displayed genetic disorder symptoms, he would be in an ethical dilemma for sure. The medical  technology during that time was not advanced enough to completely cure him. He had to choose whether to protect his family or make his family more prosperous with a potential genetic risk. And so, he would have chosen not to undergo genetic disorder testing and to let the truth be buried forever. This kind of ethical issue cannot be judged by  others because they will not understand the position and duty of the carrier in the family. In conclusion, people should think carefully about what the consequences are of telling the relatives about their genetic disorder . It is an obligation for a carrier to inform his relatives, but also an obligation for a family member to add to the family. Even if the disorder is rarely  fatal or it does not cause any inconvenience to the carrier, revealing the truth is always the right thing to do.\",\n",
              " \"In my opinion, the carrier should tell his or her relatives about it. One of the reasons  is that , as a carrier, she or he needs  moral support to go through  this situation. It will be hard for an individual to deal with the issue on their own. If they tell theirfamily, other than being a support, they could possibly help them to find alternative solutions to the problem that they are facing right now. Other than that, I believe that the strong bond we have with our family is the biggest pillar of support to the carrier. Furthermore, as it is a genetic problem, it would be better for the carrier to inform his or her family, as other family members might experience the same thing. If they are made aware of this genetic problem, they could have a full check-up  and it would be better if they could even prevent it from happening to them. I think that it is important to family members , especially if it is contagious. The carrier could prevent the disease from spreading  to  society. For every action there are always pros and cons. I believe that some  carriers will choose not to reveal their disease to  family members, as they do not want to make their family members worry and feel uncomfortable or even to feel ostracized by them. Furthermore, as it could involve spending  lots of money on the treatment, the carrier might not want to be a burden to their family. I can understand the feelings of the carrier. She or he does not want to be the source of unhappiness in the family. However, we will never know whether these negative effects will arise when the carrier decides to tell his or her family about his or her condition. In conclusion, personally, I feel that it is better for the carrier to inform their family members about the issue. The carrier should be honest about his or her feelings , and I think that it is the right of the family members to know what is going on in his or her life. If anything bad happens in the carrier's lifewithout their having informed the family members, it could lead to a huge regret in their life if they leave without them knowing about it. On top of that, it is better to think about solutions to their problem with the family members,  as there are more heads to think about it rather than thinking about it alone and struggling on their own. Finally, I believe that  support,whether mental or even financial , from their family could help the carrier to fight against the genetic disease. There are lots of cancer patients who were given a second chance to live as  normal people because they had  strong moral support from their loved ones. In my opinion, as long as we keep our mind healthy and strong, we can fight any disease, because they come to us when we are fragile and weak.\",\n",
              " \"As  technology has advanced, it has reached a stage whereby the advancement triggers some ethical dilemmas in relation to the actual use of  technology. Genetic testing has been made possible; it has become easy to tell if one is a carrier of a known genetic risk through genetic testing. If used for a good purpose, it can prevent unnecessary unhappiness. However, it could also make a situation worse by revealing who the carrier is, in the family. The question  is whether a carrier of a known genetic risk should be obligated to tell his or her relatives, and I think that the carrier should not be obligated to do so, because I believe that he or she has the right not to know. Firstly, genetic testing is not something that is compulsory. Of course, some people may do it to make their futures slightly happier. However, the carrier, before the testing, can choose not to go for the test and simply live with unknowns and accept the facts. If he chooses to live with the uncertainty that the gene holds and is willing to accept it, he can do that, and it was something that was 'normal' for everyone in the past, as genetic testing was not possible. It could even be better for him or her that way. Some people might say that it is a form of prevention against giving birth to disabled offspring and making them suffer in real life. I personally think this is the right purpose of going through  genetic testing, so that a family who cannot afford to have a disabled child do not have to give birth to their child and make the entire family suffer. However, I believe that the carrier has the right not to be obligated to tell anyone, but has a responsibility to take  action to prevent any ethical dilemma. If the result turns out to be something that the carrier cannot accept, then it would have been better not to know the truth. I believe that even the carrier has the right not to know the  facts. After he or she realizesthat he or she is the carrier, the emotional damage would be hard to bear. It could possibly cause a problem in a family  and cause more unhappiness in the family. Overall, I believe that it entirely depends on the carrier whether to share the hard facts and face it with relatives, but he has no obligation to tell . In fact, I strongly believe that the carrier should weigh both the positive and negative consequences of undergoing genetic testing and take the appropriate action based on the results. The depression that the carrier might suffer and the sense of guiltcould be more than expected and could be a burden  for the rest of their life. On the other hand, without knowing about any genetic disorder and accepting the fact, the family will stay positive and work together to overcome the disability. I think the family will stay mentally healthy as it is, without having emotional stress.\",\n",
              " 'Debates have been around for years, as to whether a carrier of a known genetic risk should be obligated to inform his or her relatives. Any individual at risk of a disorder has the right to undergo genetic testing, but whether the results should be disclosed to others, especially close family or distant relatives, is a topic  worth discussing. This is an issue that needs to be addressed as a family-related ethical dilemma is involved. In this essay, a few arguments will be put forward in  support of  any carrier of a known genetic risk telling his or her relatives. When we were born, we were surrounded by our relatives, with them welcoming us to this new world. We were crying hard but we were not alone. It\\'s our family that bring us up. Hence, they are people we should be grateful for and the people we would like to share  joy with. However, in the case of any health issue or to the extent of a serious disorder, there may seem to be no point in sharing, but this involves more than just sharing of bad news. One definitely has the right not to disclose one\\'s health issues to anyone, but it\\'s also one\\'s responsibility to inform the family. If a health issue is related to genetic risk, with theemphasis on \"genetic\" , this highlights the risk of passing on the disorder to the next generation. Therefore, I would agree  that it\\'s obligatory for a carrier of a known genetic risk to tell his or her relatives, to avoid any family-related ethical dilemma that could arise in the future. Although one may argue that it\\'s still up to the individual whether to disclose such a health issue or to keep it to him/herself, it\\'s certainly helpful to share with close relatives, for a proper discussion about solutions. By doing so, one will feel less stressed in facing such a health risk. Relatives will certainly be supportive and show more care towards the carrier of a known genetic risk. As a result of informing them, the carrier is never alone in fighting the battle with such a health risk. On top of that, as the genetic risk may pass down to the next generation,  it will involve more than just one family. It is for this reason I would agree with the obligation to tell the relatives of both parties when one is about to get married and has a plan for raising a family. This would avoid the incidence of more family-related ethical dilemmas. There are more intangible advantages that could support  informing the relatives once the results are known after the test has been conducted. In conclusion, in order to avoid  family-related ethical dilemmas, it is best for any carrier of a known genetic risk to inform his/her relatives. The benefits of doing so  outweigh its disadvantages. More support must be provided through different means to give better guidance when someone is deliberating whether they should   inform their relatives.',\n",
              " 'The decision to undergo genetic testing can only be made by the individual at risk of a disorder. This is the common law in  society. However, it leads to a new problem that can be summarised as \"should a carrier of a known genetic risk be obligated to tell his or her relatives?\" This issue has been discussed for a long time. However, there is still a diversity of points of view among  people. Thus, we are going to identify the advantages and disadvantages of the issue . Firstly, I believe most of us will agree with the sentences below: \"I would be anxious about my family member if he or she told me that he or she was a carrier of a known genetic risk\". Frequently, the reason for the carriers not wanting to tell their families is to continue their own life without the anxiety of their families. It is obvious that it will be better for one person to be worried than many. However, many of the carriers are not strong enough to overcome the challenges on their own. With the families\\' support, there must be more energy to fight against  the demon. The demon is not easily  defeated and it requires much  energy and psychological support. Families give you the courage and support which you cannot find by yourself. That is the most essential element to overcome the challenges. Besides that, the risk of the known disorder is so serious that it cannot be described. The seriousness can be bigger than our imagination. Lying on a bed for the rest of your life, and even dying immediately, these are  consequences which we cannot imagine. Families are thedearest people in our life. Without their concern and support, . They play an important role in our life which cannot be substituted. A known genetic risk can also critically affect the next generation. Therefore, it is our responsibility to tell our relatives, to prevent the occurrence of undesired consequences. Generally, the clinic or hospital will not tell the carrier\\'s family without the agreement of the carrier. It is the ethic of staff in a hospital to keep the secret of any patients. . However, the hospital can provide a counsellor to advise the carrier about the action that can be taken. Therefore, this kind of circumstance will not happen again and again. It is a method that benefits the twoparties, which is a win-win situation. In conclusion, a carrier of a known genetic risk is encouraged to tell his or her relatives about the known genetic risk. However, there may be some special case that is hard to define. Thus, advice from the hospital plays an important role in this. The carrier is responsible for balancing his or her own interests and the benefits tothe family and even society. It is a hard decision to make but by choosing the most appropriate way, it will create great circumstances for the carrier and their family in the future.',\n",
              " \"With the risk of having a genetic disorder, many individuals have made the decision to undergo genetic testing. With the knowledge that the results will be known once the tests are done, each individual that is diagnosed as being a genetic risk carrier faces an ethical dilemma: should they warn their relatives about the risk of being a carrier of the same genetic risk? Or they can choose to keep silent until the next carrier is diagnosed. In my view, a carrier of a known genetic risk should not be obligated to tell his or her relatives,  for the following reasons. First of all, from the point of view of human rights, a genetic risk carrier should not be obligated to tell the truth to others. This diagnosis can be regarded as a private matter to carriers. They may  not want this truth to influence their life or may want to keep it as a secret and  not let others know about it. This is reasonable since  exposure of the truth of being a carrier may make them be discriminated against or  by others, which are not positive factors brought to their life. Secondly, the relatives of the carrier can also choose to undergo genetic testing, regardless of the diagnosis of the carrier. When people want to check whether they are genetic risk carriers, they can go and approach a doctor to consult about it. If they do not want to think too much about it and view it as a problem, they may just ignore the possibility. However, if a diagnosed carrier is obligated to tell his or her relatives, the relatives will be forced to know their higher chance of being genetic risk carriers. This  their own wishes as  they have to accept the truth, which may make their subsequent life miserable. Many people may argue that establishing an obligation may help more people who are the relatives of  carriers save their lives  because of  early diagnosis. However, this is not exactly true when other factors, including psychological influence, social influence, are taken into consideration. If one such relative is told that he or she may have a higher risk of getting sick, he or she may  be scared about the future, partners, spouse and colleagues may choose to leave, and many other situations may arise, which means the relative's life may be ruined. On the other hand, as stated above, a person who wants to confirm and has been prepared to face the result can choose to do the genetic testing individually. In summary, a carrier of a known genetic risk should have the  right to decide whether to tell their relatives or not. This should be accepted from the point of view of human rights, freedom of acceptance of relatives and for many other social reasons. Otherwise, making it an obligation will restrict the choice of carriers and bring a lot of confusion to their relatives.\",\n",
              " \"For a carrier of a genetic disorder,  knowing the fact that he or she is a carrier causes more dilemma  than getting the disorder. I agree that a carrier of a known genetic risk is obligated to tell his or her relatives. There are four reasons why people shouldn't be shy and should share their problems regarding a genetic disorder. Firstly, the carrier and his or her family can take precautions, physically, through actions to reduce the chance of it being inherited by offspring and, mentally, if the action fails to prevent it being inherited. Many syndromes, such as Down Syndrome and Taylor Syndrome, can be prevented from occurring if the mother undergoes proper medication and doesn't consume harmful foods during the pregnancy period. This information may not be known by the mother if she doesn't tell her relatives about her condition. The more people (relatives) know about her problem, the more information channels are provided. If all efforts have been made but the children still suffer from the syndrome, then the family have to accept this fact and do whatever they can to provide a good environment for their children's growth. This is not the parent's fault because there are still chances of the gene being inherited. So, they also have to prepare mentally. Secondly, genetic diseases cost a great deal for the treatment and medication. Albinism is one of the examples. People with albinism have sensitive skin and it needs regular treatment. Unlike people with a high proportion of skin pigment, people with albinism are prone to sunburn and other skin diseases. If they don't treat their body well, for example, by using sunglasses or wearing sunscreen  outdoors, there is a good chance that they will get skin problems that may also lead to cancer. Once you suffer from cancer, the medication costs are very expensive. To prevent the bigger problem from happening, it takes a lot of effort to take care of your body. If the carrier doesn't tell his or her relatives, it may be too late to get their support and prepare financially. Thirdly, some diseases are not noticeable and may lead to serious health problems. One of the diseases is sickle cell anaemia. Usually, people are not aware if they carry the sickle cell gene and this may lead to circulatory problems such as blood clots. If the parents know that one of them is a carrier and disclose the information to their relatives, then they can take their children to undergo genetic testing and don't need to be shy about it because it is for the sake of their children's health. Fourthly, it is important for the parents to give mental encouragement to their children with a genetic disorder. When their children become teenagers, a lot of social problems may arise. Strangers and friends often mock  your condition. A strong mental condition and conviction must be built from within and by the closest people. If not their family, then who else  will be willing to do that? It is not a difficult job for the family if they have prepared their minds first by disclosing the information about the probability that their children may suffer from the genetic disorder.\",\n",
              " 'In this modern world,  technology has improved a lot compared with the last century. Particularly in the medical field, there is  great improvement in many treatments for many formerly incurable diseases, and genetic testing is one of the methods which are used to diagnose whether an individual is at risk of a genetic disorder. The medical authorities claim that only the individual who is at risk of a genetic disorder can make the decision to undergo genetic testing. However, once a test has been conducted and the results are known, a family-related ethical dilemma is born. The question is whether a carrier of a known genetic risk should tell his or her relatives. In my opinion, the carrier of a known genetic risk has to tell his or her relatives about this. This is because his or her relatives have the right to know about this. As many people realize, a genetic disorder can be passed on to the carrier\\'s relatives, that is, one of the family members being at risk of a genetic disorder means that other family members also have almost the same risk of having it, so this problem should be treated seriously by the family. Every family member has the  right to know what is going on with them. If they do not even know that they are at risk of a genetic disorder, ? For instance, John is informed by his doctor that he is at risk of a genetic disorder but he does not tell his sibling, James, about this. Although telling James about this is horrible to some extent, he should know what is likely to be going on with him. It might be beneficial for his future if he is aware of the risk of having this disorder. The next point is that telling relatives can raise their awareness of having the same genetic disorder, preventing certain genetic disorders from affecting them. Genetic disorders are innate, but the great improvement of medical treatment makes it possible for humans to prevent the disorder or to reduce the negative effects of the disorder on them. In addition, doctors usually quote a statement, \"Prevention is better than cure\"; this gives us an idea that preventing a disorder from happening has far more advantages than curing it. Awareness of having a genetic disorder may help in diagnosing a genetic disorder in a person, and therefore, this may make the prevention of a certain disorder possible. For example, hypertension is partially due to genetic factors, but environmental factors also play an important role. People who are aware of having a disorder can prevent the disorder from developing by adopting a healthy lifestyle, including having a balanced diet and having at least 30 minutes of exercise every day. To sum up, a carrier of a known genetic risk should be obligated to tell his or her relatives. It is their human right to know about that, and this may also save their lives by preventing the disorder from developing.',\n",
              " \"Together with the advancement of technology over recent decades,medical progress has increased exponentially and further enhancements are still constantly being added. Empowered with advanced medical knowledge,doctors are able to diagnose and carry out genetic testing for patients to help them prevent illness and take the necessary steps to protect their life.However, once a test has been conducted and the results are known,the question of disclosing the results to  relatives becomes a challenging issue for both patient and doctor.I feel a strong urge to support the obligation to inform patients' relatives. As it is a genetic risk,the patient's next-of-kin might have a high chance of carrying the risk. Hence, the need to inform their relatives is important so that necessary preventative measures can be taken before unforeseen circumstances arise.For example,if you are the only child in a family and, unfortunately,you are suffering from a genetic disease, the genetic trait might be passed on to the next generation if you have a child. Hence, by making your family members aware of the situation,you would lessen family stresses and suffering owing to their forcing you to settle down and have children.However, social ethical issues like discrimination and privacy are the biggest concerns and potential barriers to forcing patients or doctors to disclose information to patients' relatives.It challenges  confidentiality and privacy principles.Currently, under the Health Insurance Portability and Accountability Act of 1996(HIPAA) in the United States,there is no legal obligation  to disclose information to relatives. It is up to the patient what they wish to disclose to their family members.Early disclosure to family members brings  a positive reaction and prevention,as in the case of Angelina Jolie. She chose to disclose information and underwent treatment to reduce the risk of breast cancer significantly to under five percent.I still can recall her reason for disclosing her own story was that she does not want to live in the shadow of cancer. However,there are still people who are against the decision to reveal private information.As in the case of Alzheimer's patients,it is  the patient's own choice to disclose information.However,research has shown that doctors have tried to interpret how and to whom Alzheimer's disease will be disclosed to minimise potential negative impact on family members (DementiaToday,2012).There are associations who provide help to Alzheimer's patients,like the Alzheimer's Association (Alzheimer's Association,1980).Although there are still thousands of people with genetic  diseases out there that might not be receiving help and support from everyone,the need to receive immediate understanding and support from family members is the utmost help that patients need in their difficult time. In conclusion,the state should pass a legal bill to measure and provide information to doctors a doctor should opt to inform relatives  about the genetic disease and in which situations it should be left to the patient's decision.In addition,the state could also encourage the creation of assistance schemes to offer the necessary help to  patients to encourage them to open up for their own benefit and for that of family members.Although it may face challenges from social ethical issues,in the long term,with appropriate encouragement and aid from the government,more individuals would have a different view of acceptance and take appropriate measures to protect their own health and that of their loved ones.\",\n",
              " \"Nowadays,  studies in the genetic field are going further and further due to  high-velocity technological advancement. Not long ago, the human genome project, sponsored by several large multinational corporations (MNCs), was started. , in the field of genetic testing, which enables people to be aware of the risk of a possible genetic disorder, as the technology is very mature already, an even more popular topic arises. While most people agree that each individual has his own right to decide whether to undergo a genetic test or not, they have different stands regarding whether it is the patient's responsibility  to share the result with his or her relatives. In my opinion, the patients who are carriers of some known genetic risk should share the truth with their family members. Admittedly, it is a social obligation to be responsible for the life of other people. For the whole society, it is a duty. Take H1N1 as an example. All the people in Singapore,  including students at school, travelers at the Changi Airport, workers in the offices as well as pedestrians on the street, are forced by law to take their temperature and report the result to the relevant government authority in charge. For those family members who care about them, it is also a moral obligation. How can they not tell their loved ones who they really are and put their loved ones in danger? The basis of a family is that everyone trusts and loves each other with no doubts. Without trust and love, there is no difference between a family and a bunch of strangers living together. Hence, it is essential to tell  family members about the risk of a genetic disorder, both as a social responsibility and as a favor to conserve the family . Moreover, telling  family members the truth is the fastest and easiest way to get their support. Without the support of loved ones, patients' lives are no better than death. Family members, as one of the closest groups of people from whom patients can get comfort, are a crucial factor for them to successfully get over any possible problems as a result of genetic disorder. A study by New York University in 2010 showed that patients with family members around generally recover 2-4 days faster than those taken care of by professional nurses. Even for those patients with terminal diseases, the duration of their survival is 30% longer due to  family support. Some people may say that telling the truth may give rise to some unnecessary doubts and panics which will endanger  family harmony. While every family needs to go through this or that kind of troublesome situation, the more problems  a family has gone through together, the greater the bond will be  between the family members as well as the greater amount of trust, love and understanding. Hence, for a family in which every member truly believes in each other and loves each other ,all these problems are just tests to make them stronger. Just like in the lyrics of Kelly Clarkson, what doesn't kill you makes you stronger.\",\n",
              " \"Being in Asian society, where genetic testing is not a common practice, I do think that it is the choice of the patient whether he or she wants to tell his or her relatives about his or her disease. The courage to take the genetic testing and  to inform their relatives about the risk that they may have may result in people being judgmental while, actually, it is just a risk and not a confirmed case. Furthermore, since it is the person's gene that is affected, he has the right to determine with whom he wants to share the information . Nevertheless, while I feel that a carrier should not be obligated to tell his or her relatives about the genetic risk. I would like to suggest the person  at least shares the information with her or his potential partner (husband or wife), since the individual's genetic risk may affect their future children. Many people in our society are not well informed about many genetic diseases and many of them will be most likely to judge or at least discriminate against those who have genetic diseases, since they feel that the patients are abnormal or 'weird'. This is because many relate genetic diseases to others such as Bubble-Boy disease, autism or Down's syndrome. In those diseases, many who are affected do actually have different physical characteristics compared to those without the genetic diseases. While we do know that we should not discriminate against them based on their limitations, many people still do it with or without them realizing it. In this particular case, we are discussing  whether a person should tell his relatives about their having a RISK of a particular genetic disease. It is normal for people to demand   fair and similar treatment to  others and, therefore, it is normal for people to try to keep some of their secrets or personal issues to themselves in case some people judge them or treat them differently. Many people really love to hear what they want to hear and, therefore, they may just ignore the word 'risk' and assume that the person has suffered from the disease. To prevent that from happening, I do feel that it is up to the person whether he wants to share the information with his family,  since his family may either be paranoid or judge him and act differently. Especially when it is just a risk, the option is really his, since he is not an actual sufferer. There may be some people who say that it is necessary to tell the family members about the risk, since some of them may be affected. While I do think that this view has some validity, how much you can trust your family regarding this issue may also be a case. Maybe we can trust our immediate family members, but can we really trust all the other relatives? Furthermore, since the genetic risk or genetic disease is a very personal case, it is up to the person whether to tell the relatives about it. However, as I said earlier, it is better for the person to at least tell his or her future partner about the potential risk, since his genetic risk may affect his children later. This information needs to be at least acknowledged by the other party before they make the decision to get married and have children. There may be apossibility that both the husband and wife are carriers, and, therefore, they should not have any children since their children may not be able to survive even after they are born. Or in a less extreme case, the child may be disabled. This piece of information does play a role in family planning matters. Therefore, although no one is obliged to tell anyone about their genetic risk, they should be encouraged to tell   their future partner. In conclusion, whether or not the carrier wants to tell his relatives about his genetic risk, the choice is his because it is his own gene and he has the full ownership of it. He may have different considerations  or it may result in making his family worry for nothing when thinking of whether he should tell   his relatives, but no matter what choice he makes, we need to respect it and we have no right to say that he must tell his relatives about it.\",\n",
              " \"We all know that life is priceless and we have no right to judge a person's death. With the improvements in technology, a new life with a genetic risk can be detected. Genetic risk refers to the chance of inheriting a disorder or disease. Therefore, an entirely new dilemma is born: should a carrier of a known genetic risk be obligated to tell his or her relatives? This essay will discuss the reasons why the relatives are obligated to be informed that their children have a genetic risk. One of the reasons that the parents should be informed is that they have to decide whether they are capable of raising a child with a genetic risk. The child with a genetic risk may not have the ability to work, or to build up the family with the others, and most of the time they are not acceptable to the majority. They may not be able to enjoy a life normal people can enjoy. This competitive world is cruel to those who are not able to survive. Parents and relatives have to work longer than expected and endlessly to care for their child if he/she is not able to look after himself/herself. The situation may become worse if the child has diseases like cancer or heart disease, which means that parents have another heavy burden called medication fees. Not only the child but also the entire family will suffer. It is still early for parents to decide whether they can take care of a new life that is not able to work and may suffer  pain for their entire life. The other reason that parents should know the baby they have is a carrier of genetic risk is for a nation's good. There are always newspaper reports that a new born baby has been abandoned at hospital after parents realized the baby had diseases that need a huge amount of money to treat. For  countries like Singapore, they are short of manpower to contribute to the nation. However, every year the government has to spend a lot to help the disabled such as through medical subsidies and building  special schools to educate them. Without an increasing number of disabled people in a nation, the government is able to concentrate on developing in other directions like the military and education. As citizens of a nation, they have a responsibility to support their country in many ways. Moreover, in the world we are living in today, many abortions are conducted in hospital every day. It is easier for people to accept it morally. Therefore, I believe the parents have the right to know about the healthiness of their child. Many people may support  the theory that all people have the right to enjoy the world, especially people with religions. However, the problem is, will the people really enjoy their life if they have to stay in hospital every day and with all the needles and endless pain? Parents know what  is best for their children, so they will make the right decision after they have been informed. Also, human beings should improve the medical field in order to prevent this tragedy happening.\",\n",
              " \"I think a carrier of a known genetic risk should not be obligated to tell his or her relatives. Genetic testing is a personal choice. A person should have the full control of his/her information and it is his/her right to decide whether or not to disclose it to someone else. When a couple are going to have babies, they  run a few tests and see whether they could have some genetic diseases. The results are disclosed to the husbands and wives. This is not the case I am talking about here. The most obvious reason of those who argue for this opinion is that the relatives of the carrier are at high risk of carrying these diseases. They have the right to know whether they are at risk. Also, telling them the result can allow them togreatly reduce the cost of multiple testing . They can also take immediate measures to reduce the possibility of having this disease. If a person has a disease C that might be a result of gene A, he can run a test and find out that he has the gene AA. This means both of his parents have gene A and they are both at high risk of having disease C. They could save the cost of running two separate tests to see whether they are at high risk of having disease C. If he runs a test and finds out that he has the gene Aa, this means one of his parents has gene A and one cost of testing could be saved. His relatives can then take measures, if this disease can somehow be prevented, to stop this disease from taking their lives. However, this can also be achieved . A person can choose to tell their relatives if they are at risk. Most people care about their relatives, so, if there is no serious consequence of telling them , I assume most of them will tell their relatives to be careful. They might also choose to hint to or encourage their  relatives to run a gene test if they are concerned about negative consequences that come about when they disclose their genetic results. There are possible negative consequences that people might face if they disclose their genetic results to their relatives. If a person is obliged to tell his/her relatives, he or she might be discriminated against by those who do not carry this gene. He or she might even be advised not to get married or have children. For example, if an unmarried person has gene Aa and gene aa is sufficient for a very serious disease, after he takes the test and is obliged to tell his relatives, everyone will know that he is a carrier. So, if all the married couples  run a test and find out they are not carriers, they might subconsciously see him as different and worry that he will find a wife who will carry this gene as well. Third, it is hard to define relatives. If a gene runs in the family, and one of the family members tests positive, whom does he need to tell. If it is a big family, is he obliged to tell everyone? Spouses usually have very close relationships. If person A tells his family that he has this gene, his uncle C knows and tells his wife D that he needs to run a test because his nephew has this disease. However, wife D is not even at  risk of having this disease. Then wife D might tell her mother, who likes to gossip on her way to the theatre. In less than a week, half of the town knows person A has a risked gene, and his family might be a genetically at risk family. Then nobody wants to marry A, or his relatives. This is the potential consequence if one does not have full control of one's information, especially when the party that one is obliged to disclose one's information to is a potentially large group (relatives). In conclusion, a carrier of a known genetic risk should not be obligated to tell his or her relatives.\",\n",
              " \"A carrier of a known genetic risk should be obligated to tell his or her relatives Nowadays, people not only pursue the comfort of their own lives but also the better development of  future generations. Since the technology of modern society is so advanced, it has become possible for people to make a decision to take genetic tests so as to be clear whether or not they carry a genetic risk which could affect the next generation. The debatable question, an ethical dilemma, is whether people are responsible for telling their relatives that they carry a known genetic risk. In my opinion, the responsibility to tell family and relatives is quite obvious. And there are two basic reasons. The first one is the importance of being responsible for your own health and the health of your relatives, and the second one is being responsible for the next generations. Your relatives' awareness of your genetic risk is good for your own health and the health of your relatives, because if you are carrying that genetic risk, then there is a great possibility that your relatives, like parents or siblings, are carrying the same genetic risk as well. The genetic risk that you carry may or may not affect your health and put you in danger. If you haven't undergone  genetic testing, it's just  what will happen to both  you and your relatives. However, if you have undergone tests and found out that you are a carrier, you are responsible for your whole family. Even though you cannot eliminate the risk completely, you can at least try to be alert to avoid getting the disease. As for those in your family who are more likely to be affected, they can go to the hospital to have  checks regularly. Therefore, telling the families and the relatives to get prepared for fighting the disease and even preventing getting the disease is your responsibility. Furthermore, you are also being responsible towards your future generations by telling the truth that you are a carrier of a genetic risk. If your wife is not aware of the truth and gives birth to a baby, it will be possible for your child to carry the same genetic risk as well. Being the parent, you are not being responsible towards your next generations, since you allow the genetic risk to be passed on from generation to generation and are aware of it. However, if you tell the truth to your wife and relatives, you offer a choice about whether to have a child or not. And if you still decide to have the baby, since the technology has been developed to such an advanced level, it might be possible in the future that the possibility of altering genes is perfected and widely used, and you can then choose to give birth to babies by giving them a brighter future. This is the responsibility of being a parent. And in my opinion, this seems to be the main purpose of undergoing  genetic testing in the first place. As a conclusion, once you have undergone the genetic testing and are aware of carrying some specific genetic risk, there are responsibilities to your relatives, yourself, and your future generations to tell your relatives and family the truth.\",\n",
              " \"To tell or not to tell? Consider a case. We decide to undergo genetic testing and have found out the result of it. We found out that we actually are a genetic risk carrier. Then it becomes a dilemma  whether we need to tell our relatives, who may carry this genetic risk as well. There are really a lot of things we need to consider. Every choice we make may have a huge impact on their whole life. As a result, what should we do? Tell them or keep this secret until we die? Many people feel that we should tell our relatives if we really care about their health status. For example, diabetes is a kind of genetic disease. Once we find out we are carrying this genetic risk, it is better for us to tell our family members, because they may carry it as well. If we tell them, they may start paying more attention to their daily habits like eating less food containing sugar and . And it is important for  young people. The earlier we tell them,  and it will be for the rest of their lives. What's more, they may undergo genetic testing as well to see whether they are carrying it or not, which is also better for them. However, some people may ask  why we want to interfere with their lives? Sometimes it becomes extremely hard for them to accept this news, especially if they are going to find out that they or their descendants may have a severe disease like a blood disease which is untreatable. Imagine you are living like a normal person but suddenly one day your relative comes and tells you that actually there are some possibilities that you may contract some disease in the future. What kind of feeling would you have? It may affect our daily lives and we will think about it every day. We become so anxious that we cannot focus on anything. At the same time, there will also be chances that the genetic test result is not correct, which means they are actually wasting their lives worrying about this thing. So, actually, we are bringing them trouble. Personally, I feel that we should still accept our responsibility to tell them the situation. Since this will really affect their lives, what we should do is to try to do it in a positive way. We cannot let it go. We should know that although we may affect their lives, we can still let them make correct choices in the future. Only after we tell them will they start paying attention to their health. They will consider whether to give  birth to a new baby because of this genetic problem and they will start finding ways to try to prevent their baby  carrying this genetic risk as well. They always have a choice about whether to undergo the genetic test or not. Maybe after we tell them, they will go for it and know more about themselves. I know it will have a huge impact on them, but we should know that they are our loved ones. We need to tell them and help them.\",\n",
              " \"A genetic risk carrier should be obliged to their relatives. Genetic testing will be conducted when the individual is at risk of some possible disease. Once the test is done, whether the results should be open to the patient's relatives has caused  extensive controversy. Some say it is a kind of invasion of privacy for the carrier and that privacy should be protected. He or she has the right not to tell anyone. However, in my opinion, it is the obligation of a carrier of a known genetic risk to tell his or her relatives about his or her actual situation. This essay will illustrate  two aspects. First of all, it can be a warningto the family members of the patient and let them be aware of the possible disease that they may also have. As we all know, genetic risk carriers are likely to pass on the genes to their family members. Once one person in the family is found to be carrying a faultygene, other members in his or her family may also have a risk of disease. Some of the diseases may not show symptoms until the carrier is old enough. Therefore, telling the relatives about the situation may avoid a lot of trouble  and save a lot of time for proper treatment. Sometimes,lives may even be saved if they are told early and undergo timely treatment. So, for the sake of the other family members, the relatives should be informed. Secondly, it can avoid genetic diseasesbeing passed to the next generation if they intend to have babies. They should let their spouse know about their situation before marriage. They need to ask for a doctor's advice before they plan to have a baby. Some  genes will pass only to boys rather than girls; some vice versa. If the carrier refuses to tell the truth to his or her spouse, another life may be at risk of inheriting the genetic disease. I noticed a real story in a newspaper years ago. A couple in China had a son of 5 years old. Their son unfortunately fell ill and he was diagnosed with a kind of genetic disease which is very serious. They were told that the wife's family was carrying the polygenetic disorder and could pass it only to boys rather than girls. Therefore, their son had inherited the genetic disease. However, the wife actually had already known about the polygenetic disorder before the marriage and she did not tell her husband. The son  died after one year's treatment and the couple got divorced  after that. If the wife had not hidden the truth and had asked for a doctor's advice before they had a baby, the tragedy would not have happened. In summary, a carrier of a known genetic risk has the responsibility to tell his or her relatives. On the one hand, it can tell members of the carrier's family about the possible disease they may have and they can undergo treatment in time, if possible. On the other hand, if the carrier hides the truth, they may pass the disease on to the next generation.\",\n",
              " \"Nowadays, with the advancement of technology, it is easy to do  genetic testing. We cannot deny that  genetic testing really helps people a lot when they face . However, I think that  genetic information is a person's personal private information which should be protected by the law. Therefore, I think a person with a known genetic risk should not be obligated to tell his or her family or relatives. There are three reasons . Firstly, the information concerning   genes is something personal which is also a private matter like people's PINs. Other people should not be told without the person's permission, even if they are his or her family or relatives. The government should establish a law to protect this kind of privacy. Once people's genetic information is told to other people, they may know the person's potential disability , disease or other bad things . They may discriminate against this person or even abandon him or her. People do not have the ability to choose their genes, they should not be thought badly of because of a bad gene. So I think whatever the genetic risk is or whether the gene  matches with their parents, it should not be told to anyone,  even his or her family or relatives. Secondly, the carrier of a known genetic risk may destroy the peace of a family or even break the relationship between children and the adults.  However happy they were before, there would be some barriers  which will truly gradually destroy the family. The relationship between the parents and their children should not be tested only in terms of genetics; it is something much deeper and tighter. The parents give knowledge and love to the children. Meanwhile, they feel happy in the company of the children. The children rely on the parent to live. When they grow up, they take care of the old parents and thank them for their dedication. The relationship between parents and children is  about love and dedication. No one wants to see the scene of a broken family due to the carrier of a known genetic risk. Therefore, I think a carrier of a known genetic risk should not be obligated to tell his or her family or relatives . Finally, the technology of testing the genes is not very mature now. There also exists some probability of wrong testing. If the wrong testing was not found by the doctor, the parents and the children may be sad and have a struggle for their whole lives. Therefore, I think a carrier of aknown genetic risk should not be obligated to tell his or her family or relatives. Therefore, considering  people's privacy and the existence of wrong testing, for the peace of the family, I agree that a carrier of aknown genetic risk should not be obligated to tell his or her family or relatives .\",\n",
              " 'A Carrier of a Known Genetic Risk Should be Obligated to Tell His or Her Relatives More and more illnesses have been discovered to be related to  genes through the development of  medical technology. People will know about whether they carry a disease in their genes after they have undergone the genetic test. If there is no problem, that will be wonderful. However, not everybody is so lucky that they can make sure they do not carry any disease genes. Therefore, once people find out they are carrying the disease genes, it is their responsibility to tell their relatives, or at least their close family members. It may be awkward and embarrassing for a person to tell relatives that he or she is a carrier of a known genetic risk, but they are all from one family and have the same forefathers, so of course they have the same genes to some extent. Therefore, there is nothing to be shy about or  afraid of. If the person tells their relatives that they are carrying a disease gene, their relatives can go to hospital to check whether they have also got a disease gene. Then the relatives can prepare themselves to prevent the disease from occurring. They can also prevent the disease being passed on to their offspring. If the relatives are carrying that disease gene, they can share the experience with him or her and give some help. They will also teach him or her how to communicate with others about this issue. If he or she is married, he or she must tell his or her partner that he is carryinga disease gene. Then they can have a healthy baby with the help of the doctors. Or else, if he hides the genetic risk, they may have an unhealthy baby and that may cause the death of the baby or the end of their marriage. There is a story I watched on TV. A couple did not have a child after being married for a long time, so their parents were anxious about that and asked them to go to the hospital to check what the problem was. After he came back from the hospital, the man told his parents that the problem was that he was carrying a disease gene, so  they could not have a baby . The woman did not know the test result, but she overheard the conversation and decided to divorce  her husband. After he got the divorce certificate, the man showed her the test report; it said that the woman carried the disease gene instead of the man. At that time, the woman realised how much her husband loved her, but she had ruined her happiness.  People cannot avoid carrying  disease genes, which they are born with. However, they can avoid the disease genes being inherited by their children. By telling their relatives that they may have a risk of carrying the disease gene, they can make their family members bond more closely, and many risks and conflicts can be avoided.',\n",
              " \"Genetic testing has become a beneficial way to identify and protect each individual at risk of a disorder. However, this gives rise to a family-related ethical dilemma regarding whether it is right to tell a carrier's family once the test has been conducted and the results are known. I am most inclined to believe that his or her relatives have the right to know the result. The answer is simply that everyone, especially our family, has the right to know the truth. Though it is said that genetic testing involves emotional and social risks due to the test results, while the potential negative impacts of the risk still exist, the consequences will be significant if other members of his or her family do not know. Then they are unable to have a suitable method to protect themselves and make emotional preparations. Take Angeline Jolie, for example. She is famous but she still revealed the truth about her genetic testing and her breast cancer risk. Everything is not that bad if you know how to look on the bright side, with hope. People may feel angry, depressed, or even guilty about their results. In some cases, a carrier can suffer tension within a family because the result is also related to the others' risk somehow. However, I believe it is just a normal reaction to this situation. In addition, though it can be possible in some cases that he or she and the family can suffer specific discrimination in employment and their social life, how can people face more dramatic tragedies such as sickness or death if they cannot even overcome this harsh situation? Life is hard but people cannot blame it on it being unfair. It is just because  you do not become strong enough to overcome the hard times. Furthermore, living with a secret is not a good feeling, especially if the situations of other relatives become worse. You could feel guilty and depressed. Moreover, the truth cannot be hidden forever but when it is revealed, it will be more shocking and upsetting. As a result, it is in the interests of the carriers and their relatives, so telling the genetic testing result is necessary. Last but not least, though genetic testing is a personal matter, telling the result to your family can improve and develop understanding and sympathy for each other, as well as promoting awareness of taking care of everyone's health. That plays an important role in the possibility that relatives can overcome the discrimination of  society and their anxiety about the risks. In summary, I believe that people should have the obligation to tell their relatives about the genetic testing result for the good of their health. It could be very difficult for them, but necessary for the carriers and their family. In addition, emotional preparations and the ways you explain your genetic condition are also important so that you can convey the correct information to your family and relatives and, if necessary,  guide them if they wish to conduct  similar genetic testing.\",\n",
              " \"The Impact Of Social Media Social media play a vitally important role in our lives today. It is almost impossible for us to keep away from it. I started using  Facebook one year ago,when I had just arrived in Singapore. And now I have over 500 friends on Facebook . We know each others' status, changes and so on through  social media. For  example, if we change our contact numbers, we will not send an SMS to each otherindividually any more. Instead, we will post a  and tag our friends to inform them of this kind of change. And if you are not on it, you will just get lost. In certain respects, social media have brought us quite a lot of convenience. It is becoming even more convenient than talking on the phone, since it is free. We discuss everything we like and we have more personal space.Our friends also get more access to  what we are doing and what we like. And also, we get a chance to talk to public figures like celebrities and know their life better. In China, a lot of government organizations have open blogs to communicate with people, like firefighters, police stations and so on. Social media allow them to explain to or inform people about what is going on. And, actually, lots of rescue jobs are done with the help of social media, like looking for people whoare lost and so on. With more convenient and  communications, the relationship between government and people is largely improved. What's more, various  cultures can be shown to us through social media. We can know more news and cultures through socialmedia. , social media have shortened the distance between us. However, we get less chance and give less importance to talking face to face because social media are so convenient, advanced and interesting. And even when we gather together, most people find they have fewer topics to talk about than before and choose to . When we are far away, social media make it as though we are in front of each other; sometimes, when we are by each others' side, we  seem to be further than far away. This kind of feeling makes people's relationships not as stable, secure and reliable as before. Besides, there are more people showing their pictures of yummy food or travelling experiences. To some extent, this makes our life more luxurious and . Personally, I long to visit some places after I see those beautiful pictures taken by my friends. Sometimes I even cannot sleep well because of excitement. Social media make our pace of life so fast and leave us less time to think about our life. Social media are becoming more important and we need to think more to make them serve us better and better.\",\n",
              " \"Interpersonal skills, like any other skills,require practice. Besides that, these skills require time to develop and adapt. The burgeoning  social media definitely has its , but,like all good things, it is better to have it in moderation. Convenience and efficiency are two very important aspects of social media. While millions of users are connected at any one time, any information can be readily available for their perusal. This improves the connectivity between the users. For  example, one is able to send notifications and other information we used to have  in hardcopy  over the web, and the process takes seconds. The recipient will then receive the information almost immediately, depending on the quality of the network. This convenience can be perceived almost in real time. Next, communication is also greatly improved. In the past,  communication was done by one of  many means, such as telegram, snail mail and poor-quality voice calls. With the advent of applications such as Skype and Facetime, any individual can phase out most of the old communication methods. Aside from hearing the voice, a webcamcan also be affixed to emulate  'real' interaction with expressions and gestures. Communication would have taken a different turn without the readily available social media. However, it is  good practice not to intensively use social media all the time. Intimate interaction is greatly lacking in social media interactions, particularly  touch. Having to meet and interact for talks allows one to be closer to the recipient. It involves a level of dynamic interaction which utilises the motor, thinking and verbal cortex of the mind to . Unlike  social media, where most of the interaction is done by thinking and typing. As a result, one does not practise the necessary  skills required for  proper interpersonal relations. It is also entirely wrong to blame social media alone for the lack of interpersonal skills. Howard Garner studied the effect of multiple intelligences in people and stated that interpersonal intelligence is a type of skill on its own - some have it, some do not. Howard Garner mentioned that the different intelligences can be charted,  utilising tests, and ranked. Fundamentally, those who scored lower  for interpersonal skills are more likely to stumble when this skill is needed. Though social media need not be necessarily bad, it must be used appropriately - for work, family, friends. The types of use must also be taken note of - informing, interacting, discussion and others. The distance between the parties must also be looked at. For people who are living very far from one another, the intensive use of social media is justified. Those who live within the community should at least meet up, and not use social media as the primary means of communication with each other. And at the same time, this improves  interpersonal skills, through dynamic practices between individuals and realtime presence. The inclusion of close proximity and  touch could also lead to a better rapport between those interacting.\",\n",
              " \"Recently, the rise of social media has helped people to have a closer connection with each other. It is a more convenient and cheaper way to have online contact compared with face-to-face meetings. In my opinion, social media websites such as Twitter and Facebook will not affect the chance for people to have face-to-face contact and thus negatively affect interpersonal skills. It may even increase the chance of having face-to-face contact between people. First, social media networks have a large user base, andthey help to link people from different parts of the world. In the days before  social networks, people did not have the chance to know others from different countries or people they had never met before. The number of people that they knewwas only limited to the people they met in daily life, like classmates and colleagues. Therefore, social networks bring more and more connections between people and they may have a chance to chat with people they never knew before, and this helps to develop  interpersonal skills as well. Secondly, although social networks take time for people to chat online but not face to face, they may still decide a time online to meet others face to face in  daily life. In this case, the social network helps people to increase the frequency of talk. For example, if a social network does not exist,  business people need to meet each other face to face and it is  time consuming. Even sometimes with business that is not so important, it still requires a lot of time for travel, which is a waste. However, social networks help people to meet and chat much more easily. They can even use video chat and create a group chat to chat with multiple parties at the same time. Nowadays, some companies even conduct online video interviews with their applicants, as it saves time and money. The social network may also have some negative impacts for  people. The biggest negative impact is that, due to the online network, some people start to use and rely on the internet all the time. They spend too much time on using online social networks and thus do not have time to have their daily meeting with people in their real life. It not only affects  interpersonal skills but also is bad for people's health if they spend too much time on  social media. Secondly, social networks may leak certain personal information to the public. As the cyber environment is not perfect and not safe, people may not protect their privacy online effectively and, sometimes, some people may use others' personal information to deceive. In conclusion, although the unsafe online environment and spending too much time on the internet may be  potential negative aspects of using online social networks, it provides people with more convenient contact  and improves the frequency of meeting with  others. It also helps people to develop their interpersonal skills through online chatting. Overall, there are more benefits than  disadvantages.\",\n",
              " 'The world is increasingly becoming flat as a result of all kinds of social network websites such as Facebook and Twitter. We can even know what a friend who lives thousands of miles away ate for lunch through these kinds of social media. From some points of view, social media really have a lot of advantages by letting us communicate with friends more cheaply and more conveniently. However, their disadvantages also cannot be ignored when you consider them as a platform to show off and a stage for cyber crime. Social network sites provide us with a great deal of convenience. Without hanging out with friends or talking with friends on the phone, we can know their latest news by scanning the webpage. They can help us know more about each other. They can make people become closer as well. For example, if you find out one of your friend\\'s favourite singers is Justin Biber through Facebook, you can give him or her Justin Biber\\'s new album or a concert ticket as a birthday gift. It will be really  and you two will surely become closer. In addition, social network sites can help you keep in touch with friends living very far away. I met some Canadian friends in Egypt. Without Facebook, we might have lost contact. However, thanks to Facebook, I can still keep in touch with them and I know what they have been doing recently, as we live close to each other. The disadvantages of social  media are quite undeniable. Research shows that people will unconsciously hide their real thoughts when they say or post something that will be exposed to the public. It means that one cannot know another\\'s real thoughts and personality by reading things that they put on social  media. It will make them quite upset when they communicate in real life. In addition, with all those \"nice\" guys around on the social network , one may neglect people surrounding one and just communicate with friends on Facebook. It is a common scene that two people sitting next to each other seldom talk with each other but just look at their cellphones. This kind of behaviour is not good for people\\'s psychological health, according to  research. Cyber communication is quite different to face-to-face communication, and people who depend on cyber communication too much will not get used to  real-life communication. In addition, cyber relationships cannot always work in real life. With no close relationships in real life but only close cyber friends, one is more likely to feel lonely because a physiological need of human beings is to feel the bond with others through our five senses. With the desire of people to become the best among others, social network sites have now become a place to show off. Some people will  post their expensive thing or the overseas places of interest they have been to on the social network and get a feeling of satisfaction by doing so. It is a mental illness and it may cause people, especially teenagers, to become materialistic. Last but not least, with all kinds of personal information on one\\'s social network page, it is convenient for criminals to make use of this information to commit a crime. Above all, a social network site is like a double-edged sword and people can only take good advantage of it by avoiding the possible disadvantages of it by putting less personal information on their Facebook page.',\n",
              " \"The modes of communication have been changing over the years, from letter writing to social networking. This phenomenon is caused by rapidly changing technology, which has made communication  faster than ever before. Today, social media sites, such as Facebook and Twitter, are relatively common within  contemporary society, and, people can communicate with each other, online or offline, on these social networking platforms. They can even make new friends with similar interests on these platforms, which will be able to connect almost everyone closely in many parts of the world. However, critics may argue that  the existence of social media sites has reduced physical human interactions between people as they prefer sitting in front of a computer to going out and meeting new friends. This essay will discuss  both the benefits and downsides of using social media in  contemporary society. Nowadays, social media are able to disseminate information faster than any other media. About 50% of  people  learn about breaking news from social media. This is due to people spending comparatively more time on social networking than  on reading newspapers. Furthermore, with the current technology, smartphones are able to get access to social media sites which have been made easier for consumers to use. Hence, social media have benefited the masses by equipping them with a powerful tool to disseminate information almost immediately to the people around them. However, critics may argue that not all information or news disseminated is reliable. There might be false information or hoaxes spreading around on social media. For example, in 2012, there were false rumors of fires, shootouts, and caravans of gunmen in a Mexico City suburb which had spread through Twitter and Facebook. This caused panic among the people, who flooded the local police department with  phone calls, and this resulted in temporarily closed  schools. The spreading of false information can be a potential psychological threat to everyone, given that social media can disseminate information at a relatively fast speed. Nevertheless, there are cyber police who roam around these social networking platforms to prevent these hoaxes spreading . But, there will still be unreliable sources spreading false information on social media sites, despite high security to control almost every social networking movement. Social media are able to improve relationships and help us to make new friends, provided that there is mutual trust and mutual understanding between both parties. Many of the teenagers today claim that they are able to keep in touch with their friends through social media, regardless of their location. In the past, people used to write letters to their friends and it would take a relatively long time for the letter to arrive. Therefore, with the help of technology, people are able to catch up with each other conveniently. Furthermore, it will be easier to make new friends  who have similar interests or hobbies. However, in order for people to maintain their relationships as well as make new friends, it requires mutual trust and understanding between both parties. It might not be accurate to judge the other party's feelings over social media as they may cover up their emotions while on social media. In addition, there are also chances for people to miscommunicate with each other as they cannot sense the tone of the other party on social media platforms. This will result in unnecessary conflicts between two parties over miscommunication. But, if there is trust and mutual understanding on social media, it will be ideal for people to improve relationships and make new friends. In conclusion, social media in  contemporary society are able to help one improve relationships and make new friends, as well as disseminate information efficiently to the masses. However, there are risks of false information and chances of miscommunication. Nevertheless, the advantages of social media will benefit the masses if the negative aspects  can be carefully taken care of. All-in-all, social media are the product of rapid technological advancement and there are more to come in the future.\",\n",
              " \"Advantages: Social media sites have greatly facilitated long distance communication and interaction due to their accessibility and convenience. With a globalised and interconnected world today, Twitter and Facebook are now the main platforms for social interaction. With  any media/electronic devices, one can easily interact and communicate with one's friends without much hassle. Thus, long distance relationships or friendships can be maintained and keeping in touch with your circle of friends has been made much easier. The sharing of personal photos, posting of status or one's personal feelings or experience and the ability to reply to these posts have allowed human interaction to  and expand with ease. Introverts, or those who are shy about communicating with their friends, are now able to do so in the form of words via social media platforms. Thus, socialising can occur seamlessly and effectively with the use of such social media platforms.Meet-ups and appointments are no longer a barrier for humans to contact and communicate with one another, making human interaction possible at one's own convenience. Society will adapt to such phenomena as physical interaction is transformed into cyber interaction. With the frequent use and reliance on  social media and the Internet, a society that socialises through the Internet will be more advanced and adapted to the highly connected world. This will greatly help a society to progress rapidly. Disadvantages: One of the main concerns of using social media  to communicate is trust. The certainty of what is being shared or expressed cannot be proven physically as media limit this physical interaction, except when using a webcam to chat. We cannot be certain of the reliabilty or truth of some posts or information we receive through the Internet. We may in actual fact be communicating with a fake Facebook account of an online friend, which we assume to be real but, in reality, it is a fake account. Photos and information retrieved from their profile page may be fabricated to suit a personal agenda. Thus, the lack of face-to-face human contact through social media restricts actual interaction which can be stimulated through the media. Although emoticons can be used to show certain emotions, this differs from the real emotion of your friends when you observe them through their body language and their facial expression. The danger of such onlinesocialising is the uncertainty of such communication due to the lack of physical interaction. Furthermore, this lack of physical interaction has affected human interpersonal behaviour,  since communication is conducted through social media instead of meetings. This lowers the  human ability to interact with one another, which can adversely shape one's behaviour. The lack of exposure to real life interaction with humans  will not create the confidence and skills needed for one to interact seamlessly and effectively with others. Therefore, for an effective and efficient society, there is a need to have a balance of both social media interaction and face-to-face human interaction .\",\n",
              " \"Nowadays, people can even use their phone to read the news and everyone can be the first witnesses of what is happening in the world. People use Twitter to follow the artiste or celebrity they love and Facebook to see what their friends' recent activity is. Nevertheless, they can still use a phone to make normal calls and send messages to contact people. It is not only the phone that does  jobs for them, but also devices like personal computers, laptops, tablets, and many other devices which are able to connect to the Internet. It is obvious  that the Internet saves people's time and also connects people globally. Several arguments have been made regarding whether  social media actually have some inevitable disadvantages for people. People can only use electrical devices to access the Internet. Whenever they need to use social media, they have to use a phone or other device. Generally, people need their eyes to look at the screen of their phone or computer and fingers to manipulate the relevant device. As a result, they will not have eyes to make contact with and hands to express their feelings to people nearby , which means they have lost the tools they need for face-to-face  communication. This can be easily seen in restaurants or cafes nowadays. A family of four having dinner in a restaurant without any chatting, because they're holding and looking at their screen with one hand when the other hand is holding a fork. A group of friends having high tea in a café without chatting as well, because they do not know what to talk about without clicking on their screen. Children nowadays do not know what neighbourhood games are and who is  beside them; all they know is clicking on icons on  screens. These are some concrete examples of how  social media reduce face-to-face human contact. When people get used to using social media to contact other people, what will happen is that their interpersonal communication skills will be degraded and lost eventually. Firstly, they have lost the courage to meet strangers, let alone the courage to talk. Also, they will not have enough experience to communicate with people face to face and will not be trained in  conversation skills. As a result, social media help them do their jobs but indirectly affect their interpersonal skills. Social media do have some other advantages besides their general benefits to human beings. First of all, people save money by using the Internet to contact other people and read the news. A father may be able to make a call to his daughter who is in another country via social media software instead of making an international call which costs a lot for a family on a normal salary. He can even talk to his daughter face-to-face using video calls via the Internet. Secondly, people make friends all over the world and are able to update their friends on their recent activity easily. A man who is going travelling for months can easily tell all of his friends about his activities. When one of his friends who is not aware of this has failed to contact him via telephone calls, he might be able to get his whereabouts using social media. These are the advantages that save work most of the time. In conclusion, social media benefit people in several ways, but at the same time harm people. People should avoid the misuse of social media and use it in the proper way. With the aid of social media, people bond globally, information flows rapidly, and human lives proceed happily.\",\n",
              " \"All of us are living in . Have you ever wondered why we use these tools to connect  with other people? It started with the invention of technology, which has evolved tremendously over the past few decades. In the past, we travelled by ship, and now, we can use an airplane to do so. In the past, it took a few days to receive a message as we needed to post our letter, and now, we can use e-mail, which stands for electronic message, to send messages to our friends or even use our mobile phone to send our messages. From the example that I have mentioned earlier, we can see that distances between us and our loved ones are getting further apart. This is because with the ease of technology such as the airplane, some of our friends might be going overseas to continue their studies, or maybe you are away from your family pursuing your studies or even careers . Thus, this makes Twitter and Facebook  one of the media that we need. Nevertheless,everything in life has positive and negative effects. This is applicable to these social media sites. The next two paragraphs will discuss  the advantages and disadvantages of using social media in our society. With the help of social media tools , we can stay in contact and keep ourselves up to date with our family and friends even though we are away from them. Social media sites such as Facebook have allowed us to share our pictures or even chat online with our parents while we are overseas. This approach helps parents to communicate with their children and know what kind of activities  their children do when they are overseas. The social media are beneficial as they connect you and your loved one even though you are separated by  distance. It might not be able to replace the joy that you have when you are with your family, but it could help to reduce the sadness of being away from your family. As I mentioned at the beginning, there are also disadvantages to social media tools. One of them is that they reduce the level of concentration, especially among the young people. This is because it is part of everyone's habit to check their Facebook page, as their friends will post something new every second. Thus, you can see that some students will browse Facebook while attending lectures. This means that the students are not concentrating when they are supposed to do so. As a result, it could affect their lives and studies. This  then could lead to stress, as these students are not able to cope with their studies because they were distracted. In my opinion, every individual has to take responsibility for their own lives by making the right decision. There are advantages and disadvantages to using social media sites , but in this case, striking a balance between social media and life is the most important thing to do.\",\n",
              " \"Nowadays, the use of social media platforms is  commonplace in our lives. In an increasingly globalised world, such platforms even enhance and complicate the links between individuals in the world. Thanks to them, people can get to know one another online, without having to travel to meet up for business purposes  or personal reasons. However, it is also bringing about some social changes whereby such virtual worlds are overtaking the real-life world, resulting in some negative impacts on individuals' daily lives and, therefore, becoming a big problem in society as a whole. As people spend more and more time on such social media sites, the importance of  face-to-face human contact has decreased. As people feel more confident online, where they do not have to face  real life on the spot, they feel more comfortable and, thus, prefer communicating online. This results in a lack of interpersonal skills in individuals, especially young students, as they always have the option to turn their back on  real life and go online. This becomes a huge problem when they have no choice but  to face things in real life. As they are so used to having an online avatar, they may lose their sense of self in real life and may not know how to interact with people in real life. Another problem with social media is that the benefits of investing such enormous amounts of time and energy is not reflected as something positive to the users. The reason why it is so addictive is, that the more people get into  social media, the more they seek attention from their friends. However, such sparks of sudden attention are extremely short-term  , so theydo not add any value or meaning to the user's life. Also, according to  research, it has been proven that  users feel sadder after using  Facebook, and this is because users unknowingly compare their lives with other people's lives. But seriously, most people only post the happiest moments in their lives. Social media definitely have some other strong benefits that make the users stay , and one of them is the links between  people. Indeed, I myself use Facebook just because of the contact with friends that I want to keep. However,  friendship in such a virtual world is so superficial and is not so relevant to  real life. Also, as numerous profit-driven companies recognise the huge human traffic on such social media sites, they make it  a pond to fish for  customers by uploading many advertisements. Furthermore, this also possibly triggers the privacy issues as  Facebook allows some other profit-driven companies to have access to the information on the users. As this happens, users are more and more vulnerable to any possible frauds. Social media sites are at their peak at the moment. However, I believe that when people realize that such sites are not making them better people in real life, they will not indulge in it as much as they do now. The users, soon, will realise that they do not need such social media sites to keep in contact with  their friends because, if they really need somebody, they will get in contact with  friends, no matter what.\",\n",
              " 'We think we are all connected through all sorts of social media, but do we really get connected or fall apart? Social media sites like Facebook and Twitter are created with the intention of connecting people from around the world. The idea seems great, and nowadays most people, even the older generation, will have at least one social media platform, like Facebook. Parents are now the \"friends\" of their kids, and they can now \"follow\" their kids more closely and in real time. People post about their random thoughts or daily activities via Twitter and post different kinds of photos on Facebook frequently to be connected with their so-called friends. However, as we then tend to spend too much time on this and have significantly reduced  face-to-face human contact, that eventually affects our interpersonal skills. First and foremost, I would like to share  the advantages of using such social media in my daily life. As a student, I tend to meet lots of people from different backgrounds and in different settings. We may meet only once but we exchange  contact numbers as well as facebook accounts in order to keep in touch. Unlike just keeping contact numbers that we may not even call, social media like facebook are a great way for friends from different fields or even from different parts of the world to be connected. Within clicks, we can check on a friend\\'s profile and read on for his/her updates. On the other hand, we can update our profile by posting on the wall and our friends can read up on the newsfeed. This allows friends that may not have the time to meet up to still be connected in a way. Not only that, but new friends can easily be met through such online platforms. Hence, our social circle is indeed expanding. Nonetheless, what seems to make us connected can be the cause that makes us fall apart. The obvious disadvantage of using social media is  the time reduction on face-to-face contact. This subsequently leads to  poor interpersonal skills that inhibit the growth of our real social circle. For example, we tend to send  birthday wishes when Facebook prompts us \"Today is someone\\'s birthday\". In fact, we may have just forgotten our friend\\'s birthday. We used to send greetings cards during festive seasons like Chinese New Year, and we felt so good to write one and of course to receive one with stamps on it. Gone are the times, and now we do mass sending and the receiver may feel less meaning in such online wishes. As time passes, we may have more \"friends\" on the list, but the meaning of friends needs to be redefined. In summary, there are two sides to every coin. The users of all social media sites need to strike a balance between the real world versus the virtual one. We should maximize the benefits of such platforms but be careful of their impacts on the actual life that we have. Ultimately, the best way to enhance interpersonal skills is still through face-to-face meetings,and social media sites are only  tools to enhance it.',\n",
              " 'Nowadays, social media sites are commonly used in  society. I believe 80 per cent of people use social media sites. These sites play the role of connecting people around the world. It consists of  connecting, sharing, interacting and advertising. However, there are also some disadvantages  due to the social media which are a cause for concern in  society. Therefore, this article is written to explain the pros and cons of using social media in our daily life. First, with the function of social media sites that connects  people, everyone is able to interact and communicate with friends and family, or even strangers, without any time and place constraints. Through the social media sites, we can chat with our friends who are in Europe and New Zealand. There are over a thousand miles between Singapore and these two countries. However, we are able to chat with our friends without travelling to the countries. It saves a lot of money and time as well as strengthening our relationships although we are in different places around the world. Besides that, companies can also use the convenience of social media sites such as Facebook chat or Skype to facilitate  meeting with project partners from around the world. Substantial costs are saved without the tiring travel from one point to another point. With the huge amount of cost savings, this capital can be utilized in  other sectors, which benefits companies more and boosts  the company\\'s profit. However, there are two sides to every coin. Some scholars argue that the usage of social media reduces the face-to-face connection between humans. Since ancient times, humans have been interacting with others face to face. Without the facial expression, it is easier to misunderstand the intention of speakers. That is why facial expression is one of the most important elements in social learning. In addition, \"social media sites will affect writing skills\". That is the point of view in society. According tostatistical reports, the more time is spent on social media sites, the more writing skills will be reduced. I believe most of us have the experience of suddenly forgetting how to write a word that we should know. The autocorrection software is so effective when using electronic devices that we do not realize the importance of writing. Writing is an essential skill for a person  to express their own feelings and opinions. \\'Privacy\\' is a word that is popular in recent decades. Humans have their own rights and privacy. I believe that most of us agree with these terms. However, there is news about the social media sites leaking users\\' information to companies for cash reimbursement. Everything we type in the social media sites is recorded in the server and then transferred to the companies for spying and advertising. Although it looks like  and it is your own space to speak and do anything you want, you are actually wrong. You are not only controlled by  government laws, but also spied on by the government. In conclusion, there are two sides to every story. It is our responsibility to identify the advantages and disadvantages of social media sites. To utilize the technology well, we should make an effort to not only balance the pros and cons, but also to lengthen the pros and shorten the cons. Thus, the new technology will be able to bring a prosperous future for our and the next generation.',\n",
              " \"With the widespread  advanced technology, social media sites are becoming more and more popular. Getting connected on social media such as Facebook and Twitteris a main trend as well as a daily activity nowadays. With this situation, both advantages and disadvantages of using social media apply to our daily life. On the one hand, it is obvious that many advantages have been brought to our lives. Social media provide people with the opportunity to get in contact with each other anytime and anywhere. Whether we are at home or at school, at work or on  holiday, we are able to communicate and interact with our friends. Even when people are thousands of miles apart, social media make it possible to have interaction by  writing comments. When our phones are accidentally , we can also use the social media to get in contact with our friends. Some people who are trying to talk in  public can also actively take part in  group chatting via social media. Besides, we can make more friends through such interactions when our friends also bring their friends in. Therefore, the popularity of social media sites has made it more convenient for people to keep up to date with friends' status and contact  friends more frequently. On the other hand, we need to think about the influences exerted by  social media. There are still many disadvantages to using social media. Firstly, interpersonal skills may be affacted by the reduction in face-to-face human contact. While social media bring convenience to people's lives, people are more and more willing to use social media for chatting instead of face-to-face chatting, which has a time and place requirement. People who are not good at face-to-face chatting may be more reluctant to talk to people, and their interpersonal skills can never be improved in this situation. Secondly, people's addiction may avoidably, to some degree, exacerbate social alienation, and this kind of alienation causes some social media users to suffer from  over-dependence on virtual social networking. More and more networking has been transferred to the internet from real life. This is a potential danger for teenagers, who are growing up with . Thirdly, a lot of updating of luxury living standards as well as other showing off may make people's daily life more and more extravagant, which is not an . Lastly, it is easy for people to waste a lot of time using social media. Again, there is a trend for them to suffer from social media addiction and their studies and work may be greatly influenced. Since we can see both advantages and disadvantages of using social media, and we cannot deny the huge benefits that have been brought to us, this main trend of using social media may still last for a long time. Therefore, whenever we use social media, we should take both sides into consideration and try to avoid being affected by the disadvantages. Only by absorbing the essence and discarding the dregs can we make better use of  social media.\",\n",
              " 'In a sophisticated era like these days, experts keep producing inventions that are meant to make life easier. Geographical and transportation borders are not a problem anymore because communication and information technologies have been continuously enhanced. The telephone may have been perceived as the biggest innovation created ever  the first time Graham Bell introduced it. However, as soon asthe internet was introduced, the telephone started to give way to social media sites. Many advantages are given to the users. Let us take the example of Facebook and Twitter, two of the most famous social media sites. Through Facebook, people are able to maintain relationships with their old acquaintances. This benefit cannot be obtained by telephone or mail because people\\'s details and address may change from time to time, while on Facebook, people can keep in contact with old friends just by using name and photo, for example, as the identifier. Facebook is like a combination of message and chatting service, personal profile, way of sharing, and other entertainment add-ons (i.e. social games) which allow users to communicate with people who are far away, and also to keep up to date and express themselves at the same time. Twitter, which has a more simplified function compared to Facebook, gives more benefit if used as an information sharing medium. Twitter only allows users to give an update that is limited to short sentences in order to spread the words fast,  messages are delivered. With Facebook, a comprehensive way of sharing is offered, since multiple photos and videos can be uploaded, long notes can be published, and even documents and data can be shared through Facebook nowadays. These advantages also come in handy as most of these social media sites are accessible through mobile applications on our smartphones. Despite the luxury that is offered by social media, there are also harmful side effects which people may not recognise beforehand. Research shows that face-to-face meeting frequency among people that are addicted to social media sites has been decreasing. As a consequence, this affects their interpersonal skills. People can think while typing and prepare what they want to say, but in face-to-face communication, every word that comes out of your mouth and may not be well arranged is a picture of your personality. This skill requires practice and cannot be done completely through social media. There is a situation where a family is having  dinner together in a restaurant but everybody is busy with their own gadget, posting pictures on Facebook, updating their status on Twitter, or even chatting with friends. These social media serve the purpose of connecting people in spite of their geographical boundaries, but that shouldn\\'t mean that people around us are neglected as a payoff. This is related to the interpersonal skill that is mentioned before, that can decrease qualitatively if we are used to facing a gadget, rather than facing a human being. Another disadvantage that affects other people is that by only showing selected parts of our lives, we build a \"false image\" in public. We tend to only share our happy moments on social media. Because of this, other people start to think that our lives are full of happiness with no problems at all. Other people then are influenced by us and tend to do the same. As a result, people have a low opinion of themselves and this may lead to depression and mental disorder. It also reduces our sympathy. This is a serious social problem and affects a lot of people. As explained above, modern and sophisticated technology doesn\\'t always bring advantages. There are a lot of disadvantages that people may not be aware of. It is up to people\\'s discretion and understanding to decide which side they want to take. So, we should never forget to think about and calculate the benefit and cost of every decision that we make.',\n",
              " 'Nowadays, the advancement of technologies greatly improves the lives of many people. In most  countries, there is an emergence of social media sites such as Facebook and Twitter. Many people think that the social media sites have benefits for the communication between people, while some others argue that there are several negative impacts for  society. One of the advantages which are offered by those social media sites is that they can connect us more closely than before. In the past , when the social media sites were not yet fully developed, people connected with others who lived far away by using a phone, or even a letter. However, calling a person by using a phone and writing a person a letter involve some cost, and sending a letter to a person who lives far away, especially in villages, takes a lot of time. The appearance of those social media sites has caused those problems to be solved. People connecting through the social media sites  spend no money on  communication, and it also takes only one or a few seconds for the message to arrive. Therefore, this advantage of social media sites saves money and time, and also provides convenience for many people. Moreover, this also provides an alternative way for people to contact a person whom they have not seen for a very long time, such as their friends from primary school and secondary school. As we graduate from a school, we will probably lose contact with some of our friends. Some of them may have changed their phone numbers and addresses, and we are not able to find them through a phone call or a letter. If phone and letter were the only way to contact them, we would probably not be able to find them. Facebook and Twitter can serve as an alternative route to making a connection between us and our old friends. Hence, the social media sites serve as a platform for  connection. Everything that comes with benefits will also have its disadvantages. On the other hand, social media sites also bring some negative impacts for  individuals and  society. The advancement of those social media sites makes people rely on them so much that some of them  prefer using those sites to contact each other to talking to each other face to face. Many people argue that this is the most serious problem brought by social media sites. The usage of social media sites indirectly causes a reduction in face-to-face human communication in real life, which will, in turn, cause the loss of interpersonal skills for many people. As we all know,  interpersonal skills are essential for us to communicate with each other and to present our views and ideas. The loss of interpersonal skills results in the inability of people to present their ideas well. As a result, they will gradually decrease in their ability to compete with each other in  society. In conclusion, social media sites cause both positive and negative consequences for people and society. As a part of this modern society, we should learn to distinguish between good and bad impacts brought by the advancement of technologies, and also learn to avoid the disadvantages and maximize the benefits of those sites.',\n",
              " \"With the advancement of technology in recent years, the need to keep in touch with people and the latest news has become a tremendous demand. Some of the famous examples would be social media sites like Twitter and Facebook. With  more than a billion users from all over the world, social media sites have clearly demonstratedtheir success at playing an important part in our lives. However, there are arguments that social media  lead to a reduction in face-to-face human contact, which, in turn, affects interpersonal skills. Let's examine the advantages and disadvantages of using social media in our daily life and society. First and foremost, all social media sites are free. All users need are an internet connection and an email account so that everyone can have a Facebook or Twitter ID to start their journey in social media . Secondly, it helps people to keep in touch with one another. Finding old friends through Facebook, for example, is easier than asking people  in real life. Social media helps to lessen the hassle of geographical distance and brings people closer. Thirdly, social media sites keep us up-to-date on the latest news and updates from almost everywhere in the world, all with a click  on the refresh button. Last but not least, social media sites also link people together by allowing us to create our own groups, pages or sites to share our hobbies, interests and studies in particular subjects. Hence, it is undeniable that these sites play an important role in our global interconnected world. However, social media sites also have their  negative impact on humans. Undeniably, it becomes more addicting when we spend more time busy socialising and interacting virtually. We spend the majority of our time on sites like Facebook, Twitter and it affects our daily work productivity and performance. In the corporate world, employers often block social media networks to prevent employees  spending their office time on their personal leisure rather than concentrating on their work. Using text-messaging language as an informal way of communicating on social media networks also has a bad impact on us in the long term. The more time we spend on these sites, the less time we spend on face-to-face interaction with one another. Hence it lessens valuable interaction between humans and the time we spend away from the computer screen or mobile phone. In addition, there are also some false reports and fake IDs  on both social media sites where people use fake IDs to insult or harass someone, like the case of Heather Chua which occurred recently on Facebook. These malicious comments often go viral and it has a strong negative effect on the real user in real life, which might lead to unwillingness to interact with others in real life on the part of the victim. In conclusion, there are two sides to everything and it depends on how we exploit it. With the current booming technology, it is good that people are becoming more tech savvy and they want to spend more time interacting with each other through social media sites. However, it does not mean that we should neglect face-to-face human interaction as it plays an even more important role in our lives.\",\n",
              " \"As more and more social networks such as Twitter, Facebook and Weibo  have become ubiquitous, seamless and imperative in our life, people may worry about the younger generation having problems with face-to-face communication skills. However, I believe that the benefits brought by these online chat rooms tremendously outweigh their disadvantages. Social media enable us to explore the world far far away without paying for expensive airplane tickets and sacrificing a one-week holiday. The convenience is beyond description. With a small smartphone or a computer at school, at work or at home, we can easily make friends worldwide with a 'click' and get to know about their life through having conversations with them, reading their blogs, photos and status. Compared to face-to-face interaction, online conversation makes it easier for strangers to talk to each other. Since some of the information has already been revealed on the home page, it is also easier to find some common topics to talk about. Moreover, people usually like to share boldly about their real feelings online with their masks in reality being taken off. It has been indicated in a report done by Boston University in 2012, that 80% of information posted online is true, while a person may lie 3 out of 10 times in real life. This shows that a Facebook friend may know more about you than your close friend who does not have a Facebook account. That is because we are acting who we are in reality while we have no reason to do that in the online virtual world. Although sometimes this genuine sharing of information may be inappropriate or even harmful, such as prevalent use of vulgarity and harsh comments, we can minimize those disadvantages through strict regulation of content online. Another advantage of social media is in aiding the spread of democracy. People around the world can easily share their thoughts about their governments. That eliminates the incomplete information disadvantage for some remote rural regions where people are less aware of what is actually happening around them. One of the examples is the 2012 riots which happened in Egypt and Zambia. The idea of searching for democracy was passed from Egyptians to people in Zambia quickly through the use of social media. However, as the government controls most of the media, these social media may be tools of their campaign and manipulating the thoughts of the public. For example, in the 2012 general election in Singapore, Dr Tan Chee Keong made use of Facebook to spread his campaign videos to the public. Despite this, social media is still a much fairer and more transparent online platform for the public to share ideas compared to other traditional media. Intensive use of social media does reduce the time people spend on face-to-face communication. It is commonly seen in a food court or restaurant that a group of people are sitting together around a table with each of them having a cell phone in their hands. They are too busy with their way too many virtual friends and some of them neglect the feelings of their real-life friends. In this case, I have to say that to err is human. What we can do is to educate the public about the importance of their friends right by their side and teach them to manage their time well. In conclusion, the use of social media has more advantages than disadvantages in our daily lifes. What we can do is to cautiously manage our time spent online and manage our words used online. With the regulation of government and relevant authorities, the virtual world would be a better world.\",\n",
              " \"Social media sites' role in connecting people around the world is undeniable. Thanks to those social media,  communication between people all over the world is possible and can be conducted with ease. Apart from the ease of communication despite  the distance, many other activities such as knowledge sharing and business can be done through social media as well. Nevertheless, with those advantages, some disadvantages may appear, such as reduction in face-to-face human contact, which affects interpersonal skills, privacy issues, as well as some fraudulent activities that can be committed through social media. Twitter, Facebook and Skype are some social media sites which enable us to keep in touch with our friends or family who are in other cities or countries. Through those sites, we are able to talk to them, to know what their activities are and who their friends are, etc. On the face of it, there is no doubt that these sites help us to have a better relationship with our relatives despite  the distance. The sharing of information can be done faster through social media as well. That is why, nowadays, many news publishers set up their own social media account. For example, Channel News Asia has a Twitter account and will update its followers with headline news. That shows how,these days, news and information can be shared easily through social media. Furthermore, since many teenagers and young adults are fans of social media, this information can reach them easily without them needing to watch or listen to the news reports. Due to the popularity of social media, many people have started to conduct their business via these sites. More and more advertisements can be found on Facebook. Whether it is our friends who are selling their products or professional brands selling their products online, we can get to buy things and contact the sellers through those sites, which can be considered as an advantage for us, the buyers. However, is it the same when we keep in touch with someone virtually compared to when we meet them face to face? I do think there is a difference  and I believe many of us will agree. When we write or communicate virtually, we can hide our true feelings and may not be ourselves since we do not want the other party to judge us. Other than that, sometimes the message of one party cannot be delivered properly to the other one since the communication is done through written language, and thus the 'tone' of the message sent and when it is received may be different. Many people are very brave about telling people about their opinions online, but in real life, some of them can be very shy and not outspoken at all. This will lead to  bad interpersonal skills as well as  problems of trust. Nowadays, we cannot really trust new people whom we know from social media, since we will never know whether they are even 'real'. Some people fake their identities on social media sites so that they can know more people or some may even deceive others. In addition, the issue of privacy has become more relevant nowadays, since some people do not realize that they may actually share some information that they were not willing to share in the first place. Therefore, while social media sites  undoubtedly have benefits in our life, we should consider their drawbacks and , thus, use them wisely so that we can gain more of their benefits and they inconvenience us in the smallest possible way.\",\n",
              " \"It is a common scene that almost everyone on  public transport is looking at a phone or wearing earphones in this modern society . Not only one but many developed and developing countries have the same scene. Some say that it is a necessary step in human evolution. Social media sites like Twitter and Facebook are popular among people for connecting to others even from different countries. It also brings many negative effects such as loss of face-to-face communication skills, which are important in their workplace. This essay will discuss  the advantages and disadvantages of using social media in our daily life. One of the significant advantages of using a popular social media site is that people can reach other easily, even without having had contact for a long time. In this fast paced and competitive world, people may not be able to keep in touch with others. With the help of social media sites, people are able to upload their new discoveries and funny scenes to them and they can be updated on the new information of their friends. Personally, I  study  overseas, and my busy study life keeps me  from contacting my old friends. Using a common social media site with my friends  helps me know what their statuses are nowadays. And I am able to easily find a common topic when I contact them. In Singapore, many Malaysians cross the sea to work here. Many of them are busy in work and separated from their children. One of the managers in my workplace has the same situation. After my manager taught her mother how to use Facebook, she was able to upload video clips of her grandchild. Therefore, my manager would not miss  moments of her daughter's development. Social media sites are also a very useful tool for people to start a new friendship or relationship. People with the same preferences get connected or closer. It is easier for people to approach the other person after finding out the information. Students can exchange  experiences in their studies even if they are in different countries. People are able to share  culture or pretty photos online, and others can spread the joy with them. Thus, I believe that social media sites are a useful tool to help people get to know each other better. However, a social media site is a double-edged sword. It also has  some negative effects on our daily life. One of the disadvantages that many people are concerned about is that people lose  interest in face-to-face communication. Many people like to use language to pretend , and lose confidence when they talk to each other. Although not everyone is good at personal relationships , even without the existence of  social media sites, we cannot deny that they do affect some people's  interpersonal skills. In conclusion, everything has its downsides. We should take the advantages of the things we create and try to avoid the negative effects. Social media sites are supposed to be a very useful and convenient tool to  bring people  closer in this globalised world.\",\n",
              " 'The use of social media has greatly influenced our ways of communicating with one another. Online friends have become real life friends and real life friends communicate with one another online. Social media have changed our ways of exchanging information and conducting interpersonal relationships profoundly. There are advantages and disadvantages to this change. Social media have reshaped the way  we communicate. In real life, we communicate with one another as equal participants. We share ideas and stories and forge friendships based on mutual respect. However, communication on social media is largely based on \"broadcasting and listening\". When we use Facebook and post pictures and statuses, we are actively \"presenting\" façades of our lives to others. We tend to post pictures with the best looks, statuses that are funny. We broadcast these facades of ourselves to others. The images we choose to present are carefully considered. The audience is not some specific person, but everyone we might know, or even the entire world. There is an element of seeking   attention rather than expressing one\\'s true opinion on social networks. On the other hand, the viewers are not the listeners. They are just scrolling down  pages of pictures and statuses and seeing one of them which they might think  funny. It is not the broadcasters themselves they care about, but the content. This type of communication does not help with forging interpersonal relationships. In real life, establishing a friendship requires the all-round understanding of one another and  caring for one another. The latter requires face-to-face interaction, where we can show our emotions to the other. One cannot truly understand a person  only stalking his/her Facebook page where he/she carefully chooses what to present. One cannot truly show one\\'s emotions to another by texting some =) signs. The broadcasting and viewing model is not good for forging relationships. However, it is good for sharing information. On social media, everyone is a broadcaster and a viewer. With my social network account, I seldom read newspapers or go to news websites anymore, because I can easily read them from the status of my friends. If I am interested in politics, I can just follow some politics newspapers or public figures. I get news about sales, clothes and cosmetics from my friends. If one of my friends has horrible taste in clothes and he/she posts them often, I can simply block him/her . Information gets circulated. The most popular information gets circulated the most, so I  seldom miss it. Social networks play a role in providing and also filtering information. This saves a lot of time for me  reading newspapers and watching TV. Personally, I feel more at ease on social media. From the above two points of view, I think social media could forge more interest-based friendships. With the help of social media, I become real life friends with those from online forums whom I share the same interest with. I also discover some of my friends\\' interests which I find in common with myself, so that talking to one another is much more about life, study, friends, etc. The communication does not focus on how we feel,  but on whatever is interesting, or the content. In this case, interpersonal skills are not as important because our goal is not to impress somebody, but to get the information that we are both interested in. In conclusion, I think social media have reshaped interpersonal relationships from a more human-based friendship that requires sharing and caring between friends, to a more information-based friendship that requires a mutual interest. There are advantages and disadvantages in this. However, we are still not sure whether it is good or bad. It is just different.',\n",
              " 'Advantages and disadvantages of using social media in daily life People that live in the modern world really cannot live without  social media sites like Twitter and Facebook. Almost all students and young adults possess a Facebook or Twitter account. It is true that social media make people  able to connect with one another more conveniently. However, it seems that, especially for some , sharing some parts of their lives such as videos and photos on the social media sites has become really necessary. An extremely interesting and ironic phenomenon was discovered that a group of friends met and sat around one table, but none of them were really chatting with one another. Instead, all of them were more interested in posting pictures of this \"cheerful\" meeting on their social media sites. Therefore, there is a need to discuss the advantages and disadvantages of social media. Social media enable people from different parts of the world to communicate with one another. People used to write letters and send postcards to keep in touch with people living far away from them in the past. It could take a few days or weeks for them to receive the messages. Nowadays, what people need to do is just type in front of the computer in their own rooms. And people on the other side will only need a second to receive the message. Distance and time are no longer  problems, which is convenient, especially when instant chat is needed. However, when people become more and more addicted to this convenience and fail to communicate with people who are close to them, their face-to-face interpersonal skills are lost. Social media provide people with a way of talking and chatting which can never be considered as a way of communicating. When one chats on those media sites, there is no eye contact, no emotion delivery and even the expressions are typed in by using some combinations of punctuation marks. For more convenience, sentences are shortened to simply three or four words such as lol (which means laugh intensively) and \"asap\" (which means as soon as possible). Indeed, people go to great lengths to make their words as short as they can. Therefore, when they are communicating with people face to face, expressing themselves appropriately becomes a really big problem. Social media also provide people with huge  information about people and things that interest them. For example, on Twitter, it is exciting to follow people that you adore, like famous movie and TV stars, businessmen and entrepreneurs. It makes people feel extremely close to their idols\\' lives and works. Up-to-date news people care about can be easily obtained when you refresh your social media sites on your smartphones and laptops, almost every time at any time. However, after one has registered on those social media sites which are not reliable, all the information you have filled in will be a weapon against you in the future. Furthermore, not everyone on the social media sites is honest. The profile picture may not be of the person  that user says he or she really is. The reason might just be that he or she just wants to \"decorate\" his or her face. But there is a possibility that the person on the other side is deceiving you in order to use your information against you. The fact that there is no guarantee of authenticity risks people\\'s information  that is shared on social media sites. To sum up, social media have advantages and disadvantages in people\\'s daily life. They shorten the distance between people from all over the world and make instant communication possible. And it becomes more convenient to obtain and update information by using social media. In contrast, social media make people lose their ability to communicate effectively in their real lives and make people risk exposing their private details to those whose identity cannot be verified on the social media sites.',\n",
              " \"How do social media help change our lives? With the development of  technology, social media play a more and more significant role in the whole world. Everyone in the world cannot stop using it every day to express their feelings or ideas and a lot of other things which helps their friends know their lives better. However, this also raises  concerns about whether they bring us more benefits or a human disaster. Although using social media helps to connect us with our friends wherever we are, at the same time, it reduces the chance for us to talk to our friends face to face, which may affect our interpersonal skills. Thus, whether there are more advantages or disadvantages becomes a tough question for every human being. Many people say they will support  social media since it really helps them to have a closer view of how their friends are doing in other parts of the world. This is especially relevant to people who are overseas. To them, social media is the only resource they can use to know everything happening in their home country and a platform they can use to show their lives to their loved ones as well. What's more, these days, social media play an important role in spreading  information. Nowadays, people can just easily put their  on their Facebook account and wait for the response from others who are from different parts of the world, which brings us a huge amount of convenience. It is quite significant especially for  young teenagers, since they would rather go to these sites to see the news and know what is happening in this world than read the newspaper every day. However, there are also a great number of people who are against this technology. They worry a lot about the bad effect on  teenagers, who are still developing . They point out that, actually, social media reduce the chance for us to talk to people around us face to face. The more we care about Facebook, the less time we will have to spend with our friends. Nowadays, it is quite common to see at some party, people  prefer looking at their phones and reading all the posts on Facebook if they feel bored. It makes people worry because if all the teenagers continue using social media frequently, they will decrease their ability to talk to people. They will feel it becomes difficult for them to find any topics to communicate with other people about. Personally, I strongly agree that social media bring more disadvantages compared to the advantages they give us. Although it is really useful when we need to use it to let other people know we really live a good life, it wastes  a lot of time as well. Put it another way, if we saved the time we spend on browsing on those sites, we might already finish a book or do other more meaningful things. We should keep in mind that there are still ways for us to contact  our family or friends. Everything is bad if we don't know how to use it wisely, no matter whether it is really good or not. As a result, it is important for people to know that we need to be cautious about the time we spend on these social media. As stated above, I strongly believe that if we can use social media wisely rather than abusing them, we will all live a better life.\",\n",
              " \"The advantages and disadvantages of social media Nowadays, as  technology is becoming increasingly advanced, more and more social media sites are appearing in our daily life. You can see people using Facebook and Twitter through their smartphones or iPads on buses or on trains. Some may say that the appearance of these modern media will reduce the chances for people to communicate face to face. This essay will illustrate the pros and cons of using social media in modern society. First of all, social media can make it more convenient for people to make friends and contact each other. Years ago when these modern products weren't popular, the way for people to communicate or contact people far way were still restricted to making phone calls, sending emails or writing letters. Some  take a long time and some are not efficient enough for people to get their response. However, social media solve these problems well. People can contact their friends on the internet and get their reply very quickly. The communication is also not limited to words. People can express themselves through pictures or emoticons. People can also get to know their friends' status and mood by looking at their posts online. Moreover, people can be aware of what is going on in social situations and see the comments online and share their opinions on these websites. These social media make people's lives much more colorful and provide a lot of fun. However, social media may do some harm to people's lives. They will make people spend more time on chatting on the internet rather than communicating face to face, such that  interpersonal skills will be badly affected. Some people spend a lot of time on them and forget their real life. Actually, I have seen that some people are very funny and interesting when I am chatting with them online. However, they are quite boring when I talk to them in real life. Teenagers are developing their interpersonal skills and social skills when they are growing up. If they spend too much time on these social media, it may cause some problems with their mental development. They may feel uncomfortable when they communicate with people face to face. Some may spendless and less time with their family and not know how to express themselves. Moreover, some wrong values on the websites will affect teenagers and confuse them. Some may even do something wrong. In conclusion, the appearance of social media sites is a double-edged sword. It can make our life simpler. People can develop their friendships and relationships through these social media. However, it can also make people forget to communicate with their family and friends in  real life and negatively affect  their interpersonal skills. But overall, the advantages far outweigh the disadvantages. So we need to make the best use of these social media and make them a fun way of adding some excitement when life is boring. And try to bypass the shortcomings. And remember to send greetings to our friends and family frequently.\",\n",
              " 'Nowadays, with the advancement of technology, it is easy to communicate wherever you are. The appearance of social media sites truly connects people closely. People can know their friends\\' recent looks and interesting things happening to those people just by checking their Facebook or other social media sites. We cannot deny that the social media sites truly make  old friends  not miss  information and  chances to communicate with you even if you are in a different country. However, the social media sites truly reduce  face-to-face communication , which truly affects interpersonal skills. There are two advantages and two disadvantages of using  social media in  daily life. Firstly, the social media sites can closely connect people with their friends and parents. By typing  words and showing  pictures, people can express  emotions that they are too shy to express face-to-face. For example, on Mother\\'s Day, people are too shy to say \"I love you\" to their mothers, but they can type it on their mother\\'s Facebook page. Then their mother will also know the emotion and feel warm. On the other hand, when a teenager is studying in a foreign country, the internet is the only way that he can communicate with his parents and friends. Therefore,  social media are truly good for people. Secondly, the social media sites do not only closely connect people with their friends. People can also find out a lot of information about  celebrities on Twitter and Facebook  and get the  on them. They can find out how these people succeed and they can also have the chance to talk with them and know these famous people\\'s thoughts by using  social media. In addition, with the help of social media, some homeless people or someone who needs  money to cure a disease can get  help from the world quickly, because once one person knows the information, he or she will share it with their \"friends area\", then many people will know  and spread the information to  people who can give help. On the other hand, there are also problems with the population of the social media. Firstly, when people rely on  social media to communicate with their friends and parents, they will become accustomed to communicating by typing and not talking. People even prefer talking to their friends and meeting their friends online and gradually reject face-to-face communication. Therefore,  social media truly limit  interpersonal skills such that people lose the chance and the ability to practice talking and  between them and their friends. Secondly, without  true communication in  real life, people lose the ability to see the truth and lies. There are many people on  social media with beautiful images and good content on their pages, but in real life, he or she may  not have a job or may live poorly. Teenagers may believe these people and easily be cheated and lose money, or even their safety. Therefore,  social media are not safe, which is bad for teenagers\\' future development. All in all, the existence of social media truly helps people a lot in many areas. However, there exist some disadvantages which will affect people to some degree.',\n",
              " 'Advantages and Disadvantages of Using Social Media in Our Daily life and Society. Nowadays, with the development of technology and society, social media have become more popular and even important in our daily life. We communicate with others using social media, such as Twitter, Facebook and microblog more and more frequently. There is no need  for people to go out of their home to interact with others. They chat online, share pictures, tell others what they have done or funny stories. It seems that people build a good relationship with others through  social media, but  problems arise. People do not know how to talk with others face to face, especially  strangers. Therefore, we need to talk about the advantages and disadvantages of using social media in our daily life and society. As for the advantages, there are two aspects: more convenient to contact others, easier to know about others. One advantage is that it is more convenient to contact others by social media. In the old days, if one wanted to tell some important news to someone who lives far away, one needed to write letters and that wastes time. The long distance and delay made sending messages very difficult at that time. Therefore, people did not contact   faraway friends and relatives unless there was something important. However, people can now contact  anyone all over the world who can use a computer at any time, and there is no time delay to messages. The other advantage is that it is easier to find out about others through social media. If there were no social media, it would be difficult for people to find out about a stranger. They could collect information about that person by asking their friends, colleagues or family members. And the information collected might not be complete and true. Unlike today, with the help of social media, people can easily get the information they want just by searching online, and know about what that person does every day and at what time. As for the disadvantages of social media in our daily life, these include wasting time, causing illness related to sitting a long time in front of the computer, the rapid spreading of rumor and fake news, and most importantly, making people lose the ability to talk to others confidently face to face. It is weird that people sit around a table but all look at their phones and do not talk with each other. If there is a joke on their Facebook page, they may talk to others in this way: \"hi, look, how ridiculous this is\". Then they laugh together. No matter whether it is a party, dinner or just a simple get-together, there are always some people bowing their head and playing with their phones, even if their family and friends are in front of them. In  conclusion, there are both advantages and disadvantages of using social media in daily life. People should enjoy the advantages of social media while being aware of the disadvantages  and try their best to avoid the disadvantages happening to them and their friends and family.',\n",
              " \"Today  is considered to be the era of social media sites like Facebook and Twitter, which are attractively connecting people around the world. However, some people worry that social networking can affect interpersonal skills as it reduces face-to-face human contact. The advantages and disadvantages of using such social media in  society are elaborated on below. Nobody can deny social media's advantages in view of the benefit they provide in connecting people regardless of nationalities, races, cultures and languages. Social media are a trending channel and a suitable means of communication. Firstly, social media bring convenience to the world. They have erased the boundaries of distance and time. No more worries about the time it takes to deliver letters and packages. Nowadays, thanks to  social media, with just one click, you can contact your family and friends whenever you want. You can share photos, videos and every meaningful experience of your life. More importantly, it is cheap and easy to use social media. Secondly, a social media network opens the door of opportunities for people due to its great benefit ofconnecting people. A lot of fresh graduates can find jobs thanks to Facebook and Twitter. Young people can widen their relationships, meet new friends and learn wonderful things in many parts of the world. In business , social media are a good tool to develop and advertise products and services. On the other hand, social media also have disadvantages which have created worries for  society recently and made it a controversial phenomenon. More and more young people tend to live in the social media world most of the time and reduce face-to-face human contact, which can affect interpersonal skills and relationships in social life. First and foremost, we should realize that the social media world is not trustworthy and real. Everyone can easily make up the personality and characteristics they want. They can become anyone. Though social media do create relationships, relationships and friendships are only firm and real if people have gone through experiences and communication through face-to-face interaction. There is a story of a girl who lived in the social media world every night for eight years. In the chat room, she created a close relationship with eight people. She talked with them every night, trusted them and shared her life with them. Then eventually, she discovered that those eight people became one as he was using eight different identities to chat with her all the time. Furthermore, the convenience of social media is also its weakness. A lot of people use their true information on social media sites, which can lead to crimes and deception. People can use the information to deceive family and friends and banks to do bad things such as blackmail, ATM theft and so on. Last but not least, social media do affect human interpersonal skills when people increase the time on social sites and reject chances to expose themselves to social daily life activities as well as interacting with people. Recent research has shown that the more people spend time on social media sites, the less they become ambitious. As a result, if the situation keeps following  this unexpected trend, it will have a bad effect on the younger generation. In summary, everything has its own pros and cons, and sodo social media networks. It is not only convenient and beneficial for connecting people and developing  business, but it also can damage people's relationships and interpersonal skills. Social media are only beneficial as long as we know how to use them in a correct and suitable way with a combination of both social media sites and daily life interaction to develop people's potentials to the fullest.\"]"
            ]
          },
          "metadata": {
            "tags": []
          },
          "execution_count": 157
        }
      ]
    },
    {
      "cell_type": "markdown",
      "metadata": {
        "id": "unja3yXDwvSm"
      },
      "source": [
        "## 2.2 Locness"
      ]
    },
    {
      "cell_type": "markdown",
      "metadata": {
        "id": "BGVOWMuDbIUz"
      },
      "source": [
        "- Creator: University of Cambridge\n",
        "- Year: 2019\n",
        "- Purpose: \n",
        "    - \n",
        "- Data:\n",
        "    - represents a wider range of native and learner\n",
        "English levels and abilities compared to CoNLL\n",
        "    -  350 essays (4,477 sentences) on approximately 50 topics written by 334 authors from around the world (including native English speakers)\n",
        "\n",
        "- Papers: https://www.aclweb.org/anthology/W19-4406.pdf"
      ]
    },
    {
      "cell_type": "code",
      "metadata": {
        "id": "mr_eJ6vTDrNr",
        "colab": {
          "base_uri": "https://localhost:8080/"
        },
        "outputId": "45df235d-3e73-440b-ec39-3dd678a69a02"
      },
      "source": [
        "!wget -O 'bea19.tar.gz' https://www.cl.cam.ac.uk/research/nl/bea2019st/data/wi+locness_v2.1.bea19.tar.gz"
      ],
      "execution_count": 2,
      "outputs": [
        {
          "output_type": "stream",
          "text": [
            "--2021-04-03 17:46:58--  https://www.cl.cam.ac.uk/research/nl/bea2019st/data/wi+locness_v2.1.bea19.tar.gz\n",
            "Resolving www.cl.cam.ac.uk (www.cl.cam.ac.uk)... 128.232.0.20, 2a05:b400:110::80:14\n",
            "Connecting to www.cl.cam.ac.uk (www.cl.cam.ac.uk)|128.232.0.20|:443... connected.\n",
            "HTTP request sent, awaiting response... 200 OK\n",
            "Length: 6120469 (5.8M) [application/x-gzip]\n",
            "Saving to: ‘bea19.tar.gz’\n",
            "\n",
            "bea19.tar.gz        100%[===================>]   5.84M  8.68MB/s    in 0.7s    \n",
            "\n",
            "2021-04-03 17:46:59 (8.68 MB/s) - ‘bea19.tar.gz’ saved [6120469/6120469]\n",
            "\n"
          ],
          "name": "stdout"
        }
      ]
    },
    {
      "cell_type": "code",
      "metadata": {
        "id": "-LUgvxrIKCBh"
      },
      "source": [
        "!tar -xf bea19.tar.gz"
      ],
      "execution_count": 3,
      "outputs": []
    },
    {
      "cell_type": "code",
      "metadata": {
        "id": "XQrQFraf2RtV"
      },
      "source": [
        "path = 'wi+locness/m2/C.dev.gold.bea19.m2'"
      ],
      "execution_count": 30,
      "outputs": []
    },
    {
      "cell_type": "code",
      "metadata": {
        "id": "oI2qYFMg2Wy7"
      },
      "source": [
        "with open(path) as f:\n",
        "    dat = f.readlines()"
      ],
      "execution_count": 31,
      "outputs": []
    },
    {
      "cell_type": "code",
      "metadata": {
        "id": "jdDgJYSx2cKF",
        "outputId": "265635f3-e095-4f54-9592-0a5ce2fc05d3",
        "colab": {
          "base_uri": "https://localhost:8080/"
        }
      },
      "source": [
        "dat[:20]"
      ],
      "execution_count": 34,
      "outputs": [
        {
          "output_type": "execute_result",
          "data": {
            "text/plain": [
              "['S Dear Mrs. Ashby ,\\n',\n",
              " 'A -1 -1|||noop|||-NONE-|||REQUIRED|||-NONE-|||0\\n',\n",
              " '\\n',\n",
              " 'S Yesterday I was in Green Pepper Cafe for a meal with colleagues and I have seen the advertisement for a job at weekends in your cafe .\\n',\n",
              " 'A 14 16|||R:VERB:TENSE|||saw|||REQUIRED|||-NONE-|||0\\n',\n",
              " '\\n',\n",
              " 'S I am very interested in this work and believe that my employment background is appropriate for it .\\n',\n",
              " 'A -1 -1|||noop|||-NONE-|||REQUIRED|||-NONE-|||0\\n',\n",
              " '\\n',\n",
              " 'S I am a Tourism student and I need to work at weekends to pay my studies .\\n',\n",
              " 'A 14 14|||M:PREP|||for|||REQUIRED|||-NONE-|||0\\n',\n",
              " '\\n',\n",
              " \"S I have worked one year in London as waiter in Hard Rock Cafe and 6 months as waiter also in Barcomi 's Cafe in Berlin .\\n\",\n",
              " 'A 3 3|||M:PREP|||for|||REQUIRED|||-NONE-|||0\\n',\n",
              " 'A 8 8|||M:DET|||a|||REQUIRED|||-NONE-|||0\\n',\n",
              " 'A 10 10|||M:DET|||the|||REQUIRED|||-NONE-|||0\\n',\n",
              " 'A 17 17|||M:DET|||a|||REQUIRED|||-NONE-|||0\\n',\n",
              " '\\n',\n",
              " 'S So I have experience in service , costumer care and working long hours .\\n',\n",
              " 'A 4 5|||R:PREP|||of|||REQUIRED|||-NONE-|||0\\n']"
            ]
          },
          "metadata": {
            "tags": []
          },
          "execution_count": 34
        }
      ]
    },
    {
      "cell_type": "code",
      "metadata": {
        "id": "S6eujbm3eeMw"
      },
      "source": [
        "import json"
      ],
      "execution_count": 27,
      "outputs": []
    },
    {
      "cell_type": "code",
      "metadata": {
        "id": "DJbHbQNSal8f"
      },
      "source": [
        "path = 'wi+locness/json/C.dev.json'"
      ],
      "execution_count": 24,
      "outputs": []
    },
    {
      "cell_type": "code",
      "metadata": {
        "id": "zhtK8Vl8avGS"
      },
      "source": [
        "with open(path) as f:\n",
        "  data = f.readlines()"
      ],
      "execution_count": 25,
      "outputs": []
    },
    {
      "cell_type": "code",
      "metadata": {
        "id": "R3nYYGNR2uPf",
        "outputId": "425a29eb-92e9-436a-c5f2-062d8c60806f",
        "colab": {
          "base_uri": "https://localhost:8080/"
        }
      },
      "source": [
        "data[0]"
      ],
      "execution_count": 29,
      "outputs": [
        {
          "output_type": "execute_result",
          "data": {
            "text/plain": [
              "{'cefr': 'C2.ii',\n",
              " 'edits': [[0,\n",
              "   [[89, 98, 'saw'],\n",
              "    [316, 316, ' for'],\n",
              "    [343, 343, ' for'],\n",
              "    [365, 365, ' a'],\n",
              "    [375, 375, ' the'],\n",
              "    [406, 406, ' a'],\n",
              "    [469, 471, 'of'],\n",
              "    [523, 527, 'know'],\n",
              "    [589, 594, 'chips']]]],\n",
              " 'id': '1-169309',\n",
              " 'text': 'Dear Mrs. Ashby, \\n\\nYesterday I was in Green Pepper Cafe for a meal with colleagues and I have seen the advertisement for a job at weekends in your cafe. \\n\\nI am very interested in this work and believe that my employment background is appropriate for it. \\n\\nI am a Tourism student and I need to work at weekends to pay my studies. \\nI have worked one year in London as waiter in Hard Rock Cafe and 6 months as waiter also in Barcomi’s Cafe in Berlin. So I have experience in service, costumer care and working long hours. \\n\\nI Know how to prepare different kinds of food: sandwiches, fish and fries, hamburgers, Italian pasta, etc \\n\\nI am also very good at dealing with people, I have never had a complaint sheet!\\n\\nI have total availability at weekends and also in summer. \\n\\nI speak Spanish, English and German. \\n\\nPlease, find attached a copy of my CV, which expands on my experience and achievements. \\n\\nI am looking forward to talking with you about the possibility of working in this position. I am available to do an interview when it is convenient for you.\\n\\nThank you for your time and consideration. \\n\\n\\n\\nYours Sincerely, \\n\\n\\n\\nMaría Luisa Castaneda del Acuna\\n',\n",
              " 'userid': '24796'}"
            ]
          },
          "metadata": {
            "tags": []
          },
          "execution_count": 29
        }
      ]
    },
    {
      "cell_type": "code",
      "metadata": {
        "id": "1M5G849Nl_Us"
      },
      "source": [
        "data = list(map(json.loads, data))"
      ],
      "execution_count": 28,
      "outputs": []
    },
    {
      "cell_type": "code",
      "metadata": {
        "colab": {
          "base_uri": "https://localhost:8080/"
        },
        "id": "t-7VB6VgmFiB",
        "outputId": "49961f0a-a265-455f-ba30-fb9086f22af4"
      },
      "source": [
        "len(data)"
      ],
      "execution_count": null,
      "outputs": [
        {
          "output_type": "execute_result",
          "data": {
            "text/plain": [
              "50"
            ]
          },
          "metadata": {
            "tags": []
          },
          "execution_count": 96
        }
      ]
    },
    {
      "cell_type": "code",
      "metadata": {
        "colab": {
          "base_uri": "https://localhost:8080/",
          "height": 35
        },
        "id": "rkXTiWi2fLuS",
        "outputId": "9cd3b654-57b0-47ea-ff95-ac1e434374d5"
      },
      "source": [
        "data[2]['text'][2766:2777]"
      ],
      "execution_count": null,
      "outputs": [
        {
          "output_type": "execute_result",
          "data": {
            "application/vnd.google.colaboratory.intrinsic+json": {
              "type": "string"
            },
            "text/plain": [
              "'her despite'"
            ]
          },
          "metadata": {
            "tags": []
          },
          "execution_count": 40
        }
      ]
    },
    {
      "cell_type": "code",
      "metadata": {
        "colab": {
          "base_uri": "https://localhost:8080/"
        },
        "id": "VNZ-DQa7gahe",
        "outputId": "71bd0863-6b31-4f4e-bbc8-c4f8d2fa4f86"
      },
      "source": [
        "# [0][1] used to parse the location of edits and corrections\n",
        "data[2]['edits'][0][1]"
      ],
      "execution_count": null,
      "outputs": [
        {
          "output_type": "execute_result",
          "data": {
            "text/plain": [
              "[[154, 154, ' any'],\n",
              " [155, 164, 'occurrence'],\n",
              " [254, 254, ','],\n",
              " [414, 414, ','],\n",
              " [490, 490, ','],\n",
              " [576, 576, ','],\n",
              " [672, 672, ','],\n",
              " [682, 690, '. Because'],\n",
              " [706, 706, ','],\n",
              " [798, 809, \"sweetheart's\"],\n",
              " [830, 834, 'shows'],\n",
              " [988, 989, ';'],\n",
              " [1112, 1115, ''],\n",
              " [1284, 1284, ','],\n",
              " [1655, 1655, ','],\n",
              " [1807, 1807, ','],\n",
              " [1849, 1853, 'led'],\n",
              " [1859, 1862, 'from'],\n",
              " [1877, 1877, ','],\n",
              " [1902, 1902, ','],\n",
              " [2373, 2380, 'leaves -'],\n",
              " [2442, 2445, 'that'],\n",
              " [2511, 2511, ','],\n",
              " [2598, 2602, 'grows'],\n",
              " [2766, 2777, 'he. Despite'],\n",
              " [2830, 2830, ','],\n",
              " [2989, 2989, ',']]"
            ]
          },
          "metadata": {
            "tags": []
          },
          "execution_count": 41
        }
      ]
    },
    {
      "cell_type": "code",
      "metadata": {
        "id": "K0nRiVgpmbCx"
      },
      "source": [
        "import numpy as np\n",
        "\n",
        "def edit_paragraph(paragraph, start, end, correction):\n",
        "    return paragraph[:start] + correction + paragraph[end:]\n",
        "\n",
        "def update_index_BEA(paragraph, edits):\n",
        "    '''\n",
        "    paragraph: 원문\n",
        "    edits: edits from BEA_2019\n",
        "    '''\n",
        "    raw_words = []\n",
        "    corrections = []\n",
        "\n",
        "    # 1. detect all the words at offset values in the paragraph / O(offset)\n",
        "    for edit in edits:\n",
        "        raw_words.append(paragraph[edit[0]:edit[1]])\n",
        "        # make corrections\n",
        "        corrections.append(edit[2])\n",
        "\n",
        "    # 2. compare length change between the detected words and corrections (map is faster than list comprehension when it doesn't use lambda) / O(offset)\n",
        "    adjusted = np.array(list(map(len, corrections))) - np.array(list(map(len, raw_words)))\n",
        "\n",
        "    # cumulate adjusted values / O(offset)\n",
        "    for i in range(1, len(adjusted)):\n",
        "        adjusted[i] += adjusted[i-1]\n",
        "    \n",
        "    # 3. adjust the index sequentially / O(offset)\n",
        "    for i in range(1, len(edits)):\n",
        "        edits[i][0] += adjusted[i-1]\n",
        "        edits[i][1] += adjusted[i-1]\n",
        "\n",
        "    return corrections"
      ],
      "execution_count": null,
      "outputs": []
    },
    {
      "cell_type": "code",
      "metadata": {
        "id": "Cpqd2W7NZzhX"
      },
      "source": [
        "raw_words = []\n",
        "corrections = []\n",
        "for edit in edits:\n",
        "    raw_words.append(data[9]['text'][edit[0]:edit[1]])\n",
        "    corrections.append(edit[2])"
      ],
      "execution_count": null,
      "outputs": []
    },
    {
      "cell_type": "code",
      "metadata": {
        "id": "bNyIp83IjgFX",
        "colab": {
          "base_uri": "https://localhost:8080/",
          "height": 280
        },
        "outputId": "f39057d7-2af0-4520-e13a-0939546b8105"
      },
      "source": [
        "data[9]['text']"
      ],
      "execution_count": null,
      "outputs": [
        {
          "output_type": "execute_result",
          "data": {
            "application/vnd.google.colaboratory.intrinsic+json": {
              "type": "string"
            },
            "text/plain": [
              "\"On Britains roads there is an ever increasing volume of traffic. The road network is no longer able to carry this traffic without hold-ups and traffic jams.. To remedy this the government has started adding a fourth lane on some streches of our motorways and constructing ring roads and bypasses, with mixed reception. While the road system is being improoved there seems to be an endless series of roadworks which restrict the highways and cause further delay while the roadworks are in place. The inability to cope with the ammount of traffic by the road system obviously increases the risk of drives having an accident and the drivers have to be constantly alert as they are nearly always in capacity traffic. It might seem an easy soloution to this  mayhem would be to use public transport; i.e. the Railways. People are not taking to the Rail system because of its lack of integration due to the recent privitisation of different areas. It has been shown that different companies charge different fares for exactly the same route! The main disadvantage with the railways is as the rail service and the bus service are normally owned by different companies it is probable that it is not possible to walk onto a bus off the train. If the services were integrated there would be a bus time table which coincided with the train arrival times. Then people would be more likely to catch the train as they would not have to look forwards to a long walk, wait for a bos or an expensive taxi ride.\\nMy soloution to the problem would be to improve the rail system and its related bus services, this would get people of the roads and onto the trains. To improove the rail service trains have got to be timed to arrive and depart at key times i.e. arrive at eight o'clock and leave at half past six. The train and bus companies have to liase with each other and the train fares have to remain relatively cheap i.e. the same price or less as it would cost to go by car.\""
            ]
          },
          "metadata": {
            "tags": []
          },
          "execution_count": 81
        }
      ]
    },
    {
      "cell_type": "code",
      "metadata": {
        "id": "oC9bwmCOjamz",
        "colab": {
          "base_uri": "https://localhost:8080/",
          "height": 35
        },
        "outputId": "0c9ee3dc-01ca-4c72-a57a-38eb2f05d130"
      },
      "source": [
        "data[9]['text'][1422:1438]"
      ],
      "execution_count": null,
      "outputs": [
        {
          "output_type": "execute_result",
          "data": {
            "application/vnd.google.colaboratory.intrinsic+json": {
              "type": "string"
            },
            "text/plain": [
              "'look forwards to'"
            ]
          },
          "metadata": {
            "tags": []
          },
          "execution_count": 83
        }
      ]
    },
    {
      "cell_type": "code",
      "metadata": {
        "id": "V1ornAopi2oF",
        "colab": {
          "base_uri": "https://localhost:8080/"
        },
        "outputId": "656eaa5b-080d-4f2c-d038-1ac6aec8751f"
      },
      "source": [
        "corrections"
      ],
      "execution_count": null,
      "outputs": [
        {
          "output_type": "execute_result",
          "data": {
            "text/plain": [
              "[\"Britain's\",\n",
              " '-',\n",
              " '',\n",
              " ',',\n",
              " 'stretches',\n",
              " 'improved,',\n",
              " 'delays',\n",
              " 'amount',\n",
              " 'on the part of',\n",
              " 'drivers',\n",
              " None,\n",
              " 'solution',\n",
              " 'railways',\n",
              " 'rail',\n",
              " 'privatisation',\n",
              " ',',\n",
              " ',',\n",
              " ',',\n",
              " 'timetable',\n",
              " ',',\n",
              " None,\n",
              " 'bus',\n",
              " ' pay for',\n",
              " 'solution',\n",
              " '. This',\n",
              " 'off',\n",
              " 'improve',\n",
              " ',',\n",
              " ',',\n",
              " 'liaise',\n",
              " ',',\n",
              " ' as',\n",
              " 'than']"
            ]
          },
          "metadata": {
            "tags": []
          },
          "execution_count": 78
        }
      ]
    },
    {
      "cell_type": "code",
      "metadata": {
        "id": "tI1xI5ThnESe",
        "colab": {
          "base_uri": "https://localhost:8080/"
        },
        "outputId": "cb8ed78d-5257-44bf-de00-54df902f622d"
      },
      "source": [
        "[edit for edit in edits if edit[2] != None]"
      ],
      "execution_count": null,
      "outputs": [
        {
          "output_type": "execute_result",
          "data": {
            "text/plain": [
              "[[3, 11, \"Britain's\"],\n",
              " [34, 35, '-'],\n",
              " [156, 157, ''],\n",
              " [172, 172, ','],\n",
              " [229, 237, 'stretches'],\n",
              " [350, 359, 'improved,'],\n",
              " [455, 460, 'delays'],\n",
              " [526, 533, 'amount'],\n",
              " [545, 547, 'on the part of'],\n",
              " [596, 602, 'drivers'],\n",
              " [735, 744, 'solution'],\n",
              " [804, 812, 'railways'],\n",
              " [843, 847, 'rail'],\n",
              " [908, 921, 'privatisation'],\n",
              " [1078, 1078, ','],\n",
              " [1160, 1160, ','],\n",
              " [1265, 1265, ','],\n",
              " [1287, 1297, 'timetable'],\n",
              " [1395, 1395, ','],\n",
              " [1463, 1466, 'bus'],\n",
              " [1469, 1469, ' pay for'],\n",
              " [1497, 1506, 'solution'],\n",
              " [1586, 1592, '. This'],\n",
              " [1610, 1612, 'off'],\n",
              " [1647, 1655, 'improve'],\n",
              " [1672, 1672, ','],\n",
              " [1734, 1734, ','],\n",
              " [1828, 1833, 'liaise'],\n",
              " [1901, 1901, ','],\n",
              " [1921, 1921, ' as'],\n",
              " [1930, 1932, 'than']]"
            ]
          },
          "metadata": {
            "tags": []
          },
          "execution_count": 90
        }
      ]
    },
    {
      "cell_type": "code",
      "metadata": {
        "colab": {
          "base_uri": "https://localhost:8080/",
          "height": 360
        },
        "id": "3uB1NK1Pax-l",
        "outputId": "b7ff3dcf-3bd9-4b91-b302-27600ca49892"
      },
      "source": [
        "edits = data[9]['edits'][0][1]\n",
        "\n",
        "corrections = update_index_BEA(data[9]['text'], edits)\n",
        "\n",
        "edits"
      ],
      "execution_count": null,
      "outputs": [
        {
          "output_type": "error",
          "ename": "TypeError",
          "evalue": "ignored",
          "traceback": [
            "\u001b[0;31m---------------------------------------------------------------------------\u001b[0m",
            "\u001b[0;31mTypeError\u001b[0m                                 Traceback (most recent call last)",
            "\u001b[0;32m<ipython-input-88-5d126dfc201c>\u001b[0m in \u001b[0;36m<module>\u001b[0;34m()\u001b[0m\n\u001b[1;32m      1\u001b[0m \u001b[0medits\u001b[0m \u001b[0;34m=\u001b[0m \u001b[0mdata\u001b[0m\u001b[0;34m[\u001b[0m\u001b[0;36m9\u001b[0m\u001b[0;34m]\u001b[0m\u001b[0;34m[\u001b[0m\u001b[0;34m'edits'\u001b[0m\u001b[0;34m]\u001b[0m\u001b[0;34m[\u001b[0m\u001b[0;36m0\u001b[0m\u001b[0;34m]\u001b[0m\u001b[0;34m[\u001b[0m\u001b[0;36m1\u001b[0m\u001b[0;34m]\u001b[0m\u001b[0;34m\u001b[0m\u001b[0;34m\u001b[0m\u001b[0m\n\u001b[1;32m      2\u001b[0m \u001b[0;34m\u001b[0m\u001b[0m\n\u001b[0;32m----> 3\u001b[0;31m \u001b[0mcorrections\u001b[0m \u001b[0;34m=\u001b[0m \u001b[0mupdate_index_BEA\u001b[0m\u001b[0;34m(\u001b[0m\u001b[0mdata\u001b[0m\u001b[0;34m[\u001b[0m\u001b[0;36m9\u001b[0m\u001b[0;34m]\u001b[0m\u001b[0;34m[\u001b[0m\u001b[0;34m'text'\u001b[0m\u001b[0;34m]\u001b[0m\u001b[0;34m,\u001b[0m \u001b[0medits\u001b[0m\u001b[0;34m)\u001b[0m\u001b[0;34m\u001b[0m\u001b[0;34m\u001b[0m\u001b[0m\n\u001b[0m\u001b[1;32m      4\u001b[0m \u001b[0;34m\u001b[0m\u001b[0m\n\u001b[1;32m      5\u001b[0m \u001b[0medits\u001b[0m\u001b[0;34m\u001b[0m\u001b[0;34m\u001b[0m\u001b[0m\n",
            "\u001b[0;32m<ipython-input-69-2240cc096780>\u001b[0m in \u001b[0;36mupdate_index_BEA\u001b[0;34m(paragraph, edits)\u001b[0m\n\u001b[1;32m     19\u001b[0m \u001b[0;34m\u001b[0m\u001b[0m\n\u001b[1;32m     20\u001b[0m     \u001b[0;31m# 2. compare length change between the detected words and corrections (map is faster than list comprehension when it doesn't use lambda) / O(offset)\u001b[0m\u001b[0;34m\u001b[0m\u001b[0;34m\u001b[0m\u001b[0;34m\u001b[0m\u001b[0m\n\u001b[0;32m---> 21\u001b[0;31m     \u001b[0madjusted\u001b[0m \u001b[0;34m=\u001b[0m \u001b[0mnp\u001b[0m\u001b[0;34m.\u001b[0m\u001b[0marray\u001b[0m\u001b[0;34m(\u001b[0m\u001b[0mlist\u001b[0m\u001b[0;34m(\u001b[0m\u001b[0mmap\u001b[0m\u001b[0;34m(\u001b[0m\u001b[0mlen\u001b[0m\u001b[0;34m,\u001b[0m \u001b[0mcorrections\u001b[0m\u001b[0;34m)\u001b[0m\u001b[0;34m)\u001b[0m\u001b[0;34m)\u001b[0m \u001b[0;34m-\u001b[0m \u001b[0mnp\u001b[0m\u001b[0;34m.\u001b[0m\u001b[0marray\u001b[0m\u001b[0;34m(\u001b[0m\u001b[0mlist\u001b[0m\u001b[0;34m(\u001b[0m\u001b[0mmap\u001b[0m\u001b[0;34m(\u001b[0m\u001b[0mlen\u001b[0m\u001b[0;34m,\u001b[0m \u001b[0mraw_words\u001b[0m\u001b[0;34m)\u001b[0m\u001b[0;34m)\u001b[0m\u001b[0;34m)\u001b[0m\u001b[0;34m\u001b[0m\u001b[0;34m\u001b[0m\u001b[0m\n\u001b[0m\u001b[1;32m     22\u001b[0m \u001b[0;34m\u001b[0m\u001b[0m\n\u001b[1;32m     23\u001b[0m     \u001b[0;31m# cumulate adjusted values / O(offset)\u001b[0m\u001b[0;34m\u001b[0m\u001b[0;34m\u001b[0m\u001b[0;34m\u001b[0m\u001b[0m\n",
            "\u001b[0;31mTypeError\u001b[0m: object of type 'NoneType' has no len()"
          ]
        }
      ]
    },
    {
      "cell_type": "code",
      "metadata": {
        "id": "oHuMLnPHifYC",
        "colab": {
          "base_uri": "https://localhost:8080/"
        },
        "outputId": "797bd97b-4ceb-4f9f-ca49-2b7c161fba74"
      },
      "source": [
        "edits"
      ],
      "execution_count": null,
      "outputs": [
        {
          "output_type": "execute_result",
          "data": {
            "text/plain": [
              "[[3, 11, \"Britain's\"],\n",
              " [34, 35, '-'],\n",
              " [156, 157, ''],\n",
              " [172, 172, ','],\n",
              " [229, 237, 'stretches'],\n",
              " [350, 359, 'improved,'],\n",
              " [455, 460, 'delays'],\n",
              " [526, 533, 'amount'],\n",
              " [545, 547, 'on the part of'],\n",
              " [596, 602, 'drivers'],\n",
              " [695, 703, None],\n",
              " [735, 744, 'solution'],\n",
              " [804, 812, 'railways'],\n",
              " [843, 847, 'rail'],\n",
              " [908, 921, 'privatisation'],\n",
              " [1078, 1078, ','],\n",
              " [1160, 1160, ','],\n",
              " [1265, 1265, ','],\n",
              " [1287, 1297, 'timetable'],\n",
              " [1395, 1395, ','],\n",
              " [1422, 1438, None],\n",
              " [1463, 1466, 'bus'],\n",
              " [1469, 1469, ' pay for'],\n",
              " [1497, 1506, 'solution'],\n",
              " [1586, 1592, '. This'],\n",
              " [1610, 1612, 'off'],\n",
              " [1647, 1655, 'improve'],\n",
              " [1672, 1672, ','],\n",
              " [1734, 1734, ','],\n",
              " [1828, 1833, 'liaise'],\n",
              " [1901, 1901, ','],\n",
              " [1921, 1921, ' as'],\n",
              " [1930, 1932, 'than']]"
            ]
          },
          "metadata": {
            "tags": []
          },
          "execution_count": 68
        }
      ]
    },
    {
      "cell_type": "code",
      "metadata": {
        "id": "Ss8zpkmbaGyf"
      },
      "source": [
        ""
      ],
      "execution_count": null,
      "outputs": []
    },
    {
      "cell_type": "code",
      "metadata": {
        "id": "8-yFhL84Y4Qw"
      },
      "source": [
        "para = data[2]['text']\n",
        "\n",
        "for edit_idx, edit in enumerate(edits):\n",
        "    para = edit_paragraph(para, edit[0], edit[1], corrections[edit_idx])\n"
      ],
      "execution_count": null,
      "outputs": []
    },
    {
      "cell_type": "code",
      "metadata": {
        "colab": {
          "base_uri": "https://localhost:8080/",
          "height": 332
        },
        "id": "XfvmUagMZcFE",
        "outputId": "868b57bd-3096-4169-bc98-285ca28e8ad3"
      },
      "source": [
        "data[2]['text']"
      ],
      "execution_count": null,
      "outputs": [
        {
          "output_type": "execute_result",
          "data": {
            "application/vnd.google.colaboratory.intrinsic+json": {
              "type": "string"
            },
            "text/plain": [
              "\"How does Voltaire tackle the question of philosophical optimism in 'Candide'?\\n\\n\\tPhilosophical optimism -l'optimisme- is the philosophy that everything and occurence is for some good. Voltaire sets out in Candide to criticise this philosophy.\\n\\n\\tIn Candide the representative of this philosophy is Pangloss, the philosopher employed at Thunder-der-Troncks.\\n\\n\\tThe whole book is a criticism of l'optimisme. For example when Candide is forced to join the Bulgar army he is beaten almost to death but Candide does not concern himself because he know it is for his own good - in fact later in the book he uses his training to become a soldier. Although this would seem to be good it is not because of his training he kills two men, a Jew and an Archbishop with no hesitation and then proceeds to kill his sweethearts brother.\\n\\n\\tVoltaire show his dislike of l'optimisme when Pangloss, Candide and James are caught in a bad storm at sea in which James is drowned and there are only three survivors, Candide, Pangloss and a sailor. The storm was caused by an earthquake which destroys the city to which Candide was sailing to. On arrival they see starvation and death. Candide is obviously horrified, especially when the sailor begins pillaging the city. Candide looks to Pangloss for an answer but Pangloss can only tell him that some good will come of it.\\n\\n\\tCandide, although remaining true to the ideals of optimism, always appears to be sceptical of it. This is no more true than when he arrives in the new world, South America, and has to leave his darling Cunégonde with the Commissioner of the province. Candide cannot see what possible good can come of this especially as the reason that he was in America was due to him killing the Jew and Archbishop because they were Cunégonde's lovers. Throughout the book we begin to see how Candide is gradually lead away for l'optimisme or perhaps more importantly how l'optimisme is shown to be the philosophy of despair. The constant belief that good can come from bad is not actually inspiring but leads to a constant flow of disasters.\\n\\n\\tCandide's life, in the book, appears to show this. He is thrown out of Thunder-den-Tronck because he embraces Cunégonde, he is duped into the army, he is caught in an earthquake, he is almost killed as part of an auto-da-fé, he kills three churchmen, he is almost eaten, he finds Eldorado but leaves- the list continues. Candide's life is governed by his belief the good will prevail. Eventually, of course, he does marry Cunégonde but she is not the beautiful young flower that he once loved. She has become ugly and grew worse by the day. This illustrates emphatically the folly of l'optimisme. Candide has travelled the world in search of Cunégonde, with the hope that he will marry her despite all the trouble which he has gone through, of course in the end he does get Cunégonde but at the price of her looks and personality.\\n\\n\\tVoltaire, in Candide, shows how the philosophy of Optimism is one of despair not hope.\""
            ]
          },
          "metadata": {
            "tags": []
          },
          "execution_count": 47
        }
      ]
    },
    {
      "cell_type": "code",
      "metadata": {
        "colab": {
          "base_uri": "https://localhost:8080/",
          "height": 332
        },
        "id": "Lcn23S-2YscR",
        "outputId": "765cf6db-7bd2-40ae-da63-45284bb43deb"
      },
      "source": [
        "' '.join(para.split('\\n\\n\\t'))"
      ],
      "execution_count": null,
      "outputs": [
        {
          "output_type": "execute_result",
          "data": {
            "application/vnd.google.colaboratory.intrinsic+json": {
              "type": "string"
            },
            "text/plain": [
              "\"How does Voltaire tackle the question of philosophical optimism in 'Candide'? Philosophical optimism -l'optimisme- is the philosophy that everything and any occurrence is for some good. Voltaire sets out in Candide to criticise this philosophy. In Candide, the representative of this philosophy is Pangloss, the philosopher employed at Thunder-der-Troncks. The whole book is a criticism of l'optimisme. For example, when Candide is forced to join the Bulgar army he is beaten almost to death, but Candide does not concern himself because he know it is for his own good - in fact, later in the book he uses his training to become a soldier. Although this would seem to be good, it is not. Because of his training, he kills two men, a Jew and an Archbishop with no hesitation and then proceeds to kill his sweetheart's brother. Voltaire shows his dislike of l'optimisme when Pangloss, Candide and James are caught in a bad storm at sea in which James is drowned and there are only three survivors; Candide, Pangloss and a sailor. The storm was caused by an earthquake which destroys the city to which Candide was sailing. On arrival they see starvation and death. Candide is obviously horrified, especially when the sailor begins pillaging the city. Candide looks to Pangloss for an answer, but Pangloss can only tell him that some good will come of it. Candide, although remaining true to the ideals of optimism, always appears to be sceptical of it. This is no more true than when he arrives in the new world, South America, and has to leave his darling Cunégonde with the Commissioner of the province. Candide cannot see what possible good can come of this, especially as the reason that he was in America was due to him killing the Jew and Archbishop because they were Cunégonde's lovers. Throughout the book, we begin to see how Candide is gradually led away from l'optimisme or, perhaps more importantly, how l'optimisme is shown to be the philosophy of despair. The constant belief that good can come from bad is not actually inspiring but leads to a constant flow of disasters. Candide's life, in the book, appears to show this. He is thrown out of Thunder-den-Tronck because he embraces Cunégonde, he is duped into the army, he is caught in an earthquake, he is almost killed as part of an auto-da-fé, he kills three churchmen, he is almost eaten, he finds Eldorado but leaves - the list continues. Candide's life is governed by his belief that good will prevail. Eventually, of course, he does marry Cunégonde, but she is not the beautiful young flower that he once loved. She has become ugly and grows worse by the day. This illustrates emphatically the folly of l'optimisme. Candide has travelled the world in search of Cunégonde, with the hope that he will marry he. Despite all the trouble which he has gone through, of course, in the end he does get Cunégonde but at the price of her looks and personality. Voltaire, in Candide, shows how the philosophy of Optimism is one of despair, not hope.\""
            ]
          },
          "metadata": {
            "tags": []
          },
          "execution_count": 50
        }
      ]
    },
    {
      "cell_type": "code",
      "metadata": {
        "colab": {
          "base_uri": "https://localhost:8080/"
        },
        "id": "M6VO_xw3fJKH",
        "outputId": "5333b40d-61cb-4735-fd1d-f8ea9e3deeed"
      },
      "source": [
        "len(data)"
      ],
      "execution_count": null,
      "outputs": [
        {
          "output_type": "execute_result",
          "data": {
            "text/plain": [
              "50"
            ]
          },
          "metadata": {
            "tags": []
          },
          "execution_count": 51
        }
      ]
    },
    {
      "cell_type": "code",
      "metadata": {
        "colab": {
          "base_uri": "https://localhost:8080/",
          "height": 123
        },
        "id": "iCi6qjZGflsV",
        "outputId": "4106b0fa-8f6d-457c-c568-80f5b1ef8aef"
      },
      "source": [
        "data[0]['text']"
      ],
      "execution_count": null,
      "outputs": [
        {
          "output_type": "execute_result",
          "data": {
            "application/vnd.google.colaboratory.intrinsic+json": {
              "type": "string"
            },
            "text/plain": [
              "'Boxing is a common, well known and well loved sport amongst most countries in the world however it is also punishing, dangerous and disliked to the extent that many people want it banned, possibly with good reason.\\nBoxing is a dangerous sport, there are relatively common deaths, tragic injuries and even disease. All professional boxers are at risk from being killed in his next fight. If not killed then more likely paralysed. There have been a number of cases in the last ten years of the top few boxers having tragic losses throughout their ranks. This is just from the elite few, and theres more from those below them.\\nMore deaths would occur through boxing if it were banned. The sport would go underground, there would be no safety measures like gloves, a doctor, paramedics or early stopping of the fight if someone looked unable to continue. With this going on the people taking part will be dangerous, and on the streets. Dangerous dogs who were trained to kill and maim in similar underound dog fights have already proved deadly to innocent people, the new boxers could be even more at risk.\\nOnce boxing is banned and no-one grows up knowing it as acceptable there will be no interest in boxing and hopefully less all round interest in violence making towns and cities much safer places to live in, there will be less fighting outside pubs and clubs and less violent attacks with little or no reason.\\nchange the rules of boxing slightly would much improve the safety risks of the sport and not detract form the entertainment. There are all sorts of proposals, lighter and more cushioning gloves could be worn, ban punches to the head, headguards worn or make fights shorter, as most of the serious injuries occur in the latter rounds, these would all show off the boxers skill and tallent and still be entertaining to watch.\\nEven if a boxer is a success and manages not to be seriously hurt he still faces serious consequences in later life diseases that attack the brains have been known to set in as a direct result of boxing, even Muhamed Ali, who was infamous(?) both for his boxing and his quick-witted intelligence now has Alzheimer disease and can no longer do many everyday acts.\\nMany other sports are more dangerous than boxing, motor sports and even mountaineering has risks that are real. Boxers chose to box, just as racing drivers drive.'"
            ]
          },
          "metadata": {
            "tags": []
          },
          "execution_count": 53
        }
      ]
    },
    {
      "cell_type": "code",
      "metadata": {
        "id": "DGgnO7kvh_LT"
      },
      "source": [
        "from tqdm import tqdm"
      ],
      "execution_count": null,
      "outputs": []
    },
    {
      "cell_type": "code",
      "metadata": {
        "id": "TBvg38QqfFsl"
      },
      "source": [
        "corrected_essays = []\n",
        "\n",
        "for doc in tqdm(data):\n",
        "    \n",
        "    # extract paragraphs\n",
        "    essay = doc['text']\n",
        "\n",
        "    # paragraph 별로 수정 진행\n",
        "    # make list that contains offset values\n",
        "\n",
        "    edits = doc['edits'][0][1]\n",
        "    edits = [edit for edit in edits if edit[2] != None]\n",
        "    corrections = update_index_BEA(essay, edits)    \n",
        "\n",
        "    for edit_idx, edit in enumerate(edits):\n",
        "        essay = edit_paragraph(essay, edit[0], edit[1], corrections[edit_idx])\n",
        "\n",
        "    corrected_essays.append(' '.join(essay.split('\\n\\n\\t')))"
      ],
      "execution_count": null,
      "outputs": []
    },
    {
      "cell_type": "code",
      "metadata": {
        "id": "i8kcW7znoDD0",
        "colab": {
          "base_uri": "https://localhost:8080/",
          "height": 315
        },
        "outputId": "efe6086b-86f9-4d4b-cf19-b3c16ea69dc9"
      },
      "source": [
        "data[49]['text']"
      ],
      "execution_count": null,
      "outputs": [
        {
          "output_type": "execute_result",
          "data": {
            "application/vnd.google.colaboratory.intrinsic+json": {
              "type": "string"
            },
            "text/plain": [
              "'Violence on television can be seen throughout the many channels that cable has to offer.  With an average national TV viewing time of 7 1/4 hours daily, the prevalence of violence in broadcasts is a serious concern.  Television programming in the United States is considered the most violent in advanced industrialized nations (Hepburn 1).  Many children watch violent tv shows because the action thrills them and can sometimes cause the child to become violent.  Violence is common in TV entertainment-- the dramas that portray stories about crime, psychotic murderers, police cases, emergency services, international terrorism, and war (Hepburn 1).  Television violence is prevalent in the United States and some people disagree with its effects on children.\\nThe V-chip is an electrical device that blocks out violent television shows.  Some people, such as the Senate Commerce Committee, are not satisfied with it.  The Senate Commerce Committee approved bills creating a partial ban on TV violence and a so-called report card that would identify stations carrying violent programming and the advertisers sponsoring it.  The bills would apply to broadcasting and cable (Stern 1).\\nSome of the proposals to antiviolence are as follows: the Senate V-chip, the House V-chip, a Technology Fund, a Violence Safe Harbor, and a Violence Report Card.  These proposals could work if Congress had some support.  The National Association of Broadcasters accused the Senate of \"piling on a stream of proposals to build up an unprecedented federal censorship bureaucracy\".  The NAB also insisted that broadcasters already have responded to concerns over violence on television (Stern 1).\\nSome television shows show violence because it appeals to adult viewers.  If a certain plot involves a murder, then the murder must happen.  Some people may not want the actual murder to be shown, but that is up to whomever is writing the television show.  Many made for television movies say that it may contain violent scenes and that viewer discretion is advised, but how many parents actually watch television with their teenager?\\nAn exhaustive examination of the broadcast networks\\' programming during the 1995-1995 season has concluded that sinister combat violence\\' pervades a significant number of Saturday-morning cartoons (Jensen 1).  How much violence is there? The most violent cartoons are \\'Teenage Mutant Ninja Turtles\\', \\'Spider Man\\', and some \\'Bugs Bunny\\' episodes with Elmer Fudd.  As for the shows containing sinister combat violence, well that is strictly up to the viewer to decide.\\nThe cause for television violence is to add texture to the show and not to poison children\\'s minds.  The infamous V-chip may stop some shows from being shown to children, but one day that child will see violence and they will have to deal with it, rationally or not.'"
            ]
          },
          "metadata": {
            "tags": []
          },
          "execution_count": 110
        }
      ]
    },
    {
      "cell_type": "code",
      "metadata": {
        "id": "6zmMnuXHnmKB",
        "colab": {
          "base_uri": "https://localhost:8080/",
          "height": 315
        },
        "outputId": "0442434d-3935-4fe8-a17a-367369b2150f"
      },
      "source": [
        "corrected_essays[49]"
      ],
      "execution_count": null,
      "outputs": [
        {
          "output_type": "execute_result",
          "data": {
            "application/vnd.google.colaboratory.intrinsic+json": {
              "type": "string"
            },
            "text/plain": [
              "'Violence on television can be seen throughout the many channels that cable has to offer.  With an average national TV viewing time of 7 1/4 hours daily, the prevalence of violence in broadcasts is a serious concern.  Television programming in the United States is considered the most violent in advanced industrialized nations (Hepburn 1).  Many children watch violent TV shows because the action thrills them and can sometimes cause the child to become violent.  Violence is common in TV entertainment-- the dramas that portray stories about crime, psychotic murderers, police cases, emergency services, international terrorism, and war (Hepburn 1).  Television violence is prevalent in the United States and some people disagree about its effects on children.\\nThe V-chip is an electrical device that blocks out violent television shows.  Some people, such as the Senate Commerce Committee, are not satisfied with it.  The Senate Commerce Committee approved bills creating a partial ban on TV violence and a so-called report card that would identify stations carrying violent programming and the advertisers sponsoring it.  The bills would apply to broadcasting and cable (Stern 1).\\nSome of the anti-violence proposals are as follows: the Senate V-chip, the House V-chip, a Technology Fund, a Violence Safe Harbor, and a Violence Report Card.  These proposals could work if Congress had some support.  The National Association of Broadcasters accused the Senate of \"piling on a stream of proposals to build up an unprecedented federal censorship bureaucracy\".  The NAB also insisted that broadcasters already have responded to concerns over violence on television (Stern 1).\\nSome television shows show violence because it appeals to adult viewers.  If a certain plot involves a murder, then the murder must happen.  Some people may not want the actual murder to be shown, but that is up to whomever is writing the television show.  Many made-fortelevision movies say that they may contain violent scenes and that viewer discretion is advised, but how many parents actually watch television with their teenager?\\nAn exhaustive examination of the broadcast networks\\' programming during the 1995-1995 season has concluded that sinister combat violence pervades a significant number of Saturday-morning cartoons (Jensen 1).  How much violence is there? The most violent cartoons are \\'Teenage Mutant Ninja Turtles\\', \\'Spider Man\\', and some \\'Bugs Bunny\\' episodes with Elmer Fudd.  As for the shows containing sinister combat violence, well that is strictly up to the viewer to decide.\\nThe reason for television violence is to add texture to the show and not to poison children\\'s minds.  The infamous V-chip may stop some shows from being shown to children, but one day that child will see violence and they will have to deal with it, rationally or not.'"
            ]
          },
          "metadata": {
            "tags": []
          },
          "execution_count": 109
        }
      ]
    },
    {
      "cell_type": "code",
      "metadata": {
        "id": "VPEbsOHjm3Wp",
        "colab": {
          "base_uri": "https://localhost:8080/"
        },
        "outputId": "30f97603-aa08-439a-f922-57b7fc7c2b85"
      },
      "source": [
        "corrected_essays"
      ],
      "execution_count": null,
      "outputs": [
        {
          "output_type": "execute_result",
          "data": {
            "text/plain": [
              "[]"
            ]
          },
          "metadata": {
            "tags": []
          },
          "execution_count": 87
        }
      ]
    },
    {
      "cell_type": "code",
      "metadata": {
        "id": "G1ExgvhYiYuU",
        "colab": {
          "base_uri": "https://localhost:8080/"
        },
        "outputId": "fe16fd0e-da49-45dd-ddaa-7712cc1b328b"
      },
      "source": [
        "corrected_essays"
      ],
      "execution_count": null,
      "outputs": [
        {
          "output_type": "execute_result",
          "data": {
            "text/plain": [
              "[\"Boxing is a common, well-known and well-loved sport in most co. However,in the world however it is also punishing, dangerous and disliked to the extent that many people want it banned, possibly with good reason.\\nBoxing is a dan. Theresport, there are relatively common deaths, tragic injuries and even disease. All professional boxers are at risk from beintheirilled in his next fight. If not ki,lled then more likely paralysed. There have been a number of cases in the last ten years of the top few boxers having tragic losses among their ranks. This is just fromthere'slite few, and theres more from those below them.\\nMore deaths would occur through boxing if it were banned. The sport would and go underground, there would be no safety measures like gloves, a doctor, paramedics or early stopping of the fight if someone looked unable to continue. With this going on, the people taking part will be dangerous, and on the streets. Dangerous dogs who were trained to kill and maim in similar undeunderground fights have already proved deadly to innocent people, the new bo. Thecould be even more at risk.\\nOnce boxing is banned and no-one grows up knowing it as acceptable there will ,be no interest in boxing and hopefully less ,all round inte,rest in violence making towns and cities, much safer places to live in, there will be less fightin. Therede pubs and clubs and less violent attacks with little or no reason.\\nchfor the rules of boxiChangingghtly would much improve the safety risks of the sport and not detract form the entertainment. There arfroml sorts of proposals, lighter and more cushioning gl;ves could be worn, ban punches to the head, headguards worn or make fights shorter, as most, of the serious injuries occur in the latter rounds, these would all show latere b. Thesekill and tallent and still be 'entertaining totalent\\nEven if a boxer is a success and manages not to be seriously hurt he still faces serious conseque,nces in later life diseases that attack the brains hav. Diseasesown to set in as a direct result of boxing, even Muhamed Ali, who was infamous(?) . Evenor his boxing and his quick-witted intelligence now has Alzheimer disease and can no lo,nger do many everyday 'sacts.\\nMany other sports are more dangerous than boxing, motor sports and even mountaineering has risks tha; are real. Boxers chose to box, just ahaveacing drivers drive.\",\n",
              " \"In many of the minority works of modern literature, there can be some emphasis on rebellion against oppressive forces. Although such a show of strength by these works' characters is sometimes viewed as a violent and therefore negative contribution to the otherwise insightful thought of the author, it is this conflict upon which many stories of ethnic American literature are based. However, such a rebellion cannot be seen clearly in each minority work, and, therefore, the products of ethnic American literature cannot be categorized as merely the result of years of oppression. Rather, this ever-changing and ever-challenging aspect of minority literature creates an especially important necessity that each work be considered individually as both a product of years of struggle and a work inherently distinct from any other.\\n\\nIn the minority works, the conflict and rebellion presented accurately reflects society as a whole, and although the mothers in The Joy Luck Club rebel against such forces as arranged marriages, Tita in Like Water for Chocolate fights to overcome old family traditions, and the Indian tribes in Love Medicine struggle to secure their inherent rights from the US government, the characters' conflicts reflect similar conflicts of other cultures. Rebellion is seen not as a distinct force in minority cultures, but rather as a binding force between all cultures, for Celie, too, resists her arranged marriage in The Color Purple, and the murderous loves in Jazz reflect Tita and Pedro's destructive passion in Like Water for Chocolate. Rebellion and conflict are emphasized in ethnic American literature, but they are portrayed no more strongly in minority works than they are portrayed in other pieces of literature. Emphasis changes with each work, and although figures of authority aparticularlyary oppressive in works such as Like Water for Chocolate and The Color Purple, other minority works including Love Medicine and Jazz do not reflect the clearly defined authoritarian figures nor the obvious rebellion of the characters' responsive action which the previously mentioned works show. This again implies that theethnicnic American pieces of literature cannot be categorized as merely rebellious responses to oppression, but as individual reflections of personal and cultural experiences.\",\n",
              " \"How does Voltaire tackle the question of philosophical optimism in 'Candide'? Philosophical optimism -l'optimisme- is the philosophy that everything and any occurence isoccurrence good. Voltaire sets out in Candide to criticise this philosophy. In Candide the representa,tive of this philosophy is Pangloss, the philosopher employed at Thunder-der-Troncks. The whole book is a criticism of l'optimisme. For example when Candide is f,orced to join the Bulgar army he is beaten almost to death but Candide does not, concern himself because he know it is for his own good - in fact later in the book he us,es his training to become a soldier. Although this would seem to be good it is not because of his t,raining he ki. Becausemen, a Jew and an A,rchbishop with no hesitation and then proceeds to kill his sweethearts brother. Voltaire showsweetheart'se of l'optimisme when Pashowsss, Candide and James are caught in a bad storm at sea in which James is drowned and there are only three survivors, Candide, Pangloss and a sailor. The stor; was caused by an earthquake which destroys the city to which Candide was sailing to. On arrival they see starvation and de. Candide is obviously horrified, especially when the sailor begins pillaging the city. Candide looks to Pangloss for an answer but Pangloss can only tell him t,hat some good will come of it. Candide, although remaining true to the ideals of optimism, always appears to be sceptical of it. This is no more true than when he arrives in the new world, South America, and has to leave his darling Cunégonde with the Commissioner of the province. Candide cannot see what possible good can come of this especially as the reason that he wa,s in America was due to him killing the Jew and Archbishop because they were Cunégonde's lovers. Throughout the book we begin to see how Candide is gradual,ly lead away for l'optimisme or perhaps more ledrtafromy how l'optimisme ,is shown to be the philosoph,y of despair. The constant belief that good can come from bad is not actually inspiring but leads to a constant flow of disasters. Candide's life, in the book, appears to show this. He is thrown out of Thunder-den-Tronck because he embraces Cunégonde, he is duped into the army, he is caught in an earthquake, he is almost killed as part of an auto-da-fé, he kills three churchmen, he is almost eaten, he finds Eldorado but leaves- the list continues. Candide's life is goleaves -by his belief the good will prevail. Eventually, of course, he dothatmarry Cunégonde but she is not the beautiful young flower that he onc,e loved. She has become ugly and grew worse by the day. This illustrates emphatically the growsy of l'optimisme. Candide has travelled the world in search of Cunégonde, with the hope that he will marry her despite all the trouble which he has gone through, of cohe. Despite end he does get Cunégonde but at the price of her lo,oks and personality. Voltaire, in Candide, shows how the philosophy of Optimism is one of despair not hope.,\",\n",
              " \"It would be tempting to think of the various European Communities as an embryonic United States of Europe; especially when we hear politicians talk of the importance of European Unity. Howe,ver it is important to realise that Europe is a very long way from becoming anything like the United States. When the original 13 American states resolved to form what is now the United States of America, they were intent on forming a political as well as economic entity. They were prepared to yield as much of their own sovereignty as would be essential to allow the newly-formed national government to operate as a single international political force. A balance was therefore struck in the constitution to allow the individual states as much self-government as possible while ensuring that, for example in military matters, the central government spoke for all. It is true that today one still hears the old dispute over state sovereignty and attempts to return some power to the individual states, but no-one would challenge the fact that, on matters external to the United States, the government in Washington represents the sole policy-making body.\\n\\t\\tIn Europe it is quite clear that many people would like to see a political union of the countries, since this would produce a formidable international military force. However it, is equally clear that while there might be some unified political action flowing from the European Communities (such as was seen over Europe's response to the British involvement in the Falkland Islands dispute), the Communities were intended as purely economic entities in the first place. Membership almost certainly involves some loss of national sovereignty, but the United Kingdom could probably leave the community by a simple majority vote in the Westminster Parliament, something which no state in the United States could lawfully do. We are still a very long way from a Single Parliament for Western Europe with power to make political decisions for all ; and,ven with 1992 approaching and a single market th,e gulf between the UK and Europe is very wide.\\n\\t\\tThe supremacy of Parliament will never be challachallengedability to make and break any law - made by it or Europe - means that it retains full sovereignty. Even if today it made laws to thwould unite it fully with Europe and relinquish its sovereignty for ever, it could tomorrow repeal all those laws. The fact that Parliament does not bind itself or cannot be bound by any political body means that it can never lose its sovereignty unless a majority of the population wished it and Parliament consented.\\n\\t\\tBut with the average jingoistic Briton there is no chance of us curing ourselves of our xenophobia and ever wishing to be fulintegratedted with Europe. Even now the channel tunnel has joined us to the continent we still consider ourselves to be separated from the, world standing alone against a hostile world.\",\n",
              " 'Naturally, the problems of a single Europe would run as deeply as the benefits that we would presumably ultimately receive.\\n\\t\\tIt seems to me that, for the past few centuries, Britain has always considered itself to be detached from the rest of Europe. Whenever necessary, she has allied herself to European powers, such as in times of war of ortreme distrust.\\n\\t\\tBritain has been eager to maintain a secure balance of power on the continent, but throughout history, she has been more concerned with her oversees empires than with anywhere else.\\n\\t\\tIn the latlas-lf cent,ury though, her empire has diminished and she has had to face mounting responsibility in Europe.\\n\\t\\tBecause of her history of isolated sovereignty, it is difficult to accept being a part of a single Europe.\\n\\t\\tFor instance, British law is based largely upon precedent, that is ju,dge judgementlaw. We have established a system of law which dates back many centuries, and which is widely known and respected. There is very little European influence on our law, of course in many respects . Inwill be the same, but the lack of influence will display many differences.\\n\\t\\tWith the creation of a single Europe, new law will have to be accepted throughout the continent, and it will cause both confusion and conflict.\\n\\t\\tThe British tend to be very proud and possessive of the law, and changes may well cause illfeeling and disconill-feelingourse, the same points will apply to the monetary system in Europe. Will there just be one system ?\\n\\t\\tThe country typically is against major change and something as fundamental as money would cause problems if it was to be altered.\\n\\t\\tOur individual monetary system I suppose, could be see,n as a symbol of sovereignty.\\n\\t\\tIt can be said that if a single Europe was created, problems may arise over its fundamental political concepts. Of course Britain would lose her sovereignty, as would the other nations of the union.\\n\\t\\tIt has been suggested that the Single Union could be based on a basic federal structure, whereby local autonomy could be saved, but the union as a whole could work together in a democratic manner.\\n\\t\\tTo a certain extent, even if sovereignty was lost, some national personality would be preserved. The fact is that, when united, European unity would still in essence be divided. The,re will always, be aspects of one society that the others will never accept.\\n\\t\\tEurope as a whole faces the same problems, and therefore, if a single Europe was created, uniting Britain, the problems could be dealt with quickly and efficiently.\\n\\t\\tIf the Federalists achieved their aims in a European unity, they would do their best to achieve democracy and promote it nationally, so that individuality is preserved, and that all of their positive features will be known.\\n\\t\\tThe problem facing the British, really results from their isolated past. The sovereignty of the nation has deep roots, and the fears of losing it are very great.\\n\\t\\tWhether this would reallyen awaits to be seen, and would depend completely on the terms of the union, and the negotiations and feelings of the general public and the politicians leading the countries.',\n",
              " \"With 1992 now only a year away, the question of what a Single Europe will mean for Britain becomes increasingly relevant.\\n\\tI firmly believe that the advent of 1992 will result in a loss of sovereignty for Britain. This loss need not however be negative. In fact, in political, economic and defence terms, I feel this  reareallocation resources can and will be very positive. Whilst to a ,certain extent I may be, guilty of having an island mentality, I wouldn't go as far as to say Britain is in danger of handing all control over to faceless beaurocrats bureaucrats or Strasbourg.\\n\\tThroughout the world a wind of c,hange is apparent, but especially so in Europe. This process will continue and Europe the rest of th ande world will evolue with or without the evolveipation of Britain in this process.\\n\\tIt is my belief that Britain must be involved in the decision making which will decision-makingde the new world order. However to be fully involved, sacr,ifices have to be made. Such sacrifices will involve certain aspects of our sovereignty. In relenquishing and thus centralrelinquishing powers, the aim is not to diminish the strength of individual nations but to increase the overall impact of Europe on the world stage.\\n\\tAs amply demonstrated by recent events in the Gulf, European cooperation in the field of defence can  be both impressive and effective. Whilst I would be reluctant to hand over all control to defence to any central bodyofI can see a future for some ,orm of European rapid reaction force. Whilst to an extent crippling defenc,e costs could be, cut this would not necessarily lead to ,a reduction in the size of defence available.\\n\\tIn political terms, regardless of legislation, Britain like the rest of Europe is becoming in,creasingly cosmopolitan in ,terms of the population composition. The North Sea will increasingly's come to represent a mere puddle as people move between countries. I feel it is important for Britain to join fully with its European partners to adapt to these changes in demography. Politically we are moving closer together. Possible problems s,hould be studied and solved if possible before they happen.\\n\\tE.R.M. is already upon us but in this area I feel Britain should be especially ,careful. Whilst not pretending to fully understand this system I do know that no system can lower interest rates, and i,nflation while raising growth, with the possible exception of the Magic Circle. In the area of the single currency, again I feel this is inevitable. What is important is to base this currency on the strong currencies within the EEC as opposed to an average based system.\\n\\tTo conclude I would say a single Europe is a-ready happening and that i,t will continue to do so is guaranteed. Britain must not concern itself with loss of sovereignty but gain of the European equivalent. If we miss the boat I think we will drawn before the next boat comes.drown\",\n",
              " 'When the treaty of Rome was signed in 1957, the foundation was laid for a new \"continent\" - a united Europe. It was said that Europe would not be created quickly, but over several years. When Britain entered the European Community in 1973, after a national referendum, the debate began concerning BriBritain\\'slationship with Europe. When 1992 was set as the date for the singleSingleean Market, the debate flared up again, but over how far Britain should be integrated. The rest of Europe seems prepared for 1992 but B,ritain seems to be decidedly hesitant. The former Prime Minister, Margaret Thatcher was not been to lead  Britain into a United Europe because she felt it would lead to a loss of our sovereignty.\\n\\t\\tThere is no doubt an integrated market would have multiple benefits for the countries involved. Businesses and other trading organizations are preparing themselves for 1992, and the single market. Trade will be easier, with no frontier controls allowing fr,ee flowing transportation of merchandise. There will be business booms and free competition with the removal of protective practices, along with greater freedom to travel.\\n\\t\\tMany Britons would consider Europe has affected Britain too much already, with decimalization, the new Euro-passports and now the pound sterling being tied to the ECU. They may feel Britain is being pulled into Europe. Further changes are forecast for Britain, effecting day taffectingters, to create a \"European Standard\". This may make Britons resentful of Europe and tired of \"1992 and all that\". A single market requires one central institution to co-ordinate all movements of goods and policies. Will the people of Britain be prepared to give up their government and be directed from Strasbourg or Brussels?. Many people wuld not. Will the day come when the pound sterling is taken over by the ECU ? It may well - but will the Britonse a chance to voice their opinions and views ?\\n\\t\\tEurope may argue that the benefits from a single integrated market would far outweigh any national drawbacks. As the date draws nearer, the awareness of Britons about Europe must increase. They must look into the future and consider possible effects. Will Britain be drawn into Europe against its will ? Pewill?as more of Britain becomes \"Eurofied\", Britons will wake up and see their sovereignty is being taken away. Britain has never geographically been a part of Europe. We are in the EEC and we should be able to benefit from free trade. We have been an island for too long - being independent and able to stand alone. We have a sound democratic process, which many people would not want to give this up . A fully integrated market with Britain as a full member would be to the detriment of our political system and consequently leadinleadloss of sovereignty.',\n",
              " 'There has been such a lot of talk about a Single Europe in recent years that it is hard to believe that it will be upon us very soon.  Now that it is a reality, and not just a probability, the question in the minds of many Britons is, indindeed:ll this mean a loss of sovereignty for Britain or the birth of a nation? Firstly, a positive approach.  Looking at things from an economic perspective, this is not a problem.  The benefits in terms of cost-cutting owing to doing things once, instead of twelve times, will be enormous.  Firms, because of being able to pool their resources, will be able to devote more time to research and development, and thus products will improve.  Europe will therefore be a nation to be reckoned with as regards competition. To look at things on a more individual level, every member of the new Single Europe\\'s standard of living should increase.  A greater potential of ideas from a greater number of experts will, in theory, result in more knowledgeable and better-informed individuals.  Simplicity is one of the Commission\\'s key aims, with the idea that if things are simpler and more easy for everyone to understand, people will be happier, get on better.  If this is so, they should also work better.  Ideally then, there should be more equality, less crime, greater productivity and greater economic growth. On the other hand, will this Single Europe mean a loss of sovereignty for Britain?  It must be remembered that not only does Britain have a small population compared to the majority of the other member states, but it is an island - which none of the others are.  Why should this matter?  Well, Britain has quite a history and therefore a fair number of traditions.  It is possible that it could become engulfed in the new Single Europe and lose its identity.  Britons (especially those from older generations) may then feel \"lost\" and that they do not really \"belong\" any more.  The new Single Europe may be too new and unknown for them to make their allegiance to it.  Then there is the question as to whether all this idealism really will work.  Will there be greater prosperity, better-informed, happier citizens, or will this never come off because of politicians being unable to agree on policies?  Britain, although small, is more often than not in ate fore of international matters, taking a definite stance on what it considers to be right.  Has it then not got quite a lot at stake, its character at least, in integrating itself into this Single Europe? No one would dispute that this is a difficult question.  The fact remains however that next year (in 1992) there is going to be a Single Europe.  This, as everyone is well aware, is not going to be achieved with ease, but the more tolerant every member state is of each other, the more successful the Single Europe will be.  It is up to Britain therefore to accept this fact and to show an example by leading the way as regards toltoleranceThen we will all be able to look at the future in a more positive way.',\n",
              " 'The European Community is a unique grouping of twelve sovereign European Member States who are committed to the development of closer economic and political co-operation. The community has an aim to break down the economic and political barriers that have traditionally divided Europe. In particular, the community seeks to facilitate greater movement within its frontiers; movement not only of goods but of services, capital and people. However, the issue of sovereignty is certainly a much debated one: to what extent should a member hand over its sovereignty to the Community, if at all? Let us look at the founding of the European Community, before we discuss the issue of sovereignty in more detail.\\n\\t\\tThere were several attempts at peaceful unification after the First World War, but only after Europe had again been devastated by war was the futility of national rivalry truly apparent. The political and economic exhaustion of the European states called for a fresh start and a far more radical approach to the re-ordering of Europe. This fresh start came about because of three main factorFirstly, was Europe\\'s realization of her own weakness, after having lost her age-old position at the centre of the world stage to the United States of America and to the Soviet Union. These superpowers were ecmilitarily militarally and politically stronger than the divided individual EuSecondtates. Secondly was the conviction that militaonflict should in the future be avoided; after all, the two great wars had bothThirdas European \"civil wars\". Thirdly was the common desire for a better, freer world in which international relations would be conducted in a more orderly way. One of the first major moves towards European integration was the creation of the European Economic Community, in 1958. Its membership has grown from the ten original founder countries to twenty-three. One of the most innovative features of the European Community compared with other international bodies is that the member states have ceded to it a part of their national sovereignty and endowed it with its own sovereign powers, which it can use to adopt acts, having the force of national law. This novel approach to pooling national so1970snty is called \"integration\". The 1970\\'s saw progress in integration, with the introduction of community policy instruments, which enabled greater scope for national policies. \\n\\t\\tAll of the member states agree in principle to the idea of a single market by 1992, however each wish their own interests to be safeguarded. This is to say that none want to sacrifice their national sovereignty, many want unanimous voting, not majority voting. Many see this issue as a threat to lead town regulations and laws, and could foresee a drop in standards if they do not stand firm.\\n\\t\\tThe situation is see,n as a threat to the countries in question who do not wish to boldly give up their sovereignty for the sake of European unity. Whether or not the continuation of the progsuccessfulhe field of European unity is sucessful depends very much on the people of Europe. If a feeling of European unity develops and can be sustained, the threat will subside as a feeling of identity takes over.']"
            ]
          },
          "metadata": {
            "tags": []
          },
          "execution_count": 66
        }
      ]
    },
    {
      "cell_type": "code",
      "metadata": {
        "colab": {
          "base_uri": "https://localhost:8080/"
        },
        "id": "L59UC8LEd_q2",
        "outputId": "143b3d35-9351-4a1b-a7c6-eed0282aa472"
      },
      "source": [
        "type(t)"
      ],
      "execution_count": null,
      "outputs": [
        {
          "output_type": "execute_result",
          "data": {
            "text/plain": [
              "_io.TextIOWrapper"
            ]
          },
          "metadata": {
            "tags": []
          },
          "execution_count": 9
        }
      ]
    },
    {
      "cell_type": "code",
      "metadata": {
        "id": "H4ynd_FqjV4O"
      },
      "source": [
        "def squad_json_to_dataframe_train(input_file_path, record_path = ['data','paragraphs','qas','answers'],\n",
        "                           verbose = 1):\n",
        "    \"\"\"\n",
        "    input_file_path: path to the squad json file.\n",
        "    record_path: path to deepest level in json file default value is\n",
        "    ['data','paragraphs','qas','answers']\n",
        "    verbose: 0 to suppress it default is 1\n",
        "    \"\"\"\n",
        "    if verbose:\n",
        "        print(\"Reading the json file\")    \n",
        "    file = json.loads(open(input_file_path).read())\n",
        "    if verbose:\n",
        "        print(\"processing...\")\n",
        "    # parsing different level's in the json file\n",
        "    js = pd.io.json.json_normalize(file , record_path )\n",
        "    m = pd.io.json.json_normalize(file, record_path[:-1] )\n",
        "    r = pd.io.json.json_normalize(file,record_path[:-2])\n",
        "    \n",
        "    #combining it into single dataframe\n",
        "    idx = np.repeat(r['context'].values, r.qas.str.len())\n",
        "    ndx  = np.repeat(m['id'].values,m['answers'].str.len())\n",
        "    m['context'] = idx\n",
        "    js['q_idx'] = ndx\n",
        "    main = pd.concat([ m[['id','question','context']].set_index('id'),js.set_index('q_idx')],1,sort=False).reset_index()\n",
        "    main['c_id'] = main['context'].factorize()[0]\n",
        "    if verbose:\n",
        "        print(\"shape of the dataframe is {}\".format(main.shape))\n",
        "        print(\"Done\")\n",
        "    return main"
      ],
      "execution_count": null,
      "outputs": []
    },
    {
      "cell_type": "markdown",
      "metadata": {
        "id": "VRpbVPuJX40s"
      },
      "source": [
        "## 참고문헌"
      ]
    },
    {
      "cell_type": "markdown",
      "metadata": {
        "id": "cmQiQ7lyX2Ul"
      },
      "source": [
        "[1] Ng, H. T., Wu, S. M., Briscoe, T., Hadiwinoto, C., Susanto, R. H., & Bryant, C. (2014). The CoNLL-2014 Shared Task on Grammatical Error Correction. Proceedings of the Eighteenth Conference on Computational Natural Language Learning: Shared Task, 1–14. https://doi.org/10.3115/v1/W14-1701\n",
        "\n",
        "[2] Bryant, C., Felice, M., Andersen, I. E., & Briscoe, T. (2019). The BEA-2019 Shared Task on Grammatical Error Correction. Proceedings of the Fourteenth Workshop on Innovative Use of NLP for Building Educational Applications, 52–75. https://doi.org/10.18653/v1/w19-4406\n",
        "\n",
        "\n",
        "\n"
      ]
    },
    {
      "cell_type": "code",
      "metadata": {
        "id": "g3Zxd0gcX4Da"
      },
      "source": [
        "[\"essay1\", \"essay2\", \"essay3\"]"
      ],
      "execution_count": null,
      "outputs": []
    },
    {
      "cell_type": "code",
      "metadata": {
        "id": "pm5KeukgoDPD"
      },
      "source": [
        "ch6. reference "
      ],
      "execution_count": null,
      "outputs": []
    },
    {
      "cell_type": "code",
      "metadata": {
        "id": "4vqOcBhSaWXE"
      },
      "source": [
        "!pip install benepar==0.1.2\n",
        "!pip install summa\n",
        "!pip install nltk==3.4.5\n",
        "!pip install spacy==2.1.0\n",
        "!python3 -m spacy download en\n",
        "!pip install scipy"
      ],
      "execution_count": null,
      "outputs": []
    },
    {
      "cell_type": "code",
      "metadata": {
        "id": "jlupgRFFbvF2",
        "colab": {
          "base_uri": "https://localhost:8080/",
          "height": 859
        },
        "outputId": "5ebead3e-5c3c-4d1b-830b-1d04fa09972a"
      },
      "source": [
        "!pip install tensorflow==1.14.0 \n"
      ],
      "execution_count": null,
      "outputs": [
        {
          "output_type": "stream",
          "text": [
            "Collecting tensorflow==1.14.0\n",
            "\u001b[?25l  Downloading https://files.pythonhosted.org/packages/f4/28/96efba1a516cdacc2e2d6d081f699c001d414cc8ca3250e6d59ae657eb2b/tensorflow-1.14.0-cp37-cp37m-manylinux1_x86_64.whl (109.3MB)\n",
            "\u001b[K     |████████████████████████████████| 109.3MB 94kB/s \n",
            "\u001b[?25hRequirement already satisfied: numpy<2.0,>=1.14.5 in /usr/local/lib/python3.7/dist-packages (from tensorflow==1.14.0) (1.19.5)\n",
            "Requirement already satisfied: six>=1.10.0 in /usr/local/lib/python3.7/dist-packages (from tensorflow==1.14.0) (1.15.0)\n",
            "Requirement already satisfied: google-pasta>=0.1.6 in /usr/local/lib/python3.7/dist-packages (from tensorflow==1.14.0) (0.2.0)\n",
            "Requirement already satisfied: termcolor>=1.1.0 in /usr/local/lib/python3.7/dist-packages (from tensorflow==1.14.0) (1.1.0)\n",
            "Requirement already satisfied: gast>=0.2.0 in /usr/local/lib/python3.7/dist-packages (from tensorflow==1.14.0) (0.3.3)\n",
            "Requirement already satisfied: wrapt>=1.11.1 in /usr/local/lib/python3.7/dist-packages (from tensorflow==1.14.0) (1.12.1)\n",
            "Requirement already satisfied: grpcio>=1.8.6 in /usr/local/lib/python3.7/dist-packages (from tensorflow==1.14.0) (1.32.0)\n",
            "Requirement already satisfied: wheel>=0.26 in /usr/local/lib/python3.7/dist-packages (from tensorflow==1.14.0) (0.36.2)\n",
            "Requirement already satisfied: keras-preprocessing>=1.0.5 in /usr/local/lib/python3.7/dist-packages (from tensorflow==1.14.0) (1.1.2)\n",
            "Requirement already satisfied: protobuf>=3.6.1 in /usr/local/lib/python3.7/dist-packages (from tensorflow==1.14.0) (3.12.4)\n",
            "Requirement already satisfied: astor>=0.6.0 in /usr/local/lib/python3.7/dist-packages (from tensorflow==1.14.0) (0.8.1)\n",
            "Collecting tensorboard<1.15.0,>=1.14.0\n",
            "\u001b[?25l  Downloading https://files.pythonhosted.org/packages/91/2d/2ed263449a078cd9c8a9ba50ebd50123adf1f8cfbea1492f9084169b89d9/tensorboard-1.14.0-py3-none-any.whl (3.1MB)\n",
            "\u001b[K     |████████████████████████████████| 3.2MB 44.1MB/s \n",
            "\u001b[?25hCollecting tensorflow-estimator<1.15.0rc0,>=1.14.0rc0\n",
            "\u001b[?25l  Downloading https://files.pythonhosted.org/packages/3c/d5/21860a5b11caf0678fbc8319341b0ae21a07156911132e0e71bffed0510d/tensorflow_estimator-1.14.0-py2.py3-none-any.whl (488kB)\n",
            "\u001b[K     |████████████████████████████████| 491kB 48.4MB/s \n",
            "\u001b[?25hCollecting keras-applications>=1.0.6\n",
            "\u001b[?25l  Downloading https://files.pythonhosted.org/packages/71/e3/19762fdfc62877ae9102edf6342d71b28fbfd9dea3d2f96a882ce099b03f/Keras_Applications-1.0.8-py3-none-any.whl (50kB)\n",
            "\u001b[K     |████████████████████████████████| 51kB 4.6MB/s \n",
            "\u001b[?25hRequirement already satisfied: absl-py>=0.7.0 in /usr/local/lib/python3.7/dist-packages (from tensorflow==1.14.0) (0.10.0)\n",
            "Requirement already satisfied: setuptools in /usr/local/lib/python3.7/dist-packages (from protobuf>=3.6.1->tensorflow==1.14.0) (54.0.0)\n",
            "Requirement already satisfied: markdown>=2.6.8 in /usr/local/lib/python3.7/dist-packages (from tensorboard<1.15.0,>=1.14.0->tensorflow==1.14.0) (3.3.4)\n",
            "Requirement already satisfied: werkzeug>=0.11.15 in /usr/local/lib/python3.7/dist-packages (from tensorboard<1.15.0,>=1.14.0->tensorflow==1.14.0) (1.0.1)\n",
            "Requirement already satisfied: h5py in /usr/local/lib/python3.7/dist-packages (from keras-applications>=1.0.6->tensorflow==1.14.0) (2.10.0)\n",
            "Requirement already satisfied: importlib-metadata; python_version < \"3.8\" in /usr/local/lib/python3.7/dist-packages (from markdown>=2.6.8->tensorboard<1.15.0,>=1.14.0->tensorflow==1.14.0) (3.7.2)\n",
            "Requirement already satisfied: typing-extensions>=3.6.4; python_version < \"3.8\" in /usr/local/lib/python3.7/dist-packages (from importlib-metadata; python_version < \"3.8\"->markdown>=2.6.8->tensorboard<1.15.0,>=1.14.0->tensorflow==1.14.0) (3.7.4.3)\n",
            "Requirement already satisfied: zipp>=0.5 in /usr/local/lib/python3.7/dist-packages (from importlib-metadata; python_version < \"3.8\"->markdown>=2.6.8->tensorboard<1.15.0,>=1.14.0->tensorflow==1.14.0) (3.4.1)\n",
            "Installing collected packages: tensorboard, tensorflow-estimator, keras-applications, tensorflow\n",
            "  Found existing installation: tensorboard 2.4.1\n",
            "    Uninstalling tensorboard-2.4.1:\n",
            "      Successfully uninstalled tensorboard-2.4.1\n",
            "  Found existing installation: tensorflow-estimator 2.4.0\n",
            "    Uninstalling tensorflow-estimator-2.4.0:\n",
            "      Successfully uninstalled tensorflow-estimator-2.4.0\n",
            "  Found existing installation: tensorflow 2.4.1\n",
            "    Uninstalling tensorflow-2.4.1:\n",
            "      Successfully uninstalled tensorflow-2.4.1\n",
            "Successfully installed keras-applications-1.0.8 tensorboard-1.14.0 tensorflow-1.14.0 tensorflow-estimator-1.14.0\n"
          ],
          "name": "stdout"
        },
        {
          "output_type": "display_data",
          "data": {
            "application/vnd.colab-display-data+json": {
              "pip_warning": {
                "packages": [
                  "tensorboard",
                  "tensorflow"
                ]
              }
            }
          },
          "metadata": {
            "tags": []
          }
        }
      ]
    },
    {
      "cell_type": "code",
      "metadata": {
        "id": "7trEMGTNa2dz",
        "colab": {
          "base_uri": "https://localhost:8080/"
        },
        "outputId": "5857b113-7908-450c-86c4-8b51627e3875"
      },
      "source": [
        "import requests\n",
        "import json\n",
        "from summa.summarizer import summarize\n",
        "import benepar\n",
        "import string\n",
        "import nltk\n",
        "from nltk import tokenize\n",
        "from nltk.tokenize import sent_tokenize\n",
        "import re\n",
        "from random import shuffle\n",
        "import spacy\n",
        "nlp = spacy.load('en')\n",
        "#this package is required for the summa summarizer\n",
        "nltk.download('punkt')\n",
        "benepar.download('benepar_en2')\n",
        "benepar_parser = benepar.Parser(\"benepar_en2\")"
      ],
      "execution_count": null,
      "outputs": [
        {
          "output_type": "stream",
          "text": [
            "/usr/local/lib/python3.7/dist-packages/tensorflow/python/framework/dtypes.py:516: FutureWarning: Passing (type, 1) or '1type' as a synonym of type is deprecated; in a future version of numpy, it will be understood as (type, (1,)) / '(1,)type'.\n",
            "  _np_qint8 = np.dtype([(\"qint8\", np.int8, 1)])\n",
            "/usr/local/lib/python3.7/dist-packages/tensorflow/python/framework/dtypes.py:517: FutureWarning: Passing (type, 1) or '1type' as a synonym of type is deprecated; in a future version of numpy, it will be understood as (type, (1,)) / '(1,)type'.\n",
            "  _np_quint8 = np.dtype([(\"quint8\", np.uint8, 1)])\n",
            "/usr/local/lib/python3.7/dist-packages/tensorflow/python/framework/dtypes.py:518: FutureWarning: Passing (type, 1) or '1type' as a synonym of type is deprecated; in a future version of numpy, it will be understood as (type, (1,)) / '(1,)type'.\n",
            "  _np_qint16 = np.dtype([(\"qint16\", np.int16, 1)])\n",
            "/usr/local/lib/python3.7/dist-packages/tensorflow/python/framework/dtypes.py:519: FutureWarning: Passing (type, 1) or '1type' as a synonym of type is deprecated; in a future version of numpy, it will be understood as (type, (1,)) / '(1,)type'.\n",
            "  _np_quint16 = np.dtype([(\"quint16\", np.uint16, 1)])\n",
            "/usr/local/lib/python3.7/dist-packages/tensorflow/python/framework/dtypes.py:520: FutureWarning: Passing (type, 1) or '1type' as a synonym of type is deprecated; in a future version of numpy, it will be understood as (type, (1,)) / '(1,)type'.\n",
            "  _np_qint32 = np.dtype([(\"qint32\", np.int32, 1)])\n",
            "/usr/local/lib/python3.7/dist-packages/tensorflow/python/framework/dtypes.py:525: FutureWarning: Passing (type, 1) or '1type' as a synonym of type is deprecated; in a future version of numpy, it will be understood as (type, (1,)) / '(1,)type'.\n",
            "  np_resource = np.dtype([(\"resource\", np.ubyte, 1)])\n",
            "/usr/local/lib/python3.7/dist-packages/tensorboard/compat/tensorflow_stub/dtypes.py:541: FutureWarning: Passing (type, 1) or '1type' as a synonym of type is deprecated; in a future version of numpy, it will be understood as (type, (1,)) / '(1,)type'.\n",
            "  _np_qint8 = np.dtype([(\"qint8\", np.int8, 1)])\n",
            "/usr/local/lib/python3.7/dist-packages/tensorboard/compat/tensorflow_stub/dtypes.py:542: FutureWarning: Passing (type, 1) or '1type' as a synonym of type is deprecated; in a future version of numpy, it will be understood as (type, (1,)) / '(1,)type'.\n",
            "  _np_quint8 = np.dtype([(\"quint8\", np.uint8, 1)])\n",
            "/usr/local/lib/python3.7/dist-packages/tensorboard/compat/tensorflow_stub/dtypes.py:543: FutureWarning: Passing (type, 1) or '1type' as a synonym of type is deprecated; in a future version of numpy, it will be understood as (type, (1,)) / '(1,)type'.\n",
            "  _np_qint16 = np.dtype([(\"qint16\", np.int16, 1)])\n",
            "/usr/local/lib/python3.7/dist-packages/tensorboard/compat/tensorflow_stub/dtypes.py:544: FutureWarning: Passing (type, 1) or '1type' as a synonym of type is deprecated; in a future version of numpy, it will be understood as (type, (1,)) / '(1,)type'.\n",
            "  _np_quint16 = np.dtype([(\"quint16\", np.uint16, 1)])\n",
            "/usr/local/lib/python3.7/dist-packages/tensorboard/compat/tensorflow_stub/dtypes.py:545: FutureWarning: Passing (type, 1) or '1type' as a synonym of type is deprecated; in a future version of numpy, it will be understood as (type, (1,)) / '(1,)type'.\n",
            "  _np_qint32 = np.dtype([(\"qint32\", np.int32, 1)])\n",
            "/usr/local/lib/python3.7/dist-packages/tensorboard/compat/tensorflow_stub/dtypes.py:550: FutureWarning: Passing (type, 1) or '1type' as a synonym of type is deprecated; in a future version of numpy, it will be understood as (type, (1,)) / '(1,)type'.\n",
            "  np_resource = np.dtype([(\"resource\", np.ubyte, 1)])\n",
            "[nltk_data] Downloading package punkt to /root/nltk_data...\n",
            "[nltk_data]   Package punkt is already up-to-date!\n",
            "[nltk_data] Downloading package benepar_en2 to /root/nltk_data...\n",
            "[nltk_data]   Package benepar_en2 is already up-to-date!\n"
          ],
          "name": "stderr"
        },
        {
          "output_type": "stream",
          "text": [
            "WARNING:tensorflow:From /usr/local/lib/python3.7/dist-packages/benepar/base_parser.py:197: The name tf.GraphDef is deprecated. Please use tf.compat.v1.GraphDef instead.\n",
            "\n",
            "WARNING:tensorflow:From /usr/local/lib/python3.7/dist-packages/benepar/base_parser.py:202: The name tf.Session is deprecated. Please use tf.compat.v1.Session instead.\n",
            "\n"
          ],
          "name": "stdout"
        }
      ]
    },
    {
      "cell_type": "code",
      "metadata": {
        "id": "8Kr-GAfqbjLN"
      },
      "source": [
        "sentences[0]"
      ],
      "execution_count": null,
      "outputs": []
    },
    {
      "cell_type": "code",
      "metadata": {
        "id": "adLwq3EkbIVO",
        "colab": {
          "base_uri": "https://localhost:8080/"
        },
        "outputId": "c0f9a158-3c9c-4f55-ec27-0195354a7a00"
      },
      "source": [
        "from string import punctuation\n",
        "\n",
        "def preprocess(sentences):\n",
        "    output = []\n",
        "    for sent in sentences:\n",
        "        single_quotes_present = len(re.findall(r\"['][\\w\\s.:;,!?\\\\-]+[']\",sent))>0\n",
        "        double_quotes_present = len(re.findall(r'[\"][\\w\\s.:;,!?\\\\-]+[\"]',sent))>0\n",
        "        question_present = \"?\" in sent\n",
        "        if single_quotes_present or double_quotes_present or question_present :\n",
        "            continue\n",
        "        else:\n",
        "            output.append(sent.strip(punctuation))\n",
        "    return output\n",
        "        \n",
        "        \n",
        "def get_candidate_sents(resolved_text, ratio=0.3):\n",
        "    candidate_sents = summarize(resolved_text, ratio=ratio)\n",
        "    candidate_sents_list = tokenize.sent_tokenize(candidate_sents)\n",
        "    candidate_sents_list = [re.split(r'[:;]+',x)[0] for x in candidate_sents_list ]\n",
        "    # Remove very short sentences less than 30 characters and long sentences greater than 150 characters\n",
        "    filtered_list_short_sentences = [sent for sent in candidate_sents_list if len(sent)>30 and len(sent)<150]\n",
        "    return filtered_list_short_sentences\n",
        "\n",
        "cand_sents = get_candidate_sents(sentences[0])\n",
        "filter_quotes_and_questions = preprocess(cand_sents)\n",
        "for each_sentence in filter_quotes_and_questions:\n",
        "    print (each_sentence)\n",
        "    print (\"\\n\")"
      ],
      "execution_count": null,
      "outputs": [
        {
          "output_type": "stream",
          "text": [
            "The convenience and high efficiency of using electronic products is being noticed by people worldwide\n",
            "\n",
            "\n",
            "In this essay, I will discuss that if surveillance technology such as RFID (radio-frequency identification) should be used or not to track people\n",
            "\n",
            "\n"
          ],
          "name": "stdout"
        }
      ]
    },
    {
      "cell_type": "code",
      "metadata": {
        "colab": {
          "base_uri": "https://localhost:8080/"
        },
        "id": "vWTCNsEbMGog",
        "outputId": "8bd4a0e7-085d-436b-94ce-45b5cef778da"
      },
      "source": [
        "\n",
        "from IPython.display import Markdown, display\n",
        "def printmd(string):\n",
        "    display(Markdown(string))\n",
        "    \n",
        "def get_flattened(t):\n",
        "    sent_str_final = None\n",
        "    if t is not None:\n",
        "        sent_str = [\" \".join(x.leaves()) for x in list(t)]\n",
        "        sent_str_final = [\" \".join(sent_str)]\n",
        "        sent_str_final = sent_str_final[0]\n",
        "    return sent_str_final\n",
        "    \n",
        "\n",
        "def get_termination_portion(main_string,sub_string):\n",
        "    combined_sub_string = sub_string.replace(\" \",\"\")\n",
        "    main_string_list = main_string.split()\n",
        "    last_index = len(main_string_list)\n",
        "    for i in range(last_index):\n",
        "        check_string_list = main_string_list[i:]\n",
        "        check_string = \"\".join(check_string_list)\n",
        "        check_string = check_string.replace(\" \",\"\")\n",
        "        if check_string == combined_sub_string:\n",
        "            return \" \".join(main_string_list[:i])\n",
        "                     \n",
        "    return None\n",
        "    \n",
        "def get_right_most_VP_or_NP(parse_tree,last_NP = None,last_VP = None):\n",
        "    if len(parse_tree.leaves()) == 1:\n",
        "        return get_flattened(last_NP),get_flattened(last_VP)\n",
        "    last_subtree = parse_tree[-1]\n",
        "    if last_subtree.label() == \"NP\":\n",
        "        last_NP = last_subtree\n",
        "    elif last_subtree.label() == \"VP\":\n",
        "        last_VP = last_subtree\n",
        "    \n",
        "    return get_right_most_VP_or_NP(last_subtree,last_NP,last_VP)\n",
        "\n",
        "\n",
        "def get_sentence_completions(key_sentences):\n",
        "    sentence_completion_dict = {}\n",
        "    for individual_sentence in filter_quotes_and_questions:\n",
        "        sentence = individual_sentence.rstrip('?:!.,;')\n",
        "        tree = benepar_parser.parse(sentence)\n",
        "        last_nounphrase, last_verbphrase =  get_right_most_VP_or_NP(tree)\n",
        "        phrases= []\n",
        "        if last_verbphrase is not None:\n",
        "            verbphrase_string = get_termination_portion(sentence,last_verbphrase)\n",
        "            phrases.append(verbphrase_string)\n",
        "        if last_nounphrase is not None:\n",
        "            nounphrase_string = get_termination_portion(sentence,last_nounphrase)\n",
        "            phrases.append(nounphrase_string)\n",
        "\n",
        "        longest_phrase =  sorted(phrases, key=len,reverse= True)\n",
        "        if len(longest_phrase) == 2:\n",
        "            first_sent_len = len(longest_phrase[0].split())\n",
        "            second_sentence_len = len(longest_phrase[1].split())\n",
        "            if (first_sent_len - second_sentence_len) > 4:\n",
        "                del longest_phrase[1]\n",
        "                \n",
        "        if len(longest_phrase)>0:\n",
        "            sentence_completion_dict[sentence]=longest_phrase\n",
        "    return sentence_completion_dict\n",
        "\n",
        "\n",
        "\n",
        "sent_completion_dict = get_sentence_completions(filter_quotes_and_questions)\n",
        "\n",
        "print (sent_completion_dict)\n",
        "\n",
        "\n",
        "    "
      ],
      "execution_count": null,
      "outputs": [
        {
          "output_type": "stream",
          "text": [
            "{'The convenience and high efficiency of using electronic products is being noticed by people worldwide': ['The convenience and high efficiency of using electronic products is being noticed by', 'The convenience and high efficiency of using electronic products is being'], 'In this essay, I will discuss that if surveillance technology such as RFID (radio-frequency identification) should be used or not to track people': ['In this essay, I will discuss that if surveillance technology such as RFID (radio-frequency identification) should be used or not to track', 'In this essay, I will discuss that if surveillance technology such as RFID (radio-frequency identification) should be used or not to']}\n"
          ],
          "name": "stdout"
        }
      ]
    },
    {
      "cell_type": "code",
      "metadata": {
        "id": "6JZsvzhbcYoS",
        "colab": {
          "base_uri": "https://localhost:8080/"
        },
        "outputId": "653cc08a-a12c-4104-a2e3-5c9ea56fdc0f"
      },
      "source": [
        "sent_completion_dict['The convenience and high efficiency of using electronic products is being noticed by people worldwide']"
      ],
      "execution_count": null,
      "outputs": [
        {
          "output_type": "execute_result",
          "data": {
            "text/plain": [
              "['The convenience and high efficiency of using electronic products is being noticed by',\n",
              " 'The convenience and high efficiency of using electronic products is being']"
            ]
          },
          "metadata": {
            "tags": []
          },
          "execution_count": 19
        }
      ]
    },
    {
      "cell_type": "code",
      "metadata": {
        "id": "OfhP8w-SclKH",
        "colab": {
          "base_uri": "https://localhost:8080/"
        },
        "outputId": "59a5abb5-e96b-4f70-b839-de0c5fabdd61"
      },
      "source": [
        "sent_completion_dict['In this essay, I will discuss that if surveillance technology such as RFID (radio-frequency identification) should be used or not to track people']"
      ],
      "execution_count": null,
      "outputs": [
        {
          "output_type": "execute_result",
          "data": {
            "text/plain": [
              "['In this essay, I will discuss that if surveillance technology such as RFID (radio-frequency identification) should be used or not to track',\n",
              " 'In this essay, I will discuss that if surveillance technology such as RFID (radio-frequency identification) should be used or not to']"
            ]
          },
          "metadata": {
            "tags": []
          },
          "execution_count": 20
        }
      ]
    },
    {
      "cell_type": "code",
      "metadata": {
        "id": "QJdj2MFlczpP"
      },
      "source": [
        "\n",
        "!pip install sentence-transformers==0.2.5.1\n",
        "!pip install transformers==2.6.0"
      ],
      "execution_count": null,
      "outputs": []
    },
    {
      "cell_type": "code",
      "metadata": {
        "id": "fqtrQrCtcrpU",
        "colab": {
          "base_uri": "https://localhost:8080/",
          "height": 214,
          "referenced_widgets": [
            "55876bba14a74ed08ab3cca918d0d3e2",
            "4ad8bfb8e86d48dfb3a6ba6eedbe87a9",
            "b25aa26f95d548a9a0170856ad310ca5",
            "1fb68017fd424709a3a6bb18743c2f45",
            "38528bb95ef84777b65c3a8155e4f486",
            "2a9fa1bf24fe4948aafa169ae9085a21",
            "c02d231a0bbe42438b930a4b85c6a5e1",
            "0356e679e3b24a0daea1403a4db94b72",
            "ce3e610f340e4126bd536414d52a9430",
            "6eba1f126b2448c49481db35492f0056",
            "a1132e8a445d4b9aac1f1d51e4ef27dd",
            "5798cf012644463c9055713b24332543",
            "8ba165b274fe4640a567b112366afe04",
            "efe0525b071d4ab3a4fe5d51492e75df",
            "1a28b24a6f754881b7aa66c24c047ac9",
            "027532b86b9948cb8472270372957e8d",
            "a9f194240d28445b919af67f69b9239f",
            "aa65f12233ba40578367b5c416a98b65",
            "7b54e149c6154531b4a030a64b4fc3a8",
            "35845085ce11409fb05b80666798a13d",
            "4a62d98359554d24b7615d9c3622a9ab",
            "03e28307af124cfda60f94fea6f61f88",
            "471877dd6db14d5da9b304b757f7bf2a",
            "99b84a050a9b4ffdb822c16fecadc1dd",
            "08d79dc449154f6189ca8f48296221e8",
            "aec04ba2a9ac48d4a3d8b2a3514c79f4",
            "e9fe5dd092b64274985f5e6f23fbf05f",
            "9a36e27a9e3d4693a0e503d24eb349e1",
            "169a2b164d89432197cd4374c87dda27",
            "1a4cbd4c9b844ddda63239731b260384",
            "161df82401824cf497fa30bc1c8f96e9",
            "1dd5715c429f43ebb2e1056df0449498"
          ]
        },
        "outputId": "74a23b66-3178-4422-fc73-34e7169ab7c1"
      },
      "source": [
        "\n",
        "from transformers import GPT2LMHeadModel, GPT2Tokenizer\n",
        "tokenizer = GPT2Tokenizer.from_pretrained(\"gpt2\")\n",
        "\n",
        "# add the EOS token as PAD token to avoid warnings\n",
        "model = GPT2LMHeadModel.from_pretrained(\"gpt2\",pad_token_id=tokenizer.eos_token_id)"
      ],
      "execution_count": null,
      "outputs": [
        {
          "output_type": "display_data",
          "data": {
            "application/vnd.jupyter.widget-view+json": {
              "model_id": "55876bba14a74ed08ab3cca918d0d3e2",
              "version_minor": 0,
              "version_major": 2
            },
            "text/plain": [
              "HBox(children=(FloatProgress(value=0.0, description='Downloading', max=1042301.0, style=ProgressStyle(descript…"
            ]
          },
          "metadata": {
            "tags": []
          }
        },
        {
          "output_type": "stream",
          "text": [
            "\n"
          ],
          "name": "stdout"
        },
        {
          "output_type": "display_data",
          "data": {
            "application/vnd.jupyter.widget-view+json": {
              "model_id": "ce3e610f340e4126bd536414d52a9430",
              "version_minor": 0,
              "version_major": 2
            },
            "text/plain": [
              "HBox(children=(FloatProgress(value=0.0, description='Downloading', max=456318.0, style=ProgressStyle(descripti…"
            ]
          },
          "metadata": {
            "tags": []
          }
        },
        {
          "output_type": "stream",
          "text": [
            "\n"
          ],
          "name": "stdout"
        },
        {
          "output_type": "display_data",
          "data": {
            "application/vnd.jupyter.widget-view+json": {
              "model_id": "a9f194240d28445b919af67f69b9239f",
              "version_minor": 0,
              "version_major": 2
            },
            "text/plain": [
              "HBox(children=(FloatProgress(value=0.0, description='Downloading', max=665.0, style=ProgressStyle(description_…"
            ]
          },
          "metadata": {
            "tags": []
          }
        },
        {
          "output_type": "stream",
          "text": [
            "\n"
          ],
          "name": "stdout"
        },
        {
          "output_type": "display_data",
          "data": {
            "application/vnd.jupyter.widget-view+json": {
              "model_id": "08d79dc449154f6189ca8f48296221e8",
              "version_minor": 0,
              "version_major": 2
            },
            "text/plain": [
              "HBox(children=(FloatProgress(value=0.0, description='Downloading', max=548118077.0, style=ProgressStyle(descri…"
            ]
          },
          "metadata": {
            "tags": []
          }
        },
        {
          "output_type": "stream",
          "text": [
            "\n"
          ],
          "name": "stdout"
        }
      ]
    },
    {
      "cell_type": "code",
      "metadata": {
        "id": "_DrM_1Mtcvwr",
        "colab": {
          "base_uri": "https://localhost:8080/"
        },
        "outputId": "653cc04c-da39-46f9-8a1b-af6bb0d789d6"
      },
      "source": [
        "from sentence_transformers import SentenceTransformer\n",
        "# Load the BERT model. Various models trained on Natural Language Inference (NLI) https://github.com/UKPLab/sentence-transformers/blob/master/docs/pretrained-models/nli-models.md and \n",
        "# Semantic Textual Similarity are available https://github.com/UKPLab/sentence-transformers/blob/master/docs/pretrained-models/sts-models.md\n",
        "model_BERT = SentenceTransformer('bert-base-nli-mean-tokens')"
      ],
      "execution_count": null,
      "outputs": [
        {
          "output_type": "stream",
          "text": [
            "100%|██████████| 405M/405M [00:32<00:00, 12.5MB/s]\n"
          ],
          "name": "stderr"
        }
      ]
    },
    {
      "cell_type": "code",
      "metadata": {
        "id": "QwXJ1l1DdTzu"
      },
      "source": [
        "import torch"
      ],
      "execution_count": null,
      "outputs": []
    },
    {
      "cell_type": "code",
      "metadata": {
        "id": "SFkO3wx2cvZk",
        "colab": {
          "base_uri": "https://localhost:8080/",
          "height": 661
        },
        "outputId": "30cfb7f4-00ac-4d76-9c50-41ec02787d66"
      },
      "source": [
        "from nltk import tokenize\n",
        "import scipy\n",
        "torch.manual_seed(2020)\n",
        "\n",
        "\n",
        "def sort_by_similarity(original_sentence,generated_sentences_list):\n",
        "    # Each sentence is encoded as a 1-D vector with 768 columns\n",
        "    sentence_embeddings = model_BERT.encode(generated_sentences_list)\n",
        "\n",
        "    queries = [original_sentence]\n",
        "    query_embeddings = model_BERT.encode(queries)\n",
        "    # Find the top sentences of the corpus for each query sentence based on cosine similarity\n",
        "    number_top_matches = len(generated_sentences_list)\n",
        "\n",
        "    dissimilar_sentences = []\n",
        "\n",
        "    for query, query_embedding in zip(queries, query_embeddings):\n",
        "        distances = scipy.spatial.distance.cdist([query_embedding], sentence_embeddings, \"cosine\")[0]\n",
        "\n",
        "        results = zip(range(len(distances)), distances)\n",
        "        results = sorted(results, key=lambda x: x[1])\n",
        "\n",
        "\n",
        "        for idx, distance in reversed(results[0:number_top_matches]):\n",
        "            score = 1-distance\n",
        "            if score < 0.9:\n",
        "                dissimilar_sentences.append(generated_sentences_list[idx].strip())\n",
        "           \n",
        "    sorted_dissimilar_sentences = sorted(dissimilar_sentences, key=len)\n",
        "    \n",
        "    return sorted_dissimilar_sentences[:3]\n",
        "    \n",
        "\n",
        "def generate_sentences(partial_sentence,full_sentence):\n",
        "    input_ids = torch.tensor([tokenizer.encode(partial_sentence)])\n",
        "    maximum_length = len(partial_sentence.split())+80\n",
        "\n",
        "    # Actiavte top_k sampling and top_p sampling with only from 90% most likely words\n",
        "    sample_outputs = model.generate(\n",
        "        input_ids, \n",
        "        do_sample=True, \n",
        "        max_length=maximum_length, \n",
        "        top_p=0.90, # 0.85 \n",
        "        top_k=50,   #0.30\n",
        "        repetition_penalty  = 10.0,\n",
        "        num_return_sequences=10\n",
        "    )\n",
        "    generated_sentences=[]\n",
        "    for i, sample_output in enumerate(sample_outputs):\n",
        "        decoded_sentences = tokenizer.decode(sample_output, skip_special_tokens=True)\n",
        "        decoded_sentences_list = tokenize.sent_tokenize(decoded_sentences)\n",
        "        generated_sentences.append(decoded_sentences_list[0])\n",
        "        \n",
        "    top_3_sentences = sort_by_similarity(full_sentence,generated_sentences)\n",
        "    \n",
        "    return top_3_sentences\n",
        "\n",
        "index = 1\n",
        "choice_list = [\"a)\",\"b)\",\"c)\",\"d)\",\"e)\",\"f)\"]\n",
        "for key_sentence in sent_completion_dict:\n",
        "    partial_sentences = sent_completion_dict[key_sentence]\n",
        "    false_sentences =[]\n",
        "    print_string = \"**%s) True Sentence (from the story) :**\"%(str(index))\n",
        "    printmd(print_string)\n",
        "    print (\"  \",key_sentence)\n",
        "    for partial_sent in partial_sentences:\n",
        "        false_sents = generate_sentences(partial_sent,key_sentence)\n",
        "        false_sentences.extend(false_sents)\n",
        "    printmd(\"  **False Sentences (GPT-2 Generated)**\")\n",
        "    for ind,false_sent in enumerate(false_sentences):\n",
        "        print_string_choices = \"**%s** %s\"%(choice_list[ind],false_sent)\n",
        "        printmd(print_string_choices)\n",
        "    index = index+1\n",
        "    \n",
        "    print (\"\\n\\n\")\n",
        "        \n",
        "\n"
      ],
      "execution_count": null,
      "outputs": [
        {
          "output_type": "display_data",
          "data": {
            "text/markdown": "**1) True Sentence (from the story) :**",
            "text/plain": [
              "<IPython.core.display.Markdown object>"
            ]
          },
          "metadata": {
            "tags": []
          }
        },
        {
          "output_type": "stream",
          "text": [
            "   The convenience and high efficiency of using electronic products is being noticed by people worldwide\n"
          ],
          "name": "stdout"
        },
        {
          "output_type": "display_data",
          "data": {
            "text/markdown": "  **False Sentences (GPT-2 Generated)**",
            "text/plain": [
              "<IPython.core.display.Markdown object>"
            ]
          },
          "metadata": {
            "tags": []
          }
        },
        {
          "output_type": "display_data",
          "data": {
            "text/markdown": "**a)** The convenience and high efficiency of using electronic products is being noticed by more than 20 million consumers.",
            "text/plain": [
              "<IPython.core.display.Markdown object>"
            ]
          },
          "metadata": {
            "tags": []
          }
        },
        {
          "output_type": "display_data",
          "data": {
            "text/markdown": "**b)** The convenience and high efficiency of using electronic products is being noticed by the general public, but this has not been recognized at a rapid pace.",
            "text/plain": [
              "<IPython.core.display.Markdown object>"
            ]
          },
          "metadata": {
            "tags": []
          }
        },
        {
          "output_type": "display_data",
          "data": {
            "text/markdown": "**c)** The convenience and high efficiency of using electronic products is being noticed by many companies, for example from the consumer electronics retailer Samsung.",
            "text/plain": [
              "<IPython.core.display.Markdown object>"
            ]
          },
          "metadata": {
            "tags": []
          }
        },
        {
          "output_type": "display_data",
          "data": {
            "text/markdown": "**d)** The convenience and high efficiency of using electronic products is being promoted by new devices.",
            "text/plain": [
              "<IPython.core.display.Markdown object>"
            ]
          },
          "metadata": {
            "tags": []
          }
        },
        {
          "output_type": "display_data",
          "data": {
            "text/markdown": "**e)** The convenience and high efficiency of using electronic products is being taken to great effect,\" he added.",
            "text/plain": [
              "<IPython.core.display.Markdown object>"
            ]
          },
          "metadata": {
            "tags": []
          }
        },
        {
          "output_type": "display_data",
          "data": {
            "text/markdown": "**f)** The convenience and high efficiency of using electronic products is being tested in laboratories across the world, including North America.",
            "text/plain": [
              "<IPython.core.display.Markdown object>"
            ]
          },
          "metadata": {
            "tags": []
          }
        },
        {
          "output_type": "stream",
          "text": [
            "\n",
            "\n",
            "\n"
          ],
          "name": "stdout"
        },
        {
          "output_type": "display_data",
          "data": {
            "text/markdown": "**2) True Sentence (from the story) :**",
            "text/plain": [
              "<IPython.core.display.Markdown object>"
            ]
          },
          "metadata": {
            "tags": []
          }
        },
        {
          "output_type": "stream",
          "text": [
            "   In this essay, I will discuss that if surveillance technology such as RFID (radio-frequency identification) should be used or not to track people\n"
          ],
          "name": "stdout"
        },
        {
          "output_type": "display_data",
          "data": {
            "text/markdown": "  **False Sentences (GPT-2 Generated)**",
            "text/plain": [
              "<IPython.core.display.Markdown object>"
            ]
          },
          "metadata": {
            "tags": []
          }
        },
        {
          "output_type": "display_data",
          "data": {
            "text/markdown": "**a)** In this essay, I will discuss that if surveillance technology such as RFID (radio-frequency identification) should be used or not to track people and companies from day one in your society by the government.",
            "text/plain": [
              "<IPython.core.display.Markdown object>"
            ]
          },
          "metadata": {
            "tags": []
          }
        },
        {
          "output_type": "display_data",
          "data": {
            "text/markdown": "**b)** In this essay, I will discuss that if surveillance technology such as RFID (radio-frequency identification) should be used or not to track individuals who do something in the privacy of their own homes instead rather than at work.",
            "text/plain": [
              "<IPython.core.display.Markdown object>"
            ]
          },
          "metadata": {
            "tags": []
          }
        },
        {
          "output_type": "display_data",
          "data": {
            "text/markdown": "**c)** In this essay, I will discuss that if surveillance technology such as RFID (radio-frequency identification) should be used or not to track every location of someone who has paid the bill and is suspected by law enforcement agencies.",
            "text/plain": [
              "<IPython.core.display.Markdown object>"
            ]
          },
          "metadata": {
            "tags": []
          }
        },
        {
          "output_type": "display_data",
          "data": {
            "text/markdown": "**d)** In this essay, I will discuss that if surveillance technology such as RFID (radio-frequency identification) should be used or not to keep track of what is going on inside our homes and businesses.",
            "text/plain": [
              "<IPython.core.display.Markdown object>"
            ]
          },
          "metadata": {
            "tags": []
          }
        },
        {
          "output_type": "display_data",
          "data": {
            "text/markdown": "**e)** In this essay, I will discuss that if surveillance technology such as RFID (radio-frequency identification) should be used or not to identify individuals from the United States and other places then there are good reasons for using it.",
            "text/plain": [
              "<IPython.core.display.Markdown object>"
            ]
          },
          "metadata": {
            "tags": []
          }
        },
        {
          "output_type": "display_data",
          "data": {
            "text/markdown": "**f)** In this essay, I will discuss that if surveillance technology such as RFID (radio-frequency identification) should be used or not to locate terrorist suspects using search warrants and/or law enforcement agencies it is only because of a need for effective monitoring.",
            "text/plain": [
              "<IPython.core.display.Markdown object>"
            ]
          },
          "metadata": {
            "tags": []
          }
        },
        {
          "output_type": "stream",
          "text": [
            "\n",
            "\n",
            "\n"
          ],
          "name": "stdout"
        }
      ]
    },
    {
      "cell_type": "code",
      "metadata": {
        "id": "qf6cY7Wdcru-"
      },
      "source": [
        ""
      ],
      "execution_count": null,
      "outputs": []
    },
    {
      "cell_type": "code",
      "metadata": {
        "colab": {
          "base_uri": "https://localhost:8080/",
          "height": 181
        },
        "id": "IR1SG59VMNb7",
        "outputId": "ddd33e09-5fa8-4aae-bbc3-bbe5bddd8ba8"
      },
      "source": [
        "sentences[2]"
      ],
      "execution_count": null,
      "outputs": [
        {
          "output_type": "execute_result",
          "data": {
            "application/vnd.google.colaboratory.intrinsic+json": {
              "type": "string"
            },
            "text/plain": [
              "'\\nRisks can be analyzed if there is a record of what was happened in the past. In late nineteenth century, there was a severe air crash happening at Miami international airport. The air cargo of the Valujet plane was on fire after the plane had taken off. Sooner or later, the electric systems were short circuited as a result that the airplane was out of control and nose diving to the ground with extremely high speed. All passengers and pilots were died. After finding and analyzing the black box of the Valujet after the incidence, police investigators found out reasons for causing this severe incidence. Surveillance technology can be used to detect very risky events and prevent its happening in the future, hence to save more lives. In addition, if surveillance technology is even better developed, it can be used to detect the problem before the real accidence has happened.\\n'"
            ]
          },
          "metadata": {
            "tags": []
          },
          "execution_count": 30
        }
      ]
    }
  ]
}